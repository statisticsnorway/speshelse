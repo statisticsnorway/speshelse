{
 "cells": [
  {
   "cell_type": "markdown",
   "id": "6665874c-ebc2-4f7e-bdb7-e9c671a47915",
   "metadata": {
    "toc-hr-collapsed": true
   },
   "source": [
    "# Introduksjon"
   ]
  },
  {
   "cell_type": "markdown",
   "id": "a6fd000f-26de-40a3-ae9e-b50c5ce1c399",
   "metadata": {},
   "source": [
    "## Forfatter(e)\n",
    "1. Magne Furuholmen Myhren . Basert på en rekke sas-filer, tidligere drop-lister og spesifikk kompetanse fra kollegaer (30.09.22)."
   ]
  },
  {
   "cell_type": "markdown",
   "id": "0fb98653-5422-4f90-9a9d-e2ac1c4e26aa",
   "metadata": {},
   "source": [
    "## Forklaring\n",
    "\n",
    "Denne notebooken bruker data fra SFU, KLASS og DYNAREV til å sette sammen _droplister_ til hvert skjema spesialisthelsetjenesten sender ut. Droplister er .csv-filer som inneholder en oversikt over alle foretak som har rapporteringsansvar, enten bare for seg selv eller for undervirksomheter. \n",
    "\n",
    "For at filene skal passe med KOSTRA-IT sine programmer, må de ha en bestemt utforming hvor kolonnenes rekkefølge har betydning og noen kolonner har særskilte krav når det kommer linjeskift og tegnsetting.\n",
    "\n",
    "Notebooken er en fullverdig erstatning for et helt løp tidligere gjort i SAS."
   ]
  },
  {
   "cell_type": "markdown",
   "id": "2bac5232-ff0e-44fe-9e17-741eb5af1645",
   "metadata": {},
   "source": [
    "## Følgende datakilder må være oppdatert\n",
    "\n",
    "- [x] Standardtabell 603, 604 og 605 i KLASS\n",
    "- [x] SFU (DYNAREV delregister 24xx og 19377xx)"
   ]
  },
  {
   "cell_type": "markdown",
   "id": "55ba825d-97d1-4ddd-bba9-dc09c9aa6191",
   "metadata": {},
   "source": [
    "## Oversikt over skjema\n",
    "```Variabel``` er variabelnavnet som peker til droplisten."
   ]
  },
  {
   "cell_type": "markdown",
   "id": "f2658970-6641-401e-a360-35386dc88748",
   "metadata": {},
   "source": [
    "  Variabel      |  Skjemanavn      |  Forklaring                                       \n",
    "----------------|------------------|-------------------------------------------------------\n",
    "  skj0X         |  0X              |  Resultatregnskap for RFH og HF                       \n",
    "  skj0Y         |  0Y              |  Balanseregnskap for RFH og HF                        \n",
    "  skj38O        |  HELSE38O        |  TSB for offentlige helseforetak                      \n",
    "  skj38P        |  HELSE38P        |  TSB for private foretak                              \n",
    "  skj39         |  HELSE39         |  Resultatregnskap for private                         \n",
    "  skj40         |  HELSE40         |  Kontantstrømoppstilling                              \n",
    "  skj41         |  HELSE41         |  Private spesialister med driftsavtale                \n",
    "  skj44O        |  HELSE44O        |  Psykisk helsevern for voksne, offentlige             \n",
    "  skj44P        |  HELSE44P        |  Psykisk helsevern for voksne, private                \n",
    "  skj45O        |  HELSE45O        |  Psykisk helsevern for barn og unge, offentlige       \n",
    "  skj45P        |  HELSE45P        |  Psykisk helsevern for barn og unge, private          \n",
    "  skj46O        |  46O             |  Somatiske sykehus, offentlige                        \n",
    "  skj46P        |  HELSE46P        |  Somatiske sykehus, private                           \n",
    "  skj47         |  HELSE47         |  Somatiske institusjoner                              \n",
    "  skj48         |  HELSE48         |  Praksiskonsulentordningen                            "
   ]
  },
  {
   "cell_type": "markdown",
   "id": "94d9bcba-6c03-4119-b041-1b2ee334ccd5",
   "metadata": {
    "toc-hr-collapsed": true
   },
   "source": [
    "# Setup"
   ]
  },
  {
   "cell_type": "markdown",
   "id": "12272fa6-45a5-4ea1-bdf2-67f5da1f82e3",
   "metadata": {},
   "source": [
    "## Importerer pakker og setter innstillinger"
   ]
  },
  {
   "cell_type": "code",
   "execution_count": 19,
   "id": "2c7c9057-f6f3-47cb-9cb3-34e9327fbda4",
   "metadata": {
    "tags": []
   },
   "outputs": [],
   "source": [
    "import numpy as np\n",
    "import pandas as pd\n",
    "import cx_Oracle\n",
    "from db1p import query_db1p\n",
    "import getpass\n",
    "import os\n",
    "import requests\n",
    "from pandas.io.json import json_normalize #package for flattening json in pandas df\n",
    "\n",
    "# Fjerner begrensning på antall rader og kolonner som vises av gangen\n",
    "pd.set_option(\"display.max_columns\", None)\n",
    "pd.set_option('display.max_rows', 300)\n",
    "pd.set_option('display.max_colwidth', None)\n",
    "\n",
    "# Unngå standardform i output\n",
    "pd.set_option('display.float_format', lambda x: '%.0f' % x)"
   ]
  },
  {
   "cell_type": "markdown",
   "id": "77d9ffae-1b46-4a68-9c71-2b873029668c",
   "metadata": {},
   "source": [
    "## Velger årgang og delregister"
   ]
  },
  {
   "cell_type": "markdown",
   "id": "cca15190-e6a1-4a50-9273-f1097a8783d7",
   "metadata": {},
   "source": [
    "NB! For å lagre filene til angitt sti må `lagre_filer` settes til `True`."
   ]
  },
  {
   "cell_type": "code",
   "execution_count": 20,
   "id": "136506ea-99c2-4429-b794-ae5551fb5b9c",
   "metadata": {
    "tags": []
   },
   "outputs": [],
   "source": [
    "aargang = 2022\n",
    "siste_to_siffer_aargang = str(aargang)[-2:]\n",
    "\n",
    "aar_for = aargang - 1            # året før\n",
    "siste_to_siffer_aar_for = str(aar_for)[-2:]\n",
    "\n",
    "dato_idag = pd.Timestamp(\"today\").strftime(\"%d%m%y\")\n",
    "\n",
    "###############################################################################\n",
    "lagre_filer = False              # sett til True, hvis du vil lagre droplistene\n",
    "###############################################################################\n",
    "stamme_sti = \"/ssb/stamme01/fylkhels/speshelse/felles/droplister/\""
   ]
  },
  {
   "cell_type": "code",
   "execution_count": 21,
   "id": "b0ec936c-f200-4347-810c-b3a625ed6517",
   "metadata": {},
   "outputs": [],
   "source": [
    "# lagrer i mappe sortert på aargang og dagens dato. Lager ny mappe hvis\n",
    "# den allerede ikke eksisterer\n",
    "if lagre_filer:\n",
    "    if not os.path.exists(stamme_sti + str(aargang)):\n",
    "        os.makedirs(stamme_sti + str(aargang))\n",
    "\n",
    "    if not os.path.exists(stamme_sti + str(aargang) + \"/\" + dato_idag):\n",
    "        os.makedirs(stamme_sti + str(aargang) + \"/\" + dato_idag)\n",
    "\n",
    "    sti_til_lagring = stamme_sti + str(aargang) + \"/\" + dato_idag + \"/\""
   ]
  },
  {
   "cell_type": "markdown",
   "id": "362eb2c2-fa51-42f2-be5e-e2c5d8c52f2d",
   "metadata": {},
   "source": [
    "## Tilgang oracle"
   ]
  },
  {
   "cell_type": "code",
   "execution_count": 22,
   "id": "cf68b758-87ab-499a-bc60-8bb5ecc22c5f",
   "metadata": {
    "tags": []
   },
   "outputs": [
    {
     "name": "stdin",
     "output_type": "stream",
     "text": [
      "Oracle-passord:  ········\n"
     ]
    }
   ],
   "source": [
    "conn = cx_Oracle.connect(getpass.getuser()+\"/\"+getpass.getpass(prompt='Oracle-passord: ')+\"@DB1P\")"
   ]
  },
  {
   "cell_type": "markdown",
   "id": "2ac5382b-3980-4e78-87db-2af29bec2305",
   "metadata": {},
   "source": [
    "# Henter data"
   ]
  },
  {
   "cell_type": "markdown",
   "id": "045d671d-2072-4610-b77e-64c2536812bd",
   "metadata": {
    "toc-hr-collapsed": true
   },
   "source": [
    "##  fra KLASS"
   ]
  },
  {
   "cell_type": "markdown",
   "id": "d1a03c74-b5eb-494b-938a-3db005883a3f",
   "metadata": {},
   "source": [
    "### Offentlige helseforetak"
   ]
  },
  {
   "cell_type": "code",
   "execution_count": 24,
   "id": "36d704d1-4504-4649-8c3a-a65ee451a09f",
   "metadata": {},
   "outputs": [],
   "source": [
    "URL = f'http://data.ssb.no/api/klass/v1/classifications/603/codes.json?from={aargang}-01-01&includeFuture=True'\n",
    "r = requests.get(url = URL)\n",
    "offhelse_df = pd.read_json(r.text)\n",
    "offhelse_df = pd.json_normalize(offhelse_df['codes'])\n",
    "\n",
    "RHF_kode_klass = offhelse_df.query('level==\"1\"')[['code','name']]\n",
    "RHF_kode_klass = RHF_kode_klass.rename(columns = {'code':'HELSEREGION', 'name': 'RHF'})\n",
    "\n",
    "lvl2 = offhelse_df.query(\"level == '2'\")\n",
    "RHF_kode_klass = pd.merge(RHF_kode_klass, lvl2, how=\"left\", left_on=\"HELSEREGION\", right_on=\"parentCode\")\n",
    "RHF_kode_klass = RHF_kode_klass.rename(columns = {'code': 'ORGNR_FORETAK'})\n",
    "RHF_kode_klass = RHF_kode_klass[['HELSEREGION', 'RHF', 'ORGNR_FORETAK']]\n",
    "\n",
    "lvl2 = offhelse_df.query(\"level == '2'\")\n",
    "lvl3 = offhelse_df.query(\"level == '3'\")\n",
    "lvl2 = lvl2[['code', 'parentCode', 'name']]\n",
    "lvl3 = lvl3[['code', 'parentCode', 'name']]\n",
    "\n",
    "lvl2 = lvl2.rename(columns = {'parentCode':'HELSEREGION', 'name': 'RHF'})\n",
    "lvl3 = lvl3.rename(columns = {'code':'ORGNR_FORETAK', 'name': 'NAVN_KLASS'})"
   ]
  },
  {
   "cell_type": "code",
   "execution_count": 25,
   "id": "2f3debde-b109-4ad9-9a3d-b724b661b861",
   "metadata": {},
   "outputs": [],
   "source": [
    "HF = pd.merge(lvl3, lvl2, how=\"left\", left_on=\"parentCode\", right_on=\"code\")\n",
    "HF = HF[['ORGNR_FORETAK', 'NAVN_KLASS', 'HELSEREGION', 'RHF']]\n",
    "\n",
    "RHF_kode_klass['RHF'] = RHF_kode_klass['RHF'] + \" RHF\"\n",
    "RHF_kode_klass['NAVN_KLASS'] = RHF_kode_klass['RHF']"
   ]
  },
  {
   "cell_type": "markdown",
   "id": "28467052-9d53-492f-89a2-f7fba1f68c1c",
   "metadata": {
    "toc-hr-collapsed": true
   },
   "source": [
    "### Private helseinstitusjoner med oppdrags- og bestillerdokument"
   ]
  },
  {
   "cell_type": "code",
   "execution_count": 26,
   "id": "42d7c606-f9fa-47c3-a73c-ea0434b1e155",
   "metadata": {},
   "outputs": [],
   "source": [
    "URL = f'http://data.ssb.no/api/klass/v1/classifications/604/codes.json?from={aargang}-01-01&includeFuture=True'\n",
    "r = requests.get(url = URL)\n",
    "privhelse_df = pd.read_json(r.text)\n",
    "privhelse_df = pd.json_normalize(privhelse_df['codes'])\n",
    "\n",
    "temp = privhelse_df.query(\"level == '2'\")\n",
    "temp = temp[['code', 'parentCode', 'name']]\n",
    "temp = temp.rename(columns = {'code':'ORGNR_FORETAK','parentCode':'HELSEREGION', 'name': 'NAVN_KLASS'})\n",
    "temp = pd.merge(temp, RHF_kode_klass, how=\"left\")\n",
    "\n",
    "rapporteringsenheter = pd.concat([HF,temp])\n",
    "rapporteringsenheter = pd.concat([rapporteringsenheter,RHF_kode_klass])"
   ]
  },
  {
   "cell_type": "markdown",
   "id": "6f5c3227-bbfe-40a8-8ff8-6e7aaa218436",
   "metadata": {},
   "source": [
    "### Regionale og felleseide støtteforetak i spesialisthelsetjenesten"
   ]
  },
  {
   "cell_type": "code",
   "execution_count": 27,
   "id": "e13c0811-b074-4ec5-92ff-5545c0de9052",
   "metadata": {},
   "outputs": [],
   "source": [
    "URL = f'http://data.ssb.no/api/klass/v1/classifications/605/codes.json?from={aargang}-01-01&includeFuture=True'\n",
    "r = requests.get(url = URL)\n",
    "regfel_df = pd.read_json(r.text)\n",
    "regfel_df = pd.json_normalize(regfel_df['codes'])\n",
    "\n",
    "lvl2o = regfel_df.query(\"level == '2' & parentCode != '99'\")\n",
    "lvl3o = regfel_df.query(\"level == '3'\")\n",
    "lvl2o = lvl2o[['code', 'parentCode', 'name']]\n",
    "lvl3o = lvl3o[['code', 'parentCode', 'name']]\n",
    "lvl2o = lvl2o.rename(columns = {'parentCode':'HELSEREGION',\n",
    "                                'name': 'RHF'})\n",
    "lvl3o = lvl3o.rename(columns = {'code': 'ORGNR_FORETAK',\n",
    "                                'name': 'NAVN_KLASS'})\n",
    "\n",
    "temp = pd.merge(lvl3o, lvl2o, how=\"left\", left_on=\"parentCode\", right_on=\"code\")\n",
    "temp = temp[['ORGNR_FORETAK', 'NAVN_KLASS', 'HELSEREGION', 'RHF']]"
   ]
  },
  {
   "cell_type": "code",
   "execution_count": 28,
   "id": "23f28f43-4217-432f-bb0d-224b1df534b4",
   "metadata": {},
   "outputs": [],
   "source": [
    "rapporteringsenheter = pd.concat([rapporteringsenheter,temp])\n",
    "\n",
    "temp = regfel_df.query(\"level == '2' & parentCode == '99'\")\n",
    "temp = temp.rename(columns = {'code':'ORGNR_FORETAK', 'name': 'NAVN_KLASS', 'parentCode': 'HELSEREGION'})\n",
    "temp['RHF'] = \"FELLESEIDE STØTTEFORETAK\"\n",
    "temp = temp[['ORGNR_FORETAK', 'NAVN_KLASS', 'HELSEREGION', 'RHF']]"
   ]
  },
  {
   "cell_type": "code",
   "execution_count": 29,
   "id": "1b4fe229-4539-4f30-a477-221c3d192163",
   "metadata": {},
   "outputs": [],
   "source": [
    "rapporteringsenheter = pd.concat([rapporteringsenheter,temp])"
   ]
  },
  {
   "cell_type": "markdown",
   "id": "fd1778ff-bd9a-436a-b367-c2b14a8ca0e0",
   "metadata": {},
   "source": [
    "### Limer sammen all data fra KLASS"
   ]
  },
  {
   "cell_type": "code",
   "execution_count": 30,
   "id": "7d9eeadf-77c4-447c-8dc6-d1074bd67eea",
   "metadata": {},
   "outputs": [],
   "source": [
    "alle_foretak_virk = pd.concat([offhelse_df, privhelse_df, regfel_df])\n",
    "alle_foretak_virk = alle_foretak_virk[[\"code\", \"parentCode\", \"level\", \"name\"]]"
   ]
  },
  {
   "cell_type": "markdown",
   "id": "6f4b1bd9-5f37-4928-b0d5-3acf44f334bc",
   "metadata": {},
   "source": [
    "## VOF: liste over alle helseforetak"
   ]
  },
  {
   "cell_type": "code",
   "execution_count": 31,
   "id": "6fcb955a-2c1a-47d6-862c-64a44577fa87",
   "metadata": {},
   "outputs": [],
   "source": [
    "rapporteringsenheter_uten_RHF = rapporteringsenheter.query('~NAVN_KLASS.str.endswith(\"RHF\")',engine=\"python\")"
   ]
  },
  {
   "cell_type": "code",
   "execution_count": 32,
   "id": "ed93eee0-3156-40e4-b70e-cecd1fc6bb16",
   "metadata": {},
   "outputs": [],
   "source": [
    "r_orgnr = rapporteringsenheter_uten_RHF.ORGNR_FORETAK.to_numpy()"
   ]
  },
  {
   "cell_type": "code",
   "execution_count": 33,
   "id": "933ac334-3018-47ac-8f90-025b9f06b337",
   "metadata": {},
   "outputs": [
    {
     "name": "stderr",
     "output_type": "stream",
     "text": [
      "/tmp/ipykernel_155/2550278207.py:15: UserWarning: pandas only supports SQLAlchemy connectable (engine/connection) or database string URI or sqlite3 DBAPI2 connection. Other DBAPI2 objects are not tested. Please consider using SQLAlchemy.\n",
      "  vof_for = pd.read_sql_query(sporring_for, conn)\n",
      "/tmp/ipykernel_155/2550278207.py:25: UserWarning: pandas only supports SQLAlchemy connectable (engine/connection) or database string URI or sqlite3 DBAPI2 connection. Other DBAPI2 objects are not tested. Please consider using SQLAlchemy.\n",
      "  vof_bdr = pd.read_sql_query(sporring_bed, conn)\n"
     ]
    }
   ],
   "source": [
    "def lag_sql_str(arr):\n",
    "    s = \"(\"\n",
    "    for nr in arr:\n",
    "        s += \"'\" + str(nr) + \"',\"\n",
    "    s = s[:-1] + \")\"\n",
    "    return s\n",
    "\n",
    "sql_str = lag_sql_str(r_orgnr)\n",
    "\n",
    "sporring_for = f\"\"\"\n",
    "    SELECT FORETAKS_NR, ORGNR, NAVN\n",
    "    FROM DSBBASE.SSB_FORETAK\n",
    "    WHERE STATUSKODE = 'B' AND ORGNR IN {sql_str}\n",
    "\"\"\"\n",
    "vof_for = pd.read_sql_query(sporring_for, conn)\n",
    "\n",
    "fornummer = pd.Series(vof_for['FORETAKS_NR']).array\n",
    "sql_str = lag_sql_str(fornummer)\n",
    "\n",
    "sporring_bed = f\"\"\"\n",
    "    SELECT FORETAKS_NR, ORGNR, NAVN, KARAKTERISTIKK, SN07_1, SB_TYPE\n",
    "    FROM DSBBASE.SSB_BEDRIFT\n",
    "    WHERE STATUSKODE = 'B' AND FORETAKS_NR IN {sql_str}\n",
    "\"\"\"\n",
    "vof_bdr = pd.read_sql_query(sporring_bed, conn)\n"
   ]
  },
  {
   "cell_type": "markdown",
   "id": "21e70d26-41e7-43e7-b923-aac7592af405",
   "metadata": {},
   "source": [
    "Henter organisasjons- og foretaksnummer fra Virksomhets- og foretaksregisteret (VoF) og samler disse i én tabell kalt ```vof```"
   ]
  },
  {
   "cell_type": "code",
   "execution_count": 35,
   "id": "d8b1112b-33d2-4adb-965d-83c2978bc59b",
   "metadata": {},
   "outputs": [],
   "source": [
    "vof_for = vof_for.rename(columns = {'NAVN':'NAVN_FORETAK'})\n",
    "vof_for = vof_for.rename(columns = {'ORGNR':'ORGNR_FORETAK'})\n",
    "\n",
    "vof_bdr = vof_bdr.rename(columns = {'ORGNR':'ORGNR_BEDRIFT'})\n",
    "vof_bdr['KARAKTERISTIKK'] = vof_bdr['KARAKTERISTIKK'].fillna(\"\")\n",
    "vof_bdr['NAVN_BEDRIFT'] = vof_bdr['NAVN'] + \" \" + vof_bdr['KARAKTERISTIKK']\n",
    "\n",
    "vof_bdr=vof_bdr.drop(columns=['NAVN', 'KARAKTERISTIKK'])\n",
    "\n",
    "vof = pd.merge(vof_bdr,vof_for, how='left', on='FORETAKS_NR')\n",
    "vof = vof.drop(columns=['FORETAKS_NR'])\n",
    "\n",
    "rapporteringsenheter['ORGNR_FORETAK'] = rapporteringsenheter['ORGNR_FORETAK'].apply(str)\n",
    "rapporteringsenheter_vof = pd.merge(vof,rapporteringsenheter, how='left', on='ORGNR_FORETAK')"
   ]
  },
  {
   "cell_type": "code",
   "execution_count": 36,
   "id": "01372678-fcb2-404a-a2be-827653089de9",
   "metadata": {},
   "outputs": [
    {
     "name": "stdout",
     "output_type": "stream",
     "text": [
      "<class 'pandas.core.frame.DataFrame'>\n",
      "Int64Index: 1243 entries, 0 to 1242\n",
      "Data columns (total 9 columns):\n",
      " #   Column         Non-Null Count  Dtype \n",
      "---  ------         --------------  ----- \n",
      " 0   ORGNR_BEDRIFT  1243 non-null   object\n",
      " 1   SN07_1         1243 non-null   object\n",
      " 2   SB_TYPE        1243 non-null   object\n",
      " 3   NAVN_BEDRIFT   1243 non-null   object\n",
      " 4   ORGNR_FORETAK  1243 non-null   object\n",
      " 5   NAVN_FORETAK   1243 non-null   object\n",
      " 6   NAVN_KLASS     1243 non-null   object\n",
      " 7   HELSEREGION    1243 non-null   object\n",
      " 8   RHF            1206 non-null   object\n",
      "dtypes: object(9)\n",
      "memory usage: 97.1+ KB\n"
     ]
    }
   ],
   "source": [
    "rapporteringsenheter_vof.info()"
   ]
  },
  {
   "cell_type": "markdown",
   "id": "74477c0c-1b6e-463b-9944-694d3840f6b8",
   "metadata": {
    "tags": []
   },
   "source": [
    "## Dynarev"
   ]
  },
  {
   "cell_type": "markdown",
   "id": "f5d3c2a0-77bd-42df-af39-a87cafd4c028",
   "metadata": {},
   "source": [
    "Henter ut SFU og tar senere vare på de som har har non-missing på ```SKJEMA_TYPE```."
   ]
  },
  {
   "cell_type": "code",
   "execution_count": 37,
   "id": "0c8937f6-ae92-49ba-b29c-19d0088b1968",
   "metadata": {
    "tags": []
   },
   "outputs": [
    {
     "name": "stdout",
     "output_type": "stream",
     "text": [
      "Rader:    1601\n",
      "Kolonner: 127\n",
      "<class 'pandas.core.frame.DataFrame'>\n",
      "RangeIndex: 1601 entries, 0 to 1600\n",
      "Columns: 127 entries, DELREG_NR to STR_KODE\n",
      "dtypes: datetime64[ns](4), float64(2), int64(1), object(120)\n",
      "memory usage: 1.6+ MB\n"
     ]
    },
    {
     "name": "stderr",
     "output_type": "stream",
     "text": [
      "/tmp/ipykernel_155/2856274387.py:6: UserWarning: pandas only supports SQLAlchemy connectable (engine/connection) or database string URI or sqlite3 DBAPI2 connection. Other DBAPI2 objects are not tested. Please consider using SQLAlchemy.\n",
      "  SFU_data = pd.read_sql_query(sporring, conn)\n"
     ]
    }
   ],
   "source": [
    "sporring = f\"\"\"\n",
    "    SELECT *\n",
    "    FROM DSBBASE.DLR_ENHET_I_DELREG\n",
    "    WHERE DELREG_NR IN ('24{siste_to_siffer_aargang}')\n",
    "\"\"\"\n",
    "SFU_data = pd.read_sql_query(sporring, conn)\n",
    "print(f\"Rader:    {SFU_data.shape[0]}\\nKolonner: {SFU_data.shape[1]}\")\n",
    "SFU_data.info()\n"
   ]
  },
  {
   "cell_type": "code",
   "execution_count": 38,
   "id": "d1d7acac-aaa3-4974-84cb-05cd60623d16",
   "metadata": {},
   "outputs": [],
   "source": [
    "# Enheter med verdi i 'KVITT_TYPE' filtreres ut (de er nedlagte enheter). Fjerner også enheter uten ORGNR\n",
    "SFU_data = SFU_data[~SFU_data['KVITT_TYPE'].notnull()]\n",
    "SFU_data = SFU_data[SFU_data['ORGNR'].notnull()]"
   ]
  },
  {
   "cell_type": "code",
   "execution_count": 39,
   "id": "a2754dd6-1355-4573-8ccf-bd22666feb5d",
   "metadata": {},
   "outputs": [],
   "source": [
    "def hent_data_delreg24x_og_19377x(x, skjema):\n",
    "    sporring = f\"\"\"\n",
    "        SELECT *\n",
    "        FROM DYNAREV.VW_SKJEMA_DATA\n",
    "        WHERE DELREG_NR IN ('24{x}', '19377{x}') AND SKJEMA IN ('{skjema}') AND AKTIV = '1'\n",
    "    \"\"\"\n",
    "    sporring_df = pd.read_sql_query(sporring, conn)\n",
    "    sporring_df = sporring_df[['SKJEMA','ENHETS_ID', 'FELT_ID', 'FELT_VERDI']]\n",
    "    sporring_df = sporring_df.pivot(index=['ENHETS_ID','SKJEMA'], columns='FELT_ID', values='FELT_VERDI')\n",
    "    return sporring_df"
   ]
  },
  {
   "cell_type": "code",
   "execution_count": 40,
   "id": "542b4800-0ad4-4707-915b-0c045160ccd9",
   "metadata": {},
   "outputs": [
    {
     "name": "stderr",
     "output_type": "stream",
     "text": [
      "/tmp/ipykernel_155/1139750569.py:7: UserWarning: pandas only supports SQLAlchemy connectable (engine/connection) or database string URI or sqlite3 DBAPI2 connection. Other DBAPI2 objects are not tested. Please consider using SQLAlchemy.\n",
      "  sporring_df = pd.read_sql_query(sporring, conn)\n",
      "/tmp/ipykernel_155/1139750569.py:7: UserWarning: pandas only supports SQLAlchemy connectable (engine/connection) or database string URI or sqlite3 DBAPI2 connection. Other DBAPI2 objects are not tested. Please consider using SQLAlchemy.\n",
      "  sporring_df = pd.read_sql_query(sporring, conn)\n",
      "/tmp/ipykernel_155/1139750569.py:7: UserWarning: pandas only supports SQLAlchemy connectable (engine/connection) or database string URI or sqlite3 DBAPI2 connection. Other DBAPI2 objects are not tested. Please consider using SQLAlchemy.\n",
      "  sporring_df = pd.read_sql_query(sporring, conn)\n",
      "/tmp/ipykernel_155/1139750569.py:7: UserWarning: pandas only supports SQLAlchemy connectable (engine/connection) or database string URI or sqlite3 DBAPI2 connection. Other DBAPI2 objects are not tested. Please consider using SQLAlchemy.\n",
      "  sporring_df = pd.read_sql_query(sporring, conn)\n",
      "/tmp/ipykernel_155/1139750569.py:7: UserWarning: pandas only supports SQLAlchemy connectable (engine/connection) or database string URI or sqlite3 DBAPI2 connection. Other DBAPI2 objects are not tested. Please consider using SQLAlchemy.\n",
      "  sporring_df = pd.read_sql_query(sporring, conn)\n",
      "/tmp/ipykernel_155/1139750569.py:7: UserWarning: pandas only supports SQLAlchemy connectable (engine/connection) or database string URI or sqlite3 DBAPI2 connection. Other DBAPI2 objects are not tested. Please consider using SQLAlchemy.\n",
      "  sporring_df = pd.read_sql_query(sporring, conn)\n",
      "/tmp/ipykernel_155/1139750569.py:7: UserWarning: pandas only supports SQLAlchemy connectable (engine/connection) or database string URI or sqlite3 DBAPI2 connection. Other DBAPI2 objects are not tested. Please consider using SQLAlchemy.\n",
      "  sporring_df = pd.read_sql_query(sporring, conn)\n",
      "/tmp/ipykernel_155/1139750569.py:7: UserWarning: pandas only supports SQLAlchemy connectable (engine/connection) or database string URI or sqlite3 DBAPI2 connection. Other DBAPI2 objects are not tested. Please consider using SQLAlchemy.\n",
      "  sporring_df = pd.read_sql_query(sporring, conn)\n",
      "/tmp/ipykernel_155/1139750569.py:7: UserWarning: pandas only supports SQLAlchemy connectable (engine/connection) or database string URI or sqlite3 DBAPI2 connection. Other DBAPI2 objects are not tested. Please consider using SQLAlchemy.\n",
      "  sporring_df = pd.read_sql_query(sporring, conn)\n",
      "/tmp/ipykernel_155/1139750569.py:7: UserWarning: pandas only supports SQLAlchemy connectable (engine/connection) or database string URI or sqlite3 DBAPI2 connection. Other DBAPI2 objects are not tested. Please consider using SQLAlchemy.\n",
      "  sporring_df = pd.read_sql_query(sporring, conn)\n",
      "/tmp/ipykernel_155/1139750569.py:7: UserWarning: pandas only supports SQLAlchemy connectable (engine/connection) or database string URI or sqlite3 DBAPI2 connection. Other DBAPI2 objects are not tested. Please consider using SQLAlchemy.\n",
      "  sporring_df = pd.read_sql_query(sporring, conn)\n",
      "/tmp/ipykernel_155/1139750569.py:7: UserWarning: pandas only supports SQLAlchemy connectable (engine/connection) or database string URI or sqlite3 DBAPI2 connection. Other DBAPI2 objects are not tested. Please consider using SQLAlchemy.\n",
      "  sporring_df = pd.read_sql_query(sporring, conn)\n",
      "/tmp/ipykernel_155/1139750569.py:7: UserWarning: pandas only supports SQLAlchemy connectable (engine/connection) or database string URI or sqlite3 DBAPI2 connection. Other DBAPI2 objects are not tested. Please consider using SQLAlchemy.\n",
      "  sporring_df = pd.read_sql_query(sporring, conn)\n"
     ]
    }
   ],
   "source": [
    "skjemadata38O = hent_data_delreg24x_og_19377x(siste_to_siffer_aar_for, 'HELSE38O')\n",
    "skjemadata38P = hent_data_delreg24x_og_19377x(siste_to_siffer_aar_for, 'HELSE38P')\n",
    "skjemadata39  = hent_data_delreg24x_og_19377x(siste_to_siffer_aar_for, 'HELSE39')\n",
    "skjemadata40  = hent_data_delreg24x_og_19377x(siste_to_siffer_aar_for, 'HELSE40')\n",
    "skjemadata41  = hent_data_delreg24x_og_19377x(siste_to_siffer_aar_for, 'HELSE41')\n",
    "skjemadata44O = hent_data_delreg24x_og_19377x(siste_to_siffer_aar_for, 'HELSE44O')\n",
    "skjemadata44P = hent_data_delreg24x_og_19377x(siste_to_siffer_aar_for, 'HELSE44P')\n",
    "skjemadata45O = hent_data_delreg24x_og_19377x(siste_to_siffer_aar_for, 'HELSE45O')\n",
    "skjemadata45P = hent_data_delreg24x_og_19377x(siste_to_siffer_aar_for, 'HELSE45P')\n",
    "skjemadata46O = hent_data_delreg24x_og_19377x(siste_to_siffer_aar_for, '46O')           # skj46 bytter navn for ulike aarganger (fiks med klass?)\n",
    "skjemadata46P = hent_data_delreg24x_og_19377x(siste_to_siffer_aar_for, 'HELSE46P')\n",
    "skjemadata47  = hent_data_delreg24x_og_19377x(siste_to_siffer_aar_for, 'HELSE47')\n",
    "skjemadata48  = hent_data_delreg24x_og_19377x(siste_to_siffer_aar_for, 'HELSE48')"
   ]
  },
  {
   "cell_type": "markdown",
   "id": "6e10bd48-22f6-4b28-b2ce-c62c2bbdbe75",
   "metadata": {
    "tags": []
   },
   "source": [
    "# Setter sammen master-SFU-fil med all nødvendig informasjon"
   ]
  },
  {
   "cell_type": "markdown",
   "id": "112b1449-662d-4348-85fc-bad1a29e2e16",
   "metadata": {},
   "source": [
    "SFU: orgnummer, orgnummer_foretak, foretaksnavn, helseregionnavn, helseregionsnummer\n",
    "\"alle virksomhetene til speshelse ligger i 2421\"\n"
   ]
  },
  {
   "cell_type": "code",
   "execution_count": 41,
   "id": "76df7041-d931-4215-b58c-cbe0363377be",
   "metadata": {},
   "outputs": [],
   "source": [
    "SFUklass = pd.merge(SFU_data, rapporteringsenheter, how=\"left\", on=\"ORGNR_FORETAK\")\n",
    "\n",
    "SFUklass['HELSEREGION'] = SFUklass['HELSEREGION'].fillna(\"06\")\n",
    "\n",
    "SFUklass['SKJEMA_TYPE'] = SFUklass['SKJEMA_TYPE'].apply(lambda x: str(x).split(\" \"))\n",
    "SFUklass[['NAVN1', 'NAVN2', 'NAVN3', 'NAVN4', 'NAVN5']] = SFUklass[['NAVN1', 'NAVN2', 'NAVN3', 'NAVN4', 'NAVN5']].fillna(\"\")"
   ]
  },
  {
   "cell_type": "code",
   "execution_count": 42,
   "id": "c19e66dc-8a66-48e6-8016-9a781c617be4",
   "metadata": {},
   "outputs": [],
   "source": [
    "# Slår sammen alle navnekolonnene til en adskilt med ett mellomrom\n",
    "SFUklass['NAVN'] = SFUklass['NAVN1'] + \" \" +\\\n",
    "                   SFUklass['NAVN2'] + \" \" +\\\n",
    "                   SFUklass['NAVN3'] + \" \" +\\\n",
    "                   SFUklass['NAVN4'] + \" \" +\\\n",
    "                   SFUklass['NAVN5']\n",
    "SFUklass['NAVN'] = SFUklass['NAVN'].apply(lambda x: ' '.join(x.split()))"
   ]
  },
  {
   "cell_type": "markdown",
   "id": "261715f4-8818-409e-9c25-fdf7e10d9d70",
   "metadata": {},
   "source": [
    "# Lager droplister\n",
    "Sortert etter hva slags dropliste som skal lages."
   ]
  },
  {
   "cell_type": "code",
   "execution_count": 43,
   "id": "7814708d-865c-4a18-927e-53c52d5992d6",
   "metadata": {},
   "outputs": [],
   "source": [
    "# En liste over alle variabelnavn som peker til droplister\n",
    "skjemaer_til_droplister = [\"skj0X\", \"skj0Y\", \"skj38O\", \"skj38P\", \"skj39\", \"skj40\", \"skj41\",\n",
    "                           \"skj44O\", \"skj44P\", \"skj45O\", \"skj45P\", \"skj46O\",\n",
    "                           \"skj46P\", \"skj47\", \"skj48\", \"brukerliste_df\"]"
   ]
  },
  {
   "cell_type": "markdown",
   "id": "ef7bde0d-3915-4f10-980e-3220865f70d8",
   "metadata": {},
   "source": [
    "Funksjon som returnerer en tabell med alle rader som inneholder et gitt skjema:"
   ]
  },
  {
   "cell_type": "code",
   "execution_count": 44,
   "id": "5d114970-c8e0-497a-9a55-606e45676c75",
   "metadata": {},
   "outputs": [],
   "source": [
    "# eks: \n",
    "# tabell_som_inneholder_skjema(SFUklass, 'SKJEMA_TYPE', \"0X\")\n",
    "def tabell_som_inneholder_skjema(df, kol, skjemanavn):\n",
    "    ant = df.shape[0]\n",
    "    rader_med_skjemanavn = []\n",
    "    for i in range(ant):\n",
    "        if skjemanavn in df[kol].iloc[i]:\n",
    "            rader_med_skjemanavn.append(i)\n",
    "    return df.iloc[rader_med_skjemanavn]"
   ]
  },
  {
   "cell_type": "markdown",
   "id": "10f395c0-2ccf-40a1-befb-364ec8676a76",
   "metadata": {
    "toc-hr-collapsed": true
   },
   "source": [
    "## Skjemaer som hentes rett fra klass og SFU"
   ]
  },
  {
   "cell_type": "markdown",
   "id": "7b438ace-3c9c-4fc4-87f3-7b5c6b80990d",
   "metadata": {},
   "source": [
    "### 0X (Resultatregnskap for RHF og HF)"
   ]
  },
  {
   "cell_type": "code",
   "execution_count": 45,
   "id": "c2b9e18e-312b-4c2a-b606-db46655d0193",
   "metadata": {},
   "outputs": [],
   "source": [
    "# kolonner som skal være med i droplisten:\n",
    "kolonner0X0Y404148 = [\"USERID\", \"REGION_NR\", \"REGION_NAVN\", \"FORETAK_ORGNR\", \"FORETAK_NAVN\"]\n",
    "\n",
    "skj0X = tabell_som_inneholder_skjema(SFUklass, 'SKJEMA_TYPE', \"0X\")\n",
    "skj0X = skj0X.rename(columns = {'NAVN1':'FORETAK_NAVN',\n",
    "                                'ORGNR':'USERID',\n",
    "                                'HELSEREGION':'REGION_NR',\n",
    "                                'RHF':'REGION_NAVN'})\n",
    "skj0X['FORETAK_ORGNR'] = skj0X['USERID']\n",
    "\n",
    "skj0X = skj0X[kolonner0X0Y404148].sort_values('REGION_NR')"
   ]
  },
  {
   "cell_type": "markdown",
   "id": "2617e4ff-062e-4333-b879-c8c26626e97b",
   "metadata": {},
   "source": [
    "### 0Y (Balanseregnskap for RHF og HF)"
   ]
  },
  {
   "cell_type": "code",
   "execution_count": 46,
   "id": "56db7bf6-acc7-46f5-9f0b-82c965f8b96e",
   "metadata": {},
   "outputs": [],
   "source": [
    "skj0Y = tabell_som_inneholder_skjema(SFUklass, 'SKJEMA_TYPE', \"0Y\")\n",
    "skj0Y = skj0Y.rename(columns = {'NAVN1':'FORETAK_NAVN', \n",
    "                                'ORGNR':'USERID', \n",
    "                                'HELSEREGION':'REGION_NR', \n",
    "                                'RHF':'REGION_NAVN'})\n",
    "skj0Y['FORETAK_ORGNR'] = skj0Y['USERID']\n",
    "\n",
    "skj0Y = skj0Y[kolonner0X0Y404148].sort_values('REGION_NR')"
   ]
  },
  {
   "cell_type": "markdown",
   "id": "cbc5865c-396f-4dac-9150-81a17d3c95d2",
   "metadata": {},
   "source": [
    "### skj40 (Kontantstrømoppstilling)"
   ]
  },
  {
   "cell_type": "code",
   "execution_count": 47,
   "id": "3f02c759-c27c-4b72-8866-b734be67c7b0",
   "metadata": {},
   "outputs": [],
   "source": [
    "skj40 = tabell_som_inneholder_skjema(SFUklass, 'SKJEMA_TYPE', \"0Y\")\n",
    "skj40 = skj40.rename(columns = {'NAVN1':'FORETAK_NAVN',\n",
    "                                'ORGNR':'USERID',\n",
    "                                'HELSEREGION':'REGION_NR',\n",
    "                                'RHF':'REGION_NAVN'})\n",
    "skj40['FORETAK_ORGNR'] = skj40['USERID']\n",
    "\n",
    "skj40 = skj40[kolonner0X0Y404148].sort_values('REGION_NR')"
   ]
  },
  {
   "cell_type": "markdown",
   "id": "23c7b90a-10f8-477b-9272-30bbf419c62c",
   "metadata": {},
   "source": [
    "### skj41 (Private spesialister med driftsavtale)"
   ]
  },
  {
   "cell_type": "code",
   "execution_count": 48,
   "id": "11b7e7ec-7b40-4942-ab90-e62b31c8cd08",
   "metadata": {},
   "outputs": [],
   "source": [
    "skj41 = RHF_kode_klass.copy()\n",
    "skj41 = skj41.rename(columns = {'HELSEREGION': 'REGION_NR',\n",
    "                                'RHF': 'REGION_NAVN',\n",
    "                                'ORGNR_FORETAK': 'FORETAK_ORGNR'})\n",
    "skj41['USERID'] = skj41['FORETAK_ORGNR']\n",
    "skj41['FORETAK_NAVN'] = skj41['REGION_NAVN']\n",
    "skj41 = skj41[kolonner0X0Y404148]"
   ]
  },
  {
   "cell_type": "markdown",
   "id": "fdb22396-1c63-4d89-aabb-5670dfa91135",
   "metadata": {},
   "source": [
    "### skj48 (Praksiskonsulentordningen)"
   ]
  },
  {
   "cell_type": "code",
   "execution_count": 49,
   "id": "112a31fa-f437-4979-ae99-9d4ff995d4b0",
   "metadata": {},
   "outputs": [],
   "source": [
    "skj48 = tabell_som_inneholder_skjema(SFUklass, 'SKJEMA_TYPE', \"48\").copy()\n",
    "skj48 = skj48[[\"NAVN_KLASS\", \"ORGNR_FORETAK\", \"HELSEREGION\"]]\n",
    "skj48 = pd.merge(skj48, RHF_kode_klass[['HELSEREGION', 'RHF']], how=\"left\", on=\"HELSEREGION\")\n",
    "skj48 = pd.concat([skj48, HF])\n",
    "skj48 = skj48.rename(columns={\"NAVN_KLASS\": \"FORETAK_NAVN\",\n",
    "                              \"ORGNR_FORETAK\": \"FORETAK_ORGNR\",\n",
    "                              \"HELSEREGION\": \"REGION_NR\",\n",
    "                              \"RHF\": \"REGION_NAVN\"})\n",
    "skj48['USERID'] = skj48['FORETAK_ORGNR']\n",
    "\n",
    "skj48 = skj48[kolonner0X0Y404148] \\\n",
    "    .sort_values(\"REGION_NR\") \\\n",
    "    .reset_index(drop=True)"
   ]
  },
  {
   "cell_type": "markdown",
   "id": "0f0f65fb-028f-4a2f-89c6-e0e3a9cc4878",
   "metadata": {
    "toc-hr-collapsed": true
   },
   "source": [
    "## Skjemaer til offentlige foretak\n",
    "Inneholder et visst antall kolonner med virksomheters navn og orgnr."
   ]
  },
  {
   "cell_type": "code",
   "execution_count": 50,
   "id": "4acf2bf2-0f50-4434-91a8-8f7568675a7d",
   "metadata": {},
   "outputs": [],
   "source": [
    "def lag_navn_orgnr_kolonnenavn(ant_kolonner):\n",
    "    nvn, org = [], []\n",
    "    for i in range(1,ant_kolonner+1):\n",
    "        nvn.append(f'NAVN_VIRK{i}')\n",
    "        org.append(f'ORGNR_VIRK{i}')\n",
    "    return nvn, org"
   ]
  },
  {
   "cell_type": "markdown",
   "id": "7bd19bdb-d593-4852-89c8-3a34c47adffc",
   "metadata": {},
   "source": [
    "Denne funksjonen tar inn en dataframe med undervirksomheter som hører til et foretaksnummer og antall kolonner som skal være med i droplisten. Undervirksomhetene legges etterhverandre med riktig korrespondanse mellom navn- og orgnr-kolonner."
   ]
  },
  {
   "cell_type": "code",
   "execution_count": 51,
   "id": "deaca36f-810b-4e79-9165-8d492c42b602",
   "metadata": {},
   "outputs": [],
   "source": [
    "def lag_navn_orgnr_kolonner(fvdf, ant_kolonner, med_foretak = True):\n",
    "    foretak_rader = fvdf.ORGNR_FORETAK.value_counts().index.to_numpy()              # tar ut unike foretaksnummer i en liste\n",
    "\n",
    "    foretak_org_df = -1\n",
    "    for nr in foretak_rader:                                                        # blar gjennom listen og lager kolonner til hvert foretak\n",
    "        if med_foretak:\n",
    "            orgnr_df = fvdf.query(f'ORGNR_FORETAK  == \"{nr}\"')['ORGNR']\n",
    "            navn_df = fvdf.query(f'ORGNR_FORETAK  == \"{nr}\"')['NAVN']\n",
    "        else:\n",
    "            orgnr_df = fvdf.query(f'ORGNR_FORETAK  == \"{nr}\" and ORGNR != \"{nr}\"')['ORGNR']\n",
    "            navn_df = fvdf.query(f'ORGNR_FORETAK  == \"{nr}\" and ORGNR != \"{nr}\"')['NAVN']    \n",
    "\n",
    "        ant_virksomheter = orgnr_df.shape[0]\n",
    "        tom_df = pd.Series(np.nan, index=range(ant_kolonner-ant_virksomheter))\n",
    "        orgnr_df = pd.concat([orgnr_df, tom_df], axis=0)\n",
    "        orgnr_df.index = orgnr_virk\n",
    "\n",
    "        ant_navn = navn_df.shape[0]\n",
    "        tom_df = pd.Series(np.nan, index=range(ant_kolonner-ant_navn))\n",
    "        navn_df = pd.concat([navn_df, tom_df], axis=0)\n",
    "        navn_df.index = navn_virk\n",
    "\n",
    "        foretak_df = pd.concat([orgnr_df, navn_df], axis=0)\n",
    "        foretak_df['ORGNR_FORETAK'] = nr\n",
    "\n",
    "        if type(foretak_org_df) == int:                                             # limer sammen hvert foretak med nye kolonner til en stor tabell\n",
    "            foretak_org_df = foretak_df\n",
    "        else:\n",
    "            foretak_org_df = pd.concat([foretak_org_df, foretak_df], axis = 1)\n",
    "    return foretak_org_df.transpose()"
   ]
  },
  {
   "cell_type": "markdown",
   "id": "bf631d51-aceb-4a30-8098-edf2d449a6b7",
   "metadata": {
    "toc-hr-collapsed": true
   },
   "source": [
    "### skj38O (TSB for offentlige helseforetak)"
   ]
  },
  {
   "cell_type": "markdown",
   "id": "7ad72976-aa9c-4f56-a2f4-0f6546290fc4",
   "metadata": {},
   "source": [
    "Alle offentlige helseforetak foruten ```SUNNAAS```. Bruker ```HF```-tabellen laget i kapittel 2.1.1"
   ]
  },
  {
   "cell_type": "code",
   "execution_count": 52,
   "id": "a47a8e3d-d010-4bee-ada0-321b7cd4603c",
   "metadata": {
    "tags": []
   },
   "outputs": [],
   "source": [
    "# Henter døgnplasser fra foregående år\n",
    "d_plass_fjor = (skjemadata38O[['FORETAKETS_ORGNR','DGN_DGN']].reset_index().copy()\n",
    "                [['FORETAKETS_ORGNR','DGN_DGN']]\n",
    "                .rename(columns={'DGN_DGN': 'D_PLAS_FJOR'}))"
   ]
  },
  {
   "cell_type": "code",
   "execution_count": 53,
   "id": "8606ad88-c436-43f0-8f26-6626132422b6",
   "metadata": {
    "tags": []
   },
   "outputs": [],
   "source": [
    "skj38O = HF.query('ORGNR_FORETAK != \"883971752\"').copy()                           # Tar ut SUNNAAS"
   ]
  },
  {
   "cell_type": "code",
   "execution_count": 54,
   "id": "ce218427-2e5b-4e2f-ae9d-3008467dedf8",
   "metadata": {},
   "outputs": [],
   "source": [
    "# Lager kolonneoverskrifter i tråd med tidligere droplister:\n",
    "navn_virk, orgnr_virk = lag_navn_orgnr_kolonnenavn(20)\n",
    "\n",
    "onskede_kolonner = [\"USERID\", \"HELSEREGION\", \"HELSEREGION_NAVN\",\n",
    "                    \"FORETAKETS_ORGNR\", \"FORETAKETS_NAVN\",\n",
    "                    \"D_PLAS_FJOR\"] + orgnr_virk + navn_virk"
   ]
  },
  {
   "cell_type": "markdown",
   "id": "765b8c98-39d6-4026-bd0e-89f760733371",
   "metadata": {},
   "source": [
    "Henter data fra SFU med næringskode (\"86.106\") og statuskode (\"B\")\n",
    "Næringskode i kolonne SN07_1"
   ]
  },
  {
   "cell_type": "code",
   "execution_count": 55,
   "id": "4166b696-ed29-48ed-af8b-95ab681e1754",
   "metadata": {},
   "outputs": [],
   "source": [
    "skj38O['tmp_bool'] = True"
   ]
  },
  {
   "cell_type": "code",
   "execution_count": 56,
   "id": "05ddf47e-90f7-4cfe-96d6-796fedb0d434",
   "metadata": {},
   "outputs": [],
   "source": [
    "finne_virksomheter_df = pd.merge(SFUklass, skj38O, how=\"left\", on=[\"ORGNR_FORETAK\", \"RHF\", \"NAVN_KLASS\", \"HELSEREGION\"])\n",
    "finne_virksomheter_df = finne_virksomheter_df.query('tmp_bool == True and SN07_1 == \"86.106\" and STATUS == \"B\"')\n",
    "finne_virksomheter_df = finne_virksomheter_df[['ORGNR','ORGNR_FORETAK','NAVN']]"
   ]
  },
  {
   "cell_type": "code",
   "execution_count": 57,
   "id": "2e0b083e-bef0-424a-933b-fa9c672e65ce",
   "metadata": {
    "tags": []
   },
   "outputs": [],
   "source": [
    "undervirksomheter_navn_og_kolonner = lag_navn_orgnr_kolonner(finne_virksomheter_df, 20)"
   ]
  },
  {
   "cell_type": "code",
   "execution_count": 58,
   "id": "7bc6bcdd-ad1e-441e-886d-f27991fb0615",
   "metadata": {},
   "outputs": [],
   "source": [
    "skj38O = pd.merge(skj38O, undervirksomheter_navn_og_kolonner, how=\"left\", on=\"ORGNR_FORETAK\")\n",
    "\n",
    "skj38O['USERID'] = skj38O['ORGNR_FORETAK']\n",
    "skj38O = skj38O.rename(columns={\"ORGNR_FORETAK\": \"FORETAKETS_ORGNR\",\n",
    "                                \"NAVN_KLASS\": \"FORETAKETS_NAVN\",\n",
    "                                \"RHF\": \"HELSEREGION_NAVN\"})\n",
    "\n",
    "skj38O = pd.merge(skj38O, d_plass_fjor, how=\"left\", on=\"FORETAKETS_ORGNR\")\n",
    "\n",
    "skj38O = skj38O[onskede_kolonner]"
   ]
  },
  {
   "cell_type": "markdown",
   "id": "e83aee65-ac56-4130-a448-76c495c86d1f",
   "metadata": {},
   "source": [
    "### skj44O (Psykisk helsevern for voksne PHFV)"
   ]
  },
  {
   "cell_type": "markdown",
   "id": "04ea3929-f0c8-40a1-bef3-faa3d4a59d4e",
   "metadata": {},
   "source": [
    "OBS: Nye enheter 2022"
   ]
  },
  {
   "cell_type": "markdown",
   "id": "497e6dd0-3653-4ca4-aec2-2831f62c13c5",
   "metadata": {},
   "source": [
    "Alle offentlige helseforetak foruten ```SUNNAAS```. Bruker ```HF```-tabellen laget i kapittel 2.1.1"
   ]
  },
  {
   "cell_type": "code",
   "execution_count": 59,
   "id": "cc713fa0-bbc6-4405-a520-f44cbc548f18",
   "metadata": {
    "tags": []
   },
   "outputs": [],
   "source": [
    "# Henter døgnplasser fra foregående år\n",
    "d_plass_fjor = (skjemadata44O[['FORETAKETS_ORGNR','D_PLAS_T']].reset_index().copy()\n",
    "                [['FORETAKETS_ORGNR','D_PLAS_T']]\n",
    "                .rename(columns={'D_PLAS_T': 'D_PLAS_FJOR'}))"
   ]
  },
  {
   "cell_type": "code",
   "execution_count": 60,
   "id": "987d9556-70be-4dbc-9fd3-7cc0ab234798",
   "metadata": {
    "tags": []
   },
   "outputs": [],
   "source": [
    "skj44O = HF.query('ORGNR_FORETAK != \"883971752\"').copy()                    # Tar ut SUNNAAS"
   ]
  },
  {
   "cell_type": "code",
   "execution_count": 61,
   "id": "83e33fe5-2836-4b19-90d1-7f8fce581750",
   "metadata": {},
   "outputs": [],
   "source": [
    "# Lager kolonneoverskrifter i tråd med tidligere .csv-filer:\n",
    "navn_virk, orgnr_virk = lag_navn_orgnr_kolonnenavn(20)\n",
    "\n",
    "onskede_kolonner = [\"USERID\", \"HELSEREGION\", \"HELSEREGION_NAVN\",\n",
    "                    \"FORETAKETS_ORGNR\", \"FORETAKETS_NAVN\",\n",
    "                    \"D_PLAS_FJOR\"] + orgnr_virk + navn_virk"
   ]
  },
  {
   "cell_type": "markdown",
   "id": "4fc588de-70be-4e8d-a970-cc9821b28010",
   "metadata": {},
   "source": [
    "Henter data fra SFU med næringskode (\"86.104\") og statuskode (\"B\"). Finner næringskoden i kolonne ```SN07_1```"
   ]
  },
  {
   "cell_type": "code",
   "execution_count": 62,
   "id": "fd0e2889-ae91-4817-83ae-a0ca32d5fa8f",
   "metadata": {},
   "outputs": [],
   "source": [
    "skj44O['tmp_bool'] = True"
   ]
  },
  {
   "cell_type": "code",
   "execution_count": 63,
   "id": "e350107e-ddec-45a9-a293-efb2534c013e",
   "metadata": {},
   "outputs": [],
   "source": [
    "finne_virksomheter_df = pd.merge(SFUklass, skj44O, how=\"left\", on=[\"ORGNR_FORETAK\", \"RHF\", \"NAVN_KLASS\", \"HELSEREGION\"])\n",
    "finne_virksomheter_df = finne_virksomheter_df.query('tmp_bool == True and SN07_1 == \"86.104\" and STATUS == \"B\"')\n",
    "finne_virksomheter_df = finne_virksomheter_df[['ORGNR','ORGNR_FORETAK','NAVN']]"
   ]
  },
  {
   "cell_type": "code",
   "execution_count": 64,
   "id": "f77a89a4-3538-4420-9d47-80846c9ff2bf",
   "metadata": {
    "tags": []
   },
   "outputs": [],
   "source": [
    "undervirksomheter_navn_og_kolonner = lag_navn_orgnr_kolonner(finne_virksomheter_df, 20)"
   ]
  },
  {
   "cell_type": "code",
   "execution_count": 65,
   "id": "034c8d5d-20de-4846-a25f-a392936c61ea",
   "metadata": {},
   "outputs": [],
   "source": [
    "skj44O = pd.merge(skj44O, undervirksomheter_navn_og_kolonner, how=\"left\", on=\"ORGNR_FORETAK\")\n",
    "\n",
    "skj44O['USERID'] = skj44O['ORGNR_FORETAK']\n",
    "skj44O['USERID'] = skj44O['ORGNR_FORETAK']\n",
    "skj44O = skj44O.rename(columns={\"ORGNR_FORETAK\": \"FORETAKETS_ORGNR\",\n",
    "                                \"NAVN_KLASS\": \"FORETAKETS_NAVN\",\n",
    "                                \"RHF\": \"HELSEREGION_NAVN\"})\n",
    "\n",
    "skj44O = pd.merge(skj44O, d_plass_fjor, how=\"left\", on=\"FORETAKETS_ORGNR\")\n",
    "\n",
    "skj44O = skj44O[onskede_kolonner]"
   ]
  },
  {
   "cell_type": "markdown",
   "id": "d63f4720-e37f-4aa0-8748-77c91a6c97bc",
   "metadata": {},
   "source": [
    "### skj45O (Psykisk helsevern for barn og unge (PHBU/BUP), offentlige helseforetak)"
   ]
  },
  {
   "cell_type": "code",
   "execution_count": 66,
   "id": "64de57b9-b3d9-4d28-8076-5dac45659035",
   "metadata": {
    "tags": []
   },
   "outputs": [],
   "source": [
    "# Henter døgnplasser fra foregående år\n",
    "d_plass_fjor = (skjemadata45O[['FORETAKETS_ORGNR','D_PLAS_T']].reset_index().copy()\n",
    "                [['FORETAKETS_ORGNR','D_PLAS_T']]\n",
    "                .rename(columns={'D_PLAS_T': 'D_PLAS_FJOR'}))"
   ]
  },
  {
   "cell_type": "code",
   "execution_count": 67,
   "id": "c5bad575-b917-44bf-ab2a-88c54733b20f",
   "metadata": {
    "tags": []
   },
   "outputs": [],
   "source": [
    "skj45O = HF.query('ORGNR_FORETAK != \"883971752\"').copy()                    # Tar ut SUNNAAS"
   ]
  },
  {
   "cell_type": "code",
   "execution_count": 68,
   "id": "677c91f3-b27d-4663-840b-1914428c289e",
   "metadata": {},
   "outputs": [],
   "source": [
    "# Lager kolonneoverskrifter i tråd med tidligere .csv-filer:\n",
    "navn_virk, orgnr_virk = lag_navn_orgnr_kolonnenavn(20)\n",
    "\n",
    "onskede_kolonner = [\"USERID\", \"HELSEREGION\", \"HELSEREGION_NAVN\",\n",
    "                    \"FORETAKETS_ORGNR\", \"FORETAKETS_NAVN\",\n",
    "                    \"D_PLAS_FJOR\"] + orgnr_virk + navn_virk"
   ]
  },
  {
   "cell_type": "markdown",
   "id": "ccc608e4-672d-4c80-98bc-b03a22db24ee",
   "metadata": {},
   "source": [
    "Henter data fra SFU med næringskode (\"86.105\") og statuskode (\"B\"). Finner næringskoden i kolonne ```SN07_1```"
   ]
  },
  {
   "cell_type": "code",
   "execution_count": 69,
   "id": "9954976e-daf2-4e0a-8a8d-58dae8c40377",
   "metadata": {},
   "outputs": [],
   "source": [
    "skj45O['tmp_bool'] = True"
   ]
  },
  {
   "cell_type": "code",
   "execution_count": 70,
   "id": "abfae504-6f2a-4239-ba91-52c38f0e107a",
   "metadata": {},
   "outputs": [],
   "source": [
    "finne_virksomheter_df = pd.merge(SFUklass, skj45O, how=\"left\", on=[\"ORGNR_FORETAK\", \"RHF\", \"NAVN_KLASS\", \"HELSEREGION\"])\n",
    "finne_virksomheter_df = finne_virksomheter_df.query('tmp_bool == True and SN07_1 == \"86.105\" and STATUS == \"B\"')\n",
    "finne_virksomheter_df = finne_virksomheter_df[['ORGNR','ORGNR_FORETAK','NAVN']]"
   ]
  },
  {
   "cell_type": "code",
   "execution_count": 71,
   "id": "ab944efd-e6ae-483d-936a-01b1f33b777e",
   "metadata": {
    "tags": []
   },
   "outputs": [],
   "source": [
    "undervirksomheter_navn_og_kolonner = lag_navn_orgnr_kolonner(finne_virksomheter_df, 20)"
   ]
  },
  {
   "cell_type": "code",
   "execution_count": 72,
   "id": "c5f4652d-9777-408c-a681-155a5f03a9c7",
   "metadata": {},
   "outputs": [],
   "source": [
    "skj45O = pd.merge(skj45O, undervirksomheter_navn_og_kolonner, how=\"left\", on=\"ORGNR_FORETAK\")"
   ]
  },
  {
   "cell_type": "code",
   "execution_count": 73,
   "id": "a35204a6-3f28-4f1b-9c7c-8b7c5bb20f82",
   "metadata": {},
   "outputs": [],
   "source": [
    "skj45O['USERID'] = skj45O['ORGNR_FORETAK']\n",
    "skj45O['USERID'] = skj45O['ORGNR_FORETAK']\n",
    "skj45O = skj45O.rename(columns={\"ORGNR_FORETAK\": \"FORETAKETS_ORGNR\",\n",
    "                                \"NAVN_KLASS\": \"FORETAKETS_NAVN\",\n",
    "                                \"RHF\": \"HELSEREGION_NAVN\"})"
   ]
  },
  {
   "cell_type": "code",
   "execution_count": 74,
   "id": "36d57341-6ace-4049-904a-18cb88565b70",
   "metadata": {
    "tags": []
   },
   "outputs": [],
   "source": [
    "skj45O = pd.merge(skj45O, d_plass_fjor, how=\"left\", on=\"FORETAKETS_ORGNR\")"
   ]
  },
  {
   "cell_type": "code",
   "execution_count": 75,
   "id": "e32dc703-1197-47bd-bd00-f1370cbf8fa0",
   "metadata": {},
   "outputs": [],
   "source": [
    "skj45O = skj45O[onskede_kolonner]"
   ]
  },
  {
   "cell_type": "markdown",
   "id": "f17c46a7-c776-402b-b7f8-927a7a605b1b",
   "metadata": {},
   "source": [
    "### skj46O (Somatiske sykehus, offentlige helseforetak)\n",
    "```SUNNAAS``` skal være med her\n",
    "\n",
    "NB. Antall avsatte kolonner til undervirksomheter er 24."
   ]
  },
  {
   "cell_type": "code",
   "execution_count": 76,
   "id": "55fe8860-9be0-43d1-bcf6-ffdff7575d54",
   "metadata": {
    "tags": []
   },
   "outputs": [],
   "source": [
    "# Henter døgnplasser fra foregående år\n",
    "d_plass_fjor = (skjemadata46O[['ORGNR_VIRK1','SEN_HT', 'SDGN_HT']].reset_index().copy()\n",
    "                [['ORGNR_VIRK1','SEN_HT', 'SDGN_HT']]\n",
    "                .rename(columns={'SEN_HT': 'SEN_HT_FJOR',\n",
    "                                 'SDGN_HT': 'SDGN_HT_FJOR',\n",
    "                                 'ORGNR_VIRK1': 'FINST_ORGNR'}))"
   ]
  },
  {
   "cell_type": "code",
   "execution_count": 77,
   "id": "a50d43ab-dd22-4b8e-abd7-a9f1969bc210",
   "metadata": {
    "tags": []
   },
   "outputs": [],
   "source": [
    "skj46O = HF.copy()"
   ]
  },
  {
   "cell_type": "code",
   "execution_count": 78,
   "id": "84fea2e1-60bd-4806-a7b9-af84913d4410",
   "metadata": {},
   "outputs": [],
   "source": [
    "# Lager kolonneoverskrifter i tråd med tidligere .csv-filer:\n",
    "navn_virk, orgnr_virk = lag_navn_orgnr_kolonnenavn(24)\n",
    "\n",
    "kolonner = [\"USERID\", \"HELSEREGION\", \"HELSEREGION_NAVN\",\n",
    "            \"FORETAKETS_ORGNR\", \"FORETAKETS_NAVN\",\n",
    "            'SEN_HT_FJOR', 'SDGN_HT_FJOR'] + orgnr_virk + navn_virk"
   ]
  },
  {
   "cell_type": "markdown",
   "id": "fbc4aeb6-32d9-47da-b381-c203b81b40d1",
   "metadata": {},
   "source": [
    "Henter data fra SFU med næringskoder (\"86.101\") (\"86.102\") (\"86.103\") (\"86.107\"). Finner næringskoden i kolonne ```SN07_1```"
   ]
  },
  {
   "cell_type": "code",
   "execution_count": 79,
   "id": "8677d857-e3a6-4cd2-859c-e4d54138388f",
   "metadata": {},
   "outputs": [],
   "source": [
    "skj46O['tmp_bool'] = True\n",
    "\n",
    "finne_virksomheter_df = pd.merge(SFUklass, skj46O, how=\"left\", on=[\"ORGNR_FORETAK\", \"RHF\", \"NAVN_KLASS\", \"HELSEREGION\"])\n",
    "finne_virksomheter_df = finne_virksomheter_df.query('tmp_bool == True and SN07_1 in [\"86.101\", \"86.102\", \"86.103\",\"86.107\",]')\n",
    "\n",
    "finne_virksomheter_df = finne_virksomheter_df[['ORGNR','ORGNR_FORETAK','NAVN', 'NAVN_KLASS']]\n",
    "\n",
    "finne_virksomheter_df = pd.merge(finne_virksomheter_df, d_plass_fjor, how=\"left\", left_on=\"ORGNR\", right_on=\"FINST_ORGNR\")\n",
    "\n",
    "finne_virksomheter_df['SEN_HT_FJOR'] = pd.to_numeric(finne_virksomheter_df['SEN_HT_FJOR'])\n",
    "finne_virksomheter_df['SDGN_HT_FJOR'] = pd.to_numeric(finne_virksomheter_df['SDGN_HT_FJOR'])\n",
    "\n",
    "finne_virksomheter_df = finne_virksomheter_df.groupby([\"ORGNR_FORETAK\", \"NAVN_KLASS\"]).sum(numeric_only=True).reset_index()\n",
    "finne_virksomheter_df = finne_virksomheter_df.rename(columns={\"NAVN_KLASS\": \"FORETAKETS_NAVN\"})"
   ]
  },
  {
   "cell_type": "code",
   "execution_count": 80,
   "id": "81cff812-77f5-4271-9843-9e5f22a2f51f",
   "metadata": {},
   "outputs": [],
   "source": [
    "finne_virksomheter_df2 = pd.merge(SFUklass, skj46O, how=\"left\", on=[\"ORGNR_FORETAK\", \"RHF\", \"NAVN_KLASS\", \"HELSEREGION\"])\n",
    "finne_virksomheter_df2 = finne_virksomheter_df2.query('tmp_bool == True and SN07_1 in [\"86.101\", \"86.102\", \"86.103\",\"86.107\",]')\n",
    "\n",
    "finne_virksomheter_df2 = finne_virksomheter_df2[['ORGNR','ORGNR_FORETAK','NAVN', 'NAVN_KLASS']]"
   ]
  },
  {
   "cell_type": "code",
   "execution_count": 81,
   "id": "9d8f6e83-ffaa-4959-8a06-7d0e43cb0353",
   "metadata": {},
   "outputs": [],
   "source": [
    "undervirksomheter_navn_og_kolonner = lag_navn_orgnr_kolonner(finne_virksomheter_df2, 24, False)\n",
    "\n",
    "skj46O = pd.merge(skj46O, undervirksomheter_navn_og_kolonner, how=\"left\", on=\"ORGNR_FORETAK\")\n",
    "\n",
    "skj46O = pd.merge(skj46O, finne_virksomheter_df, how=\"left\", on=\"ORGNR_FORETAK\")\n",
    "\n",
    "skj46O['USERID'] = skj46O['ORGNR_FORETAK']\n",
    "skj46O = skj46O.rename(columns={\"ORGNR_FORETAK\": \"FORETAKETS_ORGNR\",\n",
    "                                \"NAVN_KLASS\": \"FORETAKETS_NAVN\",\n",
    "                                \"RHF\": \"HELSEREGION_NAVN\"})"
   ]
  },
  {
   "cell_type": "code",
   "execution_count": 82,
   "id": "ce6730b9-5dc5-4c23-ba3b-c1d64257d239",
   "metadata": {
    "tags": []
   },
   "outputs": [],
   "source": [
    "skj46O = skj46O[kolonner]"
   ]
  },
  {
   "cell_type": "markdown",
   "id": "5975c829-4831-4d83-a5d3-5c1d9cf6a6bd",
   "metadata": {
    "toc-hr-collapsed": true
   },
   "source": [
    "## Skjemaer til private foretak og deres underinstitusjoner\n",
    "Droplisten inneholder kolonne med rapporteringspliktige underinstitusjoner i en kolonne atskilt med \\n"
   ]
  },
  {
   "cell_type": "markdown",
   "id": "94d2919d-7671-4480-bdd2-6b8fc510056e",
   "metadata": {},
   "source": [
    "#### Nyttige funksjoner som skal gjøre koden mer lesbar"
   ]
  },
  {
   "cell_type": "code",
   "execution_count": 83,
   "id": "ac76c5ec-6424-45bc-b72f-44d3847f3e93",
   "metadata": {},
   "outputs": [],
   "source": [
    "def hent_foretaksnavn_til_virksomhetene_fra_SFU(unike_foretak):\n",
    "    unike_foretak = pd.DataFrame(unike_foretak)\n",
    "    unike_foretak.columns = [\"ORGNR_FORETAK\"]\n",
    "\n",
    "    finn_foretaksnavn = pd.merge(unike_foretak, SFUklass[[\"ORGNR\", \"NAVN\"]],\n",
    "                                 how=\"left\",\n",
    "                                 left_on=\"ORGNR_FORETAK\",\n",
    "                                 right_on=\"ORGNR\")\n",
    "    finn_foretaksnavn = finn_foretaksnavn[[\"ORGNR_FORETAK\", \"NAVN\"]]\\\n",
    "                                        .rename(columns={\"NAVN\": \"FORETAK_NAVN\",\n",
    "                                        \"ORGNR_FORETAK\": \"FORETAK_ORGNR\"})\n",
    "    return finn_foretaksnavn"
   ]
  },
  {
   "cell_type": "markdown",
   "id": "229199aa-1136-449e-b2cf-eb09a917207c",
   "metadata": {},
   "source": [
    "Lager kolonnen INSTLIST med riktig antall \\n for at det skal passe med skjema. Passer på at rapporteringsenheten kommer først i listen. (Enhet som har H_VAR1_A lik orgnummer)"
   ]
  },
  {
   "cell_type": "code",
   "execution_count": 84,
   "id": "22741bfd-b841-48f4-8376-abda5838e1bf",
   "metadata": {},
   "outputs": [],
   "source": [
    "def instlist_med_riktig_antall_n(finst_orgnr_df):\n",
    "    df_til_instlist = pd.merge(SFUklass, finst_orgnr_df, left_on=\"H_VAR1_A\", right_on=\"FINST_ORGNR\")\n",
    "    df_til_instlist['rapporterer_til_annen_virksomhet'] = (df_til_instlist.ORGNR != df_til_instlist.H_VAR1_A)\n",
    "    df_til_instlist = df_til_instlist[['NAVN', 'ORGNR', \"FINST_ORGNR\", 'rapporterer_til_annen_virksomhet']]\n",
    "    df_til_instlist['orgnr_navn'] = df_til_instlist['ORGNR'] + \" - \" + df_til_instlist['NAVN']\n",
    "\n",
    "    rapporterer_ikke_til_annen_v = df_til_instlist.query('~rapporterer_til_annen_virksomhet')[['ORGNR', 'orgnr_navn']]\n",
    "    rapporterer_til_annen_v = df_til_instlist.query('rapporterer_til_annen_virksomhet')[[\"FINST_ORGNR\", 'orgnr_navn']]\n",
    "    \n",
    "    # mellomsteg for å legge institusjonene horisontalt ved siden av rapporteringsnummeret\n",
    "    # itererer over alle unike rapporteringsnummer\n",
    "    tmpdf = -1\n",
    "    for finst_orgnr in rapporterer_ikke_til_annen_v.ORGNR.unique():\n",
    "        instliste = \"\\\\n\".join(rapporterer_til_annen_v.query(f'FINST_ORGNR==\"{finst_orgnr}\"').orgnr_navn)\n",
    "        if len(instliste) > 0:\n",
    "            if type(tmpdf) == int:\n",
    "                tmpdf = pd.DataFrame([finst_orgnr, instliste])\n",
    "            else:\n",
    "                nytt_tillegg = pd.DataFrame([finst_orgnr, instliste])\n",
    "                tmpdf = pd.concat([tmpdf, nytt_tillegg], axis=1)\n",
    "    \n",
    "    if type(tmpdf) != int:\n",
    "        tmpdf = tmpdf.transpose()\n",
    "        tmpdf.columns = ['FINST_ORGNR', 'INSTLISTE_HALE']   \n",
    "    \n",
    "    rapporterer_ikke_til_annen_v = rapporterer_ikke_til_annen_v.rename(columns={'ORGNR': 'FINST_ORGNR'})\n",
    "    return rapporterer_ikke_til_annen_v, tmpdf"
   ]
  },
  {
   "cell_type": "code",
   "execution_count": 85,
   "id": "5e030f8c-e88b-469a-b382-82aa276d73a1",
   "metadata": {},
   "outputs": [],
   "source": [
    "def legg_paa_hale_med_n(df):\n",
    "    df['INSTLISTE_HALE'] = df['INSTLISTE_HALE'].fillna(\"\\\\n\\\\n\\\\n\\\\n\\\\n\\\\n\\\\n\\\\n\\\\n\\\\n\\\\n\")\n",
    "    df['antall_n_mangler'] = df['INSTLISTE_HALE'].apply(lambda x: 11-x.count(\"\\\\n\"))\n",
    "    df['INSTLIST'] = df.apply(lambda x: x.orgnr_navn + \\\n",
    "                                                \"\\\\n\" + \\\n",
    "                                                x.INSTLISTE_HALE + \\\n",
    "                                                x.antall_n_mangler * (\"\\\\n\"), axis=1)\n",
    "    return df"
   ]
  },
  {
   "cell_type": "code",
   "execution_count": 86,
   "id": "a977b3fd-20bd-4651-86e8-bd811f3620ff",
   "metadata": {},
   "outputs": [],
   "source": [
    "kolonner_i_alle_private = ['USERID',\n",
    "                            'REGION_NR',\n",
    "                            'REGION_NAVN',\n",
    "                            'FORETAK_ORGNR',\n",
    "                            'FORETAK_NAVN',\n",
    "                            'FINST_ORGNR',\n",
    "                            'FINST_NAVN']"
   ]
  },
  {
   "cell_type": "markdown",
   "id": "a13b9f20-0e89-4398-aca2-fc32fdd5d6ad",
   "metadata": {
    "tags": []
   },
   "source": [
    "### skj38P (TSB for private helseforetak)"
   ]
  },
  {
   "cell_type": "markdown",
   "id": "fef3f4ce-cd1b-4566-9848-35ccee23378e",
   "metadata": {},
   "source": [
    "Henter inn alle rader i SFU som har skjematype 381. Variabelen ```H_VAR1_A```  sier hvilket orgnummer foretaket rapporterer til. Koden under bruker denne til å variabelen til å plassere rapporteringsenhetene først, og alle deres underinstitusjoner i variabelen ```INSTLIST```. \n",
    "\n",
    "For at filen skal ha riktig format, skal det tilsammen være 13 institusjoner per foretak i ```INSTLIST```. Fyller automatisk ut linjeskift ```\\n``` slik at antallet blir 13."
   ]
  },
  {
   "cell_type": "code",
   "execution_count": 87,
   "id": "9da521e4-151c-4154-a942-dbff593cee91",
   "metadata": {},
   "outputs": [],
   "source": [
    "# kolonner som skal være med i droplisten:\n",
    "kolonner = kolonner_i_alle_private +\\\n",
    "            ['INSTLIST']\n",
    "\n",
    "skj38P = tabell_som_inneholder_skjema(SFUklass, 'SKJEMA_TYPE', \"381\").copy()\n",
    "skj38P = skj38P.rename(columns = {\"ORGNR_FORETAK\": \"FORETAK_ORGNR\",\n",
    "                                   \"NAVN\": \"FINST_NAVN\",\n",
    "                                   'ORGNR':'FINST_ORGNR',\n",
    "                                   'HELSEREGION':'REGION_NR',\n",
    "                                   'RHF':'REGION_NAVN'})\n",
    "\n",
    "# USERID er alltid foretaksnummer\n",
    "skj38P['USERID'] = skj38P['FORETAK_ORGNR']\n"
   ]
  },
  {
   "cell_type": "code",
   "execution_count": 88,
   "id": "3b05317d-dd89-474d-bfa5-9a2aea2b5b63",
   "metadata": {},
   "outputs": [],
   "source": [
    "# Importerer riktig regionnummer fra KLASS og gir foretak som ikke er offentlige betegnelsen \"PRIVATE INSTITUSJONER\"\n",
    "skj38P = pd.merge(skj38P, RHF_kode_klass[[\"HELSEREGION\", \"RHF\"]], how=\"left\" , left_on=\"REGION_NR\", right_on=\"HELSEREGION\")\n",
    "\n",
    "skj38P['REGION_NAVN'] = skj38P['RHF']\n",
    "skj38P.REGION_NAVN = skj38P.REGION_NAVN.fillna(\"PRIVATE INSTITUSJONER\")"
   ]
  },
  {
   "cell_type": "code",
   "execution_count": 89,
   "id": "c23ca0d6-0df0-4882-abdb-0ec7d106b716",
   "metadata": {},
   "outputs": [],
   "source": [
    "foretaksnavn = hent_foretaksnavn_til_virksomhetene_fra_SFU(skj38P.FORETAK_ORGNR.unique())\n",
    "skj38P = pd.merge(skj38P, foretaksnavn, how=\"left\", on=\"FORETAK_ORGNR\")"
   ]
  },
  {
   "cell_type": "code",
   "execution_count": 90,
   "id": "27fb6196-22dd-415d-a555-9c54e8fa9ac2",
   "metadata": {},
   "outputs": [],
   "source": [
    "rapporteringsenhet, undervirksomheter = instlist_med_riktig_antall_n(pd.DataFrame(skj38P['FINST_ORGNR']))"
   ]
  },
  {
   "cell_type": "code",
   "execution_count": 91,
   "id": "94f1bad6-9688-4cd8-8610-fd899842b19f",
   "metadata": {
    "tags": []
   },
   "outputs": [],
   "source": [
    "skj38P = pd.merge(skj38P, rapporteringsenhet, how=\"left\", on=\"FINST_ORGNR\")\n",
    "skj38P = pd.merge(skj38P, undervirksomheter, how=\"left\", on=\"FINST_ORGNR\")\n",
    "\n",
    "skj38P = legg_paa_hale_med_n(skj38P)"
   ]
  },
  {
   "cell_type": "code",
   "execution_count": 92,
   "id": "c4948d9d-ac80-4e64-b3be-045f757514c3",
   "metadata": {},
   "outputs": [],
   "source": [
    "skj38P = skj38P[kolonner]"
   ]
  },
  {
   "cell_type": "markdown",
   "id": "4c8e27f0-92d6-4e3d-8e3d-1c6713bf85ae",
   "metadata": {
    "tags": []
   },
   "source": [
    "### skj39 (Resultatregnskap for private helseforetak)"
   ]
  },
  {
   "cell_type": "markdown",
   "id": "e7aa3a9e-f35d-48c8-880b-b5d45f7728df",
   "metadata": {},
   "source": [
    "Lages på nesten samme måte som skjema 38P, med unntak av at man henter ut SKJEMA_TYPE 39 fra SFU og legger til kolonnen ```INSTTYPE``` med institusjonstype hentet fra hjelpevariabelen ```SN07_1```."
   ]
  },
  {
   "cell_type": "code",
   "execution_count": 93,
   "id": "5d8ba423-e4ee-415b-b500-cbfcd8910b3c",
   "metadata": {},
   "outputs": [],
   "source": [
    "# kolonner som skal være med i droplisten:\n",
    "kolonner = kolonner_i_alle_private +\\\n",
    "           ['INSTTYPE', 'INSTLIST']\n",
    "\n",
    "skj39 = tabell_som_inneholder_skjema(SFUklass, 'SKJEMA_TYPE', \"39\").copy()\n",
    "skj39 = skj39.rename(columns = {\"ORGNR_FORETAK\": \"FORETAK_ORGNR\",\n",
    "                                   \"NAVN\": \"FINST_NAVN\",\n",
    "                                   'ORGNR':'FINST_ORGNR',\n",
    "                                   'HELSEREGION':'REGION_NR',\n",
    "                                   'RHF':'REGION_NAVN'})\n",
    "\n",
    "# USERID er alltid foretaksnummer\n",
    "skj39['USERID'] = skj39['FORETAK_ORGNR']\n"
   ]
  },
  {
   "cell_type": "code",
   "execution_count": 94,
   "id": "553c9d28-70bd-48ac-a7f8-89c43d0f2c0c",
   "metadata": {},
   "outputs": [],
   "source": [
    "# Importerer riktig regionnummer fra KLASS og gir foretak som ikke er offentlige betegnelsen \"PRIVATE INSTITUSJONER\"\n",
    "skj39 = pd.merge(skj39, RHF_kode_klass[[\"HELSEREGION\", \"RHF\"]], how=\"left\" , left_on=\"REGION_NR\", right_on=\"HELSEREGION\")\n",
    "\n",
    "skj39['REGION_NAVN'] = skj39['RHF']\n",
    "skj39.REGION_NAVN = skj39.REGION_NAVN.fillna(\"PRIVATE INSTITUSJONER\")"
   ]
  },
  {
   "cell_type": "code",
   "execution_count": 95,
   "id": "538c1e6b-4f0e-4325-9bd7-3ea145024453",
   "metadata": {},
   "outputs": [],
   "source": [
    "# Henter foretaksnavn til virksomhetene fra SFU\n",
    "foretak = hent_foretaksnavn_til_virksomhetene_fra_SFU(skj39.FORETAK_ORGNR.unique())\n",
    "\n",
    "skj39 = pd.merge(skj39, foretak, how=\"left\", on=\"FORETAK_ORGNR\")"
   ]
  },
  {
   "cell_type": "code",
   "execution_count": 96,
   "id": "a55e2823-63db-4ae6-814e-0217ac85684a",
   "metadata": {},
   "outputs": [],
   "source": [
    "rapporteringsenhet, undervirksomheter = instlist_med_riktig_antall_n(pd.DataFrame(skj39['FINST_ORGNR']))"
   ]
  },
  {
   "cell_type": "code",
   "execution_count": 97,
   "id": "37e5c0df-6915-4290-b80e-b47a4f1fc796",
   "metadata": {
    "tags": []
   },
   "outputs": [],
   "source": [
    "skj39 = pd.merge(skj39, rapporteringsenhet, how=\"left\", on=\"FINST_ORGNR\")\n",
    "skj39 = pd.merge(skj39, undervirksomheter, how=\"left\", on=\"FINST_ORGNR\")\n",
    "skj39 = legg_paa_hale_med_n(skj39)"
   ]
  },
  {
   "cell_type": "code",
   "execution_count": 98,
   "id": "6a55ab37-96c6-4d6d-a626-650fead01992",
   "metadata": {},
   "outputs": [],
   "source": [
    "institusjonstype = {\n",
    "    451: 'Psykisk helsevern for barn og unge',\n",
    "    461: 'Somatiske sykehus',\n",
    "    381: 'Rusmiddelinstitusjoner',\n",
    "    441: 'Psykisk helsevern for voksne',\n",
    "    47:  'Somatiske rehab.-og opptr.inst.'\n",
    "}\n",
    "\n",
    "skj39 = skj39.rename(columns={'H_VAR2_N': 'INSTTYPE'})"
   ]
  },
  {
   "cell_type": "code",
   "execution_count": 99,
   "id": "1ddc3f4f-0d47-478c-9815-a1d0c003a536",
   "metadata": {},
   "outputs": [],
   "source": [
    "skj39['INSTTYPE'] = skj39['INSTTYPE'].map(institusjonstype)"
   ]
  },
  {
   "cell_type": "code",
   "execution_count": 100,
   "id": "c25b3fad-2b91-4282-8a06-51c830408764",
   "metadata": {},
   "outputs": [],
   "source": [
    "# Hvis FORETAK_NAVN er tom, bruk NAVN1 fra SFU:\n",
    "skj39.loc[skj39['FORETAK_NAVN'].isnull(),'FORETAK_NAVN'] = skj39['NAVN1']"
   ]
  },
  {
   "cell_type": "code",
   "execution_count": 101,
   "id": "864ec59f-e117-457e-a7c1-f97de9f8a546",
   "metadata": {},
   "outputs": [],
   "source": [
    "# Tar kun vare på de kolonnene jeg spesifiserer i begynnelsen\n",
    "skj39 = skj39[kolonner]"
   ]
  },
  {
   "cell_type": "markdown",
   "id": "c19ec2ab-6fd9-4460-bb55-1df02ea47ea7",
   "metadata": {},
   "source": [
    "### skj44P (Psykisk helsevern for voksne (PHFV), private helseforetak)"
   ]
  },
  {
   "cell_type": "code",
   "execution_count": 102,
   "id": "45c98499-57bb-499b-b3af-75cf327e0410",
   "metadata": {
    "tags": []
   },
   "outputs": [],
   "source": [
    "# Henter døgnplasser fra foregående år\n",
    "d_plass_fjor = (skjemadata44P[['FINST_ORGNR','D_PLAS_T']].reset_index().copy()\n",
    "                [['FINST_ORGNR','D_PLAS_T']]\n",
    "                .rename(columns={'D_PLAS_T': 'D_PLAS_FJOR'}))"
   ]
  },
  {
   "cell_type": "code",
   "execution_count": 103,
   "id": "ab2b6063-3a56-40b7-851c-7d3240d50217",
   "metadata": {},
   "outputs": [],
   "source": [
    "# kolonner som skal være med i droplisten:\n",
    "kolonner = kolonner_i_alle_private +\\\n",
    "           ['INSTLIST', 'D_PLAS_FJOR']\n",
    "\n",
    "skj44P = tabell_som_inneholder_skjema(SFUklass, 'SKJEMA_TYPE', \"441\").copy()\n",
    "skj44P = skj44P.rename(columns = {\"ORGNR_FORETAK\": \"FORETAK_ORGNR\",\n",
    "                                   \"NAVN\": \"FINST_NAVN\",\n",
    "                                   'ORGNR':'FINST_ORGNR',\n",
    "                                   'HELSEREGION':'REGION_NR',\n",
    "                                   'RHF':'REGION_NAVN'})\n",
    "\n",
    "# USERID er alltid foretaksnummer\n",
    "skj44P['USERID'] = skj44P['FORETAK_ORGNR']\n"
   ]
  },
  {
   "cell_type": "code",
   "execution_count": 104,
   "id": "5c188c90-7620-4789-951e-9ecc4ad0cda1",
   "metadata": {},
   "outputs": [],
   "source": [
    "# Importerer riktig regionnummer fra KLASS og gir foretak \n",
    "# som ikke er offentlige betegnelsen \"PRIVATE INSTITUSJONER\"\n",
    "skj44P = pd.merge(skj44P, RHF_kode_klass[[\"HELSEREGION\", \"RHF\"]], how=\"left\" , left_on=\"REGION_NR\", right_on=\"HELSEREGION\")\n",
    "\n",
    "skj44P['REGION_NAVN'] = skj44P['RHF']\n",
    "skj44P.REGION_NAVN = skj44P.REGION_NAVN.fillna(\"PRIVATE INSTITUSJONER\")"
   ]
  },
  {
   "cell_type": "code",
   "execution_count": 105,
   "id": "20b52d04-c64c-44c9-bc0a-45871a87630c",
   "metadata": {},
   "outputs": [],
   "source": [
    "# Henter foretaksnavn til virksomhetene fra SFU\n",
    "foretak = hent_foretaksnavn_til_virksomhetene_fra_SFU(skj44P.FORETAK_ORGNR.unique())\n",
    "\n",
    "skj44P = pd.merge(skj44P, foretak, how=\"left\", on=\"FORETAK_ORGNR\")"
   ]
  },
  {
   "cell_type": "code",
   "execution_count": 106,
   "id": "25068f91-e17a-4e0a-be02-f1c3b8c994d9",
   "metadata": {},
   "outputs": [],
   "source": [
    "rapporteringsenhet, undervirksomheter = instlist_med_riktig_antall_n(pd.DataFrame(skj44P['FINST_ORGNR']))"
   ]
  },
  {
   "cell_type": "code",
   "execution_count": 107,
   "id": "ceb0802f-fc55-4ea8-b60f-033eeedb31b2",
   "metadata": {
    "tags": []
   },
   "outputs": [],
   "source": [
    "skj44P = pd.merge(skj44P, rapporteringsenhet, how=\"left\", on=\"FINST_ORGNR\")\n",
    "skj44P = pd.merge(skj44P, undervirksomheter, how=\"left\", on=\"FINST_ORGNR\")\n",
    "skj44P = legg_paa_hale_med_n(skj44P)"
   ]
  },
  {
   "cell_type": "code",
   "execution_count": 108,
   "id": "412794aa-cdc3-4cfb-8f42-9ca67474e8c7",
   "metadata": {},
   "outputs": [],
   "source": [
    "skj44P = pd.merge(skj44P, d_plass_fjor, how=\"left\", on=\"FINST_ORGNR\")"
   ]
  },
  {
   "cell_type": "code",
   "execution_count": 109,
   "id": "ba5a6989-7093-4a3a-a5ea-248e6705788f",
   "metadata": {},
   "outputs": [],
   "source": [
    "# Tar kun vare på de kolonnene jeg spesifiserte i begynnelsen \n",
    "skj44P = skj44P[kolonner]"
   ]
  },
  {
   "cell_type": "markdown",
   "id": "01a3d06b-f2ce-4c11-90c7-61fe1743beaa",
   "metadata": {},
   "source": [
    "### skj45P (Psykisk helsevern for barn og unge (PHBU/BUP), private helseforetak)"
   ]
  },
  {
   "cell_type": "code",
   "execution_count": 110,
   "id": "90205100-b583-4e46-a2ec-eab5db7edadf",
   "metadata": {
    "tags": []
   },
   "outputs": [],
   "source": [
    "# Henter døgnplasser fra foregående år\n",
    "d_plass_fjor = (skjemadata45P[['FINST_ORGNR','D_PLAS_T']].reset_index().copy()\n",
    "                [['FINST_ORGNR','D_PLAS_T']]\n",
    "                .rename(columns={'D_PLAS_T': 'D_PLAS_FJOR'}))"
   ]
  },
  {
   "cell_type": "code",
   "execution_count": 111,
   "id": "973d9d1a-f939-4cd6-bd06-95e3bc889398",
   "metadata": {},
   "outputs": [],
   "source": [
    "# kolonner som skal være med i droplisten:\n",
    "kolonner = kolonner_i_alle_private +\\\n",
    "           ['INSTLIST', 'D_PLAS_FJOR']\n",
    "\n",
    "skj45P = tabell_som_inneholder_skjema(SFUklass, 'SKJEMA_TYPE', \"451\").copy()\n",
    "skj45P = skj45P.rename(columns = {\"ORGNR_FORETAK\": \"FORETAK_ORGNR\",\n",
    "                                   \"NAVN\": \"FINST_NAVN\",\n",
    "                                   'ORGNR':'FINST_ORGNR',\n",
    "                                   'HELSEREGION':'REGION_NR',\n",
    "                                   'RHF':'REGION_NAVN'})\n",
    "\n",
    "# USERID er alltid foretaksnummer\n",
    "skj45P['USERID'] = skj45P['FORETAK_ORGNR']"
   ]
  },
  {
   "cell_type": "code",
   "execution_count": 112,
   "id": "a44dfa94-0b81-4e56-acbd-82ad04c4fccf",
   "metadata": {},
   "outputs": [],
   "source": [
    "# Importerer riktig regionnummer fra KLASS og gir foretak \n",
    "# som ikke er offentlige betegnelsen \"PRIVATE INSTITUSJONER\"\n",
    "skj45P = pd.merge(skj45P, RHF_kode_klass[[\"HELSEREGION\", \"RHF\"]], how=\"left\" , left_on=\"REGION_NR\", right_on=\"HELSEREGION\")\n",
    "\n",
    "skj45P['REGION_NAVN'] = skj45P['RHF']\n",
    "skj45P.REGION_NAVN = skj45P.REGION_NAVN.fillna(\"PRIVATE INSTITUSJONER\")"
   ]
  },
  {
   "cell_type": "code",
   "execution_count": 113,
   "id": "550661e5-7be8-41b4-80ca-f84bda1036f7",
   "metadata": {},
   "outputs": [],
   "source": [
    "# Henter foretaksnavn til virksomhetene fra SFU\n",
    "foretak = hent_foretaksnavn_til_virksomhetene_fra_SFU(skj45P.FORETAK_ORGNR.unique())\n",
    "\n",
    "skj45P = pd.merge(skj45P, foretak, how=\"left\", on=\"FORETAK_ORGNR\")"
   ]
  },
  {
   "cell_type": "code",
   "execution_count": 114,
   "id": "79132e7c-1454-4e13-a274-7a63bab587a1",
   "metadata": {},
   "outputs": [],
   "source": [
    "rapporteringsenhet, undervirksomheter = instlist_med_riktig_antall_n(pd.DataFrame(skj45P['FINST_ORGNR']))"
   ]
  },
  {
   "cell_type": "code",
   "execution_count": 115,
   "id": "4c581b81-596a-481d-ad40-4b1b46f35069",
   "metadata": {
    "tags": []
   },
   "outputs": [],
   "source": [
    "skj45P = pd.merge(skj45P, rapporteringsenhet, how=\"left\", on=\"FINST_ORGNR\")\n",
    "if type(undervirksomheter) != int:\n",
    "    skj45P = pd.merge(skj45P, undervirksomheter, how=\"left\", on=\"FINST_ORGNR\")\n",
    "    skj45P['INSTLISTE_HALE'] = skj45P['INSTLISTE_HALE'].fillna(\"\\\\n\\\\n\\\\n\\\\n\\\\n\\\\n\\\\n\\\\n\\\\n\\\\n\\\\n\")\n",
    "else:\n",
    "    skj45P['INSTLISTE_HALE'] = \"\\\\n\\\\n\\\\n\\\\n\\\\n\\\\n\\\\n\\\\n\\\\n\\\\n\\\\n\"\n",
    "\n",
    "\n",
    "skj45P = legg_paa_hale_med_n(skj45P)"
   ]
  },
  {
   "cell_type": "code",
   "execution_count": 116,
   "id": "f14e28fb-bf4d-4e93-b1c6-bc9e48650c39",
   "metadata": {},
   "outputs": [],
   "source": [
    "skj45P = pd.merge(skj45P, d_plass_fjor, how=\"left\", on=\"FINST_ORGNR\")"
   ]
  },
  {
   "cell_type": "code",
   "execution_count": 117,
   "id": "ef885b58-cf4a-43a4-b1ea-092246e5fb94",
   "metadata": {
    "tags": []
   },
   "outputs": [],
   "source": [
    "# Tar kun vare på de kolonnene spesifisert i begynnelsen\n",
    "skj45P = skj45P[kolonner]"
   ]
  },
  {
   "cell_type": "markdown",
   "id": "da0a2492-3548-46c6-a4dd-bc17fa6fce67",
   "metadata": {},
   "source": [
    "### skj46P (Somatiske sykehus, private helseforetak)"
   ]
  },
  {
   "cell_type": "code",
   "execution_count": 118,
   "id": "595a5c55-87de-45cc-ac5a-68856e63f223",
   "metadata": {
    "tags": []
   },
   "outputs": [],
   "source": [
    "# Henter døgnplasser fra foregående år\n",
    "d_plass_fjor = (skjemadata46P[['FINST_ORGNR','SEN_HT', 'SDGN_HT']].reset_index().copy()\n",
    "                [['FINST_ORGNR','SEN_HT', 'SDGN_HT']]\n",
    "                .rename(columns={'SEN_HT': 'SEN_HT_FJOR',\n",
    "                                 'SDGN_HT': 'SDGN_HT_FJOR'}))"
   ]
  },
  {
   "cell_type": "code",
   "execution_count": 119,
   "id": "945afad8-acbd-4f22-bc64-b6dd066a83c2",
   "metadata": {},
   "outputs": [],
   "source": [
    "# kolonner som skal være med i droplisten:\n",
    "kolonner = kolonner_i_alle_private +\\\n",
    "            ['SEN_HT_FJOR', 'SDGN_HT_FJOR']\n",
    "\n",
    "skj46P = tabell_som_inneholder_skjema(SFUklass, 'SKJEMA_TYPE', \"461\").copy()\n",
    "skj46P = skj46P.rename(columns = {\"ORGNR_FORETAK\": \"FORETAK_ORGNR\",\n",
    "                                   \"NAVN\": \"FINST_NAVN\",\n",
    "                                   'ORGNR':'FINST_ORGNR',\n",
    "                                   'HELSEREGION':'REGION_NR',\n",
    "                                   'RHF':'REGION_NAVN'})\n",
    "\n",
    "# USERID er alltid foretaksnummer\n",
    "skj46P['USERID'] = skj46P['FORETAK_ORGNR']\n"
   ]
  },
  {
   "cell_type": "code",
   "execution_count": 120,
   "id": "3da07b0b-464c-4db2-98f8-46503b06d582",
   "metadata": {},
   "outputs": [],
   "source": [
    "# Importerer riktig regionnummer fra KLASS og gir foretak som ikke er offentlige betegnelsen \"PRIVATE INSTITUSJONER\"\n",
    "skj46P = pd.merge(skj46P, RHF_kode_klass[[\"HELSEREGION\", \"RHF\"]], how=\"left\" , left_on=\"REGION_NR\", right_on=\"HELSEREGION\")\n",
    "\n",
    "skj46P['REGION_NAVN'] = skj46P['RHF']\n",
    "skj46P.REGION_NAVN = skj46P.REGION_NAVN.fillna(\"PRIVATE INSTITUSJONER\")"
   ]
  },
  {
   "cell_type": "code",
   "execution_count": 121,
   "id": "d808dcdd-9b67-4d9e-bd80-3f9e5a704baf",
   "metadata": {},
   "outputs": [],
   "source": [
    "# Henter foretaksnavn til virksomhetene fra SFU\n",
    "foretak = hent_foretaksnavn_til_virksomhetene_fra_SFU(skj46P.FORETAK_ORGNR.unique())\n",
    "\n",
    "skj46P = pd.merge(skj46P, foretak, how=\"left\", on=\"FORETAK_ORGNR\")"
   ]
  },
  {
   "cell_type": "code",
   "execution_count": 122,
   "id": "5c548bba-903a-4d07-87d6-9149af2102b2",
   "metadata": {},
   "outputs": [],
   "source": [
    "rapporteringsenhet, undervirksomheter = instlist_med_riktig_antall_n(pd.DataFrame(skj46P['FINST_ORGNR']))"
   ]
  },
  {
   "cell_type": "code",
   "execution_count": 123,
   "id": "d9b75b97-52e9-4754-a911-356af4fab979",
   "metadata": {
    "tags": []
   },
   "outputs": [],
   "source": [
    "skj46P = pd.merge(skj46P, rapporteringsenhet, how=\"left\", on=\"FINST_ORGNR\")"
   ]
  },
  {
   "cell_type": "code",
   "execution_count": 124,
   "id": "20c51b81-2bef-4073-b4bd-6ac9db2729bf",
   "metadata": {
    "tags": []
   },
   "outputs": [],
   "source": [
    "skj46P = pd.merge(skj46P, undervirksomheter, how=\"left\", on=\"FINST_ORGNR\")\n",
    "skj46P.orgnr_navn = skj46P.orgnr_navn.fillna(\"\")\n",
    "\n",
    "skj46P = legg_paa_hale_med_n(skj46P)"
   ]
  },
  {
   "cell_type": "code",
   "execution_count": 125,
   "id": "db24e761-9ad5-4fc5-9cfe-cbd1075459a7",
   "metadata": {},
   "outputs": [],
   "source": [
    "skj46P = pd.merge(skj46P, d_plass_fjor, how=\"left\", on=\"FINST_ORGNR\")"
   ]
  },
  {
   "cell_type": "code",
   "execution_count": 126,
   "id": "e9c956a4-34bd-4c67-b8c4-fffc3eea6065",
   "metadata": {},
   "outputs": [],
   "source": [
    "skj46P.loc[skj46P.FORETAK_NAVN.isnull(), 'FORETAK_NAVN'] = skj46P.NAVN1"
   ]
  },
  {
   "cell_type": "code",
   "execution_count": 127,
   "id": "e74a8d62-fbcb-4928-8f99-01cbd56e4637",
   "metadata": {},
   "outputs": [],
   "source": [
    "# Tar kun vare på de kolonnene jeg spesifiserte i begynnelsen \n",
    "skj46P = skj46P[kolonner]"
   ]
  },
  {
   "cell_type": "markdown",
   "id": "c429402b-53c3-46e0-adfa-8bf73dedbf7f",
   "metadata": {},
   "source": [
    "### skj47 (Somatiske institusjoner)"
   ]
  },
  {
   "cell_type": "code",
   "execution_count": 128,
   "id": "c5c12ba8-5ed8-4dbf-a160-654e994dce8d",
   "metadata": {
    "tags": []
   },
   "outputs": [],
   "source": [
    "# Henter døgnplasser fra foregående år\n",
    "d_plass_fjor = (skjemadata47[['FINST_ORGNR','D_HELD', 'SDGN_SUM']].reset_index().copy()\n",
    "                [['FINST_ORGNR','D_HELD', 'SDGN_SUM']]\n",
    "                .rename(columns={'D_HELD': 'D_HELD_IFJOR',\n",
    "                                 'SDGN_SUM': 'SDGN_SUM_IFJOR'}))"
   ]
  },
  {
   "cell_type": "code",
   "execution_count": 129,
   "id": "849b1775-248b-4c20-a378-c81ba925ec0d",
   "metadata": {},
   "outputs": [],
   "source": [
    "# kolonner som skal være med i droplisten:\n",
    "kolonner = kolonner_i_alle_private +\\\n",
    "           ['D_HELD_IFJOR','SDGN_SUM_IFJOR']\n",
    "\n",
    "skj47 = tabell_som_inneholder_skjema(SFUklass, 'SKJEMA_TYPE', \"47\").copy()\n",
    "skj47 = skj47.rename(columns = {\"ORGNR_FORETAK\": \"FORETAK_ORGNR\",\n",
    "                                   \"NAVN\": \"FINST_NAVN\",\n",
    "                                   'ORGNR':'FINST_ORGNR',\n",
    "                                   'HELSEREGION':'REGION_NR',\n",
    "                                   'RHF':'REGION_NAVN'})\n",
    "\n",
    "# USERID er alltid foretaksnummer\n",
    "skj47['USERID'] = skj47['FORETAK_ORGNR']"
   ]
  },
  {
   "cell_type": "code",
   "execution_count": 130,
   "id": "37d75c90-9229-477e-81eb-208b76d2c7cf",
   "metadata": {},
   "outputs": [],
   "source": [
    "# Importerer riktig regionnummer fra KLASS og gir foretak som ikke er offentlige betegnelsen \"PRIVATE INSTITUSJONER\"\n",
    "skj47 = pd.merge(skj47, RHF_kode_klass[[\"HELSEREGION\", \"RHF\"]], how=\"left\" , left_on=\"REGION_NR\", right_on=\"HELSEREGION\")\n",
    "\n",
    "skj47['REGION_NAVN'] = skj47['RHF']\n",
    "skj47.REGION_NAVN = skj47.REGION_NAVN.fillna(\"PRIVATE INSTITUSJONER\")"
   ]
  },
  {
   "cell_type": "code",
   "execution_count": 131,
   "id": "48724db7-f4e9-49e2-8b61-6e449b9b3b45",
   "metadata": {},
   "outputs": [],
   "source": [
    "# Henter foretaksnavn til virksomhetene fra SFU\n",
    "foretak = hent_foretaksnavn_til_virksomhetene_fra_SFU(skj47.FORETAK_ORGNR.unique())\n",
    "skj47 = pd.merge(skj47, foretak, how=\"left\", on=\"FORETAK_ORGNR\")"
   ]
  },
  {
   "cell_type": "code",
   "execution_count": 132,
   "id": "9ff6d941-8e25-4943-a8bb-60f2a9f341cc",
   "metadata": {},
   "outputs": [],
   "source": [
    "rapporteringsenhet, undervirksomheter = instlist_med_riktig_antall_n(pd.DataFrame(skj47['FINST_ORGNR']))"
   ]
  },
  {
   "cell_type": "code",
   "execution_count": 133,
   "id": "6f5bbac4-67ea-42bf-9472-409b43116b70",
   "metadata": {
    "tags": []
   },
   "outputs": [],
   "source": [
    "skj47 = pd.merge(skj47, rapporteringsenhet, how=\"left\", on=\"FINST_ORGNR\")\n",
    "skj47 = pd.merge(skj47, undervirksomheter, how=\"left\", on=\"FINST_ORGNR\")\n",
    "skj47 = legg_paa_hale_med_n(skj47)"
   ]
  },
  {
   "cell_type": "code",
   "execution_count": 134,
   "id": "f1942d34-51af-4d7e-8a57-0dbae50c9a13",
   "metadata": {},
   "outputs": [],
   "source": [
    "skj47 = pd.merge(skj47, d_plass_fjor, how=\"left\", on=\"FINST_ORGNR\")"
   ]
  },
  {
   "cell_type": "code",
   "execution_count": 135,
   "id": "124ce545-1423-4a27-a23f-c477d119c68c",
   "metadata": {},
   "outputs": [],
   "source": [
    "# Hvis FORETAK_NAVN er tom, bruk NAVN1 fra SFU:\n",
    "skj47.loc[skj47['FORETAK_NAVN'].isnull(),'FORETAK_NAVN'] = skj47['NAVN1']"
   ]
  },
  {
   "cell_type": "code",
   "execution_count": 136,
   "id": "0a84d158-c90a-47db-8e2e-fb44dc826d06",
   "metadata": {},
   "outputs": [],
   "source": [
    "# Tar kun vare på de kolonnene jeg spesifiserte i begynnelsen\n",
    "skj47 = skj47[kolonner]"
   ]
  },
  {
   "cell_type": "markdown",
   "id": "a5837c78-ee44-4b90-a93b-4cd08be7674e",
   "metadata": {},
   "source": [
    "# Brukerlister\n",
    "Dette er en oversikt over alle foretak som skal ha skjemaer og hvilke skjemaer de skal få. Også kalt _populasjonsliste_ av IT-KOSTRA.\n",
    "\n",
    "- Alle hjelpeforetak som skal rapportere skal ha skjema: `\"0X 0Y 40\"`\n",
    "    - Dette ser ut til å være alle som ikke er apotek. Foretaksnummerne til disse er listet opp under.\n",
    "- Alle RHF skal ha skjema: `\"0X 0Y 40 41\"`\n",
    "- Alle HF skal ha skjema: `\"0X 0Y 40 380 440 450 460 48\"`\n",
    "- Alle foretak med oppdrag og bestillerdokument skal ha skjema: `\"39 381 441 451 461 47 48\"`\n",
    "- Alle private foretak skal ha skjema: `\"39 381 441 451 461 47\"`"
   ]
  },
  {
   "cell_type": "markdown",
   "id": "01f643de-b261-447b-8e2d-2cb1283ca7de",
   "metadata": {},
   "source": [
    "## Hjelpeforetak"
   ]
  },
  {
   "cell_type": "code",
   "execution_count": 137,
   "id": "359f4cbf-c204-4ef8-92c7-8cea865f4267",
   "metadata": {},
   "outputs": [],
   "source": [
    "hjelpeforetak_som_ikke_er_rapporteringsenhet = ['918098275', '983974716', '983974805', '983974937', '992281618']"
   ]
  },
  {
   "cell_type": "code",
   "execution_count": 138,
   "id": "32fb837b-db59-47c1-b4a7-06ad408759b5",
   "metadata": {},
   "outputs": [],
   "source": [
    "# tar ut RHFene fra listen\n",
    "df_hj = regfel_df.query(\"level != '1' and parentCode not in ['03','04','05','12']\") \n",
    "\n",
    "# tar bort unntakene\n",
    "df_hj = df_hj[~df_hj['code'].isin(hjelpeforetak_som_ikke_er_rapporteringsenhet)]"
   ]
  },
  {
   "cell_type": "code",
   "execution_count": 139,
   "id": "bde670a8-f56f-43b0-9d3b-ffaf3e69a275",
   "metadata": {},
   "outputs": [],
   "source": [
    "df_hj['s'] = \"0X 0Y 40\"\n",
    "df_hj = df_hj[['name', 'code', 's']]\n",
    "df_hj.columns = ['FORETAK_NAVN', 'ORGNR_FORETAK', 'SKJEMA_TYPE']"
   ]
  },
  {
   "cell_type": "markdown",
   "id": "42f9838a-febd-4946-ac05-745c6359d5aa",
   "metadata": {},
   "source": [
    "## RHF"
   ]
  },
  {
   "cell_type": "code",
   "execution_count": 140,
   "id": "f91da84d-d8e7-45bd-8df5-3502934ffaf6",
   "metadata": {},
   "outputs": [],
   "source": [
    "df_rhf = regfel_df[regfel_df['parentCode'].isin(['03','04','05','12'])].copy()\n",
    "\n",
    "df_rhf['s'] = \"0X 0Y 40 41\"\n",
    "df_rhf = df_rhf[['name', 'code', 's']]\n",
    "df_rhf.columns = ['FORETAK_NAVN', 'ORGNR_FORETAK', 'SKJEMA_TYPE']"
   ]
  },
  {
   "cell_type": "markdown",
   "id": "9af35def-8c6c-4b15-b5e3-784dc54e0fb1",
   "metadata": {},
   "source": [
    "## HF"
   ]
  },
  {
   "cell_type": "code",
   "execution_count": 141,
   "id": "aebddd1a-2404-4dbf-b9ab-43b088d92850",
   "metadata": {},
   "outputs": [],
   "source": [
    "df_hf = HF.copy()"
   ]
  },
  {
   "cell_type": "code",
   "execution_count": 142,
   "id": "41a320e9-ba29-47ba-a3aa-21e27e2cca97",
   "metadata": {},
   "outputs": [],
   "source": [
    "df_hf['s'] = \"0X 0Y 40 380 440 450 460 48\"\n",
    "df_hf = df_hf[['NAVN_KLASS', 'ORGNR_FORETAK', 's']]\n",
    "df_hf.columns = ['FORETAK_NAVN', 'ORGNR_FORETAK', 'SKJEMA_TYPE']"
   ]
  },
  {
   "cell_type": "markdown",
   "id": "480392ac-f18a-4187-88f4-2b9aa7171e75",
   "metadata": {},
   "source": [
    "## Private"
   ]
  },
  {
   "cell_type": "code",
   "execution_count": 143,
   "id": "da50186d-8541-4a03-8d4a-8d5308668df8",
   "metadata": {},
   "outputs": [
    {
     "name": "stdout",
     "output_type": "stream",
     "text": [
      "(166, 3)\n",
      "(96, 3)\n"
     ]
    }
   ],
   "source": [
    "df_p = SFUklass[SFUklass['H_VAR2_A'] == 'PRIVAT'].copy()\n",
    "\n",
    "df_p['s'] = \"39 381 441 451 461 47\"\n",
    "df_p['NYTT_NAVN'] = df_p['NAVN1'] + \" \" + df_p['NAVN2']\n",
    "df_p = df_p[['NYTT_NAVN', 'ORGNR_FORETAK', 's']]\n",
    "df_p.columns = ['FORETAK_NAVN', 'ORGNR_FORETAK', 'SKJEMA_TYPE']\n",
    "print(\"Med duplikater: \", df_p.shape)\n",
    "\n",
    "df_p = df_p.drop_duplicates(subset=['ORGNR_FORETAK'], keep='first')\n",
    "print(\"Uten duplikater: \", df_p.shape)\n"
   ]
  },
  {
   "cell_type": "markdown",
   "id": "c989d158-b9b0-4705-965b-3463e1b62864",
   "metadata": {},
   "source": [
    "## Oppdrags- og bestillerdokument"
   ]
  },
  {
   "cell_type": "code",
   "execution_count": 144,
   "id": "c05b8349-e960-4b74-9b96-059ddd720c7a",
   "metadata": {
    "tags": []
   },
   "outputs": [
    {
     "name": "stdout",
     "output_type": "stream",
     "text": [
      "(42, 3)\n",
      "(12, 3)\n"
     ]
    }
   ],
   "source": [
    "df_op = SFUklass[SFUklass['H_VAR2_A'] == 'OPPDRAG'].copy()\n",
    "\n",
    "df_op['s'] = \"39 381 441 451 461 47 48\"\n",
    "df_op['NYTT_NAVN'] = df_op['NAVN1'] + \" \" + df_op['NAVN2']\n",
    "df_op = df_op[['NYTT_NAVN', 'ORGNR_FORETAK', 's']]\n",
    "df_op.columns = ['FORETAK_NAVN', 'ORGNR_FORETAK', 'SKJEMA_TYPE']\n",
    "print(\"Med duplikater: \", df_op.shape)\n",
    "df_op = df_op.drop_duplicates(subset=['ORGNR_FORETAK'], keep='first')\n",
    "print(\"Uten duplikater: \", df_op.shape)"
   ]
  },
  {
   "cell_type": "markdown",
   "id": "332d08ec-b187-40fe-90dc-2df0cc982368",
   "metadata": {},
   "source": [
    "## Slå sammen til en dataframe som eksporteres til `.csv`"
   ]
  },
  {
   "cell_type": "code",
   "execution_count": 154,
   "id": "cc27f2c3-17a8-44ed-be4c-ef104ec2d881",
   "metadata": {
    "collapsed": true,
    "jupyter": {
     "outputs_hidden": true
    },
    "tags": []
   },
   "outputs": [
    {
     "name": "stdout",
     "output_type": "stream",
     "text": [
      "(142, 3)\n"
     ]
    },
    {
     "data": {
      "text/html": [
       "<div>\n",
       "<style scoped>\n",
       "    .dataframe tbody tr th:only-of-type {\n",
       "        vertical-align: middle;\n",
       "    }\n",
       "\n",
       "    .dataframe tbody tr th {\n",
       "        vertical-align: top;\n",
       "    }\n",
       "\n",
       "    .dataframe thead th {\n",
       "        text-align: right;\n",
       "    }\n",
       "</style>\n",
       "<table border=\"1\" class=\"dataframe\">\n",
       "  <thead>\n",
       "    <tr style=\"text-align: right;\">\n",
       "      <th></th>\n",
       "      <th>FORETAK_NAVN</th>\n",
       "      <th>ORGNR_FORETAK</th>\n",
       "      <th>SKJEMA_TYPE</th>\n",
       "    </tr>\n",
       "  </thead>\n",
       "  <tbody>\n",
       "    <tr>\n",
       "      <th>3</th>\n",
       "      <td>AKERSHUS UNIVERSITETSSYKEHUS HF</td>\n",
       "      <td>983971636</td>\n",
       "      <td>0X 0Y 40 380 440 450 460 48</td>\n",
       "    </tr>\n",
       "    <tr>\n",
       "      <th>56</th>\n",
       "      <td>ALERIS FROGNER</td>\n",
       "      <td>943545634</td>\n",
       "      <td>39 381 441 451 461 47</td>\n",
       "    </tr>\n",
       "    <tr>\n",
       "      <th>338</th>\n",
       "      <td>AVONOVA HELSE AS</td>\n",
       "      <td>884039312</td>\n",
       "      <td>39 381 441 451 461 47</td>\n",
       "    </tr>\n",
       "    <tr>\n",
       "      <th>36</th>\n",
       "      <td>BETANIEN SPESIALISTPOLIKLINIKK</td>\n",
       "      <td>922716552</td>\n",
       "      <td>39 381 441 451 461 47 48</td>\n",
       "    </tr>\n",
       "    <tr>\n",
       "      <th>64</th>\n",
       "      <td>BLÅ KORS  BORGESTADKLINIKKEN SA</td>\n",
       "      <td>971450231</td>\n",
       "      <td>39 381 441 451 461 47</td>\n",
       "    </tr>\n",
       "    <tr>\n",
       "      <th>195</th>\n",
       "      <td>BLÅ KORS HAUGALAND A-SENTER</td>\n",
       "      <td>991314113</td>\n",
       "      <td>39 381 441 451 461 47</td>\n",
       "    </tr>\n",
       "    <tr>\n",
       "      <th>273</th>\n",
       "      <td>BLÅ KORS KLINIKK RUS OG AVHENGIGHET TJELDSUND AS</td>\n",
       "      <td>976692888</td>\n",
       "      <td>39 381 441 451 461 47</td>\n",
       "    </tr>\n",
       "    <tr>\n",
       "      <th>503</th>\n",
       "      <td>BLÅ KORS LADE BEHANDLINGSSENTER SA</td>\n",
       "      <td>892237832</td>\n",
       "      <td>39 381 441 451 461 47</td>\n",
       "    </tr>\n",
       "    <tr>\n",
       "      <th>132</th>\n",
       "      <td>BLÅ KORS ØST AS</td>\n",
       "      <td>977203287</td>\n",
       "      <td>39 381 441 451 461 47</td>\n",
       "    </tr>\n",
       "    <tr>\n",
       "      <th>189</th>\n",
       "      <td>CAPIO ANOREKSI SENTER AS</td>\n",
       "      <td>980524493</td>\n",
       "      <td>39 381 441 451 461 47</td>\n",
       "    </tr>\n",
       "    <tr>\n",
       "      <th>985</th>\n",
       "      <td>COPERIOSENTERET AS</td>\n",
       "      <td>985311013</td>\n",
       "      <td>39 381 441 451 461 47</td>\n",
       "    </tr>\n",
       "    <tr>\n",
       "      <th>665</th>\n",
       "      <td>CRUX BERGFLØTT BEHANDLINGSSENTER</td>\n",
       "      <td>975387011</td>\n",
       "      <td>39 381 441 451 461 47</td>\n",
       "    </tr>\n",
       "    <tr>\n",
       "      <th>183</th>\n",
       "      <td>DIAKONHJEMMET SYKEHUS</td>\n",
       "      <td>982791952</td>\n",
       "      <td>39 381 441 451 461 47 48</td>\n",
       "    </tr>\n",
       "    <tr>\n",
       "      <th>1432</th>\n",
       "      <td>EEG LABORATORIET AS</td>\n",
       "      <td>924291370</td>\n",
       "      <td>39 381 441 451 461 47</td>\n",
       "    </tr>\n",
       "    <tr>\n",
       "      <th>1121</th>\n",
       "      <td>EVJEKLINIKKEN AS</td>\n",
       "      <td>921008104</td>\n",
       "      <td>39 381 441 451 461 47</td>\n",
       "    </tr>\n",
       "    <tr>\n",
       "      <th>435</th>\n",
       "      <td>FEKJÆR PSYKIATRISKE SENTER</td>\n",
       "      <td>918311556</td>\n",
       "      <td>39 381 441 451 461 47</td>\n",
       "    </tr>\n",
       "    <tr>\n",
       "      <th>11</th>\n",
       "      <td>FINNMARKSSYKEHUSET HF</td>\n",
       "      <td>983974880</td>\n",
       "      <td>0X 0Y 40 380 440 450 460 48</td>\n",
       "    </tr>\n",
       "    <tr>\n",
       "      <th>1420</th>\n",
       "      <td>FORUSAKUTTEN AS</td>\n",
       "      <td>991811869</td>\n",
       "      <td>39 381 441 451 461 47</td>\n",
       "    </tr>\n",
       "    <tr>\n",
       "      <th>1083</th>\n",
       "      <td>FRELSESARMEENS RUSOMSORG</td>\n",
       "      <td>938498318</td>\n",
       "      <td>39 381 441 451 461 47</td>\n",
       "    </tr>\n",
       "    <tr>\n",
       "      <th>331</th>\n",
       "      <td>FRISK UTVIKLING AS</td>\n",
       "      <td>991441654</td>\n",
       "      <td>39 381 441 451 461 47</td>\n",
       "    </tr>\n",
       "    <tr>\n",
       "      <th>1042</th>\n",
       "      <td>FRISKGÅRDEN AS</td>\n",
       "      <td>984756712</td>\n",
       "      <td>39 381 441 451 461 47</td>\n",
       "    </tr>\n",
       "    <tr>\n",
       "      <th>643</th>\n",
       "      <td>FRISKSTIFTELSEN</td>\n",
       "      <td>913322533</td>\n",
       "      <td>39 381 441 451 461 47</td>\n",
       "    </tr>\n",
       "    <tr>\n",
       "      <th>436</th>\n",
       "      <td>FURUKOLLEN PSYKIATRISKE SENTER AS</td>\n",
       "      <td>996980103</td>\n",
       "      <td>39 381 441 451 461 47</td>\n",
       "    </tr>\n",
       "    <tr>\n",
       "      <th>239</th>\n",
       "      <td>GODTHAAB HELSE OG REHABILITERING</td>\n",
       "      <td>871426902</td>\n",
       "      <td>39 381 441 451 461 47</td>\n",
       "    </tr>\n",
       "    <tr>\n",
       "      <th>35</th>\n",
       "      <td>HARALDSPLASS DIAKONALE SYKEHUS AS</td>\n",
       "      <td>984027737</td>\n",
       "      <td>39 381 441 451 461 47 48</td>\n",
       "    </tr>\n",
       "    <tr>\n",
       "      <th>662</th>\n",
       "      <td>HAUGESUND SANITETSFORENINGS REVMATISMESYKEHUS AS</td>\n",
       "      <td>986106839</td>\n",
       "      <td>39 381 441 451 461 47 48</td>\n",
       "    </tr>\n",
       "    <tr>\n",
       "      <th>1043</th>\n",
       "      <td>HELGELAND REHABILITERING</td>\n",
       "      <td>974791013</td>\n",
       "      <td>39 381 441 451 461 47</td>\n",
       "    </tr>\n",
       "    <tr>\n",
       "      <th>14</th>\n",
       "      <td>HELGELANDSSYKEHUSET HF</td>\n",
       "      <td>983974929</td>\n",
       "      <td>0X 0Y 40 380 440 450 460 48</td>\n",
       "    </tr>\n",
       "    <tr>\n",
       "      <th>8</th>\n",
       "      <td>HELSE BERGEN HF</td>\n",
       "      <td>983974724</td>\n",
       "      <td>0X 0Y 40 380 440 450 460 48</td>\n",
       "    </tr>\n",
       "    <tr>\n",
       "      <th>7</th>\n",
       "      <td>HELSE FONNA HF</td>\n",
       "      <td>983974694</td>\n",
       "      <td>0X 0Y 40 380 440 450 460 48</td>\n",
       "    </tr>\n",
       "    <tr>\n",
       "      <th>9</th>\n",
       "      <td>HELSE FØRDE HF</td>\n",
       "      <td>983974732</td>\n",
       "      <td>0X 0Y 40 380 440 450 460 48</td>\n",
       "    </tr>\n",
       "    <tr>\n",
       "      <th>16</th>\n",
       "      <td>HELSE MIDT-NORGE RHF</td>\n",
       "      <td>983658776</td>\n",
       "      <td>0X 0Y 40 41</td>\n",
       "    </tr>\n",
       "    <tr>\n",
       "      <th>19</th>\n",
       "      <td>HELSE MØRE OG ROMSDAL HF</td>\n",
       "      <td>997005562</td>\n",
       "      <td>0X 0Y 40 380 440 450 460 48</td>\n",
       "    </tr>\n",
       "    <tr>\n",
       "      <th>11</th>\n",
       "      <td>HELSE NORD IKT HF</td>\n",
       "      <td>918177833</td>\n",
       "      <td>0X 0Y 40</td>\n",
       "    </tr>\n",
       "    <tr>\n",
       "      <th>6</th>\n",
       "      <td>HELSE NORD RHF</td>\n",
       "      <td>883658752</td>\n",
       "      <td>0X 0Y 40 41</td>\n",
       "    </tr>\n",
       "    <tr>\n",
       "      <th>10</th>\n",
       "      <td>HELSE NORD-TRØNDELAG HF</td>\n",
       "      <td>983974791</td>\n",
       "      <td>0X 0Y 40 380 440 450 460 48</td>\n",
       "    </tr>\n",
       "    <tr>\n",
       "      <th>6</th>\n",
       "      <td>HELSE STAVANGER HF</td>\n",
       "      <td>983974678</td>\n",
       "      <td>0X 0Y 40 380 440 450 460 48</td>\n",
       "    </tr>\n",
       "    <tr>\n",
       "      <th>22</th>\n",
       "      <td>HELSE SØR-ØST RHF</td>\n",
       "      <td>991324968</td>\n",
       "      <td>0X 0Y 40 41</td>\n",
       "    </tr>\n",
       "    <tr>\n",
       "      <th>20</th>\n",
       "      <td>HELSE VEST IKT AS</td>\n",
       "      <td>987601787</td>\n",
       "      <td>0X 0Y 40</td>\n",
       "    </tr>\n",
       "    <tr>\n",
       "      <th>15</th>\n",
       "      <td>HELSE VEST RHF</td>\n",
       "      <td>983658725</td>\n",
       "      <td>0X 0Y 40 41</td>\n",
       "    </tr>\n",
       "    <tr>\n",
       "      <th>1295</th>\n",
       "      <td>HELSEPARTNER REHABILITERING AS</td>\n",
       "      <td>980684997</td>\n",
       "      <td>39 381 441 451 461 47</td>\n",
       "    </tr>\n",
       "    <tr>\n",
       "      <th>13</th>\n",
       "      <td>HELSEPLATTFORMEN AS</td>\n",
       "      <td>922307814</td>\n",
       "      <td>0X 0Y 40</td>\n",
       "    </tr>\n",
       "    <tr>\n",
       "      <th>7</th>\n",
       "      <td>HELSETJENESTENS DRIFTSORGANISASJON FOR NØDNETT HF</td>\n",
       "      <td>911912759</td>\n",
       "      <td>0X 0Y 40</td>\n",
       "    </tr>\n",
       "    <tr>\n",
       "      <th>14</th>\n",
       "      <td>HEMIT HF</td>\n",
       "      <td>928033821</td>\n",
       "      <td>0X 0Y 40</td>\n",
       "    </tr>\n",
       "    <tr>\n",
       "      <th>645</th>\n",
       "      <td>HLF BRISKEBY - REHABILITERING OG UTADRETTEDE TJENESTER AS</td>\n",
       "      <td>998725186</td>\n",
       "      <td>39 381 441 451 461 47</td>\n",
       "    </tr>\n",
       "    <tr>\n",
       "      <th>981</th>\n",
       "      <td>HØYENHALL HELSE OG REHABILITERING AS</td>\n",
       "      <td>912041379</td>\n",
       "      <td>39 381 441 451 461 47</td>\n",
       "    </tr>\n",
       "    <tr>\n",
       "      <th>647</th>\n",
       "      <td>IBSENSYKEHUSET PORSGRUNN AS</td>\n",
       "      <td>987954167</td>\n",
       "      <td>39 381 441 451 461 47</td>\n",
       "    </tr>\n",
       "    <tr>\n",
       "      <th>1477</th>\n",
       "      <td>IDRETTENS HELSESENTER AS</td>\n",
       "      <td>994675273</td>\n",
       "      <td>39 381 441 451 461 47</td>\n",
       "    </tr>\n",
       "    <tr>\n",
       "      <th>111</th>\n",
       "      <td>INCOGNITO KLINIKK</td>\n",
       "      <td>971427051</td>\n",
       "      <td>39 381 441 451 461 47</td>\n",
       "    </tr>\n",
       "    <tr>\n",
       "      <th>1547</th>\n",
       "      <td>INSTITUTT FOR PSYKOLOISK RÅDGIVNING AS</td>\n",
       "      <td>940433649</td>\n",
       "      <td>39 381 441 451 461 47</td>\n",
       "    </tr>\n",
       "    <tr>\n",
       "      <th>1291</th>\n",
       "      <td>KASTVOLLEN REHABILITERINGSSENTER AS</td>\n",
       "      <td>918686967</td>\n",
       "      <td>39 381 441 451 461 47</td>\n",
       "    </tr>\n",
       "    <tr>\n",
       "      <th>1286</th>\n",
       "      <td>LHL SYKEHUSET GARDERMOEN</td>\n",
       "      <td>940190738</td>\n",
       "      <td>39 381 441 451 461 47</td>\n",
       "    </tr>\n",
       "    <tr>\n",
       "      <th>5</th>\n",
       "      <td>LUFTAMBULANSETJENESTEN HF</td>\n",
       "      <td>818711832</td>\n",
       "      <td>0X 0Y 40</td>\n",
       "    </tr>\n",
       "    <tr>\n",
       "      <th>196</th>\n",
       "      <td>MARTINA HANSENS HOSPITAL</td>\n",
       "      <td>985962170</td>\n",
       "      <td>39 381 441 451 461 47 48</td>\n",
       "    </tr>\n",
       "    <tr>\n",
       "      <th>152</th>\n",
       "      <td>MEDI 3 AS</td>\n",
       "      <td>941455077</td>\n",
       "      <td>39 381 441 451 461 47</td>\n",
       "    </tr>\n",
       "    <tr>\n",
       "      <th>340</th>\n",
       "      <td>MEDICUS TRONDHEIM AS</td>\n",
       "      <td>978654657</td>\n",
       "      <td>39 381 441 451 461 47</td>\n",
       "    </tr>\n",
       "    <tr>\n",
       "      <th>1492</th>\n",
       "      <td>MERÅKER KURBAD AS</td>\n",
       "      <td>986823611</td>\n",
       "      <td>39 381 441 451 461 47</td>\n",
       "    </tr>\n",
       "    <tr>\n",
       "      <th>590</th>\n",
       "      <td>MODUM BAD PSYKISK HELSEVERN</td>\n",
       "      <td>970107592</td>\n",
       "      <td>39 381 441 451 461 47</td>\n",
       "    </tr>\n",
       "    <tr>\n",
       "      <th>411</th>\n",
       "      <td>MS-SENTERET HAKADAL AS</td>\n",
       "      <td>986358668</td>\n",
       "      <td>39 381 441 451 461 47</td>\n",
       "    </tr>\n",
       "    <tr>\n",
       "      <th>670</th>\n",
       "      <td>MURITUNET AS</td>\n",
       "      <td>961721652</td>\n",
       "      <td>39 381 441 451 461 47</td>\n",
       "    </tr>\n",
       "    <tr>\n",
       "      <th>1486</th>\n",
       "      <td>N K S KLØVERÅSEN AS</td>\n",
       "      <td>993253375</td>\n",
       "      <td>39 381 441 451 461 47</td>\n",
       "    </tr>\n",
       "    <tr>\n",
       "      <th>705</th>\n",
       "      <td>N. K. S. HELSEHUS AKERSHUS AS</td>\n",
       "      <td>988192996</td>\n",
       "      <td>39 381 441 451 461 47</td>\n",
       "    </tr>\n",
       "    <tr>\n",
       "      <th>819</th>\n",
       "      <td>N.K.S. GREFSENLIA AS</td>\n",
       "      <td>992018062</td>\n",
       "      <td>39 381 441 451 461 47</td>\n",
       "    </tr>\n",
       "    <tr>\n",
       "      <th>542</th>\n",
       "      <td>N.K.S. KVAMSGRINDKOLLEKTIVET AS</td>\n",
       "      <td>992085452</td>\n",
       "      <td>39 381 441 451 461 47</td>\n",
       "    </tr>\n",
       "    <tr>\n",
       "      <th>1051</th>\n",
       "      <td>N.K.S. ØSTBYTUNET, SENTER FOR BEHANDLING OG FAGUTVIKLING AS</td>\n",
       "      <td>992104457</td>\n",
       "      <td>39 381 441 451 461 47</td>\n",
       "    </tr>\n",
       "    <tr>\n",
       "      <th>984</th>\n",
       "      <td>NAMDAL REHABILITERING IKS</td>\n",
       "      <td>986923845</td>\n",
       "      <td>39 381 441 451 461 47</td>\n",
       "    </tr>\n",
       "    <tr>\n",
       "      <th>486</th>\n",
       "      <td>NIC WAALS INSTITUTT</td>\n",
       "      <td>965985166</td>\n",
       "      <td>39 381 441 451 461 47 48</td>\n",
       "    </tr>\n",
       "    <tr>\n",
       "      <th>1163</th>\n",
       "      <td>NKS JÆREN DISTRIKTSPSYKIATRISKE SENTER AS</td>\n",
       "      <td>996380041</td>\n",
       "      <td>39 381 441 451 461 47 48</td>\n",
       "    </tr>\n",
       "    <tr>\n",
       "      <th>970</th>\n",
       "      <td>NKS OLAVIKEN ALDERSPSYKIATRISKE SYKEHUS AS</td>\n",
       "      <td>987554401</td>\n",
       "      <td>39 381 441 451 461 47 48</td>\n",
       "    </tr>\n",
       "    <tr>\n",
       "      <th>13</th>\n",
       "      <td>NORDLANDSSYKEHUSET HF</td>\n",
       "      <td>983974910</td>\n",
       "      <td>0X 0Y 40 380 440 450 460 48</td>\n",
       "    </tr>\n",
       "    <tr>\n",
       "      <th>222</th>\n",
       "      <td>NORDRE AASEN HABILITERINGSSENTER</td>\n",
       "      <td>971427396</td>\n",
       "      <td>39 381 441 451 461 47</td>\n",
       "    </tr>\n",
       "    <tr>\n",
       "      <th>816</th>\n",
       "      <td>NORSK DIABETESSENTER FOR BEHANDLING OG OPPLÆRING</td>\n",
       "      <td>974917459</td>\n",
       "      <td>39 381 441 451 461 47</td>\n",
       "    </tr>\n",
       "    <tr>\n",
       "      <th>18</th>\n",
       "      <td>OSLO UNIVERSITETSSYKEHUS HF</td>\n",
       "      <td>993467049</td>\n",
       "      <td>0X 0Y 40 380 440 450 460 48</td>\n",
       "    </tr>\n",
       "    <tr>\n",
       "      <th>12</th>\n",
       "      <td>PASIENTREISER HF</td>\n",
       "      <td>918695079</td>\n",
       "      <td>0X 0Y 40</td>\n",
       "    </tr>\n",
       "    <tr>\n",
       "      <th>1283</th>\n",
       "      <td>PRIVATHOSPITALET FANA MEDISINSKE SENTER AS</td>\n",
       "      <td>914751934</td>\n",
       "      <td>39 381 441 451 461 47</td>\n",
       "    </tr>\n",
       "    <tr>\n",
       "      <th>1202</th>\n",
       "      <td>PRIVATSYKEHUSET HAUGESUND AS</td>\n",
       "      <td>977208734</td>\n",
       "      <td>39 381 441 451 461 47</td>\n",
       "    </tr>\n",
       "    <tr>\n",
       "      <th>162</th>\n",
       "      <td>PTØ SENTERET GARDERMOEN</td>\n",
       "      <td>976724895</td>\n",
       "      <td>39 381 441 451 461 47</td>\n",
       "    </tr>\n",
       "    <tr>\n",
       "      <th>245</th>\n",
       "      <td>RAVNEBERGHAUGEN REHABILITERINGSSENTER</td>\n",
       "      <td>977155673</td>\n",
       "      <td>39 381 441 451 461 47</td>\n",
       "    </tr>\n",
       "    <tr>\n",
       "      <th>721</th>\n",
       "      <td>REHABILITERING VEST AS</td>\n",
       "      <td>995705753</td>\n",
       "      <td>39 381 441 451 461 47</td>\n",
       "    </tr>\n",
       "    <tr>\n",
       "      <th>860</th>\n",
       "      <td>REHABILITERINGSSENTERET AIR AS</td>\n",
       "      <td>934452011</td>\n",
       "      <td>39 381 441 451 461 47</td>\n",
       "    </tr>\n",
       "    <tr>\n",
       "      <th>214</th>\n",
       "      <td>REVMATISMESYKEHUSET AS</td>\n",
       "      <td>985773238</td>\n",
       "      <td>39 381 441 451 461 47 48</td>\n",
       "    </tr>\n",
       "    <tr>\n",
       "      <th>367</th>\n",
       "      <td>RIISBY BEHANDLINGSSENTER</td>\n",
       "      <td>984012721</td>\n",
       "      <td>39 381 441 451 461 47</td>\n",
       "    </tr>\n",
       "    <tr>\n",
       "      <th>1024</th>\n",
       "      <td>RINGEN REHABILITERINGSSENTER</td>\n",
       "      <td>951496502</td>\n",
       "      <td>39 381 441 451 461 47</td>\n",
       "    </tr>\n",
       "    <tr>\n",
       "      <th>437</th>\n",
       "      <td>ROGALAND A-SENTER</td>\n",
       "      <td>986476695</td>\n",
       "      <td>39 381 441 451 461 47</td>\n",
       "    </tr>\n",
       "    <tr>\n",
       "      <th>1144</th>\n",
       "      <td>RØDE KORS HAUGLAND REHABILITERINGSSENTER AS</td>\n",
       "      <td>937184077</td>\n",
       "      <td>39 381 441 451 461 47</td>\n",
       "    </tr>\n",
       "    <tr>\n",
       "      <th>959</th>\n",
       "      <td>RØYSUMTUNET</td>\n",
       "      <td>974987562</td>\n",
       "      <td>39 381 441 451 461 47</td>\n",
       "    </tr>\n",
       "    <tr>\n",
       "      <th>254</th>\n",
       "      <td>SAMTUN AS</td>\n",
       "      <td>986395865</td>\n",
       "      <td>39 381 441 451 461 47</td>\n",
       "    </tr>\n",
       "    <tr>\n",
       "      <th>825</th>\n",
       "      <td>SELLI REHABILITERINGSSENTER AS</td>\n",
       "      <td>939906746</td>\n",
       "      <td>39 381 441 451 461 47</td>\n",
       "    </tr>\n",
       "    <tr>\n",
       "      <th>303</th>\n",
       "      <td>SIGNO CONRAD SVENDSEN SENTER</td>\n",
       "      <td>970533427</td>\n",
       "      <td>39 381 441 451 461 47</td>\n",
       "    </tr>\n",
       "    <tr>\n",
       "      <th>611</th>\n",
       "      <td>SKJELFOSS PSYKIATRISKE SENTER TSB</td>\n",
       "      <td>953557088</td>\n",
       "      <td>39 381 441 451 461 47</td>\n",
       "    </tr>\n",
       "    <tr>\n",
       "      <th>1307</th>\n",
       "      <td>SKOGLI HELSE OG REHABILITERINGSSENTER AS</td>\n",
       "      <td>980973549</td>\n",
       "      <td>39 381 441 451 461 47</td>\n",
       "    </tr>\n",
       "    <tr>\n",
       "      <th>1551</th>\n",
       "      <td>SNUOM PSYKISK HELSE AS</td>\n",
       "      <td>922569738</td>\n",
       "      <td>39 381 441 451 461 47</td>\n",
       "    </tr>\n",
       "    <tr>\n",
       "      <th>602</th>\n",
       "      <td>SOLLI SYKEHUS AS</td>\n",
       "      <td>919865636</td>\n",
       "      <td>39 381 441 451 461 47 48</td>\n",
       "    </tr>\n",
       "    <tr>\n",
       "      <th>1</th>\n",
       "      <td>ST OLAVS HOSPITAL HF</td>\n",
       "      <td>883974832</td>\n",
       "      <td>0X 0Y 40 380 440 450 460 48</td>\n",
       "    </tr>\n",
       "    <tr>\n",
       "      <th>305</th>\n",
       "      <td>STIFTELSEN BEITOSTØLEN HELSESPORTSENTER</td>\n",
       "      <td>971436875</td>\n",
       "      <td>39 381 441 451 461 47</td>\n",
       "    </tr>\n",
       "    <tr>\n",
       "      <th>589</th>\n",
       "      <td>STIFTELSEN BETANIEN HOSPITAL SKIEN</td>\n",
       "      <td>981275721</td>\n",
       "      <td>39 381 441 451 461 47 48</td>\n",
       "    </tr>\n",
       "    <tr>\n",
       "      <th>1388</th>\n",
       "      <td>STIFTELSEN CATOSENTERET</td>\n",
       "      <td>979757751</td>\n",
       "      <td>39 381 441 451 461 47</td>\n",
       "    </tr>\n",
       "    <tr>\n",
       "      <th>784</th>\n",
       "      <td>STIFTELSEN FINNMARKSKOLLEKTIVET</td>\n",
       "      <td>980230066</td>\n",
       "      <td>39 381 441 451 461 47</td>\n",
       "    </tr>\n",
       "    <tr>\n",
       "      <th>220</th>\n",
       "      <td>STIFTELSEN FOSSUM-KOLLEKTIVET</td>\n",
       "      <td>971474483</td>\n",
       "      <td>39 381 441 451 461 47</td>\n",
       "    </tr>\n",
       "    <tr>\n",
       "      <th>168</th>\n",
       "      <td>STIFTELSEN FREDHEIM</td>\n",
       "      <td>970572066</td>\n",
       "      <td>39 381 441 451 461 47</td>\n",
       "    </tr>\n",
       "    <tr>\n",
       "      <th>487</th>\n",
       "      <td>STIFTELSEN HERNES INSTITUTT</td>\n",
       "      <td>983213421</td>\n",
       "      <td>39 381 441 451 461 47</td>\n",
       "    </tr>\n",
       "    <tr>\n",
       "      <th>829</th>\n",
       "      <td>STIFTELSEN KARMSUND ABR-SENTER</td>\n",
       "      <td>961664837</td>\n",
       "      <td>39 381 441 451 461 47</td>\n",
       "    </tr>\n",
       "    <tr>\n",
       "      <th>1260</th>\n",
       "      <td>STIFTELSEN KVINNEKOLLEKTIVET ARKEN</td>\n",
       "      <td>871491682</td>\n",
       "      <td>39 381 441 451 461 47</td>\n",
       "    </tr>\n",
       "    <tr>\n",
       "      <th>16</th>\n",
       "      <td>STIFTELSEN MANIFESTSENTERET</td>\n",
       "      <td>971517093</td>\n",
       "      <td>39 381 441 451 461 47</td>\n",
       "    </tr>\n",
       "    <tr>\n",
       "      <th>1383</th>\n",
       "      <td>STIFTELSEN NORDTUN HELSEREHAB</td>\n",
       "      <td>936079857</td>\n",
       "      <td>39 381 441 451 461 47</td>\n",
       "    </tr>\n",
       "    <tr>\n",
       "      <th>431</th>\n",
       "      <td>STIFTELSEN PHOENIX</td>\n",
       "      <td>971497289</td>\n",
       "      <td>39 381 441 451 461 47</td>\n",
       "    </tr>\n",
       "    <tr>\n",
       "      <th>113</th>\n",
       "      <td>STIFTELSEN RENÅVANGEN</td>\n",
       "      <td>956779510</td>\n",
       "      <td>39 381 441 451 461 47</td>\n",
       "    </tr>\n",
       "    <tr>\n",
       "      <th>1480</th>\n",
       "      <td>STIFTELSEN RIBO</td>\n",
       "      <td>970981071</td>\n",
       "      <td>39 381 441 451 461 47</td>\n",
       "    </tr>\n",
       "    <tr>\n",
       "      <th>430</th>\n",
       "      <td>STIFTELSEN SOLLIAKOLLEKTIVET</td>\n",
       "      <td>961790840</td>\n",
       "      <td>39 381 441 451 461 47</td>\n",
       "    </tr>\n",
       "    <tr>\n",
       "      <th>1513</th>\n",
       "      <td>STIFTELSEN TRASOPPKLINIKKEN</td>\n",
       "      <td>871427062</td>\n",
       "      <td>39 381 441 451 461 47</td>\n",
       "    </tr>\n",
       "    <tr>\n",
       "      <th>1177</th>\n",
       "      <td>STIFTELSEN VALDRESKLINIKKEN</td>\n",
       "      <td>963971729</td>\n",
       "      <td>39 381 441 451 461 47</td>\n",
       "    </tr>\n",
       "    <tr>\n",
       "      <th>361</th>\n",
       "      <td>STIFTELSEN VIKEN SENTER</td>\n",
       "      <td>984806329</td>\n",
       "      <td>39 381 441 451 461 47</td>\n",
       "    </tr>\n",
       "    <tr>\n",
       "      <th>0</th>\n",
       "      <td>SUNNAAS SYKEHUS HF</td>\n",
       "      <td>883971752</td>\n",
       "      <td>0X 0Y 40 380 440 450 460 48</td>\n",
       "    </tr>\n",
       "    <tr>\n",
       "      <th>4</th>\n",
       "      <td>SYKEHUSBYGG HF</td>\n",
       "      <td>814630722</td>\n",
       "      <td>0X 0Y 40</td>\n",
       "    </tr>\n",
       "    <tr>\n",
       "      <th>16</th>\n",
       "      <td>SYKEHUSET I VESTFOLD HF</td>\n",
       "      <td>983975259</td>\n",
       "      <td>0X 0Y 40 380 440 450 460 48</td>\n",
       "    </tr>\n",
       "    <tr>\n",
       "      <th>4</th>\n",
       "      <td>SYKEHUSET INNLANDET HF</td>\n",
       "      <td>983971709</td>\n",
       "      <td>0X 0Y 40 380 440 450 460 48</td>\n",
       "    </tr>\n",
       "    <tr>\n",
       "      <th>17</th>\n",
       "      <td>SYKEHUSET TELEMARK HF</td>\n",
       "      <td>983975267</td>\n",
       "      <td>0X 0Y 40 380 440 450 460 48</td>\n",
       "    </tr>\n",
       "    <tr>\n",
       "      <th>5</th>\n",
       "      <td>SYKEHUSET ØSTFOLD HF</td>\n",
       "      <td>983971768</td>\n",
       "      <td>0X 0Y 40 380 440 450 460 48</td>\n",
       "    </tr>\n",
       "    <tr>\n",
       "      <th>9</th>\n",
       "      <td>SYKEHUSINNKJØP HF</td>\n",
       "      <td>916879067</td>\n",
       "      <td>0X 0Y 40</td>\n",
       "    </tr>\n",
       "    <tr>\n",
       "      <th>8</th>\n",
       "      <td>SYKEHUSPARTNER HF</td>\n",
       "      <td>914637651</td>\n",
       "      <td>0X 0Y 40</td>\n",
       "    </tr>\n",
       "    <tr>\n",
       "      <th>15</th>\n",
       "      <td>SØRLANDET SYKEHUS HF</td>\n",
       "      <td>983975240</td>\n",
       "      <td>0X 0Y 40 380 440 450 460 48</td>\n",
       "    </tr>\n",
       "    <tr>\n",
       "      <th>1179</th>\n",
       "      <td>SØRLANDETS REHABILITERINGSSENTER EIKEN AS</td>\n",
       "      <td>999087345</td>\n",
       "      <td>39 381 441 451 461 47</td>\n",
       "    </tr>\n",
       "    <tr>\n",
       "      <th>1041</th>\n",
       "      <td>TRENINGSKLINIKKEN</td>\n",
       "      <td>912663272</td>\n",
       "      <td>39 381 441 451 461 47</td>\n",
       "    </tr>\n",
       "    <tr>\n",
       "      <th>276</th>\n",
       "      <td>TYRILITUNET</td>\n",
       "      <td>961025311</td>\n",
       "      <td>39 381 441 451 461 47</td>\n",
       "    </tr>\n",
       "    <tr>\n",
       "      <th>888</th>\n",
       "      <td>UNICARE BAKKE AS</td>\n",
       "      <td>987658584</td>\n",
       "      <td>39 381 441 451 461 47</td>\n",
       "    </tr>\n",
       "    <tr>\n",
       "      <th>156</th>\n",
       "      <td>UNICARE FRAM</td>\n",
       "      <td>976547993</td>\n",
       "      <td>39 381 441 451 461 47</td>\n",
       "    </tr>\n",
       "    <tr>\n",
       "      <th>672</th>\n",
       "      <td>UNICARE HOKKSUND AS</td>\n",
       "      <td>959678839</td>\n",
       "      <td>39 381 441 451 461 47</td>\n",
       "    </tr>\n",
       "    <tr>\n",
       "      <th>927</th>\n",
       "      <td>UNICARE JELØY AS</td>\n",
       "      <td>983478778</td>\n",
       "      <td>39 381 441 451 461 47</td>\n",
       "    </tr>\n",
       "    <tr>\n",
       "      <th>797</th>\n",
       "      <td>UNICARE LANDAASEN AS</td>\n",
       "      <td>966867450</td>\n",
       "      <td>39 381 441 451 461 47</td>\n",
       "    </tr>\n",
       "    <tr>\n",
       "      <th>1040</th>\n",
       "      <td>UNICARE RØROS</td>\n",
       "      <td>975984168</td>\n",
       "      <td>39 381 441 451 461 47</td>\n",
       "    </tr>\n",
       "    <tr>\n",
       "      <th>623</th>\n",
       "      <td>UNICARE STEFFENSRUD AS</td>\n",
       "      <td>932191482</td>\n",
       "      <td>39 381 441 451 461 47</td>\n",
       "    </tr>\n",
       "    <tr>\n",
       "      <th>12</th>\n",
       "      <td>UNIVERSITETSSYKEHUSET NORD-NORGE HF</td>\n",
       "      <td>983974899</td>\n",
       "      <td>0X 0Y 40 380 440 450 460 48</td>\n",
       "    </tr>\n",
       "    <tr>\n",
       "      <th>325</th>\n",
       "      <td>VALNESFJORD HELSESPORTSSENTER</td>\n",
       "      <td>976516745</td>\n",
       "      <td>39 381 441 451 461 47</td>\n",
       "    </tr>\n",
       "    <tr>\n",
       "      <th>274</th>\n",
       "      <td>VESLELIEN</td>\n",
       "      <td>944384448</td>\n",
       "      <td>39 381 441 451 461 47</td>\n",
       "    </tr>\n",
       "    <tr>\n",
       "      <th>2</th>\n",
       "      <td>VESTRE VIKEN HF</td>\n",
       "      <td>894166762</td>\n",
       "      <td>0X 0Y 40 380 440 450 460 48</td>\n",
       "    </tr>\n",
       "    <tr>\n",
       "      <th>999</th>\n",
       "      <td>VIGØR REHABILITERINGSSYKEHUS AS</td>\n",
       "      <td>980924076</td>\n",
       "      <td>39 381 441 451 461 47</td>\n",
       "    </tr>\n",
       "    <tr>\n",
       "      <th>370</th>\n",
       "      <td>VIKERSUND BAD REHABILITERINGSSENTER AS</td>\n",
       "      <td>964249075</td>\n",
       "      <td>39 381 441 451 461 47</td>\n",
       "    </tr>\n",
       "    <tr>\n",
       "      <th>356</th>\n",
       "      <td>VOLVAT MEDISINSKE SENTER AS</td>\n",
       "      <td>953164701</td>\n",
       "      <td>39 381 441 451 461 47</td>\n",
       "    </tr>\n",
       "    <tr>\n",
       "      <th>1067</th>\n",
       "      <td>VOLVAT MEDISINSKE SENTER NORD OG MIDT-NORGE AS</td>\n",
       "      <td>816085292</td>\n",
       "      <td>39 381 441 451 461 47</td>\n",
       "    </tr>\n",
       "    <tr>\n",
       "      <th>603</th>\n",
       "      <td>VOSS DPS NKS BJØRKELI AS</td>\n",
       "      <td>916270097</td>\n",
       "      <td>39 381 441 451 461 47 48</td>\n",
       "    </tr>\n",
       "    <tr>\n",
       "      <th>171</th>\n",
       "      <td>WECARE OMSORG AS</td>\n",
       "      <td>925282332</td>\n",
       "      <td>39 381 441 451 461 47</td>\n",
       "    </tr>\n",
       "    <tr>\n",
       "      <th>750</th>\n",
       "      <td>ÅSTVEIT HELSESENTER AS</td>\n",
       "      <td>988413216</td>\n",
       "      <td>39 381 441 451 461 47</td>\n",
       "    </tr>\n",
       "  </tbody>\n",
       "</table>\n",
       "</div>"
      ],
      "text/plain": [
       "                                                     FORETAK_NAVN  \\\n",
       "3                                 AKERSHUS UNIVERSITETSSYKEHUS HF   \n",
       "56                                                ALERIS FROGNER    \n",
       "338                                             AVONOVA HELSE AS    \n",
       "36                                BETANIEN SPESIALISTPOLIKLINIKK    \n",
       "64                               BLÅ KORS  BORGESTADKLINIKKEN SA    \n",
       "195                                  BLÅ KORS HAUGALAND A-SENTER    \n",
       "273              BLÅ KORS KLINIKK RUS OG AVHENGIGHET TJELDSUND AS   \n",
       "503                           BLÅ KORS LADE BEHANDLINGSSENTER SA    \n",
       "132                                              BLÅ KORS ØST AS    \n",
       "189                                     CAPIO ANOREKSI SENTER AS    \n",
       "985                                           COPERIOSENTERET AS    \n",
       "665                             CRUX BERGFLØTT BEHANDLINGSSENTER    \n",
       "183                                        DIAKONHJEMMET SYKEHUS    \n",
       "1432                                         EEG LABORATORIET AS    \n",
       "1121                                            EVJEKLINIKKEN AS    \n",
       "435                                   FEKJÆR PSYKIATRISKE SENTER    \n",
       "11                                          FINNMARKSSYKEHUSET HF   \n",
       "1420                                             FORUSAKUTTEN AS    \n",
       "1083                                    FRELSESARMEENS RUSOMSORG    \n",
       "331                                           FRISK UTVIKLING AS    \n",
       "1042                                              FRISKGÅRDEN AS    \n",
       "643                                              FRISKSTIFTELSEN    \n",
       "436                            FURUKOLLEN PSYKIATRISKE SENTER AS    \n",
       "239                             GODTHAAB HELSE OG REHABILITERING    \n",
       "35                             HARALDSPLASS DIAKONALE SYKEHUS AS    \n",
       "662              HAUGESUND SANITETSFORENINGS REVMATISMESYKEHUS AS   \n",
       "1043                                    HELGELAND REHABILITERING    \n",
       "14                                         HELGELANDSSYKEHUSET HF   \n",
       "8                                                 HELSE BERGEN HF   \n",
       "7                                                  HELSE FONNA HF   \n",
       "9                                                  HELSE FØRDE HF   \n",
       "16                                           HELSE MIDT-NORGE RHF   \n",
       "19                                       HELSE MØRE OG ROMSDAL HF   \n",
       "11                                              HELSE NORD IKT HF   \n",
       "6                                                  HELSE NORD RHF   \n",
       "10                                        HELSE NORD-TRØNDELAG HF   \n",
       "6                                              HELSE STAVANGER HF   \n",
       "22                                              HELSE SØR-ØST RHF   \n",
       "20                                              HELSE VEST IKT AS   \n",
       "15                                                 HELSE VEST RHF   \n",
       "1295                              HELSEPARTNER REHABILITERING AS    \n",
       "13                                            HELSEPLATTFORMEN AS   \n",
       "7               HELSETJENESTENS DRIFTSORGANISASJON FOR NØDNETT HF   \n",
       "14                                                       HEMIT HF   \n",
       "645     HLF BRISKEBY - REHABILITERING OG UTADRETTEDE TJENESTER AS   \n",
       "981                          HØYENHALL HELSE OG REHABILITERING AS   \n",
       "647                                  IBSENSYKEHUSET PORSGRUNN AS    \n",
       "1477                                    IDRETTENS HELSESENTER AS    \n",
       "111                                            INCOGNITO KLINIKK    \n",
       "1547                       INSTITUTT FOR PSYKOLOISK RÅDGIVNING AS   \n",
       "1291                         KASTVOLLEN REHABILITERINGSSENTER AS    \n",
       "1286                                    LHL SYKEHUSET GARDERMOEN    \n",
       "5                                       LUFTAMBULANSETJENESTEN HF   \n",
       "196                                     MARTINA HANSENS HOSPITAL    \n",
       "152                                                    MEDI 3 AS    \n",
       "340                                         MEDICUS TRONDHEIM AS    \n",
       "1492                                           MERÅKER KURBAD AS    \n",
       "590                                  MODUM BAD PSYKISK HELSEVERN    \n",
       "411                                       MS-SENTERET HAKADAL AS    \n",
       "670                                                 MURITUNET AS    \n",
       "1486                                         N K S KLØVERÅSEN AS    \n",
       "705                                N. K. S. HELSEHUS AKERSHUS AS    \n",
       "819                                         N.K.S. GREFSENLIA AS    \n",
       "542                              N.K.S. KVAMSGRINDKOLLEKTIVET AS    \n",
       "1051  N.K.S. ØSTBYTUNET, SENTER FOR BEHANDLING OG FAGUTVIKLING AS   \n",
       "984                                    NAMDAL REHABILITERING IKS    \n",
       "486                                          NIC WAALS INSTITUTT    \n",
       "1163                    NKS JÆREN DISTRIKTSPSYKIATRISKE SENTER AS   \n",
       "970                    NKS OLAVIKEN ALDERSPSYKIATRISKE SYKEHUS AS   \n",
       "13                                          NORDLANDSSYKEHUSET HF   \n",
       "222                             NORDRE AASEN HABILITERINGSSENTER    \n",
       "816              NORSK DIABETESSENTER FOR BEHANDLING OG OPPLÆRING   \n",
       "18                                    OSLO UNIVERSITETSSYKEHUS HF   \n",
       "12                                               PASIENTREISER HF   \n",
       "1283                   PRIVATHOSPITALET FANA MEDISINSKE SENTER AS   \n",
       "1202                                PRIVATSYKEHUSET HAUGESUND AS    \n",
       "162                                      PTØ SENTERET GARDERMOEN    \n",
       "245                         RAVNEBERGHAUGEN REHABILITERINGSSENTER   \n",
       "721                                       REHABILITERING VEST AS    \n",
       "860                               REHABILITERINGSSENTERET AIR AS    \n",
       "214                                       REVMATISMESYKEHUSET AS    \n",
       "367                                     RIISBY BEHANDLINGSSENTER    \n",
       "1024                                RINGEN REHABILITERINGSSENTER    \n",
       "437                                            ROGALAND A-SENTER    \n",
       "1144                  RØDE KORS HAUGLAND REHABILITERINGSSENTER AS   \n",
       "959                                                  RØYSUMTUNET    \n",
       "254                                                    SAMTUN AS    \n",
       "825                               SELLI REHABILITERINGSSENTER AS    \n",
       "303                                 SIGNO CONRAD SVENDSEN SENTER    \n",
       "611                            SKJELFOSS PSYKIATRISKE SENTER TSB    \n",
       "1307                     SKOGLI HELSE OG REHABILITERINGSSENTER AS   \n",
       "1551                                      SNUOM PSYKISK HELSE AS    \n",
       "602                                             SOLLI SYKEHUS AS    \n",
       "1                                            ST OLAVS HOSPITAL HF   \n",
       "305                       STIFTELSEN BEITOSTØLEN HELSESPORTSENTER   \n",
       "589                           STIFTELSEN BETANIEN HOSPITAL SKIEN    \n",
       "1388                                     STIFTELSEN CATOSENTERET    \n",
       "784                              STIFTELSEN FINNMARKSKOLLEKTIVET    \n",
       "220                                STIFTELSEN FOSSUM-KOLLEKTIVET    \n",
       "168                                          STIFTELSEN FREDHEIM    \n",
       "487                                  STIFTELSEN HERNES INSTITUTT    \n",
       "829                               STIFTELSEN KARMSUND ABR-SENTER    \n",
       "1260                          STIFTELSEN KVINNEKOLLEKTIVET ARKEN    \n",
       "16                                   STIFTELSEN MANIFESTSENTERET    \n",
       "1383                               STIFTELSEN NORDTUN HELSEREHAB    \n",
       "431                                           STIFTELSEN PHOENIX    \n",
       "113                                        STIFTELSEN RENÅVANGEN    \n",
       "1480                                             STIFTELSEN RIBO    \n",
       "430                                 STIFTELSEN SOLLIAKOLLEKTIVET    \n",
       "1513                                 STIFTELSEN TRASOPPKLINIKKEN    \n",
       "1177                                 STIFTELSEN VALDRESKLINIKKEN    \n",
       "361                                      STIFTELSEN VIKEN SENTER    \n",
       "0                                              SUNNAAS SYKEHUS HF   \n",
       "4                                                  SYKEHUSBYGG HF   \n",
       "16                                        SYKEHUSET I VESTFOLD HF   \n",
       "4                                          SYKEHUSET INNLANDET HF   \n",
       "17                                          SYKEHUSET TELEMARK HF   \n",
       "5                                            SYKEHUSET ØSTFOLD HF   \n",
       "9                                               SYKEHUSINNKJØP HF   \n",
       "8                                               SYKEHUSPARTNER HF   \n",
       "15                                           SØRLANDET SYKEHUS HF   \n",
       "1179                    SØRLANDETS REHABILITERINGSSENTER EIKEN AS   \n",
       "1041                                           TRENINGSKLINIKKEN    \n",
       "276                                                  TYRILITUNET    \n",
       "888                                             UNICARE BAKKE AS    \n",
       "156                                                 UNICARE FRAM    \n",
       "672                                          UNICARE HOKKSUND AS    \n",
       "927                                             UNICARE JELØY AS    \n",
       "797                                         UNICARE LANDAASEN AS    \n",
       "1040                                               UNICARE RØROS    \n",
       "623                                       UNICARE STEFFENSRUD AS    \n",
       "12                            UNIVERSITETSSYKEHUSET NORD-NORGE HF   \n",
       "325                                VALNESFJORD HELSESPORTSSENTER    \n",
       "274                                                    VESLELIEN    \n",
       "2                                                 VESTRE VIKEN HF   \n",
       "999                              VIGØR REHABILITERINGSSYKEHUS AS    \n",
       "370                        VIKERSUND BAD REHABILITERINGSSENTER AS   \n",
       "356                                  VOLVAT MEDISINSKE SENTER AS    \n",
       "1067               VOLVAT MEDISINSKE SENTER NORD OG MIDT-NORGE AS   \n",
       "603                                     VOSS DPS NKS BJØRKELI AS    \n",
       "171                                             WECARE OMSORG AS    \n",
       "750                                       ÅSTVEIT HELSESENTER AS    \n",
       "\n",
       "     ORGNR_FORETAK                  SKJEMA_TYPE  \n",
       "3        983971636  0X 0Y 40 380 440 450 460 48  \n",
       "56       943545634        39 381 441 451 461 47  \n",
       "338      884039312        39 381 441 451 461 47  \n",
       "36       922716552     39 381 441 451 461 47 48  \n",
       "64       971450231        39 381 441 451 461 47  \n",
       "195      991314113        39 381 441 451 461 47  \n",
       "273      976692888        39 381 441 451 461 47  \n",
       "503      892237832        39 381 441 451 461 47  \n",
       "132      977203287        39 381 441 451 461 47  \n",
       "189      980524493        39 381 441 451 461 47  \n",
       "985      985311013        39 381 441 451 461 47  \n",
       "665      975387011        39 381 441 451 461 47  \n",
       "183      982791952     39 381 441 451 461 47 48  \n",
       "1432     924291370        39 381 441 451 461 47  \n",
       "1121     921008104        39 381 441 451 461 47  \n",
       "435      918311556        39 381 441 451 461 47  \n",
       "11       983974880  0X 0Y 40 380 440 450 460 48  \n",
       "1420     991811869        39 381 441 451 461 47  \n",
       "1083     938498318        39 381 441 451 461 47  \n",
       "331      991441654        39 381 441 451 461 47  \n",
       "1042     984756712        39 381 441 451 461 47  \n",
       "643      913322533        39 381 441 451 461 47  \n",
       "436      996980103        39 381 441 451 461 47  \n",
       "239      871426902        39 381 441 451 461 47  \n",
       "35       984027737     39 381 441 451 461 47 48  \n",
       "662      986106839     39 381 441 451 461 47 48  \n",
       "1043     974791013        39 381 441 451 461 47  \n",
       "14       983974929  0X 0Y 40 380 440 450 460 48  \n",
       "8        983974724  0X 0Y 40 380 440 450 460 48  \n",
       "7        983974694  0X 0Y 40 380 440 450 460 48  \n",
       "9        983974732  0X 0Y 40 380 440 450 460 48  \n",
       "16       983658776                  0X 0Y 40 41  \n",
       "19       997005562  0X 0Y 40 380 440 450 460 48  \n",
       "11       918177833                     0X 0Y 40  \n",
       "6        883658752                  0X 0Y 40 41  \n",
       "10       983974791  0X 0Y 40 380 440 450 460 48  \n",
       "6        983974678  0X 0Y 40 380 440 450 460 48  \n",
       "22       991324968                  0X 0Y 40 41  \n",
       "20       987601787                     0X 0Y 40  \n",
       "15       983658725                  0X 0Y 40 41  \n",
       "1295     980684997        39 381 441 451 461 47  \n",
       "13       922307814                     0X 0Y 40  \n",
       "7        911912759                     0X 0Y 40  \n",
       "14       928033821                     0X 0Y 40  \n",
       "645      998725186        39 381 441 451 461 47  \n",
       "981      912041379        39 381 441 451 461 47  \n",
       "647      987954167        39 381 441 451 461 47  \n",
       "1477     994675273        39 381 441 451 461 47  \n",
       "111      971427051        39 381 441 451 461 47  \n",
       "1547     940433649        39 381 441 451 461 47  \n",
       "1291     918686967        39 381 441 451 461 47  \n",
       "1286     940190738        39 381 441 451 461 47  \n",
       "5        818711832                     0X 0Y 40  \n",
       "196      985962170     39 381 441 451 461 47 48  \n",
       "152      941455077        39 381 441 451 461 47  \n",
       "340      978654657        39 381 441 451 461 47  \n",
       "1492     986823611        39 381 441 451 461 47  \n",
       "590      970107592        39 381 441 451 461 47  \n",
       "411      986358668        39 381 441 451 461 47  \n",
       "670      961721652        39 381 441 451 461 47  \n",
       "1486     993253375        39 381 441 451 461 47  \n",
       "705      988192996        39 381 441 451 461 47  \n",
       "819      992018062        39 381 441 451 461 47  \n",
       "542      992085452        39 381 441 451 461 47  \n",
       "1051     992104457        39 381 441 451 461 47  \n",
       "984      986923845        39 381 441 451 461 47  \n",
       "486      965985166     39 381 441 451 461 47 48  \n",
       "1163     996380041     39 381 441 451 461 47 48  \n",
       "970      987554401     39 381 441 451 461 47 48  \n",
       "13       983974910  0X 0Y 40 380 440 450 460 48  \n",
       "222      971427396        39 381 441 451 461 47  \n",
       "816      974917459        39 381 441 451 461 47  \n",
       "18       993467049  0X 0Y 40 380 440 450 460 48  \n",
       "12       918695079                     0X 0Y 40  \n",
       "1283     914751934        39 381 441 451 461 47  \n",
       "1202     977208734        39 381 441 451 461 47  \n",
       "162      976724895        39 381 441 451 461 47  \n",
       "245      977155673        39 381 441 451 461 47  \n",
       "721      995705753        39 381 441 451 461 47  \n",
       "860      934452011        39 381 441 451 461 47  \n",
       "214      985773238     39 381 441 451 461 47 48  \n",
       "367      984012721        39 381 441 451 461 47  \n",
       "1024     951496502        39 381 441 451 461 47  \n",
       "437      986476695        39 381 441 451 461 47  \n",
       "1144     937184077        39 381 441 451 461 47  \n",
       "959      974987562        39 381 441 451 461 47  \n",
       "254      986395865        39 381 441 451 461 47  \n",
       "825      939906746        39 381 441 451 461 47  \n",
       "303      970533427        39 381 441 451 461 47  \n",
       "611      953557088        39 381 441 451 461 47  \n",
       "1307     980973549        39 381 441 451 461 47  \n",
       "1551     922569738        39 381 441 451 461 47  \n",
       "602      919865636     39 381 441 451 461 47 48  \n",
       "1        883974832  0X 0Y 40 380 440 450 460 48  \n",
       "305      971436875        39 381 441 451 461 47  \n",
       "589      981275721     39 381 441 451 461 47 48  \n",
       "1388     979757751        39 381 441 451 461 47  \n",
       "784      980230066        39 381 441 451 461 47  \n",
       "220      971474483        39 381 441 451 461 47  \n",
       "168      970572066        39 381 441 451 461 47  \n",
       "487      983213421        39 381 441 451 461 47  \n",
       "829      961664837        39 381 441 451 461 47  \n",
       "1260     871491682        39 381 441 451 461 47  \n",
       "16       971517093        39 381 441 451 461 47  \n",
       "1383     936079857        39 381 441 451 461 47  \n",
       "431      971497289        39 381 441 451 461 47  \n",
       "113      956779510        39 381 441 451 461 47  \n",
       "1480     970981071        39 381 441 451 461 47  \n",
       "430      961790840        39 381 441 451 461 47  \n",
       "1513     871427062        39 381 441 451 461 47  \n",
       "1177     963971729        39 381 441 451 461 47  \n",
       "361      984806329        39 381 441 451 461 47  \n",
       "0        883971752  0X 0Y 40 380 440 450 460 48  \n",
       "4        814630722                     0X 0Y 40  \n",
       "16       983975259  0X 0Y 40 380 440 450 460 48  \n",
       "4        983971709  0X 0Y 40 380 440 450 460 48  \n",
       "17       983975267  0X 0Y 40 380 440 450 460 48  \n",
       "5        983971768  0X 0Y 40 380 440 450 460 48  \n",
       "9        916879067                     0X 0Y 40  \n",
       "8        914637651                     0X 0Y 40  \n",
       "15       983975240  0X 0Y 40 380 440 450 460 48  \n",
       "1179     999087345        39 381 441 451 461 47  \n",
       "1041     912663272        39 381 441 451 461 47  \n",
       "276      961025311        39 381 441 451 461 47  \n",
       "888      987658584        39 381 441 451 461 47  \n",
       "156      976547993        39 381 441 451 461 47  \n",
       "672      959678839        39 381 441 451 461 47  \n",
       "927      983478778        39 381 441 451 461 47  \n",
       "797      966867450        39 381 441 451 461 47  \n",
       "1040     975984168        39 381 441 451 461 47  \n",
       "623      932191482        39 381 441 451 461 47  \n",
       "12       983974899  0X 0Y 40 380 440 450 460 48  \n",
       "325      976516745        39 381 441 451 461 47  \n",
       "274      944384448        39 381 441 451 461 47  \n",
       "2        894166762  0X 0Y 40 380 440 450 460 48  \n",
       "999      980924076        39 381 441 451 461 47  \n",
       "370      964249075        39 381 441 451 461 47  \n",
       "356      953164701        39 381 441 451 461 47  \n",
       "1067     816085292        39 381 441 451 461 47  \n",
       "603      916270097     39 381 441 451 461 47 48  \n",
       "171      925282332        39 381 441 451 461 47  \n",
       "750      988413216        39 381 441 451 461 47  "
      ]
     },
     "execution_count": 154,
     "metadata": {},
     "output_type": "execute_result"
    }
   ],
   "source": [
    "brukerliste_dfs = [df_hj, df_rhf, df_hf, df_p, df_op]\n",
    "brukerliste_df = pd.concat(brukerliste_dfs)\n"
   ]
  },
  {
   "cell_type": "markdown",
   "id": "efdc8242-0b80-4228-8101-8307efe01cef",
   "metadata": {},
   "source": [
    "# Eksportering til .csv-filer og rapport"
   ]
  },
  {
   "cell_type": "code",
   "execution_count": 146,
   "id": "16c06fbf-c805-454c-b621-45198ff8db58",
   "metadata": {},
   "outputs": [],
   "source": [
    "def rapport(skj):\n",
    "    rader = eval(skj).shape[0]\n",
    "    kolonner = eval(skj).shape[1]\n",
    "    rader_med_missing = rader - eval(skj).dropna().shape[0]\n",
    "    skl = 100 * \"-\"\n",
    "    s = f\"{skl}\\n{skj}\\t Rader: {rader} \\t Kolonner: {kolonner} \\t Rader som inneholder minst en missing value: {rader_med_missing} \"\n",
    "    return s\n",
    "\n",
    "def lagre_dropliste_csv(skj):\n",
    "    filnavn = \"Dropliste_\" + skj + \"_\" + str(aargang) + \"_\" + dato_idag + \".csv\"\n",
    "    if skj == \"brukerliste_df\":\n",
    "        filnavn = \"Brukerliste\" + \"_\" + str(aargang) + \"_\" + dato_idag + \".csv\"\n",
    "    eval(skj).to_csv(sti_til_lagring + filnavn, sep=\";\", encoding='latin1', index=False)\n",
    "    print(filnavn, \" lagret\")"
   ]
  },
  {
   "cell_type": "code",
   "execution_count": 147,
   "id": "9da4a43c-3fde-4d2a-856c-7817cdf413fc",
   "metadata": {},
   "outputs": [
    {
     "name": "stdout",
     "output_type": "stream",
     "text": [
      "----------------------------------------------------------------------------------------------------\n",
      "skj0X\t Rader: 34 \t Kolonner: 5 \t Rader som inneholder minst en missing value: 0 \n",
      "----------------------------------------------------------------------------------------------------\n",
      "skj0Y\t Rader: 34 \t Kolonner: 5 \t Rader som inneholder minst en missing value: 0 \n",
      "----------------------------------------------------------------------------------------------------\n",
      "skj38O\t Rader: 19 \t Kolonner: 46 \t Rader som inneholder minst en missing value: 19 \n",
      "----------------------------------------------------------------------------------------------------\n",
      "skj38P\t Rader: 35 \t Kolonner: 8 \t Rader som inneholder minst en missing value: 1 \n",
      "----------------------------------------------------------------------------------------------------\n",
      "skj39\t Rader: 144 \t Kolonner: 9 \t Rader som inneholder minst en missing value: 0 \n",
      "----------------------------------------------------------------------------------------------------\n",
      "skj40\t Rader: 34 \t Kolonner: 5 \t Rader som inneholder minst en missing value: 0 \n",
      "----------------------------------------------------------------------------------------------------\n",
      "skj41\t Rader: 4 \t Kolonner: 5 \t Rader som inneholder minst en missing value: 0 \n",
      "----------------------------------------------------------------------------------------------------\n",
      "skj44O\t Rader: 19 \t Kolonner: 46 \t Rader som inneholder minst en missing value: 19 \n",
      "----------------------------------------------------------------------------------------------------\n",
      "skj44P\t Rader: 24 \t Kolonner: 9 \t Rader som inneholder minst en missing value: 5 \n",
      "----------------------------------------------------------------------------------------------------\n",
      "skj45O\t Rader: 19 \t Kolonner: 46 \t Rader som inneholder minst en missing value: 19 \n",
      "----------------------------------------------------------------------------------------------------\n",
      "skj45P\t Rader: 9 \t Kolonner: 9 \t Rader som inneholder minst en missing value: 6 \n",
      "----------------------------------------------------------------------------------------------------\n",
      "skj46O\t Rader: 20 \t Kolonner: 56 \t Rader som inneholder minst en missing value: 20 \n",
      "----------------------------------------------------------------------------------------------------\n",
      "skj46P\t Rader: 18 \t Kolonner: 9 \t Rader som inneholder minst en missing value: 7 \n",
      "----------------------------------------------------------------------------------------------------\n",
      "skj47\t Rader: 58 \t Kolonner: 9 \t Rader som inneholder minst en missing value: 15 \n",
      "----------------------------------------------------------------------------------------------------\n",
      "skj48\t Rader: 32 \t Kolonner: 5 \t Rader som inneholder minst en missing value: 0 \n",
      "----------------------------------------------------------------------------------------------------\n",
      "brukerliste_df\t Rader: 142 \t Kolonner: 3 \t Rader som inneholder minst en missing value: 0 \n"
     ]
    }
   ],
   "source": [
    "for x in skjemaer_til_droplister:\n",
    "    print(rapport(x))"
   ]
  },
  {
   "cell_type": "code",
   "execution_count": 148,
   "id": "e7eb4bc4-f904-4f4d-8162-53569e0310e4",
   "metadata": {},
   "outputs": [],
   "source": [
    "if lagre_filer:\n",
    "    for x in skjemaer_til_droplister:\n",
    "        lagre_dropliste_csv(x)"
   ]
  }
 ],
 "metadata": {
  "kernelspec": {
   "display_name": "Python3",
   "language": "python",
   "name": "python3"
  },
  "language_info": {
   "codemirror_mode": {
    "name": "ipython",
    "version": 3
   },
   "file_extension": ".py",
   "mimetype": "text/x-python",
   "name": "python",
   "nbconvert_exporter": "python",
   "pygments_lexer": "ipython3",
   "version": "3.10.8"
  },
  "toc-autonumbering": true
 },
 "nbformat": 4,
 "nbformat_minor": 5
}
