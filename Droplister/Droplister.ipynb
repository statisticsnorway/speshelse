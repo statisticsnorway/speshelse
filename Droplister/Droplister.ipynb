{
 "cells": [
  {
   "cell_type": "markdown",
   "id": "6665874c-ebc2-4f7e-bdb7-e9c671a47915",
   "metadata": {
    "toc-hr-collapsed": true
   },
   "source": [
    "# Introduksjon"
   ]
  },
  {
   "cell_type": "markdown",
   "id": "a6fd000f-26de-40a3-ae9e-b50c5ce1c399",
   "metadata": {},
   "source": [
    "## Forfatter(e)\n",
    "1. Magne Furuholmen Myhren . Basert på en rekke sas-filer, tidligere drop-lister og spesifikk kompetanse fra kollegaer (30.09.22)."
   ]
  },
  {
   "cell_type": "markdown",
   "id": "0fb98653-5422-4f90-9a9d-e2ac1c4e26aa",
   "metadata": {},
   "source": [
    "## Forklaring\n",
    "\n",
    "Denne notebooken bruker data fra SFU, KLASS og DYNAREV til å sette sammen _droplister_ til hvert skjema spesialisthelsetjenesten sender ut. Droplister er .csv-filer som inneholder en oversikt over alle foretak som har rapporteringsansvar, enten bare for seg selv eller for undervirksomheter. \n",
    "\n",
    "For at filene skal passe med KOSTRA-IT sine programmer, må de ha en bestemt utforming hvor kolonnenes rekkefølge har betydning og noen kolonner har særskilte krav når det kommer linjeskift og tegnsetting.\n",
    "\n",
    "Notebooken er en fullverdig erstatning for et helt løp tidligere gjort i SAS."
   ]
  },
  {
   "cell_type": "markdown",
   "id": "2bac5232-ff0e-44fe-9e17-741eb5af1645",
   "metadata": {},
   "source": [
    "## Følgende datakilder må være oppdatert\n",
    "\n",
    "- [x] Standardtabell 603, 604 og 605 i KLASS\n",
    "- [x] SFU (DYNAREV delregister 24xx og 19377xx)"
   ]
  },
  {
   "cell_type": "markdown",
   "id": "55ba825d-97d1-4ddd-bba9-dc09c9aa6191",
   "metadata": {},
   "source": [
    "## Oversikt over skjema\n",
    "```Variabel``` er variabelnavnet som peker til droplisten."
   ]
  },
  {
   "cell_type": "markdown",
   "id": "f2658970-6641-401e-a360-35386dc88748",
   "metadata": {},
   "source": [
    "  Variabel      |  Skjemanavn      |  Forklaring                                       \n",
    "----------------|------------------|-------------------------------------------------------\n",
    "  skj0X         |  0X              |  Resultatregnskap for RFH og HF                       \n",
    "  skj0Y         |  0Y              |  Balanseregnskap for RFH og HF                        \n",
    "  skj38O        |  HELSE38O        |  TSB for offentlige helseforetak                      \n",
    "  skj38P        |  HELSE38P        |  TSB for private foretak                              \n",
    "  skj39         |  HELSE39         |  Resultatregnskap for private                         \n",
    "  skj40         |  HELSE40         |  Kontantstrømoppstilling                              \n",
    "  skj41         |  HELSE41         |  Private spesialister med driftsavtale                \n",
    "  skj44O        |  HELSE44O        |  Psykisk helsevern for voksne, offentlige             \n",
    "  skj44P        |  HELSE44P        |  Psykisk helsevern for voksne, private                \n",
    "  skj45O        |  HELSE45O        |  Psykisk helsevern for barn og unge, offentlige       \n",
    "  skj45P        |  HELSE45P        |  Psykisk helsevern for barn og unge, private          \n",
    "  skj46O        |  46O             |  Somatiske sykehus, offentlige                        \n",
    "  skj46P        |  HELSE46P        |  Somatiske sykehus, private                           \n",
    "  skj47         |  HELSE47         |  Somatiske institusjoner                              \n",
    "  skj48         |  HELSE48         |  Praksiskonsulentordningen                            "
   ]
  },
  {
   "cell_type": "markdown",
   "id": "94d9bcba-6c03-4119-b041-1b2ee334ccd5",
   "metadata": {
    "toc-hr-collapsed": true
   },
   "source": [
    "# Setup"
   ]
  },
  {
   "cell_type": "markdown",
   "id": "12272fa6-45a5-4ea1-bdf2-67f5da1f82e3",
   "metadata": {},
   "source": [
    "## Importerer pakker og setter innstillinger"
   ]
  },
  {
   "cell_type": "code",
   "execution_count": null,
   "id": "2c7c9057-f6f3-47cb-9cb3-34e9327fbda4",
   "metadata": {
    "tags": []
   },
   "outputs": [],
   "source": [
    "import numpy as np\n",
    "import pandas as pd\n",
    "import cx_Oracle\n",
    "from db1p import query_db1p\n",
    "import getpass\n",
    "import os\n",
    "import requests\n",
    "from pandas.io.json import json_normalize #package for flattening json in pandas df\n",
    "\n",
    "# Fjerner begrensning på antall rader og kolonner som vises av gangen\n",
    "pd.set_option(\"display.max_columns\", None)\n",
    "pd.set_option('display.max_rows', 300)\n",
    "pd.set_option('display.max_colwidth', None)\n",
    "\n",
    "# Unngå standardform i output\n",
    "pd.set_option('display.float_format', lambda x: '%.0f' % x)"
   ]
  },
  {
   "cell_type": "markdown",
   "id": "77d9ffae-1b46-4a68-9c71-2b873029668c",
   "metadata": {},
   "source": [
    "## Velger årgang og delregister"
   ]
  },
  {
   "cell_type": "markdown",
   "id": "cca15190-e6a1-4a50-9273-f1097a8783d7",
   "metadata": {},
   "source": [
    "NB! For å lagre filene til angitt sti må `lagre_filer` settes til `True`."
   ]
  },
  {
   "cell_type": "code",
   "execution_count": null,
   "id": "136506ea-99c2-4429-b794-ae5551fb5b9c",
   "metadata": {
    "tags": []
   },
   "outputs": [],
   "source": [
    "aargang = 2022\n",
    "siste_to_siffer_aargang = str(aargang)[-2:]\n",
    "\n",
    "aar_for = aargang - 1            # året før\n",
    "siste_to_siffer_aar_for = str(aar_for)[-2:]\n",
    "\n",
    "dato_idag = pd.Timestamp(\"today\").strftime(\"%d%m%y\")\n",
    "\n",
    "###############################################################################\n",
    "lagre_filer = False              # sett til True, hvis du vil lagre droplistene\n",
    "###############################################################################\n",
    "stamme_sti = \"/ssb/stamme01/fylkhels/speshelse/felles/droplister/\""
   ]
  },
  {
   "cell_type": "code",
   "execution_count": null,
   "id": "b0ec936c-f200-4347-810c-b3a625ed6517",
   "metadata": {},
   "outputs": [],
   "source": [
    "# lagrer i mappe sortert på aargang og dagens dato. Lager ny mappe hvis\n",
    "# den allerede ikke eksisterer\n",
    "if lagre_filer:\n",
    "    if not os.path.exists(stamme_sti + str(aargang)):\n",
    "        os.makedirs(stamme_sti + str(aargang))\n",
    "\n",
    "    if not os.path.exists(stamme_sti + str(aargang) + \"/\" + dato_idag):\n",
    "        os.makedirs(stamme_sti + str(aargang) + \"/\" + dato_idag)\n",
    "\n",
    "    sti_til_lagring = stamme_sti + str(aargang) + \"/\" + dato_idag + \"/\""
   ]
  },
  {
   "cell_type": "markdown",
   "id": "362eb2c2-fa51-42f2-be5e-e2c5d8c52f2d",
   "metadata": {},
   "source": [
    "## Tilgang oracle"
   ]
  },
  {
   "cell_type": "code",
   "execution_count": null,
   "id": "cf68b758-87ab-499a-bc60-8bb5ecc22c5f",
   "metadata": {
    "tags": []
   },
   "outputs": [],
   "source": [
    "conn = cx_Oracle.connect(getpass.getuser()+\"/\"+getpass.getpass(prompt='Oracle-passord: ')+\"@DB1P\")"
   ]
  },
  {
   "cell_type": "markdown",
   "id": "2ac5382b-3980-4e78-87db-2af29bec2305",
   "metadata": {},
   "source": [
    "# Henter data"
   ]
  },
  {
   "cell_type": "markdown",
   "id": "045d671d-2072-4610-b77e-64c2536812bd",
   "metadata": {
    "toc-hr-collapsed": true
   },
   "source": [
    "##  fra KLASS"
   ]
  },
  {
   "cell_type": "markdown",
   "id": "d1a03c74-b5eb-494b-938a-3db005883a3f",
   "metadata": {},
   "source": [
    "### Offentlige helseforetak"
   ]
  },
  {
   "cell_type": "code",
   "execution_count": null,
   "id": "36d704d1-4504-4649-8c3a-a65ee451a09f",
   "metadata": {},
   "outputs": [],
   "source": [
    "URL = f'http://data.ssb.no/api/klass/v1/classifications/603/codes.json?from={aargang}-01-01&includeFuture=True'\n",
    "r = requests.get(url = URL)\n",
    "offhelse_df = pd.read_json(r.text)\n",
    "offhelse_df = pd.json_normalize(offhelse_df['codes'])\n",
    "\n",
    "RHF_kode_klass = offhelse_df.query('level==\"1\"')[['code','name']]\n",
    "RHF_kode_klass = RHF_kode_klass.rename(columns = {'code':'HELSEREGION', 'name': 'RHF'})\n",
    "\n",
    "lvl2 = offhelse_df.query(\"level == '2'\")\n",
    "RHF_kode_klass = pd.merge(RHF_kode_klass, lvl2, how=\"left\", left_on=\"HELSEREGION\", right_on=\"parentCode\")\n",
    "RHF_kode_klass = RHF_kode_klass.rename(columns = {'code': 'ORGNR_FORETAK'})\n",
    "RHF_kode_klass = RHF_kode_klass[['HELSEREGION', 'RHF', 'ORGNR_FORETAK']]\n",
    "\n",
    "lvl2 = offhelse_df.query(\"level == '2'\")\n",
    "lvl3 = offhelse_df.query(\"level == '3'\")\n",
    "lvl2 = lvl2[['code', 'parentCode', 'name']]\n",
    "lvl3 = lvl3[['code', 'parentCode', 'name']]\n",
    "\n",
    "lvl2 = lvl2.rename(columns = {'parentCode':'HELSEREGION', 'name': 'RHF'})\n",
    "lvl3 = lvl3.rename(columns = {'code':'ORGNR_FORETAK', 'name': 'NAVN_KLASS'})"
   ]
  },
  {
   "cell_type": "code",
   "execution_count": null,
   "id": "2f3debde-b109-4ad9-9a3d-b724b661b861",
   "metadata": {},
   "outputs": [],
   "source": [
    "HF = pd.merge(lvl3, lvl2, how=\"left\", left_on=\"parentCode\", right_on=\"code\")\n",
    "HF = HF[['ORGNR_FORETAK', 'NAVN_KLASS', 'HELSEREGION', 'RHF']]\n",
    "\n",
    "RHF_kode_klass['RHF'] = RHF_kode_klass['RHF'] + \" RHF\"\n",
    "RHF_kode_klass['NAVN_KLASS'] = RHF_kode_klass['RHF']"
   ]
  },
  {
   "cell_type": "markdown",
   "id": "28467052-9d53-492f-89a2-f7fba1f68c1c",
   "metadata": {
    "toc-hr-collapsed": true
   },
   "source": [
    "### Private helseinstitusjoner med oppdrags- og bestillerdokument"
   ]
  },
  {
   "cell_type": "code",
   "execution_count": null,
   "id": "42d7c606-f9fa-47c3-a73c-ea0434b1e155",
   "metadata": {},
   "outputs": [],
   "source": [
    "URL = f'http://data.ssb.no/api/klass/v1/classifications/604/codes.json?from={aargang}-01-01&includeFuture=True'\n",
    "r = requests.get(url = URL)\n",
    "privhelse_df = pd.read_json(r.text)\n",
    "privhelse_df = pd.json_normalize(privhelse_df['codes'])\n",
    "\n",
    "temp = privhelse_df.query(\"level == '2'\")\n",
    "temp = temp[['code', 'parentCode', 'name']]\n",
    "temp = temp.rename(columns = {'code':'ORGNR_FORETAK','parentCode':'HELSEREGION', 'name': 'NAVN_KLASS'})\n",
    "temp = pd.merge(temp, RHF_kode_klass, how=\"left\")\n",
    "\n",
    "rapporteringsenheter = pd.concat([HF,temp])\n",
    "rapporteringsenheter = pd.concat([rapporteringsenheter,RHF_kode_klass])"
   ]
  },
  {
   "cell_type": "markdown",
   "id": "6f5c3227-bbfe-40a8-8ff8-6e7aaa218436",
   "metadata": {},
   "source": [
    "### Regionale og felleseide støtteforetak i spesialisthelsetjenesten"
   ]
  },
  {
   "cell_type": "code",
   "execution_count": null,
   "id": "e13c0811-b074-4ec5-92ff-5545c0de9052",
   "metadata": {},
   "outputs": [],
   "source": [
    "URL = f'http://data.ssb.no/api/klass/v1/classifications/605/codes.json?from={aargang}-01-01&includeFuture=True'\n",
    "r = requests.get(url = URL)\n",
    "regfel_df = pd.read_json(r.text)\n",
    "regfel_df = pd.json_normalize(regfel_df['codes'])\n",
    "\n",
    "lvl2o = regfel_df.query(\"level == '2' & parentCode != '99'\")\n",
    "lvl3o = regfel_df.query(\"level == '3'\")\n",
    "lvl2o = lvl2o[['code', 'parentCode', 'name']]\n",
    "lvl3o = lvl3o[['code', 'parentCode', 'name']]\n",
    "lvl2o = lvl2o.rename(columns = {'parentCode':'HELSEREGION',\n",
    "                                'name': 'RHF'})\n",
    "lvl3o = lvl3o.rename(columns = {'code': 'ORGNR_FORETAK',\n",
    "                                'name': 'NAVN_KLASS'})\n",
    "\n",
    "temp = pd.merge(lvl3o, lvl2o, how=\"left\", left_on=\"parentCode\", right_on=\"code\")\n",
    "temp = temp[['ORGNR_FORETAK', 'NAVN_KLASS', 'HELSEREGION', 'RHF']]"
   ]
  },
  {
   "cell_type": "code",
   "execution_count": null,
   "id": "23f28f43-4217-432f-bb0d-224b1df534b4",
   "metadata": {},
   "outputs": [],
   "source": [
    "rapporteringsenheter = pd.concat([rapporteringsenheter,temp])\n",
    "\n",
    "temp = regfel_df.query(\"level == '2' & parentCode == '99'\")\n",
    "temp = temp.rename(columns = {'code':'ORGNR_FORETAK', 'name': 'NAVN_KLASS', 'parentCode': 'HELSEREGION'})\n",
    "temp['RHF'] = \"FELLESEIDE STØTTEFORETAK\"\n",
    "temp = temp[['ORGNR_FORETAK', 'NAVN_KLASS', 'HELSEREGION', 'RHF']]"
   ]
  },
  {
   "cell_type": "code",
   "execution_count": null,
   "id": "1b4fe229-4539-4f30-a477-221c3d192163",
   "metadata": {},
   "outputs": [],
   "source": [
    "rapporteringsenheter = pd.concat([rapporteringsenheter,temp])"
   ]
  },
  {
   "cell_type": "markdown",
   "id": "fd1778ff-bd9a-436a-b367-c2b14a8ca0e0",
   "metadata": {},
   "source": [
    "### Limer sammen all data fra KLASS"
   ]
  },
  {
   "cell_type": "code",
   "execution_count": null,
   "id": "7d9eeadf-77c4-447c-8dc6-d1074bd67eea",
   "metadata": {},
   "outputs": [],
   "source": [
    "alle_foretak_virk = pd.concat([offhelse_df, privhelse_df, regfel_df])\n",
    "alle_foretak_virk = alle_foretak_virk[[\"code\", \"parentCode\", \"level\", \"name\"]]"
   ]
  },
  {
   "cell_type": "markdown",
   "id": "6f4b1bd9-5f37-4928-b0d5-3acf44f334bc",
   "metadata": {},
   "source": [
    "## VOF: liste over alle helseforetak"
   ]
  },
  {
   "cell_type": "code",
   "execution_count": null,
   "id": "6fcb955a-2c1a-47d6-862c-64a44577fa87",
   "metadata": {},
   "outputs": [],
   "source": [
    "rapporteringsenheter_uten_RHF = rapporteringsenheter.query('~NAVN_KLASS.str.endswith(\"RHF\")',engine=\"python\")"
   ]
  },
  {
   "cell_type": "code",
   "execution_count": null,
   "id": "ed93eee0-3156-40e4-b70e-cecd1fc6bb16",
   "metadata": {},
   "outputs": [],
   "source": [
    "r_orgnr = rapporteringsenheter_uten_RHF.ORGNR_FORETAK.to_numpy()"
   ]
  },
  {
   "cell_type": "code",
   "execution_count": null,
   "id": "933ac334-3018-47ac-8f90-025b9f06b337",
   "metadata": {},
   "outputs": [],
   "source": [
    "def lag_sql_str(arr):\n",
    "    s = \"(\"\n",
    "    for nr in arr:\n",
    "        s += \"'\" + str(nr) + \"',\"\n",
    "    s = s[:-1] + \")\"\n",
    "    return s\n",
    "\n",
    "sql_str = lag_sql_str(r_orgnr)\n",
    "\n",
    "sporring_for = f\"\"\"\n",
    "    SELECT FORETAKS_NR, ORGNR, NAVN\n",
    "    FROM DSBBASE.SSB_FORETAK\n",
    "    WHERE STATUSKODE = 'B' AND ORGNR IN {sql_str}\n",
    "\"\"\"\n",
    "vof_for = pd.read_sql_query(sporring_for, conn)\n",
    "\n",
    "fornummer = pd.Series(vof_for['FORETAKS_NR']).array\n",
    "sql_str = lag_sql_str(fornummer)\n",
    "\n",
    "sporring_bed = f\"\"\"\n",
    "    SELECT FORETAKS_NR, ORGNR, NAVN, KARAKTERISTIKK, SN07_1, SB_TYPE\n",
    "    FROM DSBBASE.SSB_BEDRIFT\n",
    "    WHERE STATUSKODE = 'B' AND FORETAKS_NR IN {sql_str}\n",
    "\"\"\"\n",
    "vof_bdr = pd.read_sql_query(sporring_bed, conn)\n"
   ]
  },
  {
   "cell_type": "markdown",
   "id": "21e70d26-41e7-43e7-b923-aac7592af405",
   "metadata": {},
   "source": [
    "Henter organisasjons- og foretaksnummer fra Virksomhets- og foretaksregisteret (VoF) og samler disse i én tabell kalt ```vof```"
   ]
  },
  {
   "cell_type": "code",
   "execution_count": null,
   "id": "d8b1112b-33d2-4adb-965d-83c2978bc59b",
   "metadata": {},
   "outputs": [],
   "source": [
    "vof_for = vof_for.rename(columns={'NAVN': 'NAVN_FORETAK'})\n",
    "vof_for = vof_for.rename(columns={'ORGNR': 'ORGNR_FORETAK'})\n",
    "\n",
    "vof_bdr = vof_bdr.rename(columns = {'ORGNR':'ORGNR_BEDRIFT'})\n",
    "vof_bdr['KARAKTERISTIKK'] = vof_bdr['KARAKTERISTIKK'].fillna(\"\")\n",
    "vof_bdr['NAVN_BEDRIFT'] = vof_bdr['NAVN'] + \" \" + vof_bdr['KARAKTERISTIKK']\n",
    "\n",
    "vof_bdr=vof_bdr.drop(columns=['NAVN', 'KARAKTERISTIKK'])\n",
    "\n",
    "vof = pd.merge(vof_bdr,vof_for, how='left', on='FORETAKS_NR')\n",
    "vof = vof.drop(columns=['FORETAKS_NR'])\n",
    "\n",
    "rapporteringsenheter['ORGNR_FORETAK'] = rapporteringsenheter['ORGNR_FORETAK'].apply(str)\n",
    "rapporteringsenheter_vof = pd.merge(vof,rapporteringsenheter, how='left', on='ORGNR_FORETAK')"
   ]
  },
  {
   "cell_type": "code",
   "execution_count": null,
   "id": "01372678-fcb2-404a-a2be-827653089de9",
   "metadata": {},
   "outputs": [],
   "source": [
    "rapporteringsenheter_vof.info()"
   ]
  },
  {
   "cell_type": "markdown",
   "id": "74477c0c-1b6e-463b-9944-694d3840f6b8",
   "metadata": {
    "tags": []
   },
   "source": [
    "## Dynarev"
   ]
  },
  {
   "cell_type": "markdown",
   "id": "f5d3c2a0-77bd-42df-af39-a87cafd4c028",
   "metadata": {},
   "source": [
    "Henter ut SFU og tar senere vare på de som har har non-missing på ```SKJEMA_TYPE```."
   ]
  },
  {
   "cell_type": "code",
   "execution_count": null,
   "id": "0c8937f6-ae92-49ba-b29c-19d0088b1968",
   "metadata": {
    "tags": []
   },
   "outputs": [],
   "source": [
    "sporring = f\"\"\"\n",
    "    SELECT *\n",
    "    FROM DSBBASE.DLR_ENHET_I_DELREG\n",
    "    WHERE DELREG_NR IN ('24{siste_to_siffer_aargang}')\n",
    "\"\"\"\n",
    "SFU_data = pd.read_sql_query(sporring, conn)\n",
    "print(f\"Rader:    {SFU_data.shape[0]}\\nKolonner: {SFU_data.shape[1]}\")\n",
    "SFU_data.info()\n"
   ]
  },
  {
   "cell_type": "code",
   "execution_count": null,
   "id": "d1d7acac-aaa3-4974-84cb-05cd60623d16",
   "metadata": {},
   "outputs": [],
   "source": [
    "# Enheter med verdi i 'KVITT_TYPE' filtreres ut (de er nedlagte enheter). Fjerner også enheter uten ORGNR\n",
    "SFU_data = SFU_data[~SFU_data['KVITT_TYPE'].notnull()]\n",
    "SFU_data = SFU_data[SFU_data['ORGNR'].notnull()]"
   ]
  },
  {
   "cell_type": "code",
   "execution_count": null,
   "id": "a2754dd6-1355-4573-8ccf-bd22666feb5d",
   "metadata": {},
   "outputs": [],
   "source": [
    "def hent_data_delreg24x_og_19377x(x, skjema):\n",
    "    sporring = f\"\"\"\n",
    "        SELECT *\n",
    "        FROM DYNAREV.VW_SKJEMA_DATA\n",
    "        WHERE DELREG_NR IN ('24{x}', '19377{x}') AND SKJEMA IN ('{skjema}') AND AKTIV = '1'\n",
    "    \"\"\"\n",
    "    sporring_df = pd.read_sql_query(sporring, conn)\n",
    "    sporring_df = sporring_df[['SKJEMA','ENHETS_ID', 'FELT_ID', 'FELT_VERDI']]\n",
    "    sporring_df = sporring_df.pivot(index=['ENHETS_ID','SKJEMA'], columns='FELT_ID', values='FELT_VERDI')\n",
    "    return sporring_df"
   ]
  },
  {
   "cell_type": "code",
   "execution_count": null,
   "id": "542b4800-0ad4-4707-915b-0c045160ccd9",
   "metadata": {},
   "outputs": [],
   "source": [
    "skjemadata38O = hent_data_delreg24x_og_19377x(siste_to_siffer_aar_for, 'HELSE38O')\n",
    "skjemadata38P = hent_data_delreg24x_og_19377x(siste_to_siffer_aar_for, 'HELSE38P')\n",
    "skjemadata39  = hent_data_delreg24x_og_19377x(siste_to_siffer_aar_for, 'HELSE39')\n",
    "skjemadata40  = hent_data_delreg24x_og_19377x(siste_to_siffer_aar_for, 'HELSE40')\n",
    "skjemadata41  = hent_data_delreg24x_og_19377x(siste_to_siffer_aar_for, 'HELSE41')\n",
    "skjemadata44O = hent_data_delreg24x_og_19377x(siste_to_siffer_aar_for, 'HELSE44O')\n",
    "skjemadata44P = hent_data_delreg24x_og_19377x(siste_to_siffer_aar_for, 'HELSE44P')\n",
    "skjemadata45O = hent_data_delreg24x_og_19377x(siste_to_siffer_aar_for, 'HELSE45O')\n",
    "skjemadata45P = hent_data_delreg24x_og_19377x(siste_to_siffer_aar_for, 'HELSE45P')\n",
    "skjemadata46O = hent_data_delreg24x_og_19377x(siste_to_siffer_aar_for, '46O')           # skj46 bytter navn for ulike aarganger (fiks med klass?)\n",
    "skjemadata46P = hent_data_delreg24x_og_19377x(siste_to_siffer_aar_for, 'HELSE46P')\n",
    "skjemadata47  = hent_data_delreg24x_og_19377x(siste_to_siffer_aar_for, 'HELSE47')\n",
    "skjemadata48  = hent_data_delreg24x_og_19377x(siste_to_siffer_aar_for, 'HELSE48')"
   ]
  },
  {
   "cell_type": "markdown",
   "id": "6e10bd48-22f6-4b28-b2ce-c62c2bbdbe75",
   "metadata": {
    "tags": []
   },
   "source": [
    "# Setter sammen master-SFU-fil med all nødvendig informasjon"
   ]
  },
  {
   "cell_type": "markdown",
   "id": "112b1449-662d-4348-85fc-bad1a29e2e16",
   "metadata": {},
   "source": [
    "SFU: orgnummer, orgnummer_foretak, foretaksnavn, helseregionnavn, helseregionsnummer\n",
    "\"alle virksomhetene til speshelse ligger i 2421\"\n"
   ]
  },
  {
   "cell_type": "code",
   "execution_count": null,
   "id": "76df7041-d931-4215-b58c-cbe0363377be",
   "metadata": {},
   "outputs": [],
   "source": [
    "SFUklass = pd.merge(SFU_data, rapporteringsenheter, how=\"left\", on=\"ORGNR_FORETAK\")\n",
    "\n",
    "SFUklass['HELSEREGION'] = SFUklass['HELSEREGION'].fillna(\"06\")\n",
    "\n",
    "SFUklass['SKJEMA_TYPE'] = SFUklass['SKJEMA_TYPE'].apply(lambda x: str(x).split(\" \"))\n",
    "SFUklass[['NAVN1', 'NAVN2', 'NAVN3', 'NAVN4', 'NAVN5']] = SFUklass[['NAVN1', 'NAVN2', 'NAVN3', 'NAVN4', 'NAVN5']].fillna(\"\")"
   ]
  },
  {
   "cell_type": "code",
   "execution_count": null,
   "id": "c19e66dc-8a66-48e6-8016-9a781c617be4",
   "metadata": {},
   "outputs": [],
   "source": [
    "# Slår sammen alle navnekolonnene til en adskilt med ett mellomrom\n",
    "SFUklass['NAVN'] = SFUklass['NAVN1'] + \" \" +\\\n",
    "                   SFUklass['NAVN2'] + \" \" +\\\n",
    "                   SFUklass['NAVN3'] + \" \" +\\\n",
    "                   SFUklass['NAVN4'] + \" \" +\\\n",
    "                   SFUklass['NAVN5']\n",
    "SFUklass['NAVN'] = SFUklass['NAVN'].apply(lambda x: ' '.join(x.split()))"
   ]
  },
  {
   "cell_type": "markdown",
   "id": "261715f4-8818-409e-9c25-fdf7e10d9d70",
   "metadata": {},
   "source": [
    "# Lager droplister\n",
    "Sortert etter hva slags dropliste som skal lages."
   ]
  },
  {
   "cell_type": "code",
   "execution_count": null,
   "id": "7814708d-865c-4a18-927e-53c52d5992d6",
   "metadata": {},
   "outputs": [],
   "source": [
    "# En liste over alle variabelnavn som peker til droplister\n",
    "skjemaer_til_droplister = [\"skj0X\", \"skj0Y\", \"skj38O\", \"skj38P\", \"skj39\", \"skj40\", \"skj41\",\n",
    "                           \"skj44O\", \"skj44P\", \"skj45O\", \"skj45P\", \"skj46O\",\n",
    "                           \"skj46P\", \"skj47\", \"skj48\"]"
   ]
  },
  {
   "cell_type": "markdown",
   "id": "ef7bde0d-3915-4f10-980e-3220865f70d8",
   "metadata": {},
   "source": [
    "Funksjon som returnerer en tabell med alle rader som inneholder et gitt skjema:"
   ]
  },
  {
   "cell_type": "code",
   "execution_count": null,
   "id": "5d114970-c8e0-497a-9a55-606e45676c75",
   "metadata": {},
   "outputs": [],
   "source": [
    "# eks:\n",
    "# tabell_som_inneholder_skjema(SFUklass, 'SKJEMA_TYPE', \"0X\")\n",
    "def tabell_som_inneholder_skjema(df, kol, skjemanavn):\n",
    "    ant = df.shape[0]\n",
    "    rader_med_skjemanavn = []\n",
    "    for i in range(ant):\n",
    "        if skjemanavn in df[kol].iloc[i]:\n",
    "            rader_med_skjemanavn.append(i)\n",
    "    return df.iloc[rader_med_skjemanavn]"
   ]
  },
  {
   "cell_type": "markdown",
   "id": "10f395c0-2ccf-40a1-befb-364ec8676a76",
   "metadata": {
    "toc-hr-collapsed": true
   },
   "source": [
    "## Skjemaer som hentes rett fra klass og SFU"
   ]
  },
  {
   "cell_type": "markdown",
   "id": "7b438ace-3c9c-4fc4-87f3-7b5c6b80990d",
   "metadata": {},
   "source": [
    "### 0X (Resultatregnskap for RHF og HF)"
   ]
  },
  {
   "cell_type": "code",
   "execution_count": null,
   "id": "c2b9e18e-312b-4c2a-b606-db46655d0193",
   "metadata": {},
   "outputs": [],
   "source": [
    "# kolonner som skal være med i droplisten:\n",
    "kolonner0X0Y404148 = [\"USERID\", \"REGION_NR\", \"REGION_NAVN\", \"FORETAK_ORGNR\", \"FORETAK_NAVN\"]\n",
    "\n",
    "skj0X = tabell_som_inneholder_skjema(SFUklass, 'SKJEMA_TYPE', \"0X\")\n",
    "skj0X = skj0X.rename(columns = {'NAVN1':'FORETAK_NAVN',\n",
    "                                'ORGNR':'USERID',\n",
    "                                'HELSEREGION':'REGION_NR',\n",
    "                                'RHF':'REGION_NAVN'})\n",
    "skj0X['FORETAK_ORGNR'] = skj0X['USERID']\n",
    "\n",
    "skj0X = skj0X[kolonner0X0Y404148].sort_values('REGION_NR')"
   ]
  },
  {
   "cell_type": "markdown",
   "id": "2617e4ff-062e-4333-b879-c8c26626e97b",
   "metadata": {},
   "source": [
    "### 0Y (Balanseregnskap for RHF og HF)"
   ]
  },
  {
   "cell_type": "code",
   "execution_count": null,
   "id": "56db7bf6-acc7-46f5-9f0b-82c965f8b96e",
   "metadata": {},
   "outputs": [],
   "source": [
    "skj0Y = tabell_som_inneholder_skjema(SFUklass, 'SKJEMA_TYPE', \"0Y\")\n",
    "skj0Y = skj0Y.rename(columns = {'NAVN1':'FORETAK_NAVN', \n",
    "                                'ORGNR':'USERID', \n",
    "                                'HELSEREGION':'REGION_NR', \n",
    "                                'RHF':'REGION_NAVN'})\n",
    "skj0Y['FORETAK_ORGNR'] = skj0Y['USERID']\n",
    "\n",
    "skj0Y = skj0Y[kolonner0X0Y404148].sort_values('REGION_NR')"
   ]
  },
  {
   "cell_type": "markdown",
   "id": "cbc5865c-396f-4dac-9150-81a17d3c95d2",
   "metadata": {},
   "source": [
    "### skj40 (Kontantstrømoppstilling)"
   ]
  },
  {
   "cell_type": "code",
   "execution_count": null,
   "id": "3f02c759-c27c-4b72-8866-b734be67c7b0",
   "metadata": {},
   "outputs": [],
   "source": [
    "skj40 = tabell_som_inneholder_skjema(SFUklass, 'SKJEMA_TYPE', \"0Y\")\n",
    "skj40 = skj40.rename(columns = {'NAVN1':'FORETAK_NAVN',\n",
    "                                'ORGNR':'USERID',\n",
    "                                'HELSEREGION':'REGION_NR',\n",
    "                                'RHF':'REGION_NAVN'})\n",
    "skj40['FORETAK_ORGNR'] = skj40['USERID']\n",
    "\n",
    "skj40 = skj40[kolonner0X0Y404148].sort_values('REGION_NR')"
   ]
  },
  {
   "cell_type": "markdown",
   "id": "23c7b90a-10f8-477b-9272-30bbf419c62c",
   "metadata": {},
   "source": [
    "### skj41 (Private spesialister med driftsavtale)"
   ]
  },
  {
   "cell_type": "code",
   "execution_count": null,
   "id": "11b7e7ec-7b40-4942-ab90-e62b31c8cd08",
   "metadata": {},
   "outputs": [],
   "source": [
    "skj41 = RHF_kode_klass.copy()\n",
    "skj41 = skj41.rename(columns = {'HELSEREGION': 'REGION_NR',\n",
    "                                'RHF': 'REGION_NAVN',\n",
    "                                'ORGNR_FORETAK': 'FORETAK_ORGNR'})\n",
    "skj41['USERID'] = skj41['FORETAK_ORGNR']\n",
    "skj41['FORETAK_NAVN'] = skj41['REGION_NAVN']\n",
    "skj41 = skj41[kolonner0X0Y404148]"
   ]
  },
  {
   "cell_type": "markdown",
   "id": "fdb22396-1c63-4d89-aabb-5670dfa91135",
   "metadata": {},
   "source": [
    "### skj48 (Praksiskonsulentordningen)"
   ]
  },
  {
   "cell_type": "code",
   "execution_count": null,
   "id": "112a31fa-f437-4979-ae99-9d4ff995d4b0",
   "metadata": {},
   "outputs": [],
   "source": [
    "skj48 = tabell_som_inneholder_skjema(SFUklass, 'SKJEMA_TYPE', \"48\").copy()\n",
    "skj48 = skj48[[\"NAVN_KLASS\", \"ORGNR_FORETAK\", \"HELSEREGION\"]]\n",
    "skj48 = pd.merge(skj48, RHF_kode_klass[['HELSEREGION', 'RHF']], how=\"left\", on=\"HELSEREGION\")\n",
    "skj48 = pd.concat([skj48, HF])\n",
    "skj48 = skj48.rename(columns={\"NAVN_KLASS\": \"FORETAK_NAVN\",\n",
    "                              \"ORGNR_FORETAK\": \"FORETAK_ORGNR\",\n",
    "                              \"HELSEREGION\": \"REGION_NR\",\n",
    "                              \"RHF\": \"REGION_NAVN\"})\n",
    "skj48['USERID'] = skj48['FORETAK_ORGNR']\n",
    "\n",
    "skj48 = skj48[kolonner0X0Y404148] \\\n",
    "    .sort_values(\"REGION_NR\") \\\n",
    "    .reset_index(drop=True)"
   ]
  },
  {
   "cell_type": "markdown",
   "id": "0f0f65fb-028f-4a2f-89c6-e0e3a9cc4878",
   "metadata": {
    "toc-hr-collapsed": true
   },
   "source": [
    "## Skjemaer til offentlige foretak\n",
    "Inneholder et visst antall kolonner med virksomheters navn og orgnr."
   ]
  },
  {
   "cell_type": "code",
   "execution_count": null,
   "id": "4acf2bf2-0f50-4434-91a8-8f7568675a7d",
   "metadata": {},
   "outputs": [],
   "source": [
    "def lag_navn_orgnr_kolonnenavn(ant_kolonner):\n",
    "    nvn, org = [], []\n",
    "    for i in range(1,ant_kolonner+1):\n",
    "        nvn.append(f'NAVN_VIRK{i}')\n",
    "        org.append(f'ORGNR_VIRK{i}')\n",
    "    return nvn, org"
   ]
  },
  {
   "cell_type": "markdown",
   "id": "7bd19bdb-d593-4852-89c8-3a34c47adffc",
   "metadata": {},
   "source": [
    "Denne funksjonen tar inn en dataframe med undervirksomheter som hører til et foretaksnummer og antall kolonner som skal være med i droplisten. Undervirksomhetene legges etterhverandre med riktig korrespondanse mellom navn- og orgnr-kolonner."
   ]
  },
  {
   "cell_type": "code",
   "execution_count": null,
   "id": "deaca36f-810b-4e79-9165-8d492c42b602",
   "metadata": {},
   "outputs": [],
   "source": [
    "def lag_navn_orgnr_kolonner(fvdf, ant_kolonner, med_foretak = True):\n",
    "    foretak_rader = fvdf.ORGNR_FORETAK.value_counts().index.to_numpy()              # tar ut unike foretaksnummer i en liste\n",
    "\n",
    "    foretak_org_df = -1\n",
    "    for nr in foretak_rader:                                                        # blar gjennom listen og lager kolonner til hvert foretak\n",
    "        if med_foretak:\n",
    "            orgnr_df = fvdf.query(f'ORGNR_FORETAK  == \"{nr}\"')['ORGNR']\n",
    "            navn_df = fvdf.query(f'ORGNR_FORETAK  == \"{nr}\"')['NAVN']\n",
    "        else:\n",
    "            orgnr_df = fvdf.query(f'ORGNR_FORETAK  == \"{nr}\" and ORGNR != \"{nr}\"')['ORGNR']\n",
    "            navn_df = fvdf.query(f'ORGNR_FORETAK  == \"{nr}\" and ORGNR != \"{nr}\"')['NAVN']    \n",
    "\n",
    "        ant_virksomheter = orgnr_df.shape[0]\n",
    "        tom_df = pd.Series(np.nan, index=range(ant_kolonner-ant_virksomheter))\n",
    "        orgnr_df = pd.concat([orgnr_df, tom_df], axis=0)\n",
    "        orgnr_df.index = orgnr_virk\n",
    "\n",
    "        ant_navn = navn_df.shape[0]\n",
    "        tom_df = pd.Series(np.nan, index=range(ant_kolonner-ant_navn))\n",
    "        navn_df = pd.concat([navn_df, tom_df], axis=0)\n",
    "        navn_df.index = navn_virk\n",
    "\n",
    "        foretak_df = pd.concat([orgnr_df, navn_df], axis=0)\n",
    "        foretak_df['ORGNR_FORETAK'] = nr\n",
    "\n",
    "        if type(foretak_org_df) == int:                                             # limer sammen hvert foretak med nye kolonner til en stor tabell\n",
    "            foretak_org_df = foretak_df\n",
    "        else:\n",
    "            foretak_org_df = pd.concat([foretak_org_df, foretak_df], axis = 1)\n",
    "    return foretak_org_df.transpose()"
   ]
  },
  {
   "cell_type": "markdown",
   "id": "bf631d51-aceb-4a30-8098-edf2d449a6b7",
   "metadata": {
    "toc-hr-collapsed": true
   },
   "source": [
    "### skj38O (TSB for offentlige helseforetak)"
   ]
  },
  {
   "cell_type": "markdown",
   "id": "7ad72976-aa9c-4f56-a2f4-0f6546290fc4",
   "metadata": {},
   "source": [
    "Alle offentlige helseforetak foruten ```SUNNAAS```. Bruker ```HF```-tabellen laget i kapittel 2.1.1"
   ]
  },
  {
   "cell_type": "code",
   "execution_count": null,
   "id": "a47a8e3d-d010-4bee-ada0-321b7cd4603c",
   "metadata": {
    "tags": []
   },
   "outputs": [],
   "source": [
    "# Henter døgnplasser fra foregående år\n",
    "d_plass_fjor = (skjemadata38O[['FORETAKETS_ORGNR','DGN_DGN']].reset_index().copy()\n",
    "                [['FORETAKETS_ORGNR','DGN_DGN']]\n",
    "                .rename(columns={'DGN_DGN': 'D_PLAS_FJOR'}))"
   ]
  },
  {
   "cell_type": "code",
   "execution_count": null,
   "id": "8606ad88-c436-43f0-8f26-6626132422b6",
   "metadata": {
    "tags": []
   },
   "outputs": [],
   "source": [
    "skj38O = HF.query('ORGNR_FORETAK != \"883971752\"').copy()                           # Tar ut SUNNAAS"
   ]
  },
  {
   "cell_type": "code",
   "execution_count": null,
   "id": "ce218427-2e5b-4e2f-ae9d-3008467dedf8",
   "metadata": {},
   "outputs": [],
   "source": [
    "# Lager kolonneoverskrifter i tråd med tidligere droplister:\n",
    "navn_virk, orgnr_virk = lag_navn_orgnr_kolonnenavn(20)\n",
    "\n",
    "onskede_kolonner = [\"USERID\", \"HELSEREGION\", \"HELSEREGION_NAVN\",\n",
    "                    \"FORETAKETS_ORGNR\", \"FORETAKETS_NAVN\",\n",
    "                    \"D_PLAS_FJOR\"] + orgnr_virk + navn_virk"
   ]
  },
  {
   "cell_type": "markdown",
   "id": "765b8c98-39d6-4026-bd0e-89f760733371",
   "metadata": {},
   "source": [
    "Henter data fra SFU med næringskode (\"86.106\") og statuskode (\"B\")\n",
    "Næringskode i kolonne SN07_1"
   ]
  },
  {
   "cell_type": "code",
   "execution_count": null,
   "id": "4166b696-ed29-48ed-af8b-95ab681e1754",
   "metadata": {},
   "outputs": [],
   "source": [
    "skj38O['tmp_bool'] = True"
   ]
  },
  {
   "cell_type": "code",
   "execution_count": null,
   "id": "05ddf47e-90f7-4cfe-96d6-796fedb0d434",
   "metadata": {},
   "outputs": [],
   "source": [
    "finne_virksomheter_df = pd.merge(SFUklass, skj38O, how=\"left\", on=[\"ORGNR_FORETAK\", \"RHF\", \"NAVN_KLASS\", \"HELSEREGION\"])\n",
    "finne_virksomheter_df = finne_virksomheter_df.query('tmp_bool == True and SN07_1 == \"86.106\" and STATUS == \"B\"')\n",
    "finne_virksomheter_df = finne_virksomheter_df[['ORGNR','ORGNR_FORETAK','NAVN']]"
   ]
  },
  {
   "cell_type": "code",
   "execution_count": null,
   "id": "2e0b083e-bef0-424a-933b-fa9c672e65ce",
   "metadata": {
    "tags": []
   },
   "outputs": [],
   "source": [
    "undervirksomheter_navn_og_kolonner = lag_navn_orgnr_kolonner(finne_virksomheter_df, 20)"
   ]
  },
  {
   "cell_type": "code",
   "execution_count": null,
   "id": "7bc6bcdd-ad1e-441e-886d-f27991fb0615",
   "metadata": {},
   "outputs": [],
   "source": [
    "skj38O = pd.merge(skj38O, undervirksomheter_navn_og_kolonner, how=\"left\", on=\"ORGNR_FORETAK\")\n",
    "\n",
    "skj38O['USERID'] = skj38O['ORGNR_FORETAK']\n",
    "skj38O = skj38O.rename(columns={\"ORGNR_FORETAK\": \"FORETAKETS_ORGNR\",\n",
    "                                \"NAVN_KLASS\": \"FORETAKETS_NAVN\",\n",
    "                                \"RHF\": \"HELSEREGION_NAVN\"})\n",
    "\n",
    "skj38O = pd.merge(skj38O, d_plass_fjor, how=\"left\", on=\"FORETAKETS_ORGNR\")\n",
    "\n",
    "skj38O = skj38O[onskede_kolonner]"
   ]
  },
  {
   "cell_type": "markdown",
   "id": "e83aee65-ac56-4130-a448-76c495c86d1f",
   "metadata": {},
   "source": [
    "### skj44O (Psykisk helsevern for voksne PHFV)"
   ]
  },
  {
   "cell_type": "markdown",
   "id": "04ea3929-f0c8-40a1-bef3-faa3d4a59d4e",
   "metadata": {},
   "source": [
    "OBS: Nye enheter 2022"
   ]
  },
  {
   "cell_type": "markdown",
   "id": "497e6dd0-3653-4ca4-aec2-2831f62c13c5",
   "metadata": {},
   "source": [
    "Alle offentlige helseforetak foruten ```SUNNAAS```. Bruker ```HF```-tabellen laget i kapittel 2.1.1"
   ]
  },
  {
   "cell_type": "code",
   "execution_count": null,
   "id": "cc713fa0-bbc6-4405-a520-f44cbc548f18",
   "metadata": {
    "tags": []
   },
   "outputs": [],
   "source": [
    "# Henter døgnplasser fra foregående år\n",
    "d_plass_fjor = (skjemadata44O[['FORETAKETS_ORGNR','D_PLAS_T']].reset_index().copy()\n",
    "                [['FORETAKETS_ORGNR','D_PLAS_T']]\n",
    "                .rename(columns={'D_PLAS_T': 'D_PLAS_FJOR'}))"
   ]
  },
  {
   "cell_type": "code",
   "execution_count": null,
   "id": "987d9556-70be-4dbc-9fd3-7cc0ab234798",
   "metadata": {
    "tags": []
   },
   "outputs": [],
   "source": [
    "skj44O = HF.query('ORGNR_FORETAK != \"883971752\"').copy()                    # Tar ut SUNNAAS"
   ]
  },
  {
   "cell_type": "code",
   "execution_count": null,
   "id": "83e33fe5-2836-4b19-90d1-7f8fce581750",
   "metadata": {},
   "outputs": [],
   "source": [
    "# Lager kolonneoverskrifter i tråd med tidligere .csv-filer:\n",
    "navn_virk, orgnr_virk = lag_navn_orgnr_kolonnenavn(20)\n",
    "\n",
    "onskede_kolonner = [\"USERID\", \"HELSEREGION\", \"HELSEREGION_NAVN\",\n",
    "                    \"FORETAKETS_ORGNR\", \"FORETAKETS_NAVN\",\n",
    "                    \"D_PLAS_FJOR\"] + orgnr_virk + navn_virk"
   ]
  },
  {
   "cell_type": "markdown",
   "id": "4fc588de-70be-4e8d-a970-cc9821b28010",
   "metadata": {},
   "source": [
    "Henter data fra SFU med næringskode (\"86.104\") og statuskode (\"B\"). Finner næringskoden i kolonne ```SN07_1```"
   ]
  },
  {
   "cell_type": "code",
   "execution_count": null,
   "id": "fd0e2889-ae91-4817-83ae-a0ca32d5fa8f",
   "metadata": {},
   "outputs": [],
   "source": [
    "skj44O['tmp_bool'] = True"
   ]
  },
  {
   "cell_type": "code",
   "execution_count": null,
   "id": "e350107e-ddec-45a9-a293-efb2534c013e",
   "metadata": {},
   "outputs": [],
   "source": [
    "finne_virksomheter_df = pd.merge(SFUklass, skj44O, how=\"left\", on=[\"ORGNR_FORETAK\", \"RHF\", \"NAVN_KLASS\", \"HELSEREGION\"])\n",
    "finne_virksomheter_df = finne_virksomheter_df.query('tmp_bool == True and SN07_1 == \"86.104\" and STATUS == \"B\"')\n",
    "finne_virksomheter_df = finne_virksomheter_df[['ORGNR','ORGNR_FORETAK','NAVN']]"
   ]
  },
  {
   "cell_type": "code",
   "execution_count": null,
   "id": "f77a89a4-3538-4420-9d47-80846c9ff2bf",
   "metadata": {
    "tags": []
   },
   "outputs": [],
   "source": [
    "undervirksomheter_navn_og_kolonner = lag_navn_orgnr_kolonner(finne_virksomheter_df, 20)"
   ]
  },
  {
   "cell_type": "code",
   "execution_count": null,
   "id": "034c8d5d-20de-4846-a25f-a392936c61ea",
   "metadata": {},
   "outputs": [],
   "source": [
    "skj44O = pd.merge(skj44O, undervirksomheter_navn_og_kolonner, how=\"left\", on=\"ORGNR_FORETAK\")\n",
    "\n",
    "skj44O['USERID'] = skj44O['ORGNR_FORETAK']\n",
    "skj44O['USERID'] = skj44O['ORGNR_FORETAK']\n",
    "skj44O = skj44O.rename(columns={\"ORGNR_FORETAK\": \"FORETAKETS_ORGNR\",\n",
    "                                \"NAVN_KLASS\": \"FORETAKETS_NAVN\",\n",
    "                                \"RHF\": \"HELSEREGION_NAVN\"})\n",
    "\n",
    "skj44O = pd.merge(skj44O, d_plass_fjor, how=\"left\", on=\"FORETAKETS_ORGNR\")\n",
    "\n",
    "skj44O = skj44O[onskede_kolonner]"
   ]
  },
  {
   "cell_type": "markdown",
   "id": "d63f4720-e37f-4aa0-8748-77c91a6c97bc",
   "metadata": {},
   "source": [
    "### skj45O (Psykisk helsevern for barn og unge (PHBU/BUP), offentlige helseforetak)"
   ]
  },
  {
   "cell_type": "code",
   "execution_count": null,
   "id": "64de57b9-b3d9-4d28-8076-5dac45659035",
   "metadata": {
    "tags": []
   },
   "outputs": [],
   "source": [
    "# Henter døgnplasser fra foregående år\n",
    "d_plass_fjor = (skjemadata45O[['FORETAKETS_ORGNR','D_PLAS_T']].reset_index().copy()\n",
    "                [['FORETAKETS_ORGNR','D_PLAS_T']]\n",
    "                .rename(columns={'D_PLAS_T': 'D_PLAS_FJOR'}))"
   ]
  },
  {
   "cell_type": "code",
   "execution_count": null,
   "id": "c5bad575-b917-44bf-ab2a-88c54733b20f",
   "metadata": {
    "tags": []
   },
   "outputs": [],
   "source": [
    "skj45O = HF.query('ORGNR_FORETAK != \"883971752\"').copy()                    # Tar ut SUNNAAS"
   ]
  },
  {
   "cell_type": "code",
   "execution_count": null,
   "id": "677c91f3-b27d-4663-840b-1914428c289e",
   "metadata": {},
   "outputs": [],
   "source": [
    "# Lager kolonneoverskrifter i tråd med tidligere .csv-filer:\n",
    "navn_virk, orgnr_virk = lag_navn_orgnr_kolonnenavn(20)\n",
    "\n",
    "onskede_kolonner = [\"USERID\", \"HELSEREGION\", \"HELSEREGION_NAVN\",\n",
    "                    \"FORETAKETS_ORGNR\", \"FORETAKETS_NAVN\",\n",
    "                    \"D_PLAS_FJOR\"] + orgnr_virk + navn_virk"
   ]
  },
  {
   "cell_type": "markdown",
   "id": "ccc608e4-672d-4c80-98bc-b03a22db24ee",
   "metadata": {},
   "source": [
    "Henter data fra SFU med næringskode (\"86.105\") og statuskode (\"B\"). Finner næringskoden i kolonne ```SN07_1```"
   ]
  },
  {
   "cell_type": "code",
   "execution_count": null,
   "id": "9954976e-daf2-4e0a-8a8d-58dae8c40377",
   "metadata": {},
   "outputs": [],
   "source": [
    "skj45O['tmp_bool'] = True"
   ]
  },
  {
   "cell_type": "code",
   "execution_count": null,
   "id": "abfae504-6f2a-4239-ba91-52c38f0e107a",
   "metadata": {},
   "outputs": [],
   "source": [
    "finne_virksomheter_df = pd.merge(SFUklass, skj45O, how=\"left\", on=[\"ORGNR_FORETAK\", \"RHF\", \"NAVN_KLASS\", \"HELSEREGION\"])\n",
    "finne_virksomheter_df = finne_virksomheter_df.query('tmp_bool == True and SN07_1 == \"86.105\" and STATUS == \"B\"')\n",
    "finne_virksomheter_df = finne_virksomheter_df[['ORGNR','ORGNR_FORETAK','NAVN']]"
   ]
  },
  {
   "cell_type": "code",
   "execution_count": null,
   "id": "ab944efd-e6ae-483d-936a-01b1f33b777e",
   "metadata": {
    "tags": []
   },
   "outputs": [],
   "source": [
    "undervirksomheter_navn_og_kolonner = lag_navn_orgnr_kolonner(finne_virksomheter_df, 20)"
   ]
  },
  {
   "cell_type": "code",
   "execution_count": null,
   "id": "c5f4652d-9777-408c-a681-155a5f03a9c7",
   "metadata": {},
   "outputs": [],
   "source": [
    "skj45O = pd.merge(skj45O, undervirksomheter_navn_og_kolonner, how=\"left\", on=\"ORGNR_FORETAK\")"
   ]
  },
  {
   "cell_type": "code",
   "execution_count": null,
   "id": "a35204a6-3f28-4f1b-9c7c-8b7c5bb20f82",
   "metadata": {},
   "outputs": [],
   "source": [
    "skj45O['USERID'] = skj45O['ORGNR_FORETAK']\n",
    "skj45O['USERID'] = skj45O['ORGNR_FORETAK']\n",
    "skj45O = skj45O.rename(columns={\"ORGNR_FORETAK\": \"FORETAKETS_ORGNR\",\n",
    "                                \"NAVN_KLASS\": \"FORETAKETS_NAVN\",\n",
    "                                \"RHF\": \"HELSEREGION_NAVN\"})"
   ]
  },
  {
   "cell_type": "code",
   "execution_count": null,
   "id": "36d57341-6ace-4049-904a-18cb88565b70",
   "metadata": {
    "tags": []
   },
   "outputs": [],
   "source": [
    "skj45O = pd.merge(skj45O, d_plass_fjor, how=\"left\", on=\"FORETAKETS_ORGNR\")"
   ]
  },
  {
   "cell_type": "code",
   "execution_count": null,
   "id": "e32dc703-1197-47bd-bd00-f1370cbf8fa0",
   "metadata": {},
   "outputs": [],
   "source": [
    "skj45O = skj45O[onskede_kolonner]"
   ]
  },
  {
   "cell_type": "markdown",
   "id": "f17c46a7-c776-402b-b7f8-927a7a605b1b",
   "metadata": {},
   "source": [
    "### skj46O (Somatiske sykehus, offentlige helseforetak)\n",
    "```SUNNAAS``` skal være med her\n",
    "\n",
    "NB. Antall avsatte kolonner til undervirksomheter er 24."
   ]
  },
  {
   "cell_type": "code",
   "execution_count": null,
   "id": "55fe8860-9be0-43d1-bcf6-ffdff7575d54",
   "metadata": {
    "tags": []
   },
   "outputs": [],
   "source": [
    "# Henter døgnplasser fra foregående år\n",
    "d_plass_fjor = (skjemadata46O[['ORGNR_VIRK1','SEN_HT', 'SDGN_HT']].reset_index().copy()\n",
    "                [['ORGNR_VIRK1','SEN_HT', 'SDGN_HT']]\n",
    "                .rename(columns={'SEN_HT': 'SEN_HT_FJOR',\n",
    "                                 'SDGN_HT': 'SDGN_HT_FJOR',\n",
    "                                 'ORGNR_VIRK1': 'FINST_ORGNR'}))"
   ]
  },
  {
   "cell_type": "code",
   "execution_count": null,
   "id": "a50d43ab-dd22-4b8e-abd7-a9f1969bc210",
   "metadata": {
    "tags": []
   },
   "outputs": [],
   "source": [
    "skj46O = HF.copy()"
   ]
  },
  {
   "cell_type": "code",
   "execution_count": null,
   "id": "84fea2e1-60bd-4806-a7b9-af84913d4410",
   "metadata": {},
   "outputs": [],
   "source": [
    "# Lager kolonneoverskrifter i tråd med tidligere .csv-filer:\n",
    "navn_virk, orgnr_virk = lag_navn_orgnr_kolonnenavn(24)\n",
    "\n",
    "kolonner = [\"USERID\", \"HELSEREGION\", \"HELSEREGION_NAVN\",\n",
    "            \"FORETAKETS_ORGNR\", \"FORETAKETS_NAVN\",\n",
    "            'SEN_HT_FJOR', 'SDGN_HT_FJOR'] + orgnr_virk + navn_virk"
   ]
  },
  {
   "cell_type": "markdown",
   "id": "fbc4aeb6-32d9-47da-b381-c203b81b40d1",
   "metadata": {},
   "source": [
    "Henter data fra SFU med næringskoder (\"86.101\") (\"86.102\") (\"86.103\") (\"86.107\"). Finner næringskoden i kolonne ```SN07_1```"
   ]
  },
  {
   "cell_type": "code",
   "execution_count": null,
   "id": "8677d857-e3a6-4cd2-859c-e4d54138388f",
   "metadata": {},
   "outputs": [],
   "source": [
    "skj46O['tmp_bool'] = True\n",
    "\n",
    "finne_virksomheter_df = pd.merge(SFUklass, skj46O, how=\"left\", on=[\"ORGNR_FORETAK\", \"RHF\", \"NAVN_KLASS\", \"HELSEREGION\"])\n",
    "finne_virksomheter_df = finne_virksomheter_df.query('tmp_bool == True and SN07_1 in [\"86.101\", \"86.102\", \"86.103\",\"86.107\",]')\n",
    "\n",
    "finne_virksomheter_df = finne_virksomheter_df[['ORGNR','ORGNR_FORETAK','NAVN', 'NAVN_KLASS']]\n",
    "\n",
    "finne_virksomheter_df = pd.merge(finne_virksomheter_df, d_plass_fjor, how=\"left\", left_on=\"ORGNR\", right_on=\"FINST_ORGNR\")\n",
    "\n",
    "finne_virksomheter_df['SEN_HT_FJOR'] = pd.to_numeric(finne_virksomheter_df['SEN_HT_FJOR'])\n",
    "finne_virksomheter_df['SDGN_HT_FJOR'] = pd.to_numeric(finne_virksomheter_df['SDGN_HT_FJOR'])\n",
    "\n",
    "finne_virksomheter_df = finne_virksomheter_df.groupby([\"ORGNR_FORETAK\", \"NAVN_KLASS\"]).sum(numeric_only=True).reset_index()\n",
    "finne_virksomheter_df = finne_virksomheter_df.rename(columns={\"NAVN_KLASS\": \"FORETAKETS_NAVN\"})"
   ]
  },
  {
   "cell_type": "code",
   "execution_count": null,
   "id": "81cff812-77f5-4271-9843-9e5f22a2f51f",
   "metadata": {},
   "outputs": [],
   "source": [
    "finne_virksomheter_df2 = pd.merge(SFUklass, skj46O, how=\"left\", on=[\"ORGNR_FORETAK\", \"RHF\", \"NAVN_KLASS\", \"HELSEREGION\"])\n",
    "finne_virksomheter_df2 = finne_virksomheter_df2.query('tmp_bool == True and SN07_1 in [\"86.101\", \"86.102\", \"86.103\",\"86.107\",]')\n",
    "\n",
    "finne_virksomheter_df2 = finne_virksomheter_df2[['ORGNR','ORGNR_FORETAK','NAVN', 'NAVN_KLASS']]"
   ]
  },
  {
   "cell_type": "code",
   "execution_count": null,
   "id": "9d8f6e83-ffaa-4959-8a06-7d0e43cb0353",
   "metadata": {},
   "outputs": [],
   "source": [
    "undervirksomheter_navn_og_kolonner = lag_navn_orgnr_kolonner(finne_virksomheter_df2, 24, False)\n",
    "\n",
    "skj46O = pd.merge(skj46O, undervirksomheter_navn_og_kolonner, how=\"left\", on=\"ORGNR_FORETAK\")\n",
    "\n",
    "skj46O = pd.merge(skj46O, finne_virksomheter_df, how=\"left\", on=\"ORGNR_FORETAK\")\n",
    "\n",
    "skj46O['USERID'] = skj46O['ORGNR_FORETAK']\n",
    "skj46O = skj46O.rename(columns={\"ORGNR_FORETAK\": \"FORETAKETS_ORGNR\",\n",
    "                                \"NAVN_KLASS\": \"FORETAKETS_NAVN\",\n",
    "                                \"RHF\": \"HELSEREGION_NAVN\"})"
   ]
  },
  {
   "cell_type": "code",
   "execution_count": null,
   "id": "ce6730b9-5dc5-4c23-ba3b-c1d64257d239",
   "metadata": {
    "tags": []
   },
   "outputs": [],
   "source": [
    "skj46O = skj46O[kolonner]"
   ]
  },
  {
   "cell_type": "markdown",
   "id": "5975c829-4831-4d83-a5d3-5c1d9cf6a6bd",
   "metadata": {
    "toc-hr-collapsed": true
   },
   "source": [
    "## Skjemaer til private foretak og deres underinstitusjoner\n",
    "Droplisten inneholder kolonne med rapporteringspliktige underinstitusjoner i en kolonne atskilt med \\n"
   ]
  },
  {
   "cell_type": "markdown",
   "id": "94d2919d-7671-4480-bdd2-6b8fc510056e",
   "metadata": {},
   "source": [
    "#### Nyttige funksjoner som skal gjøre koden mer lesbar"
   ]
  },
  {
   "cell_type": "code",
   "execution_count": null,
   "id": "ac76c5ec-6424-45bc-b72f-44d3847f3e93",
   "metadata": {},
   "outputs": [],
   "source": [
    "def hent_foretaksnavn_til_virksomhetene_fra_SFU(unike_foretak):\n",
    "    unike_foretak = pd.DataFrame(unike_foretak)\n",
    "    unike_foretak.columns = [\"ORGNR_FORETAK\"]\n",
    "\n",
    "    finn_foretaksnavn = pd.merge(unike_foretak, SFUklass[[\"ORGNR\", \"NAVN\"]],\n",
    "                                 how=\"left\",\n",
    "                                 left_on=\"ORGNR_FORETAK\",\n",
    "                                 right_on=\"ORGNR\")\n",
    "    finn_foretaksnavn = finn_foretaksnavn[[\"ORGNR_FORETAK\", \"NAVN\"]]\\\n",
    "                                        .rename(columns={\"NAVN\": \"FORETAK_NAVN\",\n",
    "                                        \"ORGNR_FORETAK\": \"FORETAK_ORGNR\"})\n",
    "    return finn_foretaksnavn"
   ]
  },
  {
   "cell_type": "markdown",
   "id": "229199aa-1136-449e-b2cf-eb09a917207c",
   "metadata": {},
   "source": [
    "Lager kolonnen INSTLIST med riktig antall \\n for at det skal passe med skjema. Passer på at rapporteringsenheten kommer først i listen. (Enhet som har H_VAR1_A lik orgnummer)"
   ]
  },
  {
   "cell_type": "code",
   "execution_count": null,
   "id": "22741bfd-b841-48f4-8376-abda5838e1bf",
   "metadata": {},
   "outputs": [],
   "source": [
    "def instlist_med_riktig_antall_n(finst_orgnr_df):\n",
    "    df_til_instlist = pd.merge(SFUklass, finst_orgnr_df, left_on=\"H_VAR1_A\", right_on=\"FINST_ORGNR\")\n",
    "    df_til_instlist['rapporterer_til_annen_virksomhet'] = (df_til_instlist.ORGNR != df_til_instlist.H_VAR1_A)\n",
    "    df_til_instlist = df_til_instlist[['NAVN', 'ORGNR', \"FINST_ORGNR\", 'rapporterer_til_annen_virksomhet']]\n",
    "    df_til_instlist['orgnr_navn'] = df_til_instlist['ORGNR'] + \" - \" + df_til_instlist['NAVN']\n",
    "\n",
    "    rapporterer_ikke_til_annen_v = df_til_instlist.query('~rapporterer_til_annen_virksomhet')[['ORGNR', 'orgnr_navn']]\n",
    "    rapporterer_til_annen_v = df_til_instlist.query('rapporterer_til_annen_virksomhet')[[\"FINST_ORGNR\", 'orgnr_navn']]\n",
    "    \n",
    "    # mellomsteg for å legge institusjonene horisontalt ved siden av rapporteringsnummeret\n",
    "    # itererer over alle unike rapporteringsnummer\n",
    "    tmpdf = -1\n",
    "    for finst_orgnr in rapporterer_ikke_til_annen_v.ORGNR.unique():\n",
    "        instliste = \"\\\\n\".join(rapporterer_til_annen_v.query(f'FINST_ORGNR==\"{finst_orgnr}\"').orgnr_navn)\n",
    "        if len(instliste) > 0:\n",
    "            if type(tmpdf) == int:\n",
    "                tmpdf = pd.DataFrame([finst_orgnr, instliste])\n",
    "            else:\n",
    "                nytt_tillegg = pd.DataFrame([finst_orgnr, instliste])\n",
    "                tmpdf = pd.concat([tmpdf, nytt_tillegg], axis=1)\n",
    "    \n",
    "    if type(tmpdf) != int:\n",
    "        tmpdf = tmpdf.transpose()\n",
    "        tmpdf.columns = ['FINST_ORGNR', 'INSTLISTE_HALE']   \n",
    "    \n",
    "    rapporterer_ikke_til_annen_v = rapporterer_ikke_til_annen_v.rename(columns={'ORGNR': 'FINST_ORGNR'})\n",
    "    return rapporterer_ikke_til_annen_v, tmpdf"
   ]
  },
  {
   "cell_type": "code",
   "execution_count": null,
   "id": "5e030f8c-e88b-469a-b382-82aa276d73a1",
   "metadata": {},
   "outputs": [],
   "source": [
    "def legg_paa_hale_med_n(df):\n",
    "    df['INSTLISTE_HALE'] = df['INSTLISTE_HALE'].fillna(\"\\\\n\\\\n\\\\n\\\\n\\\\n\\\\n\\\\n\\\\n\\\\n\\\\n\\\\n\")\n",
    "    df['antall_n_mangler'] = df['INSTLISTE_HALE'].apply(lambda x: 11-x.count(\"\\\\n\"))\n",
    "    df['INSTLIST'] = df.apply(lambda x: x.orgnr_navn + \\\n",
    "                                                \"\\\\n\" + \\\n",
    "                                                x.INSTLISTE_HALE + \\\n",
    "                                                x.antall_n_mangler * (\"\\\\n\"), axis=1)\n",
    "    return df"
   ]
  },
  {
   "cell_type": "code",
   "execution_count": null,
   "id": "a977b3fd-20bd-4651-86e8-bd811f3620ff",
   "metadata": {},
   "outputs": [],
   "source": [
    "kolonner_i_alle_private = ['USERID',\n",
    "                            'REGION_NR',\n",
    "                            'REGION_NAVN',\n",
    "                            'FORETAK_ORGNR',\n",
    "                            'FORETAK_NAVN',\n",
    "                            'FINST_ORGNR',\n",
    "                            'FINST_NAVN']"
   ]
  },
  {
   "cell_type": "markdown",
   "id": "a13b9f20-0e89-4398-aca2-fc32fdd5d6ad",
   "metadata": {
    "tags": []
   },
   "source": [
    "### skj38P (TSB for private helseforetak)"
   ]
  },
  {
   "cell_type": "markdown",
   "id": "fef3f4ce-cd1b-4566-9848-35ccee23378e",
   "metadata": {},
   "source": [
    "Henter inn alle rader i SFU som har skjematype 381. Variabelen ```H_VAR1_A```  sier hvilket orgnummer foretaket rapporterer til. Koden under bruker denne til å variabelen til å plassere rapporteringsenhetene først, og alle deres underinstitusjoner i variabelen ```INSTLIST```. \n",
    "\n",
    "For at filen skal ha riktig format, skal det tilsammen være 13 institusjoner per foretak i ```INSTLIST```. Fyller automatisk ut linjeskift ```\\n``` slik at antallet blir 13."
   ]
  },
  {
   "cell_type": "code",
   "execution_count": null,
   "id": "9da521e4-151c-4154-a942-dbff593cee91",
   "metadata": {},
   "outputs": [],
   "source": [
    "# kolonner som skal være med i droplisten:\n",
    "kolonner = kolonner_i_alle_private +\\\n",
    "            ['INSTLIST']\n",
    "\n",
    "skj38P = tabell_som_inneholder_skjema(SFUklass, 'SKJEMA_TYPE', \"381\").copy()\n",
    "skj38P = skj38P.rename(columns = {\"ORGNR_FORETAK\": \"FORETAK_ORGNR\",\n",
    "                                   \"NAVN\": \"FINST_NAVN\",\n",
    "                                   'ORGNR':'FINST_ORGNR',\n",
    "                                   'HELSEREGION':'REGION_NR',\n",
    "                                   'RHF':'REGION_NAVN'})\n",
    "\n",
    "# USERID er alltid foretaksnummer\n",
    "skj38P['USERID'] = skj38P['FORETAK_ORGNR']\n"
   ]
  },
  {
   "cell_type": "code",
   "execution_count": null,
   "id": "3b05317d-dd89-474d-bfa5-9a2aea2b5b63",
   "metadata": {},
   "outputs": [],
   "source": [
    "# Importerer riktig regionnummer fra KLASS og gir foretak som ikke er offentlige betegnelsen \"PRIVATE INSTITUSJONER\"\n",
    "skj38P = pd.merge(skj38P, RHF_kode_klass[[\"HELSEREGION\", \"RHF\"]], how=\"left\" , left_on=\"REGION_NR\", right_on=\"HELSEREGION\")\n",
    "\n",
    "skj38P['REGION_NAVN'] = skj38P['RHF']\n",
    "skj38P.REGION_NAVN = skj38P.REGION_NAVN.fillna(\"PRIVATE INSTITUSJONER\")"
   ]
  },
  {
   "cell_type": "code",
   "execution_count": null,
   "id": "c23ca0d6-0df0-4882-abdb-0ec7d106b716",
   "metadata": {},
   "outputs": [],
   "source": [
    "foretaksnavn = hent_foretaksnavn_til_virksomhetene_fra_SFU(skj38P.FORETAK_ORGNR.unique())\n",
    "skj38P = pd.merge(skj38P, foretaksnavn, how=\"left\", on=\"FORETAK_ORGNR\")"
   ]
  },
  {
   "cell_type": "code",
   "execution_count": null,
   "id": "27fb6196-22dd-415d-a555-9c54e8fa9ac2",
   "metadata": {},
   "outputs": [],
   "source": [
    "rapporteringsenhet, undervirksomheter = instlist_med_riktig_antall_n(pd.DataFrame(skj38P['FINST_ORGNR']))"
   ]
  },
  {
   "cell_type": "code",
   "execution_count": null,
   "id": "94f1bad6-9688-4cd8-8610-fd899842b19f",
   "metadata": {
    "tags": []
   },
   "outputs": [],
   "source": [
    "skj38P = pd.merge(skj38P, rapporteringsenhet, how=\"left\", on=\"FINST_ORGNR\")\n",
    "skj38P = pd.merge(skj38P, undervirksomheter, how=\"left\", on=\"FINST_ORGNR\")\n",
    "\n",
    "skj38P = legg_paa_hale_med_n(skj38P)"
   ]
  },
  {
   "cell_type": "code",
   "execution_count": null,
   "id": "c4948d9d-ac80-4e64-b3be-045f757514c3",
   "metadata": {},
   "outputs": [],
   "source": [
    "skj38P = skj38P[kolonner]"
   ]
  },
  {
   "cell_type": "markdown",
   "id": "4c8e27f0-92d6-4e3d-8e3d-1c6713bf85ae",
   "metadata": {
    "tags": []
   },
   "source": [
    "### skj39 (Resultatregnskap for private helseforetak)"
   ]
  },
  {
   "cell_type": "markdown",
   "id": "e7aa3a9e-f35d-48c8-880b-b5d45f7728df",
   "metadata": {},
   "source": [
    "Lages på nesten samme måte som skjema 38P, med unntak av at man henter ut SKJEMA_TYPE 39 fra SFU og legger til kolonnen ```INSTTYPE``` med institusjonstype hentet fra hjelpevariabelen ```SN07_1```."
   ]
  },
  {
   "cell_type": "code",
   "execution_count": null,
   "id": "5d8ba423-e4ee-415b-b500-cbfcd8910b3c",
   "metadata": {},
   "outputs": [],
   "source": [
    "# kolonner som skal være med i droplisten:\n",
    "kolonner = kolonner_i_alle_private +\\\n",
    "           ['INSTTYPE', 'INSTLIST']\n",
    "\n",
    "skj39 = tabell_som_inneholder_skjema(SFUklass, 'SKJEMA_TYPE', \"39\").copy()\n",
    "skj39 = skj39.rename(columns = {\"ORGNR_FORETAK\": \"FORETAK_ORGNR\",\n",
    "                                   \"NAVN\": \"FINST_NAVN\",\n",
    "                                   'ORGNR':'FINST_ORGNR',\n",
    "                                   'HELSEREGION':'REGION_NR',\n",
    "                                   'RHF':'REGION_NAVN'})\n",
    "\n",
    "# USERID er alltid foretaksnummer\n",
    "skj39['USERID'] = skj39['FORETAK_ORGNR']\n"
   ]
  },
  {
   "cell_type": "code",
   "execution_count": null,
   "id": "553c9d28-70bd-48ac-a7f8-89c43d0f2c0c",
   "metadata": {},
   "outputs": [],
   "source": [
    "# Importerer riktig regionnummer fra KLASS og gir foretak som ikke er offentlige betegnelsen \"PRIVATE INSTITUSJONER\"\n",
    "skj39 = pd.merge(skj39, RHF_kode_klass[[\"HELSEREGION\", \"RHF\"]], how=\"left\" , left_on=\"REGION_NR\", right_on=\"HELSEREGION\")\n",
    "\n",
    "skj39['REGION_NAVN'] = skj39['RHF']\n",
    "skj39.REGION_NAVN = skj39.REGION_NAVN.fillna(\"PRIVATE INSTITUSJONER\")"
   ]
  },
  {
   "cell_type": "code",
   "execution_count": null,
   "id": "538c1e6b-4f0e-4325-9bd7-3ea145024453",
   "metadata": {},
   "outputs": [],
   "source": [
    "# Henter foretaksnavn til virksomhetene fra SFU\n",
    "foretak = hent_foretaksnavn_til_virksomhetene_fra_SFU(skj39.FORETAK_ORGNR.unique())\n",
    "\n",
    "skj39 = pd.merge(skj39, foretak, how=\"left\", on=\"FORETAK_ORGNR\")"
   ]
  },
  {
   "cell_type": "code",
   "execution_count": null,
   "id": "a55e2823-63db-4ae6-814e-0217ac85684a",
   "metadata": {},
   "outputs": [],
   "source": [
    "rapporteringsenhet, undervirksomheter = instlist_med_riktig_antall_n(pd.DataFrame(skj39['FINST_ORGNR']))"
   ]
  },
  {
   "cell_type": "code",
   "execution_count": null,
   "id": "37e5c0df-6915-4290-b80e-b47a4f1fc796",
   "metadata": {
    "tags": []
   },
   "outputs": [],
   "source": [
    "skj39 = pd.merge(skj39, rapporteringsenhet, how=\"left\", on=\"FINST_ORGNR\")\n",
    "skj39 = pd.merge(skj39, undervirksomheter, how=\"left\", on=\"FINST_ORGNR\")\n",
    "skj39 = legg_paa_hale_med_n(skj39)"
   ]
  },
  {
   "cell_type": "code",
   "execution_count": null,
   "id": "6a55ab37-96c6-4d6d-a626-650fead01992",
   "metadata": {},
   "outputs": [],
   "source": [
    "institusjonstype = {\n",
    "    451: 'Psykisk helsevern for barn og unge',\n",
    "    461: 'Somatiske sykehus',\n",
    "    381: 'Rusmiddelinstitusjoner',\n",
    "    441: 'Psykisk helsevern for voksne',\n",
    "    47:  'Somatiske rehab.-og opptr.inst.'\n",
    "}\n",
    "\n",
    "skj39 = skj39.rename(columns={'H_VAR2_N': 'INSTTYPE'})"
   ]
  },
  {
   "cell_type": "code",
   "execution_count": null,
   "id": "1ddc3f4f-0d47-478c-9815-a1d0c003a536",
   "metadata": {},
   "outputs": [],
   "source": [
    "skj39['INSTTYPE'] = skj39['INSTTYPE'].map(institusjonstype)"
   ]
  },
  {
   "cell_type": "code",
   "execution_count": null,
   "id": "c25b3fad-2b91-4282-8a06-51c830408764",
   "metadata": {},
   "outputs": [],
   "source": [
    "# Hvis FORETAK_NAVN er tom, bruk NAVN1 fra SFU:\n",
    "skj39.loc[skj39['FORETAK_NAVN'].isnull(),'FORETAK_NAVN'] = skj39['NAVN1']"
   ]
  },
  {
   "cell_type": "code",
   "execution_count": null,
   "id": "864ec59f-e117-457e-a7c1-f97de9f8a546",
   "metadata": {},
   "outputs": [],
   "source": [
    "# Tar kun vare på de kolonnene jeg spesifiserer i begynnelsen\n",
    "skj39 = skj39[kolonner]"
   ]
  },
  {
   "cell_type": "markdown",
   "id": "c19ec2ab-6fd9-4460-bb55-1df02ea47ea7",
   "metadata": {},
   "source": [
    "### skj44P (Psykisk helsevern for voksne (PHFV), private helseforetak)"
   ]
  },
  {
   "cell_type": "code",
   "execution_count": null,
   "id": "45c98499-57bb-499b-b3af-75cf327e0410",
   "metadata": {
    "tags": []
   },
   "outputs": [],
   "source": [
    "# Henter døgnplasser fra foregående år\n",
    "d_plass_fjor = (skjemadata44P[['FINST_ORGNR','D_PLAS_T']].reset_index().copy()\n",
    "                [['FINST_ORGNR','D_PLAS_T']]\n",
    "                .rename(columns={'D_PLAS_T': 'D_PLAS_FJOR'}))"
   ]
  },
  {
   "cell_type": "code",
   "execution_count": null,
   "id": "ab2b6063-3a56-40b7-851c-7d3240d50217",
   "metadata": {},
   "outputs": [],
   "source": [
    "# kolonner som skal være med i droplisten:\n",
    "kolonner = kolonner_i_alle_private +\\\n",
    "           ['INSTLIST', 'D_PLAS_FJOR']\n",
    "\n",
    "skj44P = tabell_som_inneholder_skjema(SFUklass, 'SKJEMA_TYPE', \"441\").copy()\n",
    "skj44P = skj44P.rename(columns = {\"ORGNR_FORETAK\": \"FORETAK_ORGNR\",\n",
    "                                   \"NAVN\": \"FINST_NAVN\",\n",
    "                                   'ORGNR':'FINST_ORGNR',\n",
    "                                   'HELSEREGION':'REGION_NR',\n",
    "                                   'RHF':'REGION_NAVN'})\n",
    "\n",
    "# USERID er alltid foretaksnummer\n",
    "skj44P['USERID'] = skj44P['FORETAK_ORGNR']\n"
   ]
  },
  {
   "cell_type": "code",
   "execution_count": null,
   "id": "5c188c90-7620-4789-951e-9ecc4ad0cda1",
   "metadata": {},
   "outputs": [],
   "source": [
    "# Importerer riktig regionnummer fra KLASS og gir foretak \n",
    "# som ikke er offentlige betegnelsen \"PRIVATE INSTITUSJONER\"\n",
    "skj44P = pd.merge(skj44P, RHF_kode_klass[[\"HELSEREGION\", \"RHF\"]], how=\"left\" , left_on=\"REGION_NR\", right_on=\"HELSEREGION\")\n",
    "\n",
    "skj44P['REGION_NAVN'] = skj44P['RHF']\n",
    "skj44P.REGION_NAVN = skj44P.REGION_NAVN.fillna(\"PRIVATE INSTITUSJONER\")"
   ]
  },
  {
   "cell_type": "code",
   "execution_count": null,
   "id": "20b52d04-c64c-44c9-bc0a-45871a87630c",
   "metadata": {},
   "outputs": [],
   "source": [
    "# Henter foretaksnavn til virksomhetene fra SFU\n",
    "foretak = hent_foretaksnavn_til_virksomhetene_fra_SFU(skj44P.FORETAK_ORGNR.unique())\n",
    "\n",
    "skj44P = pd.merge(skj44P, foretak, how=\"left\", on=\"FORETAK_ORGNR\")"
   ]
  },
  {
   "cell_type": "code",
   "execution_count": null,
   "id": "25068f91-e17a-4e0a-be02-f1c3b8c994d9",
   "metadata": {},
   "outputs": [],
   "source": [
    "rapporteringsenhet, undervirksomheter = instlist_med_riktig_antall_n(pd.DataFrame(skj44P['FINST_ORGNR']))"
   ]
  },
  {
   "cell_type": "code",
   "execution_count": null,
   "id": "ceb0802f-fc55-4ea8-b60f-033eeedb31b2",
   "metadata": {
    "tags": []
   },
   "outputs": [],
   "source": [
    "skj44P = pd.merge(skj44P, rapporteringsenhet, how=\"left\", on=\"FINST_ORGNR\")\n",
    "skj44P = pd.merge(skj44P, undervirksomheter, how=\"left\", on=\"FINST_ORGNR\")\n",
    "skj44P = legg_paa_hale_med_n(skj44P)"
   ]
  },
  {
   "cell_type": "code",
   "execution_count": null,
   "id": "412794aa-cdc3-4cfb-8f42-9ca67474e8c7",
   "metadata": {},
   "outputs": [],
   "source": [
    "skj44P = pd.merge(skj44P, d_plass_fjor, how=\"left\", on=\"FINST_ORGNR\")"
   ]
  },
  {
   "cell_type": "code",
   "execution_count": null,
   "id": "ba5a6989-7093-4a3a-a5ea-248e6705788f",
   "metadata": {},
   "outputs": [],
   "source": [
    "# Tar kun vare på de kolonnene jeg spesifiserte i begynnelsen \n",
    "skj44P = skj44P[kolonner]"
   ]
  },
  {
   "cell_type": "markdown",
   "id": "01a3d06b-f2ce-4c11-90c7-61fe1743beaa",
   "metadata": {},
   "source": [
    "### skj45P (Psykisk helsevern for barn og unge (PHBU/BUP), private helseforetak)"
   ]
  },
  {
   "cell_type": "code",
   "execution_count": null,
   "id": "90205100-b583-4e46-a2ec-eab5db7edadf",
   "metadata": {
    "tags": []
   },
   "outputs": [],
   "source": [
    "# Henter døgnplasser fra foregående år\n",
    "d_plass_fjor = (skjemadata45P[['FINST_ORGNR','D_PLAS_T']].reset_index().copy()\n",
    "                [['FINST_ORGNR','D_PLAS_T']]\n",
    "                .rename(columns={'D_PLAS_T': 'D_PLAS_FJOR'}))"
   ]
  },
  {
   "cell_type": "code",
   "execution_count": null,
   "id": "973d9d1a-f939-4cd6-bd06-95e3bc889398",
   "metadata": {},
   "outputs": [],
   "source": [
    "# kolonner som skal være med i droplisten:\n",
    "kolonner = kolonner_i_alle_private +\\\n",
    "           ['INSTLIST', 'D_PLAS_FJOR']\n",
    "\n",
    "skj45P = tabell_som_inneholder_skjema(SFUklass, 'SKJEMA_TYPE', \"451\").copy()\n",
    "skj45P = skj45P.rename(columns = {\"ORGNR_FORETAK\": \"FORETAK_ORGNR\",\n",
    "                                   \"NAVN\": \"FINST_NAVN\",\n",
    "                                   'ORGNR':'FINST_ORGNR',\n",
    "                                   'HELSEREGION':'REGION_NR',\n",
    "                                   'RHF':'REGION_NAVN'})\n",
    "\n",
    "# USERID er alltid foretaksnummer\n",
    "skj45P['USERID'] = skj45P['FORETAK_ORGNR']"
   ]
  },
  {
   "cell_type": "code",
   "execution_count": null,
   "id": "a44dfa94-0b81-4e56-acbd-82ad04c4fccf",
   "metadata": {},
   "outputs": [],
   "source": [
    "# Importerer riktig regionnummer fra KLASS og gir foretak \n",
    "# som ikke er offentlige betegnelsen \"PRIVATE INSTITUSJONER\"\n",
    "skj45P = pd.merge(skj45P, RHF_kode_klass[[\"HELSEREGION\", \"RHF\"]], how=\"left\" , left_on=\"REGION_NR\", right_on=\"HELSEREGION\")\n",
    "\n",
    "skj45P['REGION_NAVN'] = skj45P['RHF']\n",
    "skj45P.REGION_NAVN = skj45P.REGION_NAVN.fillna(\"PRIVATE INSTITUSJONER\")"
   ]
  },
  {
   "cell_type": "code",
   "execution_count": null,
   "id": "550661e5-7be8-41b4-80ca-f84bda1036f7",
   "metadata": {},
   "outputs": [],
   "source": [
    "# Henter foretaksnavn til virksomhetene fra SFU\n",
    "foretak = hent_foretaksnavn_til_virksomhetene_fra_SFU(skj45P.FORETAK_ORGNR.unique())\n",
    "\n",
    "skj45P = pd.merge(skj45P, foretak, how=\"left\", on=\"FORETAK_ORGNR\")"
   ]
  },
  {
   "cell_type": "code",
   "execution_count": null,
   "id": "79132e7c-1454-4e13-a274-7a63bab587a1",
   "metadata": {},
   "outputs": [],
   "source": [
    "rapporteringsenhet, undervirksomheter = instlist_med_riktig_antall_n(pd.DataFrame(skj45P['FINST_ORGNR']))"
   ]
  },
  {
   "cell_type": "code",
   "execution_count": null,
   "id": "4c581b81-596a-481d-ad40-4b1b46f35069",
   "metadata": {
    "tags": []
   },
   "outputs": [],
   "source": [
    "skj45P = pd.merge(skj45P, rapporteringsenhet, how=\"left\", on=\"FINST_ORGNR\")\n",
    "if type(undervirksomheter) != int:\n",
    "    skj45P = pd.merge(skj45P, undervirksomheter, how=\"left\", on=\"FINST_ORGNR\")\n",
    "    skj45P['INSTLISTE_HALE'] = skj45P['INSTLISTE_HALE'].fillna(\"\\\\n\\\\n\\\\n\\\\n\\\\n\\\\n\\\\n\\\\n\\\\n\\\\n\\\\n\")\n",
    "else:\n",
    "    skj45P['INSTLISTE_HALE'] = \"\\\\n\\\\n\\\\n\\\\n\\\\n\\\\n\\\\n\\\\n\\\\n\\\\n\\\\n\"\n",
    "\n",
    "\n",
    "skj45P = legg_paa_hale_med_n(skj45P)"
   ]
  },
  {
   "cell_type": "code",
   "execution_count": null,
   "id": "f14e28fb-bf4d-4e93-b1c6-bc9e48650c39",
   "metadata": {},
   "outputs": [],
   "source": [
    "skj45P = pd.merge(skj45P, d_plass_fjor, how=\"left\", on=\"FINST_ORGNR\")"
   ]
  },
  {
   "cell_type": "code",
   "execution_count": null,
   "id": "ef885b58-cf4a-43a4-b1ea-092246e5fb94",
   "metadata": {
    "tags": []
   },
   "outputs": [],
   "source": [
    "# Tar kun vare på de kolonnene spesifisert i begynnelsen\n",
    "skj45P = skj45P[kolonner]"
   ]
  },
  {
   "cell_type": "markdown",
   "id": "da0a2492-3548-46c6-a4dd-bc17fa6fce67",
   "metadata": {},
   "source": [
    "### skj46P (Somatiske sykehus, private helseforetak)"
   ]
  },
  {
   "cell_type": "code",
   "execution_count": null,
   "id": "595a5c55-87de-45cc-ac5a-68856e63f223",
   "metadata": {
    "tags": []
   },
   "outputs": [],
   "source": [
    "# Henter døgnplasser fra foregående år\n",
    "d_plass_fjor = (skjemadata46P[['FINST_ORGNR','SEN_HT', 'SDGN_HT']].reset_index().copy()\n",
    "                [['FINST_ORGNR','SEN_HT', 'SDGN_HT']]\n",
    "                .rename(columns={'SEN_HT': 'SEN_HT_FJOR',\n",
    "                                 'SDGN_HT': 'SDGN_HT_FJOR'}))"
   ]
  },
  {
   "cell_type": "code",
   "execution_count": null,
   "id": "945afad8-acbd-4f22-bc64-b6dd066a83c2",
   "metadata": {},
   "outputs": [],
   "source": [
    "# kolonner som skal være med i droplisten:\n",
    "kolonner = kolonner_i_alle_private +\\\n",
    "            ['SEN_HT_FJOR', 'SDGN_HT_FJOR']\n",
    "\n",
    "skj46P = tabell_som_inneholder_skjema(SFUklass, 'SKJEMA_TYPE', \"461\").copy()\n",
    "skj46P = skj46P.rename(columns = {\"ORGNR_FORETAK\": \"FORETAK_ORGNR\",\n",
    "                                   \"NAVN\": \"FINST_NAVN\",\n",
    "                                   'ORGNR':'FINST_ORGNR',\n",
    "                                   'HELSEREGION':'REGION_NR',\n",
    "                                   'RHF':'REGION_NAVN'})\n",
    "\n",
    "# USERID er alltid foretaksnummer\n",
    "skj46P['USERID'] = skj46P['FORETAK_ORGNR']\n"
   ]
  },
  {
   "cell_type": "code",
   "execution_count": null,
   "id": "3da07b0b-464c-4db2-98f8-46503b06d582",
   "metadata": {},
   "outputs": [],
   "source": [
    "# Importerer riktig regionnummer fra KLASS og gir foretak som ikke er offentlige betegnelsen \"PRIVATE INSTITUSJONER\"\n",
    "skj46P = pd.merge(skj46P, RHF_kode_klass[[\"HELSEREGION\", \"RHF\"]], how=\"left\" , left_on=\"REGION_NR\", right_on=\"HELSEREGION\")\n",
    "\n",
    "skj46P['REGION_NAVN'] = skj46P['RHF']\n",
    "skj46P.REGION_NAVN = skj46P.REGION_NAVN.fillna(\"PRIVATE INSTITUSJONER\")"
   ]
  },
  {
   "cell_type": "code",
   "execution_count": null,
   "id": "d808dcdd-9b67-4d9e-bd80-3f9e5a704baf",
   "metadata": {},
   "outputs": [],
   "source": [
    "# Henter foretaksnavn til virksomhetene fra SFU\n",
    "foretak = hent_foretaksnavn_til_virksomhetene_fra_SFU(skj46P.FORETAK_ORGNR.unique())\n",
    "\n",
    "skj46P = pd.merge(skj46P, foretak, how=\"left\", on=\"FORETAK_ORGNR\")"
   ]
  },
  {
   "cell_type": "code",
   "execution_count": null,
   "id": "5c548bba-903a-4d07-87d6-9149af2102b2",
   "metadata": {},
   "outputs": [],
   "source": [
    "rapporteringsenhet, undervirksomheter = instlist_med_riktig_antall_n(pd.DataFrame(skj46P['FINST_ORGNR']))"
   ]
  },
  {
   "cell_type": "code",
   "execution_count": null,
   "id": "d9b75b97-52e9-4754-a911-356af4fab979",
   "metadata": {
    "tags": []
   },
   "outputs": [],
   "source": [
    "skj46P = pd.merge(skj46P, rapporteringsenhet, how=\"left\", on=\"FINST_ORGNR\")"
   ]
  },
  {
   "cell_type": "code",
   "execution_count": null,
   "id": "20c51b81-2bef-4073-b4bd-6ac9db2729bf",
   "metadata": {
    "tags": []
   },
   "outputs": [],
   "source": [
    "skj46P = pd.merge(skj46P, undervirksomheter, how=\"left\", on=\"FINST_ORGNR\")\n",
    "skj46P.orgnr_navn = skj46P.orgnr_navn.fillna(\"\")\n",
    "\n",
    "skj46P = legg_paa_hale_med_n(skj46P)"
   ]
  },
  {
   "cell_type": "code",
   "execution_count": null,
   "id": "db24e761-9ad5-4fc5-9cfe-cbd1075459a7",
   "metadata": {},
   "outputs": [],
   "source": [
    "skj46P = pd.merge(skj46P, d_plass_fjor, how=\"left\", on=\"FINST_ORGNR\")"
   ]
  },
  {
   "cell_type": "code",
   "execution_count": null,
   "id": "e9c956a4-34bd-4c67-b8c4-fffc3eea6065",
   "metadata": {},
   "outputs": [],
   "source": [
    "skj46P.loc[skj46P.FORETAK_NAVN.isnull(), 'FORETAK_NAVN'] = skj46P.NAVN1"
   ]
  },
  {
   "cell_type": "code",
   "execution_count": null,
   "id": "e74a8d62-fbcb-4928-8f99-01cbd56e4637",
   "metadata": {},
   "outputs": [],
   "source": [
    "# Tar kun vare på de kolonnene jeg spesifiserte i begynnelsen \n",
    "skj46P = skj46P[kolonner]"
   ]
  },
  {
   "cell_type": "markdown",
   "id": "c429402b-53c3-46e0-adfa-8bf73dedbf7f",
   "metadata": {},
   "source": [
    "### skj47 (Somatiske institusjoner)"
   ]
  },
  {
   "cell_type": "code",
   "execution_count": null,
   "id": "c5c12ba8-5ed8-4dbf-a160-654e994dce8d",
   "metadata": {
    "tags": []
   },
   "outputs": [],
   "source": [
    "# Henter døgnplasser fra foregående år\n",
    "d_plass_fjor = (skjemadata47[['FINST_ORGNR','D_HELD', 'SDGN_SUM']].reset_index().copy()\n",
    "                [['FINST_ORGNR','D_HELD', 'SDGN_SUM']]\n",
    "                .rename(columns={'D_HELD': 'D_HELD_IFJOR',\n",
    "                                 'SDGN_SUM': 'SDGN_SUM_IFJOR'}))"
   ]
  },
  {
   "cell_type": "code",
   "execution_count": null,
   "id": "849b1775-248b-4c20-a378-c81ba925ec0d",
   "metadata": {},
   "outputs": [],
   "source": [
    "# kolonner som skal være med i droplisten:\n",
    "kolonner = kolonner_i_alle_private +\\\n",
    "           ['D_HELD_IFJOR','SDGN_SUM_IFJOR']\n",
    "\n",
    "skj47 = tabell_som_inneholder_skjema(SFUklass, 'SKJEMA_TYPE', \"47\").copy()\n",
    "skj47 = skj47.rename(columns = {\"ORGNR_FORETAK\": \"FORETAK_ORGNR\",\n",
    "                                   \"NAVN\": \"FINST_NAVN\",\n",
    "                                   'ORGNR':'FINST_ORGNR',\n",
    "                                   'HELSEREGION':'REGION_NR',\n",
    "                                   'RHF':'REGION_NAVN'})\n",
    "\n",
    "# USERID er alltid foretaksnummer\n",
    "skj47['USERID'] = skj47['FORETAK_ORGNR']"
   ]
  },
  {
   "cell_type": "code",
   "execution_count": null,
   "id": "37d75c90-9229-477e-81eb-208b76d2c7cf",
   "metadata": {},
   "outputs": [],
   "source": [
    "# Importerer riktig regionnummer fra KLASS og gir foretak som ikke er offentlige betegnelsen \"PRIVATE INSTITUSJONER\"\n",
    "skj47 = pd.merge(skj47, RHF_kode_klass[[\"HELSEREGION\", \"RHF\"]], how=\"left\" , left_on=\"REGION_NR\", right_on=\"HELSEREGION\")\n",
    "\n",
    "skj47['REGION_NAVN'] = skj47['RHF']\n",
    "skj47.REGION_NAVN = skj47.REGION_NAVN.fillna(\"PRIVATE INSTITUSJONER\")"
   ]
  },
  {
   "cell_type": "code",
   "execution_count": null,
   "id": "48724db7-f4e9-49e2-8b61-6e449b9b3b45",
   "metadata": {},
   "outputs": [],
   "source": [
    "# Henter foretaksnavn til virksomhetene fra SFU\n",
    "foretak = hent_foretaksnavn_til_virksomhetene_fra_SFU(skj47.FORETAK_ORGNR.unique())\n",
    "skj47 = pd.merge(skj47, foretak, how=\"left\", on=\"FORETAK_ORGNR\")"
   ]
  },
  {
   "cell_type": "code",
   "execution_count": null,
   "id": "9ff6d941-8e25-4943-a8bb-60f2a9f341cc",
   "metadata": {},
   "outputs": [],
   "source": [
    "rapporteringsenhet, undervirksomheter = instlist_med_riktig_antall_n(pd.DataFrame(skj47['FINST_ORGNR']))"
   ]
  },
  {
   "cell_type": "code",
   "execution_count": null,
   "id": "6f5bbac4-67ea-42bf-9472-409b43116b70",
   "metadata": {
    "tags": []
   },
   "outputs": [],
   "source": [
    "skj47 = pd.merge(skj47, rapporteringsenhet, how=\"left\", on=\"FINST_ORGNR\")\n",
    "skj47 = pd.merge(skj47, undervirksomheter, how=\"left\", on=\"FINST_ORGNR\")\n",
    "skj47 = legg_paa_hale_med_n(skj47)"
   ]
  },
  {
   "cell_type": "code",
   "execution_count": null,
   "id": "f1942d34-51af-4d7e-8a57-0dbae50c9a13",
   "metadata": {},
   "outputs": [],
   "source": [
    "skj47 = pd.merge(skj47, d_plass_fjor, how=\"left\", on=\"FINST_ORGNR\")"
   ]
  },
  {
   "cell_type": "code",
   "execution_count": null,
   "id": "124ce545-1423-4a27-a23f-c477d119c68c",
   "metadata": {},
   "outputs": [],
   "source": [
    "# Hvis FORETAK_NAVN er tom, bruk NAVN1 fra SFU:\n",
    "skj47.loc[skj47['FORETAK_NAVN'].isnull(),'FORETAK_NAVN'] = skj47['NAVN1']"
   ]
  },
  {
   "cell_type": "code",
   "execution_count": null,
   "id": "0a84d158-c90a-47db-8e2e-fb44dc826d06",
   "metadata": {},
   "outputs": [],
   "source": [
    "# Tar kun vare på de kolonnene jeg spesifiserte i begynnelsen\n",
    "skj47 = skj47[kolonner]"
   ]
  },
  {
   "cell_type": "markdown",
   "id": "efdc8242-0b80-4228-8101-8307efe01cef",
   "metadata": {},
   "source": [
    "# Eksportering til .csv-filer og rapport"
   ]
  },
  {
   "cell_type": "code",
   "execution_count": null,
   "id": "16c06fbf-c805-454c-b621-45198ff8db58",
   "metadata": {},
   "outputs": [],
   "source": [
    "def rapport(skj):\n",
    "    rader = eval(skj).shape[0]\n",
    "    kolonner = eval(skj).shape[1]\n",
    "    rader_med_missing = rader - eval(skj).dropna().shape[0]\n",
    "    skl = 100 * \"-\"\n",
    "    s = f\"{skl}\\n{skj}\\t Rader: {rader} \\t Kolonner: {kolonner} \\t Rader som inneholder minst en missing value: {rader_med_missing} \"\n",
    "    return s\n",
    "\n",
    "def lagre_dropliste_csv(skj):\n",
    "    filnavn = \"Dropliste_\" + skj + \"_\" + str(aargang) + \"_\" + dato_idag + \".csv\"\n",
    "    eval(skj).to_csv(sti_til_lagring + filnavn, sep=\";\", encoding='latin1', index=False)\n",
    "    print(filnavn, \" lagret\")"
   ]
  },
  {
   "cell_type": "code",
   "execution_count": null,
   "id": "9da4a43c-3fde-4d2a-856c-7817cdf413fc",
   "metadata": {},
   "outputs": [],
   "source": [
    "for x in skjemaer_til_droplister:\n",
    "    print(rapport(x))"
   ]
  },
  {
   "cell_type": "code",
   "execution_count": null,
   "id": "e7eb4bc4-f904-4f4d-8162-53569e0310e4",
   "metadata": {},
   "outputs": [],
   "source": [
    "if lagre_filer:\n",
    "    for x in skjemaer_til_droplister:\n",
    "        lagre_dropliste_csv(x)"
   ]
  }
 ],
 "metadata": {
  "language_info": {
   "codemirror_mode": {
    "name": "ipython"
   },
   "file_extension": ".py",
   "mimetype": "text/x-python",
   "name": "python",
   "nbconvert_exporter": "python"
  },
  "toc-autonumbering": true
 },
 "nbformat": 4,
 "nbformat_minor": 5
}
