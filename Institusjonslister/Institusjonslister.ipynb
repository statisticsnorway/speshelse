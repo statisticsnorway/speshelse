{
 "cells": [
  {
   "cell_type": "markdown",
   "id": "de409c0e-5582-4652-b36d-6b831c57142d",
   "metadata": {},
   "source": [
    "# Institusjonslister\n",
    "\n",
    "Beskrivelse av scriptet... Sendes til Hdir i forbindelse med Samarbeids-/evalueringsmøte?\n",
    "\n",
    "Det lages én fil for offentlige institusjoner og én fil for private institusjoner i spesialisthelsetjenesten. Filene lagres med datomarkering i mappen **filsti_institusjonslister** (se under)"
   ]
  },
  {
   "cell_type": "code",
   "execution_count": null,
   "id": "5f0a6add-0ce7-4e64-bdcd-a8e46610bb25",
   "metadata": {},
   "outputs": [],
   "source": [
    "suppressPackageStartupMessages({\n",
    "  library(rio)\n",
    "  library(dplyr)\n",
    "  library(stringr)\n",
    "})\n",
    "\n",
    "# OBS: erstatt med fellesr når den er installert på nytt!\n",
    "source(\"/ssb/bruker/rdn/fellesr/R/dynarev_uttrekk.R\")"
   ]
  },
  {
   "cell_type": "markdown",
   "id": "862f17a7-4414-478c-8303-c90606eff16f",
   "metadata": {},
   "source": [
    "### Angir årgang og logger på Windows/Linux"
   ]
  },
  {
   "cell_type": "code",
   "execution_count": null,
   "id": "b2b0779f-0b01-4ade-85c0-8dbdad985af0",
   "metadata": {},
   "outputs": [],
   "source": [
    "aargang <- 2022\n",
    "\n",
    "# Logg på for å få tilgang til data fra X-disken\n",
    "system(\"kinit\", input = getPass::getPass(\"Skriv inn Windows-passord\"))\n",
    "\n",
    "# Logg på for å få tilgang til Oracle \n",
    "con <- dynarev_uttrekk(con_ask = \"con\") # fellesr::"
   ]
  },
  {
   "cell_type": "markdown",
   "id": "d44d8c4d-554a-4471-b8f0-9eb364db92b6",
   "metadata": {},
   "source": [
    "### Filsti for institusjonslister\n",
    "\n",
    "Oppretter årgangsmappe dersom den ikke eksisterer."
   ]
  },
  {
   "cell_type": "code",
   "execution_count": null,
   "id": "d6e4595f-afa8-4ea3-9d20-931ebd8029fc",
   "metadata": {},
   "outputs": [],
   "source": [
    "filsti_institusjonslister <- paste0(\"/ssb/x_disk/A300/330/Speshelse/2. Planlegge og utforme/Institusjonslister/\", aargang, \"/\")\n",
    "\n",
    "if (file.exists(filsti_institusjonslister)==FALSE) {\n",
    "  dir.create(filsti_institusjonslister)\n",
    "}"
   ]
  },
  {
   "cell_type": "markdown",
   "id": "8ef3d004-f352-4228-ac72-507db6ae4b5c",
   "metadata": {},
   "source": [
    "### Laster inn oversikt over alle rapporteringsenheter (bortsett fra private uten oppdragsdokument)"
   ]
  },
  {
   "cell_type": "code",
   "execution_count": null,
   "id": "3c378013-8e3f-4536-b6e4-f499889c9bb3",
   "metadata": {},
   "outputs": [],
   "source": [
    "HF <- klassR::GetKlass(603, output_style = \"wide\") %>%\n",
    "  dplyr::rename(ORGNR_FORETAK = code3, \n",
    "                NAVN = name3, \n",
    "                RHF = name2, \n",
    "                Helseregion = code1) %>%\n",
    "  dplyr::mutate(Foretakstype = \"HF\") %>%\n",
    "  dplyr::select(ORGNR_FORETAK, NAVN, RHF, Helseregion, Foretakstype)\n",
    "\n",
    "RHF <- klassR::GetKlass(603, output_level = 2) %>%\n",
    "  dplyr::rename(ORGNR_FORETAK = code, \n",
    "                NAVN = name, \n",
    "                Helseregion = parentCode) %>%\n",
    "  dplyr::mutate(Foretakstype = \"RHF\", \n",
    "                RHF = NAVN) %>%\n",
    "  dplyr::select(ORGNR_FORETAK, NAVN, RHF, Helseregion, Foretakstype)\n",
    "\n",
    "hjelpeforetak <- klassR::GetKlass(605, output_style = \"wide\") %>%\n",
    "  dplyr::rename(ORGNR_FORETAK = code3, \n",
    "                NAVN = name3, \n",
    "                RHF = name2, \n",
    "                Helseregion = code1) %>%\n",
    "  dplyr::mutate(Foretakstype = \"Hjelpeforetak\") %>%\n",
    "  dplyr::select(ORGNR_FORETAK, NAVN, RHF, Helseregion, Foretakstype)\n",
    "\n",
    "offentlig <- rbind(HF, RHF, hjelpeforetak)\n",
    "\n",
    "oppdrag <- klassR::GetKlass(604, output_style = \"wide\") %>%\n",
    "  dplyr::rename(ORGNR_FORETAK = code2, \n",
    "                NAVN = name2, \n",
    "                RHF = name1, \n",
    "                Helseregion = code1) %>%\n",
    "  dplyr::mutate(Foretakstype = \"Oppdrag\", \n",
    "                RHF = paste0(RHF, \" RHF\")) %>%\n",
    "  dplyr::select(ORGNR_FORETAK, NAVN, RHF, Helseregion, Foretakstype)\n",
    "\n",
    "helsereg <- rbind(HF, RHF, hjelpeforetak, oppdrag) %>%\n",
    "  dplyr::group_by(Helseregion, RHF) %>%\n",
    "  dplyr::tally()\n",
    "\n",
    "helsereg"
   ]
  },
  {
   "cell_type": "markdown",
   "id": "331cda84-3bf7-4829-a364-ceedf7ca5a8e",
   "metadata": {},
   "source": [
    "### Laster inn delregisteret\n",
    "\n",
    "OBS: hent delregnr fra KLASS 610?"
   ]
  },
  {
   "cell_type": "code",
   "execution_count": null,
   "id": "7d577063-699b-4752-a688-53c7b8027f47",
   "metadata": {},
   "outputs": [],
   "source": [
    "delreg <- dynarev_uttrekk(delregnr = c(paste0(24, substr(aargang, 3, 4)), paste0(19377, substr(aargang, 3, 4))), # fellesr::\n",
    "                                   skjema = T, \n",
    "                                   skjema_cols = F,\n",
    "                                   enhets_type = c(\"FRTK\", \"BEDR\"), \n",
    "                                   sfu_cols = T, \n",
    "                                   con_ask = F)\n",
    "\n",
    "delreg <- delreg %>%\n",
    "  dplyr::filter(is.na(KVITT_TYPE)) %>%\n",
    "  dplyr::filter(!is.na(ORGNR)) %>%\n",
    "  dplyr::mutate(NAVN1 = as.character(NAVN1), \n",
    "                NAVN2 = as.character(NAVN2),\n",
    "                NAVN3 = as.character(NAVN3), \n",
    "                NAVN1 = tidyr::replace_na(NAVN1, \"\"), \n",
    "                NAVN2 = tidyr::replace_na(NAVN2, \"\"), \n",
    "                NAVN3 = tidyr::replace_na(NAVN3, \"\"))\n",
    "\n",
    "# Lager institusjonsnavn #\n",
    "delreg$NYTT_NAVN <- paste0(delreg$NAVN1, \" \", \n",
    "                           delreg$NAVN2, \" \", \n",
    "                           delreg$NAVN3) \n",
    "\n",
    "# Fjerner mellomrom på slutten av strengen #\n",
    "delreg$NYTT_NAVN <- stringr::str_trim(delreg$NYTT_NAVN, side = c(\"right\"))\n",
    "# Og inne i strengen #\n",
    "delreg$NYTT_NAVN <- stringr::str_squish(delreg$NYTT_NAVN)\n",
    "\n",
    "delreg_tester <- delreg %>%\n",
    "  dplyr::select(SN07_1, H_VAR1_A, ORGNR, ORGNR_FORETAK, NYTT_NAVN, NAVN, NAVN1, NAVN2, NAVN3, NAVN4, NAVN5) %>%\n",
    "  dplyr::filter(!is.na(H_VAR1_A)) %>%\n",
    "  dplyr::mutate(test = stringr::str_length(SN07_1), \n",
    "                sn07_1_ny <- stringr::str_pad(SN07_1, width = 6, \"right\", pad = \"0\"))"
   ]
  },
  {
   "cell_type": "markdown",
   "id": "f2f42e70-67a4-49e5-a305-7a6dc1bd5fc5",
   "metadata": {},
   "source": [
    "### Legger til Standard for næringsgruppering (SN) fra KLASS"
   ]
  },
  {
   "cell_type": "code",
   "execution_count": null,
   "id": "26b47197-1b51-48c1-a7ed-763649a68c51",
   "metadata": {},
   "outputs": [],
   "source": [
    "klass_sn <- klassR::GetKlass(6, output_level = 5) %>%\n",
    "  dplyr::select(-parentCode, -level) %>%\n",
    "  dplyr::rename(SN07_1 = code, \n",
    "                SN07_1_navn = name) %>%\n",
    "  dplyr::mutate(SN07_1 = as.character(SN07_1))\n",
    "\n",
    "delreg  <- dplyr::left_join(delreg, klass_sn, by = \"SN07_1\")"
   ]
  },
  {
   "cell_type": "markdown",
   "id": "05c3c90d-5487-40ef-b811-3e793e5d8bc8",
   "metadata": {},
   "source": [
    "### Offentlige RHF, HF og hjelpeforetak"
   ]
  },
  {
   "cell_type": "code",
   "execution_count": null,
   "id": "0344d410-cb32-453a-83af-48d0826a1b5a",
   "metadata": {},
   "outputs": [],
   "source": [
    "# Beholder HF, RHF og hjelpeforetak #\n",
    "offentlig <- offentlig %>%\n",
    "  dplyr::select(ORGNR_FORETAK, Foretakstype, Helseregion, RHF) # NAVN\n",
    "\n",
    "delreg$ORGNR_FORETAK <- as.character(delreg$ORGNR_FORETAK)\n",
    "delreg_offentlig <- dplyr::inner_join(offentlig, delreg, by = c(\"ORGNR_FORETAK\"))\n",
    "\n",
    "delreg_offentlig_test <- delreg_offentlig %>%\n",
    "  dplyr::select(Foretakstype, Helseregion, RHF, ORGNR_FORETAK, H_VAR1_A, ORGNR, NAVN, NYTT_NAVN,\n",
    "                SKJEMA_TYPE, SN07_1, SN07_1_navn, F_POSTNR, F_POSTSTED) %>%\n",
    "  dplyr::rename(Foretakstype = Foretakstype,\n",
    "                Helseregion = Helseregion,\n",
    "                Helseregion_navn = RHF,\n",
    "                Foretaksorgnr = ORGNR_FORETAK,\n",
    "                Rapporteringsnr = H_VAR1_A,\n",
    "                Bedriftsorgnr = ORGNR,\n",
    "                HF_navn = NAVN,\n",
    "                Institusjonsnavn = NYTT_NAVN,\n",
    "                Skjematype = SKJEMA_TYPE,\n",
    "                Næringskode = SN07_1,\n",
    "                Næringsnavn = SN07_1_navn,\n",
    "                Postnummer = F_POSTNR, \n",
    "                Poststed = F_POSTSTED)\n",
    "\n",
    "# Beholder kun enheter med rapporteringsnummer #\n",
    "delreg_offentlig_test <- delreg_offentlig_test %>%\n",
    "  dplyr::filter(!is.na(Rapporteringsnr))\n",
    "\n",
    "# Sjekker for dubletter i Institusjonsnavn (?) #\n",
    "delreg_offentlig_test_duplikater <- delreg_offentlig_test %>%\n",
    "  janitor::get_dupes(Institusjonsnavn)\n",
    "print(paste0(\"Dubletter finnes for: \", unique(delreg_offentlig_test_duplikater$Institusjonsnavn)))\n",
    "\n",
    "# Sorterer etter helseregion #\n",
    "delreg_offentlig_test <- delreg_offentlig_test %>%\n",
    "  dplyr::arrange(Helseregion)"
   ]
  },
  {
   "cell_type": "markdown",
   "id": "532ed50c-4eb4-46cc-9103-fa13fd3b329c",
   "metadata": {},
   "source": [
    "### Lagrer filen"
   ]
  },
  {
   "cell_type": "code",
   "execution_count": null,
   "id": "8187eb41-8346-4c86-b8f7-5b010a33047b",
   "metadata": {},
   "outputs": [],
   "source": [
    "openxlsx::write.xlsx(delreg_offentlig_test,\n",
    "                     file = paste0(filsti_institusjonslister, aargang, \" Offentlige institusjoner spesialisthelsetjenesten (\", format(Sys.Date(), \"%d%m%y\"), \").xlsx\"),\n",
    "                     rowNames = FALSE,\n",
    "                     showNA = FALSE)"
   ]
  },
  {
   "cell_type": "markdown",
   "id": "e165d510-591a-4e7f-8055-6060661ff44b",
   "metadata": {},
   "source": [
    "### Private (med og uten oppdragsdokument)"
   ]
  },
  {
   "cell_type": "code",
   "execution_count": null,
   "id": "6cb61145-36ff-4754-a542-3549a5e5a500",
   "metadata": {},
   "outputs": [],
   "source": [
    "delreg_private <- delreg %>%\n",
    "  dplyr::filter(!ORGNR_FORETAK %in% unique(offentlig$ORGNR_FORETAK)) %>%\n",
    "  dplyr::left_join(oppdrag, by = \"ORGNR_FORETAK\") %>%\n",
    "  dplyr::mutate(Foretakstype = case_when(\n",
    "    ORGNR_FORETAK %in% unique(oppdrag$ORGNR_FORETAK) ~ \"Private med oppdragsdokument\", \n",
    "    TRUE ~ \"Private med kjøpsavtale\"))\n",
    "\n",
    "delreg_private_test <- delreg_private %>%\n",
    "  select(Foretakstype, Helseregion, RHF, ORGNR_FORETAK, H_VAR1_A, ORGNR, NYTT_NAVN,\n",
    "         SKJEMA_TYPE, SN07_1, SN07_1_navn, F_POSTNR, F_POSTSTED) %>%\n",
    "  dplyr::rename(Foretakstype = Foretakstype,\n",
    "                Helseregion = Helseregion,\n",
    "                Helseregion_navn = RHF,\n",
    "                Foretaksorgnr = ORGNR_FORETAK,\n",
    "                Rapporteringsnr = H_VAR1_A,\n",
    "                Bedriftsorgnr = ORGNR,\n",
    "                Institusjonsnavn = NYTT_NAVN,\n",
    "                Skjematype = SKJEMA_TYPE,\n",
    "                Næringskode = SN07_1,\n",
    "                Næringsnavn = SN07_1_navn,\n",
    "                Postnummer = F_POSTNR,\n",
    "                Poststed = F_POSTSTED)\n",
    "\n",
    "# Beholder kun enheter med rapporteringsnummer #\n",
    "delreg_private_test <- delreg_private_test %>%\n",
    "  dplyr::filter(!is.na(Rapporteringsnr))\n",
    "\n",
    "# Sjekker for dubletter i Institusjonsnavn (?) #\n",
    "delreg_private_test_duplikater <- delreg_private_test %>%\n",
    "  janitor::get_dupes(Institusjonsnavn)\n",
    "print(paste0(\"Dubletter finnes for: \", unique(delreg_private_test_duplikater$Institusjonsnavn)))\n",
    "\n",
    "# Sorterer etter helseregion #\n",
    "delreg_private_test <- delreg_private_test %>%\n",
    "  dplyr::arrange(Helseregion)"
   ]
  },
  {
   "cell_type": "markdown",
   "id": "3e0c74e1-c47c-466d-a491-6a44c7379c42",
   "metadata": {},
   "source": [
    "### Lagrer filen"
   ]
  },
  {
   "cell_type": "code",
   "execution_count": null,
   "id": "802b5aea-84c1-4ac1-94c0-04bef038be51",
   "metadata": {},
   "outputs": [],
   "source": [
    "openxlsx::write.xlsx(delreg_private_test,\n",
    "                     file = paste0(filsti_institusjonslister, aargang, \" Private institusjoner spesialisthelsetjenesten (\", format(Sys.Date(), \"%d%m%y\"), \").xlsx\"),\n",
    "                     rowNames = FALSE,\n",
    "                     showNA = FALSE)"
   ]
  }
 ],
 "metadata": {
  "kernelspec": {
   "display_name": "R",
   "language": "R",
   "name": "ir"
  },
  "language_info": {
   "codemirror_mode": "r",
   "file_extension": ".r",
   "mimetype": "text/x-r-source",
   "name": "R",
   "pygments_lexer": "r",
   "version": "4.1.3"
  }
 },
 "nbformat": 4,
 "nbformat_minor": 5
}
