{
 "cells": [
  {
   "cell_type": "markdown",
   "id": "8005d4b5-cbd2-4e43-97ed-e461406fec4c",
   "metadata": {},
   "source": [
    "#### Næringskoder knyttet til institusjonstype\n",
    "\n",
    "```sysskostra_2 <- sysskostra_2 %>%  dplyr::mutate(tjeneste = case_when(    virk_nace1_sn07 %in% c(\"86.101\", \"86.102\", \"86.103\", \"86.107\", \"86.212\", \"86.221\", \"86.904\", \"86.906\", \"86.909\") ~ \"SOMA\",    virk_nace1_sn07 %in% c(\"86.104\", \"86.223\") ~ \"PSYK_V\",    virk_nace1_sn07 %in% c(\"86.105\", \"86.224\") ~ \"PSYK_B\",    virk_nace1_sn07 %in% c(\"86.106\", \"86.225\") ~ \"RUSI\",    virk_nace1_sn07 == \"86.907\" ~ \"AMBU\",    TRUE ~ \"Resten\"))```"
   ]
  },
  {
   "cell_type": "markdown",
   "id": "aa5a09f6-65a0-4244-be89-9b929958e4a7",
   "metadata": {
    "toc-hr-collapsed": true
   },
   "source": [
    "# Setup"
   ]
  },
  {
   "cell_type": "markdown",
   "id": "f0841198-8f59-4864-8693-053607d71986",
   "metadata": {},
   "source": [
    "### Forfatter(e)\n",
    "1. Magne Furuholmen Myhren (høsten 2022). Basert på en rekke sas-filer, tidligere drop-lister og spesifikk kompetanse fra kollegaer"
   ]
  },
  {
   "cell_type": "markdown",
   "id": "a8d28ad6-5c81-4f84-bfe5-9312cb835d9b",
   "metadata": {},
   "source": [
    "## Velger årgang og delregister\n",
    "Legger også til filsti til rådata fra NPR og avtalsespesialister"
   ]
  },
  {
   "cell_type": "code",
   "execution_count": null,
   "id": "77afa894-7ed7-4959-a13d-28e43b9cb4ff",
   "metadata": {},
   "outputs": [],
   "source": [
    "aargang = 2022\n",
    "aar_for = aargang - 1 # året før\n"
   ]
  },
  {
   "cell_type": "markdown",
   "id": "ec969dde-04bc-42fe-abdb-27eeb705515f",
   "metadata": {},
   "source": [
    "## Importerer pakker og setter innstillinger"
   ]
  },
  {
   "cell_type": "code",
   "execution_count": null,
   "id": "9effaffe-2c8f-42fb-9990-d84ec28b1e25",
   "metadata": {},
   "outputs": [],
   "source": [
    "import numpy as np\n",
    "import pandas as pd\n",
    "import cx_Oracle\n",
    "import getpass\n",
    "import os\n",
    "import matplotlib.pyplot as plt\n",
    "import requests\n",
    "from pandas.io.json import json_normalize #package for flattening json in pandas df\n",
    "\n",
    "# Fjerner begrensning på antall rader og kolonner som vises av gangen\n",
    "pd.set_option(\"display.max_columns\", None)\n",
    "pd.set_option('display.max_rows', 300)\n",
    "pd.set_option('display.max_colwidth', None)\n",
    "\n",
    "# Unngå standardform i output\n",
    "pd.set_option('display.float_format', lambda x: '%.0f' % x)"
   ]
  },
  {
   "cell_type": "markdown",
   "id": "0330bebc-a0f8-4ebc-8d10-890060741596",
   "metadata": {},
   "source": [
    "## Tilgang oracle"
   ]
  },
  {
   "cell_type": "code",
   "execution_count": null,
   "id": "e8fa951f-66ee-42f5-a573-559d2834e57f",
   "metadata": {
    "tags": []
   },
   "outputs": [],
   "source": [
    "conn = cx_Oracle.connect(getpass.getuser()+\"/\"+getpass.getpass(prompt='Oracle-passord: ')+\"@DB1P\")"
   ]
  },
  {
   "cell_type": "markdown",
   "id": "72aec788-3930-421b-85bc-7ccf671f8b61",
   "metadata": {},
   "source": [
    "# Henter data"
   ]
  },
  {
   "cell_type": "markdown",
   "id": "ffc19a4f-417b-49dd-b291-c3bc6bd7b56c",
   "metadata": {
    "toc-hr-collapsed": true
   },
   "source": [
    "##  fra KLASS"
   ]
  },
  {
   "cell_type": "markdown",
   "id": "f2762ef3-f6ea-4406-bcaf-383b15ee8dd1",
   "metadata": {},
   "source": [
    "### Offentlige helseforetak"
   ]
  },
  {
   "cell_type": "code",
   "execution_count": null,
   "id": "2e7488fa-737f-4148-930c-f5c6b6875bab",
   "metadata": {},
   "outputs": [],
   "source": [
    "## Klass for å finne skjemanavn i dynarev\n",
    "# URL = f'http://data.ssb.no/api/klass/v1/classifications/610/codes.json?from={aargang}-01-01&includeFuture=True'\n",
    "# r = requests.get(url = URL)\n",
    "# skjemanavn_klass = pd.read_json(r.text)\n",
    "# skjemanavn_klass = pd.json_normalize(skjemanavn_klass['codes'])\n",
    "\n",
    "# skjemanavnSOM = skjemanavn_klass.query('level==\"2\" and parentCode == \"SOM\"')[['code','name', 'parentCode']]\n",
    "# skjemanavnSOM"
   ]
  },
  {
   "cell_type": "code",
   "execution_count": null,
   "id": "716d68d9-e80c-4f85-82e9-85260b4ab10a",
   "metadata": {},
   "outputs": [],
   "source": [
    "URL = f'http://data.ssb.no/api/klass/v1/classifications/603/codes.json?from={aargang}-01-01&includeFuture=True'\n",
    "r = requests.get(url = URL)\n",
    "offhelse_df = pd.read_json(r.text)\n",
    "offhelse_df = pd.json_normalize(offhelse_df['codes'])\n",
    "\n",
    "RHF_kode_klass = offhelse_df.query('level==\"1\"')[['code','name']]\n",
    "RHF_kode_klass = RHF_kode_klass.rename(columns = {'code':'HELSEREGION', 'name': 'RHF'})\n",
    "\n",
    "lvl2 = offhelse_df.query(\"level == '2'\")\n",
    "RHF_kode_klass = pd.merge(RHF_kode_klass, lvl2, how=\"left\", left_on=\"HELSEREGION\", right_on=\"parentCode\")\n",
    "RHF_kode_klass = RHF_kode_klass.rename(columns = {'code': 'ORGNR_FORETAK'})\n",
    "RHF_kode_klass = RHF_kode_klass[['HELSEREGION', 'RHF', 'ORGNR_FORETAK']]\n",
    "\n",
    "lvl2 = offhelse_df.query(\"level == '2'\")\n",
    "lvl3 = offhelse_df.query(\"level == '3'\")\n",
    "lvl2 = lvl2[['code', 'parentCode', 'name']]\n",
    "lvl3 = lvl3[['code', 'parentCode', 'name']]\n",
    "\n",
    "lvl2 = lvl2.rename(columns = {'parentCode':'HELSEREGION', 'name': 'RHF'})\n",
    "lvl3 = lvl3.rename(columns = {'code':'ORGNR_FORETAK', 'name': 'NAVN_KLASS'})"
   ]
  },
  {
   "cell_type": "code",
   "execution_count": null,
   "id": "03d777d3-4d03-4f75-abf0-d1741b3a925e",
   "metadata": {},
   "outputs": [],
   "source": [
    "HF = pd.merge(lvl3, lvl2, how=\"left\", left_on=\"parentCode\", right_on=\"code\")\n",
    "HF = HF[['ORGNR_FORETAK', 'NAVN_KLASS', 'HELSEREGION', 'RHF']]\n",
    "\n",
    "RHF_kode_klass['RHF'] = RHF_kode_klass['RHF'] + \" RHF\"\n",
    "RHF_kode_klass['NAVN_KLASS'] = RHF_kode_klass['RHF']"
   ]
  },
  {
   "cell_type": "code",
   "execution_count": null,
   "id": "fcd9b8f1-8163-4e26-85b0-79693ec33c8a",
   "metadata": {},
   "outputs": [],
   "source": [
    "rapporteringsenheter_uten_RHF = rapporteringsenheter.query('~NAVN_KLASS.str.endswith(\"RHF\")',engine=\"python\")"
   ]
  },
  {
   "cell_type": "code",
   "execution_count": null,
   "id": "f4cf47e4-2403-46c9-a730-9939808aa115",
   "metadata": {},
   "outputs": [],
   "source": [
    "r_orgnr = rapporteringsenheter_uten_RHF.ORGNR_FORETAK.to_numpy()"
   ]
  },
  {
   "cell_type": "code",
   "execution_count": null,
   "id": "c4c81078-3898-407f-8f20-1db2186d09d3",
   "metadata": {},
   "outputs": [],
   "source": [
    "def lag_sql_str(arr):\n",
    "    s = \"(\"\n",
    "    for nr in arr:\n",
    "        s += \"'\" + str(nr) + \"',\"\n",
    "    s = s[:-1] + \")\"\n",
    "    return s\n",
    "\n",
    "sql_str = lag_sql_str(r_orgnr)\n",
    "\n",
    "sporring_for = f\"\"\"\n",
    "    SELECT FORETAKS_NR, ORGNR, NAVN\n",
    "    FROM DSBBASE.SSB_FORETAK\n",
    "    WHERE STATUSKODE = 'B' AND ORGNR IN {sql_str}\n",
    "\"\"\"\n",
    "vof_for = pd.read_sql_query(sporring_for, conn)\n",
    "\n",
    "fornummer = pd.Series(vof_for['FORETAKS_NR']).array\n",
    "sql_str = lag_sql_str(fornummer)\n",
    "\n",
    "sporring_bed = f\"\"\"\n",
    "    SELECT FORETAKS_NR, ORGNR, NAVN, KARAKTERISTIKK, SN07_1, SB_TYPE\n",
    "    FROM DSBBASE.SSB_BEDRIFT\n",
    "    WHERE STATUSKODE = 'B' AND FORETAKS_NR IN {sql_str}\n",
    "\"\"\"\n",
    "vof_bdr = pd.read_sql_query(sporring_bed, conn)\n",
    "\n"
   ]
  },
  {
   "cell_type": "code",
   "execution_count": null,
   "id": "600e0e7b-3b33-4236-abf3-5cfb7ff962f2",
   "metadata": {},
   "outputs": [],
   "source": [
    "# Henter organisasjons- og foretaksnummer fra Virksomhets- og \n",
    "# foretaksregisteret (VoF) og samler disse i én tabell kalt vof\n",
    "\n",
    "vof_for = vof_for.rename(columns = {'NAVN':'NAVN_FORETAK'})\n",
    "vof_for = vof_for.rename(columns = {'ORGNR':'ORGNR_FORETAK'})\n",
    "\n",
    "vof_bdr = vof_bdr.rename(columns = {'ORGNR':'ORGNR_BEDRIFT'})\n",
    "vof_bdr['KARAKTERISTIKK'] = vof_bdr['KARAKTERISTIKK'].fillna(\"\")\n",
    "vof_bdr['NAVN_BEDRIFT'] = vof_bdr['NAVN'] + \" \" + vof_bdr['KARAKTERISTIKK']\n",
    "\n",
    "vof_bdr=vof_bdr.drop(columns=['NAVN', 'KARAKTERISTIKK'])\n",
    "\n",
    "vof = pd.merge(vof_bdr,vof_for, how='left', on='FORETAKS_NR')\n",
    "vof = vof.drop(columns=['FORETAKS_NR'])\n",
    "\n",
    "rapporteringsenheter['ORGNR_FORETAK'] = rapporteringsenheter['ORGNR_FORETAK'].apply(str)\n",
    "rapporteringsenheter_vof = pd.merge(vof,rapporteringsenheter, how='left', on='ORGNR_FORETAK')"
   ]
  },
  {
   "cell_type": "code",
   "execution_count": null,
   "id": "093818de-bc71-49f9-9e29-1fcbfb74cf7a",
   "metadata": {},
   "outputs": [],
   "source": [
    "rapporteringsenheter_vof.head(25)"
   ]
  },
  {
   "cell_type": "markdown",
   "id": "7aa1638a-ae9d-4f9a-ac2a-ebd19daf3b70",
   "metadata": {
    "toc-hr-collapsed": true
   },
   "source": [
    "### Private helseinstitusjoner med oppdrags- og bestillerdokument"
   ]
  },
  {
   "cell_type": "code",
   "execution_count": null,
   "id": "d723e0d4-95ef-4840-a245-095c738558a3",
   "metadata": {},
   "outputs": [],
   "source": [
    "URL = f'http://data.ssb.no/api/klass/v1/classifications/604/codes.json?from={aargang}-01-01&includeFuture=True'\n",
    "r = requests.get(url = URL)\n",
    "privhelse_df = pd.read_json(r.text)\n",
    "privhelse_df = pd.json_normalize(privhelse_df['codes'])\n",
    "\n",
    "temp = privhelse_df.query(\"level == '2'\")\n",
    "temp = temp[['code', 'parentCode', 'name']]\n",
    "temp = temp.rename(columns = {'code':'ORGNR_FORETAK','parentCode':'HELSEREGION', 'name': 'NAVN_KLASS'})\n",
    "temp = pd.merge(temp, RHF_kode_klass, how=\"left\")\n",
    "\n",
    "rapporteringsenheter = pd.concat([HF,temp])\n",
    "rapporteringsenheter = pd.concat([rapporteringsenheter,RHF_kode_klass])"
   ]
  },
  {
   "cell_type": "markdown",
   "id": "6e0fd7ad-139a-4780-bd8b-54c433916f6b",
   "metadata": {},
   "source": [
    "### Regionale og felleseide støtteforetak i spesialisthelsetjenesten"
   ]
  },
  {
   "cell_type": "code",
   "execution_count": null,
   "id": "49dcc6ed-7f07-477e-8334-a7070b05978f",
   "metadata": {},
   "outputs": [],
   "source": [
    "URL = f'http://data.ssb.no/api/klass/v1/classifications/605/codes.json?from={aargang}-01-01&includeFuture=True'\n",
    "r = requests.get(url = URL)\n",
    "regfel_df = pd.read_json(r.text)\n",
    "regfel_df = pd.json_normalize(regfel_df['codes'])\n",
    "\n",
    "lvl2o = regfel_df.query(\"level == '2' & parentCode != '99'\")\n",
    "lvl3o = regfel_df.query(\"level == '3'\")\n",
    "lvl2o = lvl2o[['code', 'parentCode', 'name']]\n",
    "lvl3o = lvl3o[['code', 'parentCode', 'name']]\n",
    "lvl2o = lvl2o.rename(columns = {'parentCode':'HELSEREGION',\n",
    "                                'name': 'RHF'})\n",
    "lvl3o = lvl3o.rename(columns = {'code': 'ORGNR_FORETAK',\n",
    "                                'name': 'NAVN_KLASS'})\n",
    "\n",
    "temp = pd.merge(lvl3o, lvl2o, how=\"left\", left_on=\"parentCode\", right_on=\"code\")\n",
    "temp = temp[['ORGNR_FORETAK', 'NAVN_KLASS', 'HELSEREGION', 'RHF']]\n",
    "\n",
    "rapporteringsenheter = pd.concat([rapporteringsenheter,temp])\n",
    "\n",
    "temp = regfel_df.query(\"level == '2' & parentCode == '99'\")\n",
    "temp = temp.rename(columns = {'code':'ORGNR_FORETAK', 'name': 'NAVN_KLASS', 'parentCode': 'HELSEREGION'})\n",
    "temp['RHF'] = \"FELLESEIDE STØTTEFORETAK\"\n",
    "temp = temp[['ORGNR_FORETAK', 'NAVN_KLASS', 'HELSEREGION', 'RHF']]"
   ]
  },
  {
   "cell_type": "code",
   "execution_count": null,
   "id": "eac72741-94c7-447a-bd36-5a7f357bac64",
   "metadata": {},
   "outputs": [],
   "source": [
    "rapporteringsenheter = pd.concat([rapporteringsenheter,temp])"
   ]
  },
  {
   "cell_type": "markdown",
   "id": "7e4143aa-161a-4b0a-b475-710230794eb6",
   "metadata": {},
   "source": [
    "### Limer sammen all data fra KLASS"
   ]
  },
  {
   "cell_type": "code",
   "execution_count": null,
   "id": "3366ddc6-dece-4a2e-83c7-ac2566690c60",
   "metadata": {},
   "outputs": [],
   "source": [
    "alle_foretak_virk = pd.concat([offhelse_df, privhelse_df, regfel_df])\n",
    "alle_foretak_virk = alle_foretak_virk[[\"code\", \"parentCode\", \"level\", \"name\"]]\n",
    "alle_foretak_virk.shape"
   ]
  },
  {
   "cell_type": "markdown",
   "id": "1be1c64a-817b-4945-8706-39c1669ab29b",
   "metadata": {
    "tags": []
   },
   "source": [
    "## Dynarev"
   ]
  },
  {
   "cell_type": "markdown",
   "id": "f6e6c7df-d1db-4f4a-a46f-9a6ecd635552",
   "metadata": {},
   "source": [
    "Henter skjemadata fra året før ```aargang``` for å finne antall døgnplasser i fjor."
   ]
  },
  {
   "cell_type": "code",
   "execution_count": null,
   "id": "1304df15-001a-4dc0-b5c2-e5623bdf78ad",
   "metadata": {
    "tags": []
   },
   "outputs": [],
   "source": [
    "sporring = f\"\"\"\n",
    "    SELECT *\n",
    "    FROM DSBBASE.DLR_ENHET_I_DELREG\n",
    "    WHERE DELREG_NR IN ('24{str(aargang)[-2:]}')\n",
    "\"\"\"\n",
    "SFU_data = pd.read_sql_query(sporring, conn)\n",
    "print(f\"Rader:    {SFU_data.shape[0]}\\nKolonner: {SFU_data.shape[1]}\")\n",
    "SFU_data.sample(5)\n",
    "\n",
    "# ENHETS_ID <-> IDENT_NR\n",
    "# (skjemadata)    (SFU_data)"
   ]
  },
  {
   "cell_type": "markdown",
   "id": "67c68dc6-18d4-4010-81fe-bf0be8a2c73a",
   "metadata": {},
   "source": [
    "```['DGN_DGN',\"D_HELD\", \"D_PLAS_T\", \"SEN_HT\"]```"
   ]
  },
  {
   "cell_type": "markdown",
   "id": "e8ae1428-0100-4cce-a81d-760a56feb1f3",
   "metadata": {},
   "source": [
    " ### SKJEMA38O\n",
    " "
   ]
  },
  {
   "cell_type": "code",
   "execution_count": null,
   "id": "38990f1b-62e9-4dd1-93b5-6d493ee96304",
   "metadata": {},
   "outputs": [],
   "source": [
    "sporring = f\"\"\"\n",
    "    SELECT *\n",
    "    FROM DYNAREV.VW_SKJEMA_DATA\n",
    "    WHERE DELREG_NR IN (24{str(aar_for)[-2:]}) AND SKJEMA IN ('HELSE38O') AND AKTIV = '1'\n",
    "\"\"\"\n",
    "skjemadata38O = pd.read_sql_query(sporring, conn)\n",
    "skjemadata38O = skjemadata38O[['SKJEMA','ENHETS_ID', 'FELT_ID', 'FELT_VERDI']]\n",
    "skjemadata38O = skjemadata38O.pivot(index=['ENHETS_ID','SKJEMA'], columns='FELT_ID', values='FELT_VERDI')\n"
   ]
  },
  {
   "cell_type": "markdown",
   "id": "7609906e-c262-490d-bcbe-e599e47dd130",
   "metadata": {},
   "source": [
    " ### SKJEMA38P\n",
    " "
   ]
  },
  {
   "cell_type": "code",
   "execution_count": null,
   "id": "26986f0e-8f1c-45ff-8810-6e62413fda91",
   "metadata": {},
   "outputs": [],
   "source": [
    "sporring = f\"\"\"\n",
    "    SELECT *\n",
    "    FROM DYNAREV.VW_SKJEMA_DATA\n",
    "    WHERE DELREG_NR IN ('24{str(aar_for)[-2:]}', '19377{str(aar_for)[-2:]}') AND SKJEMA IN ('HELSE38P') AND AKTIV = '1'\n",
    "\"\"\"\n",
    "skjemadata38P = pd.read_sql_query(sporring, conn)\n",
    "skjemadata38P = skjemadata38P[['SKJEMA','ENHETS_ID', 'FELT_ID', 'FELT_VERDI']]\n",
    "skjemadata38P = skjemadata38P.pivot(index=['ENHETS_ID','SKJEMA'], columns='FELT_ID', values='FELT_VERDI')\n"
   ]
  },
  {
   "cell_type": "markdown",
   "id": "2fdc24a6-a086-4906-97d2-b9303fab9e90",
   "metadata": {},
   "source": [
    " ### SKJEMA39\n",
    " "
   ]
  },
  {
   "cell_type": "code",
   "execution_count": null,
   "id": "7852b316-e19a-4ece-ae5f-f4e669298208",
   "metadata": {
    "tags": []
   },
   "outputs": [],
   "source": [
    "sporring = f\"\"\"\n",
    "    SELECT *\n",
    "    FROM DYNAREV.VW_SKJEMA_DATA\n",
    "    WHERE DELREG_NR IN ('24{str(aar_for)[-2:]}', '19377{str(aar_for)[-2:]}') AND SKJEMA IN ('HELSE39') AND AKTIV = '1'\n",
    "\"\"\"\n",
    "skjemadata39 = pd.read_sql_query(sporring, conn)\n",
    "skjemadata39 = skjemadata39[['SKJEMA','ENHETS_ID', 'FELT_ID', 'FELT_VERDI']]\n",
    "skjemadata39 = skjemadata39.pivot(index=['ENHETS_ID','SKJEMA'], columns='FELT_ID', values='FELT_VERDI')\n"
   ]
  },
  {
   "cell_type": "markdown",
   "id": "018eb3d4-0c71-4b68-a1e3-e2d3ef7e4320",
   "metadata": {},
   "source": [
    " ### SKJEMA40\n",
    " "
   ]
  },
  {
   "cell_type": "code",
   "execution_count": null,
   "id": "fe186d3c-bb86-429a-9bdf-9c9bc51af660",
   "metadata": {
    "tags": []
   },
   "outputs": [],
   "source": [
    "sporring = f\"\"\"\n",
    "    SELECT *\n",
    "    FROM DYNAREV.VW_SKJEMA_DATA\n",
    "    WHERE DELREG_NR IN ('24{str(aar_for)[-2:]}', '19377{str(aar_for)[-2:]}') AND SKJEMA IN ('HELSE40') AND AKTIV = '1'\n",
    "\"\"\"\n",
    "skjemadata40 = pd.read_sql_query(sporring, conn)\n",
    "skjemadata40 = skjemadata40[['SKJEMA','ENHETS_ID', 'FELT_ID', 'FELT_VERDI']]\n",
    "skjemadata40 = skjemadata40.pivot(index=['ENHETS_ID','SKJEMA'], columns='FELT_ID', values='FELT_VERDI')\n"
   ]
  },
  {
   "cell_type": "markdown",
   "id": "b45868ca-6699-4a01-8fbe-72f60aa81508",
   "metadata": {},
   "source": [
    " ### SKJEMA41\n",
    " "
   ]
  },
  {
   "cell_type": "code",
   "execution_count": null,
   "id": "fc575e75-25eb-48de-a093-dbc88e60b505",
   "metadata": {},
   "outputs": [],
   "source": [
    "sporring = f\"\"\"\n",
    "    SELECT *\n",
    "    FROM DYNAREV.VW_SKJEMA_DATA\n",
    "    WHERE DELREG_NR IN ('24{str(aar_for)[-2:]}', '19377{str(aar_for)[-2:]}') AND SKJEMA IN ('HELSE41') AND AKTIV = '1'\n",
    "\"\"\"\n",
    "skjemadata41 = pd.read_sql_query(sporring, conn)\n",
    "skjemadata41 = skjemadata41[['SKJEMA','ENHETS_ID', 'FELT_ID', 'FELT_VERDI']]\n",
    "skjemadata41 = skjemadata41.pivot(index=['ENHETS_ID','SKJEMA'], columns='FELT_ID', values='FELT_VERDI')"
   ]
  },
  {
   "cell_type": "markdown",
   "id": "3afbfda5-1090-4483-8444-1964154cdad0",
   "metadata": {},
   "source": [
    " ### SKJEMA44O\n",
    " "
   ]
  },
  {
   "cell_type": "code",
   "execution_count": null,
   "id": "3088ca21-baaf-4abc-bb50-e743c95de405",
   "metadata": {
    "tags": []
   },
   "outputs": [],
   "source": [
    "sporring = f\"\"\"\n",
    "    SELECT *\n",
    "    FROM DYNAREV.VW_SKJEMA_DATA\n",
    "    WHERE DELREG_NR IN ('24{str(aar_for)[-2:]}', '19377{str(aar_for)[-2:]}') AND SKJEMA IN ('HELSE44O') AND AKTIV = '1'\n",
    "\"\"\"\n",
    "skjemadata44O = pd.read_sql_query(sporring, conn)\n",
    "skjemadata44O = skjemadata44O[['SKJEMA','ENHETS_ID', 'FELT_ID', 'FELT_VERDI']]\n",
    "skjemadata44O = skjemadata44O.pivot(index=['ENHETS_ID','SKJEMA'], columns='FELT_ID', values='FELT_VERDI')\n"
   ]
  },
  {
   "cell_type": "markdown",
   "id": "9a815ded-d821-4257-be7c-8ff3baddecdd",
   "metadata": {},
   "source": [
    " ### SKJEMA44P\n",
    " "
   ]
  },
  {
   "cell_type": "code",
   "execution_count": null,
   "id": "0f14db26-626e-4347-8b07-da60209135dd",
   "metadata": {
    "tags": []
   },
   "outputs": [],
   "source": [
    "sporring = f\"\"\"\n",
    "    SELECT *\n",
    "    FROM DYNAREV.VW_SKJEMA_DATA\n",
    "    WHERE DELREG_NR IN ('24{str(aar_for)[-2:]}', '19377{str(aar_for)[-2:]}') AND SKJEMA IN ('HELSE44P') AND AKTIV = '1'\n",
    "\"\"\"\n",
    "skjemadata44P = pd.read_sql_query(sporring, conn)\n",
    "skjemadata44P = skjemadata44P[['SKJEMA','ENHETS_ID', 'FELT_ID', 'FELT_VERDI']]\n",
    "skjemadata44P = skjemadata44P.pivot(index=['ENHETS_ID','SKJEMA'], columns='FELT_ID', values='FELT_VERDI')\n"
   ]
  },
  {
   "cell_type": "markdown",
   "id": "318db693-ed2f-4c69-a150-39cb5ae1ac81",
   "metadata": {},
   "source": [
    " ### SKJEMA45O\n",
    " "
   ]
  },
  {
   "cell_type": "code",
   "execution_count": null,
   "id": "460e4375-7480-4592-b4e9-99fa228ac7d3",
   "metadata": {
    "tags": []
   },
   "outputs": [],
   "source": [
    "sporring = f\"\"\"\n",
    "    SELECT *\n",
    "    FROM DYNAREV.VW_SKJEMA_DATA\n",
    "    WHERE DELREG_NR IN ('24{str(aar_for)[-2:]}', '19377{str(aar_for)[-2:]}') AND SKJEMA IN ('HELSE45O') AND AKTIV = '1'\n",
    "\"\"\"\n",
    "skjemadata45O = pd.read_sql_query(sporring, conn)\n",
    "skjemadata45O = skjemadata45O[['SKJEMA','ENHETS_ID', 'FELT_ID', 'FELT_VERDI']]\n",
    "skjemadata45O = skjemadata45O.pivot(index=['ENHETS_ID','SKJEMA'], columns='FELT_ID', values='FELT_VERDI')\n"
   ]
  },
  {
   "cell_type": "markdown",
   "id": "b3af166e-483e-414e-98f5-ef824557ec31",
   "metadata": {},
   "source": [
    " ### SKJEMA45P\n",
    " "
   ]
  },
  {
   "cell_type": "code",
   "execution_count": null,
   "id": "763bf6e1-683c-4982-b4c7-fa95b3c3ddca",
   "metadata": {
    "tags": []
   },
   "outputs": [],
   "source": [
    "sporring = f\"\"\"\n",
    "    SELECT *\n",
    "    FROM DYNAREV.VW_SKJEMA_DATA\n",
    "    WHERE DELREG_NR IN ('24{str(aar_for)[-2:]}', '19377{str(aar_for)[-2:]}') AND SKJEMA IN ('HELSE45P') AND AKTIV = '1'\n",
    "\"\"\"\n",
    "skjemadata45P = pd.read_sql_query(sporring, conn)\n",
    "skjemadata45P = skjemadata45P[['SKJEMA','ENHETS_ID', 'FELT_ID', 'FELT_VERDI']]\n",
    "skjemadata45P = skjemadata45P.pivot(index=['ENHETS_ID','SKJEMA'], columns='FELT_ID', values='FELT_VERDI')\n"
   ]
  },
  {
   "cell_type": "markdown",
   "id": "f640bd7b-8656-432c-9e57-65c099d9dc84",
   "metadata": {},
   "source": [
    " ### NBNBNBNB! SKJEMA46O\n",
    " "
   ]
  },
  {
   "cell_type": "code",
   "execution_count": null,
   "id": "592317a3-f32a-4dbb-a002-a47db2206ee9",
   "metadata": {
    "tags": []
   },
   "outputs": [],
   "source": [
    "sporring = f\"\"\"\n",
    "    SELECT *\n",
    "    FROM DYNAREV.VW_SKJEMA_DATA\n",
    "    WHERE DELREG_NR IN ('24{str(aar_for)[-2:]}', '19377{str(aar_for)[-2:]}') AND SKJEMA IN ('46O') AND AKTIV = '1'\n",
    "\"\"\"\n",
    "skjemadata46O = pd.read_sql_query(sporring, conn)\n",
    "skjemadata46O = skjemadata46O[['SKJEMA','ENHETS_ID', 'FELT_ID', 'FELT_VERDI']]\n",
    "skjemadata46O = skjemadata46O.pivot(index=['ENHETS_ID','SKJEMA'], columns='FELT_ID', values='FELT_VERDI')\n"
   ]
  },
  {
   "cell_type": "markdown",
   "id": "af9e047e-1715-4c87-849b-a360b87d0467",
   "metadata": {},
   "source": [
    " ### SKJEMA46P\n",
    " "
   ]
  },
  {
   "cell_type": "code",
   "execution_count": null,
   "id": "1ed5edba-349d-45bf-b967-b87fe0a5e5fc",
   "metadata": {
    "tags": []
   },
   "outputs": [],
   "source": [
    "sporring = f\"\"\"\n",
    "    SELECT *\n",
    "    FROM DYNAREV.VW_SKJEMA_DATA\n",
    "    WHERE DELREG_NR IN ('24{str(aar_for)[-2:]}', '19377{str(aar_for)[-2:]}') AND SKJEMA IN ('46O') AND AKTIV = '1'\n",
    "\"\"\"\n",
    "skjemadata46P = pd.read_sql_query(sporring, conn)\n",
    "skjemadata46P = skjemadata46P[['SKJEMA','ENHETS_ID', 'FELT_ID', 'FELT_VERDI']]\n",
    "skjemadata46P = skjemadata46P.pivot(index=['ENHETS_ID','SKJEMA'], columns='FELT_ID', values='FELT_VERDI')\n"
   ]
  },
  {
   "cell_type": "markdown",
   "id": "180649fb-7727-4361-b753-c68972af51c4",
   "metadata": {},
   "source": [
    " ### SKJEMA47\n",
    " "
   ]
  },
  {
   "cell_type": "code",
   "execution_count": null,
   "id": "ae484429-5dee-4fcc-8015-845c7071ba66",
   "metadata": {
    "tags": []
   },
   "outputs": [],
   "source": [
    "sporring = f\"\"\"\n",
    "    SELECT *\n",
    "    FROM DYNAREV.VW_SKJEMA_DATA\n",
    "    WHERE DELREG_NR IN ('24{str(aar_for)[-2:]}', '19377{str(aar_for)[-2:]}') AND SKJEMA IN ('HELSE47') AND AKTIV = '1'\n",
    "\"\"\"\n",
    "skjemadata47 = pd.read_sql_query(sporring, conn)\n",
    "skjemadata47 = skjemadata47[['SKJEMA','ENHETS_ID', 'FELT_ID', 'FELT_VERDI']]\n",
    "skjemadata47 = skjemadata47.pivot(index=['ENHETS_ID','SKJEMA'], columns='FELT_ID', values='FELT_VERDI')\n"
   ]
  },
  {
   "cell_type": "markdown",
   "id": "0741bfd4-a8b3-4df4-ba8c-929a1b629f85",
   "metadata": {},
   "source": [
    " ### SKJEMA48"
   ]
  },
  {
   "cell_type": "code",
   "execution_count": null,
   "id": "a453b5d7-625d-46c6-a921-0842bd6f538a",
   "metadata": {
    "tags": []
   },
   "outputs": [],
   "source": [
    "sporring = f\"\"\"\n",
    "    SELECT *\n",
    "    FROM DYNAREV.VW_SKJEMA_DATA\n",
    "    WHERE DELREG_NR IN ('24{str(aar_for)[-2:]}', '19377{str(aar_for)[-2:]}') AND SKJEMA IN ('HELSE48') AND AKTIV = '1'\n",
    "\"\"\"\n",
    "skjemadata48 = pd.read_sql_query(sporring, conn)\n",
    "skjemadata48 = skjemadata48[['SKJEMA','ENHETS_ID', 'FELT_ID', 'FELT_VERDI']]\n",
    "skjemadata48 = skjemadata48.pivot(index=['ENHETS_ID','SKJEMA'], columns='FELT_ID', values='FELT_VERDI')\n"
   ]
  },
  {
   "cell_type": "markdown",
   "id": "bdea7842-854f-43a2-8eff-a4117af0a8f0",
   "metadata": {
    "tags": []
   },
   "source": [
    "# Sette sammen master-SFU-fil med all nødvendig informasjon"
   ]
  },
  {
   "cell_type": "markdown",
   "id": "c62f8208-be8e-4ffb-80a5-abec6569bef4",
   "metadata": {},
   "source": [
    "SFU: orgnummer, orgnummer_foretak, foretaksnavn, helseregionnavn, helseregionsnummer\n",
    "\"alle virksomhetene til speshelse ligger i 2421\"\n"
   ]
  },
  {
   "cell_type": "code",
   "execution_count": null,
   "id": "71c718b2-1cae-4b58-aa78-24a0a10e05d5",
   "metadata": {},
   "outputs": [],
   "source": [
    "SFU_dhs_klass = pd.merge(SFU_data, rapporteringsenheter, how=\"left\", on=\"ORGNR_FORETAK\")\n",
    "\n",
    "SFU_dhs_klass['HELSEREGION'] = SFU_dhs_klass['HELSEREGION'].fillna(\"06\")\n",
    "\n",
    "SFU_dhs_klass['SKJEMA_TYPE'] = SFU_dhs_klass['SKJEMA_TYPE'].apply(lambda x: str(x).split(\" \"))\n",
    "SFU_dhs_klass[['NAVN1', 'NAVN2', 'NAVN3', 'NAVN4', 'NAVN5']] = SFU_dhs_klass[['NAVN1', 'NAVN2', 'NAVN3', 'NAVN4', 'NAVN5']].fillna(\"\")"
   ]
  },
  {
   "cell_type": "code",
   "execution_count": null,
   "id": "3df117bb-a76e-468b-9dd2-51a14c62fb2a",
   "metadata": {},
   "outputs": [],
   "source": [
    "# Slår sammen alle navnekolonnene til en adskilt med ett mellomrom\n",
    "SFU_dhs_klass['NAVN'] = SFU_dhs_klass['NAVN1'] + \" \" +\\\n",
    "                        SFU_dhs_klass['NAVN2'] + \" \" +\\\n",
    "                        SFU_dhs_klass['NAVN3'] + \" \" +\\\n",
    "                        SFU_dhs_klass['NAVN4'] + \" \" +\\\n",
    "                        SFU_dhs_klass['NAVN5']\n",
    "SFU_dhs_klass['NAVN'] = SFU_dhs_klass['NAVN'].apply(lambda x: ' '.join(x.split()))"
   ]
  },
  {
   "cell_type": "markdown",
   "id": "d33f6d88-ff97-4f29-ba4e-444c9d242e94",
   "metadata": {},
   "source": [
    "# Lager droplister"
   ]
  },
  {
   "cell_type": "code",
   "execution_count": null,
   "id": "e25e0e95-80df-4574-b54e-153c5b662449",
   "metadata": {},
   "outputs": [],
   "source": [
    "skjemaer_til_droplister = [\"skj41\", \"skj0X\", \"skj0Y\", \"skj38O\", \"skj38P\", \"skj39\", \"skj40\",\n",
    "                           \"skj44O\", \"skj44P\", \"skj45O\", \"skj45P\", \"skj46O\",\n",
    "                           \"skj46P\", \"skj47\", \"skj48\"]\n",
    "\n",
    "# kolvis er spesielle kolonner som tas ut av en større tabell\n",
    "kolvis = ['NAVN1', \"NAVN\", \"ORGNR\", \"ORGNR_FORETAK\", \"HELSEREGION\", \"RHF\"]"
   ]
  },
  {
   "cell_type": "code",
   "execution_count": null,
   "id": "dad30537-149b-4edf-905a-c7bf5e3c4c92",
   "metadata": {},
   "outputs": [],
   "source": [
    "# nyttig funksjon som returnerer en tabell med alle rader som inneholder et gitt skjema\n",
    "# eks: \n",
    "# tabell_som_inneholder_skjema(SFU_dhs_klass, 'SKJEMA_TYPE', \"0X\")\n",
    "\n",
    "def tabell_som_inneholder_skjema(df, kol, skjemanavn):\n",
    "    ant = df.shape[0]\n",
    "    rader_med_skjemanavn = []\n",
    "    for i in range(ant):\n",
    "        if skjemanavn in df[kol].iloc[i]:\n",
    "            rader_med_skjemanavn.append(i)\n",
    "    return df.iloc[rader_med_skjemanavn]\n"
   ]
  },
  {
   "cell_type": "markdown",
   "id": "e6cce193-5c18-4742-8f88-ed18f1586381",
   "metadata": {},
   "source": [
    "## Brukere_skj41 (Private spesialister med driftsavtale)"
   ]
  },
  {
   "cell_type": "code",
   "execution_count": null,
   "id": "eb6d45f3-0739-47bf-9497-f309185c575d",
   "metadata": {},
   "outputs": [],
   "source": [
    "skj41 = RHF_kode_klass.copy()\n",
    "kolonner = [\"USERID\", \"REGION_NR\", \"REGION_NAVN\", \"FORETAK_ORGNR\", \"FORETAK_NAVN\"]\n",
    "\n",
    "skj41 = skj41.rename(columns = {'HELSEREGION': 'REGION_NR', 'RHF': 'REGION_NAVN', 'ORGNR_FORETAK': 'FORETAK_ORGNR'})\n",
    "skj41['USERID'] = skj41['FORETAK_ORGNR']\n",
    "skj41['FORETAK_NAVN'] = skj41['REGION_NAVN']\n",
    "skj41 = skj41[kolonner]"
   ]
  },
  {
   "cell_type": "markdown",
   "id": "a525e876-b61f-449f-8260-0e4b10cb7f6d",
   "metadata": {},
   "source": [
    "## 0X (Resultatregnskap for RHF og HF)"
   ]
  },
  {
   "cell_type": "code",
   "execution_count": null,
   "id": "c69bc06d-6cf6-4c02-87a6-767cae61418e",
   "metadata": {},
   "outputs": [],
   "source": [
    "# kolonner som skal være med i dropdownlisten:\n",
    "kolonner = [\"USERID\", \"REGION_NR\", \"REGION_NAVN\", \"FORETAK_ORGNR\", \"FORETAK_NAVN\"]\n",
    "\n",
    "skj0X = tabell_som_inneholder_skjema(SFU_dhs_klass, 'SKJEMA_TYPE', \"0X\")[kolvis]\n",
    "skj0X = skj0X.rename(columns = {'NAVN1':'FORETAK_NAVN', 'ORGNR':'USERID', 'HELSEREGION':'REGION_NR', 'RHF':'REGION_NAVN',})\n",
    "skj0X['FORETAK_ORGNR'] = skj0X['USERID']\n",
    "\n",
    "skj0X = skj0X[kolonner].sort_values('REGION_NR')"
   ]
  },
  {
   "cell_type": "markdown",
   "id": "45e01a7a-4063-47fd-80a3-0f514a624d61",
   "metadata": {},
   "source": [
    "## 0Y (Balanseregnskap for RHF og HF)"
   ]
  },
  {
   "cell_type": "code",
   "execution_count": null,
   "id": "1575e427-4360-465f-aaa8-9ae2e2c712af",
   "metadata": {},
   "outputs": [],
   "source": [
    "# kolonner som skal være med i dropdownlisten:\n",
    "kolonner = [\"USERID\", \"REGION_NR\", \"REGION_NAVN\", \"FORETAK_ORGNR\", \"FORETAK_NAVN\"]\n",
    "\n",
    "skj0Y = tabell_som_inneholder_skjema(SFU_dhs_klass, 'SKJEMA_TYPE', \"0Y\")[kolvis]\n",
    "skj0Y = skj0Y.rename(columns = {'NAVN1':'FORETAK_NAVN', 'ORGNR':'USERID', 'HELSEREGION':'REGION_NR', 'RHF':'REGION_NAVN',})\n",
    "skj0Y['FORETAK_ORGNR'] = skj0Y['USERID']\n",
    "\n",
    "skj0Y = skj0Y[kolonner].sort_values('REGION_NR')"
   ]
  },
  {
   "cell_type": "markdown",
   "id": "df5a578c-c102-4c93-a921-ce0eae0a8e77",
   "metadata": {
    "toc-hr-collapsed": true
   },
   "source": [
    "## skj38O (TSB for offentlige helseforetak)"
   ]
  },
  {
   "cell_type": "markdown",
   "id": "4f17738a-4809-4c4c-afca-0db9504bf7b3",
   "metadata": {},
   "source": [
    "Alle offentlige helseforetak foruten ```SUNNAAS```. Bruker ```HF```-tabellen laget i kapittel 2.1.1"
   ]
  },
  {
   "cell_type": "markdown",
   "id": "cb137144-00c9-4034-b476-8b08a0f24d51",
   "metadata": {},
   "source": [
    "OBS: Nye enheter 2022"
   ]
  },
  {
   "cell_type": "code",
   "execution_count": null,
   "id": "67dac2e2-78ae-4b3b-a81d-82ca6d282b79",
   "metadata": {
    "tags": []
   },
   "outputs": [],
   "source": [
    "# Henter døgnplasser fra foregående år\n",
    "d_plass_fjor = (skjemadata38O[['FORETAKETS_ORGNR','DGN_DGN']].reset_index().copy()\n",
    "                [['FORETAKETS_ORGNR','DGN_DGN']]\n",
    "                .rename(columns={'DGN_DGN': 'D_PLAS_FJOR'}))"
   ]
  },
  {
   "cell_type": "code",
   "execution_count": null,
   "id": "709df746-029b-4a6e-8b3d-0a14b77807ea",
   "metadata": {
    "tags": []
   },
   "outputs": [],
   "source": [
    "skj38O = HF.query('ORGNR_FORETAK != \"883971752\"').copy()                    # Tar ut SUNNAAS"
   ]
  },
  {
   "cell_type": "code",
   "execution_count": null,
   "id": "74fe62b3-4b40-4782-8e7f-c1d4249e93d6",
   "metadata": {},
   "outputs": [],
   "source": [
    "# Lager kolonneoverskrifter i tråd med tidligere .csv-filer:\n",
    "navn_virk = []\n",
    "orgnr_virk = []\n",
    "for i in range(1,21):\n",
    "    navn_virk.append(f'NAVN_VIRK{i}')\n",
    "    orgnr_virk.append(f'ORGNR_VIRK{i}')\n",
    "\n",
    "onskede_kolonner = [\"USERID\", \"HELSEREGION\", \"HELSEREGION_NAVN\", \"FORETAKETS_ORGNR\", \"FORETAKETS_NAVN\", \"D_PLAS_FJOR\"] + orgnr_virk + navn_virk"
   ]
  },
  {
   "cell_type": "markdown",
   "id": "dd181e85-9576-44e2-a269-34d95ec6e638",
   "metadata": {},
   "source": [
    "### Metode for å hente foretak fra skjema38O dynarevdata\n",
    "Forkastet fordi det er gammel data og det er bedre å bruke SFU og næringskode for å bestemme foretak som skal med"
   ]
  },
  {
   "cell_type": "code",
   "execution_count": null,
   "id": "452cc50f-1c19-42f1-b5be-7250f5baf45b",
   "metadata": {
    "tags": []
   },
   "outputs": [],
   "source": [
    "# # Slår sammen data: \n",
    "# skj38O_virksomheter = skjemadata38O[onskede_kolonner].reset_index()[onskede_kolonner]\n",
    "# skj38O = pd.merge(skj38O, d_plass_fjor, \n",
    "#                   left_on=\"ORGNR_FORETAK\", \n",
    "#                   right_on='FORETAKETS_ORGNR', \n",
    "#                   how=\"left\")\n",
    "# skj38O = pd.merge(skj38O, skj38O_virksomheter, \n",
    "#                   left_on=\"ORGNR_FORETAK\", right_on='FORETAKETS_ORGNR', \n",
    "#                   how=\"left\")"
   ]
  },
  {
   "cell_type": "code",
   "execution_count": null,
   "id": "0672e902-b23d-441b-8815-f909b6d51094",
   "metadata": {},
   "outputs": [],
   "source": [
    "# # Fikser riktig kolonnenavn og -rekkefølge\n",
    "# skj38O['USERID'] = skj38O['ORGNR_FORETAK']\n",
    "# skj38O = skj38O.rename(columns={\"RHF\":\"HELSEREGION_NAVN\", \n",
    "#                                 \"FORETAKETS_ORGNR_x\": \"FORETAKETS_ORGNR\", \n",
    "#                                 \"NAVN_KLASS\": \"FORETAKETS_NAVN\"})\n",
    "# skj38O = skj38O[['USERID', 'HELSEREGION', 'HELSEREGION_NAVN', \n",
    "#                  'FORETAKETS_ORGNR', 'FORETAKETS_NAVN', 'D_PLAS_FJOR']\n",
    "#                 + orgnr_virk + navn_virk]"
   ]
  },
  {
   "cell_type": "markdown",
   "id": "a19489e1-4b2c-4e28-abc8-56cc74a4b8d6",
   "metadata": {},
   "source": [
    "### Henter data fra SFU med næringskode (\"86.106\") og statuskode (\"B\")\n",
    "Næringskode i kolonne SN07_1"
   ]
  },
  {
   "cell_type": "code",
   "execution_count": null,
   "id": "f79b8f6b-83e1-4ac5-9612-4e7e0857de06",
   "metadata": {},
   "outputs": [],
   "source": [
    "skj38O['tmp_bool'] = True"
   ]
  },
  {
   "cell_type": "code",
   "execution_count": null,
   "id": "0fee4198-b0dd-432f-bc8b-c8395f4c50f3",
   "metadata": {},
   "outputs": [],
   "source": [
    "finne_virksomheter_df = pd.merge(SFU_dhs_klass, skj38O, how=\"left\", on=[\"ORGNR_FORETAK\", \"RHF\", \"NAVN_KLASS\", \"HELSEREGION\"])\n",
    "finne_virksomheter_df = finne_virksomheter_df.query('tmp_bool == True and SN07_1 == \"86.106\" and STATUS == \"B\"')"
   ]
  },
  {
   "cell_type": "code",
   "execution_count": null,
   "id": "75c7b111-f9eb-4d75-91c5-171c9d4b656c",
   "metadata": {
    "tags": []
   },
   "outputs": [],
   "source": [
    "finne_virksomheter_df = finne_virksomheter_df[['ORGNR','ORGNR_FORETAK','NAVN']]\n",
    "foretak_rader = finne_virksomheter_df.ORGNR_FORETAK.value_counts().index.to_numpy()\n",
    "\n",
    "foretak_org_df = -1\n",
    "for nr in foretak_rader:\n",
    "    orgnr_df = finne_virksomheter_df.query(f'ORGNR_FORETAK  == \"{nr}\"')['ORGNR']\n",
    "    navn_df = finne_virksomheter_df.query(f'ORGNR_FORETAK  == \"{nr}\"')['NAVN']\n",
    "\n",
    "    ant = orgnr_df.shape[0]\n",
    "    tom_df = pd.Series(np.nan, index=range(20-ant))\n",
    "    orgnr_df = pd.concat([orgnr_df, tom_df], axis=0)\n",
    "    orgnr_df.index = orgnr_virk\n",
    "\n",
    "    ant = navn_df.shape[0]\n",
    "    tom_df = pd.Series(np.nan, index=range(20-ant))\n",
    "    navn_df = pd.concat([navn_df, tom_df], axis=0)\n",
    "    navn_df.index = navn_virk\n",
    "\n",
    "    foretak_df = pd.concat([orgnr_df, navn_df], axis=0)\n",
    "    foretak_df['ORGNR_FORETAK'] = nr\n",
    "    \n",
    "    if type(foretak_org_df) == int:\n",
    "        foretak_org_df = foretak_df\n",
    "    else:\n",
    "        foretak_org_df = pd.concat([foretak_org_df, foretak_df], axis = 1)\n",
    "foretak_org_df = foretak_org_df.transpose()\n"
   ]
  },
  {
   "cell_type": "code",
   "execution_count": null,
   "id": "98f7b7bf-ff28-4840-ac8b-0de1e62289e5",
   "metadata": {},
   "outputs": [],
   "source": [
    "skj38O = pd.merge(skj38O, foretak_org_df, how=\"left\", on=\"ORGNR_FORETAK\")"
   ]
  },
  {
   "cell_type": "code",
   "execution_count": null,
   "id": "9c4394eb-e1ca-46d4-8587-35ec2a07fc50",
   "metadata": {},
   "outputs": [],
   "source": [
    "skj38O['USERID'] = skj38O['ORGNR_FORETAK']\n",
    "skj38O['USERID'] = skj38O['ORGNR_FORETAK']\n",
    "skj38O = skj38O.rename(columns={\"ORGNR_FORETAK\": \"FORETAKETS_ORGNR\",\n",
    "                                \"NAVN_KLASS\": \"FORETAKETS_NAVN\",\n",
    "                                \"RHF\": \"HELSEREGION_NAVN\"})"
   ]
  },
  {
   "cell_type": "code",
   "execution_count": null,
   "id": "310d5a6d-e262-4baa-a978-0861a0092fd2",
   "metadata": {
    "tags": []
   },
   "outputs": [],
   "source": [
    "skj38O = pd.merge(skj38O, d_plass_fjor, how=\"left\", on=\"FORETAKETS_ORGNR\")"
   ]
  },
  {
   "cell_type": "code",
   "execution_count": null,
   "id": "0ee5602d-cb4d-4e6d-916d-aac8a7021301",
   "metadata": {},
   "outputs": [],
   "source": [
    "skj38O = skj38O[onskede_kolonner]"
   ]
  },
  {
   "cell_type": "markdown",
   "id": "eef8bd99-802a-4470-a515-64142672c2b9",
   "metadata": {},
   "source": [
    "## skj38P (TSB for private helseforetak)"
   ]
  },
  {
   "cell_type": "markdown",
   "id": "6ba6904a-0073-4bff-90aa-8f8146239d4b",
   "metadata": {},
   "source": [
    "Henter inn alle rader i SFU som har skjematype 381. Variabelen ```H_VAR1_A```  sier hvilket orgnummer foretaket rapporterer til. Koden under bruker denne til å variabelen til å plassere rapporteringsenhetene først, og alle deres underinstitusjoner i variabelen ```INSTLIST```. \n",
    "\n",
    "For at filen skal ha riktig format, skal det tilsammen være 13 institusjoner per foretak i ```INSTLIST```. Fyller automatisk ut linjeskift ```\\n``` slik at antallet blir 13."
   ]
  },
  {
   "cell_type": "code",
   "execution_count": null,
   "id": "16d20ce5-5f4e-4b51-abda-e023ca1acbd6",
   "metadata": {},
   "outputs": [],
   "source": [
    "# kolonner som skal være med i dropdownlisten:\n",
    "kolonner = ['USERID',\n",
    "            'REGION_NR',\n",
    "            'REGION_NAVN',\n",
    "            'FORETAK_ORGNR',\n",
    "            'FORETAK_NAVN',\n",
    "            'FINST_ORGNR',\n",
    "            'FINST_NAVN',\n",
    "            'INSTLIST']\n",
    "\n",
    "# Kolonner med hjelpevariabler\n",
    "hvar_kolonner = [\"H_VAR1_N\",\"H_VAR2_N\",\"H_VAR3_N\",\"H_VAR1_A\",\"H_VAR2_A\",\"H_VAR3_A\"]\n",
    "\n",
    "skj38P = tabell_som_inneholder_skjema(SFU_dhs_klass, 'SKJEMA_TYPE', \"381\").copy()\n",
    "skj38P = skj38P.rename(columns = {\"ORGNR_FORETAK\": \"FORETAK_ORGNR\",\n",
    "                                   \"NAVN\": \"FINST_NAVN\",\n",
    "                                   'ORGNR':'FINST_ORGNR',\n",
    "                                   'HELSEREGION':'REGION_NR',\n",
    "                                   'RHF':'REGION_NAVN'})\n",
    "\n",
    "# USERID er alltid foretaksnummer\n",
    "skj38P['USERID'] = skj38P['FORETAK_ORGNR']\n",
    "\n",
    "# Lager omrisset av endelig tabell ved å plukke ut relevante kolonner\n",
    "skj38P = skj38P[[\"USERID\", \"REGION_NR\", \"REGION_NAVN\", \"FORETAK_ORGNR\", \"FINST_NAVN\", \"NAVN1\", \"NAVN2\",\"NAVN3\",\"NAVN4\",\"FINST_ORGNR\"] +\n",
    "                hvar_kolonner +\n",
    "                [\"SN07_1\", \"SN07_2\", \"SN07_3\"]]\n"
   ]
  },
  {
   "cell_type": "code",
   "execution_count": null,
   "id": "e04ffe50-8d42-4885-b7a2-4a11cc5d9668",
   "metadata": {},
   "outputs": [],
   "source": [
    "# Importerer riktig regionnummer fra KLASS og gir foretak som ikke er offentlige betegnelsen \"PRIVATE INSTITUSJONER\"\n",
    "skj38P = pd.merge(skj38P, RHF_kode_klass[[\"HELSEREGION\", \"RHF\"]], how=\"left\" , left_on=\"REGION_NR\", right_on=\"HELSEREGION\")\n",
    "\n",
    "skj38P['REGION_NAVN'] = skj38P['RHF']\n",
    "skj38P.REGION_NAVN = skj38P.REGION_NAVN.fillna(\"PRIVATE INSTITUSJONER\")"
   ]
  },
  {
   "cell_type": "code",
   "execution_count": null,
   "id": "93f8958d-5951-4aff-b06a-71e504d8b0a3",
   "metadata": {},
   "outputs": [],
   "source": [
    "# Henter foretaksnavn til virksomhetene fra SFU\n",
    "foretaksnr38p = skj38P.FORETAK_ORGNR.unique()\n",
    "foretaksnr38p = pd.DataFrame(foretaksnr38p)\n",
    "foretaksnr38p.columns = [\"ORGNR_FORETAK\"]\n",
    "\n",
    "finn_foretaksnavn = pd.merge(foretaksnr38p, SFU_dhs_klass[[\"ORGNR\", \"NAVN\"]], how=\"left\", left_on=\"ORGNR_FORETAK\", right_on=\"ORGNR\")\n",
    "finn_foretaksnavn = finn_foretaksnavn[[\"ORGNR_FORETAK\", \"NAVN\"]]\n",
    "finn_foretaksnavn = finn_foretaksnavn.rename(columns={\"NAVN\": \"FORETAK_NAVN\", \n",
    "                                                      \"ORGNR_FORETAK\": \"FORETAK_ORGNR\"})\n",
    "\n",
    "skj38P = pd.merge(skj38P, finn_foretaksnavn, how=\"left\", on=\"FORETAK_ORGNR\")"
   ]
  },
  {
   "cell_type": "code",
   "execution_count": null,
   "id": "24019598-ac38-472c-acbe-0f1a05830ee1",
   "metadata": {},
   "outputs": [],
   "source": [
    "skj38P = skj38P[[\"USERID\", \"REGION_NR\", \"REGION_NAVN\", \"FORETAK_ORGNR\", \"FORETAK_NAVN\", \"FINST_NAVN\",\"FINST_ORGNR\"] +\n",
    "                ['H_VAR1_A'] +\n",
    "                [\"SN07_1\"]]"
   ]
  },
  {
   "cell_type": "code",
   "execution_count": null,
   "id": "a853dd5d-4843-48f0-abd9-3c5ddb5c3086",
   "metadata": {},
   "outputs": [],
   "source": [
    "# lager kolonnen INSTLIST med riktig antall \\n for at det skal passe med skjema. \n",
    "# Passer på at rapporteringsenhet kommer først i listen. (Enhet som har H_VAR1_A lik orgnummer)\n",
    "\n",
    "finst_orgnr38p = pd.DataFrame(skj38P['FINST_ORGNR'])\n",
    "\n",
    "df_til_instlist1 = pd.merge(SFU_dhs_klass, finst_orgnr38p, left_on=\"H_VAR1_A\", right_on=\"FINST_ORGNR\")\n",
    "df_til_instlist1['rapporterer_til_annen_virksomhet'] = (df_til_instlist1.ORGNR != df_til_instlist1.H_VAR1_A)\n",
    "df_til_instlist1 = df_til_instlist1[['NAVN', 'ORGNR', \"FINST_ORGNR\", 'rapporterer_til_annen_virksomhet']]\n",
    "df_til_instlist1['orgnr_navn'] = df_til_instlist1['ORGNR'] + \" - \" + df_til_instlist1['NAVN']\n",
    "\n",
    "df_til_instlist2 = df_til_instlist1.query('~rapporterer_til_annen_virksomhet')[['ORGNR', 'orgnr_navn']]\n",
    "df_til_instlist3 = df_til_instlist1.query('rapporterer_til_annen_virksomhet')[[\"FINST_ORGNR\", 'orgnr_navn']]\n"
   ]
  },
  {
   "cell_type": "code",
   "execution_count": null,
   "id": "31e71e00-06d6-4aab-8d3b-bca1271d6d11",
   "metadata": {},
   "outputs": [],
   "source": [
    "# mellomsteg for å legge institusjonene horisontalt ved siden av rapporteringsnummeret\n",
    "# itererer over alle unike rapporteringsnummer\n",
    "tmpdf = -1\n",
    "for finst_orgnr in df_til_instlist2.ORGNR.unique():\n",
    "    instliste = \"\\\\n\".join(df_til_instlist3.query(f'FINST_ORGNR==\"{finst_orgnr}\"').orgnr_navn)\n",
    "    if len(instliste) > 0:\n",
    "        if type(tmpdf) == int:\n",
    "            tmpdf = pd.DataFrame([finst_orgnr, instliste])\n",
    "        else:\n",
    "            nytt_tillegg = pd.DataFrame([finst_orgnr, instliste])\n",
    "            tmpdf = pd.concat([tmpdf, nytt_tillegg], axis=1)\n",
    "\n",
    "tmpdf = tmpdf.transpose()\n",
    "tmpdf.columns = ['FINST_ORGNR', 'INSTLISTE_HALE']"
   ]
  },
  {
   "cell_type": "code",
   "execution_count": null,
   "id": "80746987-8e6c-4bac-ac15-ce601735662c",
   "metadata": {},
   "outputs": [],
   "source": [
    "df_til_instlist2 = df_til_instlist2.rename(columns={'ORGNR': 'FINST_ORGNR'})"
   ]
  },
  {
   "cell_type": "code",
   "execution_count": null,
   "id": "5a3b0e49-8514-4eef-9fad-f36492ee0cf2",
   "metadata": {
    "tags": []
   },
   "outputs": [],
   "source": [
    "skj38P = pd.merge(skj38P, df_til_instlist2, how=\"left\", on=\"FINST_ORGNR\")\n",
    "skj38P = pd.merge(skj38P, tmpdf, how=\"left\", on=\"FINST_ORGNR\")\n",
    "skj38P['INSTLISTE_HALE'] = skj38P['INSTLISTE_HALE'].fillna(\"\\\\n\\\\n\\\\n\\\\n\\\\n\\\\n\\\\n\\\\n\\\\n\\\\n\\\\n\")\n",
    "skj38P['antall_n_mangler'] = skj38P['INSTLISTE_HALE'].apply(lambda x: 11-x.count(\"\\\\n\"))\n",
    "skj38P['INSTLIST'] = skj38P.apply(lambda x: x.orgnr_navn + \\\n",
    "                                            \"\\\\n\" + \\\n",
    "                                            x.INSTLISTE_HALE + \\\n",
    "                                            x.antall_n_mangler * (\"\\\\n\"),\n",
    "                                  axis=1)"
   ]
  },
  {
   "cell_type": "markdown",
   "id": "57bc5101-fcec-4cb8-a5fa-6e64b6aa4b23",
   "metadata": {
    "tags": []
   },
   "source": [
    "## skj39 (Resultatregnskap for private helseforetak)"
   ]
  },
  {
   "cell_type": "markdown",
   "id": "7b26f668-dd63-44a8-ad27-1e45cb73c215",
   "metadata": {},
   "source": [
    "Lages på nesten samme måte som skjema 38P, med unntak av at man henter ut SKJEMA_TYPE 39 fra SFU og legger til kolonnen ```INSTTYPE``` med institusjonstype hentet fra hjelpevariabelen ```SN07_1```."
   ]
  },
  {
   "cell_type": "code",
   "execution_count": null,
   "id": "920af383-8a3b-4e1d-9fa1-b32a68280aaf",
   "metadata": {},
   "outputs": [],
   "source": [
    "# kolonner som skal være med i dropdownlisten:\n",
    "kolonner = ['USERID',\n",
    "            'REGION_NR',\n",
    "            'REGION_NAVN',\n",
    "            'FORETAK_ORGNR',\n",
    "            'FORETAK_NAVN',\n",
    "            'FINST_ORGNR',\n",
    "            'FINST_NAVN',\n",
    "            'INSTTYPE',\n",
    "            'INSTLIST']\n",
    "\n",
    "skj39 = tabell_som_inneholder_skjema(SFU_dhs_klass, 'SKJEMA_TYPE', \"39\").copy()\n",
    "skj39 = skj39.rename(columns = {\"ORGNR_FORETAK\": \"FORETAK_ORGNR\",\n",
    "                                   \"NAVN\": \"FINST_NAVN\",\n",
    "                                   'ORGNR':'FINST_ORGNR',\n",
    "                                   'HELSEREGION':'REGION_NR',\n",
    "                                   'RHF':'REGION_NAVN'})\n",
    "\n",
    "# USERID er alltid foretaksnummer\n",
    "skj39['USERID'] = skj39['FORETAK_ORGNR']\n",
    "\n",
    "# Lager omrisset av endelig tabell ved å plukke ut relevante kolonner\n",
    "skj39 = skj39[[\"USERID\", \"REGION_NR\", \"REGION_NAVN\", \"FORETAK_ORGNR\", \"FINST_NAVN\", \"NAVN1\", \"NAVN2\",\"NAVN3\",\"NAVN4\",\"FINST_ORGNR\"] +\n",
    "                hvar_kolonner +\n",
    "                [\"SN07_1\", \"SN07_2\", \"SN07_3\"]]\n"
   ]
  },
  {
   "cell_type": "code",
   "execution_count": null,
   "id": "3d3f27d6-161d-4437-9be2-73028ab1b884",
   "metadata": {},
   "outputs": [],
   "source": [
    "# Importerer riktig regionnummer fra KLASS og gir foretak som ikke er offentlige betegnelsen \"PRIVATE INSTITUSJONER\"\n",
    "skj39 = pd.merge(skj39, RHF_kode_klass[[\"HELSEREGION\", \"RHF\"]], how=\"left\" , left_on=\"REGION_NR\", right_on=\"HELSEREGION\")\n",
    "\n",
    "skj39['REGION_NAVN'] = skj39['RHF']\n",
    "skj39.REGION_NAVN = skj39.REGION_NAVN.fillna(\"PRIVATE INSTITUSJONER\")"
   ]
  },
  {
   "cell_type": "code",
   "execution_count": null,
   "id": "e343900e-e208-4f22-8ac7-87f2ff26c12b",
   "metadata": {},
   "outputs": [],
   "source": [
    "# Henter foretaksnavn til virksomhetene fra SFU\n",
    "foretaksnr39 = skj39.FORETAK_ORGNR.unique()\n",
    "foretaksnr39 = pd.DataFrame(foretaksnr39)\n",
    "foretaksnr39.columns = [\"ORGNR_FORETAK\"]\n",
    "\n",
    "finn_foretaksnavn = pd.merge(foretaksnr39, SFU_dhs_klass[[\"ORGNR\", \"NAVN\"]], how=\"left\", left_on=\"ORGNR_FORETAK\", right_on=\"ORGNR\")\n",
    "finn_foretaksnavn = finn_foretaksnavn[[\"ORGNR_FORETAK\", \"NAVN\"]]\n",
    "finn_foretaksnavn = finn_foretaksnavn.rename(columns={\"NAVN\": \"FORETAK_NAVN\", \n",
    "                                                      \"ORGNR_FORETAK\": \"FORETAK_ORGNR\"})\n",
    "\n",
    "skj39 = pd.merge(skj39, finn_foretaksnavn, how=\"left\", on=\"FORETAK_ORGNR\")"
   ]
  },
  {
   "cell_type": "code",
   "execution_count": null,
   "id": "e202f49e-20e0-4ab6-b41e-e8b08e392692",
   "metadata": {},
   "outputs": [],
   "source": [
    "skj39 = skj39[[\"USERID\", \"REGION_NR\", \"REGION_NAVN\", \"FORETAK_ORGNR\", \"FORETAK_NAVN\", \"FINST_NAVN\",\"FINST_ORGNR\"] +\n",
    "                ['H_VAR2_N'] +\n",
    "                [\"SN07_1\"]]\n"
   ]
  },
  {
   "cell_type": "code",
   "execution_count": null,
   "id": "048b8b4b-2079-4772-8402-0529e36ee051",
   "metadata": {},
   "outputs": [],
   "source": [
    "# lager kolonnen INSTLIST med riktig antall \\n for at det skal passe med skjema. \n",
    "# Passer på at rapporteringsenhet kommer først i listen. (Enhet med H_VAR1_A lik orgnummer)\n",
    "\n",
    "finst_orgnr39 = pd.DataFrame(skj39['FINST_ORGNR'])\n",
    "\n",
    "df_til_instlist1 = pd.merge(SFU_dhs_klass, finst_orgnr39, left_on=\"H_VAR1_A\", right_on=\"FINST_ORGNR\")\n",
    "df_til_instlist1['rapporterer_til_annen_virksomhet'] = (df_til_instlist1.ORGNR != df_til_instlist1.H_VAR1_A)\n",
    "df_til_instlist1 = df_til_instlist1[['NAVN', 'ORGNR', \"FINST_ORGNR\", 'rapporterer_til_annen_virksomhet']]\n",
    "df_til_instlist1['orgnr_navn'] = df_til_instlist1['ORGNR'] + \" - \" + df_til_instlist1['NAVN']\n",
    "\n",
    "df_til_instlist2 = df_til_instlist1.query('~rapporterer_til_annen_virksomhet')[['ORGNR', 'orgnr_navn']]\n",
    "df_til_instlist3 = df_til_instlist1.query('rapporterer_til_annen_virksomhet')[[\"FINST_ORGNR\", 'orgnr_navn']]\n"
   ]
  },
  {
   "cell_type": "code",
   "execution_count": null,
   "id": "59aeb0f4-90a0-4ff1-95c2-3515558ab158",
   "metadata": {},
   "outputs": [],
   "source": [
    "# mellomsteg for å legge institusjonene horisontalt ved siden av rapporteringsnummeret\n",
    "tmpdf = -1\n",
    "for finst_orgnr in df_til_instlist2.ORGNR.unique():\n",
    "    instliste = \"\\\\n\".join(df_til_instlist3.query(f'FINST_ORGNR==\"{finst_orgnr}\"').orgnr_navn)\n",
    "    if len(instliste) > 0:\n",
    "        if type(tmpdf) == int:\n",
    "            tmpdf = pd.DataFrame([finst_orgnr, instliste])\n",
    "        else:\n",
    "            nytt_tillegg = pd.DataFrame([finst_orgnr, instliste])\n",
    "            tmpdf = pd.concat([tmpdf, nytt_tillegg], axis=1)\n",
    "\n",
    "tmpdf = tmpdf.transpose()\n",
    "tmpdf.columns = ['FINST_ORGNR', 'INSTLISTE_HALE']"
   ]
  },
  {
   "cell_type": "code",
   "execution_count": null,
   "id": "ab3bbd67-806d-4844-9fa0-81d62b4d8b2b",
   "metadata": {},
   "outputs": [],
   "source": [
    "df_til_instlist2 = df_til_instlist2.rename(columns={'ORGNR': 'FINST_ORGNR'})"
   ]
  },
  {
   "cell_type": "code",
   "execution_count": null,
   "id": "2d54f9ba-0b6e-4c69-9a5b-386a5748207c",
   "metadata": {
    "tags": []
   },
   "outputs": [],
   "source": [
    "skj39 = pd.merge(skj39, df_til_instlist2, how=\"left\", on=\"FINST_ORGNR\")\n",
    "skj39 = pd.merge(skj39, tmpdf, how=\"left\", on=\"FINST_ORGNR\")\n",
    "skj39['INSTLISTE_HALE'] = skj39['INSTLISTE_HALE'].fillna(\"\\\\n\\\\n\\\\n\\\\n\\\\n\\\\n\\\\n\\\\n\\\\n\\\\n\\\\n\")\n",
    "skj39['antall_n_mangler'] = skj39['INSTLISTE_HALE'].apply(lambda x: 11-x.count(\"\\\\n\"))\n",
    "skj39['INSTLIST'] = skj39.apply(lambda x: x.orgnr_navn + \\\n",
    "                                            \"\\\\n\" + \\\n",
    "                                            x.INSTLISTE_HALE + \\\n",
    "                                            x.antall_n_mangler * (\"\\\\n\"),\n",
    "                                  axis=1)"
   ]
  },
  {
   "cell_type": "code",
   "execution_count": null,
   "id": "8906044b-1d9c-4484-bd5f-bcbd90faa527",
   "metadata": {},
   "outputs": [],
   "source": [
    "institusjonstype = {\n",
    "    451: 'Psykisk helsevern for barn og unge',\n",
    "    461: 'Somatiske sykehus',\n",
    "    381: 'Rusmiddelinstitusjoner',\n",
    "    441: 'Psykisk helsevern for voksne',\n",
    "    47:  'Somatiske rehab.-og opptr.inst.'\n",
    "}\n",
    "\n",
    "skj39 = skj39.rename(columns={'H_VAR2_N': 'INSTTYPE'})\n",
    "skj39['INSTTYPE'] = skj39['INSTTYPE'].map(institusjonstype)"
   ]
  },
  {
   "cell_type": "code",
   "execution_count": null,
   "id": "10f12cb0-c63c-481c-a2fd-deaa8411bade",
   "metadata": {},
   "outputs": [],
   "source": [
    "# Tar kun vare på de kolonnene jeg spesifiserte i begynnelsen \n",
    "skj39 = skj39[kolonner]\n"
   ]
  },
  {
   "cell_type": "markdown",
   "id": "8eaa25d9-3008-40de-8ee2-a7958c5d2cb9",
   "metadata": {},
   "source": [
    "## skj40 (Kontantstrømoppstilling)"
   ]
  },
  {
   "cell_type": "code",
   "execution_count": null,
   "id": "3bcba532-35b9-426f-a682-ed1dffb6af01",
   "metadata": {},
   "outputs": [],
   "source": [
    "# kolonner som skal være med i dropdownlisten:\n",
    "kolonner = [\"USERID\", \"REGION_NR\", \"REGION_NAVN\", \"FORETAK_ORGNR\", \"FORETAK_NAVN\"]\n",
    "\n",
    "skj40 = tabell_som_inneholder_skjema(SFU_dhs_klass, 'SKJEMA_TYPE', \"0Y\")[kolvis]\n",
    "skj40 = skj40.rename(columns = {'NAVN1':'FORETAK_NAVN', 'ORGNR':'USERID', 'HELSEREGION':'REGION_NR', 'RHF':'REGION_NAVN',})\n",
    "skj40['FORETAK_ORGNR'] = skj40['USERID']\n",
    "\n",
    "skj40 = skj40[kolonner].sort_values('REGION_NR')"
   ]
  },
  {
   "cell_type": "markdown",
   "id": "7e67c4c4-0add-483f-aa2e-4862eec73f0d",
   "metadata": {},
   "source": [
    "## skj44O (Psykisk helsevern for voksne PHFV)"
   ]
  },
  {
   "cell_type": "markdown",
   "id": "883bf377-2019-4328-b49c-581b22973f23",
   "metadata": {},
   "source": [
    "OBS: Nye enheter 2022"
   ]
  },
  {
   "cell_type": "markdown",
   "id": "472cee34-a35a-470c-851a-ba00cebf74d4",
   "metadata": {},
   "source": [
    "Alle offentlige helseforetak foruten ```SUNNAAS```. Bruker ```HF```-tabellen laget i kapittel 2.1.1"
   ]
  },
  {
   "cell_type": "code",
   "execution_count": null,
   "id": "5f2fd919-155f-4224-8aa3-16364acdce15",
   "metadata": {
    "tags": []
   },
   "outputs": [],
   "source": [
    "# Henter døgnplasser fra foregående år\n",
    "d_plass_fjor = (skjemadata44O[['FORETAKETS_ORGNR','D_PLAS_T']].reset_index().copy()\n",
    "                [['FORETAKETS_ORGNR','D_PLAS_T']]\n",
    "                .rename(columns={'D_PLAS_T': 'D_PLAS_FJOR'}))"
   ]
  },
  {
   "cell_type": "code",
   "execution_count": null,
   "id": "c794a6fb-acbf-4088-bbba-1dde87428ac7",
   "metadata": {
    "tags": []
   },
   "outputs": [],
   "source": [
    "skj44O = HF.query('ORGNR_FORETAK != \"883971752\"').copy()                    # Tar ut SUNNAAS"
   ]
  },
  {
   "cell_type": "code",
   "execution_count": null,
   "id": "f95bcd7d-5275-40ca-b71b-e0aed4a648f1",
   "metadata": {},
   "outputs": [],
   "source": [
    "# Lager kolonneoverskrifter i tråd med tidligere .csv-filer:\n",
    "navn_virk = []\n",
    "orgnr_virk = []\n",
    "for i in range(1,21):\n",
    "    navn_virk.append(f'NAVN_VIRK{i}')\n",
    "    orgnr_virk.append(f'ORGNR_VIRK{i}')\n",
    "\n",
    "onskede_kolonner = [\"USERID\", \"HELSEREGION\", \"HELSEREGION_NAVN\", \"FORETAKETS_ORGNR\", \"FORETAKETS_NAVN\", \"D_PLAS_FJOR\"] + orgnr_virk + navn_virk"
   ]
  },
  {
   "cell_type": "markdown",
   "id": "61e62de3-5e14-49dc-b235-ccb315bda2dc",
   "metadata": {},
   "source": [
    "Henter data fra SFU med næringskode (\"86.104\") og statuskode (\"B\"). Finner næringskoden i kolonne ```SN07_1```"
   ]
  },
  {
   "cell_type": "code",
   "execution_count": null,
   "id": "38cfcf6b-3db0-4af5-b32e-16d8814410d7",
   "metadata": {},
   "outputs": [],
   "source": [
    "skj44O['tmp_bool'] = True"
   ]
  },
  {
   "cell_type": "code",
   "execution_count": null,
   "id": "62ce6574-c41b-4557-86f7-2f5d4bbf5bec",
   "metadata": {},
   "outputs": [],
   "source": [
    "finne_virksomheter_df = pd.merge(SFU_dhs_klass, skj44O, how=\"left\", on=[\"ORGNR_FORETAK\", \"RHF\", \"NAVN_KLASS\", \"HELSEREGION\"])\n",
    "finne_virksomheter_df = finne_virksomheter_df.query('tmp_bool == True and SN07_1 == \"86.104\" and STATUS == \"B\"')"
   ]
  },
  {
   "cell_type": "code",
   "execution_count": null,
   "id": "4ed6a5ba-c430-42a4-89ce-9b0df21464f9",
   "metadata": {
    "tags": []
   },
   "outputs": [],
   "source": [
    "finne_virksomheter_df = finne_virksomheter_df[['ORGNR','ORGNR_FORETAK','NAVN']]\n",
    "foretak_rader = finne_virksomheter_df.ORGNR_FORETAK.value_counts().index.to_numpy()\n",
    "\n",
    "foretak_org_df = -1\n",
    "for nr in foretak_rader:\n",
    "    orgnr_df = finne_virksomheter_df.query(f'ORGNR_FORETAK  == \"{nr}\"')['ORGNR']\n",
    "    navn_df = finne_virksomheter_df.query(f'ORGNR_FORETAK  == \"{nr}\"')['NAVN']\n",
    "\n",
    "    ant = orgnr_df.shape[0]\n",
    "    tom_df = pd.Series(np.nan, index=range(20-ant))\n",
    "    orgnr_df = pd.concat([orgnr_df, tom_df], axis=0)\n",
    "    orgnr_df.index = orgnr_virk\n",
    "\n",
    "    ant = navn_df.shape[0]\n",
    "    tom_df = pd.Series(np.nan, index=range(20-ant))\n",
    "    navn_df = pd.concat([navn_df, tom_df], axis=0)\n",
    "    navn_df.index = navn_virk\n",
    "\n",
    "    foretak_df = pd.concat([orgnr_df, navn_df], axis=0)\n",
    "    foretak_df['ORGNR_FORETAK'] = nr\n",
    "    \n",
    "    if type(foretak_org_df) == int:\n",
    "        foretak_org_df = foretak_df\n",
    "    else:\n",
    "        foretak_org_df = pd.concat([foretak_org_df, foretak_df], axis = 1)\n",
    "foretak_org_df = foretak_org_df.transpose()"
   ]
  },
  {
   "cell_type": "code",
   "execution_count": null,
   "id": "31440a29-0ffe-4056-a733-a42e38e1f07c",
   "metadata": {},
   "outputs": [],
   "source": [
    "skj44O = pd.merge(skj44O, foretak_org_df, how=\"left\", on=\"ORGNR_FORETAK\")"
   ]
  },
  {
   "cell_type": "code",
   "execution_count": null,
   "id": "d109eb33-d5cd-4839-a0aa-745236f443d4",
   "metadata": {},
   "outputs": [],
   "source": [
    "skj44O['USERID'] = skj44O['ORGNR_FORETAK']\n",
    "skj44O['USERID'] = skj44O['ORGNR_FORETAK']\n",
    "skj44O = skj44O.rename(columns={\"ORGNR_FORETAK\": \"FORETAKETS_ORGNR\",\n",
    "                                \"NAVN_KLASS\": \"FORETAKETS_NAVN\",\n",
    "                                \"RHF\": \"HELSEREGION_NAVN\"})"
   ]
  },
  {
   "cell_type": "code",
   "execution_count": null,
   "id": "2f811032-20c6-4349-896b-d19c01c92a2d",
   "metadata": {
    "tags": []
   },
   "outputs": [],
   "source": [
    "skj44O = pd.merge(skj44O, d_plass_fjor, how=\"left\", on=\"FORETAKETS_ORGNR\")"
   ]
  },
  {
   "cell_type": "code",
   "execution_count": null,
   "id": "6ccdf315-3ed2-4c12-981c-9fb5dbde7440",
   "metadata": {},
   "outputs": [],
   "source": [
    "skj44O = skj44O[onskede_kolonner]"
   ]
  },
  {
   "cell_type": "markdown",
   "id": "959b9d2e-74e4-45bb-a896-2a5ab34c184f",
   "metadata": {},
   "source": [
    "## skj44P (Psykisk helsevern for voksne (PHFV), private helseforetak)"
   ]
  },
  {
   "cell_type": "code",
   "execution_count": null,
   "id": "e0caa12b-6915-4f11-9efe-1f3097acedd8",
   "metadata": {
    "tags": []
   },
   "outputs": [],
   "source": [
    "# Henter døgnplasser fra foregående år\n",
    "d_plass_fjor = (skjemadata44P[['FINST_ORGNR','D_PLAS_T']].reset_index().copy()\n",
    "                [['FINST_ORGNR','D_PLAS_T']]\n",
    "                .rename(columns={'D_PLAS_T': 'D_PLAS_FJOR'}))"
   ]
  },
  {
   "cell_type": "code",
   "execution_count": null,
   "id": "f17de776-d275-423d-966c-3c3080530283",
   "metadata": {},
   "outputs": [],
   "source": [
    "# kolonner som skal være med i dropdownlisten:\n",
    "kolonner = ['USERID',\n",
    "            'REGION_NR',\n",
    "            'REGION_NAVN',\n",
    "            'FORETAK_ORGNR',\n",
    "            'FORETAK_NAVN',\n",
    "            'FINST_ORGNR',\n",
    "            'FINST_NAVN',\n",
    "            'INSTLIST',\n",
    "            'D_PLAS_FJOR']\n",
    "\n",
    "skj44P = tabell_som_inneholder_skjema(SFU_dhs_klass, 'SKJEMA_TYPE', \"441\").copy()\n",
    "skj44P = skj44P.rename(columns = {\"ORGNR_FORETAK\": \"FORETAK_ORGNR\",\n",
    "                                   \"NAVN\": \"FINST_NAVN\",\n",
    "                                   'ORGNR':'FINST_ORGNR',\n",
    "                                   'HELSEREGION':'REGION_NR',\n",
    "                                   'RHF':'REGION_NAVN'})\n",
    "\n",
    "# USERID er alltid foretaksnummer\n",
    "skj44P['USERID'] = skj44P['FORETAK_ORGNR']\n",
    "\n",
    "# Lager omrisset av endelig tabell ved å plukke ut relevante kolonner\n",
    "skj44P = skj44P[[\"USERID\", \"REGION_NR\", \"REGION_NAVN\", \"FORETAK_ORGNR\", \"FINST_NAVN\", \"FINST_ORGNR\"] +\n",
    "                hvar_kolonner +\n",
    "                [\"SN07_1\", \"SN07_2\", \"SN07_3\"]]\n"
   ]
  },
  {
   "cell_type": "code",
   "execution_count": null,
   "id": "f8ac2ac7-ce88-49f9-8d8f-3b01d638ebd6",
   "metadata": {},
   "outputs": [],
   "source": [
    "# Importerer riktig regionnummer fra KLASS og gir foretak som ikke er offentlige betegnelsen \"PRIVATE INSTITUSJONER\"\n",
    "skj44P = pd.merge(skj44P, RHF_kode_klass[[\"HELSEREGION\", \"RHF\"]], how=\"left\" , left_on=\"REGION_NR\", right_on=\"HELSEREGION\")\n",
    "\n",
    "skj44P['REGION_NAVN'] = skj44P['RHF']\n",
    "skj44P.REGION_NAVN = skj44P.REGION_NAVN.fillna(\"PRIVATE INSTITUSJONER\")"
   ]
  },
  {
   "cell_type": "code",
   "execution_count": null,
   "id": "5792fbc6-270f-4dfd-ab45-242deb92b059",
   "metadata": {},
   "outputs": [],
   "source": [
    "# Henter foretaksnavn til virksomhetene fra SFU\n",
    "foretaksnr44P = skj44P.FORETAK_ORGNR.unique()\n",
    "foretaksnr44P = pd.DataFrame(foretaksnr44P)\n",
    "foretaksnr44P.columns = [\"ORGNR_FORETAK\"]\n",
    "\n",
    "finn_foretaksnavn = pd.merge(foretaksnr44P, SFU_dhs_klass[[\"ORGNR\", \"NAVN\"]], how=\"left\", left_on=\"ORGNR_FORETAK\", right_on=\"ORGNR\")\n",
    "finn_foretaksnavn = finn_foretaksnavn[[\"ORGNR_FORETAK\", \"NAVN\"]]\n",
    "finn_foretaksnavn = finn_foretaksnavn.rename(columns={\"NAVN\": \"FORETAK_NAVN\", \n",
    "                                                      \"ORGNR_FORETAK\": \"FORETAK_ORGNR\"})\n",
    "\n",
    "skj44P = pd.merge(skj44P, finn_foretaksnavn, how=\"left\", on=\"FORETAK_ORGNR\")"
   ]
  },
  {
   "cell_type": "code",
   "execution_count": null,
   "id": "b07f9441-1eb1-48d7-81b4-ad8ebe26fb4e",
   "metadata": {},
   "outputs": [],
   "source": [
    "skj44P = skj44P[[\"USERID\", \"REGION_NR\", \"REGION_NAVN\", \"FORETAK_ORGNR\", \"FORETAK_NAVN\", \"FINST_NAVN\",\"FINST_ORGNR\"] +\n",
    "                ['H_VAR2_N'] +\n",
    "                [\"SN07_1\"]]\n"
   ]
  },
  {
   "cell_type": "code",
   "execution_count": null,
   "id": "e9551c40-e9e4-48cb-a257-88cbf588b9bf",
   "metadata": {},
   "outputs": [],
   "source": [
    "# lager kolonnen INSTLIST med riktig antall \\n for at det skal passe med skjema. \n",
    "# Passer på at rapporteringsenhet kommer først i listen. (Enhet med H_VAR1_A lik orgnummer)\n",
    "\n",
    "finst_orgnr44P = pd.DataFrame(skj44P['FINST_ORGNR'])\n",
    "\n",
    "df_til_instlist1 = pd.merge(SFU_dhs_klass, finst_orgnr44P, left_on=\"H_VAR1_A\", right_on=\"FINST_ORGNR\")\n",
    "df_til_instlist1['rapporterer_til_annen_virksomhet'] = (df_til_instlist1.ORGNR != df_til_instlist1.H_VAR1_A)\n",
    "df_til_instlist1 = df_til_instlist1[['NAVN', 'ORGNR', \"FINST_ORGNR\", 'rapporterer_til_annen_virksomhet']]\n",
    "df_til_instlist1['orgnr_navn'] = df_til_instlist1['ORGNR'] + \" - \" + df_til_instlist1['NAVN']\n",
    "\n",
    "df_til_instlist2 = df_til_instlist1.query('~rapporterer_til_annen_virksomhet')[['ORGNR', 'orgnr_navn']]\n",
    "df_til_instlist3 = df_til_instlist1.query('rapporterer_til_annen_virksomhet')[[\"FINST_ORGNR\", 'orgnr_navn']]\n"
   ]
  },
  {
   "cell_type": "code",
   "execution_count": null,
   "id": "d4b5a194-82f6-4aac-a57e-f566050af118",
   "metadata": {},
   "outputs": [],
   "source": [
    "# mellomsteg for å legge institusjonene horisontalt ved siden av rapporteringsnummeret\n",
    "tmpdf = -1\n",
    "for finst_orgnr in df_til_instlist2.ORGNR.unique():\n",
    "    instliste = \"\\\\n\".join(df_til_instlist3.query(f'FINST_ORGNR==\"{finst_orgnr}\"').orgnr_navn)\n",
    "    if len(instliste) > 0:\n",
    "        if type(tmpdf) == int:\n",
    "            tmpdf = pd.DataFrame([finst_orgnr, instliste])\n",
    "        else:\n",
    "            nytt_tillegg = pd.DataFrame([finst_orgnr, instliste])\n",
    "            tmpdf = pd.concat([tmpdf, nytt_tillegg], axis=1)\n",
    "\n",
    "tmpdf = tmpdf.transpose()\n",
    "tmpdf.columns = ['FINST_ORGNR', 'INSTLISTE_HALE']"
   ]
  },
  {
   "cell_type": "code",
   "execution_count": null,
   "id": "76e42dc4-3439-446e-95a8-af6b98268b80",
   "metadata": {},
   "outputs": [],
   "source": [
    "df_til_instlist2 = df_til_instlist2.rename(columns={'ORGNR': 'FINST_ORGNR'})"
   ]
  },
  {
   "cell_type": "code",
   "execution_count": null,
   "id": "0b17c78e-fdd2-4890-a8d7-743270acb25c",
   "metadata": {
    "tags": []
   },
   "outputs": [],
   "source": [
    "skj44P = pd.merge(skj44P, df_til_instlist2, how=\"left\", on=\"FINST_ORGNR\")\n",
    "skj44P = pd.merge(skj44P, tmpdf, how=\"left\", on=\"FINST_ORGNR\")\n",
    "skj44P['INSTLISTE_HALE'] = skj44P['INSTLISTE_HALE'].fillna(\"\\\\n\\\\n\\\\n\\\\n\\\\n\\\\n\\\\n\\\\n\\\\n\\\\n\\\\n\")\n",
    "skj44P['antall_n_mangler'] = skj44P['INSTLISTE_HALE'].apply(lambda x: 11-x.count(\"\\\\n\"))\n",
    "skj44P['INSTLIST'] = skj44P.apply(lambda x: x.orgnr_navn + \\\n",
    "                                            \"\\\\n\" + \\\n",
    "                                            x.INSTLISTE_HALE + \\\n",
    "                                            x.antall_n_mangler * (\"\\\\n\"),\n",
    "                                  axis=1)"
   ]
  },
  {
   "cell_type": "code",
   "execution_count": null,
   "id": "cfcd8405-c6fc-4577-91db-29dcd88cb1fc",
   "metadata": {},
   "outputs": [],
   "source": [
    "skj44P = pd.merge(skj44P, d_plass_fjor, how=\"left\", on=\"FINST_ORGNR\")"
   ]
  },
  {
   "cell_type": "code",
   "execution_count": null,
   "id": "35b69266-f809-49e3-aa7c-2e2f318b3bbe",
   "metadata": {},
   "outputs": [],
   "source": [
    "# Tar kun vare på de kolonnene jeg spesifiserte i begynnelsen \n",
    "skj44P = skj44P[kolonner]"
   ]
  },
  {
   "cell_type": "markdown",
   "id": "3dda6c86-eaa8-4b5b-b8ae-2057dba728fc",
   "metadata": {},
   "source": [
    "## skj45O (Psykisk helsevern for barn og unge (PHBU/BUP), offentlige helseforetak)"
   ]
  },
  {
   "cell_type": "code",
   "execution_count": null,
   "id": "b00b5dec-f693-45a2-bb6d-fec7981c9bc0",
   "metadata": {
    "tags": []
   },
   "outputs": [],
   "source": [
    "# Henter døgnplasser fra foregående år\n",
    "d_plass_fjor = (skjemadata45O[['FORETAKETS_ORGNR','D_PLAS_T']].reset_index().copy()\n",
    "                [['FORETAKETS_ORGNR','D_PLAS_T']]\n",
    "                .rename(columns={'D_PLAS_T': 'D_PLAS_FJOR'}))"
   ]
  },
  {
   "cell_type": "code",
   "execution_count": null,
   "id": "ec6d2b7b-1015-4e1e-a293-6b0205be161a",
   "metadata": {
    "tags": []
   },
   "outputs": [],
   "source": [
    "skj45O = HF.query('ORGNR_FORETAK != \"883971752\"').copy()                    # Tar ut SUNNAAS"
   ]
  },
  {
   "cell_type": "code",
   "execution_count": null,
   "id": "8fd388ad-ed21-48f1-9748-0774c9493cd8",
   "metadata": {},
   "outputs": [],
   "source": [
    "# Lager kolonneoverskrifter i tråd med tidligere .csv-filer:\n",
    "navn_virk = []\n",
    "orgnr_virk = []\n",
    "for i in range(1,21):\n",
    "    navn_virk.append(f'NAVN_VIRK{i}')\n",
    "    orgnr_virk.append(f'ORGNR_VIRK{i}')\n",
    "\n",
    "onskede_kolonner = [\"USERID\", \"HELSEREGION\", \"HELSEREGION_NAVN\", \"FORETAKETS_ORGNR\", \"FORETAKETS_NAVN\", \"D_PLAS_FJOR\"] + orgnr_virk + navn_virk"
   ]
  },
  {
   "cell_type": "markdown",
   "id": "832b4529-80f6-413a-94eb-2afbc71d64ae",
   "metadata": {},
   "source": [
    "Henter data fra SFU med næringskode (\"86.105\") og statuskode (\"B\"). Finner næringskoden i kolonne ```SN07_1```"
   ]
  },
  {
   "cell_type": "code",
   "execution_count": null,
   "id": "aedf4984-ce0c-4551-8fc1-c10819041759",
   "metadata": {},
   "outputs": [],
   "source": [
    "skj45O['tmp_bool'] = True"
   ]
  },
  {
   "cell_type": "code",
   "execution_count": null,
   "id": "027a5869-7cb4-45c9-b945-8f9a1c2c3677",
   "metadata": {},
   "outputs": [],
   "source": [
    "finne_virksomheter_df = pd.merge(SFU_dhs_klass, skj45O, how=\"left\", on=[\"ORGNR_FORETAK\", \"RHF\", \"NAVN_KLASS\", \"HELSEREGION\"])\n",
    "finne_virksomheter_df = finne_virksomheter_df.query('tmp_bool == True and SN07_1 == \"86.105\" and STATUS == \"B\"')"
   ]
  },
  {
   "cell_type": "code",
   "execution_count": null,
   "id": "adad9536-dca9-4e56-a7d8-1558d4ac98d1",
   "metadata": {
    "tags": []
   },
   "outputs": [],
   "source": [
    "finne_virksomheter_df = finne_virksomheter_df[['ORGNR','ORGNR_FORETAK','NAVN']]\n",
    "foretak_rader = finne_virksomheter_df.ORGNR_FORETAK.value_counts().index.to_numpy()\n",
    "\n",
    "foretak_org_df = -1\n",
    "for nr in foretak_rader:\n",
    "    orgnr_df = finne_virksomheter_df.query(f'ORGNR_FORETAK  == \"{nr}\"')['ORGNR']\n",
    "    navn_df = finne_virksomheter_df.query(f'ORGNR_FORETAK  == \"{nr}\"')['NAVN']\n",
    "\n",
    "    ant = orgnr_df.shape[0]\n",
    "    tom_df = pd.Series(np.nan, index=range(20-ant))\n",
    "    orgnr_df = pd.concat([orgnr_df, tom_df], axis=0)\n",
    "    orgnr_df.index = orgnr_virk\n",
    "\n",
    "    ant = navn_df.shape[0]\n",
    "    tom_df = pd.Series(np.nan, index=range(20-ant))\n",
    "    navn_df = pd.concat([navn_df, tom_df], axis=0)\n",
    "    navn_df.index = navn_virk\n",
    "\n",
    "    foretak_df = pd.concat([orgnr_df, navn_df], axis=0)\n",
    "    foretak_df['ORGNR_FORETAK'] = nr\n",
    "    \n",
    "    if type(foretak_org_df) == int:\n",
    "        foretak_org_df = foretak_df\n",
    "    else:\n",
    "        foretak_org_df = pd.concat([foretak_org_df, foretak_df], axis = 1)\n",
    "foretak_org_df = foretak_org_df.transpose()"
   ]
  },
  {
   "cell_type": "code",
   "execution_count": null,
   "id": "87fb35c4-22cf-493b-9988-bae77616a00b",
   "metadata": {},
   "outputs": [],
   "source": [
    "skj45O = pd.merge(skj45O, foretak_org_df, how=\"left\", on=\"ORGNR_FORETAK\")"
   ]
  },
  {
   "cell_type": "code",
   "execution_count": null,
   "id": "23bbec7c-c0b5-4269-9670-1b339064befc",
   "metadata": {},
   "outputs": [],
   "source": [
    "skj45O['USERID'] = skj45O['ORGNR_FORETAK']\n",
    "skj45O['USERID'] = skj45O['ORGNR_FORETAK']\n",
    "skj45O = skj45O.rename(columns={\"ORGNR_FORETAK\": \"FORETAKETS_ORGNR\",\n",
    "                                \"NAVN_KLASS\": \"FORETAKETS_NAVN\",\n",
    "                                \"RHF\": \"HELSEREGION_NAVN\"})"
   ]
  },
  {
   "cell_type": "code",
   "execution_count": null,
   "id": "5d4e604f-fdb9-4bae-9189-b0f7476b836f",
   "metadata": {
    "tags": []
   },
   "outputs": [],
   "source": [
    "skj45O = pd.merge(skj45O, d_plass_fjor, how=\"left\", on=\"FORETAKETS_ORGNR\")"
   ]
  },
  {
   "cell_type": "code",
   "execution_count": null,
   "id": "395432d6-3d9d-49fa-9aaa-1a74119cb5a4",
   "metadata": {},
   "outputs": [],
   "source": [
    "skj45O = skj45O[onskede_kolonner]"
   ]
  },
  {
   "cell_type": "markdown",
   "id": "2ee6bc58-408a-43f9-8b53-a8cc7605788e",
   "metadata": {},
   "source": [
    "## skj45P (Psykisk helsevern for barn og unge (PHBU/BUP), private helseforetak)"
   ]
  },
  {
   "cell_type": "code",
   "execution_count": null,
   "id": "5e2fe47e-7357-42b3-a73a-28963c2dace4",
   "metadata": {
    "tags": []
   },
   "outputs": [],
   "source": [
    "# Henter døgnplasser fra foregående år\n",
    "d_plass_fjor = (skjemadata45P[['FINST_ORGNR','D_PLAS_T']].reset_index().copy()\n",
    "                [['FINST_ORGNR','D_PLAS_T']]\n",
    "                .rename(columns={'D_PLAS_T': 'D_PLAS_FJOR'}))"
   ]
  },
  {
   "cell_type": "code",
   "execution_count": null,
   "id": "af6366c1-06bc-4db8-8fe2-f20018f416fd",
   "metadata": {},
   "outputs": [],
   "source": [
    "# kolonner som skal være med i dropdownlisten:\n",
    "kolonner = \"USERID\tREGION_NR\tREGION_NAVN\tFORETAK_ORGNR\tFORETAK_NAVN\tFINST_ORGNR\tFINST_NAVN\tINSTLIST\tD_PLAS_FJOR\".split(\"\t\")\n",
    "\n",
    "skj45P = tabell_som_inneholder_skjema(SFU_dhs_klass, 'SKJEMA_TYPE', \"451\").copy()\n",
    "skj45P = skj45P.rename(columns = {\"ORGNR_FORETAK\": \"FORETAK_ORGNR\",\n",
    "                                   \"NAVN\": \"FINST_NAVN\",\n",
    "                                   'ORGNR':'FINST_ORGNR',\n",
    "                                   'HELSEREGION':'REGION_NR',\n",
    "                                   'RHF':'REGION_NAVN'})\n",
    "\n",
    "# USERID er alltid foretaksnummer\n",
    "skj45P['USERID'] = skj45P['FORETAK_ORGNR']\n",
    "\n",
    "# Lager omrisset av endelig tabell ved å plukke ut relevante kolonner\n",
    "skj45P = skj45P[[\"USERID\", \"REGION_NR\", \"REGION_NAVN\", \"FORETAK_ORGNR\", \"FINST_NAVN\", \"FINST_ORGNR\"] +\n",
    "                hvar_kolonner +\n",
    "                [\"SN07_1\", \"SN07_2\", \"SN07_3\"]]\n"
   ]
  },
  {
   "cell_type": "code",
   "execution_count": null,
   "id": "2d9ae389-82d2-4ebe-9c89-d4e962683e27",
   "metadata": {},
   "outputs": [],
   "source": [
    "# Importerer riktig regionnummer fra KLASS og gir foretak som ikke er offentlige betegnelsen \"PRIVATE INSTITUSJONER\"\n",
    "skj45P = pd.merge(skj45P, RHF_kode_klass[[\"HELSEREGION\", \"RHF\"]], how=\"left\" , left_on=\"REGION_NR\", right_on=\"HELSEREGION\")\n",
    "\n",
    "skj45P['REGION_NAVN'] = skj45P['RHF']\n",
    "skj45P.REGION_NAVN = skj45P.REGION_NAVN.fillna(\"PRIVATE INSTITUSJONER\")"
   ]
  },
  {
   "cell_type": "code",
   "execution_count": null,
   "id": "4e9f53ca-8a9c-40b8-8f51-8230a2cb0bcb",
   "metadata": {},
   "outputs": [],
   "source": [
    "# Henter foretaksnavn til virksomhetene fra SFU\n",
    "foretaksnr45P = skj45P.FORETAK_ORGNR.unique()\n",
    "foretaksnr45P = pd.DataFrame(foretaksnr45P)\n",
    "foretaksnr45P.columns = [\"ORGNR_FORETAK\"]\n",
    "\n",
    "finn_foretaksnavn = pd.merge(foretaksnr45P, SFU_dhs_klass[[\"ORGNR\", \"NAVN\"]], how=\"left\", left_on=\"ORGNR_FORETAK\", right_on=\"ORGNR\")\n",
    "finn_foretaksnavn = finn_foretaksnavn[[\"ORGNR_FORETAK\", \"NAVN\"]]\n",
    "finn_foretaksnavn = finn_foretaksnavn.rename(columns={\"NAVN\": \"FORETAK_NAVN\", \n",
    "                                                      \"ORGNR_FORETAK\": \"FORETAK_ORGNR\"})\n",
    "\n",
    "skj45P = pd.merge(skj45P, finn_foretaksnavn, how=\"left\", on=\"FORETAK_ORGNR\")"
   ]
  },
  {
   "cell_type": "code",
   "execution_count": null,
   "id": "fd404aff-aa8b-4159-8b17-4caf685544e2",
   "metadata": {},
   "outputs": [],
   "source": [
    "skj45P = skj45P[[\"USERID\", \"REGION_NR\", \"REGION_NAVN\", \"FORETAK_ORGNR\", \"FORETAK_NAVN\", \"FINST_NAVN\",\"FINST_ORGNR\"] +\n",
    "                ['H_VAR2_N'] +\n",
    "                [\"SN07_1\"]]\n"
   ]
  },
  {
   "cell_type": "code",
   "execution_count": null,
   "id": "2154233c-cb16-4c7f-a4bb-de076b524c8c",
   "metadata": {},
   "outputs": [],
   "source": [
    "# lager kolonnen INSTLIST med riktig antall \\n for at det skal passe med skjema. \n",
    "# Passer på at rapporteringsenhet kommer først i listen. (Enhet med H_VAR1_A lik orgnummer)\n",
    "\n",
    "finst_orgnr45P = pd.DataFrame(skj45P['FINST_ORGNR'])\n",
    "\n",
    "df_til_instlist1 = pd.merge(SFU_dhs_klass, finst_orgnr45P, left_on=\"H_VAR1_A\", right_on=\"FINST_ORGNR\")\n",
    "df_til_instlist1['rapporterer_til_annen_virksomhet'] = (df_til_instlist1.ORGNR != df_til_instlist1.H_VAR1_A)\n",
    "df_til_instlist1 = df_til_instlist1[['NAVN', 'ORGNR', \"FINST_ORGNR\", 'rapporterer_til_annen_virksomhet']]\n",
    "df_til_instlist1['orgnr_navn'] = df_til_instlist1['ORGNR'] + \" - \" + df_til_instlist1['NAVN']\n",
    "\n",
    "df_til_instlist2 = df_til_instlist1.query('~rapporterer_til_annen_virksomhet')[['ORGNR', 'orgnr_navn']]\n",
    "df_til_instlist3 = df_til_instlist1.query('rapporterer_til_annen_virksomhet')[[\"FINST_ORGNR\", 'orgnr_navn']]\n"
   ]
  },
  {
   "cell_type": "code",
   "execution_count": null,
   "id": "d18c6f60-7f1f-4211-beba-a6968c7f9a31",
   "metadata": {},
   "outputs": [],
   "source": [
    "# mellomsteg for å legge institusjonene horisontalt ved siden av rapporteringsnummeret\n",
    "tmpdf = -1\n",
    "for finst_orgnr in df_til_instlist2.ORGNR.unique():\n",
    "    instliste = \"\\\\n\".join(df_til_instlist3.query(f'FINST_ORGNR==\"{finst_orgnr}\"').orgnr_navn)\n",
    "    if len(instliste) > 0:\n",
    "        if type(tmpdf) == int:\n",
    "            tmpdf = pd.DataFrame([finst_orgnr, instliste])\n",
    "        else:\n",
    "            nytt_tillegg = pd.DataFrame([finst_orgnr, instliste])\n",
    "            tmpdf = pd.concat([tmpdf, nytt_tillegg], axis=1)\n",
    "\n",
    "if type(tmpdf) != int:\n",
    "    tmpdf = tmpdf.transpose()\n",
    "    tmpdf.columns = ['FINST_ORGNR', 'INSTLISTE_HALE']"
   ]
  },
  {
   "cell_type": "code",
   "execution_count": null,
   "id": "738f4fa9-52b9-4314-84d9-95757480bf80",
   "metadata": {},
   "outputs": [],
   "source": [
    "df_til_instlist2 = df_til_instlist2.rename(columns={'ORGNR': 'FINST_ORGNR'})"
   ]
  },
  {
   "cell_type": "code",
   "execution_count": null,
   "id": "781242c6-222e-43a5-b4c4-cb90a137f73d",
   "metadata": {},
   "outputs": [],
   "source": [
    "skj45P"
   ]
  },
  {
   "cell_type": "code",
   "execution_count": null,
   "id": "4d27376b-90cb-4bbc-8576-90a48ffb9e41",
   "metadata": {
    "tags": []
   },
   "outputs": [],
   "source": [
    "skj45P = pd.merge(skj45P, df_til_instlist2, how=\"left\", on=\"FINST_ORGNR\")\n",
    "if type(tmpdf) != int:\n",
    "    skj45P = pd.merge(skj45P, tmpdf, how=\"left\", on=\"FINST_ORGNR\")\n",
    "    skj45P['INSTLISTE_HALE'] = skj45P['INSTLISTE_HALE'].fillna(\"\\\\n\\\\n\\\\n\\\\n\\\\n\\\\n\\\\n\\\\n\\\\n\\\\n\\\\n\")\n",
    "else:\n",
    "    skj45P['INSTLISTE_HALE'] = \"\\\\n\\\\n\\\\n\\\\n\\\\n\\\\n\\\\n\\\\n\\\\n\\\\n\\\\n\"\n",
    "\n",
    "skj45P['antall_n_mangler'] = skj45P['INSTLISTE_HALE'].apply(lambda x: 11-x.count(\"\\\\n\"))\n",
    "skj45P['INSTLIST'] = skj45P.apply(lambda x: x.orgnr_navn + \\\n",
    "                                            \"\\\\n\" + \\\n",
    "                                            x.INSTLISTE_HALE + \\\n",
    "                                            x.antall_n_mangler * (\"\\\\n\"),\n",
    "                                  axis=1)"
   ]
  },
  {
   "cell_type": "code",
   "execution_count": null,
   "id": "be9eb730-e4e0-40bc-bfca-3ae139b751e1",
   "metadata": {},
   "outputs": [],
   "source": [
    "skj45P = pd.merge(skj45P, d_plass_fjor, how=\"left\", on=\"FINST_ORGNR\")"
   ]
  },
  {
   "cell_type": "code",
   "execution_count": null,
   "id": "85140b50-e0c3-4493-b30b-87e9bfd220cd",
   "metadata": {
    "tags": []
   },
   "outputs": [],
   "source": [
    "# Tar kun vare på de kolonnene jeg spesifiserte i begynnelsen \n",
    "skj45P = skj45P[kolonner]\n",
    "skj45P"
   ]
  },
  {
   "cell_type": "markdown",
   "id": "c1d4bd5a-3650-4efe-8897-0478cfc49de6",
   "metadata": {},
   "source": [
    "## skj46O (Somatiske sykehus, offentlige helseforetak)\n",
    "```SUNNAAS``` skal være med her\n",
    "\n",
    "NB. Antall avsatte kolonner til undervirksomheter er 24."
   ]
  },
  {
   "cell_type": "code",
   "execution_count": null,
   "id": "5c343916-7641-4d99-9239-79c84371133b",
   "metadata": {
    "tags": []
   },
   "outputs": [],
   "source": [
    "# Henter døgnplasser fra foregående år\n",
    "d_plass_fjor = (skjemadata46O[['ORGNR_VIRK1','SEN_HT', 'SDGN_HT']].reset_index().copy()\n",
    "                [['ORGNR_VIRK1','SEN_HT', 'SDGN_HT']]\n",
    "                .rename(columns={'SEN_HT': 'SEN_HT_FJOR',\n",
    "                                 'SDGN_HT': 'SDGN_HT_FJOR',\n",
    "                                 'ORGNR_VIRK1': 'FINST_ORGNR'}))"
   ]
  },
  {
   "cell_type": "code",
   "execution_count": null,
   "id": "54e881a9-2113-4d98-9358-6bd122984873",
   "metadata": {
    "tags": []
   },
   "outputs": [],
   "source": [
    "skj46O = HF.copy()"
   ]
  },
  {
   "cell_type": "code",
   "execution_count": null,
   "id": "e4b35b6a-c220-461e-b85f-11df03720b56",
   "metadata": {},
   "outputs": [],
   "source": [
    "# Lager kolonneoverskrifter i tråd med tidligere .csv-filer:\n",
    "navn_virk = []\n",
    "orgnr_virk = []\n",
    "for i in range(1,25):\n",
    "    navn_virk.append(f'NAVN_VIRK{i}')\n",
    "    orgnr_virk.append(f'ORGNR_VIRK{i}')\n",
    "\n",
    "onskede_kolonner = [\"USERID\", \"HELSEREGION\", \"HELSEREGION_NAVN\", \"FORETAKETS_ORGNR\", \"FORETAKETS_NAVN\", 'SEN_HT_FJOR', 'SDGN_HT_FJOR'] + orgnr_virk + navn_virk"
   ]
  },
  {
   "cell_type": "markdown",
   "id": "4124bb93-c5ed-46d9-b201-315552b8a019",
   "metadata": {},
   "source": [
    "Henter data fra SFU med næringskoder (\"86.101\") (\"86.102\") (\"86.103\") (\"86.107\"). Finner næringskoden i kolonne ```SN07_1```"
   ]
  },
  {
   "cell_type": "code",
   "execution_count": null,
   "id": "b363cf4f-4c2c-4ecd-ba76-55a492a1d4a2",
   "metadata": {},
   "outputs": [],
   "source": [
    "skj46O['tmp_bool'] = True"
   ]
  },
  {
   "cell_type": "code",
   "execution_count": null,
   "id": "163a8b40-ad60-4d15-93df-8d5f57646abe",
   "metadata": {},
   "outputs": [],
   "source": [
    "finne_virksomheter_df = pd.merge(SFU_dhs_klass, skj46O, how=\"left\", on=[\"ORGNR_FORETAK\", \"RHF\", \"NAVN_KLASS\", \"HELSEREGION\"])\n",
    "finne_virksomheter_df = finne_virksomheter_df.query('tmp_bool == True and SN07_1 in [\"86.101\", \"86.102\", \"86.103\",\"86.107\",]')\n",
    "\n",
    "finne_virksomheter_df = finne_virksomheter_df[['ORGNR','ORGNR_FORETAK','NAVN', 'NAVN_KLASS']]\n",
    "\n",
    "finne_virksomheter_df = pd.merge(finne_virksomheter_df, d_plass_fjor, how=\"left\", left_on=\"ORGNR\", right_on=\"FINST_ORGNR\")"
   ]
  },
  {
   "cell_type": "code",
   "execution_count": null,
   "id": "37ba4645-5d3c-46d7-8437-0b5a37dba5bd",
   "metadata": {
    "tags": []
   },
   "outputs": [],
   "source": [
    "finne_virksomheter_df['SEN_HT_FJOR'] = pd.to_numeric(finne_virksomheter_df['SEN_HT_FJOR'])\n",
    "finne_virksomheter_df['SDGN_HT_FJOR'] = pd.to_numeric(finne_virksomheter_df['SDGN_HT_FJOR'])"
   ]
  },
  {
   "cell_type": "code",
   "execution_count": null,
   "id": "0983a371-a0b5-415b-8822-f031d7105e21",
   "metadata": {
    "tags": []
   },
   "outputs": [],
   "source": [
    "finne_virksomheter_df = finne_virksomheter_df.groupby([\"ORGNR_FORETAK\", \"NAVN_KLASS\"]).sum().reset_index()"
   ]
  },
  {
   "cell_type": "code",
   "execution_count": null,
   "id": "741962de-6334-414b-bdab-83dbfbe17dde",
   "metadata": {},
   "outputs": [],
   "source": [
    "foretak_rader = finne_virksomheter_df.ORGNR_FORETAK.value_counts().index.to_numpy()"
   ]
  },
  {
   "cell_type": "code",
   "execution_count": null,
   "id": "b4ffe758-4bc5-4290-8df2-533edec866eb",
   "metadata": {},
   "outputs": [],
   "source": [
    "finne_virksomheter_df2 = pd.merge(SFU_dhs_klass, skj46O, how=\"left\", on=[\"ORGNR_FORETAK\", \"RHF\", \"NAVN_KLASS\", \"HELSEREGION\"])\n",
    "finne_virksomheter_df2 = finne_virksomheter_df2.query('tmp_bool == True and SN07_1 in [\"86.101\", \"86.102\", \"86.103\",\"86.107\",]')\n",
    "\n",
    "finne_virksomheter_df2 = finne_virksomheter_df2[['ORGNR','ORGNR_FORETAK','NAVN', 'NAVN_KLASS']]"
   ]
  },
  {
   "cell_type": "code",
   "execution_count": null,
   "id": "da6fd4a1-83ff-48d5-9967-9d7ee9566546",
   "metadata": {
    "tags": []
   },
   "outputs": [],
   "source": [
    "foretak_org_df = -1\n",
    "for nr in foretak_rader:\n",
    "    orgnr_df = finne_virksomheter_df2.query(f'ORGNR_FORETAK  == \"{nr}\" and ORGNR != \"{nr}\"')['ORGNR']\n",
    "    navn_df = finne_virksomheter_df2.query(f'ORGNR_FORETAK  == \"{nr}\" and ORGNR != \"{nr}\"')['NAVN']\n",
    "\n",
    "    ant = orgnr_df.shape[0]\n",
    "    tom_df = pd.Series(np.nan, index=range(24-ant))\n",
    "    orgnr_df = pd.concat([orgnr_df, tom_df], axis=0)\n",
    "    orgnr_df.index = orgnr_virk\n",
    "\n",
    "    ant = navn_df.shape[0]\n",
    "    tom_df = pd.Series(np.nan, index=range(24-ant))\n",
    "    navn_df = pd.concat([navn_df, tom_df], axis=0)\n",
    "    navn_df.index = navn_virk\n",
    "\n",
    "    foretak_df = pd.concat([orgnr_df, navn_df], axis=0)\n",
    "    foretak_df['ORGNR_FORETAK'] = nr\n",
    "    \n",
    "    if type(foretak_org_df) == int:\n",
    "        foretak_org_df = foretak_df\n",
    "    else:\n",
    "        foretak_org_df = pd.concat([foretak_org_df, foretak_df], axis = 1)\n",
    "foretak_org_df = foretak_org_df.transpose()"
   ]
  },
  {
   "cell_type": "code",
   "execution_count": null,
   "id": "a73a11dd-a949-4c44-be23-30fdd1ed3bfc",
   "metadata": {},
   "outputs": [],
   "source": [
    "finne_virksomheter_df = finne_virksomheter_df.rename(columns={\"NAVN_KLASS\": \"FORETAKETS_NAVN\"})"
   ]
  },
  {
   "cell_type": "code",
   "execution_count": null,
   "id": "f2c575a9-34d1-48fb-b85f-c9c56a0a4eef",
   "metadata": {},
   "outputs": [],
   "source": [
    "skj46O = pd.merge(skj46O, foretak_org_df, how=\"left\", on=\"ORGNR_FORETAK\")"
   ]
  },
  {
   "cell_type": "code",
   "execution_count": null,
   "id": "50a64672-18cb-4dae-9631-0852978fdb88",
   "metadata": {},
   "outputs": [],
   "source": [
    "skj46O = pd.merge(skj46O, finne_virksomheter_df, how=\"left\", on=\"ORGNR_FORETAK\")"
   ]
  },
  {
   "cell_type": "code",
   "execution_count": null,
   "id": "d577b113-83bb-4cbe-bf4a-a97a737fd471",
   "metadata": {},
   "outputs": [],
   "source": [
    "skj46O['USERID'] = skj46O['ORGNR_FORETAK']\n",
    "skj46O['USERID'] = skj46O['ORGNR_FORETAK']\n",
    "skj46O = skj46O.rename(columns={\"ORGNR_FORETAK\": \"FORETAKETS_ORGNR\",\n",
    "                                \"NAVN_KLASS\": \"FORETAKETS_NAVN\",\n",
    "                                \"RHF\": \"HELSEREGION_NAVN\"})"
   ]
  },
  {
   "cell_type": "code",
   "execution_count": null,
   "id": "6619b409-ecfe-4690-a2fb-8d45c5124ac6",
   "metadata": {
    "tags": []
   },
   "outputs": [],
   "source": [
    "skj46O = skj46O[onskede_kolonner]"
   ]
  },
  {
   "cell_type": "markdown",
   "id": "c1ac82b3-4c39-453d-9ef4-61d83ad25118",
   "metadata": {},
   "source": [
    "## skj46P (Somatiske sykehus, private helseforetak)"
   ]
  },
  {
   "cell_type": "code",
   "execution_count": null,
   "id": "c9d36a83-e8e3-47dc-86bf-0e61cffa7f60",
   "metadata": {
    "tags": []
   },
   "outputs": [],
   "source": [
    "# Henter døgnplasser fra foregående år\n",
    "d_plass_fjor = (skjemadata46P[['ORGNR_VIRK1','SEN_HT', 'SDGN_HT']].reset_index().copy()\n",
    "                [['ORGNR_VIRK1','SEN_HT', 'SDGN_HT']]\n",
    "                .rename(columns={'SEN_HT': 'SEN_HT_FJOR',\n",
    "                                 'SDGN_HT': 'SDGN_HT_FJOR',\n",
    "                                 'ORGNR_VIRK1': 'FINST_ORGNR'}))"
   ]
  },
  {
   "cell_type": "code",
   "execution_count": null,
   "id": "c01570eb-10bc-45f0-ad7b-a1614de66337",
   "metadata": {},
   "outputs": [],
   "source": [
    "# kolonner som skal være med i dropdownlisten:\n",
    "kolonner = ['USERID',\n",
    "            'REGION_NR',\n",
    "            'REGION_NAVN',\n",
    "            'FORETAK_ORGNR',\n",
    "            'FORETAK_NAVN',\n",
    "            'FINST_ORGNR',\n",
    "            'FINST_NAVN',\n",
    "            'INSTLIST',\n",
    "            'SEN_HT_FJOR',\n",
    "            'SDGN_HT_FJOR']\n",
    "\n",
    "skj46P = tabell_som_inneholder_skjema(SFU_dhs_klass, 'SKJEMA_TYPE', \"461\").copy()\n",
    "skj46P = skj46P.rename(columns = {\"ORGNR_FORETAK\": \"FORETAK_ORGNR\",\n",
    "                                   \"NAVN\": \"FINST_NAVN\",\n",
    "                                   'ORGNR':'FINST_ORGNR',\n",
    "                                   'HELSEREGION':'REGION_NR',\n",
    "                                   'RHF':'REGION_NAVN'})\n",
    "\n",
    "# USERID er alltid foretaksnummer\n",
    "skj46P['USERID'] = skj46P['FORETAK_ORGNR']\n",
    "\n",
    "# Lager omrisset av endelig tabell ved å plukke ut relevante kolonner\n",
    "skj46P = skj46P[[\"USERID\", \"REGION_NR\", \"REGION_NAVN\", \"FORETAK_ORGNR\", \"FINST_NAVN\", \"FINST_ORGNR\"] +\n",
    "                hvar_kolonner +\n",
    "                [\"SN07_1\", \"SN07_2\", \"SN07_3\"]]\n"
   ]
  },
  {
   "cell_type": "code",
   "execution_count": null,
   "id": "fdf01583-56f7-4482-8f5b-ef6bfcfdb1d7",
   "metadata": {},
   "outputs": [],
   "source": [
    "# Importerer riktig regionnummer fra KLASS og gir foretak som ikke er offentlige betegnelsen \"PRIVATE INSTITUSJONER\"\n",
    "skj46P = pd.merge(skj46P, RHF_kode_klass[[\"HELSEREGION\", \"RHF\"]], how=\"left\" , left_on=\"REGION_NR\", right_on=\"HELSEREGION\")\n",
    "\n",
    "skj46P['REGION_NAVN'] = skj46P['RHF']\n",
    "skj46P.REGION_NAVN = skj46P.REGION_NAVN.fillna(\"PRIVATE INSTITUSJONER\")"
   ]
  },
  {
   "cell_type": "code",
   "execution_count": null,
   "id": "706a5478-11cc-421d-909c-41e05da63008",
   "metadata": {},
   "outputs": [],
   "source": [
    "# Henter foretaksnavn til virksomhetene fra SFU\n",
    "foretaksnr46P = skj46P.FORETAK_ORGNR.unique()\n",
    "foretaksnr46P = pd.DataFrame(foretaksnr46P)\n",
    "foretaksnr46P.columns = [\"ORGNR_FORETAK\"]\n",
    "\n",
    "finn_foretaksnavn = pd.merge(foretaksnr46P, SFU_dhs_klass[[\"ORGNR\", \"NAVN\"]], how=\"left\", left_on=\"ORGNR_FORETAK\", right_on=\"ORGNR\")\n",
    "finn_foretaksnavn = finn_foretaksnavn[[\"ORGNR_FORETAK\", \"NAVN\"]]\n",
    "finn_foretaksnavn = finn_foretaksnavn.rename(columns={\"NAVN\": \"FORETAK_NAVN\", \n",
    "                                                      \"ORGNR_FORETAK\": \"FORETAK_ORGNR\"})\n",
    "\n",
    "skj46P = pd.merge(skj46P, finn_foretaksnavn, how=\"left\", on=\"FORETAK_ORGNR\")"
   ]
  },
  {
   "cell_type": "code",
   "execution_count": null,
   "id": "b4c1d152-21a2-4422-a2bc-0e24cec7bfb5",
   "metadata": {},
   "outputs": [],
   "source": [
    "skj46P = skj46P[[\"USERID\", \"REGION_NR\", \"REGION_NAVN\", \"FORETAK_ORGNR\", \"FORETAK_NAVN\", \"FINST_NAVN\",\"FINST_ORGNR\"] +\n",
    "                ['H_VAR2_N'] +\n",
    "                [\"SN07_1\"]]\n"
   ]
  },
  {
   "cell_type": "code",
   "execution_count": null,
   "id": "41c708bf-c280-4b16-96ab-bfd132a8e80b",
   "metadata": {},
   "outputs": [],
   "source": [
    "# lager kolonnen INSTLIST med riktig antall \\n for at det skal passe med skjema. \n",
    "# Passer på at rapporteringsenhet kommer først i listen. (Enhet med H_VAR1_A lik orgnummer)\n",
    "\n",
    "finst_orgnr46P = pd.DataFrame(skj46P['FINST_ORGNR'])\n",
    "\n",
    "df_til_instlist1 = pd.merge(SFU_dhs_klass, finst_orgnr46P, left_on=\"H_VAR1_A\", right_on=\"FINST_ORGNR\")\n",
    "df_til_instlist1['rapporterer_til_annen_virksomhet'] = (df_til_instlist1.ORGNR != df_til_instlist1.H_VAR1_A)\n",
    "df_til_instlist1 = df_til_instlist1[['NAVN', 'ORGNR', \"FINST_ORGNR\", 'rapporterer_til_annen_virksomhet']]\n",
    "df_til_instlist1['orgnr_navn'] = df_til_instlist1['ORGNR'] + \" - \" + df_til_instlist1['NAVN']\n",
    "\n",
    "df_til_instlist2 = df_til_instlist1.query('~rapporterer_til_annen_virksomhet')[['ORGNR', 'orgnr_navn']]\n",
    "df_til_instlist3 = df_til_instlist1.query('rapporterer_til_annen_virksomhet')[[\"FINST_ORGNR\", 'orgnr_navn']]\n"
   ]
  },
  {
   "cell_type": "code",
   "execution_count": null,
   "id": "cd114738-b102-49f4-bfe2-38c442bd858a",
   "metadata": {},
   "outputs": [],
   "source": [
    "# mellomsteg for å legge institusjonene horisontalt ved siden av rapporteringsnummeret\n",
    "tmpdf = -1\n",
    "for finst_orgnr in df_til_instlist2.ORGNR.unique():\n",
    "    instliste = \"\\\\n\".join(df_til_instlist3.query(f'FINST_ORGNR==\"{finst_orgnr}\"').orgnr_navn)\n",
    "    if len(instliste) > 0:\n",
    "        if type(tmpdf) == int:\n",
    "            tmpdf = pd.DataFrame([finst_orgnr, instliste])\n",
    "        else:\n",
    "            nytt_tillegg = pd.DataFrame([finst_orgnr, instliste])\n",
    "            tmpdf = pd.concat([tmpdf, nytt_tillegg], axis=1)\n",
    "\n",
    "tmpdf = tmpdf.transpose()\n",
    "tmpdf.columns = ['FINST_ORGNR', 'INSTLISTE_HALE']"
   ]
  },
  {
   "cell_type": "code",
   "execution_count": null,
   "id": "fd05913b-07ef-4e8f-b8b8-5e9dd4d16ee2",
   "metadata": {},
   "outputs": [],
   "source": [
    "df_til_instlist2 = df_til_instlist2.rename(columns={'ORGNR': 'FINST_ORGNR'})"
   ]
  },
  {
   "cell_type": "code",
   "execution_count": null,
   "id": "60bdce6b-7688-4821-b826-5864d02b1367",
   "metadata": {
    "tags": []
   },
   "outputs": [],
   "source": [
    "skj46P = pd.merge(skj46P, df_til_instlist2, how=\"left\", on=\"FINST_ORGNR\")\n",
    "skj46P = pd.merge(skj46P, tmpdf, how=\"left\", on=\"FINST_ORGNR\")\n",
    "skj46P['INSTLISTE_HALE'] = skj46P['INSTLISTE_HALE'].fillna(\"\\\\n\\\\n\\\\n\\\\n\\\\n\\\\n\\\\n\\\\n\\\\n\\\\n\\\\n\")\n",
    "skj46P['antall_n_mangler'] = skj46P['INSTLISTE_HALE'].apply(lambda x: 11-x.count(\"\\\\n\"))\n",
    "skj46P['INSTLIST'] = skj46P.apply(lambda x: x.orgnr_navn + \\\n",
    "                                            \"\\\\n\" + \\\n",
    "                                            x.INSTLISTE_HALE + \\\n",
    "                                            x.antall_n_mangler * (\"\\\\n\"),\n",
    "                                  axis=1)"
   ]
  },
  {
   "cell_type": "code",
   "execution_count": null,
   "id": "8f68acca-59de-48c5-86e4-e9cf659548de",
   "metadata": {},
   "outputs": [],
   "source": [
    "skj46P = pd.merge(skj46P, d_plass_fjor, how=\"left\", on=\"FINST_ORGNR\")"
   ]
  },
  {
   "cell_type": "code",
   "execution_count": null,
   "id": "4a1b264f-c7e7-4f05-9794-62e7751055f9",
   "metadata": {},
   "outputs": [],
   "source": [
    "# Tar kun vare på de kolonnene jeg spesifiserte i begynnelsen \n",
    "skj46P = skj46P[kolonner]"
   ]
  },
  {
   "cell_type": "markdown",
   "id": "bd7fba8b-6cb4-4347-9155-3e32446639bd",
   "metadata": {},
   "source": [
    "## skj47 (Somatiske institusjoner)"
   ]
  },
  {
   "cell_type": "code",
   "execution_count": null,
   "id": "cc7c8955-dbfa-48df-8d82-c19fde002512",
   "metadata": {
    "tags": []
   },
   "outputs": [],
   "source": [
    "# Henter døgnplasser fra foregående år\n",
    "d_plass_fjor = (skjemadata47[['FINST_ORGNR','D_HELD', 'SDGN_SUM']].reset_index().copy()\n",
    "                [['FINST_ORGNR','D_HELD', 'SDGN_SUM']]\n",
    "                .rename(columns={'D_HELD': 'D_HELD_IFJOR',\n",
    "                                 'SDGN_SUM': 'SDGN_SUM_IFJOR'}))"
   ]
  },
  {
   "cell_type": "code",
   "execution_count": null,
   "id": "bb993d23-00ac-49e3-9f65-e4d8bf1f0874",
   "metadata": {},
   "outputs": [],
   "source": [
    "# kolonner som skal være med i dropdownlisten:\n",
    "kolonner = ['USERID',\n",
    "            'REGION_NR',\n",
    "            'REGION_NAVN',\n",
    "            'FORETAK_ORGNR',\n",
    "            'FORETAK_NAVN',\n",
    "            'FINST_ORGNR',\n",
    "            'FINST_NAVN',\n",
    "            'INSTLIST',\n",
    "            'D_HELD_IFJOR',\n",
    "            'SDGN_SUM_IFJOR']\n",
    "\n",
    "skj47 = tabell_som_inneholder_skjema(SFU_dhs_klass, 'SKJEMA_TYPE', \"47\").copy()\n",
    "skj47 = skj47.rename(columns = {\"ORGNR_FORETAK\": \"FORETAK_ORGNR\",\n",
    "                                   \"NAVN\": \"FINST_NAVN\",\n",
    "                                   'ORGNR':'FINST_ORGNR',\n",
    "                                   'HELSEREGION':'REGION_NR',\n",
    "                                   'RHF':'REGION_NAVN'})\n",
    "\n",
    "# USERID er alltid foretaksnummer\n",
    "skj47['USERID'] = skj47['FORETAK_ORGNR']\n",
    "\n",
    "# Lager omrisset av endelig tabell ved å plukke ut relevante kolonner\n",
    "skj47 = skj47[[\"USERID\", \"REGION_NR\", \"REGION_NAVN\", \"FORETAK_ORGNR\", \"FINST_NAVN\", \"FINST_ORGNR\"] +\n",
    "                hvar_kolonner +\n",
    "                [\"SN07_1\", \"SN07_2\", \"SN07_3\"]]\n"
   ]
  },
  {
   "cell_type": "code",
   "execution_count": null,
   "id": "deadfacc-4fe6-47f5-9a27-deac05e007bd",
   "metadata": {},
   "outputs": [],
   "source": [
    "# Importerer riktig regionnummer fra KLASS og gir foretak som ikke er offentlige betegnelsen \"PRIVATE INSTITUSJONER\"\n",
    "skj47 = pd.merge(skj47, RHF_kode_klass[[\"HELSEREGION\", \"RHF\"]], how=\"left\" , left_on=\"REGION_NR\", right_on=\"HELSEREGION\")\n",
    "\n",
    "skj47['REGION_NAVN'] = skj47['RHF']\n",
    "skj47.REGION_NAVN = skj47.REGION_NAVN.fillna(\"PRIVATE INSTITUSJONER\")"
   ]
  },
  {
   "cell_type": "code",
   "execution_count": null,
   "id": "c32aa3e9-2b3c-4152-9f1c-0671a263ed33",
   "metadata": {},
   "outputs": [],
   "source": [
    "# Henter foretaksnavn til virksomhetene fra SFU\n",
    "foretaksnr47 = skj47.FORETAK_ORGNR.unique()\n",
    "foretaksnr47 = pd.DataFrame(foretaksnr47)\n",
    "foretaksnr47.columns = [\"ORGNR_FORETAK\"]\n",
    "\n",
    "finn_foretaksnavn = pd.merge(foretaksnr47, SFU_dhs_klass[[\"ORGNR\", \"NAVN\"]], how=\"left\", left_on=\"ORGNR_FORETAK\", right_on=\"ORGNR\")\n",
    "finn_foretaksnavn = finn_foretaksnavn[[\"ORGNR_FORETAK\", \"NAVN\"]]\n",
    "finn_foretaksnavn = finn_foretaksnavn.rename(columns={\"NAVN\": \"FORETAK_NAVN\", \n",
    "                                                      \"ORGNR_FORETAK\": \"FORETAK_ORGNR\"})\n",
    "\n",
    "skj47 = pd.merge(skj47, finn_foretaksnavn, how=\"left\", on=\"FORETAK_ORGNR\")"
   ]
  },
  {
   "cell_type": "code",
   "execution_count": null,
   "id": "60a31a59-9700-4dc7-ab90-6addae58ea07",
   "metadata": {},
   "outputs": [],
   "source": [
    "skj47 = skj47[[\"USERID\", \"REGION_NR\", \"REGION_NAVN\", \"FORETAK_ORGNR\", \"FORETAK_NAVN\", \"FINST_NAVN\",\"FINST_ORGNR\"] +\n",
    "                ['H_VAR2_N'] +\n",
    "                [\"SN07_1\"]]\n"
   ]
  },
  {
   "cell_type": "code",
   "execution_count": null,
   "id": "327b5b3a-83ef-4e02-8cd8-d1fc2ac83d0f",
   "metadata": {},
   "outputs": [],
   "source": [
    "# lager kolonnen INSTLIST med riktig antall \\n for at det skal passe med skjema. \n",
    "# Passer på at rapporteringsenhet kommer først i listen. (Enhet med H_VAR1_A lik orgnummer)\n",
    "\n",
    "finst_orgnr47 = pd.DataFrame(skj47['FINST_ORGNR'])\n",
    "\n",
    "df_til_instlist1 = pd.merge(SFU_dhs_klass, finst_orgnr47, left_on=\"H_VAR1_A\", right_on=\"FINST_ORGNR\")\n",
    "df_til_instlist1['rapporterer_til_annen_virksomhet'] = (df_til_instlist1.ORGNR != df_til_instlist1.H_VAR1_A)\n",
    "df_til_instlist1 = df_til_instlist1[['NAVN', 'ORGNR', \"FINST_ORGNR\", 'rapporterer_til_annen_virksomhet']]\n",
    "df_til_instlist1['orgnr_navn'] = df_til_instlist1['ORGNR'] + \" - \" + df_til_instlist1['NAVN']\n",
    "\n",
    "df_til_instlist2 = df_til_instlist1.query('~rapporterer_til_annen_virksomhet')[['ORGNR', 'orgnr_navn']]\n",
    "df_til_instlist3 = df_til_instlist1.query('rapporterer_til_annen_virksomhet')[[\"FINST_ORGNR\", 'orgnr_navn']]\n"
   ]
  },
  {
   "cell_type": "code",
   "execution_count": null,
   "id": "8798a670-a7dc-450d-99b2-d8dfd365a06d",
   "metadata": {},
   "outputs": [],
   "source": [
    "# mellomsteg for å legge institusjonene horisontalt ved siden av rapporteringsnummeret\n",
    "tmpdf = -1\n",
    "for finst_orgnr in df_til_instlist2.ORGNR.unique():\n",
    "    instliste = \"\\\\n\".join(df_til_instlist3.query(f'FINST_ORGNR==\"{finst_orgnr}\"').orgnr_navn)\n",
    "    if len(instliste) > 0:\n",
    "        if type(tmpdf) == int:\n",
    "            tmpdf = pd.DataFrame([finst_orgnr, instliste])\n",
    "        else:\n",
    "            nytt_tillegg = pd.DataFrame([finst_orgnr, instliste])\n",
    "            tmpdf = pd.concat([tmpdf, nytt_tillegg], axis=1)\n",
    "\n",
    "tmpdf = tmpdf.transpose()\n",
    "tmpdf.columns = ['FINST_ORGNR', 'INSTLISTE_HALE']"
   ]
  },
  {
   "cell_type": "code",
   "execution_count": null,
   "id": "0f9d901b-042b-436b-b6d9-4889d3dc263c",
   "metadata": {},
   "outputs": [],
   "source": [
    "df_til_instlist2 = df_til_instlist2.rename(columns={'ORGNR': 'FINST_ORGNR'})"
   ]
  },
  {
   "cell_type": "code",
   "execution_count": null,
   "id": "c213a00e-a9d7-47df-b280-b222e728bc3f",
   "metadata": {
    "tags": []
   },
   "outputs": [],
   "source": [
    "skj47 = pd.merge(skj47, df_til_instlist2, how=\"left\", on=\"FINST_ORGNR\")\n",
    "skj47 = pd.merge(skj47, tmpdf, how=\"left\", on=\"FINST_ORGNR\")\n",
    "skj47['INSTLISTE_HALE'] = skj47['INSTLISTE_HALE'].fillna(\"\\\\n\\\\n\\\\n\\\\n\\\\n\\\\n\\\\n\\\\n\\\\n\\\\n\\\\n\")\n",
    "skj47['antall_n_mangler'] = skj47['INSTLISTE_HALE'].apply(lambda x: 11-x.count(\"\\\\n\"))\n",
    "skj47['INSTLIST'] = skj47.apply(lambda x: x.orgnr_navn + \\\n",
    "                                            \"\\\\n\" + \\\n",
    "                                            x.INSTLISTE_HALE + \\\n",
    "                                            x.antall_n_mangler * (\"\\\\n\"),\n",
    "                                  axis=1)"
   ]
  },
  {
   "cell_type": "code",
   "execution_count": null,
   "id": "edb4d3d1-8a76-437a-9ec9-3511c1354dda",
   "metadata": {},
   "outputs": [],
   "source": [
    "skj47 = pd.merge(skj47, d_plass_fjor, how=\"left\", on=\"FINST_ORGNR\")"
   ]
  },
  {
   "cell_type": "code",
   "execution_count": null,
   "id": "4120a4d3-f992-4c19-b3a6-4b9877994429",
   "metadata": {},
   "outputs": [],
   "source": [
    "# Tar kun vare på de kolonnene jeg spesifiserte i begynnelsen \n",
    "skj47 = skj47[kolonner]"
   ]
  },
  {
   "cell_type": "code",
   "execution_count": null,
   "id": "6523ff69-6163-41d3-8649-bbe77655eba2",
   "metadata": {},
   "outputs": [],
   "source": [
    "skj47.shape"
   ]
  },
  {
   "cell_type": "markdown",
   "id": "ad679138-ee3c-43f5-a7d6-7c234f4b6a57",
   "metadata": {},
   "source": [
    "## skj48 (Praksiskonsulentordningen)"
   ]
  },
  {
   "cell_type": "code",
   "execution_count": null,
   "id": "360f6e74-730e-42a2-98b7-f56f4273b8a2",
   "metadata": {},
   "outputs": [],
   "source": [
    "onskede_kolonner = [\"USERID\", \"REGION_NR\", \"REGION_NAVN\", \"FORETAK_ORGNR\", \"FORETAK_NAVN\"]\n",
    "skj48 = tabell_som_inneholder_skjema(SFU_dhs_klass, 'SKJEMA_TYPE', \"48\").copy()\n",
    "skj48 = skj48[[\"NAVN_KLASS\", \"ORGNR_FORETAK\", \"HELSEREGION\"]]"
   ]
  },
  {
   "cell_type": "code",
   "execution_count": null,
   "id": "f4719f7b-1dec-43d5-bba1-a42f025a3cce",
   "metadata": {},
   "outputs": [],
   "source": [
    "skj48 = pd.merge(skj48, RHF_kode_klass[['HELSEREGION', 'RHF']], how=\"left\", on=\"HELSEREGION\")"
   ]
  },
  {
   "cell_type": "code",
   "execution_count": null,
   "id": "2472d39b-3e33-4397-871e-1e28bafcdbe2",
   "metadata": {},
   "outputs": [],
   "source": [
    "skj48 = pd.concat([skj48, HF])"
   ]
  },
  {
   "cell_type": "code",
   "execution_count": null,
   "id": "f8cafabc-e143-4535-8ae8-861177f453d6",
   "metadata": {
    "tags": []
   },
   "outputs": [],
   "source": [
    "skj48 = skj48.rename(columns={\"NAVN_KLASS\": \"FORETAK_NAVN\",\n",
    "                              \"ORGNR_FORETAK\": \"FORETAK_ORGNR\",\n",
    "                              \"HELSEREGION\": \"REGION_NR\",\n",
    "                              \"RHF\": \"REGION_NAVN\"})"
   ]
  },
  {
   "cell_type": "code",
   "execution_count": null,
   "id": "a9f62322-3aa2-42f2-9514-3c490fcbfc16",
   "metadata": {},
   "outputs": [],
   "source": [
    "skj48['USERID'] = skj48['FORETAK_ORGNR']"
   ]
  },
  {
   "cell_type": "code",
   "execution_count": null,
   "id": "1c54a525-e7a2-4be5-84ee-9d06c8c8d63c",
   "metadata": {},
   "outputs": [],
   "source": [
    "skj48 = skj48[onskede_kolonner] \\\n",
    "    .sort_values(\"REGION_NR\") \\\n",
    "    .reset_index(drop=True)"
   ]
  },
  {
   "cell_type": "markdown",
   "id": "7f3339d1-b502-44e1-957d-36307154f700",
   "metadata": {},
   "source": [
    "# Eksportering til .csv-filer og rapport"
   ]
  },
  {
   "cell_type": "code",
   "execution_count": null,
   "id": "75e9dc71-18fd-4b82-a8c9-18bd5ceee0fa",
   "metadata": {},
   "outputs": [],
   "source": [
    "def rapport(skj):\n",
    "    rader = eval(skj).shape[0]\n",
    "    rader_med_missing = rader - eval(skj).dropna().shape[0]\n",
    "    skl = 50 * \"-\"\n",
    "    s = f\"{skl}\\n{skj}\\nRader: {rader} \\t Rader med missing: {rader_med_missing}\"\n",
    "    return s\n",
    "\n",
    "def lagre_dropliste_csv(skj):\n",
    "    sti = f\"Droplister {aargang}/\"\n",
    "    filnavn = \"Dropliste_\" + skj + \"_\" + str(aargang) + \".csv\"\n",
    "    eval(skj).to_csv(sti + filnavn, sep=\";\", encoding='latin1', index=False)"
   ]
  },
  {
   "cell_type": "code",
   "execution_count": null,
   "id": "a099d5b5-d745-4bb7-a4f6-bb05ca2972c2",
   "metadata": {},
   "outputs": [],
   "source": [
    "for x in skjemaer_til_droplister:\n",
    "    print(rapport(x))"
   ]
  },
  {
   "cell_type": "code",
   "execution_count": null,
   "id": "f0ee61b4-28a2-4d1b-9e4e-0395c5ecf1db",
   "metadata": {},
   "outputs": [],
   "source": [
    "## For å lagre filene. Opprett undermappe og kjør denne cellen\n",
    "# for x in skjemaer_til_droplister:\n",
    "#     lagre_dropliste_csv(x)"
   ]
  }
 ],
 "metadata": {
  "kernelspec": {
   "display_name": "Python 3",
   "language": "python",
   "name": "python3-new"
  },
  "language_info": {
   "codemirror_mode": {
    "name": "ipython",
    "version": 3
   },
   "file_extension": ".py",
   "mimetype": "text/x-python",
   "name": "python",
   "nbconvert_exporter": "python",
   "pygments_lexer": "ipython3",
   "version": "3.8.8"
  },
  "toc-autonumbering": true
 },
 "nbformat": 4,
 "nbformat_minor": 5
}
