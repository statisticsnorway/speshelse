{
 "cells": [
  {
   "cell_type": "code",
   "execution_count": null,
   "id": "28842517-cc40-4289-9d1e-b05f47ce5792",
   "metadata": {},
   "outputs": [],
   "source": [
    "# library(tidyverse)\n",
    "\n",
    "# aargang <- 2021\n",
    "# bereg_filsti <- paste0(\"/ssb/stamme04/bereg/person/wk24/bosatte_koorfil_g\", aargang, \"m01d01eslep.sas7bdat\")\n",
    "\n",
    "# bereg <- haven::read_sas(bereg_filsti)\n",
    "\n",
    "# nrow(bereg)\n",
    "\n",
    "# bereg <- bereg %>%\n",
    "# dplyr::select(bydel, gkrets, X_KOORDINAT, X_KOORDINAT)\n",
    "\n",
    "# head(bereg)\n",
    "\n",
    "# bereg_grunnkrets <- bereg %>%\n",
    "# group_by(gkrets) %>%\n",
    "# tally()\n",
    "\n",
    "# nrow(bereg_grunnkrets)"
   ]
  },
  {
   "cell_type": "markdown",
   "id": "94f9cb6b-e3f8-42d6-917e-f3cff93e4833",
   "metadata": {},
   "source": [
    "### Laster inn pakker "
   ]
  },
  {
   "cell_type": "code",
   "execution_count": null,
   "id": "a37ee664-0a83-468f-8a44-9c024a6c3dc6",
   "metadata": {},
   "outputs": [],
   "source": [
    "sf::sf_use_s2(FALSE)\n",
    "\n",
    "library(tidyverse)\n",
    "library(readxl)\n",
    "library(klassR)\n",
    "library(sf)\n",
    "library(leaflet)"
   ]
  },
  {
   "cell_type": "markdown",
   "id": "9f516cd4-a81f-4e39-8c86-f431b0096392",
   "metadata": {},
   "source": [
    "### Velger årgang og kobler til X-disken"
   ]
  },
  {
   "cell_type": "code",
   "execution_count": null,
   "id": "03d5661c-5302-4262-9d32-77c4628cb60a",
   "metadata": {},
   "outputs": [],
   "source": [
    "aargang <- 2021\n",
    "\n",
    "# Logg på for å få tilgang til data fra X-disken\n",
    "system(\"kinit\", input = getPass::getPass(\"Skriv inn Windows-passord\"))"
   ]
  },
  {
   "cell_type": "markdown",
   "id": "3037f7bf-c1f5-4039-8874-5eec1664914c",
   "metadata": {},
   "source": [
    "### Henter befolkningstall fra tabell 04317\n",
    "\n",
    "OBS: erstatt med egen fil laget fra befolkningsregisteret? (for å få med under og over 18 år?)"
   ]
  },
  {
   "cell_type": "code",
   "execution_count": null,
   "id": "bf9f46fa-52d6-4c7e-836d-3e43951c81a8",
   "metadata": {},
   "outputs": [],
   "source": [
    "T04317 <- PxWebApiData::ApiData(04317, ContentsCode = \"Personer\", \n",
    "                                Grunnkretser = T, \n",
    "                                Tid = as.character(aargang)) [[2]] %>%\n",
    "  dplyr::filter(!is.na(value)) %>%\n",
    "  dplyr::rename(grunnkretsnummer = Grunnkretser, \n",
    "                personer = value) %>%\n",
    "  dplyr::select(grunnkretsnummer, personer)"
   ]
  },
  {
   "cell_type": "markdown",
   "id": "263f6545-05c0-4963-93d2-77c37f54459e",
   "metadata": {},
   "source": [
    "### Opptaksområder KLASS"
   ]
  },
  {
   "cell_type": "code",
   "execution_count": null,
   "id": "154b5b8d-38a5-407d-82e5-877354b95da3",
   "metadata": {},
   "outputs": [],
   "source": [
    "opptak <- readxl::read_excel(\"/ssb/bruker/rdn/Opptaksområder HF.xlsx\")\n",
    "opptak$kommunenummer <- gsub(\".*if address = \", \"\", opptak$opptaksomrade)\n",
    "opptak$kommunenummer <- substr(opptak$kommunenummer, 1, 4)\n",
    "opptak$opptak <- sub('.*opptaksomr =', '', opptak$opptaksomrade)\n",
    "opptak$opptak <- gsub('\"', \"\", opptak$opptak)\n",
    "opptak$opptak <- gsub(';', \"\", opptak$opptak)\n",
    "opptak$opptak <- stringr::str_trim(opptak$opptak)\n",
    "opptak[\"opptaksomrade\"] <- NULL\n",
    "\n",
    "KLASS_kommune <- klassR::GetKlass(131, output_level = 1, date = c(paste0(aargang, \"-01-01\"))) %>%\n",
    "  dplyr::rename(kommunenummer = code,\n",
    "                kommunenavn = name) %>%\n",
    "  dplyr::filter(kommunenummer != \"9999\") %>%\n",
    "  dplyr::left_join(opptak, by = \"kommunenummer\") %>%\n",
    "  dplyr::mutate(HF = case_when(\n",
    "    opptak == \"Oslo\" ~ \"OSLO UNIVERSITETSSYKEHUS HF\",\n",
    "    opptak == \"Stavanger\" ~ \"HELSE STAVANGER HF\",\n",
    "    opptak == \"Fonna\" ~ \"HELSE FONNA HF\",\n",
    "    opptak == \"Møre-Romsdal\" ~ \"HELSE MØRE OG ROMSDAL HF\",\n",
    "    opptak == \"Nordland\" ~ \"NORDLANDSSYKEHUSET HF\",\n",
    "    opptak == \"UNN\" ~ \"UNIVERSITETSSYKEHUSET NORD-NORGE HF\",\n",
    "    opptak == \"Helgeland\" ~ \"HELGELANDSSYKEHUSET HF\",\n",
    "    opptak == \"Østfold\" ~ \"SYKEHUSET ØSTFOLD HF\",\n",
    "    opptak == \"V-Viken\" ~ \"VESTRE VIKEN HF\",\n",
    "    opptak == \"Ahus\" ~ \"AKERSHUS UNIVERSITETSSYKEHUS HF\",\n",
    "    opptak == \"Innlandet\" ~ \"SYKEHUSET INNLANDET HF\",\n",
    "    opptak == \"Vestfold\" ~ \"SYKEHUSET I VESTFOLD HF\",\n",
    "    opptak == \"Telemark\" ~ \"SYKEHUSET TELEMARK HF\",\n",
    "    opptak == \"Sørlandet\" ~ \"SØRLANDET SYKEHUS HF\",\n",
    "    opptak == \"Bergen\" ~ \"HELSE BERGEN HF\",\n",
    "    opptak == \"Sogn-Fjordane\" ~ \"HELSE FØRDE HF\", # OBS?\n",
    "    opptak == \"St.Olav\" ~ \"ST OLAVS HOSPITAL HF\",\n",
    "    opptak == \"N-Trøndelag\" ~ \"HELSE NORD-TRØNDELAG HF\",\n",
    "    opptak == \"Finnmark\" ~ \"FINNMARKSSYKEHUSET HF\",\n",
    "    TRUE ~ \"\"\n",
    "  )) %>%\n",
    "  dplyr::select(kommunenummer, kommunenavn, HF) %>%\n",
    "  dplyr::mutate(HF = case_when(\n",
    "    kommunenummer == \"4623\" ~ \"HARALDSPLASS DIAKONALE SYKEHUS AS\", \n",
    "    TRUE ~ HF\n",
    "  ))\n",
    "\n",
    "KLASS_grunnkrets <- klassR::GetKlass(131, correspond = 1) %>%\n",
    "  dplyr::rename(kommunenummer = sourceCode, \n",
    "                grunnkretsnummer = targetCode) %>%\n",
    "  dplyr::filter(grunnkretsnummer != \"03019999\") %>%\n",
    "  dplyr::select(kommunenummer, grunnkretsnummer) %>%\n",
    "  dplyr::left_join(KLASS_kommune, by = \"kommunenummer\") %>%\n",
    "  dplyr::filter(kommunenummer != \"0301\") %>%\n",
    "  dplyr::select(grunnkretsnummer, HF)\n",
    "\n",
    "### Bydel fix ###\n",
    "KLASS_bydel_oslo <- klassR::GetKlass(103, correspond = 1) %>%\n",
    "  dplyr::rename(bydelsnummer = sourceCode, \n",
    "                grunnkretsnummer = targetCode) %>%\n",
    "  dplyr::select(bydelsnummer, grunnkretsnummer) %>%\n",
    "  dplyr::filter(substr(grunnkretsnummer, 1, 4) == \"0301\") %>%\n",
    "  dplyr::mutate(HF = case_when(\n",
    "    substr(bydelsnummer, 5, 6) %in% c(\"10\", \"11\", \"12\") ~ \"AKERSHUS UNIVERSITETSSYKEHUS HF\",\n",
    "    substr(bydelsnummer, 5, 6) %in% c(\"01\", \"02\", \"03\", \"04\") ~ \"LOVISENBERG DIAKONALE SYKEHUS AS\",\n",
    "    substr(bydelsnummer, 5, 6) %in% c(\"05\", \"06\", \"07\") ~ \"DIAKONHJEMMET SYKEHUS AS\",\n",
    "    TRUE ~ \"OSLO UNIVERSITETSSYKEHUS HF\"\n",
    "  )) %>%\n",
    "  dplyr::select(grunnkretsnummer, HF)\n",
    "\n",
    "opptaksomrader_HF <- rbind(KLASS_grunnkrets, KLASS_bydel_oslo) %>%\n",
    "  dplyr::left_join(T04317, by = \"grunnkretsnummer\")\n",
    "nrow(opptaksomrader_HF)\n",
    "\n",
    "opptaksomrader_HF$personer[is.na(opptaksomrader_HF$personer)] <- 0"
   ]
  },
  {
   "cell_type": "markdown",
   "id": "9ec55d01-d7de-4e7e-b02f-c0e9d9feddbb",
   "metadata": {},
   "source": [
    "### Laster inn kart (grunnkrets)"
   ]
  },
  {
   "cell_type": "code",
   "execution_count": null,
   "id": "334c0eb6-39ea-4ac6-afa9-fa6ead31eea7",
   "metadata": {},
   "outputs": [],
   "source": [
    "# sf::st_layers(paste0(\"Q:/GIS-ressurssenter/KartdataQ/BasisKart/kart\", aargang, \".gdb\"))\n",
    "\n",
    "# grunnkrets_kart <- sf::read_sf(paste0(\"/ssb/x_disk/Felles/GIS-ressurssenter/KartdataQ/BasisKart/kart\", aargang, \".gdb\"), layer = paste0(\"ABAS_grunnkrets_utenhav_\", aargang)) %>%\n",
    "grunnkrets_kart <- sf::read_sf(paste0(\"/ssb/x_disk/Felles/GIS-ressurssenter/KartdataQ/BasisKart/kart\", aargang, \".gdb\"), layer = paste0(\"ABAS_grunnkrets_flate_\", aargang)) %>%\n",
    "  sf::st_transform(crs = 4326) %>%\n",
    "  dplyr::rename(grunnkretsnummer = GRUNNKRETS) %>%\n",
    "  dplyr::left_join(opptaksomrader_HF, by = \"grunnkretsnummer\")\n",
    "\n",
    "ssb_farger <- klassR::GetKlass(614, output_style = \"wide\") %>%\n",
    "  dplyr::rename(farge_nummer = code3, \n",
    "                HEX = name3, \n",
    "                farge = name2, \n",
    "                type = name1) %>%\n",
    "  dplyr::select(-code1, -code2) %>%\n",
    "  dplyr::filter(farge != \"Hvit\")\n",
    "\n",
    "pal_HF <- leaflet::colorFactor(ssb_farger$HEX, domain = as.factor(grunnkrets_kart$HF))"
   ]
  },
  {
   "cell_type": "markdown",
   "id": "6947996c-0123-4041-b87d-17d1570bc47e",
   "metadata": {},
   "source": [
    "### Lager kart over opptaksområder"
   ]
  },
  {
   "cell_type": "code",
   "execution_count": null,
   "id": "cc0529f3-0fb8-49ba-9f1c-ad7ba0d8ae7c",
   "metadata": {},
   "outputs": [],
   "source": [
    "# Slår sammen geometrier per opptaksområde (HF)\n",
    "opptaksomrader_HF <- grunnkrets_kart %>% \n",
    "  # filter(!HF %in% c(\"SYKEHUSET ØSTFOLD HF\")) %>%\n",
    "  dplyr::group_by(HF) %>%\n",
    "  dplyr::summarise(SHAPE = sf::st_union(sf::st_make_valid(SHAPE)),\n",
    "                   personer = sum(personer)) %>%\n",
    "  dplyr::ungroup()\n",
    "\n",
    "opptaksomrader_HF_leaflet <- leaflet::leaflet(options = leaflet::leafletOptions(zoomControl = FALSE)) %>% \n",
    "  leaflet::addTiles() %>%\n",
    "  leaflet::addPolygons(stroke = F, data = opptaksomrader_HF,\n",
    "                       # color = \"green\",\n",
    "                       weight = 1,\n",
    "                       fillColor = pal_HF(opptaksomrader_HF$HF),\n",
    "                       fillOpacity = 0.5, smoothFactor = 0.5, \n",
    "                       popup = paste0(\"Opptaksområde: \", opptaksomrader_HF$HF, \" / Befolkning: \", opptaksomrader_HF$personer)) %>%\n",
    "  leaflet::addLegend(\"bottomright\", pal = pal_HF, values = as.factor(opptaksomrader_HF$HF), opacity = 1)\n",
    "\n",
    "opptaksomrader_HF_leaflet\n",
    "\n",
    "htmlwidgets::saveWidget(opptaksomrader_HF_leaflet, file=\"./images/opptaksområder_HF.html\", selfcontained=T)"
   ]
  }
 ],
 "metadata": {
  "kernelspec": {
   "display_name": "R",
   "language": "R",
   "name": "ir"
  },
  "language_info": {
   "codemirror_mode": "r",
   "file_extension": ".r",
   "mimetype": "text/x-r-source",
   "name": "R",
   "pygments_lexer": "r",
   "version": "4.1.3"
  }
 },
 "nbformat": 4,
 "nbformat_minor": 5
}
