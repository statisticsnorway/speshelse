{
 "cells": [
  {
   "cell_type": "markdown",
   "id": "4366f0b4-770c-47c3-ae86-96592f627c23",
   "metadata": {},
   "source": [
    "# Opptaksområder SOM\n",
    "\n",
    "OBS: ikke riktig totaltall 2014-2019"
   ]
  },
  {
   "cell_type": "code",
   "execution_count": null,
   "id": "d9e460ae-d8c3-43a9-af09-56a55e244864",
   "metadata": {},
   "outputs": [],
   "source": [
    "start.time <- Sys.time()"
   ]
  },
  {
   "cell_type": "code",
   "execution_count": null,
   "id": "9656d884-85a3-4a1f-8da4-e0f41a603f4e",
   "metadata": {},
   "outputs": [],
   "source": [
    "utenhav <- TRUE\n",
    "\n",
    "if (utenhav == TRUE) {\n",
    "filsti_med_uten_hav <- \"utenhav\"\n",
    "    } else if (utenhav == FALSE) {\n",
    "  filsti_med_uten_hav <- \"flate\"\n",
    "}\n",
    "\n",
    "filsti_med_uten_hav"
   ]
  },
  {
   "cell_type": "markdown",
   "id": "94f9cb6b-e3f8-42d6-917e-f3cff93e4833",
   "metadata": {},
   "source": [
    "### Laster inn pakker "
   ]
  },
  {
   "cell_type": "code",
   "execution_count": null,
   "id": "a37ee664-0a83-468f-8a44-9c024a6c3dc6",
   "metadata": {},
   "outputs": [],
   "source": [
    "sf::sf_use_s2(FALSE)\n",
    "CRS <- 25833\n",
    "\n",
    "suppressPackageStartupMessages({ \n",
    "library(tidyverse)\n",
    "library(readxl)\n",
    "library(klassR)\n",
    "library(sf)\n",
    "library(leaflet)\n",
    "        })"
   ]
  },
  {
   "cell_type": "markdown",
   "id": "9f516cd4-a81f-4e39-8c86-f431b0096392",
   "metadata": {},
   "source": [
    "### Velger årgang"
   ]
  },
  {
   "cell_type": "code",
   "execution_count": null,
   "id": "03d5661c-5302-4262-9d32-77c4628cb60a",
   "metadata": {},
   "outputs": [],
   "source": [
    "aargang <- 2022"
   ]
  },
  {
   "cell_type": "markdown",
   "id": "1ecfb980-d166-42f3-a6e8-c327e362f1ff",
   "metadata": {},
   "source": [
    "### Filstier"
   ]
  },
  {
   "cell_type": "code",
   "execution_count": null,
   "id": "d898852a-7f24-4b66-97ed-5206bc7ea5d2",
   "metadata": {},
   "outputs": [],
   "source": [
    "# arbeidsmappe <- \"/ssb/stamme01/fylkhels/speshelse/felles/\"\n",
    "# arbeidsmappe_kart <- paste0(arbeidsmappe, \"kart/\", aargang, \"/\")\n",
    "\n",
    "# arbeidsmappe_opptak <- paste0(arbeidsmappe, \"opptaksomrader/\", aargang, \"/\")\n",
    "\n",
    "# if (file.exists(arbeidsmappe_opptak)==FALSE) {\n",
    "#   dir.create(arbeidsmappe_opptak)\n",
    "# }"
   ]
  },
  {
   "cell_type": "code",
   "execution_count": null,
   "id": "e40cafd9-3482-4c06-9a04-a1f41bd4edee",
   "metadata": {},
   "outputs": [],
   "source": [
    "if (grepl(\"onprem\", Sys.getenv(\"JUPYTER_IMAGE_SPEC\")) | Sys.getenv(\"JUPYTER_IMAGE_SPEC\") == \"\") {\n",
    "    \n",
    "    arbeidsmappe <- \"/ssb/stamme01/fylkhels/speshelse/felles/\"\n",
    "    arbeidsmappe_kart <- paste0(arbeidsmappe, \"kart/\", aargang, \"/\")\n",
    "    arbeidsmappe_opptak <- paste0(arbeidsmappe, \"opptaksomrader/\", aargang, \"/\")\n",
    "    \n",
    "    if (utenhav == FALSE) {\n",
    "    grunnkrets_kart_filsti <- paste0(arbeidsmappe_kart, \"ABAS_grunnkrets_flate_\", aargang, \".parquet\")\n",
    "        }\n",
    "    if (utenhav == TRUE) {\n",
    "    grunnkrets_kart_filsti <- paste0(arbeidsmappe_kart, \"ABAS_grunnkrets_utenhav_\", aargang, \".parquet\")\n",
    "\n",
    "        }\n",
    "    \n",
    "} else if (grepl(\"dapla\", Sys.getenv(\"JUPYTER_IMAGE_SPEC\"))) {\n",
    "    \n",
    "    source(\"/home/jovyan/fellesr/R/DAPLA_funcs.R\")\n",
    "    \n",
    "    arbeidsmappe_kart <- paste0(\"ssb-prod-dapla-felles-data-delt/GIS/Kart/\", aargang, \"/\")\n",
    "    # arbeidsmappe <- \"/ssb/stamme01/fylkhels/speshelse/felles/\"\n",
    "    \n",
    "    if (utenhav == FALSE) {\n",
    "    grunnkrets_kart_filsti <- paste0(arbeidsmappe_kart, \"ABAS_grunnkrets_flate_\", aargang, \"/\")\n",
    "        }\n",
    "    if (utenhav == TRUE) {\n",
    "    grunnkrets_kart_filsti <- paste0(arbeidsmappe_kart, \"ABAS_grunnkrets_utenhav_\", aargang, \"/\")\n",
    "        }\n",
    "\n",
    "    \n",
    "}\n",
    "\n",
    "\n",
    "# if (file.exists(arbeidsmappe_opptak)==FALSE) {\n",
    "#   dir.create(arbeidsmappe_opptak)\n",
    "# }"
   ]
  },
  {
   "cell_type": "markdown",
   "id": "fa1cb2b4-0505-4fc7-adb1-318b6fa9caf2",
   "metadata": {},
   "source": [
    "### SSB fargepalett"
   ]
  },
  {
   "cell_type": "code",
   "execution_count": null,
   "id": "a1a0dbcb-9f8f-4bee-ab26-64e1a79b21b0",
   "metadata": {},
   "outputs": [],
   "source": [
    "ssb_farger <- klassR::GetKlass(614, output_style = \"wide\") %>%\n",
    "  dplyr::rename(farge_nummer = code3, \n",
    "                HEX = name3, \n",
    "                farge = name2, \n",
    "                type = name1) %>%\n",
    "  dplyr::select(-code1, -code2) %>%\n",
    "  dplyr::filter(farge != \"Hvit\")"
   ]
  },
  {
   "cell_type": "markdown",
   "id": "7de82cf1-4ea7-4945-83fa-4077bc21e0ef",
   "metadata": {},
   "source": [
    "## Laster inn kart (grunnkrets)"
   ]
  },
  {
   "cell_type": "code",
   "execution_count": null,
   "id": "2fda5222-35eb-4daa-ba7b-0ba5ddc0726f",
   "metadata": {},
   "outputs": [],
   "source": [
    "start.time <- Sys.time()\n",
    "\n",
    "  rename_geometry <- function(g, name){\n",
    "    current = attr(g, \"sf_column\")\n",
    "    names(g)[names(g)==current] = name\n",
    "    sf::st_geometry(g)=name\n",
    "    g\n",
    "  }\n",
    "\n",
    "# grunnkrets_kart_filsti <- paste0(arbeidsmappe_kart, \"ABAS_grunnkrets_utenhav_\", aargang, \".parquet\")\n",
    "# grunnkrets_kart_filsti <- paste0(arbeidsmappe_kart, \"ABAS_grunnkrets_flate_\", aargang, \".parquet\")\n",
    "\n",
    "# Lese inn filen som parquet med sfarrow\n",
    "grunnkrets_kart <- sfarrow::st_read_parquet(grunnkrets_kart_filsti) %>%\n",
    "sf::st_zm(drop = T) %>%\n",
    "sf::st_cast(\"MULTIPOLYGON\") %>%\n",
    "  sf::st_transform(crs = CRS) %>%\n",
    "  dplyr::rename(GRUNNKRETSNUMMER = GRUNNKRETS)\n",
    "\n",
    "grunnkrets_kart <- rename_geometry(grunnkrets_kart, \"geometry\")\n",
    "sf::st_geometry(grunnkrets_kart) <- \"geometry\"\n",
    "\n",
    "end.time <- Sys.time()\n",
    "time.taken <- end.time - start.time\n",
    "time.taken"
   ]
  },
  {
   "cell_type": "code",
   "execution_count": null,
   "id": "1131a4b8-5d3b-4a03-bfef-0839be333166",
   "metadata": {},
   "outputs": [],
   "source": [
    "if (aargang == 2017) {\n",
    "grunnkrets_kart <- grunnkrets_kart %>%\n",
    "dplyr::mutate(GRUNNKRETSNUMMER = case_when(\n",
    "    GRUNNKRETSNUMMER == \"00101609\" ~ \"07101609\", # Storevahr har feil grunnkretsnummer i filen!\n",
    "    TRUE ~ GRUNNKRETSNUMMER))\n",
    "    }"
   ]
  },
  {
   "cell_type": "markdown",
   "id": "ff119b8e-c667-4275-aeb1-841ff9a7f276",
   "metadata": {},
   "source": [
    "## Kodeliste for opptaksområder i spesialisthelsetjenesten (somatikk)\n",
    "\n",
    "+ OBS: endre alle navn til CAPS LOCK?"
   ]
  },
  {
   "cell_type": "code",
   "execution_count": null,
   "id": "b1e55528-fbb0-4d5f-b7c7-672b2a3cb50f",
   "metadata": {},
   "outputs": [],
   "source": [
    "opptaksomrader_KLASS <- klassR::GetKlass(629, output_style = \"wide\", date = c(paste0(aargang, \"-01-01\"))) %>%\n",
    "dplyr::rename(GRUNNKRETSNUMMER = code4, \n",
    "             GRUNNKRETS_NAVN = name4, \n",
    "             OPPTAK_NUMMER = code3, \n",
    "             OPPTAK = name3, \n",
    "             ORGNR_HF = code2, \n",
    "             NAVN_HF = name2, \n",
    "             ORGNR_RHF = code1, \n",
    "             NAVN_RHF = name1)\n",
    "\n",
    "nrow(opptaksomrader_KLASS)"
   ]
  },
  {
   "cell_type": "code",
   "execution_count": null,
   "id": "ca780689-e2fe-46fd-b583-27917710a919",
   "metadata": {},
   "outputs": [],
   "source": [
    "opptaksomrader_KLASS %>%\n",
    "head()\n",
    "\n",
    "orgnr_foretak <- c(unique(opptaksomrader_KLASS$ORGNR_HF), \"984027737\")"
   ]
  },
  {
   "cell_type": "markdown",
   "id": "15de697c-26cb-474b-96dd-e15abf7eacea",
   "metadata": {},
   "source": [
    "## Akuttmottak"
   ]
  },
  {
   "cell_type": "code",
   "execution_count": null,
   "id": "9feb3369-6102-4f4e-b17e-788020c4f3d2",
   "metadata": {},
   "outputs": [],
   "source": [
    "# source(\"/ssb/bruker/rdn/fellesr/R/dynarev_uttrekk.R\")\n",
    "# con <- dynarev_uttrekk(con_ask = \"con\")\n",
    "\n",
    "# vof_for <- dplyr::tbl(con, dbplyr::in_schema(\"DSBBASE\", \"SSB_FORETAK\")) %>%\n",
    "#   dplyr::filter(ORGNR %in% orgnr_foretak) %>%\n",
    "#   dplyr::select(FORETAKS_NR, ORGNR, NAVN) %>%\n",
    "#   dplyr::rename(ORGNR_FORETAK = ORGNR, \n",
    "#                 NAVN_FORETAK = NAVN)\n",
    "\n",
    "# vof <- dplyr::tbl(con, dbplyr::in_schema(\"DSBBASE\", \"SSB_BEDRIFT\")) %>%\n",
    "#   dplyr::mutate(NAVN_BEDRIFT = paste0(NAVN, \" \", KARAKTERISTIKK), \n",
    "#                 BEDRIFTS_NR_GDATO_year = year(BEDRIFTS_NR_GDATO), \n",
    "#                 RECORD_ED_year = year(RECORD_ED)) %>%\n",
    "#   dplyr::filter(BEDRIFTS_NR_GDATO_year <= aargang,\n",
    "#                 RECORD_ED_year >= aargang) %>%\n",
    "#   dplyr::select(FORETAKS_NR, ORGNR, NAVN_BEDRIFT, SN07_1, SB_TYPE, F_ADRESSE1, F_POSTNR) %>%\n",
    "#   dplyr::rename(ORGNR_BEDRIFT = ORGNR) %>%\n",
    "#   dplyr::inner_join(vof_for, by = \"FORETAKS_NR\") %>%\n",
    "#   dplyr::collect()"
   ]
  },
  {
   "cell_type": "code",
   "execution_count": null,
   "id": "45ff9822-231b-4f61-a05d-8afc183e86a7",
   "metadata": {},
   "outputs": [],
   "source": [
    "# opptak_test <- data.frame(unique(opptaksomrader_KLASS$OPPTAK))\n",
    "# colnames(opptak_test)[1] <- \"OPPTAK\"\n",
    "\n",
    "# opptak_test <- opptak_test %>%\n",
    "# dplyr::mutate(OPPTAK_ORGNR = case_when(\n",
    "# OPPTAK == \"Akershus\" ~ \"974631776\", # c(\"974631776\", \"974706490\", \"974705192\"),\n",
    "# OPPTAK == \"Stavanger\" ~ \"974703300\",\n",
    "# OPPTAK == \"Haugesund\" ~ \"974724774\",\n",
    "# OPPTAK == \"Kristiansund\" ~ \"974746948\", \n",
    "# OPPTAK == \"Molde\" ~ \"974745569\",\n",
    "# OPPTAK == \"Ålesund\" ~ \"974747138\",\n",
    "# OPPTAK == \"Volda\" ~ \"974747545\",\n",
    "# OPPTAK == \"Orkdal\" ~ \"974329506\",\n",
    "# OPPTAK == \"Bodø\" ~ \"974795361\",\n",
    "# OPPTAK == \"Narvik\" ~ \"974795396\",\n",
    "# OPPTAK == \"Sandnessjøen\" ~ \"974795477\",\n",
    "# OPPTAK == \"Mosjøen\" ~ \"974795485\",\n",
    "# OPPTAK == \"Mo i Rana\" ~ \"974795515\",\n",
    "# OPPTAK == \"Harstad\" ~ \"974795639\",\n",
    "# OPPTAK == \"Lofoten\" ~ \"974795558\",\n",
    "# OPPTAK == \"Vesterålen\" ~ \"974795574\",\n",
    "# OPPTAK == \"Østfold\" ~ \"974633752\",\n",
    "# OPPTAK == \"Drammen\" ~ \"974631326\",\n",
    "# OPPTAK == \"Kongsberg\" ~ \"974631385\",\n",
    "# OPPTAK == \"Bærum\" ~ \"974705788\",\n",
    "# OPPTAK == \"Kongsvinger\" ~ \"974631776\",\n",
    "# OPPTAK == \"Gjøvik\" ~ \"974632535\",\n",
    "# OPPTAK == \"Elverum-Hamar\" ~ \"974631768\",\n",
    "# OPPTAK == \"Lillehammer\" ~ \"874632562\",\n",
    "# OPPTAK == \"Tynset\" ~ \"974725215\",\n",
    "# OPPTAK == \"Vestfold\" ~ \"823247672\",\n",
    "# OPPTAK == \"Skien\" ~ \"974633191\",\n",
    "# OPPTAK == \"Notodden\" ~ \"974633159\",\n",
    "# OPPTAK == \"Arendal\" ~ \"974631091\",\n",
    "# OPPTAK == \"Kristiansand\" ~ \"974733013\",\n",
    "# OPPTAK == \"Flekkefjord\" ~ \"974595214\",\n",
    "# OPPTAK == \"Haraldsplass\" ~ \"974316285\", # 924913061?\n",
    "# OPPTAK == \"Førde\" ~ \"974744570\",\n",
    "# OPPTAK == \"Stord\" ~ \"974742985\",\n",
    "# OPPTAK == \"Odda\" ~ \"974743086\",\n",
    "# OPPTAK == \"Voss\" ~ \"974743272\",\n",
    "# OPPTAK == \"Lærdal\" ~ \"974745089\",\n",
    "# OPPTAK == \"Nordfjord\" ~ \"974745364\",\n",
    "# OPPTAK == \"St. Olavs hospital\" ~ \"974749025\",\n",
    "# OPPTAK == \"Levanger\" ~ \"974754118\",\n",
    "# OPPTAK == \"Namsos\" ~ \"974753898\",\n",
    "# OPPTAK == \"Tromsø\" ~ \"974795787\",\n",
    "# OPPTAK == \"Ringerike\" ~ \"974631407\",\n",
    "# OPPTAK == \"Haukeland\" ~ \"974557746\",\n",
    "# OPPTAK == \"Hammerfest\" ~ \"974795833\",\n",
    "# OPPTAK == \"Kirkenes\" ~ \"974795930\",\n",
    "# OPPTAK == \"Oslo universitetssykehus\" ~ \"974588951\",\n",
    "# OPPTAK == \"Diakonhjemmet\" ~ \"974116804\", # ???\n",
    "# OPPTAK == \"Lovisenberg\" ~ \"974207532\", # ???\n",
    "    \n",
    "# TRUE ~ \"\"\n",
    "# ))\n",
    "\n",
    "# opptak_test_1 <- opptak_test %>%\n",
    "# dplyr::filter(OPPTAK %in% c(\"Oslo universitetssykehus\", \n",
    "#                            \"Akershus\", \n",
    "#                            \"Østfold\", \n",
    "#                            \"St. Olavs hospital\", \n",
    "#                            \"Elverum-Hamar\")) %>%\n",
    "# dplyr::mutate(OPPTAK_ORGNR = case_when(\n",
    "# OPPTAK == \"St. Olavs hospital\" ~ \"974749505\", \n",
    "#     OPPTAK == \"Elverum-Hamar\" ~ \"974724960\", \n",
    "#     OPPTAK == \"Østfold\" ~ \"974633655\", # 974633698\n",
    "#     OPPTAK == \"Akershus\" ~ \"974706490\", # 974705192\n",
    "#     OPPTAK == \"Oslo universitetssykehus\" ~ \"974589095\", # 874716782 / 998152291\n",
    "    \n",
    "# TRUE ~ OPPTAK_ORGNR\n",
    "# ))\n",
    "\n",
    "# opptak_test_2 <- opptak_test %>%\n",
    "# dplyr::filter(OPPTAK %in% c(\"Oslo universitetssykehus\", \n",
    "#                            \"Akershus\", \n",
    "#                            \"Østfold\")) %>%\n",
    "# dplyr::mutate(OPPTAK_ORGNR = case_when(\n",
    "#     OPPTAK == \"Østfold\" ~ \"974633698\",\n",
    "#     OPPTAK == \"Akershus\" ~ \"974705192\",\n",
    "#     OPPTAK == \"Oslo universitetssykehus\" ~ \"874716782\", # 998152291\n",
    "    \n",
    "# TRUE ~ OPPTAK_ORGNR\n",
    "# ))\n",
    "\n",
    "# opptak_test_3 <- opptak_test %>%\n",
    "# dplyr::filter(OPPTAK %in% c(\"Oslo universitetssykehus\")) %>%\n",
    "# dplyr::mutate(OPPTAK_ORGNR = case_when(\n",
    "#     OPPTAK == \"Oslo universitetssykehus\" ~ \"998152291\",\n",
    "# TRUE ~ OPPTAK_ORGNR\n",
    "# ))\n",
    "\n",
    "# opptak_test_alle <- rbind(opptak_test, opptak_test_1, opptak_test_2, opptak_test_3)"
   ]
  },
  {
   "cell_type": "code",
   "execution_count": null,
   "id": "2c520333-fbf4-4387-8b0a-3775a999c5f0",
   "metadata": {},
   "outputs": [],
   "source": [
    "# # vof %>%\n",
    "# # dplyr::filter(SN07_1 == \"86.101\", \n",
    "# #              grepl(\"SOMATIKK\", NAVN_BEDRIFT), \n",
    "# #              ORGNR_FORETAK == \"997005562\")\n",
    "\n",
    "# # head(opptak_test_alle)\n",
    "# # head(vof)\n",
    "\n",
    "# nrow(opptak_test_alle)\n",
    "\n",
    "# opptak_test_alle_2 <- opptak_test_alle %>%\n",
    "# dplyr::left_join(vof, by = c(\"OPPTAK_ORGNR\" = \"ORGNR_BEDRIFT\")) %>%\n",
    "# dplyr::select(-FORETAKS_NR, -SB_TYPE)\n",
    "\n",
    "# opptak_test_alle_2"
   ]
  },
  {
   "cell_type": "markdown",
   "id": "2871a3f3-74d4-4f4c-a89a-44ae7ff9dad9",
   "metadata": {},
   "source": [
    "### Sjekker antall grunnkretser mot KLASS"
   ]
  },
  {
   "cell_type": "code",
   "execution_count": null,
   "id": "266e781c-765f-4ead-8393-046787441bd8",
   "metadata": {},
   "outputs": [],
   "source": [
    "grunnkrets_KLASS <- klassR::GetKlass(1, output_style = \"wide\", date = c(paste0(aargang, \"-01-01\")))\n",
    "\n",
    "nrow(grunnkrets_KLASS)\n",
    "\n",
    "mangler_fra_KLASS <- grunnkrets_KLASS %>%\n",
    "dplyr::filter(!code2 %in% unique(opptaksomrader_KLASS$GRUNNKRETSNUMMER))\n",
    "\n",
    "unique(mangler_fra_KLASS$name2)\n",
    "nrow(mangler_fra_KLASS)\n",
    "head(mangler_fra_KLASS)"
   ]
  },
  {
   "cell_type": "markdown",
   "id": "e1fa2144-a648-40d0-b182-574cf207a47f",
   "metadata": {},
   "source": [
    "### Sjekker om noen grunnkretser mangler fra kartet"
   ]
  },
  {
   "cell_type": "code",
   "execution_count": null,
   "id": "2c6f5a36-f38c-4338-9f8c-6e29f2bfccbf",
   "metadata": {},
   "outputs": [],
   "source": [
    "test <- dplyr::left_join(opptaksomrader_KLASS, grunnkrets_kart, by = \"GRUNNKRETSNUMMER\") %>%\n",
    "data.frame() %>%\n",
    "dplyr::filter(is.na(KOMMUNENR))\n",
    "\n",
    "nrow(test)\n",
    "unique(test$GRUNNKRETS_NAVN)"
   ]
  },
  {
   "cell_type": "code",
   "execution_count": null,
   "id": "12258904-953c-49d4-9c5c-3398511ba888",
   "metadata": {},
   "outputs": [],
   "source": [
    "# colnames(grunnkrets_kart)\n",
    "\n",
    "# grunnkrets_kart %>%\n",
    "# dplyr::filter(GRUNNKRETSNUMMER == \"18041014\")"
   ]
  },
  {
   "cell_type": "markdown",
   "id": "3037f7bf-c1f5-4039-8874-5eec1664914c",
   "metadata": {},
   "source": [
    "## Henter befolkningstall fra tabell 04317\n",
    "\n",
    "OBS: erstatt med egen fil laget fra befolkningsregisteret? (for å få med under og over 18 år?)"
   ]
  },
  {
   "cell_type": "code",
   "execution_count": null,
   "id": "bf9f46fa-52d6-4c7e-836d-3e43951c81a8",
   "metadata": {},
   "outputs": [],
   "source": [
    "T04317 <- PxWebApiData::ApiData(04317, ContentsCode = \"Personer\", \n",
    "                                Grunnkretser = TRUE, \n",
    "                                Tid = as.character(aargang)) [[2]] %>%\n",
    "  dplyr::filter(!is.na(value)) %>%\n",
    "  dplyr::rename(GRUNNKRETSNUMMER = Grunnkretser,\n",
    "                PERSONER = value) %>%\n",
    "  dplyr::select(GRUNNKRETSNUMMER, PERSONER)"
   ]
  },
  {
   "cell_type": "code",
   "execution_count": null,
   "id": "60cbeda5-b1b7-479d-adb4-812adc4d4ea4",
   "metadata": {},
   "outputs": [],
   "source": [
    "opptaksomrader_KLASS_2 <- opptaksomrader_KLASS %>%\n",
    "dplyr::left_join(T04317, by = \"GRUNNKRETSNUMMER\") %>%\n",
    "dplyr::mutate(PERSONER = tidyr::replace_na(PERSONER, 0))\n",
    "\n",
    "opptaksomrader_KLASS_2 %>%\n",
    "dplyr::filter(is.na(OPPTAK), \n",
    "             substr(GRUNNKRETSNUMMER, 5, 8) != \"9999\")\n",
    "\n",
    "# Sjekker om antall personer stemmer med tabell 04317\n",
    "sum(T04317$PERSONER)-sum(opptaksomrader_KLASS_2$PERSONER)"
   ]
  },
  {
   "cell_type": "code",
   "execution_count": null,
   "id": "c1df0cb6-6904-4fae-ab4a-f19caa3a0aed",
   "metadata": {},
   "outputs": [],
   "source": [
    "opptaksomrader_KLASS_3 <- opptaksomrader_KLASS %>%\n",
    "dplyr::full_join(T04317, by = \"GRUNNKRETSNUMMER\") %>%\n",
    "dplyr::mutate(PERSONER = tidyr::replace_na(PERSONER, 0))\n",
    "\n",
    "opptaksomrader_KLASS_3 %>%\n",
    "dplyr::filter(is.na(OPPTAK)) %>%\n",
    "# dplyr::arrange(GRUNNKRETSNUMMER)\n",
    "dplyr::arrange(desc(PERSONER))\n",
    "\n",
    "# Uoppgitt grunnkrets"
   ]
  },
  {
   "cell_type": "code",
   "execution_count": null,
   "id": "2dfb3d3c-35c2-4538-96ea-e4f4b3977c53",
   "metadata": {},
   "outputs": [],
   "source": [
    "opptaksomrader_KLASS_3 %>%\n",
    "filter(GRUNNKRETSNUMMER == \"01019999\")"
   ]
  },
  {
   "cell_type": "code",
   "execution_count": null,
   "id": "3702bb71-f205-4672-b061-21673c3640a3",
   "metadata": {},
   "outputs": [],
   "source": [
    "# T04317 %>%\n",
    "# dplyr::filter(!GRUNNKRETSNUMMER %in% unique(opptaksomrader_KLASS_2$GRUNNKRETSNUMMER), \n",
    "#              substr(GRUNNKRETSNUMMER, 5, 8) != \"9999\")\n",
    "\n",
    "# T04317 %>%\n",
    "# dplyr::filter(!GRUNNKRETSNUMMER %in% unique(opptaksomrader_KLASS_2$GRUNNKRETSNUMMER))"
   ]
  },
  {
   "cell_type": "markdown",
   "id": "695ca885-0f1e-41b2-9149-26782611bd3b",
   "metadata": {},
   "source": [
    "### Merger opptaksområder med grunnkretskart"
   ]
  },
  {
   "cell_type": "code",
   "execution_count": null,
   "id": "c0e57d90-4858-44a4-8fed-cb9019b1e299",
   "metadata": {},
   "outputs": [],
   "source": [
    "opptaksomrader_KLASS_2_kart <- grunnkrets_kart %>%\n",
    "dplyr::left_join(opptaksomrader_KLASS_2, by = \"GRUNNKRETSNUMMER\")\n",
    "\n",
    "nrow(opptaksomrader_KLASS_2_kart)\n",
    "\n",
    "sum(opptaksomrader_KLASS_2_kart$PERSONER)"
   ]
  },
  {
   "cell_type": "markdown",
   "id": "717a5eea-d1ad-478f-a54f-d7c230f6b9df",
   "metadata": {},
   "source": [
    "## Lager opptaksområder for RHF"
   ]
  },
  {
   "cell_type": "code",
   "execution_count": null,
   "id": "525415c5-c974-4c6a-8d6b-bd98024e4a7f",
   "metadata": {},
   "outputs": [],
   "source": [
    "# Beregner befolkning #\n",
    "opptaksomrader_KLASS_2_RHF <- opptaksomrader_KLASS_2 %>%\n",
    "dplyr::group_by(NAVN_RHF) %>%\n",
    "dplyr::summarise(PERSONER = sum(PERSONER))\n",
    "\n",
    "# unique(sf::st_geometry_type(sf::st_geometry(opptaksomrader_KLASS_2_kart)))\n",
    "\n",
    "opptaksomrader_RHF <- opptaksomrader_KLASS_2_kart %>%\n",
    "  dplyr::group_by(NAVN_RHF) %>%\n",
    "  dplyr::summarise(geometry = sf::st_union(sf::st_make_valid(geometry))) %>%\n",
    "  dplyr::ungroup() %>%\n",
    "dplyr::left_join(opptaksomrader_KLASS_2_RHF, by = \"NAVN_RHF\")\n",
    "\n",
    "# Lagrer filen\n",
    "if (grepl(\"onprem\", Sys.getenv(\"JUPYTER_IMAGE_SPEC\"))) {\n",
    "  sfarrow::st_write_parquet(obj=opptaksomrader_RHF, dsn=paste0(arbeidsmappe_opptak, \"opptaksomrader_SOM_RHF_\", filsti_med_uten_hav, \"_\", aargang, \".parquet\"))\n",
    "} else if (grepl(\"dapla\", Sys.getenv(\"JUPYTER_IMAGE_SPEC\"))) {\n",
    "  opptaksomrader_SOM_RHF_filsti <- paste0(\"ssb-prod-helse-speshelse-data-kilde/felles/Kart/\", aargang, \"/Opptaksområder/opptaksomrader_SOM_RHF_\", filsti_med_uten_hav, \"_\", aargang, \"/opptaksomrader_SOM_RHF_\", filsti_med_uten_hav, \"_\", aargang, \".parquet\")\n",
    "  write_SSB(opptaksomrader_RHF, file = opptaksomrader_SOM_RHF_filsti, sf = TRUE)\n",
    "}"
   ]
  },
  {
   "cell_type": "markdown",
   "id": "04a1417c-88aa-423b-baa6-a43056dc91e8",
   "metadata": {},
   "source": [
    "### Visualiserer kartet"
   ]
  },
  {
   "cell_type": "code",
   "execution_count": null,
   "id": "8b2af657-d674-43e5-a7b4-ff3b4b19c9a8",
   "metadata": {},
   "outputs": [],
   "source": [
    "if (utenhav == TRUE) {\n",
    "    \n",
    "ggplot() + \n",
    "geom_sf(data = opptaksomrader_RHF)\n",
    "    \n",
    "} else {\n",
    "    \n",
    "pal_RHF <- leaflet::colorFactor(ssb_farger$HEX, domain = as.factor(opptaksomrader_KLASS_2_kart$NAVN_RHF))\n",
    "\n",
    "opptaksomrader_RHF <- opptaksomrader_RHF %>%\n",
    "sf::st_transform(crs = 4326)\n",
    "\n",
    "opptaksomrader_RHF_leaflet <- leaflet::leaflet(options = leaflet::leafletOptions(zoomControl = FALSE)) %>% \n",
    "   leaflet::addTiles() %>%\n",
    "   leaflet::addPolygons(stroke = F, data = opptaksomrader_RHF,\n",
    "                       # color = \"green\",\n",
    "                       weight = 1,\n",
    "                       fillColor = pal_RHF(opptaksomrader_RHF$NAVN_RHF),\n",
    "                       fillOpacity = 0.5, smoothFactor = 0.5,\n",
    "                       popup = paste0(\"Opptaksområde: \", opptaksomrader_RHF$NAVN_RHF, \" / Befolkning: \", prettyNum(opptaksomrader_RHF$PERSONER, big.mark = \" \", scientific = FALSE))) %>%\n",
    "  leaflet::addLegend(\"bottomright\", pal = pal_RHF, values = as.factor(opptaksomrader_RHF$NAVN_RHF), opacity = 1)\n",
    "\n",
    "# Lagrer filen\n",
    "htmlwidgets::saveWidget(opptaksomrader_RHF_leaflet, file = paste0(arbeidsmappe_opptak, \"opptaksomrader_SOM_RHF_\", aargang, \".html\"), selfcontained=T)\n",
    "\n",
    "opptaksomrader_RHF_leaflet\n",
    "    }"
   ]
  },
  {
   "cell_type": "markdown",
   "id": "127017f7-2785-47dc-8c6a-9e0d3c5a0ed9",
   "metadata": {},
   "source": [
    "## Lager opptaksområder for HF"
   ]
  },
  {
   "cell_type": "code",
   "execution_count": null,
   "id": "b6e0186b-7bcd-4a2c-b792-e5e366fe8712",
   "metadata": {},
   "outputs": [],
   "source": [
    "# Beregner befolkning #\n",
    "opptaksomrader_KLASS_2_HF <- opptaksomrader_KLASS_2 %>%\n",
    "dplyr::group_by(NAVN_HF) %>%\n",
    "dplyr::summarise(PERSONER = sum(PERSONER))\n",
    "\n",
    "opptaksomrader_HF <- opptaksomrader_KLASS_2_kart %>%\n",
    "  dplyr::group_by(NAVN_HF) %>%\n",
    "  dplyr::summarise(geometry = sf::st_union(sf::st_make_valid(geometry))) %>%\n",
    "  dplyr::ungroup() %>%\n",
    "  dplyr::left_join(opptaksomrader_KLASS_2_HF, by = \"NAVN_HF\")\n",
    "\n",
    "# Lagrer filen\n",
    "if (grepl(\"onprem\", Sys.getenv(\"JUPYTER_IMAGE_SPEC\"))) {\n",
    "sfarrow::st_write_parquet(obj=opptaksomrader_HF, dsn=paste0(arbeidsmappe_opptak, \"opptaksomrader_SOM_HF_\", filsti_med_uten_hav, \"_\", aargang, \".parquet\"))\n",
    "} else if (grepl(\"dapla\", Sys.getenv(\"JUPYTER_IMAGE_SPEC\"))) {\n",
    "opptaksomrader_SOM_HF_filsti <- paste0(\"ssb-prod-helse-speshelse-data-kilde/felles/Kart/\", aargang, \"/Opptaksområder/opptaksomrader_SOM_HF_\", filsti_med_uten_hav, \"_\", aargang, \"/opptaksomrader_SOM_HF_\", filsti_med_uten_hav, \"_\", aargang, \".parquet\")\n",
    "  write_SSB(opptaksomrader_HF, file = opptaksomrader_SOM_HF_filsti, sf = TRUE)\n",
    "}"
   ]
  },
  {
   "cell_type": "markdown",
   "id": "ac30a3dd-1014-455d-b013-3fe6bfe50184",
   "metadata": {},
   "source": [
    "### Visualiserer kartet"
   ]
  },
  {
   "cell_type": "code",
   "execution_count": null,
   "id": "376e52ea-3894-4d2f-b682-c27b20dc75e0",
   "metadata": {},
   "outputs": [],
   "source": [
    "if (utenhav == TRUE) {\n",
    "    \n",
    "ggplot() + \n",
    "geom_sf(data = opptaksomrader_HF)\n",
    "    \n",
    "} else {\n",
    "pal_HF <- leaflet::colorFactor(ssb_farger$HEX, domain = as.factor(opptaksomrader_KLASS_2_kart$NAVN_HF))\n",
    "\n",
    "opptaksomrader_HF <- opptaksomrader_HF %>%\n",
    "sf::st_transform(crs = 4326)\n",
    "\n",
    "opptaksomrader_HF_leaflet <- leaflet::leaflet(options = leaflet::leafletOptions(zoomControl = FALSE)) %>% \n",
    "   leaflet::addTiles() %>%\n",
    "   leaflet::addPolygons(stroke = F, data = opptaksomrader_HF,\n",
    "                       # color = \"green\",\n",
    "                       weight = 1,\n",
    "                       fillColor = pal_HF(opptaksomrader_HF$NAVN_HF),\n",
    "                       fillOpacity = 0.5, smoothFactor = 0.5,\n",
    "                       popup = paste0(\"Opptaksområde: \", opptaksomrader_HF$NAVN_HF, \" / Befolkning: \", prettyNum(opptaksomrader_HF$PERSONER, big.mark = \" \", scientific = FALSE))) %>%\n",
    "  leaflet::addLegend(\"bottomright\", pal = pal_HF, values = as.factor(opptaksomrader_HF$NAVN_HF), opacity = 1)\n",
    "\n",
    "# Lagrer filen\n",
    "htmlwidgets::saveWidget(opptaksomrader_HF_leaflet, file = paste0(arbeidsmappe_opptak, \"opptaksomrader_SOM_HF_\", aargang, \".html\"), selfcontained=T)\n",
    "\n",
    "opptaksomrader_HF_leaflet\n",
    "    }"
   ]
  },
  {
   "cell_type": "markdown",
   "id": "900dfeac-21e0-4667-b8b6-243e1e9788b9",
   "metadata": {},
   "source": [
    "## Lager opptaksområder for lokasjonsområder"
   ]
  },
  {
   "cell_type": "code",
   "execution_count": null,
   "id": "a11c503a-7fdd-4bbe-8fe2-141228f447f1",
   "metadata": {},
   "outputs": [],
   "source": [
    "# Beregner befolkning #\n",
    "opptaksomrader_KLASS_2_OPPTAK <- opptaksomrader_KLASS_2 %>%\n",
    "dplyr::group_by(OPPTAK) %>%\n",
    "dplyr::summarise(PERSONER = sum(PERSONER))\n",
    "\n",
    "opptaksomrader_lokasjon <- opptaksomrader_KLASS_2_kart %>%\n",
    "  dplyr::group_by(OPPTAK) %>%\n",
    "  dplyr::summarise(geometry = sf::st_union(sf::st_make_valid(geometry))) %>%\n",
    "  dplyr::ungroup() %>%\n",
    "  dplyr::left_join(opptaksomrader_KLASS_2_OPPTAK, by = \"OPPTAK\")\n",
    "\n",
    "# Lagrer filen\n",
    "if (grepl(\"onprem\", Sys.getenv(\"JUPYTER_IMAGE_SPEC\"))) {\n",
    "sfarrow::st_write_parquet(obj=opptaksomrader_lokasjon, dsn=paste0(arbeidsmappe_opptak, \"opptaksomrader_SOM_lokasjon_\", filsti_med_uten_hav, \"_\", filsti_med_uten_hav, \"_\", aargang, \".parquet\"))\n",
    "} else if (grepl(\"dapla\", Sys.getenv(\"JUPYTER_IMAGE_SPEC\"))) {\n",
    "opptaksomrader_SOM_lokasjon_filsti <- paste0(\"ssb-prod-helse-speshelse-data-kilde/felles/Kart/\", aargang, \"/Opptaksområder/opptaksomrader_SOM_lokasjon_\", filsti_med_uten_hav, \"_\", aargang, \"/opptaksomrader_SOM_lokasjon_\", filsti_med_uten_hav, \"_\", aargang, \".parquet\")\n",
    "  write_SSB(opptaksomrader_lokasjon, file = opptaksomrader_SOM_lokasjon_filsti, sf = TRUE)\n",
    "}"
   ]
  },
  {
   "cell_type": "markdown",
   "id": "53656ab5-6af1-4b26-8235-b95b2565cbb7",
   "metadata": {},
   "source": [
    "### Visualiserer kartet"
   ]
  },
  {
   "cell_type": "code",
   "execution_count": null,
   "id": "b237dbfa-beeb-4139-b802-c573e2ec8d9b",
   "metadata": {},
   "outputs": [],
   "source": [
    "if (utenhav == TRUE) {\n",
    "    \n",
    "ggplot() + \n",
    "geom_sf(data = opptaksomrader_lokasjon)\n",
    "    \n",
    "} else {\n",
    "pal_lokasjon <- leaflet::colorFactor(ssb_farger$HEX, domain = as.factor(opptaksomrader_KLASS_2_kart$OPPTAK))\n",
    "\n",
    "opptaksomrader_lokasjon <- opptaksomrader_lokasjon %>%\n",
    "sf::st_transform(crs = 4326)\n",
    "\n",
    "\n",
    "opptaksomrader_lokasjon_leaflet <- leaflet::leaflet(options = leaflet::leafletOptions(zoomControl = FALSE)) %>% \n",
    "   leaflet::addTiles() %>%\n",
    "   leaflet::addPolygons(stroke = F, data = opptaksomrader_lokasjon,\n",
    "                       # color = \"green\",\n",
    "                       weight = 1,\n",
    "                       fillColor = pal_lokasjon(opptaksomrader_lokasjon$OPPTAK),\n",
    "                       fillOpacity = 0.5, smoothFactor = 0.5,\n",
    "                       popup = paste0(\"Opptaksområde: \", opptaksomrader_lokasjon$OPPTAK, \" / Befolkning: \", prettyNum(opptaksomrader_lokasjon$PERSONER, big.mark = \" \", scientific = FALSE))) %>%\n",
    "  leaflet::addLegend(\"bottomright\", pal = pal_lokasjon, values = as.factor(opptaksomrader_lokasjon$OPPTAK), opacity = 1)\n",
    "\n",
    "# Lagrer filen\n",
    "htmlwidgets::saveWidget(opptaksomrader_lokasjon_leaflet, file = paste0(arbeidsmappe_opptak, \"opptaksomrader_SOM_lokasjon_\", aargang, \".html\"), selfcontained=T)\n",
    "\n",
    "opptaksomrader_lokasjon_leaflet\n",
    "    }"
   ]
  },
  {
   "cell_type": "code",
   "execution_count": null,
   "id": "a4724438-67ae-4a58-9c05-488586a8ed5c",
   "metadata": {},
   "outputs": [],
   "source": [
    "# Sjekker om antall personer stemmer med tabell 04317\n",
    "sum(T04317$PERSONER)-sum(opptaksomrader_RHF$PERSONER)"
   ]
  },
  {
   "cell_type": "code",
   "execution_count": null,
   "id": "7b8f48a1-28ac-4998-97e2-eeefa3c3fc03",
   "metadata": {},
   "outputs": [],
   "source": [
    "# Sjekker om antall personer stemmer med tabell 04317\n",
    "sum(T04317$PERSONER)-sum(opptaksomrader_HF$PERSONER)"
   ]
  },
  {
   "cell_type": "code",
   "execution_count": null,
   "id": "793c8908-565c-499c-87a7-b86e1126790c",
   "metadata": {},
   "outputs": [],
   "source": [
    "# Sjekker om antall personer stemmer med tabell 04317\n",
    "sum(T04317$PERSONER)-sum(opptaksomrader_lokasjon$PERSONER)"
   ]
  },
  {
   "cell_type": "code",
   "execution_count": null,
   "id": "35eb75c3-3177-4f88-9850-11110af17e5a",
   "metadata": {},
   "outputs": [],
   "source": [
    "end.time <- Sys.time()\n",
    "time.taken <- end.time - start.time\n",
    "time.taken"
   ]
  }
 ],
 "metadata": {
  "language_info": {
   "codemirror_mode": "r",
   "file_extension": ".r",
   "mimetype": "text/x-r-source",
   "name": "R"
  }
 },
 "nbformat": 4,
 "nbformat_minor": 5
}
