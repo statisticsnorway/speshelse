{
 "cells": [
  {
   "cell_type": "markdown",
   "id": "cf9c4409-1965-4db1-90a1-0eadebe358f0",
   "metadata": {},
   "source": [
    "# Opptaksområder 2019"
   ]
  },
  {
   "cell_type": "code",
   "execution_count": null,
   "id": "22c9b21e-784f-4470-be40-e50791c25114",
   "metadata": {},
   "outputs": [],
   "source": [
    "aargang <- 2020"
   ]
  },
  {
   "cell_type": "code",
   "execution_count": null,
   "id": "fb287050-78af-49d6-a0aa-3463df33e49a",
   "metadata": {},
   "outputs": [],
   "source": [
    "options(repr.matrix.max.rows=600, repr.matrix.max.cols=2000)\n",
    "\n",
    "suppressPackageStartupMessages({ \n",
    "library(tidyverse)\n",
    "library(readxl)\n",
    "library(klassR)\n",
    "library(sf)\n",
    "library(leaflet)\n",
    "        })"
   ]
  },
  {
   "cell_type": "markdown",
   "id": "fcbcfe3a-2b66-48e1-9cc2-94c22555016e",
   "metadata": {},
   "source": [
    "## Kodeliste for opptaksområder i spesialisthelsetjenesten (somatikk)"
   ]
  },
  {
   "cell_type": "code",
   "execution_count": null,
   "id": "44c85eb3-d56c-457d-98e2-a96f1039203c",
   "metadata": {},
   "outputs": [],
   "source": [
    "opptaksomrader_KLASS <- klassR::GetKlass(629, output_style = \"wide\", date = c(paste0(aargang, \"-01-01\"))) %>%\n",
    "dplyr::rename(GRUNNKRETSNUMMER = code4, \n",
    "             GRUNNKRETS_NAVN = name4, \n",
    "             OPPTAK_NUMMER = code3, \n",
    "             OPPTAK = name3, \n",
    "             ORGNR_HF = code2, \n",
    "             NAVN_HF = name2, \n",
    "             ORGNR_RHF = code1, \n",
    "             NAVN_RHF = name1)\n",
    "\n",
    "nrow(opptaksomrader_KLASS)"
   ]
  },
  {
   "cell_type": "code",
   "execution_count": null,
   "id": "4f6c102b-7688-4394-aef3-862545c096b4",
   "metadata": {},
   "outputs": [],
   "source": [
    "opptaksomrader_KLASS %>%\n",
    "dplyr::filter(GRUNNKRETSNUMMER == \"30039999\")"
   ]
  },
  {
   "cell_type": "markdown",
   "id": "b9a727fb-1509-4942-b372-3940db1d8e70",
   "metadata": {},
   "source": [
    "### Korrespondanse mellom t og t-1 fra KLASS"
   ]
  },
  {
   "cell_type": "code",
   "execution_count": null,
   "id": "ffade7b8-9963-42f5-87bd-bc6e261b6ec8",
   "metadata": {},
   "outputs": [],
   "source": [
    "grunnkrets_KLASS <- klassR::GetKlass(1, date = c(paste0(aargang-1, \"-01-01\"), paste0(aargang, \"-01-01\")), correspond = TRUE) %>%\n",
    "dplyr::rename(GRUNNKRETSNUMMER_T1 = sourceCode, \n",
    "             GRUNNKRETSNUMMER = targetCode, \n",
    "             targetName = targetName)\n",
    "\n",
    "nrow(grunnkrets_KLASS)\n",
    "\n",
    "grunnkrets_KLASS <- grunnkrets_KLASS %>%\n",
    "dplyr::filter(!GRUNNKRETSNUMMER_T1 %in% c(\"18500111\") |  !GRUNNKRETSNUMMER %in% c(\"18061610\"), # Fjerner Kjerrvika fra Storå\n",
    "             !GRUNNKRETSNUMMER_T1 %in% c(\"18500109\") |  !GRUNNKRETSNUMMER %in% c(\"18750211\"),  # Fjerner Indre Tysfjord fra Kjerrvika\n",
    "             !GRUNNKRETSNUMMER_T1 %in% c(\"18500119\") |  !GRUNNKRETSNUMMER %in% c(\"18750211\")) # Fjerner Bjørntoppen fra Kjerrvika\n",
    "\n",
    "nrow(grunnkrets_KLASS)"
   ]
  },
  {
   "cell_type": "markdown",
   "id": "22ba0a28-2d9b-482b-aa11-e6a7c23aa7cc",
   "metadata": {},
   "source": [
    "### Merger opptaksområder med KLASS (t-1)"
   ]
  },
  {
   "cell_type": "code",
   "execution_count": null,
   "id": "d7bd8901-c0ca-4bdf-a403-8397be13a069",
   "metadata": {},
   "outputs": [],
   "source": [
    "opptaksomrader_KLASS_2 <- opptaksomrader_KLASS %>%\n",
    "dplyr::left_join(grunnkrets_KLASS, by = \"GRUNNKRETSNUMMER\") %>%\n",
    "dplyr::mutate(GRUNNKRETSNUMMER_T1 = case_when(\n",
    "is.na(GRUNNKRETSNUMMER_T1) ~ GRUNNKRETSNUMMER, \n",
    "    TRUE ~ GRUNNKRETSNUMMER_T1\n",
    ")) %>%\n",
    "dplyr::select(GRUNNKRETSNUMMER, GRUNNKRETSNUMMER_T1, GRUNNKRETS_NAVN, OPPTAK_NUMMER, OPPTAK, ORGNR_HF, NAVN_HF, ORGNR_RHF, NAVN_RHF) %>%\n",
    "dplyr::distinct(GRUNNKRETSNUMMER_T1, OPPTAK_NUMMER, OPPTAK, ORGNR_HF, NAVN_HF, ORGNR_RHF, NAVN_RHF)\n",
    "\n",
    "nrow(opptaksomrader_KLASS_2)"
   ]
  },
  {
   "cell_type": "code",
   "execution_count": null,
   "id": "8d070b96-ef8d-40c3-a85b-433acda101d1",
   "metadata": {},
   "outputs": [],
   "source": [
    "# opptaksomrader_KLASS_2 %>%\n",
    "# dplyr::filter(GRUNNKRETSNUMMER_T1 == \"18500109\")"
   ]
  },
  {
   "cell_type": "markdown",
   "id": "c9ae84b0-5a87-4c5d-953e-b3776ab7c290",
   "metadata": {},
   "source": [
    "### Laster inn KLASS (t-1)"
   ]
  },
  {
   "cell_type": "code",
   "execution_count": null,
   "id": "4760123d-552a-4a51-bd37-94721867cfa2",
   "metadata": {},
   "outputs": [],
   "source": [
    "grunnkrets_KLASS_T1 <- klassR::GetKlass(1, output_style = \"wide\", date = c(paste0(aargang-1, \"-01-01\"))) %>%\n",
    "dplyr::rename(GRUNNKRETSNUMMER_T1 = code2, \n",
    "             GRUNNKRETS_NAVN_T1 = name2) %>%\n",
    "dplyr::select(GRUNNKRETSNUMMER_T1, GRUNNKRETS_NAVN_T1) \n",
    "\n",
    "nrow(grunnkrets_KLASS_T1)\n",
    "nrow(opptaksomrader_KLASS_2)"
   ]
  },
  {
   "cell_type": "code",
   "execution_count": null,
   "id": "79e53b5c-6f75-4b3d-9b5d-341ec06b2565",
   "metadata": {},
   "outputs": [],
   "source": [
    "# opptaksomrader_KLASS_2 %>%\n",
    "# group_by(GRUNNKRETSNUMMER_T1) %>% # grunnkrets_KLASS_T1_2\n",
    "# filter(n()>1)"
   ]
  },
  {
   "cell_type": "code",
   "execution_count": null,
   "id": "661c2eb9-8da9-4564-8d44-f74856aa7fbd",
   "metadata": {},
   "outputs": [],
   "source": [
    "grunnkrets_KLASS_T1_2 <- grunnkrets_KLASS_T1 %>%\n",
    "dplyr::left_join(opptaksomrader_KLASS_2, by = \"GRUNNKRETSNUMMER_T1\") %>%\n",
    "dplyr::filter(!is.na(OPPTAK))\n",
    "\n",
    "nrow(grunnkrets_KLASS_T1_2)\n",
    "\n",
    "head(grunnkrets_KLASS_T1_2)\n",
    "\n",
    "# grunnkrets_KLASS_T1_2 <- grunnkrets_KLASS_T1 %>%\n",
    "# dplyr::distinct(GRUNNKRETSNUMMER_T1, GRUNNKRETS_NAVN_T1, OPPTAK)"
   ]
  },
  {
   "cell_type": "markdown",
   "id": "6742a67f-f051-4474-8e5c-6b6e3a92df6c",
   "metadata": {},
   "source": [
    "### Lagrer filen "
   ]
  },
  {
   "cell_type": "code",
   "execution_count": null,
   "id": "e56f1e48-ef82-4abd-bb23-7abf150da01d",
   "metadata": {},
   "outputs": [],
   "source": [
    "test <- grunnkrets_KLASS_T1_2 %>%\n",
    "  dplyr::mutate(TOM_FORELDER = \"\") %>%\n",
    "  # dplyr::filter(opptak %in% c(\"Stavanger\", \"Ålesund\")) %>%\n",
    "  dplyr::select(GRUNNKRETSNUMMER_T1, GRUNNKRETS_NAVN_T1, OPPTAK_NUMMER, ORGNR_HF, NAVN_HF, OPPTAK, ORGNR_RHF, NAVN_RHF, TOM_FORELDER)\n",
    "\n",
    "level_1 <- test %>%\n",
    "  dplyr::select(ORGNR_RHF, TOM_FORELDER, NAVN_RHF) %>%\n",
    "  dplyr::rename('ns1:kode' = ORGNR_RHF, \n",
    "                'ns1:forelder' = TOM_FORELDER, \n",
    "                'ns1:navn_bokmål' = NAVN_RHF) %>%\n",
    "  dplyr::distinct()\n",
    "\n",
    "level_2 <- test %>%\n",
    "  dplyr::select(ORGNR_HF, ORGNR_RHF, NAVN_HF) %>%\n",
    "  dplyr::rename('ns1:kode' = ORGNR_HF, \n",
    "                'ns1:forelder' = ORGNR_RHF, \n",
    "                'ns1:navn_bokmål' = NAVN_HF) %>%\n",
    "  dplyr::distinct()\n",
    "\n",
    "level_3 <- test %>%\n",
    "  dplyr::select(OPPTAK_NUMMER, ORGNR_HF, OPPTAK) %>%\n",
    "  dplyr::rename('ns1:kode' = OPPTAK_NUMMER, \n",
    "                'ns1:forelder' = ORGNR_HF, \n",
    "                'ns1:navn_bokmål' = OPPTAK) %>%\n",
    "  dplyr::distinct()\n",
    "\n",
    "level_4 <- test %>%\n",
    "  dplyr::select(GRUNNKRETSNUMMER_T1, OPPTAK_NUMMER, GRUNNKRETS_NAVN_T1) %>%\n",
    "  dplyr::rename('ns1:kode' = GRUNNKRETSNUMMER_T1, \n",
    "                'ns1:forelder' = OPPTAK_NUMMER, \n",
    "                'ns1:navn_bokmål' = GRUNNKRETS_NAVN_T1) %>%\n",
    "  dplyr::distinct()\n",
    "\n",
    "KLASS <- rbind(level_1, level_2, level_3, level_4)"
   ]
  },
  {
   "cell_type": "code",
   "execution_count": null,
   "id": "4068dd58-f46e-4dfb-84b9-8eeb9cb1a82f",
   "metadata": {},
   "outputs": [],
   "source": [
    "openxlsx::write.xlsx(KLASS, file = \"/ssb/bruker/rdn/opptak_2019.xlsx\",\n",
    "                     rowNames = FALSE,\n",
    "                     showNA = FALSE,\n",
    "                     overwrite=T) # T = overskriver dersom filen allerede finnes, F = gir feilmelding dersom filen finnes"
   ]
  },
  {
   "cell_type": "code",
   "execution_count": null,
   "id": "41486429-5213-46e6-84fb-60cd823a8987",
   "metadata": {},
   "outputs": [],
   "source": []
  },
  {
   "cell_type": "code",
   "execution_count": null,
   "id": "08fa3952-7b47-449c-9424-ee85e75b1ae7",
   "metadata": {},
   "outputs": [],
   "source": []
  },
  {
   "cell_type": "code",
   "execution_count": null,
   "id": "2dfd88b6-661f-4629-b3d5-39400afc7dd3",
   "metadata": {},
   "outputs": [],
   "source": []
  },
  {
   "cell_type": "code",
   "execution_count": null,
   "id": "2994cab0-0fca-4cff-8fcc-8d4a8454e71e",
   "metadata": {},
   "outputs": [],
   "source": []
  },
  {
   "cell_type": "code",
   "execution_count": null,
   "id": "ab61cb33-b9af-4cb9-b295-83c42977e867",
   "metadata": {},
   "outputs": [],
   "source": []
  },
  {
   "cell_type": "code",
   "execution_count": null,
   "id": "b0f8baea-d562-459c-b4df-67dd09d63b2f",
   "metadata": {},
   "outputs": [],
   "source": [
    "uoppgitt_grunnkrets <- grunnkrets_KLASS_T1 %>%\n",
    "dplyr::left_join(opptaksomrader_KLASS_2, by = \"GRUNNKRETSNUMMER_T1\") %>%\n",
    "dplyr::filter(is.na(OPPTAK)) %>%\n",
    "dplyr::select(GRUNNKRETSNUMMER_T1)\n",
    "\n",
    "nrow(uoppgitt_grunnkrets)\n",
    "\n",
    "head(uoppgitt_grunnkrets)\n",
    "\n",
    "kommune_test <- grunnkrets_KLASS_T1_2 %>%\n",
    "# dplyr::mutate(KOMMUNENUMMER = substr(GRUNNKRETSNUMMER_T1, 1, 4)) %>%\n",
    "# dplyr::group_by(KOMMUNENUMMER, OPPTAK_NUMMER, OPPTAK, ORGNR_HF, NAVN_HF, ORGNR_RHF, NAVN_RHF) %>% # OPPTAK_NUMMER, OPPTAK, ORGNR_HF, NAVN_HF, ORGNR_RHF, NAVN_RHF\n",
    "# dplyr::tally() %>%\n",
    "# arrange(KOMMUNENUMMER) %>%\n",
    "# dplyr::group_by(KOMMUNENUMMER, OPPTAK_NUMMER, OPPTAK, ORGNR_HF, NAVN_HF, ORGNR_RHF, NAVN_RHF) %>% # \n",
    "# slice(which.max(n)) %>%\n",
    "# dplyr::mutate(GRUNNKRETSNUMMER_T1 = paste0(KOMMUNENUMMER, \"9999\")) %>%\n",
    "# ungroup() %>%\n",
    "# dplyr::select(-KOMMUNENUMMER) %>%\n",
    "dplyr::filter(GRUNNKRETSNUMMER_T1 %in% unique(uoppgitt_grunnkrets$GRUNNKRETSNUMMER_T1))\n",
    "\n",
    "nrow(kommune_test)\n",
    "\n",
    "# head(kommune_test)"
   ]
  },
  {
   "cell_type": "code",
   "execution_count": null,
   "id": "47eb3759-9726-4ae8-a3ff-e75ba6e40cbd",
   "metadata": {},
   "outputs": [],
   "source": [
    "# kommune_test <- grunnkrets_KLASS_T1 %>%\n",
    "# dplyr::filter(!is.na(OPPTAK)) %>%\n",
    "# dplyr::mutate(KOMMUNENUMMER = substr(GRUNNKRETSNUMMER_T1, 1, 4)) %>%\n",
    "# dplyr::group_by(KOMMUNENUMMER, OPPTAK_NUMMER, OPPTAK, ORGNR_HF, NAVN_HF, ORGNR_RHF, NAVN_RHF) %>%\n",
    "# dplyr::tally() %>%\n",
    "# arrange(KOMMUNENUMMER) %>%\n",
    "# slice(which.max(n)) %>%\n",
    "# dplyr::mutate(GRUNNKRETSNUMMER_T1 = paste0(KOMMUNENUMMER, \"9999\")) %>%\n",
    "# ungroup() %>%\n",
    "# dplyr::select(-KOMMUNENUMMER, -n)\n",
    "\n",
    "# nrow(kommune_test)\n",
    "\n",
    "# uoppgitt_grunnkrets <- grunnkrets_KLASS_T1 %>%\n",
    "# dplyr::filter(is.na(OPPTAK)) %>%\n",
    "# dplyr::select(GRUNNKRETSNUMMER_T1)\n",
    "\n",
    "# nrow(uoppgitt_grunnkrets)\n",
    "\n",
    "# uoppgitt_grunnkrets %>%\n",
    "# dplyr::filter(GRUNNKRETSNUMMER_T1 == \"02269999\")\n",
    "\n",
    "# uoppgitt_grunnkrets <- uoppgitt_grunnkrets %>%\n",
    "# dplyr::left_join(kommune_test, by = \"GRUNNKRETSNUMMER_T1\")\n",
    "\n",
    "# uoppgitt_grunnkrets %>%\n",
    "# dplyr::filter(GRUNNKRETSNUMMER_T1 == \"02269999\")\n",
    "\n",
    "# nrow(uoppgitt_grunnkrets)"
   ]
  },
  {
   "cell_type": "code",
   "execution_count": null,
   "id": "4c3e9145-9499-4e31-92ae-e7f6cae073d7",
   "metadata": {},
   "outputs": [],
   "source": [
    "# uoppgitt_grunnkrets %>%\n",
    "# group_by(GRUNNKRETSNUMMER_T1) %>% # grunnkrets_KLASS_T1_2\n",
    "# filter(n()>1)"
   ]
  },
  {
   "cell_type": "code",
   "execution_count": null,
   "id": "3b4cd737-a041-48e7-a9bc-78e9b6f81d51",
   "metadata": {},
   "outputs": [],
   "source": [
    "# kommune_test %>%\n",
    "# group_by(KOMMUNENUMMER) %>% # grunnkrets_KLASS_T1_2\n",
    "# filter(n()>1)"
   ]
  },
  {
   "cell_type": "code",
   "execution_count": null,
   "id": "56cc984b-929d-47ce-bceb-c602f99305e7",
   "metadata": {},
   "outputs": [],
   "source": [
    "# grunnkrets_KLASS_T1_2 %>%\n",
    "# # dplyr::distinct(GRUNNKRETSNUMMER_T1, GRUNNKRETS_NAVN_T1, OPPTAK) %>%\n",
    "# group_by(GRUNNKRETSNUMMER_T1) %>% # grunnkrets_KLASS_T1_2\n",
    "# filter(n()>1)"
   ]
  },
  {
   "cell_type": "code",
   "execution_count": null,
   "id": "d447e326-3155-45db-8202-3d8172cff30a",
   "metadata": {},
   "outputs": [],
   "source": [
    "# grunnkrets_KLASS_T1_2 <- grunnkrets_KLASS_T1 %>%\n",
    "# dplyr::mutate(OPPTAK = case_when(\n",
    "# GRUNNKRETS_NAVN_T1 == \"Indre Tysfjord\" ~ \"Narvik\",\n",
    "# GRUNNKRETS_NAVN_T1 == \"Kjerrvika\" ~ \"Narvik\",\n",
    "# GRUNNKRETS_NAVN_T1 == \"Bjørntoppen\" ~ \"Narvik\",\n",
    "# TRUE ~ OPPTAK\n",
    "# )) \n",
    "\n",
    "grunnkrets_KLASS_T1_2 %>%\n",
    "dplyr::distinct(GRUNNKRETSNUMMER_T1, GRUNNKRETS_NAVN_T1, OPPTAK) %>%\n",
    "group_by(GRUNNKRETSNUMMER_T1) %>% # grunnkrets_KLASS_T1_2\n",
    "filter(n()>1)\n",
    "\n",
    "nrow(grunnkrets_KLASS_T1_2)"
   ]
  },
  {
   "cell_type": "code",
   "execution_count": null,
   "id": "66bb77bc-523a-44b2-b2b8-d2dbb5196d76",
   "metadata": {},
   "outputs": [],
   "source": [
    "# grunnkrets_KLASS_T1_2 %>%\n",
    "# dplyr::filter(substr(GRUNNKRETSNUMMER_T1, 1, 4) == \"0226\") # Akershus"
   ]
  },
  {
   "cell_type": "code",
   "execution_count": null,
   "id": "9053daa1-8497-4092-9158-2aaa3720b83b",
   "metadata": {},
   "outputs": [],
   "source": [
    "# # grunnkrets_KLASS_T1_2 %>%\n",
    "# # # dplyr::filter(GRUNNKRETSNUMMER_T1 == \"01059999\")\n",
    "# # dplyr::filter(GRUNNKRETSNUMMER == \"30039999\")\n",
    "\n",
    "# grunnkrets_KLASS_T1_2 %>%\n",
    "# dplyr::filter(!is.na(OPPTAK)) %>%\n",
    "# dplyr::mutate(KOMMUNENUMMER = substr(GRUNNKRETSNUMMER_T1, 1, 4)) %>%\n",
    "# dplyr::select(OPPTAK, KOMMUNENUMMER) %>%\n",
    "# dplyr::distinct() %>%\n",
    "# group_by(KOMMUNENUMMER) %>% # grunnkrets_KLASS_T1_2\n",
    "# filter(n()>1)"
   ]
  },
  {
   "cell_type": "markdown",
   "id": "ec71d77b-52a6-4f2d-aa83-f6b809ffab9a",
   "metadata": {},
   "source": [
    "OBS: Uoppgitt grunnkrets per kommune?"
   ]
  },
  {
   "cell_type": "code",
   "execution_count": null,
   "id": "82b412cd-2f71-4453-b09d-d99b0d9149a8",
   "metadata": {},
   "outputs": [],
   "source": [
    "grunnkrets_KLASS_T1_2 %>%\n",
    "dplyr::filter(is.na(GRUNNKRETSNUMMER)) %>%\n",
    "dplyr::filter(substr(GRUNNKRETSNUMMER_T1, 5, 8) != \"9999\")"
   ]
  },
  {
   "cell_type": "code",
   "execution_count": null,
   "id": "6a22bcf8-978e-4e19-a0de-9c0758032a06",
   "metadata": {},
   "outputs": [],
   "source": [
    "# nrow(opptaksomrader_KLASS_2)\n",
    "\n",
    "nrow(opptaksomrader_KLASS_2)\n",
    "\n",
    "opptaksomrader_KLASS_2 %>%\n",
    "dplyr::filter(GRUNNKRETSNUMMER_T1 == \"18500109\")\n",
    "\n",
    "# opptaksomrader_KLASS_2 %>%\n",
    "# dplyr::filter(is.na(OPPTAK_NUMMER))\n",
    "\n",
    "# opptaksomrader_KLASS_2 %>%\n",
    "# dplyr::filter(is.na(GRUNNKRETSNUMMER_T1))"
   ]
  },
  {
   "cell_type": "code",
   "execution_count": null,
   "id": "51b3dff6-ec50-44c9-bb91-5897078d3957",
   "metadata": {},
   "outputs": [],
   "source": [
    "test <- opptaksomrader_KLASS_2 %>%\n",
    "group_by(GRUNNKRETSNUMMER_T1) %>% \n",
    "filter(n()>1)\n",
    "\n",
    "nrow(test)"
   ]
  },
  {
   "cell_type": "code",
   "execution_count": null,
   "id": "f3dae7b1-8336-4c97-82a1-9d9bf2da27f2",
   "metadata": {},
   "outputs": [],
   "source": [
    "test"
   ]
  },
  {
   "cell_type": "code",
   "execution_count": null,
   "id": "1ff55f38-50b5-46fa-9697-fd874b7f0628",
   "metadata": {},
   "outputs": [],
   "source": []
  }
 ],
 "metadata": {
  "kernelspec": {
   "display_name": "R",
   "language": "R",
   "name": "ir"
  },
  "language_info": {
   "codemirror_mode": "r",
   "file_extension": ".r",
   "mimetype": "text/x-r-source",
   "name": "R",
   "pygments_lexer": "r",
   "version": "4.2.2"
  }
 },
 "nbformat": 4,
 "nbformat_minor": 5
}
