{
 "cells": [
  {
   "cell_type": "markdown",
   "id": "cf9c4409-1965-4db1-90a1-0eadebe358f0",
   "metadata": {},
   "source": [
    "# Opptaksområder 2016\n",
    "\n",
    "OBS: lag fix for uoppgitte kommuner før den lastes opp!"
   ]
  },
  {
   "cell_type": "code",
   "execution_count": null,
   "id": "22c9b21e-784f-4470-be40-e50791c25114",
   "metadata": {},
   "outputs": [],
   "source": [
    "aargang <- 2016"
   ]
  },
  {
   "cell_type": "code",
   "execution_count": null,
   "id": "fb287050-78af-49d6-a0aa-3463df33e49a",
   "metadata": {},
   "outputs": [],
   "source": [
    "options(repr.matrix.max.rows=600, repr.matrix.max.cols=2000)\n",
    "\n",
    "suppressPackageStartupMessages({ \n",
    "library(tidyverse)\n",
    "library(readxl)\n",
    "library(klassR)\n",
    "library(sf)\n",
    "library(leaflet)\n",
    "        })"
   ]
  },
  {
   "cell_type": "markdown",
   "id": "55ec5182-3739-4277-939a-51a18009dd28",
   "metadata": {},
   "source": [
    "### Filstier"
   ]
  },
  {
   "cell_type": "code",
   "execution_count": null,
   "id": "995c29bb-a167-483d-ae4a-f18636d26dc8",
   "metadata": {},
   "outputs": [],
   "source": [
    "arbeidsmappe <- \"/ssb/stamme01/fylkhels/speshelse/felles/\"\n",
    "arbeidsmappe_kart <- paste0(arbeidsmappe, \"kart/\", aargang, \"/\")\n",
    "\n",
    "arbeidsmappe_opptak <- paste0(arbeidsmappe, \"opptaksomrader/\", aargang, \"/\")\n",
    "\n",
    "if (file.exists(arbeidsmappe_opptak)==FALSE) {\n",
    "  dir.create(arbeidsmappe_opptak)\n",
    "}"
   ]
  },
  {
   "cell_type": "markdown",
   "id": "b1c0f259-2753-4797-baf7-725a6b5ffb19",
   "metadata": {},
   "source": [
    "## Laster inn kart (grunnkrets)"
   ]
  },
  {
   "cell_type": "code",
   "execution_count": null,
   "id": "060a8be3-a8ad-46a0-8088-266c6e568fdf",
   "metadata": {},
   "outputs": [],
   "source": [
    "# start.time <- Sys.time()\n",
    "\n",
    "#   rename_geometry <- function(g, name){\n",
    "#     current = attr(g, \"sf_column\")\n",
    "#     names(g)[names(g)==current] = name\n",
    "#     sf::st_geometry(g)=name\n",
    "#     g\n",
    "#   }\n",
    "\n",
    "# # grunnkrets_kart_filsti <- paste0(arbeidsmappe_kart, \"ABAS_grunnkrets_utenhav_\", aargang, \".parquet\")\n",
    "# grunnkrets_kart_filsti <- paste0(arbeidsmappe_kart, \"ABAS_grunnkrets_flate_\", aargang, \".parquet\")\n",
    "\n",
    "# # Lese inn filen som parquet med sfarrow\n",
    "# grunnkrets_kart <- sfarrow::st_read_parquet(grunnkrets_kart_filsti) %>%\n",
    "# sf::st_zm(drop = T) %>%\n",
    "# sf::st_cast(\"MULTIPOLYGON\") %>%\n",
    "#   sf::st_transform(crs = 4326) %>%\n",
    "#   dplyr::rename(GRUNNKRETSNUMMER = GRUNNKRETS)\n",
    "\n",
    "# grunnkrets_kart <- rename_geometry(grunnkrets_kart, \"geometry\")\n",
    "# sf::st_geometry(grunnkrets_kart) <- \"geometry\"\n",
    "\n",
    "# end.time <- Sys.time()\n",
    "# time.taken <- end.time - start.time\n",
    "# time.taken"
   ]
  },
  {
   "cell_type": "code",
   "execution_count": null,
   "id": "fb24ff5f-b7f7-4c1f-a750-ef776c77bf3a",
   "metadata": {},
   "outputs": [],
   "source": [
    "# grunnkrets_kart_test <- grunnkrets_kart %>%\n",
    "# dplyr::filter(GRUNNKRETSNUMMER %in% c(\"14440104\", \"14490113\")) %>%\n",
    "# sf::st_transform(crs = 4326)"
   ]
  },
  {
   "cell_type": "code",
   "execution_count": null,
   "id": "259ec41b-519e-45de-8c12-567d0208fed3",
   "metadata": {},
   "outputs": [],
   "source": [
    "# T04317 <- PxWebApiData::ApiData(04317, ContentsCode = \"Personer\", \n",
    "#                                 Grunnkretser = TRUE, \n",
    "#                                 Tid = as.character(aargang+1)) [[2]] %>%\n",
    "#   dplyr::filter(!is.na(value)) %>%\n",
    "#   dplyr::rename(GRUNNKRETSNUMMER = Grunnkretser,\n",
    "#                 PERSONER = value) %>%\n",
    "#   dplyr::select(GRUNNKRETSNUMMER, PERSONER)\n",
    "\n",
    "# T04317 %>%\n",
    "# dplyr::filter(GRUNNKRETSNUMMER %in% c(\"14440108\", \"14490114\"))"
   ]
  },
  {
   "cell_type": "code",
   "execution_count": null,
   "id": "02be94ba-90a7-483f-b21f-4a3b3a0d56fd",
   "metadata": {},
   "outputs": [],
   "source": [
    "# T04317_t1 <- PxWebApiData::ApiData(04317, ContentsCode = \"Personer\", \n",
    "#                                 Grunnkretser = TRUE, \n",
    "#                                 Tid = as.character(aargang)) [[2]] %>%\n",
    "#   dplyr::filter(!is.na(value)) %>%\n",
    "#   dplyr::rename(GRUNNKRETSNUMMER = Grunnkretser,\n",
    "#                 PERSONER = value) %>%\n",
    "#   dplyr::select(GRUNNKRETSNUMMER, PERSONER)\n",
    "\n",
    "# T04317_t1 %>%\n",
    "# dplyr::filter(GRUNNKRETSNUMMER %in% c(\"14440104\", \"14490113\"))"
   ]
  },
  {
   "cell_type": "markdown",
   "id": "fcbcfe3a-2b66-48e1-9cc2-94c22555016e",
   "metadata": {},
   "source": [
    "## Kodeliste for opptaksområder i spesialisthelsetjenesten (somatikk)"
   ]
  },
  {
   "cell_type": "code",
   "execution_count": null,
   "id": "44c85eb3-d56c-457d-98e2-a96f1039203c",
   "metadata": {},
   "outputs": [],
   "source": [
    "opptaksomrader_KLASS <- klassR::GetKlass(629, output_style = \"wide\", date = c(paste0(aargang+1, \"-01-01\"))) %>%\n",
    "dplyr::rename(GRUNNKRETSNUMMER = code4, \n",
    "             GRUNNKRETS_NAVN = name4, \n",
    "             OPPTAK_NUMMER = code3, \n",
    "             OPPTAK = name3, \n",
    "             ORGNR_HF = code2, \n",
    "             NAVN_HF = name2, \n",
    "             ORGNR_RHF = code1, \n",
    "             NAVN_RHF = name1)\n",
    "\n",
    "nrow(opptaksomrader_KLASS)"
   ]
  },
  {
   "cell_type": "markdown",
   "id": "b9a727fb-1509-4942-b372-3940db1d8e70",
   "metadata": {},
   "source": [
    "### Korrespondanse mellom t og t-1 fra KLASS"
   ]
  },
  {
   "cell_type": "code",
   "execution_count": null,
   "id": "ffade7b8-9963-42f5-87bd-bc6e261b6ec8",
   "metadata": {},
   "outputs": [],
   "source": [
    "grunnkrets_KLASS <- klassR::GetKlass(1, date = c(paste0(aargang, \"-01-01\"), paste0(aargang+1, \"-01-01\")), correspond = TRUE) %>%\n",
    "dplyr::rename(GRUNNKRETSNUMMER_T1 = sourceCode, \n",
    "             GRUNNKRETSNUMMER = targetCode, \n",
    "             targetName = targetName)\n",
    "\n",
    "# grunnkrets_KLASS <- grunnkrets_KLASS %>%\n",
    "# dplyr::filter(!GRUNNKRETSNUMMER_T1 %in% c(\"14440104\") |  !GRUNNKRETSNUMMER %in% c(\"14490114\")) # Fjerner Kjøs fra Markane\n",
    "\n",
    "nrow(grunnkrets_KLASS)"
   ]
  },
  {
   "cell_type": "markdown",
   "id": "c7ece272-ec42-40bc-b8f8-35298ea5e1db",
   "metadata": {},
   "source": [
    "OK"
   ]
  },
  {
   "cell_type": "code",
   "execution_count": null,
   "id": "cd06e7b8-bcd1-47e6-baa7-ad8ac36f1cac",
   "metadata": {},
   "outputs": [],
   "source": [
    "grunnkrets_KLASS %>%\n",
    "group_by(GRUNNKRETSNUMMER) %>% # grunnkrets_KLASS_T1_2\n",
    "filter(n()>1)"
   ]
  },
  {
   "cell_type": "code",
   "execution_count": null,
   "id": "1b443eb1-67e5-4c27-8965-8b27d00308aa",
   "metadata": {},
   "outputs": [],
   "source": [
    "grunnkrets_KLASS %>%\n",
    "group_by(GRUNNKRETSNUMMER_T1) %>% # grunnkrets_KLASS_T1_2\n",
    "filter(n()>1)"
   ]
  },
  {
   "cell_type": "markdown",
   "id": "22ba0a28-2d9b-482b-aa11-e6a7c23aa7cc",
   "metadata": {},
   "source": [
    "### Merger opptaksområder med KLASS (t-1)"
   ]
  },
  {
   "cell_type": "code",
   "execution_count": null,
   "id": "d7bd8901-c0ca-4bdf-a403-8397be13a069",
   "metadata": {},
   "outputs": [],
   "source": [
    "opptaksomrader_KLASS_2 <- opptaksomrader_KLASS %>%\n",
    "dplyr::left_join(grunnkrets_KLASS, by = \"GRUNNKRETSNUMMER\") %>%\n",
    "dplyr::mutate(GRUNNKRETSNUMMER_T1 = case_when(\n",
    "is.na(GRUNNKRETSNUMMER_T1) ~ GRUNNKRETSNUMMER, \n",
    "    TRUE ~ GRUNNKRETSNUMMER_T1\n",
    ")) %>%\n",
    "dplyr::select(GRUNNKRETSNUMMER, GRUNNKRETSNUMMER_T1, GRUNNKRETS_NAVN, OPPTAK_NUMMER, OPPTAK, ORGNR_HF, NAVN_HF, ORGNR_RHF, NAVN_RHF) %>%\n",
    "dplyr::distinct(GRUNNKRETSNUMMER_T1, OPPTAK_NUMMER, OPPTAK, ORGNR_HF, NAVN_HF, ORGNR_RHF, NAVN_RHF)\n",
    "\n",
    "nrow(opptaksomrader_KLASS_2)"
   ]
  },
  {
   "cell_type": "code",
   "execution_count": null,
   "id": "8d070b96-ef8d-40c3-a85b-433acda101d1",
   "metadata": {},
   "outputs": [],
   "source": [
    "# opptaksomrader_KLASS_2 %>%\n",
    "# dplyr::filter(GRUNNKRETSNUMMER_T1 == \"18500109\")"
   ]
  },
  {
   "cell_type": "markdown",
   "id": "c9ae84b0-5a87-4c5d-953e-b3776ab7c290",
   "metadata": {},
   "source": [
    "### Laster inn KLASS (t-1)"
   ]
  },
  {
   "cell_type": "code",
   "execution_count": null,
   "id": "4760123d-552a-4a51-bd37-94721867cfa2",
   "metadata": {},
   "outputs": [],
   "source": [
    "grunnkrets_KLASS_T1 <- klassR::GetKlass(1, output_style = \"wide\", date = c(paste0(aargang, \"-01-01\"))) %>%\n",
    "dplyr::rename(GRUNNKRETSNUMMER_T1 = code2, \n",
    "             GRUNNKRETS_NAVN_T1 = name2) %>%\n",
    "dplyr::select(GRUNNKRETSNUMMER_T1, GRUNNKRETS_NAVN_T1) \n",
    "\n",
    "nrow(grunnkrets_KLASS_T1)\n",
    "nrow(opptaksomrader_KLASS_2)"
   ]
  },
  {
   "cell_type": "code",
   "execution_count": null,
   "id": "79e53b5c-6f75-4b3d-9b5d-341ec06b2565",
   "metadata": {},
   "outputs": [],
   "source": [
    "# opptaksomrader_KLASS_2 %>%\n",
    "# group_by(GRUNNKRETSNUMMER_T1) %>% # grunnkrets_KLASS_T1_2\n",
    "# filter(n()>1)"
   ]
  },
  {
   "cell_type": "code",
   "execution_count": null,
   "id": "661c2eb9-8da9-4564-8d44-f74856aa7fbd",
   "metadata": {},
   "outputs": [],
   "source": [
    "nrow(grunnkrets_KLASS_T1)\n",
    "\n",
    "grunnkrets_KLASS_T1_2 <- grunnkrets_KLASS_T1 %>%\n",
    "dplyr::left_join(opptaksomrader_KLASS_2, by = \"GRUNNKRETSNUMMER_T1\") %>%\n",
    "dplyr::filter(!is.na(OPPTAK))\n",
    "\n",
    "nrow(grunnkrets_KLASS_T1_2)\n",
    "\n",
    "# head(grunnkrets_KLASS_T1_2)\n",
    "\n",
    "# grunnkrets_KLASS_T1_2 <- grunnkrets_KLASS_T1 %>%\n",
    "# dplyr::distinct(GRUNNKRETSNUMMER_T1, GRUNNKRETS_NAVN_T1, OPPTAK)"
   ]
  },
  {
   "cell_type": "code",
   "execution_count": null,
   "id": "fc76da29-d086-4d97-b08f-f1238ad06874",
   "metadata": {},
   "outputs": [],
   "source": [
    "grunnkrets_KLASS_T1_2 %>%\n",
    "group_by(GRUNNKRETSNUMMER_T1) %>% # grunnkrets_KLASS_T1_2\n",
    "filter(n()>1)"
   ]
  },
  {
   "cell_type": "code",
   "execution_count": null,
   "id": "11ee1749-3780-4c62-ad02-89b725e98e66",
   "metadata": {},
   "outputs": [],
   "source": [
    "grunnkrets_KLASS_T1_3 <- grunnkrets_KLASS_T1 %>%\n",
    "dplyr::left_join(opptaksomrader_KLASS_2, by = \"GRUNNKRETSNUMMER_T1\") %>%\n",
    "dplyr::filter(is.na(OPPTAK))\n",
    "\n",
    "grunnkrets_KLASS_T1_3"
   ]
  },
  {
   "cell_type": "markdown",
   "id": "446d6a34-f18c-4ddf-9636-2b76dc563d0b",
   "metadata": {},
   "source": [
    "## Laster inn tabell 04317"
   ]
  },
  {
   "cell_type": "code",
   "execution_count": null,
   "id": "884b96ea-c159-4456-abe6-2b4ee5ab18a1",
   "metadata": {},
   "outputs": [],
   "source": [
    "T04317 <- PxWebApiData::ApiData(04317, ContentsCode = \"Personer\", \n",
    "                                Grunnkretser = TRUE, \n",
    "                                Tid = as.character(aargang)) [[2]] %>%\n",
    "  dplyr::filter(!is.na(value)) %>%\n",
    "  dplyr::rename(GRUNNKRETSNUMMER = Grunnkretser,\n",
    "                PERSONER = value) %>%\n",
    "  dplyr::select(GRUNNKRETSNUMMER, PERSONER)"
   ]
  },
  {
   "cell_type": "code",
   "execution_count": null,
   "id": "e45f9075-1f4d-4a28-9d35-84db3137b2a1",
   "metadata": {},
   "outputs": [],
   "source": [
    "colnames(T04317)"
   ]
  },
  {
   "cell_type": "markdown",
   "id": "41e3a773-d6ee-4894-9885-7e1a39c2f51d",
   "metadata": {},
   "source": [
    "# OBS: Legg til opptaksområde for disse!"
   ]
  },
  {
   "cell_type": "code",
   "execution_count": null,
   "id": "ab65155a-35de-4ea6-a1f5-ad2bfaeaa68d",
   "metadata": {},
   "outputs": [],
   "source": [
    "colnames(grunnkrets_KLASS_T1_2)"
   ]
  },
  {
   "cell_type": "code",
   "execution_count": null,
   "id": "19ec872a-2e1a-4cc6-92bb-ab7cc8f5e61c",
   "metadata": {},
   "outputs": [],
   "source": [
    "hovedopptak_per_kommune <- grunnkrets_KLASS_T1_2 %>%\n",
    "# dplyr::filter(substr(GRUNNKRETSNUMMER_T1, 1, 4) == \"0101\") %>%\n",
    "dplyr::mutate(KOMMUNENUMMER = substr(GRUNNKRETSNUMMER_T1, 1, 4)) %>%\n",
    "dplyr::group_by(KOMMUNENUMMER, OPPTAK_NUMMER, OPPTAK, ORGNR_HF, NAVN_HF, ORGNR_RHF, NAVN_RHF) %>%\n",
    "tally() %>%\n",
    "dplyr::group_by(KOMMUNENUMMER) %>%\n",
    "# dplyr::filter(n()>1)\n",
    "dplyr::slice(which.max(n))"
   ]
  },
  {
   "cell_type": "code",
   "execution_count": null,
   "id": "112ade01-d913-449c-94a5-5a47087a879c",
   "metadata": {},
   "outputs": [],
   "source": [
    "grunnkrets_KLASS_T1_4 <- grunnkrets_KLASS_T1_2 %>%\n",
    "dplyr::full_join(T04317, by = c(\"GRUNNKRETSNUMMER_T1\" = \"GRUNNKRETSNUMMER\")) %>%\n",
    "dplyr::mutate(PERSONER = tidyr::replace_na(PERSONER, 0))\n",
    "\n",
    "# grunnkrets_KLASS_T1_4 %>%\n",
    "# dplyr::filter(is.na(OPPTAK), \n",
    "#              substr(GRUNNKRETSNUMMER_T1, 5, 8) != \"9999\")\n",
    "\n",
    "grunnkrets_KLASS_T1_4 %>%\n",
    "dplyr::filter(is.na(OPPTAK)) %>%\n",
    "dplyr::mutate(KOMMUNENUMMER = substr(GRUNNKRETSNUMMER_T1, 1, 4)) %>%\n",
    "dplyr::select(GRUNNKRETSNUMMER_T1, KOMMUNENUMMER) %>%\n",
    "dplyr::left_join(hovedopptak_per_kommune, by = c(\"KOMMUNENUMMER\" = \"KOMMUNENUMMER\"))\n",
    "\n",
    "# # Sjekker om antall personer stemmer med tabell 04317\n",
    "# sum(T04317$PERSONER)-sum(grunnkrets_KLASS_T1_4$PERSONER)"
   ]
  },
  {
   "cell_type": "code",
   "execution_count": null,
   "id": "fef7c1d9-9a3d-45db-b819-c799ff0397b0",
   "metadata": {},
   "outputs": [],
   "source": [
    "# grunnkrets_KLASS_T1_2"
   ]
  },
  {
   "cell_type": "markdown",
   "id": "6742a67f-f051-4474-8e5c-6b6e3a92df6c",
   "metadata": {},
   "source": [
    "### Lagrer filen "
   ]
  },
  {
   "cell_type": "code",
   "execution_count": null,
   "id": "e56f1e48-ef82-4abd-bb23-7abf150da01d",
   "metadata": {},
   "outputs": [],
   "source": [
    "test <- grunnkrets_KLASS_T1_2 %>%\n",
    "  dplyr::mutate(TOM_FORELDER = \"\") %>%\n",
    "  dplyr::select(GRUNNKRETSNUMMER_T1, GRUNNKRETS_NAVN_T1, OPPTAK_NUMMER, ORGNR_HF, NAVN_HF, OPPTAK, ORGNR_RHF, NAVN_RHF, TOM_FORELDER)\n",
    "\n",
    "level_1 <- test %>%\n",
    "  dplyr::select(ORGNR_RHF, TOM_FORELDER, NAVN_RHF) %>%\n",
    "  dplyr::rename('ns1:kode' = ORGNR_RHF, \n",
    "                'ns1:forelder' = TOM_FORELDER, \n",
    "                'ns1:navn_bokmål' = NAVN_RHF) %>%\n",
    "  dplyr::distinct()\n",
    "\n",
    "level_2 <- test %>%\n",
    "  dplyr::select(ORGNR_HF, ORGNR_RHF, NAVN_HF) %>%\n",
    "  dplyr::rename('ns1:kode' = ORGNR_HF, \n",
    "                'ns1:forelder' = ORGNR_RHF, \n",
    "                'ns1:navn_bokmål' = NAVN_HF) %>%\n",
    "  dplyr::distinct()\n",
    "\n",
    "level_3 <- test %>%\n",
    "  dplyr::select(OPPTAK_NUMMER, ORGNR_HF, OPPTAK) %>%\n",
    "  dplyr::rename('ns1:kode' = OPPTAK_NUMMER, \n",
    "                'ns1:forelder' = ORGNR_HF, \n",
    "                'ns1:navn_bokmål' = OPPTAK) %>%\n",
    "  dplyr::distinct()\n",
    "\n",
    "level_4 <- test %>%\n",
    "  dplyr::select(GRUNNKRETSNUMMER_T1, OPPTAK_NUMMER, GRUNNKRETS_NAVN_T1) %>%\n",
    "  dplyr::rename('ns1:kode' = GRUNNKRETSNUMMER_T1, \n",
    "                'ns1:forelder' = OPPTAK_NUMMER, \n",
    "                'ns1:navn_bokmål' = GRUNNKRETS_NAVN_T1) %>%\n",
    "  dplyr::distinct()\n",
    "\n",
    "KLASS <- rbind(level_1, level_2, level_3, level_4)"
   ]
  },
  {
   "cell_type": "code",
   "execution_count": null,
   "id": "4068dd58-f46e-4dfb-84b9-8eeb9cb1a82f",
   "metadata": {},
   "outputs": [],
   "source": [
    "openxlsx::write.xlsx(KLASS, file = paste0(\"/ssb/bruker/rdn/opptak_\", aargang, \".xlsx\"),\n",
    "                     rowNames = FALSE,\n",
    "                     showNA = FALSE,\n",
    "                     overwrite=T) # T = overskriver dersom filen allerede finnes, F = gir feilmelding dersom filen finnes"
   ]
  }
 ],
 "metadata": {
  "kernelspec": {
   "display_name": "R",
   "language": "R",
   "name": "ir"
  },
  "language_info": {
   "codemirror_mode": "r",
   "file_extension": ".r",
   "mimetype": "text/x-r-source",
   "name": "R",
   "pygments_lexer": "r",
   "version": "4.2.2"
  }
 },
 "nbformat": 4,
 "nbformat_minor": 5
}
