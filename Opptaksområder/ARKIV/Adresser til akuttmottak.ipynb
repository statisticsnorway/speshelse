{
 "cells": [
  {
   "cell_type": "markdown",
   "id": "78fd55b1-025b-45a0-a660-b33a7700f687",
   "metadata": {},
   "source": [
    "# Adresser til akuttmottak"
   ]
  },
  {
   "cell_type": "markdown",
   "id": "c7e9335c-be9c-4df5-8a94-0a96103f20af",
   "metadata": {},
   "source": [
    "OBS: fungerer kun på DAPLA (trenger nettilgang)"
   ]
  },
  {
   "cell_type": "code",
   "execution_count": null,
   "id": "115aa34c-0247-40ca-ad80-f6a61da97c42",
   "metadata": {},
   "outputs": [],
   "source": [
    "library(tidyverse)\n",
    "\n",
    "source(\"/home/jovyan/fellesr/R/DAPLA_funcs.R\")\n",
    "source(\"/home/jovyan/GISSB/R/address_to_coords.R\")"
   ]
  },
  {
   "cell_type": "code",
   "execution_count": null,
   "id": "c0a29a4d-fb8e-46d0-adc8-309ef943715f",
   "metadata": {},
   "outputs": [],
   "source": [
    "akuttmottak <- readxl::read_excel(\"/home/jovyan/Akuttmottak.xlsx\") %>%\n",
    "dplyr::mutate(F_POSTNR = stringr::str_pad(F_POSTNR, width = 4, \"left\", pad = \"0\"), \n",
    "             F_ADRESSE1 = case_when(\n",
    "             F_ADRESSE1 == \"Vefsnvegen 25-27\" ~ \"Vefsnvegen 25\", \n",
    "                  F_ADRESSE1 == \"Bugårdsgata 98\" ~ \"Bugårdsgata 9B\", \n",
    "                 F_ADRESSE1 == \"Kirkegata 2\" ~ \"Kirkegata 2C\",\n",
    "                 TRUE ~ F_ADRESSE1\n",
    "             ), \n",
    "              \n",
    "             F_POSTNR = case_when(\n",
    "             F_ADRESSE1 == \"Kirkegata 2C\" ~ \"7600\", \n",
    "                 TRUE ~ F_POSTNR\n",
    "             ))\n",
    "akuttmottak"
   ]
  },
  {
   "cell_type": "code",
   "execution_count": null,
   "id": "022c0f08-e98b-4227-81e0-c42b130a0c72",
   "metadata": {},
   "outputs": [],
   "source": [
    "adresser <- akuttmottak$F_ADRESSE1\n",
    "postnummer <- akuttmottak$F_POSTNR"
   ]
  },
  {
   "cell_type": "code",
   "execution_count": null,
   "id": "3cc18929-de79-4f9e-bcac-37041e73d2f0",
   "metadata": {},
   "outputs": [],
   "source": [
    "akuttmottak_coords <- address_to_coords(address = adresser,\n",
    "                         zip_code = postnummer, \n",
    "                                        crs_out = 4326,\n",
    "                                       format = \"data.frame\")\n",
    "\n",
    "akuttmottak_coords <- cbind(akuttmottak_coords, akuttmottak)"
   ]
  },
  {
   "cell_type": "code",
   "execution_count": null,
   "id": "e13e2287-f534-4461-99d8-ae2feb126c4f",
   "metadata": {},
   "outputs": [],
   "source": [
    "# # ggplot() + \n",
    "# # geom_sf(data = akuttmottak_coords)\n",
    "\n",
    "# leaflet::leaflet(akuttmottak_coords) %>% \n",
    "# leaflet::addTiles() %>% \n",
    "# leaflet::addMarkers(popup = ~ NAVN_BEDRIFT)"
   ]
  },
  {
   "cell_type": "code",
   "execution_count": null,
   "id": "cdfc3b42-7e87-4d4d-b7d1-5430de6f4296",
   "metadata": {},
   "outputs": [],
   "source": [
    "write_SSB(akuttmottak_coords, \"ssb-prod-spesh-personell-data-kilde/akuttmottak.csv\")"
   ]
  },
  {
   "cell_type": "code",
   "execution_count": null,
   "id": "ddefabb0-fb1e-44f0-8c30-f86f1530f5a8",
   "metadata": {
    "tags": []
   },
   "outputs": [],
   "source": [
    "akuttmottak_coords"
   ]
  }
 ],
 "metadata": {
  "language_info": {
   "codemirror_mode": "r",
   "file_extension": ".r",
   "mimetype": "text/x-r-source",
   "name": "R"
  }
 },
 "nbformat": 4,
 "nbformat_minor": 5
}
