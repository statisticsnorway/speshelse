{
 "cells": [
  {
   "cell_type": "markdown",
   "id": "6cf06240-8ed5-49ac-a84d-e45c19038d1f",
   "metadata": {},
   "source": [
    "# Opptaksområder DPS\n",
    "\n",
    "Kjøres i prod etter at kjøringen har blitt gjort i RStudio (OBS: flytt alt til ett sted!)"
   ]
  },
  {
   "cell_type": "markdown",
   "id": "6d5f479e-fc8c-416a-826e-620a620d3f96",
   "metadata": {},
   "source": [
    "### Velger årgang"
   ]
  },
  {
   "cell_type": "code",
   "execution_count": null,
   "id": "800accff-fdc4-419a-8bd9-bfe4ba8514a7",
   "metadata": {},
   "outputs": [],
   "source": [
    "aargang <- 2021"
   ]
  },
  {
   "cell_type": "markdown",
   "id": "4e7ec272-26d8-4d26-914f-0b9a476e79af",
   "metadata": {},
   "source": [
    "### Flate eller utenhav"
   ]
  },
  {
   "cell_type": "code",
   "execution_count": null,
   "id": "a507d6cd-d3d5-4996-a6ea-0dfbcebf6544",
   "metadata": {},
   "outputs": [],
   "source": [
    "utenhav <- FALSE\n",
    "\n",
    "if (utenhav == TRUE) {\n",
    "filsti_med_uten_hav <- \"utenhav\"\n",
    "    } else if (utenhav == FALSE) {\n",
    "  filsti_med_uten_hav <- \"flate\"\n",
    "}\n",
    "\n",
    "filsti_med_uten_hav"
   ]
  },
  {
   "cell_type": "markdown",
   "id": "2d434127-d04c-4c85-b405-6e9379f52015",
   "metadata": {},
   "source": [
    "### Laster inn pakker "
   ]
  },
  {
   "cell_type": "code",
   "execution_count": null,
   "id": "757e6b1c-97fa-4369-bee6-a1f918de2761",
   "metadata": {},
   "outputs": [],
   "source": [
    "sf::sf_use_s2(FALSE)\n",
    "CRS <- 25833\n",
    "\n",
    "suppressPackageStartupMessages({ \n",
    "library(tidyverse)\n",
    "library(readxl)\n",
    "library(klassR)\n",
    "library(sf)\n",
    "library(leaflet)\n",
    "library(sfarrow)    \n",
    "library(htmlwidgets)\n",
    "        })"
   ]
  },
  {
   "cell_type": "markdown",
   "id": "86ca7242-9003-4849-b98d-da5f3bc67eda",
   "metadata": {},
   "source": [
    "### Filstier"
   ]
  },
  {
   "cell_type": "code",
   "execution_count": null,
   "id": "88613e7b-fb6c-4bc5-93f1-0a4fe4687f3c",
   "metadata": {},
   "outputs": [],
   "source": [
    "arbeidsmappe <- \"/ssb/stamme01/fylkhels/speshelse/felles/\"\n",
    "arbeidsmappe_kart <- paste0(arbeidsmappe, \"kart/\", aargang, \"/\")\n",
    "\n",
    "arbeidsmappe_opptak <- paste0(arbeidsmappe, \"opptaksomrader/\", aargang, \"/\")\n",
    "\n",
    "if (file.exists(arbeidsmappe_opptak)==FALSE) {\n",
    "  dir.create(arbeidsmappe_opptak)\n",
    "}"
   ]
  },
  {
   "cell_type": "markdown",
   "id": "a070a3e4-c2f4-4cbd-a90f-5407c31468a9",
   "metadata": {},
   "source": [
    "### SSB fargepalett"
   ]
  },
  {
   "cell_type": "code",
   "execution_count": null,
   "id": "18cf4b28-f238-414a-bcca-468485bcd182",
   "metadata": {},
   "outputs": [],
   "source": [
    "ssb_farger <- klassR::GetKlass(614, output_style = \"wide\") %>%\n",
    "  dplyr::rename(farge_nummer = code3, \n",
    "                HEX = name3, \n",
    "                farge = name2, \n",
    "                type = name1) %>%\n",
    "  dplyr::select(-code1, -code2) %>%\n",
    "  dplyr::filter(farge != \"Hvit\")"
   ]
  },
  {
   "cell_type": "markdown",
   "id": "0f84f722-6f33-4681-91b5-36c41931671d",
   "metadata": {},
   "source": [
    "### Kodeliste for opptaksområder i spesialisthelsetjenesten (DPS)"
   ]
  },
  {
   "cell_type": "code",
   "execution_count": null,
   "id": "3aefb4d6-b8e8-4b07-8e6a-011eca0ef3e9",
   "metadata": {},
   "outputs": [],
   "source": [
    "opptaksomrader_KLASS <- klassR::GetKlass(632, output_style = \"wide\", date = c(paste0(aargang, \"-01-01\"))) %>%\n",
    "dplyr::rename(GRUNNKRETSNUMMER = code4, \n",
    "             GRUNNKRETS_NAVN = name4, \n",
    "             OPPTAK_NUMMER = code3, \n",
    "             OPPTAK = name3, \n",
    "             ORGNR_HF = code2, \n",
    "             NAVN_HF = name2, \n",
    "             ORGNR_RHF = code1, \n",
    "             NAVN_RHF = name1)\n",
    "\n",
    "opptaksomrader_KLASS_test <- opptaksomrader_KLASS %>%\n",
    "select(OPPTAK, ORGNR_HF, NAVN_HF, ORGNR_RHF, NAVN_RHF) %>%\n",
    "distinct()"
   ]
  },
  {
   "cell_type": "markdown",
   "id": "b22d5915-ff8d-46cc-9361-b41d85793f75",
   "metadata": {},
   "source": [
    "## DPS-områder"
   ]
  },
  {
   "cell_type": "code",
   "execution_count": null,
   "id": "55c0f312-6a7c-4f3a-afb5-eb7e1709ff57",
   "metadata": {},
   "outputs": [],
   "source": [
    "opptaksomrader_DPS_DPS <- sfarrow::st_read_parquet(paste0(arbeidsmappe_opptak, \"opptaksomrader_DPS_DPS_\", filsti_med_uten_hav, \"_\", aargang, \".parquet\"))"
   ]
  },
  {
   "cell_type": "code",
   "execution_count": null,
   "id": "da3b0f51-fc24-4781-b6d2-18b5250d44a1",
   "metadata": {},
   "outputs": [],
   "source": [
    "ggplot() + \n",
    "geom_sf(data = opptaksomrader_DPS_DPS)"
   ]
  },
  {
   "cell_type": "markdown",
   "id": "24fa4f1d-8f9c-47c0-a62e-36a99a843349",
   "metadata": {},
   "source": [
    "## DPS (HF)"
   ]
  },
  {
   "cell_type": "code",
   "execution_count": null,
   "id": "cf105ed1-f190-4751-9ddc-39373fe59b12",
   "metadata": {},
   "outputs": [],
   "source": [
    "opptaksomrader_DPS_HF <- opptaksomrader_DPS_DPS %>%\n",
    "dplyr::left_join(opptaksomrader_KLASS_test, by = \"OPPTAK\")"
   ]
  },
  {
   "cell_type": "code",
   "execution_count": null,
   "id": "ad4de879-4694-4583-8519-0318ef3b5b56",
   "metadata": {},
   "outputs": [],
   "source": [
    "opptaksomrader_DPS_HF <- opptaksomrader_DPS_HF %>%\n",
    "dplyr::group_by(NAVN_HF) %>%\n",
    "  dplyr::summarise(geometry = sf::st_union(sf::st_make_valid(geometry)),\n",
    "                   PERSONER = sum(PERSONER)) %>%\n",
    "  dplyr::ungroup()\n",
    "\n",
    "# Lagrer filen \n",
    "sfarrow::st_write_parquet(obj=opptaksomrader_DPS_HF, dsn=paste0(arbeidsmappe_opptak, \"opptaksomrader_DPS_HF_\", filsti_med_uten_hav, \"_\", aargang, \".parquet\"))"
   ]
  },
  {
   "cell_type": "code",
   "execution_count": null,
   "id": "e9d23f6d-be3a-47fb-921d-0444a24236a2",
   "metadata": {},
   "outputs": [],
   "source": [
    "ggplot() + \n",
    "geom_sf(data = opptaksomrader_DPS_HF)"
   ]
  },
  {
   "cell_type": "markdown",
   "id": "d11b6a88-64d2-4122-85bd-8fe10bbb587c",
   "metadata": {},
   "source": [
    "### DPS (RHF)"
   ]
  },
  {
   "cell_type": "code",
   "execution_count": null,
   "id": "a798265d-d122-4650-bf2b-57f3badbf1f7",
   "metadata": {},
   "outputs": [],
   "source": [
    "opptaksomrader_DPS_RHF <- opptaksomrader_DPS_DPS %>%\n",
    "dplyr::left_join(opptaksomrader_KLASS_test, by = \"OPPTAK\")\n",
    "\n",
    "opptaksomrader_DPS_RHF <- opptaksomrader_DPS_RHF %>%\n",
    "dplyr::group_by(NAVN_RHF) %>%\n",
    "  dplyr::summarise(geometry = sf::st_union(sf::st_make_valid(geometry)),\n",
    "                   PERSONER = sum(PERSONER)) %>%\n",
    "  dplyr::ungroup()\n",
    "\n",
    "# Lagrer filen \n",
    "sfarrow::st_write_parquet(obj=opptaksomrader_DPS_RHF, dsn=paste0(arbeidsmappe_opptak, \"opptaksomrader_DPS_RHF_\", filsti_med_uten_hav, \"_\", aargang, \".parquet\"))"
   ]
  },
  {
   "cell_type": "code",
   "execution_count": null,
   "id": "f3c352a4-3ef0-4647-b655-169dc97e5305",
   "metadata": {},
   "outputs": [],
   "source": [
    "ggplot() + \n",
    "geom_sf(data = opptaksomrader_DPS_RHF)"
   ]
  }
 ],
 "metadata": {
  "language_info": {
   "codemirror_mode": "r",
   "file_extension": ".r",
   "mimetype": "text/x-r-source",
   "name": "R"
  }
 },
 "nbformat": 4,
 "nbformat_minor": 5
}
