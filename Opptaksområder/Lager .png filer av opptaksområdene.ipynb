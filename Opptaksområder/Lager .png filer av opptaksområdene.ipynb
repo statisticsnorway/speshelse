{
 "cells": [
  {
   "cell_type": "markdown",
   "id": "6a4ed186-d62d-4a49-82a6-f46d8c2a900b",
   "metadata": {},
   "source": [
    "# Lager .png filer av opptaksområdene"
   ]
  },
  {
   "cell_type": "code",
   "execution_count": null,
   "id": "e476c679-1d77-4903-8804-ab4994ab91a0",
   "metadata": {},
   "outputs": [],
   "source": [
    "aargang <- 2022"
   ]
  },
  {
   "cell_type": "code",
   "execution_count": null,
   "id": "9cad2db2-c187-44d7-b934-e7bb09d294aa",
   "metadata": {},
   "outputs": [],
   "source": [
    "sf::sf_use_s2(FALSE)\n",
    "CRS <- 4326\n",
    "\n",
    "suppressPackageStartupMessages({ \n",
    "library(tidyverse)\n",
    "library(readxl)\n",
    "library(klassR)\n",
    "library(sf)\n",
    "library(leaflet)\n",
    "library(sfarrow)    \n",
    "        })\n",
    "\n",
    "source(\"/home/jovyan/fellesr/R/DAPLA_funcs.R\")\n",
    "\n",
    "  rename_geometry <- function(g, name){\n",
    "    current = attr(g, \"sf_column\")\n",
    "    names(g)[names(g)==current] = name\n",
    "    sf::st_geometry(g)=name\n",
    "    g\n",
    "  }"
   ]
  },
  {
   "cell_type": "code",
   "execution_count": null,
   "id": "b0d67d31-b737-41eb-a7f1-5c0be62f1822",
   "metadata": {},
   "outputs": [],
   "source": [
    "arbeidsmappe_kart <- paste0(\"ssb-prod-dapla-felles-data-delt/GIS/Kart/\", aargang, \"/\")\n",
    "\n",
    "# grunnkrets_kart_filsti <- paste0(arbeidsmappe_kart, \"ABAS_grunnkrets_utenhav_\", aargang, \"/\")\n",
    "\n",
    "opptaksomrader_SOM_RHF_filsti <- paste0(\"ssb-prod-helse-speshelse-data-kilde/felles/Kart/\", aargang, \"/Opptaksområder/opptaksomrader_SOM_RHF_\", aargang, \"/\")\n",
    "\n",
    "opptaksomrader_SOM_RHF_filsti"
   ]
  },
  {
   "cell_type": "code",
   "execution_count": null,
   "id": "e1af83f4-c015-43ae-8547-102d9a1f9ff9",
   "metadata": {},
   "outputs": [],
   "source": [
    "opptaksomrader_SOM_RHF <- open_dataset(opptaksomrader_SOM_RHF_filsti) %>%\n",
    "    sfarrow::read_sf_dataset()"
   ]
  },
  {
   "cell_type": "code",
   "execution_count": null,
   "id": "ad7cc3bc-3751-42b9-839b-c6045d529013",
   "metadata": {},
   "outputs": [],
   "source": [
    "ggplot() + \n",
    "geom_sf(data = opptaksomrader_SOM_RHF)"
   ]
  },
  {
   "cell_type": "code",
   "execution_count": null,
   "id": "a7b3d01b-dbad-48c8-ae04-e467ca1ae99f",
   "metadata": {},
   "outputs": [],
   "source": []
  }
 ],
 "metadata": {
  "language_info": {
   "codemirror_mode": "r",
   "file_extension": ".r",
   "mimetype": "text/x-r-source",
   "name": "R"
  }
 },
 "nbformat": 4,
 "nbformat_minor": 5
}
