{
 "cells": [
  {
   "cell_type": "markdown",
   "id": "6a4ed186-d62d-4a49-82a6-f46d8c2a900b",
   "metadata": {},
   "source": [
    "# Lager .png filer av opptaksområdene"
   ]
  },
  {
   "cell_type": "code",
   "execution_count": null,
   "id": "e476c679-1d77-4903-8804-ab4994ab91a0",
   "metadata": {},
   "outputs": [],
   "source": [
    "aargang <- 2022"
   ]
  },
  {
   "cell_type": "code",
   "execution_count": null,
   "id": "1f45a147-8ddb-4069-880e-1f5f1d550ab3",
   "metadata": {
    "tags": []
   },
   "outputs": [],
   "source": [
    "utenhav <- FALSE\n",
    "\n",
    "if (utenhav == TRUE) {\n",
    "filsti_med_uten_hav <- \"utenhav\"\n",
    "    } else if (utenhav == FALSE) {\n",
    "  filsti_med_uten_hav <- \"flate\"\n",
    "}\n",
    "\n",
    "filsti_med_uten_hav"
   ]
  },
  {
   "cell_type": "code",
   "execution_count": null,
   "id": "9cad2db2-c187-44d7-b934-e7bb09d294aa",
   "metadata": {},
   "outputs": [],
   "source": [
    "sf::sf_use_s2(FALSE)\n",
    "CRS <- 4326\n",
    "\n",
    "suppressPackageStartupMessages({ \n",
    "library(tidyverse)\n",
    "library(readxl)\n",
    "library(klassR)\n",
    "library(sf)\n",
    "library(leaflet)\n",
    "library(sfarrow)    \n",
    "        })\n",
    "\n",
    "source(\"/home/jovyan/fellesr/R/DAPLA_funcs.R\")\n",
    "\n",
    "  rename_geometry <- function(g, name){\n",
    "    current = attr(g, \"sf_column\")\n",
    "    names(g)[names(g)==current] = name\n",
    "    sf::st_geometry(g)=name\n",
    "    g\n",
    "  }"
   ]
  },
  {
   "cell_type": "code",
   "execution_count": null,
   "id": "b0d67d31-b737-41eb-a7f1-5c0be62f1822",
   "metadata": {},
   "outputs": [],
   "source": [
    "arbeidsmappe_kart <- paste0(\"ssb-prod-dapla-felles-data-delt/GIS/Kart/\", aargang, \"/\")\n",
    "\n",
    "# grunnkrets_kart_filsti <- paste0(arbeidsmappe_kart, \"ABAS_grunnkrets_utenhav_\", aargang, \"/\")\n",
    "\n",
    "opptaksomrader_SOM_RHF_filsti <- paste0(\"ssb-prod-helse-speshelse-data-kilde/felles/Kart/\", aargang, \"/Opptaksområder/opptaksomrader_SOM_RHF_\", filsti_med_uten_hav, \"_\", aargang, \"/\")\n",
    "opptaksomrader_SOM_RHF_filsti\n",
    "\n",
    "opptaksomrader_SOM_HF_filsti <- paste0(\"ssb-prod-helse-speshelse-data-kilde/felles/Kart/\", aargang, \"/Opptaksområder/opptaksomrader_SOM_HF_\", filsti_med_uten_hav, \"_\", aargang, \"/\")\n",
    "opptaksomrader_SOM_HF_filsti\n",
    "\n",
    "opptaksomrader_SOM_lokasjon_filsti <- paste0(\"ssb-prod-helse-speshelse-data-kilde/felles/Kart/\", aargang, \"/Opptaksområder/opptaksomrader_SOM_lokasjon_\", filsti_med_uten_hav, \"_\", aargang, \"/\")\n",
    "opptaksomrader_SOM_lokasjon_filsti"
   ]
  },
  {
   "cell_type": "code",
   "execution_count": null,
   "id": "e1af83f4-c015-43ae-8547-102d9a1f9ff9",
   "metadata": {},
   "outputs": [],
   "source": [
    "# opptaksomrader_SOM_RHF <- open_dataset(opptaksomrader_SOM_RHF_filsti) %>%\n",
    "#     sfarrow::read_sf_dataset() %>%\n",
    "#     sf::st_simplify(preserveTopology = FALSE, dTolerance = 1000)\n",
    "\n",
    "opptaksomrader_SOM_HF <- open_dataset(opptaksomrader_SOM_HF_filsti) %>%\n",
    "    sfarrow::read_sf_dataset() # %>%\n",
    "    # sf::st_simplify(preserveTopology = FALSE, dTolerance = 1000)\n",
    "\n",
    "# opptaksomrader_SOM_lokasjon <- open_dataset(opptaksomrader_SOM_lokasjon_filsti) %>%\n",
    "#     sfarrow::read_sf_dataset() %>%\n",
    "#     sf::st_simplify(preserveTopology = FALSE, dTolerance = 1000)"
   ]
  },
  {
   "cell_type": "markdown",
   "id": "4e00a6ff-b24a-4266-9543-de4afafda2d5",
   "metadata": {},
   "source": [
    "### SSB fargepalett"
   ]
  },
  {
   "cell_type": "code",
   "execution_count": null,
   "id": "f4411bf3-ce05-4922-a66e-fa1d7d974772",
   "metadata": {
    "tags": []
   },
   "outputs": [],
   "source": [
    "Sys.setenv(no_proxy = \"nexus.ssb.no, git-adm.ssb.no, i.test.ssb.no, i.ssb.no, data.ssb.no, api.github.com, github.com\") # OBS: denne burde ikke være nødvendig?\n",
    "\n",
    "ssb_farger <- klassR::GetKlass(614, output_style = \"wide\") %>%\n",
    "  dplyr::rename(farge_nummer = code3, \n",
    "                HEX = name3, \n",
    "                farge = name2, \n",
    "                type = name1) %>%\n",
    "  dplyr::select(-code1, -code2) %>%\n",
    "  dplyr::filter(farge != \"Hvit\")"
   ]
  },
  {
   "cell_type": "markdown",
   "id": "bd8a2ff4-f043-4a32-9d02-ef2c8297e291",
   "metadata": {},
   "source": [
    "## Alle regioner"
   ]
  },
  {
   "cell_type": "code",
   "execution_count": null,
   "id": "ad7cc3bc-3751-42b9-839b-c6045d529013",
   "metadata": {},
   "outputs": [],
   "source": [
    "# ggplot() + \n",
    "# geom_sf(data = opptaksomrader_SOM_RHF)"
   ]
  },
  {
   "cell_type": "code",
   "execution_count": null,
   "id": "4eed2a85-1e57-4103-a6eb-c594480f5522",
   "metadata": {},
   "outputs": [],
   "source": [
    "# ggplot() + \n",
    "# geom_sf(data = opptaksomrader_SOM_HF)"
   ]
  },
  {
   "cell_type": "code",
   "execution_count": null,
   "id": "86c9a611-cfb8-48eb-9778-7b826057dc06",
   "metadata": {},
   "outputs": [],
   "source": [
    "# ggplot() + \n",
    "# geom_sf(data = opptaksomrader_SOM_lokasjon)"
   ]
  },
  {
   "cell_type": "markdown",
   "id": "6e29c783-f122-47fc-a18c-fcb44ffb9bdc",
   "metadata": {},
   "source": [
    "## Per RHF"
   ]
  },
  {
   "cell_type": "markdown",
   "id": "f2c7145d-99f5-45eb-94b2-56c992249e12",
   "metadata": {},
   "source": [
    "### Helse Sør-Øst"
   ]
  },
  {
   "cell_type": "code",
   "execution_count": null,
   "id": "aa2de159-65e3-4905-8f89-c4e7bb57f11e",
   "metadata": {
    "tags": []
   },
   "outputs": [],
   "source": [
    "ssb_farger_blaa <- ssb_farger %>%\n",
    "filter(farge_nummer == \"SSB Blå 2\")"
   ]
  },
  {
   "cell_type": "code",
   "execution_count": null,
   "id": "96de60fd-a404-40ea-9f63-61c02d764f3a",
   "metadata": {
    "tags": []
   },
   "outputs": [],
   "source": [
    "# opptaksomrader_SOM_RHF_H12 <- opptaksomrader_SOM_RHF %>%\n",
    "# filter(NAVN_RHF == \"HELSE SØR-ØST RHF\")"
   ]
  },
  {
   "cell_type": "code",
   "execution_count": null,
   "id": "5f2db6bf-db7d-4953-8e6c-c499ebcb4dfc",
   "metadata": {
    "tags": []
   },
   "outputs": [],
   "source": [
    "# ggplot() + \n",
    "# geom_sf(data = opptaksomrader_SOM_RHF_H12)"
   ]
  },
  {
   "cell_type": "code",
   "execution_count": null,
   "id": "14086ea2-b8c9-4e39-ad42-d14d010df40b",
   "metadata": {
    "tags": []
   },
   "outputs": [],
   "source": [
    "# X_left <- 4.3\n",
    "X_left <- 6.3\n",
    "X_right <- 13\n",
    "\n",
    "# OBS:\n",
    "opptaksomrader_SOM_HF_H12 <- opptaksomrader_SOM_HF %>%\n",
    "filter(NAVN_HF %in% c(\"VESTRE VIKEN HF\", \"DIAKONHJEMMET SYKEHUS AS\", \"SYKEHUSET TELEMARK HF\", \"SØRLANDET SYKEHUS HF\", \"SYKEHUSET INNLANDET HF\", \n",
    "\"AKERSHUS UNIVERSITETSSYKEHUS HF\", \"LOVISENBERG DIAKONALE SYKEHUS AS\", \"OSLO UNIVERSITETSSYKEHUS HF\", \"SYKEHUSET I VESTFOLD HF\", \"SYKEHUSET ØSTFOLD HF\")) %>%\n",
    "# filter(NAVN_RHF == \"HELSE SØR-ØST RHF\") %>%\n",
    "sf::st_transform(crs = 4326)\n",
    "\n",
    "opptaksomrader_SOM_HF_H12_points <- sf::st_point_on_surface(opptaksomrader_SOM_HF_H12) %>%\n",
    "sf::st_coordinates() %>%\n",
    "data.frame()\n",
    "\n",
    "opptaksomrader_SOM_HF_H12_df <- opptaksomrader_SOM_HF_H12 %>% data.frame() %>% select(NAVN_HF)\n",
    "opptaksomrader_SOM_HF_H12_points <- cbind(opptaksomrader_SOM_HF_H12_df, opptaksomrader_SOM_HF_H12_points) %>%\n",
    "mutate(Y = case_when(NAVN_HF == \"AKERSHUS UNIVERSITETSSYKEHUS HF\" ~ Y+0.2, \n",
    "      NAVN_HF == \"SYKEHUSET I VESTFOLD HF\" ~ Y-0.2, TRUE ~ Y))\n",
    "\n",
    "# opptaksomrader_SOM_HF_H12_coords <- as.data.frame(sf::st_coordinates(opptaksomrader_SOM_HF_H12_points))\n",
    "opptaksomrader_SOM_HF_H12_coords <- opptaksomrader_SOM_HF_H12_points\n",
    "opptaksomrader_SOM_HF_H12_coords$NAVN_HF <- opptaksomrader_SOM_HF_H12$NAVN_HF\n",
    "\n",
    "opptaksomrader_SOM_HF_H12_coords <- opptaksomrader_SOM_HF_H12_coords # %>%\n",
    "# mutate(Y = case_when(NAVN_HF == \"AKERSHUS UNIVERSITETSSYKEHUS HF\" ~ Y+0.2, TRUE ~ Y))\n",
    "\n",
    "# opptaksomrader_SOM_HF_H12_coords <- opptaksomrader_SOM_HF_H12_coords %>%\n",
    "# dplyr::mutate(X = 13) %>%\n",
    "# dplyr::mutate(X = case_when(NAME %in% c(\"VESTRE VIKEN HF\", \"DIAKONHJEMMET SYKEHUS AS\", \"SYKEHUSET TELEMARK HF\", \"SØRLANDET SYKEHUS HF\", \"SYKEHUSET INNLANDET HF\") ~ 4.5, TRUE ~ X))\n",
    "\n",
    "opptaksomrader_SOM_HF_H12_coords_left <- opptaksomrader_SOM_HF_H12_coords %>%\n",
    "filter(NAVN_HF %in% c(\"VESTRE VIKEN HF\", \"DIAKONHJEMMET SYKEHUS AS\", \"SYKEHUSET TELEMARK HF\", \"SØRLANDET SYKEHUS HF\", \"SYKEHUSET INNLANDET HF\")) %>%\n",
    "# dplyr::mutate(X = 6.3)\n",
    "dplyr::mutate(X = X_left)\n",
    "\n",
    "opptaksomrader_SOM_HF_H12_coords_right <- opptaksomrader_SOM_HF_H12_coords %>%\n",
    "filter(!NAVN_HF %in% c(\"VESTRE VIKEN HF\", \"DIAKONHJEMMET SYKEHUS AS\", \"SYKEHUSET TELEMARK HF\", \"SØRLANDET SYKEHUS HF\", \"SYKEHUSET INNLANDET HF\")) %>%\n",
    "dplyr::mutate(X = X_right)\n",
    "\n",
    "opptaksomrader_SOM_HF_H12_coords_both <- rbind(opptaksomrader_SOM_HF_H12_coords_left, opptaksomrader_SOM_HF_H12_coords_right) # %>%\n",
    "\n",
    "point_map <- opptaksomrader_SOM_HF_H12_points %>%\n",
    "sf::st_as_sf(coords = c(\"X\", \"Y\")) %>%\n",
    "select(NAVN_HF, geometry) %>%\n",
    "st_set_crs(4326)\n",
    "# data.frame()\n",
    "\n",
    "# ggplot() + \n",
    "# geom_sf(data = point_map)\n",
    "\n",
    "point_name <- opptaksomrader_SOM_HF_H12_coords_both %>%\n",
    "mutate(X = case_when(X == X_left ~ X_left+0.1, \n",
    "                     X == X_right ~ X_right-0.1, \n",
    "                     TRUE ~ X)) %>%\n",
    "# dplyr::rename(NAVN_HF = NAME) %>%\n",
    "sf::st_as_sf(coords = c(\"X\", \"Y\")) %>%\n",
    "select(NAVN_HF, geometry) %>%\n",
    "st_set_crs(4326)\n",
    "# data.frame()\n",
    "\n",
    "# ggplot() + \n",
    "# geom_sf(data = point_map, color = \"red\") +\n",
    "# geom_sf(data = point_name)\n",
    "\n",
    "\n",
    "point_both <- rbind(point_map, point_name) %>%\n",
    "group_by(NAVN_HF) %>%\n",
    "summarise(do_union=F) %>% st_cast(\"LINESTRING\")\n",
    "\n",
    "sf_use_s2(FALSE)\n",
    "options(repr.plot.width=20, repr.plot.height=20)\n",
    "\n",
    "main_map <- ggplot() + \n",
    "geom_sf(data = opptaksomrader_SOM_HF_H12, fill = ssb_farger_blaa$HEX, color = \"white\", lwd = 1) +\n",
    "geom_sf(data = point_both, color = \"black\", lwd = 0.1) +\n",
    "# coord_sf(expand = FALSE) +\n",
    "geom_point(data = opptaksomrader_SOM_HF_H12_coords, aes(x = X, y = Y), colour = \"white\", size = 2) +\n",
    "geom_text(data = opptaksomrader_SOM_HF_H12_coords_right, aes(X, Y, label = NAVN_HF), colour = \"black\", hjust  = 0, check_overlap = F, size = 5) +\n",
    "geom_text(data = opptaksomrader_SOM_HF_H12_coords_left, aes(X, Y, label = NAVN_HF), colour = \"black\", \n",
    "          hjust  = 1, \n",
    "          # hjust  = 0, \n",
    "          check_overlap = F, size = 5) +\n",
    "coord_sf(xlim=c(2, 17), ylim=c(57.5, 63), expand = TRUE) +\n",
    "theme_void()\n",
    "\n",
    "main_map"
   ]
  },
  {
   "cell_type": "code",
   "execution_count": null,
   "id": "883caf2b-a871-45cd-b08b-4c558067be8e",
   "metadata": {
    "tags": []
   },
   "outputs": [],
   "source": [
    "opptaksomrader_SOM_HF_H12_oslo <- opptaksomrader_SOM_HF %>%\n",
    "filter(NAVN_HF %in% c(\"DIAKONHJEMMET SYKEHUS AS\", \"OSLO UNIVERSITETSSYKEHUS HF\", \"LOVISENBERG DIAKONALE SYKEHUS AS\")) %>%\n",
    "# filter(NAVN_RHF == \"HELSE SØR-ØST RHF\") %>%\n",
    "sf::st_transform(crs = 4326)"
   ]
  },
  {
   "cell_type": "code",
   "execution_count": null,
   "id": "2ea7e73c-7d61-4571-a0d0-7e126ee6e286",
   "metadata": {
    "tags": []
   },
   "outputs": [],
   "source": [
    "ggplot() + \n",
    "geom_sf(data = opptaksomrader_SOM_HF_H12_oslo, aes(fill = NAVN_HF)) +\n",
    "# geom_sf(data = opptaksomrader_SOM_HF_H12_oslo, fill = ssb_farger_blaa$HEX, color = \"white\", lwd = 1) +\n",
    "# geom_sf(data = point_both, color = \"black\", lwd = 0.1) +\n",
    "# coord_sf(expand = FALSE) +\n",
    "# geom_point(data = opptaksomrader_SOM_HF_H12_coords, aes(x = X, y = Y), colour = \"white\", size = 2) +\n",
    "# geom_text(data = opptaksomrader_SOM_HF_H12_coords_right, aes(X, Y, label = NAVN_HF), colour = \"black\", hjust  = 0, check_overlap = F, size = 5) +\n",
    "# geom_text(data = opptaksomrader_SOM_HF_H12_coords_left, aes(X, Y, label = NAVN_HF), colour = \"black\", \n",
    "#           hjust  = 1, \n",
    "#           # hjust  = 0, \n",
    "#           check_overlap = F, size = 5) +\n",
    "# coord_sf(xlim=c(2, 17), ylim=c(57.5, 63), expand = TRUE) +\n",
    "theme_void()"
   ]
  },
  {
   "cell_type": "code",
   "execution_count": null,
   "id": "67b08846-381f-428b-a941-7fdb44f7b7c8",
   "metadata": {
    "tags": []
   },
   "outputs": [],
   "source": [
    "library(cowplot)"
   ]
  }
 ],
 "metadata": {
  "language_info": {
   "codemirror_mode": "r",
   "file_extension": ".r",
   "mimetype": "text/x-r-source",
   "name": "R"
  }
 },
 "nbformat": 4,
 "nbformat_minor": 5
}
