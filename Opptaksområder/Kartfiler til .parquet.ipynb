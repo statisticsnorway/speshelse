{
 "cells": [
  {
   "cell_type": "markdown",
   "id": "442a72c7-318f-48eb-8f5d-6446ef0a669a",
   "metadata": {},
   "source": [
    "# Kartfiler til .parquet\n",
    "\n",
    "OBS: grunnkrets og fylke mangler for 2020!"
   ]
  },
  {
   "cell_type": "code",
   "execution_count": 8,
   "id": "f750a2c2-f8a2-46ed-8a33-8e0ab34b85ba",
   "metadata": {},
   "outputs": [
    {
     "name": "stdin",
     "output_type": "stream",
     "text": [
      "Skriv inn Windows-passord ·················\n"
     ]
    }
   ],
   "source": [
    "aargang <- 2020\n",
    "\n",
    "# Logg på for å få tilgang til data fra X-disken\n",
    "system(\"kinit\", input = getPass::getPass(\"Skriv inn Windows-passord\"))"
   ]
  },
  {
   "cell_type": "code",
   "execution_count": 9,
   "id": "b29c8913-fad2-433a-addc-30df387aa890",
   "metadata": {},
   "outputs": [],
   "source": [
    "arbeidsmappe <- \"/ssb/stamme01/fylkhels/speshelse/felles/\""
   ]
  },
  {
   "cell_type": "code",
   "execution_count": 10,
   "id": "e0cccdca-665a-411d-afa8-6588dc345960",
   "metadata": {},
   "outputs": [],
   "source": [
    "kart_mappe <- paste0(arbeidsmappe, \"kart/\")\n",
    "\n",
    "if (file.exists(kart_mappe)==FALSE) {\n",
    "  dir.create(kart_mappe)\n",
    "}"
   ]
  },
  {
   "cell_type": "code",
   "execution_count": 11,
   "id": "5b9fd35b-9800-4b73-a2b9-742b2e95cbe0",
   "metadata": {},
   "outputs": [],
   "source": [
    "kart_aargang_mappe <- paste0(kart_mappe, aargang, \"/\")\n",
    "\n",
    "if (file.exists(kart_aargang_mappe)==FALSE) {\n",
    "  dir.create(kart_aargang_mappe)\n",
    "}"
   ]
  },
  {
   "cell_type": "markdown",
   "id": "226d423c-9908-4265-b967-f96cb1b0f66c",
   "metadata": {},
   "source": [
    "## Laster inn filer"
   ]
  },
  {
   "cell_type": "code",
   "execution_count": 12,
   "id": "a8671445-0acf-429a-ad30-be9453bd35d8",
   "metadata": {},
   "outputs": [
    {
     "data": {
      "text/plain": [
       "Driver: OpenFileGDB \n",
       "Available layers:\n",
       "                 layer_name geometry_type features fields\n",
       "1    N5000_fylke_flate_2020 Multi Polygon       11      4\n",
       "2  N5000_kommune_flate_2020 Multi Polygon      356      5\n",
       "3 ABAS_kommune_utenhav_2020 Multi Polygon      356      6\n",
       "4   ABAS_kommune_flate_2020 Multi Polygon      356      7"
      ]
     },
     "metadata": {},
     "output_type": "display_data"
    }
   ],
   "source": [
    "sf::st_layers(paste0(\"/ssb/x_disk/Felles/GIS-ressurssenter/KartdataQ/BasisKart/kart\", aargang, \".gdb\"))"
   ]
  },
  {
   "cell_type": "code",
   "execution_count": 14,
   "id": "e121749b-358d-46fb-b22e-af26235dbff1",
   "metadata": {},
   "outputs": [],
   "source": [
    "# ABAS_grunnkrets_utenhav <- sf::read_sf(paste0(\"/ssb/x_disk/Felles/GIS-ressurssenter/KartdataQ/BasisKart/kart\", aargang, \".gdb\"), layer = paste0(\"ABAS_grunnkrets_utenhav_\", aargang))"
   ]
  },
  {
   "cell_type": "code",
   "execution_count": 15,
   "id": "a0b77e83-9878-44a0-a21c-9d64252796a5",
   "metadata": {},
   "outputs": [],
   "source": [
    "# ABAS_grunnkrets_flate <- sf::read_sf(paste0(\"/ssb/x_disk/Felles/GIS-ressurssenter/KartdataQ/BasisKart/kart\", aargang, \".gdb\"), layer = paste0(\"ABAS_grunnkrets_flate_\", aargang))"
   ]
  },
  {
   "cell_type": "code",
   "execution_count": 16,
   "id": "f439202b-3201-4984-bcfe-66b5692b8b32",
   "metadata": {},
   "outputs": [
    {
     "name": "stderr",
     "output_type": "stream",
     "text": [
      "Warning message in CPL_read_ogr(dsn, layer, query, as.character(options), quiet, :\n",
      "“GDAL Message 1: organizePolygons() received a polygon with more than 100 parts. The processing may be really slow.  You can skip the processing by setting METHOD=SKIP, or only make it analyze counter-clock wise parts by setting METHOD=ONLY_CCW if you can assume that the outline of holes is counter-clock wise defined”\n"
     ]
    }
   ],
   "source": [
    "ABAS_kommune_utenhav <- sf::read_sf(paste0(\"/ssb/x_disk/Felles/GIS-ressurssenter/KartdataQ/BasisKart/kart\", aargang, \".gdb\"), layer = paste0(\"ABAS_kommune_utenhav_\", aargang))"
   ]
  },
  {
   "cell_type": "code",
   "execution_count": 17,
   "id": "0bf62c70-3c92-440d-9ef0-38f44e1d57e7",
   "metadata": {},
   "outputs": [],
   "source": [
    "ABAS_kommune_flate <- sf::read_sf(paste0(\"/ssb/x_disk/Felles/GIS-ressurssenter/KartdataQ/BasisKart/kart\", aargang, \".gdb\"), layer = paste0(\"ABAS_kommune_flate_\", aargang))"
   ]
  },
  {
   "cell_type": "code",
   "execution_count": 18,
   "id": "433cd11f-d7d0-427c-845e-42be34b90399",
   "metadata": {},
   "outputs": [
    {
     "name": "stdout",
     "output_type": "stream",
     "text": [
      "Cannot open layer ABAS_fylke_flate_2020\n"
     ]
    },
    {
     "ename": "ERROR",
     "evalue": "Error in CPL_read_ogr(dsn, layer, query, as.character(options), quiet, : Opening layer failed.\n\n",
     "output_type": "error",
     "traceback": [
      "Error in CPL_read_ogr(dsn, layer, query, as.character(options), quiet, : Opening layer failed.\n\nTraceback:\n",
      "1. sf::read_sf(paste0(\"/ssb/x_disk/Felles/GIS-ressurssenter/KartdataQ/BasisKart/kart\", \n .     aargang, \".gdb\"), layer = paste0(\"ABAS_fylke_flate_\", aargang))",
      "2. st_read(..., quiet = quiet, stringsAsFactors = stringsAsFactors, \n .     as_tibble = as_tibble)",
      "3. st_read.character(..., quiet = quiet, stringsAsFactors = stringsAsFactors, \n .     as_tibble = as_tibble)",
      "4. CPL_read_ogr(dsn, layer, query, as.character(options), quiet, \n .     type, fid_column_name, drivers, wkt_filter, promote_to_multi, \n .     int64_as_string, dsn_exists, dsn_isdb, getOption(\"width\"))"
     ]
    }
   ],
   "source": [
    "# ABAS_fylke_flate <- sf::read_sf(paste0(\"/ssb/x_disk/Felles/GIS-ressurssenter/KartdataQ/BasisKart/kart\", aargang, \".gdb\"), layer = paste0(\"ABAS_fylke_flate_\", aargang))"
   ]
  },
  {
   "cell_type": "markdown",
   "id": "7ce17915-0175-4eea-b781-8ca2cd266d91",
   "metadata": {},
   "source": [
    "## Lagrer filer"
   ]
  },
  {
   "cell_type": "code",
   "execution_count": null,
   "id": "8bf406cf-b425-477f-8e4d-14a70f07dc50",
   "metadata": {},
   "outputs": [],
   "source": [
    "# sfarrow::st_write_parquet(obj=ABAS_grunnkrets_utenhav, dsn=paste0(kart_aargang_mappe, \"ABAS_grunnkrets_utenhav_\", aargang, \".parquet\"))"
   ]
  },
  {
   "cell_type": "code",
   "execution_count": null,
   "id": "143aee8b-d2ca-4679-b8d5-18dd64cb0e93",
   "metadata": {},
   "outputs": [],
   "source": [
    "# sfarrow::st_write_parquet(obj=ABAS_grunnkrets_flate, dsn=paste0(kart_aargang_mappe, \"ABAS_grunnkrets_flate_\", aargang, \".parquet\"))"
   ]
  },
  {
   "cell_type": "code",
   "execution_count": 19,
   "id": "ad51427d-01e7-47b6-adbc-4d14cb19566b",
   "metadata": {},
   "outputs": [
    {
     "name": "stderr",
     "output_type": "stream",
     "text": [
      "Warning message:\n",
      "“This is an initial implementation of Parquet/Feather file support and\n",
      "geo metadata. This is tracking version 0.1.0 of the metadata\n",
      "(https://github.com/geopandas/geo-arrow-spec). This metadata\n",
      "specification may change and does not yet make stability promises.  We\n",
      "do not yet recommend using this in a production setting unless you are\n",
      "able to rewrite your Parquet/Feather files.”\n"
     ]
    }
   ],
   "source": [
    "sfarrow::st_write_parquet(obj=ABAS_kommune_utenhav, dsn=paste0(kart_aargang_mappe, \"ABAS_kommune_utenhav_\", aargang, \".parquet\"))"
   ]
  },
  {
   "cell_type": "code",
   "execution_count": 20,
   "id": "85def940-aa35-4555-89df-f0c0ea18ba46",
   "metadata": {},
   "outputs": [
    {
     "name": "stderr",
     "output_type": "stream",
     "text": [
      "Warning message:\n",
      "“This is an initial implementation of Parquet/Feather file support and\n",
      "geo metadata. This is tracking version 0.1.0 of the metadata\n",
      "(https://github.com/geopandas/geo-arrow-spec). This metadata\n",
      "specification may change and does not yet make stability promises.  We\n",
      "do not yet recommend using this in a production setting unless you are\n",
      "able to rewrite your Parquet/Feather files.”\n"
     ]
    }
   ],
   "source": [
    "sfarrow::st_write_parquet(obj=ABAS_kommune_flate, dsn=paste0(kart_aargang_mappe, \"ABAS_kommune_flate_\", aargang, \".parquet\"))"
   ]
  },
  {
   "cell_type": "code",
   "execution_count": null,
   "id": "2e4536e7-113f-4c58-9f90-2875d9295ca4",
   "metadata": {},
   "outputs": [],
   "source": [
    "# sfarrow::st_write_parquet(obj=ABAS_fylke_flate, dsn=paste0(kart_aargang_mappe, \"ABAS_fylke_flate_\", aargang, \".parquet\"))"
   ]
  },
  {
   "cell_type": "code",
   "execution_count": null,
   "id": "6aee25a3-dc89-4507-8f5a-7cb79b3d85b9",
   "metadata": {},
   "outputs": [],
   "source": []
  }
 ],
 "metadata": {
  "kernelspec": {
   "display_name": "R",
   "language": "R",
   "name": "ir"
  },
  "language_info": {
   "codemirror_mode": "r",
   "file_extension": ".r",
   "mimetype": "text/x-r-source",
   "name": "R",
   "pygments_lexer": "r",
   "version": "4.2.2"
  }
 },
 "nbformat": 4,
 "nbformat_minor": 5
}
