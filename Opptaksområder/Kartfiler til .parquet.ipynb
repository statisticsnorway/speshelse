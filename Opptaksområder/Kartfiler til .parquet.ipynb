{
 "cells": [
  {
   "cell_type": "markdown",
   "id": "442a72c7-318f-48eb-8f5d-6446ef0a669a",
   "metadata": {},
   "source": [
    "# Kartfiler til .parquet\n",
    "\n",
    "OBS: grunnkrets og fylke mangler for 2020!"
   ]
  },
  {
   "cell_type": "code",
   "execution_count": null,
   "id": "d1f13ebc-21b7-4464-aede-c1d4c51b47d1",
   "metadata": {
    "tags": []
   },
   "outputs": [],
   "source": [
    "source(\"/home/jovyan/fellesr/R/DAPLA_funcs.R\")\n",
    "library(tidyverse)"
   ]
  },
  {
   "cell_type": "code",
   "execution_count": null,
   "id": "f750a2c2-f8a2-46ed-8a33-8e0ab34b85ba",
   "metadata": {},
   "outputs": [],
   "source": [
    "aargang <- 2023\n",
    "\n",
    "# Logg på for å få tilgang til data fra X-disken\n",
    "# system(\"kinit\", input = getPass::getPass(\"Skriv inn Windows-passord\"))"
   ]
  },
  {
   "cell_type": "code",
   "execution_count": null,
   "id": "b29c8913-fad2-433a-addc-30df387aa890",
   "metadata": {},
   "outputs": [],
   "source": [
    "arbeidsmappe <- \"/ssb/stamme01/fylkhels/speshelse/felles/\""
   ]
  },
  {
   "cell_type": "code",
   "execution_count": null,
   "id": "e0cccdca-665a-411d-afa8-6588dc345960",
   "metadata": {},
   "outputs": [],
   "source": [
    "kart_mappe <- paste0(arbeidsmappe, \"kart/\")\n",
    "\n",
    "if (file.exists(kart_mappe)==FALSE) {\n",
    "  dir.create(kart_mappe)\n",
    "}"
   ]
  },
  {
   "cell_type": "code",
   "execution_count": null,
   "id": "5b9fd35b-9800-4b73-a2b9-742b2e95cbe0",
   "metadata": {},
   "outputs": [],
   "source": [
    "kart_aargang_mappe <- paste0(kart_mappe, aargang, \"/\")\n",
    "\n",
    "if (file.exists(kart_aargang_mappe)==FALSE) {\n",
    "  dir.create(kart_aargang_mappe)\n",
    "}"
   ]
  },
  {
   "cell_type": "markdown",
   "id": "226d423c-9908-4265-b967-f96cb1b0f66c",
   "metadata": {},
   "source": [
    "## Laster inn filer"
   ]
  },
  {
   "cell_type": "code",
   "execution_count": null,
   "id": "a8671445-0acf-429a-ad30-be9453bd35d8",
   "metadata": {},
   "outputs": [],
   "source": [
    "sf::st_layers(paste0(\"/ssb/x_disk/Felles/GIS-ressurssenter/KartdataQ/BasisKart/kart\", aargang, \".gdb\"))"
   ]
  },
  {
   "cell_type": "code",
   "execution_count": null,
   "id": "e121749b-358d-46fb-b22e-af26235dbff1",
   "metadata": {},
   "outputs": [],
   "source": [
    "# ABAS_grunnkrets_utenhav <- sf::read_sf(paste0(\"/ssb/x_disk/Felles/GIS-ressurssenter/KartdataQ/BasisKart/kart\", aargang, \".gdb\"), layer = paste0(\"ABAS_grunnkrets_utenhav_\", aargang))"
   ]
  },
  {
   "cell_type": "code",
   "execution_count": null,
   "id": "a0b77e83-9878-44a0-a21c-9d64252796a5",
   "metadata": {},
   "outputs": [],
   "source": [
    "# ABAS_grunnkrets_flate <- sf::read_sf(paste0(\"/ssb/x_disk/Felles/GIS-ressurssenter/KartdataQ/BasisKart/kart\", aargang, \".gdb\"), layer = paste0(\"ABAS_grunnkrets_flate_\", aargang))\n",
    "ABAS_grunnkrets_flate <- sfarrow::st_read_parquet(\"/home/jovyan/ABAS_grunnkrets_flate_2023.parquet\")"
   ]
  },
  {
   "cell_type": "code",
   "execution_count": null,
   "id": "e1a52339-4ff1-4d92-8aef-e98b70284821",
   "metadata": {
    "tags": []
   },
   "outputs": [],
   "source": [
    "ABAS_grunnkrets_flate <- ABAS_grunnkrets_flate %>%\n",
    "dplyr::rename(OBJTYPE = objtype, \n",
    "             VERSJONID = versjonid, \n",
    "             DATAUTTAKS = datauttaksdato, \n",
    "             DATAFANGST = datafangstdato, \n",
    "             OPPDATERIN = oppdateringsdato, \n",
    "             OPPHAV = opphav, \n",
    "             GRUNNKRE_1 = grunnkretsnavn, \n",
    "             GRUNNKRETS = grunnkretsnummer, \n",
    "             KOMMUNENR = kommunenummer, \n",
    "             Shape_Length = SHAPE_Length, \n",
    "             Shape_Area = SHAPE_Area) %>%\n",
    "dplyr::select(-lokalid, -navnerom)\n",
    "\n",
    "head(ABAS_grunnkrets_flate)"
   ]
  },
  {
   "cell_type": "code",
   "execution_count": null,
   "id": "f439202b-3201-4984-bcfe-66b5692b8b32",
   "metadata": {},
   "outputs": [],
   "source": [
    "ABAS_kommune_utenhav <- sf::read_sf(paste0(\"/ssb/x_disk/Felles/GIS-ressurssenter/KartdataQ/BasisKart/kart\", aargang, \".gdb\"), layer = paste0(\"ABAS_kommune_utenhav_\", aargang))"
   ]
  },
  {
   "cell_type": "code",
   "execution_count": null,
   "id": "0bf62c70-3c92-440d-9ef0-38f44e1d57e7",
   "metadata": {},
   "outputs": [],
   "source": [
    "ABAS_kommune_flate <- sf::read_sf(paste0(\"/ssb/x_disk/Felles/GIS-ressurssenter/KartdataQ/BasisKart/kart\", aargang, \".gdb\"), layer = paste0(\"ABAS_kommune_flate_\", aargang))"
   ]
  },
  {
   "cell_type": "code",
   "execution_count": null,
   "id": "433cd11f-d7d0-427c-845e-42be34b90399",
   "metadata": {},
   "outputs": [],
   "source": [
    "# ABAS_fylke_flate <- sf::read_sf(paste0(\"/ssb/x_disk/Felles/GIS-ressurssenter/KartdataQ/BasisKart/kart\", aargang, \".gdb\"), layer = paste0(\"ABAS_fylke_flate_\", aargang))"
   ]
  },
  {
   "cell_type": "markdown",
   "id": "7ce17915-0175-4eea-b781-8ca2cd266d91",
   "metadata": {},
   "source": [
    "## Lagrer filer"
   ]
  },
  {
   "cell_type": "code",
   "execution_count": null,
   "id": "8bf406cf-b425-477f-8e4d-14a70f07dc50",
   "metadata": {},
   "outputs": [],
   "source": [
    "# sfarrow::st_write_parquet(obj=ABAS_grunnkrets_utenhav, dsn=paste0(kart_aargang_mappe, \"ABAS_grunnkrets_utenhav_\", aargang, \".parquet\"))"
   ]
  },
  {
   "cell_type": "code",
   "execution_count": null,
   "id": "143aee8b-d2ca-4679-b8d5-18dd64cb0e93",
   "metadata": {},
   "outputs": [],
   "source": [
    "# sfarrow::st_write_parquet(obj=ABAS_grunnkrets_flate, dsn=paste0(kart_aargang_mappe, \"ABAS_grunnkrets_flate_\", aargang, \".parquet\"))\n",
    "arbeidsmappe_kart <- paste0(\"ssb-prod-dapla-felles-data-delt/GIS/Kart/\", aargang, \"/\")\n",
    "grunnkrets_kart_filsti <- paste0(arbeidsmappe_kart, \"ABAS_grunnkrets_flate_\", aargang, \"/ABAS_grunnkrets_flate_\", aargang, \".parquet\")\n",
    "write_SSB(ABAS_grunnkrets_flate, file = grunnkrets_kart_filsti, sf = TRUE)"
   ]
  },
  {
   "cell_type": "code",
   "execution_count": null,
   "id": "ad51427d-01e7-47b6-adbc-4d14cb19566b",
   "metadata": {},
   "outputs": [],
   "source": [
    "sfarrow::st_write_parquet(obj=ABAS_kommune_utenhav, dsn=paste0(kart_aargang_mappe, \"ABAS_kommune_utenhav_\", aargang, \".parquet\"))"
   ]
  },
  {
   "cell_type": "code",
   "execution_count": null,
   "id": "85def940-aa35-4555-89df-f0c0ea18ba46",
   "metadata": {},
   "outputs": [],
   "source": [
    "sfarrow::st_write_parquet(obj=ABAS_kommune_flate, dsn=paste0(kart_aargang_mappe, \"ABAS_kommune_flate_\", aargang, \".parquet\"))"
   ]
  },
  {
   "cell_type": "code",
   "execution_count": null,
   "id": "2e4536e7-113f-4c58-9f90-2875d9295ca4",
   "metadata": {},
   "outputs": [],
   "source": [
    "# sfarrow::st_write_parquet(obj=ABAS_fylke_flate, dsn=paste0(kart_aargang_mappe, \"ABAS_fylke_flate_\", aargang, \".parquet\"))"
   ]
  },
  {
   "cell_type": "code",
   "execution_count": null,
   "id": "6aee25a3-dc89-4507-8f5a-7cb79b3d85b9",
   "metadata": {},
   "outputs": [],
   "source": []
  }
 ],
 "metadata": {
  "language_info": {
   "codemirror_mode": "r",
   "file_extension": ".r",
   "mimetype": "text/x-r-source",
   "name": "R"
  }
 },
 "nbformat": 4,
 "nbformat_minor": 5
}
