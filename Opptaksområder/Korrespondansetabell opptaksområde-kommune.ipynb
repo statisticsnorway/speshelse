{
 "cells": [
  {
   "cell_type": "markdown",
   "id": "4e526b35-99d9-4841-a762-c7d117c9dc4f",
   "metadata": {},
   "source": [
    "# Korrespondansetabell opptaksområde-kommune"
   ]
  },
  {
   "cell_type": "code",
   "execution_count": 3,
   "id": "12683cd8-1883-4548-9406-ca3eb0208645",
   "metadata": {},
   "outputs": [],
   "source": [
    "aargang <- 2019"
   ]
  },
  {
   "cell_type": "code",
   "execution_count": 2,
   "id": "b6cbf062-e0f0-4805-a1ef-8bef43f623a0",
   "metadata": {},
   "outputs": [
    {
     "name": "stderr",
     "output_type": "stream",
     "text": [
      "Warning message in system(\"timedatectl\", intern = TRUE):\n",
      "“running command 'timedatectl' had status 1”\n"
     ]
    }
   ],
   "source": [
    "options(repr.matrix.max.rows=600, repr.matrix.max.cols=2000)\n",
    "\n",
    "suppressPackageStartupMessages({ \n",
    "library(tidyverse)\n",
    "library(readxl)\n",
    "library(klassR)\n",
    "library(sf)\n",
    "library(leaflet)\n",
    "        })"
   ]
  },
  {
   "cell_type": "markdown",
   "id": "f605e699-3b9a-4dbe-92a8-89fbb9482ceb",
   "metadata": {},
   "source": [
    "### Filstier"
   ]
  },
  {
   "cell_type": "code",
   "execution_count": 4,
   "id": "595338fb-b8cf-4fa6-9f2e-d09afc7bdbf9",
   "metadata": {},
   "outputs": [],
   "source": [
    "# arbeidsmappe <- \"/ssb/stamme01/fylkhels/speshelse/felles/\"\n",
    "# arbeidsmappe_kart <- paste0(arbeidsmappe, \"kart/\", aargang, \"/\")\n",
    "\n",
    "# arbeidsmappe_opptak <- paste0(arbeidsmappe, \"opptaksomrader/\", aargang, \"/\")\n",
    "\n",
    "# if (file.exists(arbeidsmappe_opptak)==FALSE) {\n",
    "#   dir.create(arbeidsmappe_opptak)\n",
    "# }"
   ]
  },
  {
   "cell_type": "markdown",
   "id": "c0752d61-be50-465a-94fa-bcef59338bdc",
   "metadata": {},
   "source": [
    "## Kodeliste for opptaksområder i spesialisthelsetjenesten (somatikk)"
   ]
  },
  {
   "cell_type": "code",
   "execution_count": 5,
   "id": "57d43c35-58dc-4adf-8583-a5a2b81a173a",
   "metadata": {},
   "outputs": [
    {
     "data": {
      "text/html": [
       "14180"
      ],
      "text/latex": [
       "14180"
      ],
      "text/markdown": [
       "14180"
      ],
      "text/plain": [
       "[1] 14180"
      ]
     },
     "metadata": {},
     "output_type": "display_data"
    }
   ],
   "source": [
    "opptaksomrader_KLASS <- klassR::GetKlass(629, output_style = \"wide\", date = c(paste0(aargang, \"-01-01\"))) %>%\n",
    "dplyr::rename(GRUNNKRETSNUMMER = code4, \n",
    "             GRUNNKRETS_NAVN = name4, \n",
    "             OPPTAK_NUMMER = code3, \n",
    "             OPPTAK = name3, \n",
    "             ORGNR_HF = code2, \n",
    "             NAVN_HF = name2, \n",
    "             ORGNR_RHF = code1, \n",
    "             NAVN_RHF = name1) %>%\n",
    "dplyr::mutate(GRUNNKRETSNUMMER = str_pad(GRUNNKRETSNUMMER, width = 8, \"left\", pad = \"0\"))\n",
    "\n",
    "nrow(opptaksomrader_KLASS)"
   ]
  },
  {
   "cell_type": "code",
   "execution_count": 6,
   "id": "b404e9b2-d11c-45c4-a594-f48ab5336c5b",
   "metadata": {},
   "outputs": [
    {
     "data": {
      "text/html": [
       "422"
      ],
      "text/latex": [
       "422"
      ],
      "text/markdown": [
       "422"
      ],
      "text/plain": [
       "[1] 422"
      ]
     },
     "metadata": {},
     "output_type": "display_data"
    }
   ],
   "source": [
    "kommune_KLASS <- klassR::GetKlass(131, date = c(paste0(aargang, \"-01-01\"))) %>%\n",
    "dplyr::filter(!code %in% c(\"9999\")) %>%\n",
    "dplyr::rename(KOMMUNENUMMER = code, \n",
    "             KOMMUNENAVN = name) %>%\n",
    "dplyr::select(KOMMUNENUMMER, KOMMUNENAVN)\n",
    "\n",
    "nrow(kommune_KLASS)"
   ]
  },
  {
   "cell_type": "markdown",
   "id": "8292677b-6ed8-468a-9f46-5bc6c98c3016",
   "metadata": {},
   "source": [
    "## Lager korrespondanse mellom opptaksområde og kommune \n",
    "\n",
    "Inneholder noen dubletter"
   ]
  },
  {
   "cell_type": "code",
   "execution_count": 7,
   "id": "ba7b89eb-7ea1-48ef-8884-dc3ab17e5870",
   "metadata": {},
   "outputs": [],
   "source": [
    "opptaksomrader_KLASS_2 <- opptaksomrader_KLASS %>%\n",
    "dplyr::mutate(KOMMUNENUMMER = substr(GRUNNKRETSNUMMER, 1, 4)) %>%\n",
    "dplyr::select(OPPTAK_NUMMER, OPPTAK, KOMMUNENUMMER) %>%\n",
    "dplyr::distinct() %>%\n",
    "dplyr::left_join(kommune_KLASS, by = \"KOMMUNENUMMER\") %>%\n",
    "dplyr::filter(!KOMMUNENUMMER %in% c(\"KOMMUNENUMMER\"), \n",
    "             KOMMUNENUMMER != \"2100\") "
   ]
  },
  {
   "cell_type": "code",
   "execution_count": 9,
   "id": "ab482365-bc37-4ba5-afe5-844198ab5fdf",
   "metadata": {},
   "outputs": [],
   "source": [
    "opptaksomrader_KLASS_2 <- opptaksomrader_KLASS_2 %>%\n",
    "dplyr::rename('ns1:kilde_kode' = OPPTAK_NUMMER, \n",
    "             'ns1:kilde_tittel' = OPPTAK, \n",
    "             'ns1:mål_kode' = KOMMUNENUMMER, \n",
    "             'ns1:mål_tittel' = KOMMUNENAVN)\n",
    "\n",
    "openxlsx::write.xlsx(opptaksomrader_KLASS_2, file = paste0(\"/ssb/bruker/rdn/korrespondanse_\", aargang, \".xlsx\"),\n",
    "                     rowNames = FALSE,\n",
    "                     showNA = FALSE,\n",
    "                     overwrite=T) # T = overskriver dersom filen allerede finnes, F = gir feilmelding dersom filen finnes"
   ]
  }
 ],
 "metadata": {
  "kernelspec": {
   "display_name": "R",
   "language": "R",
   "name": "ir"
  },
  "language_info": {
   "codemirror_mode": "r",
   "file_extension": ".r",
   "mimetype": "text/x-r-source",
   "name": "R",
   "pygments_lexer": "r",
   "version": "4.2.2"
  }
 },
 "nbformat": 4,
 "nbformat_minor": 5
}
