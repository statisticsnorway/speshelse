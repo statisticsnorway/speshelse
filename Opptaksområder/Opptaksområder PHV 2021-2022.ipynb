{
 "cells": [
  {
   "cell_type": "markdown",
   "id": "4366f0b4-770c-47c3-ae86-96592f627c23",
   "metadata": {},
   "source": [
    "# Opptaksområder PHV"
   ]
  },
  {
   "cell_type": "markdown",
   "id": "9f516cd4-a81f-4e39-8c86-f431b0096392",
   "metadata": {},
   "source": [
    "### Velger årgang"
   ]
  },
  {
   "cell_type": "code",
   "execution_count": null,
   "id": "03d5661c-5302-4262-9d32-77c4628cb60a",
   "metadata": {
    "tags": []
   },
   "outputs": [],
   "source": [
    "aargang <- 2022"
   ]
  },
  {
   "cell_type": "markdown",
   "id": "d4522c1e-79ea-4494-88e5-23b697405e46",
   "metadata": {},
   "source": [
    "### Flate eller utenhav"
   ]
  },
  {
   "cell_type": "code",
   "execution_count": null,
   "id": "08674e8b-fc7a-48fd-8047-f09bdfba8224",
   "metadata": {
    "tags": []
   },
   "outputs": [],
   "source": [
    "utenhav <- TRUE\n",
    "\n",
    "if (utenhav == TRUE) {\n",
    "filsti_med_uten_hav <- \"utenhav\"\n",
    "    } else if (utenhav == FALSE) {\n",
    "  filsti_med_uten_hav <- \"flate\"\n",
    "}\n",
    "\n",
    "filsti_med_uten_hav"
   ]
  },
  {
   "cell_type": "markdown",
   "id": "94f9cb6b-e3f8-42d6-917e-f3cff93e4833",
   "metadata": {},
   "source": [
    "### Laster inn pakker "
   ]
  },
  {
   "cell_type": "code",
   "execution_count": null,
   "id": "a37ee664-0a83-468f-8a44-9c024a6c3dc6",
   "metadata": {
    "tags": []
   },
   "outputs": [],
   "source": [
    "sf::sf_use_s2(FALSE)\n",
    "CRS <- 25833\n",
    "\n",
    "suppressPackageStartupMessages({ \n",
    "library(tidyverse)\n",
    "library(readxl)\n",
    "library(klassR)\n",
    "library(sf)\n",
    "library(leaflet)\n",
    "        })"
   ]
  },
  {
   "cell_type": "markdown",
   "id": "1ecfb980-d166-42f3-a6e8-c327e362f1ff",
   "metadata": {},
   "source": [
    "### Filstier"
   ]
  },
  {
   "cell_type": "code",
   "execution_count": null,
   "id": "d898852a-7f24-4b66-97ed-5206bc7ea5d2",
   "metadata": {
    "tags": []
   },
   "outputs": [],
   "source": [
    "if (grepl(\"onprem\", Sys.getenv(\"JUPYTER_IMAGE_SPEC\")) | Sys.getenv(\"JUPYTER_IMAGE_SPEC\") == \"\") {\n",
    "    \n",
    "    arbeidsmappe <- \"/ssb/stamme01/fylkhels/speshelse/felles/\"\n",
    "    arbeidsmappe_kart <- paste0(arbeidsmappe, \"kart/\", aargang, \"/\")\n",
    "    arbeidsmappe_opptak <- paste0(arbeidsmappe, \"opptaksomrader/\", aargang, \"/\")\n",
    "    \n",
    "    if (utenhav == FALSE) {\n",
    "    grunnkrets_kart_filsti <- paste0(arbeidsmappe_kart, \"ABAS_grunnkrets_flate_\", aargang, \".parquet\")\n",
    "        }\n",
    "    if (utenhav == TRUE) {\n",
    "    grunnkrets_kart_filsti <- paste0(arbeidsmappe_kart, \"ABAS_grunnkrets_utenhav_\", aargang, \".parquet\")\n",
    "\n",
    "        }\n",
    "    \n",
    "    grunnkrets_kart <- sfarrow::st_read_parquet(grunnkrets_kart_filsti)\n",
    "    \n",
    "} else if (grepl(\"dapla\", Sys.getenv(\"JUPYTER_IMAGE_SPEC\"))) {\n",
    "    \n",
    "    source(\"/home/jovyan/fellesr/R/DAPLA_funcs.R\")\n",
    "    \n",
    "    arbeidsmappe_kart <- paste0(\"ssb-prod-dapla-felles-data-delt/GIS/Kart/\", aargang, \"/\")\n",
    "    # arbeidsmappe <- \"/ssb/stamme01/fylkhels/speshelse/felles/\"\n",
    "    \n",
    "    if (utenhav == FALSE) {\n",
    "    grunnkrets_kart_filsti <- paste0(arbeidsmappe_kart, \"ABAS_grunnkrets_flate_\", aargang, \"/\")\n",
    "        }\n",
    "    if (utenhav == TRUE) {\n",
    "    grunnkrets_kart_filsti <- paste0(arbeidsmappe_kart, \"ABAS_grunnkrets_utenhav_\", aargang, \"/\")\n",
    "        }\n",
    "    grunnkrets_kart <- open_dataset(grunnkrets_kart_filsti) %>%\n",
    "    sfarrow::read_sf_dataset()\n",
    "}\n",
    "\n",
    "\n",
    "# if (file.exists(arbeidsmappe_opptak)==FALSE) {\n",
    "#   dir.create(arbeidsmappe_opptak)\n",
    "# }"
   ]
  },
  {
   "cell_type": "markdown",
   "id": "fa1cb2b4-0505-4fc7-adb1-318b6fa9caf2",
   "metadata": {},
   "source": [
    "### SSB fargepalett"
   ]
  },
  {
   "cell_type": "code",
   "execution_count": null,
   "id": "a1a0dbcb-9f8f-4bee-ab26-64e1a79b21b0",
   "metadata": {
    "tags": []
   },
   "outputs": [],
   "source": [
    "ssb_farger <- klassR::GetKlass(614, output_style = \"wide\") %>%\n",
    "  dplyr::rename(farge_nummer = code3, \n",
    "                HEX = name3, \n",
    "                farge = name2, \n",
    "                type = name1) %>%\n",
    "  dplyr::select(-code1, -code2) %>%\n",
    "  dplyr::filter(farge != \"Hvit\")"
   ]
  },
  {
   "cell_type": "markdown",
   "id": "7de82cf1-4ea7-4945-83fa-4077bc21e0ef",
   "metadata": {},
   "source": [
    "## Laster inn kart (grunnkrets)"
   ]
  },
  {
   "cell_type": "code",
   "execution_count": null,
   "id": "2fda5222-35eb-4daa-ba7b-0ba5ddc0726f",
   "metadata": {
    "tags": []
   },
   "outputs": [],
   "source": [
    "start.time <- Sys.time()\n",
    "\n",
    "  rename_geometry <- function(g, name){\n",
    "    current = attr(g, \"sf_column\")\n",
    "    names(g)[names(g)==current] = name\n",
    "    sf::st_geometry(g)=name\n",
    "    g\n",
    "  }\n",
    "\n",
    "# Lese inn filen som parquet med sfarrow\n",
    "grunnkrets_kart <- grunnkrets_kart %>%\n",
    "sf::st_zm(drop = T) %>%\n",
    "sf::st_cast(\"MULTIPOLYGON\") %>%\n",
    "  sf::st_transform(crs = CRS) %>%\n",
    "  dplyr::rename(GRUNNKRETSNUMMER = GRUNNKRETS)\n",
    "\n",
    "grunnkrets_kart <- rename_geometry(grunnkrets_kart, \"geometry\")\n",
    "sf::st_geometry(grunnkrets_kart) <- \"geometry\"\n",
    "\n",
    "# OBS\n",
    "# grunnkrets_kart <- grunnkrets_kart %>%\n",
    "# dplyr::group_by(GRUNNKRETSNUMMER, KOMMUNENR, FYLKE) %>%\n",
    "# dplyr::summarise(geometry = sf::st_union(sf::st_make_valid(geometry)))\n",
    "\n",
    "end.time <- Sys.time()\n",
    "time.taken <- end.time - start.time\n",
    "time.taken"
   ]
  },
  {
   "cell_type": "code",
   "execution_count": null,
   "id": "1131a4b8-5d3b-4a03-bfef-0839be333166",
   "metadata": {},
   "outputs": [],
   "source": [
    "if (aargang == 2017) {\n",
    "grunnkrets_kart <- grunnkrets_kart %>%\n",
    "dplyr::mutate(GRUNNKRETSNUMMER = case_when(\n",
    "    GRUNNKRETSNUMMER == \"00101609\" ~ \"07101609\", # Storevahr har feil grunnkretsnummer i filen!\n",
    "    TRUE ~ GRUNNKRETSNUMMER))\n",
    "    }"
   ]
  },
  {
   "cell_type": "markdown",
   "id": "ff119b8e-c667-4275-aeb1-841ff9a7f276",
   "metadata": {},
   "source": [
    "## Kodeliste for opptaksområder i spesialisthelsetjenesten (PHV)\n",
    "\n",
    "+ OBS: endre alle navn til CAPS LOCK?"
   ]
  },
  {
   "cell_type": "code",
   "execution_count": null,
   "id": "b1e55528-fbb0-4d5f-b7c7-672b2a3cb50f",
   "metadata": {},
   "outputs": [],
   "source": [
    "opptaksomrader_KLASS <- klassR::GetKlass(630, output_style = \"wide\", date = c(paste0(aargang, \"-01-01\"))) %>%\n",
    "dplyr::rename(GRUNNKRETSNUMMER = code3, \n",
    "             GRUNNKRETS_NAVN = name3, \n",
    "             # OPPTAK_NUMMER = code3, \n",
    "             # OPPTAK = name3, \n",
    "             ORGNR_HF = code2, \n",
    "             NAVN_HF = name2, \n",
    "             ORGNR_RHF = code1, \n",
    "             NAVN_RHF = name1)\n",
    "\n",
    "nrow(opptaksomrader_KLASS)"
   ]
  },
  {
   "cell_type": "markdown",
   "id": "2871a3f3-74d4-4f4c-a89a-44ae7ff9dad9",
   "metadata": {},
   "source": [
    "### Sjekker antall grunnkretser mot KLASS"
   ]
  },
  {
   "cell_type": "code",
   "execution_count": null,
   "id": "266e781c-765f-4ead-8393-046787441bd8",
   "metadata": {},
   "outputs": [],
   "source": [
    "grunnkrets_KLASS <- klassR::GetKlass(1, output_style = \"wide\", date = c(paste0(aargang, \"-01-01\")))\n",
    "\n",
    "nrow(grunnkrets_KLASS)\n",
    "\n",
    "mangler_fra_KLASS <- grunnkrets_KLASS %>%\n",
    "dplyr::filter(!code2 %in% unique(opptaksomrader_KLASS$GRUNNKRETSNUMMER))\n",
    "\n",
    "unique(mangler_fra_KLASS$name2)\n",
    "nrow(mangler_fra_KLASS)\n",
    "head(mangler_fra_KLASS)"
   ]
  },
  {
   "cell_type": "markdown",
   "id": "e1fa2144-a648-40d0-b182-574cf207a47f",
   "metadata": {},
   "source": [
    "### Sjekker om noen grunnkretser mangler fra kartet"
   ]
  },
  {
   "cell_type": "code",
   "execution_count": null,
   "id": "2c6f5a36-f38c-4338-9f8c-6e29f2bfccbf",
   "metadata": {},
   "outputs": [],
   "source": [
    "test <- dplyr::left_join(opptaksomrader_KLASS, grunnkrets_kart, by = \"GRUNNKRETSNUMMER\") %>%\n",
    "data.frame() %>%\n",
    "dplyr::filter(is.na(KOMMUNENR))\n",
    "\n",
    "nrow(test)\n",
    "unique(test$GRUNNKRETS_NAVN)"
   ]
  },
  {
   "cell_type": "code",
   "execution_count": null,
   "id": "12258904-953c-49d4-9c5c-3398511ba888",
   "metadata": {},
   "outputs": [],
   "source": [
    "# colnames(grunnkrets_kart)\n",
    "\n",
    "# grunnkrets_kart %>%\n",
    "# dplyr::filter(GRUNNKRETSNUMMER == \"18041014\")"
   ]
  },
  {
   "cell_type": "markdown",
   "id": "3037f7bf-c1f5-4039-8874-5eec1664914c",
   "metadata": {},
   "source": [
    "## Henter befolkningstall fra tabell 04317\n",
    "\n",
    "OBS: erstatt med egen fil laget fra befolkningsregisteret? (for å få med under og over 18 år?)"
   ]
  },
  {
   "cell_type": "code",
   "execution_count": null,
   "id": "bf9f46fa-52d6-4c7e-836d-3e43951c81a8",
   "metadata": {},
   "outputs": [],
   "source": [
    "T04317 <- PxWebApiData::ApiData(04317, ContentsCode = \"Personer\", \n",
    "                                Grunnkretser = TRUE, \n",
    "                                Tid = as.character(aargang)) [[2]] %>%\n",
    "  dplyr::filter(!is.na(value)) %>%\n",
    "  dplyr::rename(GRUNNKRETSNUMMER = Grunnkretser,\n",
    "                PERSONER = value) %>%\n",
    "  dplyr::select(GRUNNKRETSNUMMER, PERSONER)"
   ]
  },
  {
   "cell_type": "code",
   "execution_count": null,
   "id": "60cbeda5-b1b7-479d-adb4-812adc4d4ea4",
   "metadata": {},
   "outputs": [],
   "source": [
    "opptaksomrader_KLASS_2 <- opptaksomrader_KLASS %>%\n",
    "dplyr::left_join(T04317, by = \"GRUNNKRETSNUMMER\") %>%\n",
    "dplyr::mutate(PERSONER = tidyr::replace_na(PERSONER, 0))\n",
    "\n",
    "# opptaksomrader_KLASS_2 %>% head()\n",
    "\n",
    "opptaksomrader_KLASS_2 %>%\n",
    "dplyr::filter(is.na(ORGNR_HF), \n",
    "             substr(GRUNNKRETSNUMMER, 5, 8) != \"9999\")\n",
    "\n",
    "# Sjekker om antall personer stemmer med tabell 04317\n",
    "sum(T04317$PERSONER)-sum(opptaksomrader_KLASS_2$PERSONER)"
   ]
  },
  {
   "cell_type": "code",
   "execution_count": null,
   "id": "c1df0cb6-6904-4fae-ab4a-f19caa3a0aed",
   "metadata": {},
   "outputs": [],
   "source": [
    "opptaksomrader_KLASS_3 <- opptaksomrader_KLASS %>%\n",
    "dplyr::full_join(T04317, by = \"GRUNNKRETSNUMMER\") %>%\n",
    "dplyr::mutate(PERSONER = tidyr::replace_na(PERSONER, 0))\n",
    "\n",
    "opptaksomrader_KLASS_3 %>%\n",
    "dplyr::filter(is.na(ORGNR_HF)) %>%\n",
    "# dplyr::arrange(desc(GRUNNKRETSNUMMER))\n",
    "dplyr::arrange(desc(PERSONER)) %>%\n",
    "head()\n",
    "\n",
    "# Uoppgitt grunnkrets"
   ]
  },
  {
   "cell_type": "code",
   "execution_count": null,
   "id": "3702bb71-f205-4672-b061-21673c3640a3",
   "metadata": {},
   "outputs": [],
   "source": [
    "# T04317 %>%\n",
    "# dplyr::filter(!GRUNNKRETSNUMMER %in% unique(opptaksomrader_KLASS_2$GRUNNKRETSNUMMER), \n",
    "#              substr(GRUNNKRETSNUMMER, 5, 8) != \"9999\")\n",
    "\n",
    "# T04317 %>%\n",
    "# dplyr::filter(!GRUNNKRETSNUMMER %in% unique(opptaksomrader_KLASS_2$GRUNNKRETSNUMMER))"
   ]
  },
  {
   "cell_type": "markdown",
   "id": "695ca885-0f1e-41b2-9149-26782611bd3b",
   "metadata": {},
   "source": [
    "### Merger opptaksområder med grunnkretskart"
   ]
  },
  {
   "cell_type": "code",
   "execution_count": null,
   "id": "c0e57d90-4858-44a4-8fed-cb9019b1e299",
   "metadata": {},
   "outputs": [],
   "source": [
    "opptaksomrader_KLASS_2_kart <- grunnkrets_kart %>%\n",
    "dplyr::left_join(opptaksomrader_KLASS_2, by = \"GRUNNKRETSNUMMER\")"
   ]
  },
  {
   "cell_type": "markdown",
   "id": "717a5eea-d1ad-478f-a54f-d7c230f6b9df",
   "metadata": {},
   "source": [
    "## Lager opptaksområder for RHF"
   ]
  },
  {
   "cell_type": "code",
   "execution_count": null,
   "id": "abc7056a-d1e8-4034-b991-d728b2ce8c41",
   "metadata": {},
   "outputs": [],
   "source": [
    "start.time <- Sys.time()"
   ]
  },
  {
   "cell_type": "code",
   "execution_count": null,
   "id": "4666bf15-e50c-4537-b6d9-e03f16069be4",
   "metadata": {},
   "outputs": [],
   "source": [
    "# Beregner befolkning #\n",
    "opptaksomrader_KLASS_2_RHF <- opptaksomrader_KLASS_2 %>%\n",
    "dplyr::group_by(NAVN_RHF) %>%\n",
    "dplyr::summarise(PERSONER = sum(PERSONER))\n",
    "\n",
    "# unique(sf::st_geometry_type(sf::st_geometry(opptaksomrader_KLASS_2_kart)))\n",
    "\n",
    "opptaksomrader_RHF <- opptaksomrader_KLASS_2_kart %>%\n",
    "  dplyr::group_by(NAVN_RHF) %>%\n",
    "  dplyr::summarise(geometry = sf::st_union(sf::st_make_valid(geometry))) %>%\n",
    "  dplyr::ungroup() %>%\n",
    "  dplyr::left_join(opptaksomrader_KLASS_2_RHF, by = \"NAVN_RHF\")\n",
    "\n",
    "\n",
    "# # Lagrer filen\n",
    "# sfarrow::st_write_parquet(obj=opptaksomrader_RHF, dsn=paste0(arbeidsmappe_opptak, \"opptaksomrader_PHV_RHF_\", aargang, \".parquet\"))\n",
    "\n",
    "# Lagrer filen\n",
    "if (grepl(\"onprem\", Sys.getenv(\"JUPYTER_IMAGE_SPEC\"))) {\n",
    "  sfarrow::st_write_parquet(obj=opptaksomrader_RHF, dsn=paste0(arbeidsmappe_opptak, \"opptaksomrader_PHV_RHF_\", filsti_med_uten_hav, \"_\", aargang, \".parquet\"))\n",
    "} else if (grepl(\"dapla\", Sys.getenv(\"JUPYTER_IMAGE_SPEC\"))) {\n",
    "  opptaksomrader_PHV_RHF_filsti <- paste0(\"ssb-prod-helse-speshelse-data-kilde/felles/Kart/\", aargang, \"/Opptaksområder/opptaksomrader_PHV_RHF_\", filsti_med_uten_hav, \"_\", aargang, \"/opptaksomrader_PHV_RHF_\", filsti_med_uten_hav, \"_\", aargang, \".parquet\")\n",
    "  write_SSB(opptaksomrader_RHF, file = opptaksomrader_PHV_RHF_filsti, sf = TRUE)\n",
    "}"
   ]
  },
  {
   "cell_type": "markdown",
   "id": "04a1417c-88aa-423b-baa6-a43056dc91e8",
   "metadata": {},
   "source": [
    "### Visualiserer kartet"
   ]
  },
  {
   "cell_type": "code",
   "execution_count": null,
   "id": "8b2af657-d674-43e5-a7b4-ff3b4b19c9a8",
   "metadata": {},
   "outputs": [],
   "source": [
    "if (utenhav == TRUE) {\n",
    "    \n",
    "ggplot() + \n",
    "geom_sf(data = opptaksomrader_RHF)\n",
    "    \n",
    "} else {\n",
    "    \n",
    "pal_RHF <- leaflet::colorFactor(ssb_farger$HEX, domain = as.factor(opptaksomrader_KLASS_2_kart$NAVN_RHF))\n",
    "\n",
    "opptaksomrader_RHF <- opptaksomrader_RHF %>%\n",
    "sf::st_transform(crs = 4326)\n",
    "\n",
    "opptaksomrader_RHF_leaflet <- leaflet::leaflet(options = leaflet::leafletOptions(zoomControl = FALSE)) %>% \n",
    "   leaflet::addTiles() %>%\n",
    "   leaflet::addPolygons(stroke = F, data = opptaksomrader_RHF,\n",
    "                       # color = \"green\",\n",
    "                       weight = 1,\n",
    "                       fillColor = pal_RHF(opptaksomrader_RHF$NAVN_RHF),\n",
    "                       fillOpacity = 0.5, smoothFactor = 0.5,\n",
    "                       popup = paste0(\"Opptaksområde: \", opptaksomrader_RHF$NAVN_RHF, \" / Befolkning: \", prettyNum(opptaksomrader_RHF$PERSONER, big.mark = \" \", scientific = FALSE))) %>%\n",
    "  leaflet::addLegend(\"bottomright\", pal = pal_RHF, values = as.factor(opptaksomrader_RHF$NAVN_RHF), opacity = 1)\n",
    "\n",
    "# Lagrer filen\n",
    "# htmlwidgets::saveWidget(opptaksomrader_RHF_leaflet, file = paste0(arbeidsmappe_opptak, \"opptaksomrader_PHV_RHF_\", aargang, \".html\"), selfcontained=T)\n",
    "\n",
    "opptaksomrader_RHF_leaflet\n",
    "    }"
   ]
  },
  {
   "cell_type": "markdown",
   "id": "127017f7-2785-47dc-8c6a-9e0d3c5a0ed9",
   "metadata": {},
   "source": [
    "## Lager opptaksområder for HF"
   ]
  },
  {
   "cell_type": "code",
   "execution_count": null,
   "id": "b6e0186b-7bcd-4a2c-b792-e5e366fe8712",
   "metadata": {},
   "outputs": [],
   "source": [
    "# Beregner befolkning #\n",
    "opptaksomrader_KLASS_2_HF <- opptaksomrader_KLASS_2 %>%\n",
    "dplyr::group_by(NAVN_HF) %>%\n",
    "dplyr::summarise(PERSONER = sum(PERSONER))\n",
    "\n",
    "opptaksomrader_HF <- opptaksomrader_KLASS_2_kart %>%\n",
    "  dplyr::group_by(NAVN_HF) %>%\n",
    "  dplyr::summarise(geometry = sf::st_union(sf::st_make_valid(geometry))) %>%\n",
    "  dplyr::ungroup() %>%\n",
    "  dplyr::left_join(opptaksomrader_KLASS_2_HF, by = \"NAVN_HF\")\n",
    "\n",
    "# sfarrow::st_write_parquet(obj=opptaksomrader_HF, dsn=paste0(arbeidsmappe_opptak, \"opptaksomrader_PHV_HF_\", aargang, \".parquet\"))\n",
    "\n",
    "# Lagrer filen\n",
    "if (grepl(\"onprem\", Sys.getenv(\"JUPYTER_IMAGE_SPEC\"))) {\n",
    "sfarrow::st_write_parquet(obj=opptaksomrader_HF, dsn=paste0(arbeidsmappe_opptak, \"opptaksomrader_PHV_HF_\", filsti_med_uten_hav, \"_\", aargang, \".parquet\"))\n",
    "} else if (grepl(\"dapla\", Sys.getenv(\"JUPYTER_IMAGE_SPEC\"))) {\n",
    "opptaksomrader_PHV_HF_filsti <- paste0(\"ssb-prod-helse-speshelse-data-kilde/felles/Kart/\", aargang, \"/Opptaksområder/opptaksomrader_PHV_HF_\", filsti_med_uten_hav, \"_\", aargang, \"/opptaksomrader_PHV_HF_\", filsti_med_uten_hav, \"_\", aargang, \".parquet\")\n",
    "  write_SSB(opptaksomrader_HF, file = opptaksomrader_PHV_HF_filsti, sf = TRUE)\n",
    "}"
   ]
  },
  {
   "cell_type": "markdown",
   "id": "ac30a3dd-1014-455d-b013-3fe6bfe50184",
   "metadata": {},
   "source": [
    "### Visualiserer kartet"
   ]
  },
  {
   "cell_type": "code",
   "execution_count": null,
   "id": "376e52ea-3894-4d2f-b682-c27b20dc75e0",
   "metadata": {},
   "outputs": [],
   "source": [
    "if (utenhav == TRUE) {\n",
    "    \n",
    "ggplot() + \n",
    "geom_sf(data = opptaksomrader_HF)\n",
    "    \n",
    "} else {\n",
    "pal_HF <- leaflet::colorFactor(ssb_farger$HEX, domain = as.factor(opptaksomrader_KLASS_2_kart$NAVN_HF))\n",
    "\n",
    "opptaksomrader_HF <- opptaksomrader_HF %>%\n",
    "sf::st_transform(crs = 4326)\n",
    "\n",
    "opptaksomrader_HF_leaflet <- leaflet::leaflet(options = leaflet::leafletOptions(zoomControl = FALSE)) %>% \n",
    "   leaflet::addTiles() %>%\n",
    "   leaflet::addPolygons(stroke = F, data = opptaksomrader_HF,\n",
    "                       # color = \"green\",\n",
    "                       weight = 1,\n",
    "                       fillColor = pal_HF(opptaksomrader_HF$NAVN_HF),\n",
    "                       fillOpacity = 0.5, smoothFactor = 0.5,\n",
    "                       popup = paste0(\"Opptaksområde: \", opptaksomrader_HF$NAVN_HF, \" / Befolkning: \", prettyNum(opptaksomrader_HF$PERSONER, big.mark = \" \", scientific = FALSE))) %>%\n",
    "  leaflet::addLegend(\"bottomright\", pal = pal_HF, values = as.factor(opptaksomrader_HF$NAVN_HF), opacity = 1)\n",
    "\n",
    "# Lagrer filen\n",
    "# htmlwidgets::saveWidget(opptaksomrader_HF_leaflet, file = paste0(arbeidsmappe_opptak, \"opptaksomrader_PHV_HF_\", aargang, \".html\"), selfcontained=T)\n",
    "\n",
    "opptaksomrader_HF_leaflet\n",
    "    }"
   ]
  },
  {
   "cell_type": "code",
   "execution_count": null,
   "id": "538efa11-6d5d-4bb9-9d9d-3c6bd2b70715",
   "metadata": {},
   "outputs": [],
   "source": [
    "# Sjekker om antall personer stemmer med tabell 04317\n",
    "sum(T04317$PERSONER)-sum(opptaksomrader_RHF$PERSONER)"
   ]
  },
  {
   "cell_type": "code",
   "execution_count": null,
   "id": "f66fa6d9-f23b-42e1-935b-09ad5b47bc93",
   "metadata": {
    "tags": []
   },
   "outputs": [],
   "source": [
    "# Sjekker om antall personer stemmer med tabell 04317\n",
    "sum(T04317$PERSONER)-sum(opptaksomrader_HF$PERSONER)"
   ]
  },
  {
   "cell_type": "code",
   "execution_count": null,
   "id": "943f561e-47f5-4981-9173-5fa493520b6c",
   "metadata": {},
   "outputs": [],
   "source": [
    "end.time <- Sys.time()\n",
    "time.taken <- end.time - start.time\n",
    "time.taken"
   ]
  }
 ],
 "metadata": {
  "language_info": {
   "codemirror_mode": "r",
   "file_extension": ".r",
   "mimetype": "text/x-r-source",
   "name": "R"
  }
 },
 "nbformat": 4,
 "nbformat_minor": 5
}
