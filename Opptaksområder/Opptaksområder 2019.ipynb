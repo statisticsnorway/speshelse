{
 "cells": [
  {
   "cell_type": "markdown",
   "id": "cf9c4409-1965-4db1-90a1-0eadebe358f0",
   "metadata": {},
   "source": [
    "# Opptaksområder 2019"
   ]
  },
  {
   "cell_type": "code",
   "execution_count": 250,
   "id": "22c9b21e-784f-4470-be40-e50791c25114",
   "metadata": {},
   "outputs": [],
   "source": [
    "aargang <- 2020"
   ]
  },
  {
   "cell_type": "code",
   "execution_count": 251,
   "id": "fb287050-78af-49d6-a0aa-3463df33e49a",
   "metadata": {},
   "outputs": [],
   "source": [
    "options(repr.matrix.max.rows=600, repr.matrix.max.cols=2000)\n",
    "\n",
    "suppressPackageStartupMessages({ \n",
    "library(tidyverse)\n",
    "library(readxl)\n",
    "library(klassR)\n",
    "library(sf)\n",
    "library(leaflet)\n",
    "        })"
   ]
  },
  {
   "cell_type": "markdown",
   "id": "fcbcfe3a-2b66-48e1-9cc2-94c22555016e",
   "metadata": {},
   "source": [
    "## Kodeliste for opptaksområder i spesialisthelsetjenesten (somatikk)"
   ]
  },
  {
   "cell_type": "code",
   "execution_count": 252,
   "id": "44c85eb3-d56c-457d-98e2-a96f1039203c",
   "metadata": {},
   "outputs": [
    {
     "data": {
      "text/html": [
       "14457"
      ],
      "text/latex": [
       "14457"
      ],
      "text/markdown": [
       "14457"
      ],
      "text/plain": [
       "[1] 14457"
      ]
     },
     "metadata": {},
     "output_type": "display_data"
    }
   ],
   "source": [
    "opptaksomrader_KLASS <- klassR::GetKlass(629, output_style = \"wide\", date = c(paste0(aargang, \"-01-01\"))) %>%\n",
    "dplyr::rename(GRUNNKRETSNUMMER = code4, \n",
    "             GRUNNKRETS_NAVN = name4, \n",
    "             OPPTAK_NUMMER = code3, \n",
    "             OPPTAK = name3, \n",
    "             ORGNR_HF = code2, \n",
    "             NAVN_HF = name2, \n",
    "             ORGNR_RHF = code1, \n",
    "             NAVN_RHF = name1)\n",
    "\n",
    "nrow(opptaksomrader_KLASS)"
   ]
  },
  {
   "cell_type": "code",
   "execution_count": 253,
   "id": "4f6c102b-7688-4394-aef3-862545c096b4",
   "metadata": {},
   "outputs": [
    {
     "data": {
      "text/html": [
       "<table class=\"dataframe\">\n",
       "<caption>A data.frame: 1 × 8</caption>\n",
       "<thead>\n",
       "\t<tr><th scope=col>GRUNNKRETSNUMMER</th><th scope=col>GRUNNKRETS_NAVN</th><th scope=col>OPPTAK_NUMMER</th><th scope=col>OPPTAK</th><th scope=col>ORGNR_HF</th><th scope=col>NAVN_HF</th><th scope=col>ORGNR_RHF</th><th scope=col>NAVN_RHF</th></tr>\n",
       "\t<tr><th scope=col>&lt;chr&gt;</th><th scope=col>&lt;chr&gt;</th><th scope=col>&lt;chr&gt;</th><th scope=col>&lt;chr&gt;</th><th scope=col>&lt;chr&gt;</th><th scope=col>&lt;chr&gt;</th><th scope=col>&lt;chr&gt;</th><th scope=col>&lt;chr&gt;</th></tr>\n",
       "</thead>\n",
       "<tbody>\n",
       "\t<tr><td>30039999</td><td>Uoppgitt grunnkrets</td><td>48</td><td>Østfold</td><td>983971768</td><td>SYKEHUSET ØSTFOLD HF</td><td>991324968</td><td>HELSE SØR-ØST RHF</td></tr>\n",
       "</tbody>\n",
       "</table>\n"
      ],
      "text/latex": [
       "A data.frame: 1 × 8\n",
       "\\begin{tabular}{llllllll}\n",
       " GRUNNKRETSNUMMER & GRUNNKRETS\\_NAVN & OPPTAK\\_NUMMER & OPPTAK & ORGNR\\_HF & NAVN\\_HF & ORGNR\\_RHF & NAVN\\_RHF\\\\\n",
       " <chr> & <chr> & <chr> & <chr> & <chr> & <chr> & <chr> & <chr>\\\\\n",
       "\\hline\n",
       "\t 30039999 & Uoppgitt grunnkrets & 48 & Østfold & 983971768 & SYKEHUSET ØSTFOLD HF & 991324968 & HELSE SØR-ØST RHF\\\\\n",
       "\\end{tabular}\n"
      ],
      "text/markdown": [
       "\n",
       "A data.frame: 1 × 8\n",
       "\n",
       "| GRUNNKRETSNUMMER &lt;chr&gt; | GRUNNKRETS_NAVN &lt;chr&gt; | OPPTAK_NUMMER &lt;chr&gt; | OPPTAK &lt;chr&gt; | ORGNR_HF &lt;chr&gt; | NAVN_HF &lt;chr&gt; | ORGNR_RHF &lt;chr&gt; | NAVN_RHF &lt;chr&gt; |\n",
       "|---|---|---|---|---|---|---|---|\n",
       "| 30039999 | Uoppgitt grunnkrets | 48 | Østfold | 983971768 | SYKEHUSET ØSTFOLD HF | 991324968 | HELSE SØR-ØST RHF |\n",
       "\n"
      ],
      "text/plain": [
       "  GRUNNKRETSNUMMER GRUNNKRETS_NAVN     OPPTAK_NUMMER OPPTAK  ORGNR_HF \n",
       "1 30039999         Uoppgitt grunnkrets 48            Østfold 983971768\n",
       "  NAVN_HF              ORGNR_RHF NAVN_RHF         \n",
       "1 SYKEHUSET ØSTFOLD HF 991324968 HELSE SØR-ØST RHF"
      ]
     },
     "metadata": {},
     "output_type": "display_data"
    }
   ],
   "source": [
    "opptaksomrader_KLASS %>%\n",
    "dplyr::filter(GRUNNKRETSNUMMER == \"30039999\")"
   ]
  },
  {
   "cell_type": "markdown",
   "id": "b9a727fb-1509-4942-b372-3940db1d8e70",
   "metadata": {},
   "source": [
    "### Korrespondanse mellom t og t-1 fra KLASS"
   ]
  },
  {
   "cell_type": "code",
   "execution_count": 254,
   "id": "ffade7b8-9963-42f5-87bd-bc6e261b6ec8",
   "metadata": {},
   "outputs": [
    {
     "data": {
      "text/html": [
       "10120"
      ],
      "text/latex": [
       "10120"
      ],
      "text/markdown": [
       "10120"
      ],
      "text/plain": [
       "[1] 10120"
      ]
     },
     "metadata": {},
     "output_type": "display_data"
    },
    {
     "data": {
      "text/html": [
       "10117"
      ],
      "text/latex": [
       "10117"
      ],
      "text/markdown": [
       "10117"
      ],
      "text/plain": [
       "[1] 10117"
      ]
     },
     "metadata": {},
     "output_type": "display_data"
    }
   ],
   "source": [
    "grunnkrets_KLASS <- klassR::GetKlass(1, date = c(paste0(aargang-1, \"-01-01\"), paste0(aargang, \"-01-01\")), correspond = TRUE) %>%\n",
    "dplyr::rename(GRUNNKRETSNUMMER_T1 = sourceCode, \n",
    "             GRUNNKRETSNUMMER = targetCode, \n",
    "             targetName = targetName)\n",
    "\n",
    "nrow(grunnkrets_KLASS)\n",
    "\n",
    "grunnkrets_KLASS <- grunnkrets_KLASS %>%\n",
    "dplyr::filter(!GRUNNKRETSNUMMER_T1 %in% c(\"18500111\") |  !GRUNNKRETSNUMMER %in% c(\"18061610\"), # Fjerner Kjerrvika fra Storå\n",
    "             !GRUNNKRETSNUMMER_T1 %in% c(\"18500109\") |  !GRUNNKRETSNUMMER %in% c(\"18750211\"),  # Fjerner Indre Tysfjord fra Kjerrvika\n",
    "             !GRUNNKRETSNUMMER_T1 %in% c(\"18500119\") |  !GRUNNKRETSNUMMER %in% c(\"18750211\")) # Fjerner Bjørntoppen fra Kjerrvika\n",
    "\n",
    "nrow(grunnkrets_KLASS)"
   ]
  },
  {
   "cell_type": "markdown",
   "id": "22ba0a28-2d9b-482b-aa11-e6a7c23aa7cc",
   "metadata": {},
   "source": [
    "### Merger opptaksområder med KLASS (t-1)"
   ]
  },
  {
   "cell_type": "code",
   "execution_count": 269,
   "id": "d7bd8901-c0ca-4bdf-a403-8397be13a069",
   "metadata": {},
   "outputs": [
    {
     "data": {
      "text/html": [
       "14424"
      ],
      "text/latex": [
       "14424"
      ],
      "text/markdown": [
       "14424"
      ],
      "text/plain": [
       "[1] 14424"
      ]
     },
     "metadata": {},
     "output_type": "display_data"
    }
   ],
   "source": [
    "opptaksomrader_KLASS_2 <- opptaksomrader_KLASS %>%\n",
    "dplyr::left_join(grunnkrets_KLASS, by = \"GRUNNKRETSNUMMER\") %>%\n",
    "dplyr::mutate(GRUNNKRETSNUMMER_T1 = case_when(\n",
    "is.na(GRUNNKRETSNUMMER_T1) ~ GRUNNKRETSNUMMER, \n",
    "    TRUE ~ GRUNNKRETSNUMMER_T1\n",
    ")) %>%\n",
    "dplyr::select(GRUNNKRETSNUMMER, GRUNNKRETSNUMMER_T1, GRUNNKRETS_NAVN, OPPTAK_NUMMER, OPPTAK, ORGNR_HF, NAVN_HF, ORGNR_RHF, NAVN_RHF) %>%\n",
    "dplyr::distinct(GRUNNKRETSNUMMER_T1, OPPTAK_NUMMER, OPPTAK, ORGNR_HF, NAVN_HF, ORGNR_RHF, NAVN_RHF)\n",
    "\n",
    "nrow(opptaksomrader_KLASS_2)"
   ]
  },
  {
   "cell_type": "code",
   "execution_count": 270,
   "id": "8d070b96-ef8d-40c3-a85b-433acda101d1",
   "metadata": {},
   "outputs": [],
   "source": [
    "# opptaksomrader_KLASS_2 %>%\n",
    "# dplyr::filter(GRUNNKRETSNUMMER_T1 == \"18500109\")"
   ]
  },
  {
   "cell_type": "markdown",
   "id": "c9ae84b0-5a87-4c5d-953e-b3776ab7c290",
   "metadata": {},
   "source": [
    "### Laster inn KLASS (t-1)"
   ]
  },
  {
   "cell_type": "code",
   "execution_count": 271,
   "id": "4760123d-552a-4a51-bd37-94721867cfa2",
   "metadata": {},
   "outputs": [
    {
     "data": {
      "text/html": [
       "14489"
      ],
      "text/latex": [
       "14489"
      ],
      "text/markdown": [
       "14489"
      ],
      "text/plain": [
       "[1] 14489"
      ]
     },
     "metadata": {},
     "output_type": "display_data"
    },
    {
     "data": {
      "text/html": [
       "14424"
      ],
      "text/latex": [
       "14424"
      ],
      "text/markdown": [
       "14424"
      ],
      "text/plain": [
       "[1] 14424"
      ]
     },
     "metadata": {},
     "output_type": "display_data"
    }
   ],
   "source": [
    "grunnkrets_KLASS_T1 <- klassR::GetKlass(1, output_style = \"wide\", date = c(paste0(aargang-1, \"-01-01\"))) %>%\n",
    "dplyr::rename(GRUNNKRETSNUMMER_T1 = code2, \n",
    "             GRUNNKRETS_NAVN_T1 = name2) %>%\n",
    "dplyr::select(GRUNNKRETSNUMMER_T1, GRUNNKRETS_NAVN_T1) \n",
    "\n",
    "nrow(grunnkrets_KLASS_T1)\n",
    "nrow(opptaksomrader_KLASS_2)"
   ]
  },
  {
   "cell_type": "code",
   "execution_count": 272,
   "id": "79e53b5c-6f75-4b3d-9b5d-341ec06b2565",
   "metadata": {},
   "outputs": [],
   "source": [
    "# opptaksomrader_KLASS_2 %>%\n",
    "# group_by(GRUNNKRETSNUMMER_T1) %>% # grunnkrets_KLASS_T1_2\n",
    "# filter(n()>1)"
   ]
  },
  {
   "cell_type": "code",
   "execution_count": 274,
   "id": "661c2eb9-8da9-4564-8d44-f74856aa7fbd",
   "metadata": {},
   "outputs": [
    {
     "data": {
      "text/html": [
       "14180"
      ],
      "text/latex": [
       "14180"
      ],
      "text/markdown": [
       "14180"
      ],
      "text/plain": [
       "[1] 14180"
      ]
     },
     "metadata": {},
     "output_type": "display_data"
    },
    {
     "data": {
      "text/html": [
       "<table class=\"dataframe\">\n",
       "<caption>A data.frame: 6 × 8</caption>\n",
       "<thead>\n",
       "\t<tr><th></th><th scope=col>GRUNNKRETSNUMMER_T1</th><th scope=col>GRUNNKRETS_NAVN_T1</th><th scope=col>OPPTAK_NUMMER</th><th scope=col>OPPTAK</th><th scope=col>ORGNR_HF</th><th scope=col>NAVN_HF</th><th scope=col>ORGNR_RHF</th><th scope=col>NAVN_RHF</th></tr>\n",
       "\t<tr><th></th><th scope=col>&lt;chr&gt;</th><th scope=col>&lt;chr&gt;</th><th scope=col>&lt;chr&gt;</th><th scope=col>&lt;chr&gt;</th><th scope=col>&lt;chr&gt;</th><th scope=col>&lt;chr&gt;</th><th scope=col>&lt;chr&gt;</th><th scope=col>&lt;chr&gt;</th></tr>\n",
       "</thead>\n",
       "<tbody>\n",
       "\t<tr><th scope=row>1</th><td>01010102</td><td>Båstadlund  </td><td>48</td><td>Østfold</td><td>983971768</td><td>SYKEHUSET ØSTFOLD HF</td><td>991324968</td><td>HELSE SØR-ØST RHF</td></tr>\n",
       "\t<tr><th scope=row>2</th><td>01010103</td><td>Låby        </td><td>48</td><td>Østfold</td><td>983971768</td><td>SYKEHUSET ØSTFOLD HF</td><td>991324968</td><td>HELSE SØR-ØST RHF</td></tr>\n",
       "\t<tr><th scope=row>3</th><td>01010104</td><td>Stangeløkka </td><td>48</td><td>Østfold</td><td>983971768</td><td>SYKEHUSET ØSTFOLD HF</td><td>991324968</td><td>HELSE SØR-ØST RHF</td></tr>\n",
       "\t<tr><th scope=row>4</th><td>01010105</td><td>Refne/Banken</td><td>48</td><td>Østfold</td><td>983971768</td><td>SYKEHUSET ØSTFOLD HF</td><td>991324968</td><td>HELSE SØR-ØST RHF</td></tr>\n",
       "\t<tr><th scope=row>5</th><td>01010107</td><td>Remmen      </td><td>48</td><td>Østfold</td><td>983971768</td><td>SYKEHUSET ØSTFOLD HF</td><td>991324968</td><td>HELSE SØR-ØST RHF</td></tr>\n",
       "\t<tr><th scope=row>6</th><td>01010108</td><td>Refne       </td><td>48</td><td>Østfold</td><td>983971768</td><td>SYKEHUSET ØSTFOLD HF</td><td>991324968</td><td>HELSE SØR-ØST RHF</td></tr>\n",
       "</tbody>\n",
       "</table>\n"
      ],
      "text/latex": [
       "A data.frame: 6 × 8\n",
       "\\begin{tabular}{r|llllllll}\n",
       "  & GRUNNKRETSNUMMER\\_T1 & GRUNNKRETS\\_NAVN\\_T1 & OPPTAK\\_NUMMER & OPPTAK & ORGNR\\_HF & NAVN\\_HF & ORGNR\\_RHF & NAVN\\_RHF\\\\\n",
       "  & <chr> & <chr> & <chr> & <chr> & <chr> & <chr> & <chr> & <chr>\\\\\n",
       "\\hline\n",
       "\t1 & 01010102 & Båstadlund   & 48 & Østfold & 983971768 & SYKEHUSET ØSTFOLD HF & 991324968 & HELSE SØR-ØST RHF\\\\\n",
       "\t2 & 01010103 & Låby         & 48 & Østfold & 983971768 & SYKEHUSET ØSTFOLD HF & 991324968 & HELSE SØR-ØST RHF\\\\\n",
       "\t3 & 01010104 & Stangeløkka  & 48 & Østfold & 983971768 & SYKEHUSET ØSTFOLD HF & 991324968 & HELSE SØR-ØST RHF\\\\\n",
       "\t4 & 01010105 & Refne/Banken & 48 & Østfold & 983971768 & SYKEHUSET ØSTFOLD HF & 991324968 & HELSE SØR-ØST RHF\\\\\n",
       "\t5 & 01010107 & Remmen       & 48 & Østfold & 983971768 & SYKEHUSET ØSTFOLD HF & 991324968 & HELSE SØR-ØST RHF\\\\\n",
       "\t6 & 01010108 & Refne        & 48 & Østfold & 983971768 & SYKEHUSET ØSTFOLD HF & 991324968 & HELSE SØR-ØST RHF\\\\\n",
       "\\end{tabular}\n"
      ],
      "text/markdown": [
       "\n",
       "A data.frame: 6 × 8\n",
       "\n",
       "| <!--/--> | GRUNNKRETSNUMMER_T1 &lt;chr&gt; | GRUNNKRETS_NAVN_T1 &lt;chr&gt; | OPPTAK_NUMMER &lt;chr&gt; | OPPTAK &lt;chr&gt; | ORGNR_HF &lt;chr&gt; | NAVN_HF &lt;chr&gt; | ORGNR_RHF &lt;chr&gt; | NAVN_RHF &lt;chr&gt; |\n",
       "|---|---|---|---|---|---|---|---|---|\n",
       "| 1 | 01010102 | Båstadlund   | 48 | Østfold | 983971768 | SYKEHUSET ØSTFOLD HF | 991324968 | HELSE SØR-ØST RHF |\n",
       "| 2 | 01010103 | Låby         | 48 | Østfold | 983971768 | SYKEHUSET ØSTFOLD HF | 991324968 | HELSE SØR-ØST RHF |\n",
       "| 3 | 01010104 | Stangeløkka  | 48 | Østfold | 983971768 | SYKEHUSET ØSTFOLD HF | 991324968 | HELSE SØR-ØST RHF |\n",
       "| 4 | 01010105 | Refne/Banken | 48 | Østfold | 983971768 | SYKEHUSET ØSTFOLD HF | 991324968 | HELSE SØR-ØST RHF |\n",
       "| 5 | 01010107 | Remmen       | 48 | Østfold | 983971768 | SYKEHUSET ØSTFOLD HF | 991324968 | HELSE SØR-ØST RHF |\n",
       "| 6 | 01010108 | Refne        | 48 | Østfold | 983971768 | SYKEHUSET ØSTFOLD HF | 991324968 | HELSE SØR-ØST RHF |\n",
       "\n"
      ],
      "text/plain": [
       "  GRUNNKRETSNUMMER_T1 GRUNNKRETS_NAVN_T1 OPPTAK_NUMMER OPPTAK  ORGNR_HF \n",
       "1 01010102            Båstadlund         48            Østfold 983971768\n",
       "2 01010103            Låby               48            Østfold 983971768\n",
       "3 01010104            Stangeløkka        48            Østfold 983971768\n",
       "4 01010105            Refne/Banken       48            Østfold 983971768\n",
       "5 01010107            Remmen             48            Østfold 983971768\n",
       "6 01010108            Refne              48            Østfold 983971768\n",
       "  NAVN_HF              ORGNR_RHF NAVN_RHF         \n",
       "1 SYKEHUSET ØSTFOLD HF 991324968 HELSE SØR-ØST RHF\n",
       "2 SYKEHUSET ØSTFOLD HF 991324968 HELSE SØR-ØST RHF\n",
       "3 SYKEHUSET ØSTFOLD HF 991324968 HELSE SØR-ØST RHF\n",
       "4 SYKEHUSET ØSTFOLD HF 991324968 HELSE SØR-ØST RHF\n",
       "5 SYKEHUSET ØSTFOLD HF 991324968 HELSE SØR-ØST RHF\n",
       "6 SYKEHUSET ØSTFOLD HF 991324968 HELSE SØR-ØST RHF"
      ]
     },
     "metadata": {},
     "output_type": "display_data"
    }
   ],
   "source": [
    "grunnkrets_KLASS_T1_2 <- grunnkrets_KLASS_T1 %>%\n",
    "dplyr::left_join(opptaksomrader_KLASS_2, by = \"GRUNNKRETSNUMMER_T1\") %>%\n",
    "dplyr::filter(!is.na(OPPTAK))\n",
    "\n",
    "nrow(grunnkrets_KLASS_T1_2)\n",
    "\n",
    "head(grunnkrets_KLASS_T1_2)\n",
    "\n",
    "# grunnkrets_KLASS_T1_2 <- grunnkrets_KLASS_T1 %>%\n",
    "# dplyr::distinct(GRUNNKRETSNUMMER_T1, GRUNNKRETS_NAVN_T1, OPPTAK)"
   ]
  },
  {
   "cell_type": "markdown",
   "id": "6742a67f-f051-4474-8e5c-6b6e3a92df6c",
   "metadata": {},
   "source": [
    "### Lagrer filen "
   ]
  },
  {
   "cell_type": "code",
   "execution_count": 301,
   "id": "e56f1e48-ef82-4abd-bb23-7abf150da01d",
   "metadata": {},
   "outputs": [],
   "source": [
    "test <- grunnkrets_KLASS_T1_2 %>%\n",
    "  dplyr::mutate(TOM_FORELDER = \"\") %>%\n",
    "  # dplyr::filter(opptak %in% c(\"Stavanger\", \"Ålesund\")) %>%\n",
    "  dplyr::select(GRUNNKRETSNUMMER_T1, GRUNNKRETS_NAVN_T1, OPPTAK_NUMMER, ORGNR_HF, NAVN_HF, OPPTAK, ORGNR_RHF, NAVN_RHF, TOM_FORELDER)\n",
    "\n",
    "level_1 <- test %>%\n",
    "  dplyr::select(ORGNR_RHF, TOM_FORELDER, NAVN_RHF) %>%\n",
    "  dplyr::rename('ns1:kode' = ORGNR_RHF, \n",
    "                'ns1:forelder' = TOM_FORELDER, \n",
    "                'ns1:navn_bokmål' = NAVN_RHF) %>%\n",
    "  dplyr::distinct()\n",
    "\n",
    "level_2 <- test %>%\n",
    "  dplyr::select(ORGNR_HF, ORGNR_RHF, NAVN_HF) %>%\n",
    "  dplyr::rename('ns1:kode' = ORGNR_HF, \n",
    "                'ns1:forelder' = ORGNR_RHF, \n",
    "                'ns1:navn_bokmål' = NAVN_HF) %>%\n",
    "  dplyr::distinct()\n",
    "\n",
    "level_3 <- test %>%\n",
    "  dplyr::select(OPPTAK_NUMMER, ORGNR_HF, OPPTAK) %>%\n",
    "  dplyr::rename('ns1:kode' = OPPTAK_NUMMER, \n",
    "                'ns1:forelder' = ORGNR_HF, \n",
    "                'ns1:navn_bokmål' = OPPTAK) %>%\n",
    "  dplyr::distinct()\n",
    "\n",
    "level_4 <- test %>%\n",
    "  dplyr::select(GRUNNKRETSNUMMER_T1, OPPTAK_NUMMER, GRUNNKRETS_NAVN_T1) %>%\n",
    "  dplyr::rename('ns1:kode' = GRUNNKRETSNUMMER_T1, \n",
    "                'ns1:forelder' = OPPTAK_NUMMER, \n",
    "                'ns1:navn_bokmål' = GRUNNKRETS_NAVN_T1) %>%\n",
    "  dplyr::distinct()\n",
    "\n",
    "KLASS <- rbind(level_1, level_2, level_3, level_4)"
   ]
  },
  {
   "cell_type": "code",
   "execution_count": 302,
   "id": "4068dd58-f46e-4dfb-84b9-8eeb9cb1a82f",
   "metadata": {},
   "outputs": [],
   "source": [
    "openxlsx::write.xlsx(KLASS, file = \"/ssb/bruker/rdn/opptak_2019.xlsx\",\n",
    "                     rowNames = FALSE,\n",
    "                     showNA = FALSE,\n",
    "                     overwrite=T) # T = overskriver dersom filen allerede finnes, F = gir feilmelding dersom filen finnes"
   ]
  },
  {
   "cell_type": "code",
   "execution_count": null,
   "id": "41486429-5213-46e6-84fb-60cd823a8987",
   "metadata": {},
   "outputs": [],
   "source": []
  },
  {
   "cell_type": "code",
   "execution_count": null,
   "id": "08fa3952-7b47-449c-9424-ee85e75b1ae7",
   "metadata": {},
   "outputs": [],
   "source": []
  },
  {
   "cell_type": "code",
   "execution_count": null,
   "id": "2dfd88b6-661f-4629-b3d5-39400afc7dd3",
   "metadata": {},
   "outputs": [],
   "source": []
  },
  {
   "cell_type": "code",
   "execution_count": null,
   "id": "2994cab0-0fca-4cff-8fcc-8d4a8454e71e",
   "metadata": {},
   "outputs": [],
   "source": []
  },
  {
   "cell_type": "code",
   "execution_count": null,
   "id": "ab61cb33-b9af-4cb9-b295-83c42977e867",
   "metadata": {},
   "outputs": [],
   "source": []
  },
  {
   "cell_type": "code",
   "execution_count": 290,
   "id": "b0f8baea-d562-459c-b4df-67dd09d63b2f",
   "metadata": {},
   "outputs": [
    {
     "data": {
      "text/html": [
       "309"
      ],
      "text/latex": [
       "309"
      ],
      "text/markdown": [
       "309"
      ],
      "text/plain": [
       "[1] 309"
      ]
     },
     "metadata": {},
     "output_type": "display_data"
    },
    {
     "data": {
      "text/html": [
       "<table class=\"dataframe\">\n",
       "<caption>A data.frame: 6 × 1</caption>\n",
       "<thead>\n",
       "\t<tr><th></th><th scope=col>GRUNNKRETSNUMMER_T1</th></tr>\n",
       "\t<tr><th></th><th scope=col>&lt;chr&gt;</th></tr>\n",
       "</thead>\n",
       "<tbody>\n",
       "\t<tr><th scope=row>1</th><td>01019999</td></tr>\n",
       "\t<tr><th scope=row>2</th><td>01049999</td></tr>\n",
       "\t<tr><th scope=row>3</th><td>01059999</td></tr>\n",
       "\t<tr><th scope=row>4</th><td>01069999</td></tr>\n",
       "\t<tr><th scope=row>5</th><td>01119999</td></tr>\n",
       "\t<tr><th scope=row>6</th><td>01189999</td></tr>\n",
       "</tbody>\n",
       "</table>\n"
      ],
      "text/latex": [
       "A data.frame: 6 × 1\n",
       "\\begin{tabular}{r|l}\n",
       "  & GRUNNKRETSNUMMER\\_T1\\\\\n",
       "  & <chr>\\\\\n",
       "\\hline\n",
       "\t1 & 01019999\\\\\n",
       "\t2 & 01049999\\\\\n",
       "\t3 & 01059999\\\\\n",
       "\t4 & 01069999\\\\\n",
       "\t5 & 01119999\\\\\n",
       "\t6 & 01189999\\\\\n",
       "\\end{tabular}\n"
      ],
      "text/markdown": [
       "\n",
       "A data.frame: 6 × 1\n",
       "\n",
       "| <!--/--> | GRUNNKRETSNUMMER_T1 &lt;chr&gt; |\n",
       "|---|---|\n",
       "| 1 | 01019999 |\n",
       "| 2 | 01049999 |\n",
       "| 3 | 01059999 |\n",
       "| 4 | 01069999 |\n",
       "| 5 | 01119999 |\n",
       "| 6 | 01189999 |\n",
       "\n"
      ],
      "text/plain": [
       "  GRUNNKRETSNUMMER_T1\n",
       "1 01019999           \n",
       "2 01049999           \n",
       "3 01059999           \n",
       "4 01069999           \n",
       "5 01119999           \n",
       "6 01189999           "
      ]
     },
     "metadata": {},
     "output_type": "display_data"
    },
    {
     "data": {
      "text/html": [
       "0"
      ],
      "text/latex": [
       "0"
      ],
      "text/markdown": [
       "0"
      ],
      "text/plain": [
       "[1] 0"
      ]
     },
     "metadata": {},
     "output_type": "display_data"
    }
   ],
   "source": [
    "uoppgitt_grunnkrets <- grunnkrets_KLASS_T1 %>%\n",
    "dplyr::left_join(opptaksomrader_KLASS_2, by = \"GRUNNKRETSNUMMER_T1\") %>%\n",
    "dplyr::filter(is.na(OPPTAK)) %>%\n",
    "dplyr::select(GRUNNKRETSNUMMER_T1)\n",
    "\n",
    "nrow(uoppgitt_grunnkrets)\n",
    "\n",
    "head(uoppgitt_grunnkrets)\n",
    "\n",
    "kommune_test <- grunnkrets_KLASS_T1_2 %>%\n",
    "# dplyr::mutate(KOMMUNENUMMER = substr(GRUNNKRETSNUMMER_T1, 1, 4)) %>%\n",
    "# dplyr::group_by(KOMMUNENUMMER, OPPTAK_NUMMER, OPPTAK, ORGNR_HF, NAVN_HF, ORGNR_RHF, NAVN_RHF) %>% # OPPTAK_NUMMER, OPPTAK, ORGNR_HF, NAVN_HF, ORGNR_RHF, NAVN_RHF\n",
    "# dplyr::tally() %>%\n",
    "# arrange(KOMMUNENUMMER) %>%\n",
    "# dplyr::group_by(KOMMUNENUMMER, OPPTAK_NUMMER, OPPTAK, ORGNR_HF, NAVN_HF, ORGNR_RHF, NAVN_RHF) %>% # \n",
    "# slice(which.max(n)) %>%\n",
    "# dplyr::mutate(GRUNNKRETSNUMMER_T1 = paste0(KOMMUNENUMMER, \"9999\")) %>%\n",
    "# ungroup() %>%\n",
    "# dplyr::select(-KOMMUNENUMMER) %>%\n",
    "dplyr::filter(GRUNNKRETSNUMMER_T1 %in% unique(uoppgitt_grunnkrets$GRUNNKRETSNUMMER_T1))\n",
    "\n",
    "nrow(kommune_test)\n",
    "\n",
    "# head(kommune_test)"
   ]
  },
  {
   "cell_type": "code",
   "execution_count": 248,
   "id": "47eb3759-9726-4ae8-a3ff-e75ba6e40cbd",
   "metadata": {},
   "outputs": [],
   "source": [
    "# kommune_test <- grunnkrets_KLASS_T1 %>%\n",
    "# dplyr::filter(!is.na(OPPTAK)) %>%\n",
    "# dplyr::mutate(KOMMUNENUMMER = substr(GRUNNKRETSNUMMER_T1, 1, 4)) %>%\n",
    "# dplyr::group_by(KOMMUNENUMMER, OPPTAK_NUMMER, OPPTAK, ORGNR_HF, NAVN_HF, ORGNR_RHF, NAVN_RHF) %>%\n",
    "# dplyr::tally() %>%\n",
    "# arrange(KOMMUNENUMMER) %>%\n",
    "# slice(which.max(n)) %>%\n",
    "# dplyr::mutate(GRUNNKRETSNUMMER_T1 = paste0(KOMMUNENUMMER, \"9999\")) %>%\n",
    "# ungroup() %>%\n",
    "# dplyr::select(-KOMMUNENUMMER, -n)\n",
    "\n",
    "# nrow(kommune_test)\n",
    "\n",
    "# uoppgitt_grunnkrets <- grunnkrets_KLASS_T1 %>%\n",
    "# dplyr::filter(is.na(OPPTAK)) %>%\n",
    "# dplyr::select(GRUNNKRETSNUMMER_T1)\n",
    "\n",
    "# nrow(uoppgitt_grunnkrets)\n",
    "\n",
    "# uoppgitt_grunnkrets %>%\n",
    "# dplyr::filter(GRUNNKRETSNUMMER_T1 == \"02269999\")\n",
    "\n",
    "# uoppgitt_grunnkrets <- uoppgitt_grunnkrets %>%\n",
    "# dplyr::left_join(kommune_test, by = \"GRUNNKRETSNUMMER_T1\")\n",
    "\n",
    "# uoppgitt_grunnkrets %>%\n",
    "# dplyr::filter(GRUNNKRETSNUMMER_T1 == \"02269999\")\n",
    "\n",
    "# nrow(uoppgitt_grunnkrets)"
   ]
  },
  {
   "cell_type": "code",
   "execution_count": 258,
   "id": "4c3e9145-9499-4e31-92ae-e7f6cae073d7",
   "metadata": {},
   "outputs": [],
   "source": [
    "# uoppgitt_grunnkrets %>%\n",
    "# group_by(GRUNNKRETSNUMMER_T1) %>% # grunnkrets_KLASS_T1_2\n",
    "# filter(n()>1)"
   ]
  },
  {
   "cell_type": "code",
   "execution_count": 259,
   "id": "3b4cd737-a041-48e7-a9bc-78e9b6f81d51",
   "metadata": {},
   "outputs": [],
   "source": [
    "# kommune_test %>%\n",
    "# group_by(KOMMUNENUMMER) %>% # grunnkrets_KLASS_T1_2\n",
    "# filter(n()>1)"
   ]
  },
  {
   "cell_type": "code",
   "execution_count": 260,
   "id": "56cc984b-929d-47ce-bceb-c602f99305e7",
   "metadata": {},
   "outputs": [],
   "source": [
    "# grunnkrets_KLASS_T1_2 %>%\n",
    "# # dplyr::distinct(GRUNNKRETSNUMMER_T1, GRUNNKRETS_NAVN_T1, OPPTAK) %>%\n",
    "# group_by(GRUNNKRETSNUMMER_T1) %>% # grunnkrets_KLASS_T1_2\n",
    "# filter(n()>1)"
   ]
  },
  {
   "cell_type": "code",
   "execution_count": null,
   "id": "d447e326-3155-45db-8202-3d8172cff30a",
   "metadata": {},
   "outputs": [],
   "source": [
    "# grunnkrets_KLASS_T1_2 <- grunnkrets_KLASS_T1 %>%\n",
    "# dplyr::mutate(OPPTAK = case_when(\n",
    "# GRUNNKRETS_NAVN_T1 == \"Indre Tysfjord\" ~ \"Narvik\",\n",
    "# GRUNNKRETS_NAVN_T1 == \"Kjerrvika\" ~ \"Narvik\",\n",
    "# GRUNNKRETS_NAVN_T1 == \"Bjørntoppen\" ~ \"Narvik\",\n",
    "# TRUE ~ OPPTAK\n",
    "# )) \n",
    "\n",
    "grunnkrets_KLASS_T1_2 %>%\n",
    "dplyr::distinct(GRUNNKRETSNUMMER_T1, GRUNNKRETS_NAVN_T1, OPPTAK) %>%\n",
    "group_by(GRUNNKRETSNUMMER_T1) %>% # grunnkrets_KLASS_T1_2\n",
    "filter(n()>1)\n",
    "\n",
    "nrow(grunnkrets_KLASS_T1_2)"
   ]
  },
  {
   "cell_type": "code",
   "execution_count": 155,
   "id": "66bb77bc-523a-44b2-b2b8-d2dbb5196d76",
   "metadata": {},
   "outputs": [],
   "source": [
    "# grunnkrets_KLASS_T1_2 %>%\n",
    "# dplyr::filter(substr(GRUNNKRETSNUMMER_T1, 1, 4) == \"0226\") # Akershus"
   ]
  },
  {
   "cell_type": "code",
   "execution_count": 157,
   "id": "9053daa1-8497-4092-9158-2aaa3720b83b",
   "metadata": {},
   "outputs": [],
   "source": [
    "# # grunnkrets_KLASS_T1_2 %>%\n",
    "# # # dplyr::filter(GRUNNKRETSNUMMER_T1 == \"01059999\")\n",
    "# # dplyr::filter(GRUNNKRETSNUMMER == \"30039999\")\n",
    "\n",
    "# grunnkrets_KLASS_T1_2 %>%\n",
    "# dplyr::filter(!is.na(OPPTAK)) %>%\n",
    "# dplyr::mutate(KOMMUNENUMMER = substr(GRUNNKRETSNUMMER_T1, 1, 4)) %>%\n",
    "# dplyr::select(OPPTAK, KOMMUNENUMMER) %>%\n",
    "# dplyr::distinct() %>%\n",
    "# group_by(KOMMUNENUMMER) %>% # grunnkrets_KLASS_T1_2\n",
    "# filter(n()>1)"
   ]
  },
  {
   "cell_type": "markdown",
   "id": "ec71d77b-52a6-4f2d-aa83-f6b809ffab9a",
   "metadata": {},
   "source": [
    "OBS: Uoppgitt grunnkrets per kommune?"
   ]
  },
  {
   "cell_type": "code",
   "execution_count": 158,
   "id": "82b412cd-2f71-4453-b09d-d99b0d9149a8",
   "metadata": {},
   "outputs": [
    {
     "data": {
      "text/html": [
       "<table class=\"dataframe\">\n",
       "<caption>A data.frame: 0 × 8</caption>\n",
       "<thead>\n",
       "\t<tr><th scope=col>GRUNNKRETSNUMMER_T1</th><th scope=col>GRUNNKRETS_NAVN_T1</th><th scope=col>GRUNNKRETSNUMMER</th><th scope=col>OPPTAK</th><th scope=col>ORGNR_HF</th><th scope=col>NAVN_HF</th><th scope=col>ORGNR_RHF</th><th scope=col>NAVN_RHF</th></tr>\n",
       "\t<tr><th scope=col>&lt;chr&gt;</th><th scope=col>&lt;chr&gt;</th><th scope=col>&lt;chr&gt;</th><th scope=col>&lt;chr&gt;</th><th scope=col>&lt;chr&gt;</th><th scope=col>&lt;chr&gt;</th><th scope=col>&lt;chr&gt;</th><th scope=col>&lt;chr&gt;</th></tr>\n",
       "</thead>\n",
       "<tbody>\n",
       "</tbody>\n",
       "</table>\n"
      ],
      "text/latex": [
       "A data.frame: 0 × 8\n",
       "\\begin{tabular}{llllllll}\n",
       " GRUNNKRETSNUMMER\\_T1 & GRUNNKRETS\\_NAVN\\_T1 & GRUNNKRETSNUMMER & OPPTAK & ORGNR\\_HF & NAVN\\_HF & ORGNR\\_RHF & NAVN\\_RHF\\\\\n",
       " <chr> & <chr> & <chr> & <chr> & <chr> & <chr> & <chr> & <chr>\\\\\n",
       "\\hline\n",
       "\\end{tabular}\n"
      ],
      "text/markdown": [
       "\n",
       "A data.frame: 0 × 8\n",
       "\n",
       "| GRUNNKRETSNUMMER_T1 &lt;chr&gt; | GRUNNKRETS_NAVN_T1 &lt;chr&gt; | GRUNNKRETSNUMMER &lt;chr&gt; | OPPTAK &lt;chr&gt; | ORGNR_HF &lt;chr&gt; | NAVN_HF &lt;chr&gt; | ORGNR_RHF &lt;chr&gt; | NAVN_RHF &lt;chr&gt; |\n",
       "|---|---|---|---|---|---|---|---|\n",
       "\n"
      ],
      "text/plain": [
       "     GRUNNKRETSNUMMER_T1 GRUNNKRETS_NAVN_T1 GRUNNKRETSNUMMER OPPTAK ORGNR_HF\n",
       "     NAVN_HF ORGNR_RHF NAVN_RHF"
      ]
     },
     "metadata": {},
     "output_type": "display_data"
    }
   ],
   "source": [
    "grunnkrets_KLASS_T1_2 %>%\n",
    "dplyr::filter(is.na(GRUNNKRETSNUMMER)) %>%\n",
    "dplyr::filter(substr(GRUNNKRETSNUMMER_T1, 5, 8) != \"9999\")"
   ]
  },
  {
   "cell_type": "code",
   "execution_count": 159,
   "id": "6a22bcf8-978e-4e19-a0de-9c0758032a06",
   "metadata": {},
   "outputs": [
    {
     "data": {
      "text/html": [
       "14458"
      ],
      "text/latex": [
       "14458"
      ],
      "text/markdown": [
       "14458"
      ],
      "text/plain": [
       "[1] 14458"
      ]
     },
     "metadata": {},
     "output_type": "display_data"
    },
    {
     "data": {
      "text/html": [
       "<table class=\"dataframe\">\n",
       "<caption>A data.frame: 1 × 7</caption>\n",
       "<thead>\n",
       "\t<tr><th scope=col>GRUNNKRETSNUMMER</th><th scope=col>GRUNNKRETSNUMMER_T1</th><th scope=col>OPPTAK</th><th scope=col>ORGNR_HF</th><th scope=col>NAVN_HF</th><th scope=col>ORGNR_RHF</th><th scope=col>NAVN_RHF</th></tr>\n",
       "\t<tr><th scope=col>&lt;chr&gt;</th><th scope=col>&lt;chr&gt;</th><th scope=col>&lt;chr&gt;</th><th scope=col>&lt;chr&gt;</th><th scope=col>&lt;chr&gt;</th><th scope=col>&lt;chr&gt;</th><th scope=col>&lt;chr&gt;</th></tr>\n",
       "</thead>\n",
       "<tbody>\n",
       "\t<tr><td>18061609</td><td>18500109</td><td>Narvik</td><td>983974899</td><td>UNIVERSITETSSYKEHUSET NORD-NORGE HF</td><td>883658752</td><td>HELSE NORD RHF</td></tr>\n",
       "</tbody>\n",
       "</table>\n"
      ],
      "text/latex": [
       "A data.frame: 1 × 7\n",
       "\\begin{tabular}{lllllll}\n",
       " GRUNNKRETSNUMMER & GRUNNKRETSNUMMER\\_T1 & OPPTAK & ORGNR\\_HF & NAVN\\_HF & ORGNR\\_RHF & NAVN\\_RHF\\\\\n",
       " <chr> & <chr> & <chr> & <chr> & <chr> & <chr> & <chr>\\\\\n",
       "\\hline\n",
       "\t 18061609 & 18500109 & Narvik & 983974899 & UNIVERSITETSSYKEHUSET NORD-NORGE HF & 883658752 & HELSE NORD RHF\\\\\n",
       "\\end{tabular}\n"
      ],
      "text/markdown": [
       "\n",
       "A data.frame: 1 × 7\n",
       "\n",
       "| GRUNNKRETSNUMMER &lt;chr&gt; | GRUNNKRETSNUMMER_T1 &lt;chr&gt; | OPPTAK &lt;chr&gt; | ORGNR_HF &lt;chr&gt; | NAVN_HF &lt;chr&gt; | ORGNR_RHF &lt;chr&gt; | NAVN_RHF &lt;chr&gt; |\n",
       "|---|---|---|---|---|---|---|\n",
       "| 18061609 | 18500109 | Narvik | 983974899 | UNIVERSITETSSYKEHUSET NORD-NORGE HF | 883658752 | HELSE NORD RHF |\n",
       "\n"
      ],
      "text/plain": [
       "  GRUNNKRETSNUMMER GRUNNKRETSNUMMER_T1 OPPTAK ORGNR_HF \n",
       "1 18061609         18500109            Narvik 983974899\n",
       "  NAVN_HF                             ORGNR_RHF NAVN_RHF      \n",
       "1 UNIVERSITETSSYKEHUSET NORD-NORGE HF 883658752 HELSE NORD RHF"
      ]
     },
     "metadata": {},
     "output_type": "display_data"
    }
   ],
   "source": [
    "# nrow(opptaksomrader_KLASS_2)\n",
    "\n",
    "nrow(opptaksomrader_KLASS_2)\n",
    "\n",
    "opptaksomrader_KLASS_2 %>%\n",
    "dplyr::filter(GRUNNKRETSNUMMER_T1 == \"18500109\")\n",
    "\n",
    "# opptaksomrader_KLASS_2 %>%\n",
    "# dplyr::filter(is.na(OPPTAK_NUMMER))\n",
    "\n",
    "# opptaksomrader_KLASS_2 %>%\n",
    "# dplyr::filter(is.na(GRUNNKRETSNUMMER_T1))"
   ]
  },
  {
   "cell_type": "code",
   "execution_count": 160,
   "id": "51b3dff6-ec50-44c9-bb91-5897078d3957",
   "metadata": {},
   "outputs": [
    {
     "data": {
      "text/html": [
       "57"
      ],
      "text/latex": [
       "57"
      ],
      "text/markdown": [
       "57"
      ],
      "text/plain": [
       "[1] 57"
      ]
     },
     "metadata": {},
     "output_type": "display_data"
    }
   ],
   "source": [
    "test <- opptaksomrader_KLASS_2 %>%\n",
    "group_by(GRUNNKRETSNUMMER_T1) %>% \n",
    "filter(n()>1)\n",
    "\n",
    "nrow(test)"
   ]
  },
  {
   "cell_type": "code",
   "execution_count": 161,
   "id": "f3dae7b1-8336-4c97-82a1-9d9bf2da27f2",
   "metadata": {},
   "outputs": [
    {
     "data": {
      "text/html": [
       "<table class=\"dataframe\">\n",
       "<caption>A grouped_df: 57 × 7</caption>\n",
       "<thead>\n",
       "\t<tr><th scope=col>GRUNNKRETSNUMMER</th><th scope=col>GRUNNKRETSNUMMER_T1</th><th scope=col>OPPTAK</th><th scope=col>ORGNR_HF</th><th scope=col>NAVN_HF</th><th scope=col>ORGNR_RHF</th><th scope=col>NAVN_RHF</th></tr>\n",
       "\t<tr><th scope=col>&lt;chr&gt;</th><th scope=col>&lt;chr&gt;</th><th scope=col>&lt;chr&gt;</th><th scope=col>&lt;chr&gt;</th><th scope=col>&lt;chr&gt;</th><th scope=col>&lt;chr&gt;</th><th scope=col>&lt;chr&gt;</th></tr>\n",
       "</thead>\n",
       "<tbody>\n",
       "\t<tr><td>42040312</td><td>10010311</td><td>Kristiansand</td><td>983975240</td><td>SØRLANDET SYKEHUS HF</td><td>991324968</td><td>HELSE SØR-ØST RHF   </td></tr>\n",
       "\t<tr><td>42040313</td><td>10010311</td><td>Kristiansand</td><td>983975240</td><td>SØRLANDET SYKEHUS HF</td><td>991324968</td><td>HELSE SØR-ØST RHF   </td></tr>\n",
       "\t<tr><td>42040509</td><td>10010507</td><td>Kristiansand</td><td>983975240</td><td>SØRLANDET SYKEHUS HF</td><td>991324968</td><td>HELSE SØR-ØST RHF   </td></tr>\n",
       "\t<tr><td>42040510</td><td>10010507</td><td>Kristiansand</td><td>983975240</td><td>SØRLANDET SYKEHUS HF</td><td>991324968</td><td>HELSE SØR-ØST RHF   </td></tr>\n",
       "\t<tr><td>42040806</td><td>10010805</td><td>Kristiansand</td><td>983975240</td><td>SØRLANDET SYKEHUS HF</td><td>991324968</td><td>HELSE SØR-ØST RHF   </td></tr>\n",
       "\t<tr><td>42040807</td><td>10010805</td><td>Kristiansand</td><td>983975240</td><td>SØRLANDET SYKEHUS HF</td><td>991324968</td><td>HELSE SØR-ØST RHF   </td></tr>\n",
       "\t<tr><td>42040918</td><td>10010914</td><td>Kristiansand</td><td>983975240</td><td>SØRLANDET SYKEHUS HF</td><td>991324968</td><td>HELSE SØR-ØST RHF   </td></tr>\n",
       "\t<tr><td>42040919</td><td>10010914</td><td>Kristiansand</td><td>983975240</td><td>SØRLANDET SYKEHUS HF</td><td>991324968</td><td>HELSE SØR-ØST RHF   </td></tr>\n",
       "\t<tr><td>42040920</td><td>10010906</td><td>Kristiansand</td><td>983975240</td><td>SØRLANDET SYKEHUS HF</td><td>991324968</td><td>HELSE SØR-ØST RHF   </td></tr>\n",
       "\t<tr><td>42040921</td><td>10010906</td><td>Kristiansand</td><td>983975240</td><td>SØRLANDET SYKEHUS HF</td><td>991324968</td><td>HELSE SØR-ØST RHF   </td></tr>\n",
       "\t<tr><td>42041112</td><td>10011111</td><td>Kristiansand</td><td>983975240</td><td>SØRLANDET SYKEHUS HF</td><td>991324968</td><td>HELSE SØR-ØST RHF   </td></tr>\n",
       "\t<tr><td>42041113</td><td>10011111</td><td>Kristiansand</td><td>983975240</td><td>SØRLANDET SYKEHUS HF</td><td>991324968</td><td>HELSE SØR-ØST RHF   </td></tr>\n",
       "\t<tr><td>42041406</td><td>10011401</td><td>Kristiansand</td><td>983975240</td><td>SØRLANDET SYKEHUS HF</td><td>991324968</td><td>HELSE SØR-ØST RHF   </td></tr>\n",
       "\t<tr><td>42041407</td><td>10011401</td><td>Kristiansand</td><td>983975240</td><td>SØRLANDET SYKEHUS HF</td><td>991324968</td><td>HELSE SØR-ØST RHF   </td></tr>\n",
       "\t<tr><td>42041609</td><td>10011601</td><td>Kristiansand</td><td>983975240</td><td>SØRLANDET SYKEHUS HF</td><td>991324968</td><td>HELSE SØR-ØST RHF   </td></tr>\n",
       "\t<tr><td>42041610</td><td>10011601</td><td>Kristiansand</td><td>983975240</td><td>SØRLANDET SYKEHUS HF</td><td>991324968</td><td>HELSE SØR-ØST RHF   </td></tr>\n",
       "\t<tr><td>42041611</td><td>10011601</td><td>Kristiansand</td><td>983975240</td><td>SØRLANDET SYKEHUS HF</td><td>991324968</td><td>HELSE SØR-ØST RHF   </td></tr>\n",
       "\t<tr><td>42041709</td><td>10011702</td><td>Kristiansand</td><td>983975240</td><td>SØRLANDET SYKEHUS HF</td><td>991324968</td><td>HELSE SØR-ØST RHF   </td></tr>\n",
       "\t<tr><td>42041710</td><td>10011702</td><td>Kristiansand</td><td>983975240</td><td>SØRLANDET SYKEHUS HF</td><td>991324968</td><td>HELSE SØR-ØST RHF   </td></tr>\n",
       "\t<tr><td>42041809</td><td>10011807</td><td>Kristiansand</td><td>983975240</td><td>SØRLANDET SYKEHUS HF</td><td>991324968</td><td>HELSE SØR-ØST RHF   </td></tr>\n",
       "\t<tr><td>42041810</td><td>10011807</td><td>Kristiansand</td><td>983975240</td><td>SØRLANDET SYKEHUS HF</td><td>991324968</td><td>HELSE SØR-ØST RHF   </td></tr>\n",
       "\t<tr><td>42041811</td><td>10011807</td><td>Kristiansand</td><td>983975240</td><td>SØRLANDET SYKEHUS HF</td><td>991324968</td><td>HELSE SØR-ØST RHF   </td></tr>\n",
       "\t<tr><td>42041812</td><td>10011807</td><td>Kristiansand</td><td>983975240</td><td>SØRLANDET SYKEHUS HF</td><td>991324968</td><td>HELSE SØR-ØST RHF   </td></tr>\n",
       "\t<tr><td>42041813</td><td>10011807</td><td>Kristiansand</td><td>983975240</td><td>SØRLANDET SYKEHUS HF</td><td>991324968</td><td>HELSE SØR-ØST RHF   </td></tr>\n",
       "\t<tr><td>42041814</td><td>10011807</td><td>Kristiansand</td><td>983975240</td><td>SØRLANDET SYKEHUS HF</td><td>991324968</td><td>HELSE SØR-ØST RHF   </td></tr>\n",
       "\t<tr><td>42041815</td><td>10011807</td><td>Kristiansand</td><td>983975240</td><td>SØRLANDET SYKEHUS HF</td><td>991324968</td><td>HELSE SØR-ØST RHF   </td></tr>\n",
       "\t<tr><td>42041816</td><td>10011807</td><td>Kristiansand</td><td>983975240</td><td>SØRLANDET SYKEHUS HF</td><td>991324968</td><td>HELSE SØR-ØST RHF   </td></tr>\n",
       "\t<tr><td>42041817</td><td>10011808</td><td>Kristiansand</td><td>983975240</td><td>SØRLANDET SYKEHUS HF</td><td>991324968</td><td>HELSE SØR-ØST RHF   </td></tr>\n",
       "\t<tr><td>42041818</td><td>10011808</td><td>Kristiansand</td><td>983975240</td><td>SØRLANDET SYKEHUS HF</td><td>991324968</td><td>HELSE SØR-ØST RHF   </td></tr>\n",
       "\t<tr><td>42041819</td><td>10011808</td><td>Kristiansand</td><td>983975240</td><td>SØRLANDET SYKEHUS HF</td><td>991324968</td><td>HELSE SØR-ØST RHF   </td></tr>\n",
       "\t<tr><td>42041820</td><td>10011808</td><td>Kristiansand</td><td>983975240</td><td>SØRLANDET SYKEHUS HF</td><td>991324968</td><td>HELSE SØR-ØST RHF   </td></tr>\n",
       "\t<tr><td>42041906</td><td>10011902</td><td>Kristiansand</td><td>983975240</td><td>SØRLANDET SYKEHUS HF</td><td>991324968</td><td>HELSE SØR-ØST RHF   </td></tr>\n",
       "\t<tr><td>42041907</td><td>10011902</td><td>Kristiansand</td><td>983975240</td><td>SØRLANDET SYKEHUS HF</td><td>991324968</td><td>HELSE SØR-ØST RHF   </td></tr>\n",
       "\t<tr><td>42041910</td><td>10011905</td><td>Kristiansand</td><td>983975240</td><td>SØRLANDET SYKEHUS HF</td><td>991324968</td><td>HELSE SØR-ØST RHF   </td></tr>\n",
       "\t<tr><td>42041911</td><td>10011905</td><td>Kristiansand</td><td>983975240</td><td>SØRLANDET SYKEHUS HF</td><td>991324968</td><td>HELSE SØR-ØST RHF   </td></tr>\n",
       "\t<tr><td>42042020</td><td>10180102</td><td>Kristiansand</td><td>983975240</td><td>SØRLANDET SYKEHUS HF</td><td>991324968</td><td>HELSE SØR-ØST RHF   </td></tr>\n",
       "\t<tr><td>42042021</td><td>10180102</td><td>Kristiansand</td><td>983975240</td><td>SØRLANDET SYKEHUS HF</td><td>991324968</td><td>HELSE SØR-ØST RHF   </td></tr>\n",
       "\t<tr><td>42042022</td><td>10180104</td><td>Kristiansand</td><td>983975240</td><td>SØRLANDET SYKEHUS HF</td><td>991324968</td><td>HELSE SØR-ØST RHF   </td></tr>\n",
       "\t<tr><td>42042023</td><td>10180104</td><td>Kristiansand</td><td>983975240</td><td>SØRLANDET SYKEHUS HF</td><td>991324968</td><td>HELSE SØR-ØST RHF   </td></tr>\n",
       "\t<tr><td>42042024</td><td>10180108</td><td>Kristiansand</td><td>983975240</td><td>SØRLANDET SYKEHUS HF</td><td>991324968</td><td>HELSE SØR-ØST RHF   </td></tr>\n",
       "\t<tr><td>42042025</td><td>10180108</td><td>Kristiansand</td><td>983975240</td><td>SØRLANDET SYKEHUS HF</td><td>991324968</td><td>HELSE SØR-ØST RHF   </td></tr>\n",
       "\t<tr><td>42042026</td><td>10180111</td><td>Kristiansand</td><td>983975240</td><td>SØRLANDET SYKEHUS HF</td><td>991324968</td><td>HELSE SØR-ØST RHF   </td></tr>\n",
       "\t<tr><td>42042027</td><td>10180111</td><td>Kristiansand</td><td>983975240</td><td>SØRLANDET SYKEHUS HF</td><td>991324968</td><td>HELSE SØR-ØST RHF   </td></tr>\n",
       "\t<tr><td>42042115</td><td>10180204</td><td>Kristiansand</td><td>983975240</td><td>SØRLANDET SYKEHUS HF</td><td>991324968</td><td>HELSE SØR-ØST RHF   </td></tr>\n",
       "\t<tr><td>42042116</td><td>10180204</td><td>Kristiansand</td><td>983975240</td><td>SØRLANDET SYKEHUS HF</td><td>991324968</td><td>HELSE SØR-ØST RHF   </td></tr>\n",
       "\t<tr><td>42042117</td><td>10180205</td><td>Kristiansand</td><td>983975240</td><td>SØRLANDET SYKEHUS HF</td><td>991324968</td><td>HELSE SØR-ØST RHF   </td></tr>\n",
       "\t<tr><td>42042118</td><td>10180205</td><td>Kristiansand</td><td>983975240</td><td>SØRLANDET SYKEHUS HF</td><td>991324968</td><td>HELSE SØR-ØST RHF   </td></tr>\n",
       "\t<tr><td>42042119</td><td>10180208</td><td>Kristiansand</td><td>983975240</td><td>SØRLANDET SYKEHUS HF</td><td>991324968</td><td>HELSE SØR-ØST RHF   </td></tr>\n",
       "\t<tr><td>42042120</td><td>10180208</td><td>Kristiansand</td><td>983975240</td><td>SØRLANDET SYKEHUS HF</td><td>991324968</td><td>HELSE SØR-ØST RHF   </td></tr>\n",
       "\t<tr><td>42042121</td><td>10180209</td><td>Kristiansand</td><td>983975240</td><td>SØRLANDET SYKEHUS HF</td><td>991324968</td><td>HELSE SØR-ØST RHF   </td></tr>\n",
       "\t<tr><td>42042122</td><td>10180209</td><td>Kristiansand</td><td>983975240</td><td>SØRLANDET SYKEHUS HF</td><td>991324968</td><td>HELSE SØR-ØST RHF   </td></tr>\n",
       "\t<tr><td>42042123</td><td>10180214</td><td>Kristiansand</td><td>983975240</td><td>SØRLANDET SYKEHUS HF</td><td>991324968</td><td>HELSE SØR-ØST RHF   </td></tr>\n",
       "\t<tr><td>42042124</td><td>10180214</td><td>Kristiansand</td><td>983975240</td><td>SØRLANDET SYKEHUS HF</td><td>991324968</td><td>HELSE SØR-ØST RHF   </td></tr>\n",
       "\t<tr><td>42042125</td><td>10180214</td><td>Kristiansand</td><td>983975240</td><td>SØRLANDET SYKEHUS HF</td><td>991324968</td><td>HELSE SØR-ØST RHF   </td></tr>\n",
       "\t<tr><td>42042126</td><td>10180214</td><td>Kristiansand</td><td>983975240</td><td>SØRLANDET SYKEHUS HF</td><td>991324968</td><td>HELSE SØR-ØST RHF   </td></tr>\n",
       "\t<tr><td>50560311</td><td>50120111</td><td>Orkdal      </td><td>883974832</td><td>ST OLAVS HOSPITAL HF</td><td>983658776</td><td>HELSE MIDT-NORGE RHF</td></tr>\n",
       "\t<tr><td>50590911</td><td>50120111</td><td>Orkdal      </td><td>883974832</td><td>ST OLAVS HOSPITAL HF</td><td>983658776</td><td>HELSE MIDT-NORGE RHF</td></tr>\n",
       "</tbody>\n",
       "</table>\n"
      ],
      "text/latex": [
       "A grouped\\_df: 57 × 7\n",
       "\\begin{tabular}{lllllll}\n",
       " GRUNNKRETSNUMMER & GRUNNKRETSNUMMER\\_T1 & OPPTAK & ORGNR\\_HF & NAVN\\_HF & ORGNR\\_RHF & NAVN\\_RHF\\\\\n",
       " <chr> & <chr> & <chr> & <chr> & <chr> & <chr> & <chr>\\\\\n",
       "\\hline\n",
       "\t 42040312 & 10010311 & Kristiansand & 983975240 & SØRLANDET SYKEHUS HF & 991324968 & HELSE SØR-ØST RHF   \\\\\n",
       "\t 42040313 & 10010311 & Kristiansand & 983975240 & SØRLANDET SYKEHUS HF & 991324968 & HELSE SØR-ØST RHF   \\\\\n",
       "\t 42040509 & 10010507 & Kristiansand & 983975240 & SØRLANDET SYKEHUS HF & 991324968 & HELSE SØR-ØST RHF   \\\\\n",
       "\t 42040510 & 10010507 & Kristiansand & 983975240 & SØRLANDET SYKEHUS HF & 991324968 & HELSE SØR-ØST RHF   \\\\\n",
       "\t 42040806 & 10010805 & Kristiansand & 983975240 & SØRLANDET SYKEHUS HF & 991324968 & HELSE SØR-ØST RHF   \\\\\n",
       "\t 42040807 & 10010805 & Kristiansand & 983975240 & SØRLANDET SYKEHUS HF & 991324968 & HELSE SØR-ØST RHF   \\\\\n",
       "\t 42040918 & 10010914 & Kristiansand & 983975240 & SØRLANDET SYKEHUS HF & 991324968 & HELSE SØR-ØST RHF   \\\\\n",
       "\t 42040919 & 10010914 & Kristiansand & 983975240 & SØRLANDET SYKEHUS HF & 991324968 & HELSE SØR-ØST RHF   \\\\\n",
       "\t 42040920 & 10010906 & Kristiansand & 983975240 & SØRLANDET SYKEHUS HF & 991324968 & HELSE SØR-ØST RHF   \\\\\n",
       "\t 42040921 & 10010906 & Kristiansand & 983975240 & SØRLANDET SYKEHUS HF & 991324968 & HELSE SØR-ØST RHF   \\\\\n",
       "\t 42041112 & 10011111 & Kristiansand & 983975240 & SØRLANDET SYKEHUS HF & 991324968 & HELSE SØR-ØST RHF   \\\\\n",
       "\t 42041113 & 10011111 & Kristiansand & 983975240 & SØRLANDET SYKEHUS HF & 991324968 & HELSE SØR-ØST RHF   \\\\\n",
       "\t 42041406 & 10011401 & Kristiansand & 983975240 & SØRLANDET SYKEHUS HF & 991324968 & HELSE SØR-ØST RHF   \\\\\n",
       "\t 42041407 & 10011401 & Kristiansand & 983975240 & SØRLANDET SYKEHUS HF & 991324968 & HELSE SØR-ØST RHF   \\\\\n",
       "\t 42041609 & 10011601 & Kristiansand & 983975240 & SØRLANDET SYKEHUS HF & 991324968 & HELSE SØR-ØST RHF   \\\\\n",
       "\t 42041610 & 10011601 & Kristiansand & 983975240 & SØRLANDET SYKEHUS HF & 991324968 & HELSE SØR-ØST RHF   \\\\\n",
       "\t 42041611 & 10011601 & Kristiansand & 983975240 & SØRLANDET SYKEHUS HF & 991324968 & HELSE SØR-ØST RHF   \\\\\n",
       "\t 42041709 & 10011702 & Kristiansand & 983975240 & SØRLANDET SYKEHUS HF & 991324968 & HELSE SØR-ØST RHF   \\\\\n",
       "\t 42041710 & 10011702 & Kristiansand & 983975240 & SØRLANDET SYKEHUS HF & 991324968 & HELSE SØR-ØST RHF   \\\\\n",
       "\t 42041809 & 10011807 & Kristiansand & 983975240 & SØRLANDET SYKEHUS HF & 991324968 & HELSE SØR-ØST RHF   \\\\\n",
       "\t 42041810 & 10011807 & Kristiansand & 983975240 & SØRLANDET SYKEHUS HF & 991324968 & HELSE SØR-ØST RHF   \\\\\n",
       "\t 42041811 & 10011807 & Kristiansand & 983975240 & SØRLANDET SYKEHUS HF & 991324968 & HELSE SØR-ØST RHF   \\\\\n",
       "\t 42041812 & 10011807 & Kristiansand & 983975240 & SØRLANDET SYKEHUS HF & 991324968 & HELSE SØR-ØST RHF   \\\\\n",
       "\t 42041813 & 10011807 & Kristiansand & 983975240 & SØRLANDET SYKEHUS HF & 991324968 & HELSE SØR-ØST RHF   \\\\\n",
       "\t 42041814 & 10011807 & Kristiansand & 983975240 & SØRLANDET SYKEHUS HF & 991324968 & HELSE SØR-ØST RHF   \\\\\n",
       "\t 42041815 & 10011807 & Kristiansand & 983975240 & SØRLANDET SYKEHUS HF & 991324968 & HELSE SØR-ØST RHF   \\\\\n",
       "\t 42041816 & 10011807 & Kristiansand & 983975240 & SØRLANDET SYKEHUS HF & 991324968 & HELSE SØR-ØST RHF   \\\\\n",
       "\t 42041817 & 10011808 & Kristiansand & 983975240 & SØRLANDET SYKEHUS HF & 991324968 & HELSE SØR-ØST RHF   \\\\\n",
       "\t 42041818 & 10011808 & Kristiansand & 983975240 & SØRLANDET SYKEHUS HF & 991324968 & HELSE SØR-ØST RHF   \\\\\n",
       "\t 42041819 & 10011808 & Kristiansand & 983975240 & SØRLANDET SYKEHUS HF & 991324968 & HELSE SØR-ØST RHF   \\\\\n",
       "\t 42041820 & 10011808 & Kristiansand & 983975240 & SØRLANDET SYKEHUS HF & 991324968 & HELSE SØR-ØST RHF   \\\\\n",
       "\t 42041906 & 10011902 & Kristiansand & 983975240 & SØRLANDET SYKEHUS HF & 991324968 & HELSE SØR-ØST RHF   \\\\\n",
       "\t 42041907 & 10011902 & Kristiansand & 983975240 & SØRLANDET SYKEHUS HF & 991324968 & HELSE SØR-ØST RHF   \\\\\n",
       "\t 42041910 & 10011905 & Kristiansand & 983975240 & SØRLANDET SYKEHUS HF & 991324968 & HELSE SØR-ØST RHF   \\\\\n",
       "\t 42041911 & 10011905 & Kristiansand & 983975240 & SØRLANDET SYKEHUS HF & 991324968 & HELSE SØR-ØST RHF   \\\\\n",
       "\t 42042020 & 10180102 & Kristiansand & 983975240 & SØRLANDET SYKEHUS HF & 991324968 & HELSE SØR-ØST RHF   \\\\\n",
       "\t 42042021 & 10180102 & Kristiansand & 983975240 & SØRLANDET SYKEHUS HF & 991324968 & HELSE SØR-ØST RHF   \\\\\n",
       "\t 42042022 & 10180104 & Kristiansand & 983975240 & SØRLANDET SYKEHUS HF & 991324968 & HELSE SØR-ØST RHF   \\\\\n",
       "\t 42042023 & 10180104 & Kristiansand & 983975240 & SØRLANDET SYKEHUS HF & 991324968 & HELSE SØR-ØST RHF   \\\\\n",
       "\t 42042024 & 10180108 & Kristiansand & 983975240 & SØRLANDET SYKEHUS HF & 991324968 & HELSE SØR-ØST RHF   \\\\\n",
       "\t 42042025 & 10180108 & Kristiansand & 983975240 & SØRLANDET SYKEHUS HF & 991324968 & HELSE SØR-ØST RHF   \\\\\n",
       "\t 42042026 & 10180111 & Kristiansand & 983975240 & SØRLANDET SYKEHUS HF & 991324968 & HELSE SØR-ØST RHF   \\\\\n",
       "\t 42042027 & 10180111 & Kristiansand & 983975240 & SØRLANDET SYKEHUS HF & 991324968 & HELSE SØR-ØST RHF   \\\\\n",
       "\t 42042115 & 10180204 & Kristiansand & 983975240 & SØRLANDET SYKEHUS HF & 991324968 & HELSE SØR-ØST RHF   \\\\\n",
       "\t 42042116 & 10180204 & Kristiansand & 983975240 & SØRLANDET SYKEHUS HF & 991324968 & HELSE SØR-ØST RHF   \\\\\n",
       "\t 42042117 & 10180205 & Kristiansand & 983975240 & SØRLANDET SYKEHUS HF & 991324968 & HELSE SØR-ØST RHF   \\\\\n",
       "\t 42042118 & 10180205 & Kristiansand & 983975240 & SØRLANDET SYKEHUS HF & 991324968 & HELSE SØR-ØST RHF   \\\\\n",
       "\t 42042119 & 10180208 & Kristiansand & 983975240 & SØRLANDET SYKEHUS HF & 991324968 & HELSE SØR-ØST RHF   \\\\\n",
       "\t 42042120 & 10180208 & Kristiansand & 983975240 & SØRLANDET SYKEHUS HF & 991324968 & HELSE SØR-ØST RHF   \\\\\n",
       "\t 42042121 & 10180209 & Kristiansand & 983975240 & SØRLANDET SYKEHUS HF & 991324968 & HELSE SØR-ØST RHF   \\\\\n",
       "\t 42042122 & 10180209 & Kristiansand & 983975240 & SØRLANDET SYKEHUS HF & 991324968 & HELSE SØR-ØST RHF   \\\\\n",
       "\t 42042123 & 10180214 & Kristiansand & 983975240 & SØRLANDET SYKEHUS HF & 991324968 & HELSE SØR-ØST RHF   \\\\\n",
       "\t 42042124 & 10180214 & Kristiansand & 983975240 & SØRLANDET SYKEHUS HF & 991324968 & HELSE SØR-ØST RHF   \\\\\n",
       "\t 42042125 & 10180214 & Kristiansand & 983975240 & SØRLANDET SYKEHUS HF & 991324968 & HELSE SØR-ØST RHF   \\\\\n",
       "\t 42042126 & 10180214 & Kristiansand & 983975240 & SØRLANDET SYKEHUS HF & 991324968 & HELSE SØR-ØST RHF   \\\\\n",
       "\t 50560311 & 50120111 & Orkdal       & 883974832 & ST OLAVS HOSPITAL HF & 983658776 & HELSE MIDT-NORGE RHF\\\\\n",
       "\t 50590911 & 50120111 & Orkdal       & 883974832 & ST OLAVS HOSPITAL HF & 983658776 & HELSE MIDT-NORGE RHF\\\\\n",
       "\\end{tabular}\n"
      ],
      "text/markdown": [
       "\n",
       "A grouped_df: 57 × 7\n",
       "\n",
       "| GRUNNKRETSNUMMER &lt;chr&gt; | GRUNNKRETSNUMMER_T1 &lt;chr&gt; | OPPTAK &lt;chr&gt; | ORGNR_HF &lt;chr&gt; | NAVN_HF &lt;chr&gt; | ORGNR_RHF &lt;chr&gt; | NAVN_RHF &lt;chr&gt; |\n",
       "|---|---|---|---|---|---|---|\n",
       "| 42040312 | 10010311 | Kristiansand | 983975240 | SØRLANDET SYKEHUS HF | 991324968 | HELSE SØR-ØST RHF    |\n",
       "| 42040313 | 10010311 | Kristiansand | 983975240 | SØRLANDET SYKEHUS HF | 991324968 | HELSE SØR-ØST RHF    |\n",
       "| 42040509 | 10010507 | Kristiansand | 983975240 | SØRLANDET SYKEHUS HF | 991324968 | HELSE SØR-ØST RHF    |\n",
       "| 42040510 | 10010507 | Kristiansand | 983975240 | SØRLANDET SYKEHUS HF | 991324968 | HELSE SØR-ØST RHF    |\n",
       "| 42040806 | 10010805 | Kristiansand | 983975240 | SØRLANDET SYKEHUS HF | 991324968 | HELSE SØR-ØST RHF    |\n",
       "| 42040807 | 10010805 | Kristiansand | 983975240 | SØRLANDET SYKEHUS HF | 991324968 | HELSE SØR-ØST RHF    |\n",
       "| 42040918 | 10010914 | Kristiansand | 983975240 | SØRLANDET SYKEHUS HF | 991324968 | HELSE SØR-ØST RHF    |\n",
       "| 42040919 | 10010914 | Kristiansand | 983975240 | SØRLANDET SYKEHUS HF | 991324968 | HELSE SØR-ØST RHF    |\n",
       "| 42040920 | 10010906 | Kristiansand | 983975240 | SØRLANDET SYKEHUS HF | 991324968 | HELSE SØR-ØST RHF    |\n",
       "| 42040921 | 10010906 | Kristiansand | 983975240 | SØRLANDET SYKEHUS HF | 991324968 | HELSE SØR-ØST RHF    |\n",
       "| 42041112 | 10011111 | Kristiansand | 983975240 | SØRLANDET SYKEHUS HF | 991324968 | HELSE SØR-ØST RHF    |\n",
       "| 42041113 | 10011111 | Kristiansand | 983975240 | SØRLANDET SYKEHUS HF | 991324968 | HELSE SØR-ØST RHF    |\n",
       "| 42041406 | 10011401 | Kristiansand | 983975240 | SØRLANDET SYKEHUS HF | 991324968 | HELSE SØR-ØST RHF    |\n",
       "| 42041407 | 10011401 | Kristiansand | 983975240 | SØRLANDET SYKEHUS HF | 991324968 | HELSE SØR-ØST RHF    |\n",
       "| 42041609 | 10011601 | Kristiansand | 983975240 | SØRLANDET SYKEHUS HF | 991324968 | HELSE SØR-ØST RHF    |\n",
       "| 42041610 | 10011601 | Kristiansand | 983975240 | SØRLANDET SYKEHUS HF | 991324968 | HELSE SØR-ØST RHF    |\n",
       "| 42041611 | 10011601 | Kristiansand | 983975240 | SØRLANDET SYKEHUS HF | 991324968 | HELSE SØR-ØST RHF    |\n",
       "| 42041709 | 10011702 | Kristiansand | 983975240 | SØRLANDET SYKEHUS HF | 991324968 | HELSE SØR-ØST RHF    |\n",
       "| 42041710 | 10011702 | Kristiansand | 983975240 | SØRLANDET SYKEHUS HF | 991324968 | HELSE SØR-ØST RHF    |\n",
       "| 42041809 | 10011807 | Kristiansand | 983975240 | SØRLANDET SYKEHUS HF | 991324968 | HELSE SØR-ØST RHF    |\n",
       "| 42041810 | 10011807 | Kristiansand | 983975240 | SØRLANDET SYKEHUS HF | 991324968 | HELSE SØR-ØST RHF    |\n",
       "| 42041811 | 10011807 | Kristiansand | 983975240 | SØRLANDET SYKEHUS HF | 991324968 | HELSE SØR-ØST RHF    |\n",
       "| 42041812 | 10011807 | Kristiansand | 983975240 | SØRLANDET SYKEHUS HF | 991324968 | HELSE SØR-ØST RHF    |\n",
       "| 42041813 | 10011807 | Kristiansand | 983975240 | SØRLANDET SYKEHUS HF | 991324968 | HELSE SØR-ØST RHF    |\n",
       "| 42041814 | 10011807 | Kristiansand | 983975240 | SØRLANDET SYKEHUS HF | 991324968 | HELSE SØR-ØST RHF    |\n",
       "| 42041815 | 10011807 | Kristiansand | 983975240 | SØRLANDET SYKEHUS HF | 991324968 | HELSE SØR-ØST RHF    |\n",
       "| 42041816 | 10011807 | Kristiansand | 983975240 | SØRLANDET SYKEHUS HF | 991324968 | HELSE SØR-ØST RHF    |\n",
       "| 42041817 | 10011808 | Kristiansand | 983975240 | SØRLANDET SYKEHUS HF | 991324968 | HELSE SØR-ØST RHF    |\n",
       "| 42041818 | 10011808 | Kristiansand | 983975240 | SØRLANDET SYKEHUS HF | 991324968 | HELSE SØR-ØST RHF    |\n",
       "| 42041819 | 10011808 | Kristiansand | 983975240 | SØRLANDET SYKEHUS HF | 991324968 | HELSE SØR-ØST RHF    |\n",
       "| 42041820 | 10011808 | Kristiansand | 983975240 | SØRLANDET SYKEHUS HF | 991324968 | HELSE SØR-ØST RHF    |\n",
       "| 42041906 | 10011902 | Kristiansand | 983975240 | SØRLANDET SYKEHUS HF | 991324968 | HELSE SØR-ØST RHF    |\n",
       "| 42041907 | 10011902 | Kristiansand | 983975240 | SØRLANDET SYKEHUS HF | 991324968 | HELSE SØR-ØST RHF    |\n",
       "| 42041910 | 10011905 | Kristiansand | 983975240 | SØRLANDET SYKEHUS HF | 991324968 | HELSE SØR-ØST RHF    |\n",
       "| 42041911 | 10011905 | Kristiansand | 983975240 | SØRLANDET SYKEHUS HF | 991324968 | HELSE SØR-ØST RHF    |\n",
       "| 42042020 | 10180102 | Kristiansand | 983975240 | SØRLANDET SYKEHUS HF | 991324968 | HELSE SØR-ØST RHF    |\n",
       "| 42042021 | 10180102 | Kristiansand | 983975240 | SØRLANDET SYKEHUS HF | 991324968 | HELSE SØR-ØST RHF    |\n",
       "| 42042022 | 10180104 | Kristiansand | 983975240 | SØRLANDET SYKEHUS HF | 991324968 | HELSE SØR-ØST RHF    |\n",
       "| 42042023 | 10180104 | Kristiansand | 983975240 | SØRLANDET SYKEHUS HF | 991324968 | HELSE SØR-ØST RHF    |\n",
       "| 42042024 | 10180108 | Kristiansand | 983975240 | SØRLANDET SYKEHUS HF | 991324968 | HELSE SØR-ØST RHF    |\n",
       "| 42042025 | 10180108 | Kristiansand | 983975240 | SØRLANDET SYKEHUS HF | 991324968 | HELSE SØR-ØST RHF    |\n",
       "| 42042026 | 10180111 | Kristiansand | 983975240 | SØRLANDET SYKEHUS HF | 991324968 | HELSE SØR-ØST RHF    |\n",
       "| 42042027 | 10180111 | Kristiansand | 983975240 | SØRLANDET SYKEHUS HF | 991324968 | HELSE SØR-ØST RHF    |\n",
       "| 42042115 | 10180204 | Kristiansand | 983975240 | SØRLANDET SYKEHUS HF | 991324968 | HELSE SØR-ØST RHF    |\n",
       "| 42042116 | 10180204 | Kristiansand | 983975240 | SØRLANDET SYKEHUS HF | 991324968 | HELSE SØR-ØST RHF    |\n",
       "| 42042117 | 10180205 | Kristiansand | 983975240 | SØRLANDET SYKEHUS HF | 991324968 | HELSE SØR-ØST RHF    |\n",
       "| 42042118 | 10180205 | Kristiansand | 983975240 | SØRLANDET SYKEHUS HF | 991324968 | HELSE SØR-ØST RHF    |\n",
       "| 42042119 | 10180208 | Kristiansand | 983975240 | SØRLANDET SYKEHUS HF | 991324968 | HELSE SØR-ØST RHF    |\n",
       "| 42042120 | 10180208 | Kristiansand | 983975240 | SØRLANDET SYKEHUS HF | 991324968 | HELSE SØR-ØST RHF    |\n",
       "| 42042121 | 10180209 | Kristiansand | 983975240 | SØRLANDET SYKEHUS HF | 991324968 | HELSE SØR-ØST RHF    |\n",
       "| 42042122 | 10180209 | Kristiansand | 983975240 | SØRLANDET SYKEHUS HF | 991324968 | HELSE SØR-ØST RHF    |\n",
       "| 42042123 | 10180214 | Kristiansand | 983975240 | SØRLANDET SYKEHUS HF | 991324968 | HELSE SØR-ØST RHF    |\n",
       "| 42042124 | 10180214 | Kristiansand | 983975240 | SØRLANDET SYKEHUS HF | 991324968 | HELSE SØR-ØST RHF    |\n",
       "| 42042125 | 10180214 | Kristiansand | 983975240 | SØRLANDET SYKEHUS HF | 991324968 | HELSE SØR-ØST RHF    |\n",
       "| 42042126 | 10180214 | Kristiansand | 983975240 | SØRLANDET SYKEHUS HF | 991324968 | HELSE SØR-ØST RHF    |\n",
       "| 50560311 | 50120111 | Orkdal       | 883974832 | ST OLAVS HOSPITAL HF | 983658776 | HELSE MIDT-NORGE RHF |\n",
       "| 50590911 | 50120111 | Orkdal       | 883974832 | ST OLAVS HOSPITAL HF | 983658776 | HELSE MIDT-NORGE RHF |\n",
       "\n"
      ],
      "text/plain": [
       "   GRUNNKRETSNUMMER GRUNNKRETSNUMMER_T1 OPPTAK       ORGNR_HF \n",
       "1  42040312         10010311            Kristiansand 983975240\n",
       "2  42040313         10010311            Kristiansand 983975240\n",
       "3  42040509         10010507            Kristiansand 983975240\n",
       "4  42040510         10010507            Kristiansand 983975240\n",
       "5  42040806         10010805            Kristiansand 983975240\n",
       "6  42040807         10010805            Kristiansand 983975240\n",
       "7  42040918         10010914            Kristiansand 983975240\n",
       "8  42040919         10010914            Kristiansand 983975240\n",
       "9  42040920         10010906            Kristiansand 983975240\n",
       "10 42040921         10010906            Kristiansand 983975240\n",
       "11 42041112         10011111            Kristiansand 983975240\n",
       "12 42041113         10011111            Kristiansand 983975240\n",
       "13 42041406         10011401            Kristiansand 983975240\n",
       "14 42041407         10011401            Kristiansand 983975240\n",
       "15 42041609         10011601            Kristiansand 983975240\n",
       "16 42041610         10011601            Kristiansand 983975240\n",
       "17 42041611         10011601            Kristiansand 983975240\n",
       "18 42041709         10011702            Kristiansand 983975240\n",
       "19 42041710         10011702            Kristiansand 983975240\n",
       "20 42041809         10011807            Kristiansand 983975240\n",
       "21 42041810         10011807            Kristiansand 983975240\n",
       "22 42041811         10011807            Kristiansand 983975240\n",
       "23 42041812         10011807            Kristiansand 983975240\n",
       "24 42041813         10011807            Kristiansand 983975240\n",
       "25 42041814         10011807            Kristiansand 983975240\n",
       "26 42041815         10011807            Kristiansand 983975240\n",
       "27 42041816         10011807            Kristiansand 983975240\n",
       "28 42041817         10011808            Kristiansand 983975240\n",
       "29 42041818         10011808            Kristiansand 983975240\n",
       "30 42041819         10011808            Kristiansand 983975240\n",
       "31 42041820         10011808            Kristiansand 983975240\n",
       "32 42041906         10011902            Kristiansand 983975240\n",
       "33 42041907         10011902            Kristiansand 983975240\n",
       "34 42041910         10011905            Kristiansand 983975240\n",
       "35 42041911         10011905            Kristiansand 983975240\n",
       "36 42042020         10180102            Kristiansand 983975240\n",
       "37 42042021         10180102            Kristiansand 983975240\n",
       "38 42042022         10180104            Kristiansand 983975240\n",
       "39 42042023         10180104            Kristiansand 983975240\n",
       "40 42042024         10180108            Kristiansand 983975240\n",
       "41 42042025         10180108            Kristiansand 983975240\n",
       "42 42042026         10180111            Kristiansand 983975240\n",
       "43 42042027         10180111            Kristiansand 983975240\n",
       "44 42042115         10180204            Kristiansand 983975240\n",
       "45 42042116         10180204            Kristiansand 983975240\n",
       "46 42042117         10180205            Kristiansand 983975240\n",
       "47 42042118         10180205            Kristiansand 983975240\n",
       "48 42042119         10180208            Kristiansand 983975240\n",
       "49 42042120         10180208            Kristiansand 983975240\n",
       "50 42042121         10180209            Kristiansand 983975240\n",
       "51 42042122         10180209            Kristiansand 983975240\n",
       "52 42042123         10180214            Kristiansand 983975240\n",
       "53 42042124         10180214            Kristiansand 983975240\n",
       "54 42042125         10180214            Kristiansand 983975240\n",
       "55 42042126         10180214            Kristiansand 983975240\n",
       "56 50560311         50120111            Orkdal       883974832\n",
       "57 50590911         50120111            Orkdal       883974832\n",
       "   NAVN_HF              ORGNR_RHF NAVN_RHF            \n",
       "1  SØRLANDET SYKEHUS HF 991324968 HELSE SØR-ØST RHF   \n",
       "2  SØRLANDET SYKEHUS HF 991324968 HELSE SØR-ØST RHF   \n",
       "3  SØRLANDET SYKEHUS HF 991324968 HELSE SØR-ØST RHF   \n",
       "4  SØRLANDET SYKEHUS HF 991324968 HELSE SØR-ØST RHF   \n",
       "5  SØRLANDET SYKEHUS HF 991324968 HELSE SØR-ØST RHF   \n",
       "6  SØRLANDET SYKEHUS HF 991324968 HELSE SØR-ØST RHF   \n",
       "7  SØRLANDET SYKEHUS HF 991324968 HELSE SØR-ØST RHF   \n",
       "8  SØRLANDET SYKEHUS HF 991324968 HELSE SØR-ØST RHF   \n",
       "9  SØRLANDET SYKEHUS HF 991324968 HELSE SØR-ØST RHF   \n",
       "10 SØRLANDET SYKEHUS HF 991324968 HELSE SØR-ØST RHF   \n",
       "11 SØRLANDET SYKEHUS HF 991324968 HELSE SØR-ØST RHF   \n",
       "12 SØRLANDET SYKEHUS HF 991324968 HELSE SØR-ØST RHF   \n",
       "13 SØRLANDET SYKEHUS HF 991324968 HELSE SØR-ØST RHF   \n",
       "14 SØRLANDET SYKEHUS HF 991324968 HELSE SØR-ØST RHF   \n",
       "15 SØRLANDET SYKEHUS HF 991324968 HELSE SØR-ØST RHF   \n",
       "16 SØRLANDET SYKEHUS HF 991324968 HELSE SØR-ØST RHF   \n",
       "17 SØRLANDET SYKEHUS HF 991324968 HELSE SØR-ØST RHF   \n",
       "18 SØRLANDET SYKEHUS HF 991324968 HELSE SØR-ØST RHF   \n",
       "19 SØRLANDET SYKEHUS HF 991324968 HELSE SØR-ØST RHF   \n",
       "20 SØRLANDET SYKEHUS HF 991324968 HELSE SØR-ØST RHF   \n",
       "21 SØRLANDET SYKEHUS HF 991324968 HELSE SØR-ØST RHF   \n",
       "22 SØRLANDET SYKEHUS HF 991324968 HELSE SØR-ØST RHF   \n",
       "23 SØRLANDET SYKEHUS HF 991324968 HELSE SØR-ØST RHF   \n",
       "24 SØRLANDET SYKEHUS HF 991324968 HELSE SØR-ØST RHF   \n",
       "25 SØRLANDET SYKEHUS HF 991324968 HELSE SØR-ØST RHF   \n",
       "26 SØRLANDET SYKEHUS HF 991324968 HELSE SØR-ØST RHF   \n",
       "27 SØRLANDET SYKEHUS HF 991324968 HELSE SØR-ØST RHF   \n",
       "28 SØRLANDET SYKEHUS HF 991324968 HELSE SØR-ØST RHF   \n",
       "29 SØRLANDET SYKEHUS HF 991324968 HELSE SØR-ØST RHF   \n",
       "30 SØRLANDET SYKEHUS HF 991324968 HELSE SØR-ØST RHF   \n",
       "31 SØRLANDET SYKEHUS HF 991324968 HELSE SØR-ØST RHF   \n",
       "32 SØRLANDET SYKEHUS HF 991324968 HELSE SØR-ØST RHF   \n",
       "33 SØRLANDET SYKEHUS HF 991324968 HELSE SØR-ØST RHF   \n",
       "34 SØRLANDET SYKEHUS HF 991324968 HELSE SØR-ØST RHF   \n",
       "35 SØRLANDET SYKEHUS HF 991324968 HELSE SØR-ØST RHF   \n",
       "36 SØRLANDET SYKEHUS HF 991324968 HELSE SØR-ØST RHF   \n",
       "37 SØRLANDET SYKEHUS HF 991324968 HELSE SØR-ØST RHF   \n",
       "38 SØRLANDET SYKEHUS HF 991324968 HELSE SØR-ØST RHF   \n",
       "39 SØRLANDET SYKEHUS HF 991324968 HELSE SØR-ØST RHF   \n",
       "40 SØRLANDET SYKEHUS HF 991324968 HELSE SØR-ØST RHF   \n",
       "41 SØRLANDET SYKEHUS HF 991324968 HELSE SØR-ØST RHF   \n",
       "42 SØRLANDET SYKEHUS HF 991324968 HELSE SØR-ØST RHF   \n",
       "43 SØRLANDET SYKEHUS HF 991324968 HELSE SØR-ØST RHF   \n",
       "44 SØRLANDET SYKEHUS HF 991324968 HELSE SØR-ØST RHF   \n",
       "45 SØRLANDET SYKEHUS HF 991324968 HELSE SØR-ØST RHF   \n",
       "46 SØRLANDET SYKEHUS HF 991324968 HELSE SØR-ØST RHF   \n",
       "47 SØRLANDET SYKEHUS HF 991324968 HELSE SØR-ØST RHF   \n",
       "48 SØRLANDET SYKEHUS HF 991324968 HELSE SØR-ØST RHF   \n",
       "49 SØRLANDET SYKEHUS HF 991324968 HELSE SØR-ØST RHF   \n",
       "50 SØRLANDET SYKEHUS HF 991324968 HELSE SØR-ØST RHF   \n",
       "51 SØRLANDET SYKEHUS HF 991324968 HELSE SØR-ØST RHF   \n",
       "52 SØRLANDET SYKEHUS HF 991324968 HELSE SØR-ØST RHF   \n",
       "53 SØRLANDET SYKEHUS HF 991324968 HELSE SØR-ØST RHF   \n",
       "54 SØRLANDET SYKEHUS HF 991324968 HELSE SØR-ØST RHF   \n",
       "55 SØRLANDET SYKEHUS HF 991324968 HELSE SØR-ØST RHF   \n",
       "56 ST OLAVS HOSPITAL HF 983658776 HELSE MIDT-NORGE RHF\n",
       "57 ST OLAVS HOSPITAL HF 983658776 HELSE MIDT-NORGE RHF"
      ]
     },
     "metadata": {},
     "output_type": "display_data"
    }
   ],
   "source": [
    "test"
   ]
  },
  {
   "cell_type": "code",
   "execution_count": null,
   "id": "1ff55f38-50b5-46fa-9697-fd874b7f0628",
   "metadata": {},
   "outputs": [],
   "source": []
  }
 ],
 "metadata": {
  "kernelspec": {
   "display_name": "R",
   "language": "R",
   "name": "ir"
  },
  "language_info": {
   "codemirror_mode": "r",
   "file_extension": ".r",
   "mimetype": "text/x-r-source",
   "name": "R",
   "pygments_lexer": "r",
   "version": "4.2.2"
  }
 },
 "nbformat": 4,
 "nbformat_minor": 5
}
