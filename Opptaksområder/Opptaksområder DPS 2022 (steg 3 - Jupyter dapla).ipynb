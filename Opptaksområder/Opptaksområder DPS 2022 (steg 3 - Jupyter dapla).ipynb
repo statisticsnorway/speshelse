{
 "cells": [
  {
   "cell_type": "markdown",
   "id": "4366f0b4-770c-47c3-ae86-96592f627c23",
   "metadata": {},
   "source": [
    "# Opptaksområder DPS (utenhav)\n",
    "\n",
    "OBS: DPS-områdene for flate må lages i prodsonen og legges på GCS før dette programmet kan kjøres (f.eks. ssb-prod-helse-speshelse-data-kilde/felles/Kart/2022/Opptaksområder/opptaksomrader_DPS_DPS_flate_2022)"
   ]
  },
  {
   "cell_type": "markdown",
   "id": "d363da65-f64e-4b9f-9576-0ce6a7dfbba4",
   "metadata": {},
   "source": [
    "### Velger årgang"
   ]
  },
  {
   "cell_type": "code",
   "execution_count": null,
   "id": "13773bbf-8516-45a6-bbf5-e831086dc346",
   "metadata": {
    "tags": []
   },
   "outputs": [],
   "source": [
    "aargang <- 2021"
   ]
  },
  {
   "cell_type": "markdown",
   "id": "74c2a889-9792-434e-8c7a-5b0ef1c2d7af",
   "metadata": {},
   "source": [
    "### Flate eller utenhav"
   ]
  },
  {
   "cell_type": "code",
   "execution_count": null,
   "id": "9264095b-3f1b-4d37-a3c6-6f8338ce95d7",
   "metadata": {
    "tags": []
   },
   "outputs": [],
   "source": [
    "utenhav <- TRUE\n",
    "\n",
    "if (utenhav == TRUE) {\n",
    "filsti_med_uten_hav <- \"utenhav\"\n",
    "    } else if (utenhav == FALSE) {\n",
    "  filsti_med_uten_hav <- \"flate\"\n",
    "}\n",
    "\n",
    "filsti_med_uten_hav"
   ]
  },
  {
   "cell_type": "markdown",
   "id": "94f9cb6b-e3f8-42d6-917e-f3cff93e4833",
   "metadata": {},
   "source": [
    "### Laster inn pakker "
   ]
  },
  {
   "cell_type": "markdown",
   "id": "e7425c05-24ae-450b-9aaa-498ca9a51435",
   "metadata": {},
   "source": [
    "OBS: cartography må installeres med renv!"
   ]
  },
  {
   "cell_type": "code",
   "execution_count": null,
   "id": "a37ee664-0a83-468f-8a44-9c024a6c3dc6",
   "metadata": {
    "tags": []
   },
   "outputs": [],
   "source": [
    "sf::sf_use_s2(FALSE)\n",
    "CRS <- 25833\n",
    "\n",
    "suppressPackageStartupMessages({ \n",
    "library(tidyverse)\n",
    "library(readxl)\n",
    "library(klassR)\n",
    "library(sf)\n",
    "library(leaflet)\n",
    "library(sfarrow)    \n",
    "library(htmlwidgets)\n",
    "        })\n",
    "\n",
    "# # install.packages(\"cartography\")\n",
    "# renv::install(\"cartography\")\n",
    "\n",
    "# library(cartography)"
   ]
  },
  {
   "cell_type": "code",
   "execution_count": null,
   "id": "03d5661c-5302-4262-9d32-77c4628cb60a",
   "metadata": {
    "tags": []
   },
   "outputs": [],
   "source": [
    "aargang <- 2022"
   ]
  },
  {
   "cell_type": "markdown",
   "id": "1ecfb980-d166-42f3-a6e8-c327e362f1ff",
   "metadata": {},
   "source": [
    "### Filstier"
   ]
  },
  {
   "cell_type": "code",
   "execution_count": null,
   "id": "d898852a-7f24-4b66-97ed-5206bc7ea5d2",
   "metadata": {
    "tags": []
   },
   "outputs": [],
   "source": [
    "if (grepl(\"onprem\", Sys.getenv(\"JUPYTER_IMAGE_SPEC\")) | Sys.getenv(\"JUPYTER_IMAGE_SPEC\") == \"\") {\n",
    "    \n",
    "    arbeidsmappe <- \"/ssb/stamme01/fylkhels/speshelse/felles/\"\n",
    "    arbeidsmappe_kart <- paste0(arbeidsmappe, \"kart/\", aargang, \"/\")\n",
    "    arbeidsmappe_opptak <- paste0(arbeidsmappe, \"opptaksomrader/\", aargang, \"/\")\n",
    "    \n",
    "    if (utenhav == FALSE) {\n",
    "    grunnkrets_kart_filsti <- paste0(arbeidsmappe_kart, \"ABAS_grunnkrets_flate_\", aargang, \".parquet\")\n",
    "        }\n",
    "    if (utenhav == TRUE) {\n",
    "    grunnkrets_kart_filsti <- paste0(arbeidsmappe_kart, \"ABAS_grunnkrets_utenhav_\", aargang, \".parquet\")\n",
    "\n",
    "        }\n",
    "    \n",
    "    grunnkrets_kart <- sfarrow::st_read_parquet(grunnkrets_kart_filsti)\n",
    "    \n",
    "} else if (grepl(\"dapla\", Sys.getenv(\"JUPYTER_IMAGE_SPEC\"))) {\n",
    "    \n",
    "    source(\"/home/jovyan/fellesr/R/DAPLA_funcs.R\")\n",
    "    \n",
    "    arbeidsmappe_kart <- paste0(\"ssb-prod-dapla-felles-data-delt/GIS/Kart/\", aargang, \"/\")\n",
    "    # arbeidsmappe <- \"/ssb/stamme01/fylkhels/speshelse/felles/\"\n",
    "    \n",
    "    if (utenhav == FALSE) {\n",
    "    grunnkrets_kart_filsti <- paste0(arbeidsmappe_kart, \"ABAS_grunnkrets_flate_\", aargang, \"/\")\n",
    "        }\n",
    "    if (utenhav == TRUE) {\n",
    "    grunnkrets_kart_filsti <- paste0(arbeidsmappe_kart, \"ABAS_grunnkrets_utenhav_\", aargang, \"/\")\n",
    "        }\n",
    "    grunnkrets_kart <- open_dataset(grunnkrets_kart_filsti) %>%\n",
    "    sfarrow::read_sf_dataset()\n",
    "}"
   ]
  },
  {
   "cell_type": "markdown",
   "id": "7de82cf1-4ea7-4945-83fa-4077bc21e0ef",
   "metadata": {},
   "source": [
    "## Laster inn kart (grunnkrets)"
   ]
  },
  {
   "cell_type": "code",
   "execution_count": null,
   "id": "2fda5222-35eb-4daa-ba7b-0ba5ddc0726f",
   "metadata": {
    "tags": []
   },
   "outputs": [],
   "source": [
    "start.time <- Sys.time()\n",
    "\n",
    "  rename_geometry <- function(g, name){\n",
    "    current = attr(g, \"sf_column\")\n",
    "    names(g)[names(g)==current] = name\n",
    "    sf::st_geometry(g)=name\n",
    "    g\n",
    "  }\n",
    "\n",
    "# Lese inn filen som parquet med sfarrow\n",
    "grunnkrets_kart <- grunnkrets_kart %>%\n",
    "sf::st_zm(drop = T) %>%\n",
    "sf::st_cast(\"MULTIPOLYGON\") %>%\n",
    "  sf::st_transform(crs = CRS) %>%\n",
    "  dplyr::rename(GRUNNKRETSNUMMER = GRUNNKRETS)\n",
    "\n",
    "grunnkrets_kart <- rename_geometry(grunnkrets_kart, \"geometry\")\n",
    "sf::st_geometry(grunnkrets_kart) <- \"geometry\"\n",
    "\n",
    "grunnkrets_kart_uten_trondheim_kristiansand <- grunnkrets_kart %>%\n",
    "dplyr::filter(!KOMMUNENR %in% c(\"4204\", \"5001\"))\n",
    "\n",
    "grunnkrets_kart_trondheim <- grunnkrets_kart %>%\n",
    "dplyr::filter(KOMMUNENR %in% c(\"5001\"))\n",
    "\n",
    "grunnkrets_kart_kristiansand <- grunnkrets_kart %>%\n",
    "dplyr::filter(KOMMUNENR %in% c(\"4204\"))\n",
    "\n",
    "end.time <- Sys.time()\n",
    "time.taken <- end.time - start.time\n",
    "time.taken"
   ]
  },
  {
   "cell_type": "code",
   "execution_count": null,
   "id": "1131a4b8-5d3b-4a03-bfef-0839be333166",
   "metadata": {
    "tags": []
   },
   "outputs": [],
   "source": [
    "if (aargang == 2017) {\n",
    "grunnkrets_kart <- grunnkrets_kart %>%\n",
    "dplyr::mutate(GRUNNKRETSNUMMER = case_when(\n",
    "    GRUNNKRETSNUMMER == \"00101609\" ~ \"07101609\", # Storevahr har feil grunnkretsnummer i filen!\n",
    "    TRUE ~ GRUNNKRETSNUMMER))\n",
    "    }"
   ]
  },
  {
   "cell_type": "markdown",
   "id": "fa1cb2b4-0505-4fc7-adb1-318b6fa9caf2",
   "metadata": {},
   "source": [
    "### SSB fargepalett"
   ]
  },
  {
   "cell_type": "code",
   "execution_count": null,
   "id": "a1a0dbcb-9f8f-4bee-ab26-64e1a79b21b0",
   "metadata": {
    "tags": []
   },
   "outputs": [],
   "source": [
    "ssb_farger <- klassR::GetKlass(614, output_style = \"wide\") %>%\n",
    "  dplyr::rename(farge_nummer = code3, \n",
    "                HEX = name3, \n",
    "                farge = name2, \n",
    "                type = name1) %>%\n",
    "  dplyr::select(-code1, -code2) %>%\n",
    "  dplyr::filter(farge != \"Hvit\")"
   ]
  },
  {
   "cell_type": "markdown",
   "id": "e4360c7e-730e-408b-8fb8-2b4eb424e551",
   "metadata": {},
   "source": [
    "## Laster inn kart (postnummer)"
   ]
  },
  {
   "cell_type": "code",
   "execution_count": null,
   "id": "34d81fb1-c01f-49fc-ad48-c13a03b5c8d0",
   "metadata": {
    "tags": []
   },
   "outputs": [],
   "source": [
    "# start.time <- Sys.time()\n",
    "\n",
    "# postkretser_kart_filsti <- paste0(arbeidsmappe_kart, \"POST_postkretser_flate_\", aargang, \".parquet\")\n",
    "\n",
    "# # Lese inn filen som parquet med sfarrow\n",
    "# postkretser_kart <- sfarrow::st_read_parquet(postkretser_kart_filsti) %>%\n",
    "# sf::st_zm(drop = T) %>%\n",
    "# sf::st_cast(\"MULTIPOLYGON\") %>%\n",
    "#   sf::st_transform(crs = CRS) %>%\n",
    "#   dplyr::rename(GRUNNKRETSNUMMER = POSTNR) %>%\n",
    "# dplyr::filter(KOMMUNENR %in% c(\"4204\", \"5001\"))\n",
    "\n",
    "# postkretser_kart <- rename_geometry(postkretser_kart, \"geometry\")\n",
    "# sf::st_geometry(postkretser_kart) <- \"geometry\"\n",
    "\n",
    "# end.time <- Sys.time()\n",
    "# time.taken <- end.time - start.time\n",
    "# time.taken"
   ]
  },
  {
   "cell_type": "markdown",
   "id": "ff119b8e-c667-4275-aeb1-841ff9a7f276",
   "metadata": {},
   "source": [
    "## Kodeliste for opptaksområder i spesialisthelsetjenesten (DPS)"
   ]
  },
  {
   "cell_type": "code",
   "execution_count": null,
   "id": "b1e55528-fbb0-4d5f-b7c7-672b2a3cb50f",
   "metadata": {
    "tags": []
   },
   "outputs": [],
   "source": [
    "opptaksomrader_KLASS <- klassR::GetKlass(632, output_style = \"wide\", date = c(paste0(aargang, \"-01-01\"))) %>%\n",
    "dplyr::rename(GRUNNKRETSNUMMER = code4, \n",
    "             GRUNNKRETS_NAVN = name4, \n",
    "             OPPTAK_NUMMER = code3, \n",
    "             OPPTAK = name3, \n",
    "             ORGNR_HF = code2, \n",
    "             NAVN_HF = name2, \n",
    "             ORGNR_RHF = code1, \n",
    "             NAVN_RHF = name1)\n",
    "\n",
    "nrow(opptaksomrader_KLASS)\n",
    "\n",
    "# Grunnkrets\n",
    "opptaksomrader_KLASS_grunnkrets <- opptaksomrader_KLASS %>%\n",
    "dplyr::filter(nchar(GRUNNKRETSNUMMER) > 4)\n",
    "\n",
    "nrow(opptaksomrader_KLASS_grunnkrets)"
   ]
  },
  {
   "cell_type": "markdown",
   "id": "2871a3f3-74d4-4f4c-a89a-44ae7ff9dad9",
   "metadata": {},
   "source": [
    "### Sjekker antall grunnkretser mot KLASS"
   ]
  },
  {
   "cell_type": "code",
   "execution_count": null,
   "id": "266e781c-765f-4ead-8393-046787441bd8",
   "metadata": {
    "tags": []
   },
   "outputs": [],
   "source": [
    "# grunnkrets_KLASS <- klassR::GetKlass(1, output_style = \"wide\", date = c(paste0(aargang, \"-01-01\"))) %>%\n",
    "# dplyr::filter(!substr(code2, 1, 4) %in% c(\"4204\", \"5001\"))\n",
    "\n",
    "# nrow(grunnkrets_KLASS)\n",
    "\n",
    "# mangler_fra_KLASS <- grunnkrets_KLASS %>%\n",
    "# dplyr::filter(!code2 %in% unique(opptaksomrader_KLASS$GRUNNKRETSNUMMER))\n",
    "\n",
    "# unique(mangler_fra_KLASS$name2)\n",
    "# nrow(mangler_fra_KLASS)\n",
    "# head(mangler_fra_KLASS)"
   ]
  },
  {
   "cell_type": "markdown",
   "id": "e1fa2144-a648-40d0-b182-574cf207a47f",
   "metadata": {},
   "source": [
    "### Sjekker om noen grunnkretser mangler fra kartet"
   ]
  },
  {
   "cell_type": "code",
   "execution_count": null,
   "id": "2c6f5a36-f38c-4338-9f8c-6e29f2bfccbf",
   "metadata": {
    "tags": []
   },
   "outputs": [],
   "source": [
    "# test <- dplyr::left_join(opptaksomrader_KLASS_grunnkrets, grunnkrets_kart, by = \"GRUNNKRETSNUMMER\") %>%\n",
    "# data.frame() %>%\n",
    "# dplyr::filter(is.na(KOMMUNENR))\n",
    "\n",
    "# nrow(test)\n",
    "# unique(test$GRUNNKRETS_NAVN)"
   ]
  },
  {
   "cell_type": "markdown",
   "id": "695ca885-0f1e-41b2-9149-26782611bd3b",
   "metadata": {},
   "source": [
    "### Merger opptaksområder med grunnkretskart"
   ]
  },
  {
   "cell_type": "code",
   "execution_count": null,
   "id": "c0e57d90-4858-44a4-8fed-cb9019b1e299",
   "metadata": {
    "tags": []
   },
   "outputs": [],
   "source": [
    "# opptaksomrader_KLASS_2_kart <- grunnkrets_kart %>%\n",
    "# dplyr::left_join(opptaksomrader_KLASS_2, by = \"GRUNNKRETSNUMMER\")\n",
    "\n",
    "grunnkrets_uten_trondheim_kristiansand_kart <- dplyr::left_join(grunnkrets_kart_uten_trondheim_kristiansand, opptaksomrader_KLASS_grunnkrets, by = \"GRUNNKRETSNUMMER\")"
   ]
  },
  {
   "cell_type": "code",
   "execution_count": null,
   "id": "957a9d66-9dc3-4645-bb7e-3a0532b26b79",
   "metadata": {
    "tags": []
   },
   "outputs": [],
   "source": [
    "# ggplot() + \n",
    "# geom_sf(data = opptaksomrader_KLASS_grunnkrets_kart)"
   ]
  },
  {
   "cell_type": "markdown",
   "id": "39832296-3934-437d-8c12-944b28e8c61d",
   "metadata": {},
   "source": [
    "## Trondheim"
   ]
  },
  {
   "cell_type": "code",
   "execution_count": null,
   "id": "36c77f64-2f85-4bc2-8529-d6c14e720331",
   "metadata": {
    "tags": []
   },
   "outputs": [],
   "source": [
    "grunnkrets_kart_trondheim <- grunnkrets_kart_trondheim %>%\n",
    "dplyr::group_by(KOMMUNENR) %>%\n",
    "  dplyr::summarise(geometry = sf::st_union(sf::st_make_valid(geometry))) %>%\n",
    "  dplyr::ungroup()\n",
    "\n",
    "ggplot() + \n",
    "geom_sf(data = grunnkrets_kart_trondheim)"
   ]
  },
  {
   "cell_type": "code",
   "execution_count": null,
   "id": "f93d5c89-ceba-4690-997c-bf91ce836c18",
   "metadata": {},
   "outputs": [],
   "source": [
    "opptaksomrader_DPS_trondheim <- open_dataset(paste0(\"ssb-prod-helse-speshelse-data-kilde/felles/Kart/\", aargang, \"/Opptaksområder/opptaksomrader_DPS_DPS_flate_\", aargang, \"/\"))\n",
    "opptaksomrader_DPS_trondheim"
   ]
  },
  {
   "cell_type": "code",
   "execution_count": null,
   "id": "24c9f06c-02ed-418f-8283-a5742efe6387",
   "metadata": {
    "tags": []
   },
   "outputs": [],
   "source": [
    "opptaksomrader_DPS_trondheim <- open_dataset(paste0(\"ssb-prod-helse-speshelse-data-kilde/felles/Kart/\", aargang, \"/Opptaksområder/opptaksomrader_DPS_DPS_flate_\", aargang, \"/\")) %>%\n",
    "  dplyr::filter(OPPTAK %in% c(\"Nidelv\", \"Nidaros\")) %>%\n",
    "  sfarrow::read_sf_dataset()\n",
    "\n",
    "ggplot() + \n",
    "geom_sf(data = opptaksomrader_DPS_trondheim) +\n",
    "geom_sf(data = grunnkrets_kart_trondheim, color = \"red\")"
   ]
  },
  {
   "cell_type": "code",
   "execution_count": null,
   "id": "a134fa66-9329-43b8-94c3-bf9da01b1bbe",
   "metadata": {
    "tags": []
   },
   "outputs": [],
   "source": [
    "opptaksomrader_DPS_trondheim_2 <- sf::st_intersection(opptaksomrader_DPS_trondheim, grunnkrets_kart_trondheim)\n",
    "\n",
    "nidaros <- opptaksomrader_DPS_trondheim_2 %>%\n",
    "dplyr::filter(OPPTAK == \"Nidaros\")\n",
    "\n",
    "nidelv <- opptaksomrader_DPS_trondheim_2 %>%\n",
    "dplyr::filter(OPPTAK == \"Nidelv\")\n",
    "\n",
    "ggplot() + \n",
    "geom_sf(data = nidaros, fill = \"blue\") +\n",
    "geom_sf(data = nidelv, fill = \"red\")"
   ]
  },
  {
   "cell_type": "markdown",
   "id": "0cfceaa2-e58b-459d-a62c-92f96d627a69",
   "metadata": {},
   "source": [
    "## Kristiansand"
   ]
  },
  {
   "cell_type": "code",
   "execution_count": null,
   "id": "97cd70a4-207e-45ae-9422-4edc5f31bc69",
   "metadata": {
    "tags": []
   },
   "outputs": [],
   "source": [
    "grunnkrets_kart_kristiansand <- grunnkrets_kart_kristiansand %>%\n",
    "dplyr::group_by(KOMMUNENR) %>%\n",
    "  dplyr::summarise(geometry = sf::st_union(sf::st_make_valid(geometry))) %>%\n",
    "  dplyr::ungroup()\n",
    "\n",
    "ggplot() + \n",
    "geom_sf(data = grunnkrets_kart_kristiansand)"
   ]
  },
  {
   "cell_type": "code",
   "execution_count": null,
   "id": "c512dba2-0269-4160-a769-bd4c0f779e38",
   "metadata": {
    "tags": []
   },
   "outputs": [],
   "source": [
    "opptaksomrader_DPS_kristiansand <- open_dataset(paste0(\"ssb-prod-helse-speshelse-data-kilde/felles/Kart/\", aargang, \"/Opptaksområder/opptaksomrader_DPS_DPS_flate_\", aargang, \"/\")) %>%\n",
    "  dplyr::filter(OPPTAK %in% c(\"Solvang\", \"Strømme\")) %>%\n",
    "  sfarrow::read_sf_dataset()\n",
    "\n",
    "ggplot() + \n",
    "geom_sf(data = opptaksomrader_DPS_kristiansand) +\n",
    "geom_sf(data = grunnkrets_kart_kristiansand, color = \"red\")"
   ]
  },
  {
   "cell_type": "code",
   "execution_count": null,
   "id": "599b9543-78e3-4a16-9c34-642d5a1052e9",
   "metadata": {
    "tags": []
   },
   "outputs": [],
   "source": [
    "opptaksomrader_DPS_kristiansand_2 <- sf::st_intersection(opptaksomrader_DPS_kristiansand, grunnkrets_kart_kristiansand)\n",
    "\n",
    "solvang <- opptaksomrader_DPS_kristiansand_2 %>%\n",
    "dplyr::filter(OPPTAK == \"Solvang\")\n",
    "\n",
    "stromme <- opptaksomrader_DPS_kristiansand_2 %>%\n",
    "dplyr::filter(OPPTAK == \"Strømme\")\n",
    "\n",
    "ggplot() + \n",
    "geom_sf(data = solvang, fill = \"blue\") +\n",
    "geom_sf(data = stromme, fill = \"red\")"
   ]
  },
  {
   "cell_type": "code",
   "execution_count": null,
   "id": "e3fe1061-6b09-4b94-a9c8-85ca3c133995",
   "metadata": {
    "tags": []
   },
   "outputs": [],
   "source": [
    "opptaksomrader_DPS_trondheim_2 <- opptaksomrader_DPS_trondheim_2 %>%\n",
    "dplyr::select(OPPTAK)\n",
    "\n",
    "opptaksomrader_DPS_kristiansand_2 <- opptaksomrader_DPS_kristiansand_2 %>%\n",
    "dplyr::select(OPPTAK)\n",
    "\n",
    "grunnkrets_uten_trondheim_kristiansand_kart_2 <- grunnkrets_uten_trondheim_kristiansand_kart %>%\n",
    "dplyr::select(OPPTAK)"
   ]
  },
  {
   "cell_type": "code",
   "execution_count": null,
   "id": "b27b9a35-a284-4f3c-9efa-6a044ac251d1",
   "metadata": {
    "tags": []
   },
   "outputs": [],
   "source": [
    "grunnkrets_med_trondheim_kristiansand_kart <- rbind(grunnkrets_uten_trondheim_kristiansand_kart_2, opptaksomrader_DPS_trondheim_2, opptaksomrader_DPS_kristiansand_2)"
   ]
  },
  {
   "cell_type": "markdown",
   "id": "6b2ff5de-8b24-409e-8a71-8dc41cbf0f11",
   "metadata": {},
   "source": [
    "## Lager opptaksområder for DPS-områder"
   ]
  },
  {
   "cell_type": "code",
   "execution_count": null,
   "id": "353d2f39-1bff-424b-8606-22fe16827480",
   "metadata": {
    "tags": []
   },
   "outputs": [],
   "source": [
    "opptaksomrader_DPS_befolkning <- open_dataset(paste0(\"ssb-prod-helse-speshelse-data-kilde/felles/Kart/\", aargang, \"/Opptaksområder/opptaksomrader_DPS_DPS_flate_\", aargang, \"/\"))) %>%\n",
    "sfarrow::read_sf_dataset() %>%\n",
    "data.frame() %>%\n",
    "dplyr::select(OPPTAK, PERSONER)\n",
    "\n",
    "opptaksomrader_KLASS_info <- opptaksomrader_KLASS %>%\n",
    "dplyr::distinct(OPPTAK, NAVN_HF, NAVN_RHF) %>%\n",
    "dplyr::left_join(opptaksomrader_DPS_befolkning, by = \"OPPTAK\")\n",
    "\n",
    "opptaksomrader_lokasjon <- grunnkrets_med_trondheim_kristiansand_kart %>%\n",
    "  dplyr::group_by(OPPTAK) %>%\n",
    "  dplyr::summarise(geometry = sf::st_union(sf::st_make_valid(geometry))) %>%\n",
    "  dplyr::ungroup() %>%\n",
    "dplyr::left_join(opptaksomrader_KLASS_info, by = \"OPPTAK\")\n",
    "\n",
    "# Lagrer filen\n",
    "if (grepl(\"onprem\", Sys.getenv(\"JUPYTER_IMAGE_SPEC\"))) {\n",
    "  sfarrow::st_write_parquet(obj=opptaksomrader_lokasjon, dsn=paste0(arbeidsmappe_opptak, \"opptaksomrader_DPS_DPS_\", filsti_med_uten_hav, \"_\", aargang, \".parquet\"))\n",
    "} else if (grepl(\"dapla\", Sys.getenv(\"JUPYTER_IMAGE_SPEC\"))) {\n",
    "  opptaksomrader_DPS_DPS_filsti <- paste0(\"ssb-prod-helse-speshelse-data-kilde/felles/Kart/\", aargang, \"/Opptaksområder/opptaksomrader_DPS_DPS_\", filsti_med_uten_hav, \"_\", aargang, \"/opptaksomrader_DPS_DPS_\", filsti_med_uten_hav, \"_\", aargang, \".parquet\")\n",
    "  write_SSB(opptaksomrader_lokasjon, file = opptaksomrader_DPS_DPS_filsti, sf = TRUE)\n",
    "}"
   ]
  },
  {
   "cell_type": "code",
   "execution_count": null,
   "id": "d84849ce-be5a-4d0c-8ce9-34b5830693a0",
   "metadata": {
    "tags": []
   },
   "outputs": [],
   "source": [
    "ggplot() + \n",
    "geom_sf(data = opptaksomrader_lokasjon)"
   ]
  },
  {
   "cell_type": "markdown",
   "id": "c897f7e1-dbac-42ae-8588-cce4e52e12da",
   "metadata": {},
   "source": [
    "## Lager opptaksområder for DPS-områder (HF)"
   ]
  },
  {
   "cell_type": "code",
   "execution_count": null,
   "id": "4090a50c-06d9-47e4-94da-17639e94262a",
   "metadata": {
    "tags": []
   },
   "outputs": [],
   "source": [
    "opptaksomrader_DPS_HF <- opptaksomrader_lokasjon %>%\n",
    "dplyr::group_by(NAVN_RHF, NAVN_HF) %>%\n",
    "  dplyr::summarise(geometry = sf::st_union(sf::st_make_valid(geometry)),\n",
    "                   PERSONER = sum(PERSONER)) %>%\n",
    "  dplyr::ungroup()\n",
    "\n",
    "# Lagrer filen\n",
    "if (grepl(\"onprem\", Sys.getenv(\"JUPYTER_IMAGE_SPEC\"))) {\n",
    "  sfarrow::st_write_parquet(obj=opptaksomrader_DPS_HF, dsn=paste0(arbeidsmappe_opptak, \"opptaksomrader_DPS_HF_\", filsti_med_uten_hav, \"_\", aargang, \".parquet\"))\n",
    "} else if (grepl(\"dapla\", Sys.getenv(\"JUPYTER_IMAGE_SPEC\"))) {\n",
    "  opptaksomrader_DPS_HF_filsti <- paste0(\"ssb-prod-helse-speshelse-data-kilde/felles/Kart/\", aargang, \"/Opptaksområder/opptaksomrader_DPS_HF_\", filsti_med_uten_hav, \"_\", aargang, \"/opptaksomrader_DPS_HF_\", filsti_med_uten_hav, \"_\", aargang, \".parquet\")\n",
    "  write_SSB(opptaksomrader_DPS_HF, file = opptaksomrader_DPS_HF_filsti, sf = TRUE)\n",
    "}"
   ]
  },
  {
   "cell_type": "code",
   "execution_count": null,
   "id": "9da22529-63b2-4e12-8933-6bf7bdc27f23",
   "metadata": {},
   "outputs": [],
   "source": [
    "ggplot() + \n",
    "geom_sf(data = opptaksomrader_DPS_HF)"
   ]
  },
  {
   "cell_type": "markdown",
   "id": "99703bde-5719-461f-a153-72fa2554ac91",
   "metadata": {},
   "source": [
    "## Lager opptaksområder for DPS-områder (RHF)"
   ]
  },
  {
   "cell_type": "code",
   "execution_count": null,
   "id": "02e13d8f-18fb-4a2d-9783-afb944af2cd7",
   "metadata": {
    "tags": []
   },
   "outputs": [],
   "source": [
    "opptaksomrader_DPS_RHF <- opptaksomrader_DPS_HF %>%\n",
    "dplyr::group_by(NAVN_RHF) %>%\n",
    "  dplyr::summarise(geometry = sf::st_union(sf::st_make_valid(geometry)),\n",
    "                   PERSONER = sum(PERSONER)) %>%\n",
    "  dplyr::ungroup()\n",
    "\n",
    "# Lagrer filen\n",
    "if (grepl(\"onprem\", Sys.getenv(\"JUPYTER_IMAGE_SPEC\"))) {\n",
    "  sfarrow::st_write_parquet(obj=opptaksomrader_DPS_RHF, dsn=paste0(arbeidsmappe_opptak, \"opptaksomrader_DPS_RHF_\", filsti_med_uten_hav, \"_\", aargang, \".parquet\"))\n",
    "} else if (grepl(\"dapla\", Sys.getenv(\"JUPYTER_IMAGE_SPEC\"))) {\n",
    "  opptaksomrader_DPS_RHF_filsti <- paste0(\"ssb-prod-helse-speshelse-data-kilde/felles/Kart/\", aargang, \"/Opptaksområder/opptaksomrader_DPS_RHF_\", filsti_med_uten_hav, \"_\", aargang, \"/opptaksomrader_DPS_RHF_\", filsti_med_uten_hav, \"_\", aargang, \".parquet\")\n",
    "  write_SSB(opptaksomrader_DPS_RHF, file = opptaksomrader_DPS_RHF_filsti, sf = TRUE)\n",
    "}"
   ]
  },
  {
   "cell_type": "code",
   "execution_count": null,
   "id": "edb9cb83-b5fd-435b-99bd-0f7bfd095f6d",
   "metadata": {
    "tags": []
   },
   "outputs": [],
   "source": [
    "ggplot() + \n",
    "geom_sf(data = opptaksomrader_DPS_RHF)"
   ]
  }
 ],
 "metadata": {
  "language_info": {
   "codemirror_mode": "r",
   "file_extension": ".r",
   "mimetype": "text/x-r-source",
   "name": "R"
  }
 },
 "nbformat": 4,
 "nbformat_minor": 5
}
