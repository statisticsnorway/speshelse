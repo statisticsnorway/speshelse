{
 "cells": [
  {
   "cell_type": "markdown",
   "id": "cf9c4409-1965-4db1-90a1-0eadebe358f0",
   "metadata": {},
   "source": [
    "# Opptaksområder 2018"
   ]
  },
  {
   "cell_type": "code",
   "execution_count": 14,
   "id": "22c9b21e-784f-4470-be40-e50791c25114",
   "metadata": {},
   "outputs": [],
   "source": [
    "aargang <- 2018"
   ]
  },
  {
   "cell_type": "code",
   "execution_count": 15,
   "id": "fb287050-78af-49d6-a0aa-3463df33e49a",
   "metadata": {},
   "outputs": [],
   "source": [
    "options(repr.matrix.max.rows=600, repr.matrix.max.cols=2000)\n",
    "\n",
    "suppressPackageStartupMessages({ \n",
    "library(tidyverse)\n",
    "library(readxl)\n",
    "library(klassR)\n",
    "library(sf)\n",
    "library(leaflet)\n",
    "        })"
   ]
  },
  {
   "cell_type": "markdown",
   "id": "fcbcfe3a-2b66-48e1-9cc2-94c22555016e",
   "metadata": {},
   "source": [
    "## Kodeliste for opptaksområder i spesialisthelsetjenesten (somatikk)"
   ]
  },
  {
   "cell_type": "code",
   "execution_count": 16,
   "id": "44c85eb3-d56c-457d-98e2-a96f1039203c",
   "metadata": {},
   "outputs": [
    {
     "data": {
      "text/html": [
       "14180"
      ],
      "text/latex": [
       "14180"
      ],
      "text/markdown": [
       "14180"
      ],
      "text/plain": [
       "[1] 14180"
      ]
     },
     "metadata": {},
     "output_type": "display_data"
    }
   ],
   "source": [
    "opptaksomrader_KLASS <- klassR::GetKlass(629, output_style = \"wide\", date = c(paste0(aargang+1, \"-01-01\"))) %>%\n",
    "dplyr::rename(GRUNNKRETSNUMMER = code4, \n",
    "             GRUNNKRETS_NAVN = name4, \n",
    "             OPPTAK_NUMMER = code3, \n",
    "             OPPTAK = name3, \n",
    "             ORGNR_HF = code2, \n",
    "             NAVN_HF = name2, \n",
    "             ORGNR_RHF = code1, \n",
    "             NAVN_RHF = name1)\n",
    "\n",
    "nrow(opptaksomrader_KLASS)"
   ]
  },
  {
   "cell_type": "code",
   "execution_count": 17,
   "id": "e08d5684-58a3-494b-a58f-9725d5c01db4",
   "metadata": {},
   "outputs": [
    {
     "data": {
      "text/html": [
       "<table class=\"dataframe\">\n",
       "<caption>A data.frame: 0 × 8</caption>\n",
       "<thead>\n",
       "\t<tr><th scope=col>GRUNNKRETSNUMMER</th><th scope=col>GRUNNKRETS_NAVN</th><th scope=col>OPPTAK_NUMMER</th><th scope=col>OPPTAK</th><th scope=col>ORGNR_HF</th><th scope=col>NAVN_HF</th><th scope=col>ORGNR_RHF</th><th scope=col>NAVN_RHF</th></tr>\n",
       "\t<tr><th scope=col>&lt;chr&gt;</th><th scope=col>&lt;chr&gt;</th><th scope=col>&lt;chr&gt;</th><th scope=col>&lt;chr&gt;</th><th scope=col>&lt;chr&gt;</th><th scope=col>&lt;chr&gt;</th><th scope=col>&lt;chr&gt;</th><th scope=col>&lt;chr&gt;</th></tr>\n",
       "</thead>\n",
       "<tbody>\n",
       "</tbody>\n",
       "</table>\n"
      ],
      "text/latex": [
       "A data.frame: 0 × 8\n",
       "\\begin{tabular}{llllllll}\n",
       " GRUNNKRETSNUMMER & GRUNNKRETS\\_NAVN & OPPTAK\\_NUMMER & OPPTAK & ORGNR\\_HF & NAVN\\_HF & ORGNR\\_RHF & NAVN\\_RHF\\\\\n",
       " <chr> & <chr> & <chr> & <chr> & <chr> & <chr> & <chr> & <chr>\\\\\n",
       "\\hline\n",
       "\\end{tabular}\n"
      ],
      "text/markdown": [
       "\n",
       "A data.frame: 0 × 8\n",
       "\n",
       "| GRUNNKRETSNUMMER &lt;chr&gt; | GRUNNKRETS_NAVN &lt;chr&gt; | OPPTAK_NUMMER &lt;chr&gt; | OPPTAK &lt;chr&gt; | ORGNR_HF &lt;chr&gt; | NAVN_HF &lt;chr&gt; | ORGNR_RHF &lt;chr&gt; | NAVN_RHF &lt;chr&gt; |\n",
       "|---|---|---|---|---|---|---|---|\n",
       "\n"
      ],
      "text/plain": [
       "     GRUNNKRETSNUMMER GRUNNKRETS_NAVN OPPTAK_NUMMER OPPTAK ORGNR_HF NAVN_HF\n",
       "     ORGNR_RHF NAVN_RHF"
      ]
     },
     "metadata": {},
     "output_type": "display_data"
    }
   ],
   "source": [
    "opptaksomrader_KLASS %>%\n",
    "dplyr::filter(substr(GRUNNKRETSNUMMER, 1, 1) == \"0\")"
   ]
  },
  {
   "cell_type": "code",
   "execution_count": 18,
   "id": "a227296f-8f3c-454d-8d9c-547e5cd8b109",
   "metadata": {},
   "outputs": [
    {
     "data": {
      "text/html": [
       "<table class=\"dataframe\">\n",
       "<caption>A data.frame: 0 × 8</caption>\n",
       "<thead>\n",
       "\t<tr><th scope=col>GRUNNKRETSNUMMER</th><th scope=col>GRUNNKRETS_NAVN</th><th scope=col>OPPTAK_NUMMER</th><th scope=col>OPPTAK</th><th scope=col>ORGNR_HF</th><th scope=col>NAVN_HF</th><th scope=col>ORGNR_RHF</th><th scope=col>NAVN_RHF</th></tr>\n",
       "\t<tr><th scope=col>&lt;chr&gt;</th><th scope=col>&lt;chr&gt;</th><th scope=col>&lt;chr&gt;</th><th scope=col>&lt;chr&gt;</th><th scope=col>&lt;chr&gt;</th><th scope=col>&lt;chr&gt;</th><th scope=col>&lt;chr&gt;</th><th scope=col>&lt;chr&gt;</th></tr>\n",
       "</thead>\n",
       "<tbody>\n",
       "</tbody>\n",
       "</table>\n"
      ],
      "text/latex": [
       "A data.frame: 0 × 8\n",
       "\\begin{tabular}{llllllll}\n",
       " GRUNNKRETSNUMMER & GRUNNKRETS\\_NAVN & OPPTAK\\_NUMMER & OPPTAK & ORGNR\\_HF & NAVN\\_HF & ORGNR\\_RHF & NAVN\\_RHF\\\\\n",
       " <chr> & <chr> & <chr> & <chr> & <chr> & <chr> & <chr> & <chr>\\\\\n",
       "\\hline\n",
       "\\end{tabular}\n"
      ],
      "text/markdown": [
       "\n",
       "A data.frame: 0 × 8\n",
       "\n",
       "| GRUNNKRETSNUMMER &lt;chr&gt; | GRUNNKRETS_NAVN &lt;chr&gt; | OPPTAK_NUMMER &lt;chr&gt; | OPPTAK &lt;chr&gt; | ORGNR_HF &lt;chr&gt; | NAVN_HF &lt;chr&gt; | ORGNR_RHF &lt;chr&gt; | NAVN_RHF &lt;chr&gt; |\n",
       "|---|---|---|---|---|---|---|---|\n",
       "\n"
      ],
      "text/plain": [
       "     GRUNNKRETSNUMMER GRUNNKRETS_NAVN OPPTAK_NUMMER OPPTAK ORGNR_HF NAVN_HF\n",
       "     ORGNR_RHF NAVN_RHF"
      ]
     },
     "metadata": {},
     "output_type": "display_data"
    }
   ],
   "source": [
    "opptaksomrader_KLASS %>%\n",
    "dplyr::filter(GRUNNKRETSNUMMER == \"03010101\") "
   ]
  },
  {
   "cell_type": "markdown",
   "id": "b9a727fb-1509-4942-b372-3940db1d8e70",
   "metadata": {},
   "source": [
    "### Korrespondanse mellom t og t-1 fra KLASS"
   ]
  },
  {
   "cell_type": "code",
   "execution_count": 19,
   "id": "ffade7b8-9963-42f5-87bd-bc6e261b6ec8",
   "metadata": {},
   "outputs": [
    {
     "data": {
      "text/html": [
       "43"
      ],
      "text/latex": [
       "43"
      ],
      "text/markdown": [
       "43"
      ],
      "text/plain": [
       "[1] 43"
      ]
     },
     "metadata": {},
     "output_type": "display_data"
    },
    {
     "data": {
      "text/html": [
       "43"
      ],
      "text/latex": [
       "43"
      ],
      "text/markdown": [
       "43"
      ],
      "text/plain": [
       "[1] 43"
      ]
     },
     "metadata": {},
     "output_type": "display_data"
    }
   ],
   "source": [
    "grunnkrets_KLASS <- klassR::GetKlass(1, date = c(paste0(aargang, \"-01-01\"), paste0(aargang+1, \"-01-01\")), correspond = TRUE) %>%\n",
    "dplyr::rename(GRUNNKRETSNUMMER_T1 = sourceCode, \n",
    "             GRUNNKRETSNUMMER = targetCode, \n",
    "             targetName = targetName)\n",
    "\n",
    "nrow(grunnkrets_KLASS)\n",
    "\n",
    "# grunnkrets_KLASS <- grunnkrets_KLASS %>%\n",
    "# dplyr::filter(!GRUNNKRETSNUMMER_T1 %in% c(\"18500111\") |  !GRUNNKRETSNUMMER %in% c(\"18061610\"), # Fjerner Kjerrvika fra Storå\n",
    "#              !GRUNNKRETSNUMMER_T1 %in% c(\"18500109\") |  !GRUNNKRETSNUMMER %in% c(\"18750211\"),  # Fjerner Indre Tysfjord fra Kjerrvika\n",
    "#              !GRUNNKRETSNUMMER_T1 %in% c(\"18500119\") |  !GRUNNKRETSNUMMER %in% c(\"18750211\")) # Fjerner Bjørntoppen fra Kjerrvika\n",
    "\n",
    "nrow(grunnkrets_KLASS)"
   ]
  },
  {
   "cell_type": "markdown",
   "id": "c7ece272-ec42-40bc-b8f8-35298ea5e1db",
   "metadata": {},
   "source": [
    "OK"
   ]
  },
  {
   "cell_type": "code",
   "execution_count": 20,
   "id": "cd06e7b8-bcd1-47e6-baa7-ad8ac36f1cac",
   "metadata": {},
   "outputs": [
    {
     "data": {
      "text/html": [
       "<table class=\"dataframe\">\n",
       "<caption>A grouped_df: 2 × 4</caption>\n",
       "<thead>\n",
       "\t<tr><th scope=col>GRUNNKRETSNUMMER_T1</th><th scope=col>sourceName</th><th scope=col>GRUNNKRETSNUMMER</th><th scope=col>targetName</th></tr>\n",
       "\t<tr><th scope=col>&lt;chr&gt;</th><th scope=col>&lt;chr&gt;</th><th scope=col>&lt;chr&gt;</th><th scope=col>&lt;chr&gt;</th></tr>\n",
       "</thead>\n",
       "<tbody>\n",
       "\t<tr><td>14440104</td><td>Kjøs   </td><td>14490114</td><td>Markane</td></tr>\n",
       "\t<tr><td>14490113</td><td>Markene</td><td>14490114</td><td>Markane</td></tr>\n",
       "</tbody>\n",
       "</table>\n"
      ],
      "text/latex": [
       "A grouped\\_df: 2 × 4\n",
       "\\begin{tabular}{llll}\n",
       " GRUNNKRETSNUMMER\\_T1 & sourceName & GRUNNKRETSNUMMER & targetName\\\\\n",
       " <chr> & <chr> & <chr> & <chr>\\\\\n",
       "\\hline\n",
       "\t 14440104 & Kjøs    & 14490114 & Markane\\\\\n",
       "\t 14490113 & Markene & 14490114 & Markane\\\\\n",
       "\\end{tabular}\n"
      ],
      "text/markdown": [
       "\n",
       "A grouped_df: 2 × 4\n",
       "\n",
       "| GRUNNKRETSNUMMER_T1 &lt;chr&gt; | sourceName &lt;chr&gt; | GRUNNKRETSNUMMER &lt;chr&gt; | targetName &lt;chr&gt; |\n",
       "|---|---|---|---|\n",
       "| 14440104 | Kjøs    | 14490114 | Markane |\n",
       "| 14490113 | Markene | 14490114 | Markane |\n",
       "\n"
      ],
      "text/plain": [
       "  GRUNNKRETSNUMMER_T1 sourceName GRUNNKRETSNUMMER targetName\n",
       "1 14440104            Kjøs       14490114         Markane   \n",
       "2 14490113            Markene    14490114         Markane   "
      ]
     },
     "metadata": {},
     "output_type": "display_data"
    }
   ],
   "source": [
    "grunnkrets_KLASS %>%\n",
    "group_by(GRUNNKRETSNUMMER) %>% # grunnkrets_KLASS_T1_2\n",
    "filter(n()>1)"
   ]
  },
  {
   "cell_type": "code",
   "execution_count": 21,
   "id": "1b443eb1-67e5-4c27-8965-8b27d00308aa",
   "metadata": {},
   "outputs": [
    {
     "data": {
      "text/html": [
       "<table class=\"dataframe\">\n",
       "<caption>A grouped_df: 24 × 4</caption>\n",
       "<thead>\n",
       "\t<tr><th scope=col>GRUNNKRETSNUMMER_T1</th><th scope=col>sourceName</th><th scope=col>GRUNNKRETSNUMMER</th><th scope=col>targetName</th></tr>\n",
       "\t<tr><th scope=col>&lt;chr&gt;</th><th scope=col>&lt;chr&gt;</th><th scope=col>&lt;chr&gt;</th><th scope=col>&lt;chr&gt;</th></tr>\n",
       "</thead>\n",
       "<tbody>\n",
       "\t<tr><td>02190314</td><td>Voll 14               </td><td>02190317</td><td>Voll 14 Nord               </td></tr>\n",
       "\t<tr><td>02190314</td><td>Voll 14               </td><td>02190318</td><td>Voll 14 Sør                </td></tr>\n",
       "\t<tr><td>02190315</td><td>Voll 15               </td><td>02190319</td><td>Voll 15 Nord               </td></tr>\n",
       "\t<tr><td>02190315</td><td>Voll 15               </td><td>02190320</td><td>Voll 15 Sør                </td></tr>\n",
       "\t<tr><td>02190503</td><td>Hosle sør 03          </td><td>02190530</td><td>Hosle sør 03 Nord          </td></tr>\n",
       "\t<tr><td>02190503</td><td>Hosle sør 03          </td><td>02190531</td><td>Hosle sør 03 Sør           </td></tr>\n",
       "\t<tr><td>02190504</td><td>Hosle sør 04          </td><td>02190532</td><td>Hosle sør 04 Nord          </td></tr>\n",
       "\t<tr><td>02190504</td><td>Hosle sør 04          </td><td>02190533</td><td>Hosle sør 04 Sør           </td></tr>\n",
       "\t<tr><td>02190508</td><td>Hosle sør 08          </td><td>02190534</td><td>Hosle sør 08 Nord          </td></tr>\n",
       "\t<tr><td>02190508</td><td>Hosle sør 08          </td><td>02190535</td><td>Hosle sør 08 Sør           </td></tr>\n",
       "\t<tr><td>02190616</td><td>Jar 16                </td><td>02190619</td><td>Jar 16 Vest                </td></tr>\n",
       "\t<tr><td>02190616</td><td>Jar 16                </td><td>02190620</td><td>Jat 16 Øst                 </td></tr>\n",
       "\t<tr><td>02190909</td><td>Stabekk 09            </td><td>02190930</td><td>Stabekk 09 Vest            </td></tr>\n",
       "\t<tr><td>02190909</td><td>Stabekk 09            </td><td>02190931</td><td>Stabekk 09 Øst             </td></tr>\n",
       "\t<tr><td>02190910</td><td>Stabekk 10            </td><td>02190932</td><td>Stabekk 10 Vest            </td></tr>\n",
       "\t<tr><td>02190910</td><td>Stabekk 10            </td><td>02190933</td><td>Stabell 10 Øst             </td></tr>\n",
       "\t<tr><td>02190912</td><td>Stabekk 12            </td><td>02190934</td><td>Stabekk 12 Nord            </td></tr>\n",
       "\t<tr><td>02190912</td><td>Stabekk 12            </td><td>02190935</td><td>Stabekk 12 Sør             </td></tr>\n",
       "\t<tr><td>02192018</td><td>Kirkerud-sollihøgda 18</td><td>02192020</td><td>Kirkerud-sollihøgda 18 Vest</td></tr>\n",
       "\t<tr><td>02192018</td><td>Kirkerud-sollihøgda 18</td><td>02192021</td><td>Kirkerud-sollihøgda 18 Øst </td></tr>\n",
       "\t<tr><td>09280211</td><td>Hovland               </td><td>09280212</td><td>Vegusdal nord              </td></tr>\n",
       "\t<tr><td>09280211</td><td>Hovland               </td><td>09370108</td><td>Hovland                    </td></tr>\n",
       "\t<tr><td>14440104</td><td>Kjøs                  </td><td>14440108</td><td>Kjøs                       </td></tr>\n",
       "\t<tr><td>14440104</td><td>Kjøs                  </td><td>14490114</td><td>Markane                    </td></tr>\n",
       "</tbody>\n",
       "</table>\n"
      ],
      "text/latex": [
       "A grouped\\_df: 24 × 4\n",
       "\\begin{tabular}{llll}\n",
       " GRUNNKRETSNUMMER\\_T1 & sourceName & GRUNNKRETSNUMMER & targetName\\\\\n",
       " <chr> & <chr> & <chr> & <chr>\\\\\n",
       "\\hline\n",
       "\t 02190314 & Voll 14                & 02190317 & Voll 14 Nord               \\\\\n",
       "\t 02190314 & Voll 14                & 02190318 & Voll 14 Sør                \\\\\n",
       "\t 02190315 & Voll 15                & 02190319 & Voll 15 Nord               \\\\\n",
       "\t 02190315 & Voll 15                & 02190320 & Voll 15 Sør                \\\\\n",
       "\t 02190503 & Hosle sør 03           & 02190530 & Hosle sør 03 Nord          \\\\\n",
       "\t 02190503 & Hosle sør 03           & 02190531 & Hosle sør 03 Sør           \\\\\n",
       "\t 02190504 & Hosle sør 04           & 02190532 & Hosle sør 04 Nord          \\\\\n",
       "\t 02190504 & Hosle sør 04           & 02190533 & Hosle sør 04 Sør           \\\\\n",
       "\t 02190508 & Hosle sør 08           & 02190534 & Hosle sør 08 Nord          \\\\\n",
       "\t 02190508 & Hosle sør 08           & 02190535 & Hosle sør 08 Sør           \\\\\n",
       "\t 02190616 & Jar 16                 & 02190619 & Jar 16 Vest                \\\\\n",
       "\t 02190616 & Jar 16                 & 02190620 & Jat 16 Øst                 \\\\\n",
       "\t 02190909 & Stabekk 09             & 02190930 & Stabekk 09 Vest            \\\\\n",
       "\t 02190909 & Stabekk 09             & 02190931 & Stabekk 09 Øst             \\\\\n",
       "\t 02190910 & Stabekk 10             & 02190932 & Stabekk 10 Vest            \\\\\n",
       "\t 02190910 & Stabekk 10             & 02190933 & Stabell 10 Øst             \\\\\n",
       "\t 02190912 & Stabekk 12             & 02190934 & Stabekk 12 Nord            \\\\\n",
       "\t 02190912 & Stabekk 12             & 02190935 & Stabekk 12 Sør             \\\\\n",
       "\t 02192018 & Kirkerud-sollihøgda 18 & 02192020 & Kirkerud-sollihøgda 18 Vest\\\\\n",
       "\t 02192018 & Kirkerud-sollihøgda 18 & 02192021 & Kirkerud-sollihøgda 18 Øst \\\\\n",
       "\t 09280211 & Hovland                & 09280212 & Vegusdal nord              \\\\\n",
       "\t 09280211 & Hovland                & 09370108 & Hovland                    \\\\\n",
       "\t 14440104 & Kjøs                   & 14440108 & Kjøs                       \\\\\n",
       "\t 14440104 & Kjøs                   & 14490114 & Markane                    \\\\\n",
       "\\end{tabular}\n"
      ],
      "text/markdown": [
       "\n",
       "A grouped_df: 24 × 4\n",
       "\n",
       "| GRUNNKRETSNUMMER_T1 &lt;chr&gt; | sourceName &lt;chr&gt; | GRUNNKRETSNUMMER &lt;chr&gt; | targetName &lt;chr&gt; |\n",
       "|---|---|---|---|\n",
       "| 02190314 | Voll 14                | 02190317 | Voll 14 Nord                |\n",
       "| 02190314 | Voll 14                | 02190318 | Voll 14 Sør                 |\n",
       "| 02190315 | Voll 15                | 02190319 | Voll 15 Nord                |\n",
       "| 02190315 | Voll 15                | 02190320 | Voll 15 Sør                 |\n",
       "| 02190503 | Hosle sør 03           | 02190530 | Hosle sør 03 Nord           |\n",
       "| 02190503 | Hosle sør 03           | 02190531 | Hosle sør 03 Sør            |\n",
       "| 02190504 | Hosle sør 04           | 02190532 | Hosle sør 04 Nord           |\n",
       "| 02190504 | Hosle sør 04           | 02190533 | Hosle sør 04 Sør            |\n",
       "| 02190508 | Hosle sør 08           | 02190534 | Hosle sør 08 Nord           |\n",
       "| 02190508 | Hosle sør 08           | 02190535 | Hosle sør 08 Sør            |\n",
       "| 02190616 | Jar 16                 | 02190619 | Jar 16 Vest                 |\n",
       "| 02190616 | Jar 16                 | 02190620 | Jat 16 Øst                  |\n",
       "| 02190909 | Stabekk 09             | 02190930 | Stabekk 09 Vest             |\n",
       "| 02190909 | Stabekk 09             | 02190931 | Stabekk 09 Øst              |\n",
       "| 02190910 | Stabekk 10             | 02190932 | Stabekk 10 Vest             |\n",
       "| 02190910 | Stabekk 10             | 02190933 | Stabell 10 Øst              |\n",
       "| 02190912 | Stabekk 12             | 02190934 | Stabekk 12 Nord             |\n",
       "| 02190912 | Stabekk 12             | 02190935 | Stabekk 12 Sør              |\n",
       "| 02192018 | Kirkerud-sollihøgda 18 | 02192020 | Kirkerud-sollihøgda 18 Vest |\n",
       "| 02192018 | Kirkerud-sollihøgda 18 | 02192021 | Kirkerud-sollihøgda 18 Øst  |\n",
       "| 09280211 | Hovland                | 09280212 | Vegusdal nord               |\n",
       "| 09280211 | Hovland                | 09370108 | Hovland                     |\n",
       "| 14440104 | Kjøs                   | 14440108 | Kjøs                        |\n",
       "| 14440104 | Kjøs                   | 14490114 | Markane                     |\n",
       "\n"
      ],
      "text/plain": [
       "   GRUNNKRETSNUMMER_T1 sourceName             GRUNNKRETSNUMMER\n",
       "1  02190314            Voll 14                02190317        \n",
       "2  02190314            Voll 14                02190318        \n",
       "3  02190315            Voll 15                02190319        \n",
       "4  02190315            Voll 15                02190320        \n",
       "5  02190503            Hosle sør 03           02190530        \n",
       "6  02190503            Hosle sør 03           02190531        \n",
       "7  02190504            Hosle sør 04           02190532        \n",
       "8  02190504            Hosle sør 04           02190533        \n",
       "9  02190508            Hosle sør 08           02190534        \n",
       "10 02190508            Hosle sør 08           02190535        \n",
       "11 02190616            Jar 16                 02190619        \n",
       "12 02190616            Jar 16                 02190620        \n",
       "13 02190909            Stabekk 09             02190930        \n",
       "14 02190909            Stabekk 09             02190931        \n",
       "15 02190910            Stabekk 10             02190932        \n",
       "16 02190910            Stabekk 10             02190933        \n",
       "17 02190912            Stabekk 12             02190934        \n",
       "18 02190912            Stabekk 12             02190935        \n",
       "19 02192018            Kirkerud-sollihøgda 18 02192020        \n",
       "20 02192018            Kirkerud-sollihøgda 18 02192021        \n",
       "21 09280211            Hovland                09280212        \n",
       "22 09280211            Hovland                09370108        \n",
       "23 14440104            Kjøs                   14440108        \n",
       "24 14440104            Kjøs                   14490114        \n",
       "   targetName                 \n",
       "1  Voll 14 Nord               \n",
       "2  Voll 14 Sør                \n",
       "3  Voll 15 Nord               \n",
       "4  Voll 15 Sør                \n",
       "5  Hosle sør 03 Nord          \n",
       "6  Hosle sør 03 Sør           \n",
       "7  Hosle sør 04 Nord          \n",
       "8  Hosle sør 04 Sør           \n",
       "9  Hosle sør 08 Nord          \n",
       "10 Hosle sør 08 Sør           \n",
       "11 Jar 16 Vest                \n",
       "12 Jat 16 Øst                 \n",
       "13 Stabekk 09 Vest            \n",
       "14 Stabekk 09 Øst             \n",
       "15 Stabekk 10 Vest            \n",
       "16 Stabell 10 Øst             \n",
       "17 Stabekk 12 Nord            \n",
       "18 Stabekk 12 Sør             \n",
       "19 Kirkerud-sollihøgda 18 Vest\n",
       "20 Kirkerud-sollihøgda 18 Øst \n",
       "21 Vegusdal nord              \n",
       "22 Hovland                    \n",
       "23 Kjøs                       \n",
       "24 Markane                    "
      ]
     },
     "metadata": {},
     "output_type": "display_data"
    }
   ],
   "source": [
    "grunnkrets_KLASS %>%\n",
    "group_by(GRUNNKRETSNUMMER_T1) %>% # grunnkrets_KLASS_T1_2\n",
    "filter(n()>1)"
   ]
  },
  {
   "cell_type": "markdown",
   "id": "22ba0a28-2d9b-482b-aa11-e6a7c23aa7cc",
   "metadata": {},
   "source": [
    "### Merger opptaksområder med KLASS (t-1)"
   ]
  },
  {
   "cell_type": "code",
   "execution_count": 22,
   "id": "d7bd8901-c0ca-4bdf-a403-8397be13a069",
   "metadata": {},
   "outputs": [
    {
     "data": {
      "text/html": [
       "14181"
      ],
      "text/latex": [
       "14181"
      ],
      "text/markdown": [
       "14181"
      ],
      "text/plain": [
       "[1] 14181"
      ]
     },
     "metadata": {},
     "output_type": "display_data"
    }
   ],
   "source": [
    "opptaksomrader_KLASS_2 <- opptaksomrader_KLASS %>%\n",
    "dplyr::left_join(grunnkrets_KLASS, by = \"GRUNNKRETSNUMMER\") %>%\n",
    "dplyr::mutate(GRUNNKRETSNUMMER_T1 = case_when(\n",
    "is.na(GRUNNKRETSNUMMER_T1) ~ GRUNNKRETSNUMMER, \n",
    "    TRUE ~ GRUNNKRETSNUMMER_T1\n",
    ")) %>%\n",
    "dplyr::select(GRUNNKRETSNUMMER, GRUNNKRETSNUMMER_T1, GRUNNKRETS_NAVN, OPPTAK_NUMMER, OPPTAK, ORGNR_HF, NAVN_HF, ORGNR_RHF, NAVN_RHF) %>%\n",
    "dplyr::distinct(GRUNNKRETSNUMMER_T1, OPPTAK_NUMMER, OPPTAK, ORGNR_HF, NAVN_HF, ORGNR_RHF, NAVN_RHF)\n",
    "\n",
    "nrow(opptaksomrader_KLASS_2)"
   ]
  },
  {
   "cell_type": "code",
   "execution_count": 23,
   "id": "8d070b96-ef8d-40c3-a85b-433acda101d1",
   "metadata": {},
   "outputs": [],
   "source": [
    "# opptaksomrader_KLASS_2 %>%\n",
    "# dplyr::filter(GRUNNKRETSNUMMER_T1 == \"18500109\")"
   ]
  },
  {
   "cell_type": "markdown",
   "id": "c9ae84b0-5a87-4c5d-953e-b3776ab7c290",
   "metadata": {},
   "source": [
    "### Laster inn KLASS (t-1)"
   ]
  },
  {
   "cell_type": "code",
   "execution_count": 24,
   "id": "4760123d-552a-4a51-bd37-94721867cfa2",
   "metadata": {},
   "outputs": [
    {
     "data": {
      "text/html": [
       "14053"
      ],
      "text/latex": [
       "14053"
      ],
      "text/markdown": [
       "14053"
      ],
      "text/plain": [
       "[1] 14053"
      ]
     },
     "metadata": {},
     "output_type": "display_data"
    },
    {
     "data": {
      "text/html": [
       "14181"
      ],
      "text/latex": [
       "14181"
      ],
      "text/markdown": [
       "14181"
      ],
      "text/plain": [
       "[1] 14181"
      ]
     },
     "metadata": {},
     "output_type": "display_data"
    }
   ],
   "source": [
    "grunnkrets_KLASS_T1 <- klassR::GetKlass(1, output_style = \"wide\", date = c(paste0(aargang, \"-01-01\"))) %>%\n",
    "dplyr::rename(GRUNNKRETSNUMMER_T1 = code2, \n",
    "             GRUNNKRETS_NAVN_T1 = name2) %>%\n",
    "dplyr::select(GRUNNKRETSNUMMER_T1, GRUNNKRETS_NAVN_T1) \n",
    "\n",
    "nrow(grunnkrets_KLASS_T1)\n",
    "nrow(opptaksomrader_KLASS_2)"
   ]
  },
  {
   "cell_type": "code",
   "execution_count": 25,
   "id": "79e53b5c-6f75-4b3d-9b5d-341ec06b2565",
   "metadata": {},
   "outputs": [],
   "source": [
    "# opptaksomrader_KLASS_2 %>%\n",
    "# group_by(GRUNNKRETSNUMMER_T1) %>% # grunnkrets_KLASS_T1_2\n",
    "# filter(n()>1)"
   ]
  },
  {
   "cell_type": "markdown",
   "id": "2cf5419e-4824-472b-b60d-43527dce5996",
   "metadata": {},
   "source": [
    "# OBS: \n",
    "+ sjekk opp Kjøs/Markene\n",
    "+ Vegusdal nord/Hovland"
   ]
  },
  {
   "cell_type": "code",
   "execution_count": 26,
   "id": "661c2eb9-8da9-4564-8d44-f74856aa7fbd",
   "metadata": {},
   "outputs": [
    {
     "data": {
      "text/html": [
       "7417"
      ],
      "text/latex": [
       "7417"
      ],
      "text/markdown": [
       "7417"
      ],
      "text/plain": [
       "[1] 7417"
      ]
     },
     "metadata": {},
     "output_type": "display_data"
    },
    {
     "data": {
      "text/html": [
       "<table class=\"dataframe\">\n",
       "<caption>A data.frame: 6 × 8</caption>\n",
       "<thead>\n",
       "\t<tr><th></th><th scope=col>GRUNNKRETSNUMMER_T1</th><th scope=col>GRUNNKRETS_NAVN_T1</th><th scope=col>OPPTAK_NUMMER</th><th scope=col>OPPTAK</th><th scope=col>ORGNR_HF</th><th scope=col>NAVN_HF</th><th scope=col>ORGNR_RHF</th><th scope=col>NAVN_RHF</th></tr>\n",
       "\t<tr><th></th><th scope=col>&lt;chr&gt;</th><th scope=col>&lt;chr&gt;</th><th scope=col>&lt;chr&gt;</th><th scope=col>&lt;chr&gt;</th><th scope=col>&lt;chr&gt;</th><th scope=col>&lt;chr&gt;</th><th scope=col>&lt;chr&gt;</th><th scope=col>&lt;chr&gt;</th></tr>\n",
       "</thead>\n",
       "<tbody>\n",
       "\t<tr><th scope=row>1</th><td>10010101</td><td>Kjære-andås     </td><td>19</td><td>Kristiansand</td><td>983975240</td><td>SØRLANDET SYKEHUS HF</td><td>991324968</td><td>HELSE SØR-ØST RHF</td></tr>\n",
       "\t<tr><th scope=row>2</th><td>10010102</td><td>Mæbø-høyfjellet </td><td>19</td><td>Kristiansand</td><td>983975240</td><td>SØRLANDET SYKEHUS HF</td><td>991324968</td><td>HELSE SØR-ØST RHF</td></tr>\n",
       "\t<tr><th scope=row>3</th><td>10010103</td><td>Lindebø-skålevik</td><td>19</td><td>Kristiansand</td><td>983975240</td><td>SØRLANDET SYKEHUS HF</td><td>991324968</td><td>HELSE SØR-ØST RHF</td></tr>\n",
       "\t<tr><th scope=row>4</th><td>10010201</td><td>Andøya          </td><td>19</td><td>Kristiansand</td><td>983975240</td><td>SØRLANDET SYKEHUS HF</td><td>991324968</td><td>HELSE SØR-ØST RHF</td></tr>\n",
       "\t<tr><th scope=row>5</th><td>10010202</td><td>Voie            </td><td>19</td><td>Kristiansand</td><td>983975240</td><td>SØRLANDET SYKEHUS HF</td><td>991324968</td><td>HELSE SØR-ØST RHF</td></tr>\n",
       "\t<tr><th scope=row>6</th><td>10010203</td><td>Møvik           </td><td>19</td><td>Kristiansand</td><td>983975240</td><td>SØRLANDET SYKEHUS HF</td><td>991324968</td><td>HELSE SØR-ØST RHF</td></tr>\n",
       "</tbody>\n",
       "</table>\n"
      ],
      "text/latex": [
       "A data.frame: 6 × 8\n",
       "\\begin{tabular}{r|llllllll}\n",
       "  & GRUNNKRETSNUMMER\\_T1 & GRUNNKRETS\\_NAVN\\_T1 & OPPTAK\\_NUMMER & OPPTAK & ORGNR\\_HF & NAVN\\_HF & ORGNR\\_RHF & NAVN\\_RHF\\\\\n",
       "  & <chr> & <chr> & <chr> & <chr> & <chr> & <chr> & <chr> & <chr>\\\\\n",
       "\\hline\n",
       "\t1 & 10010101 & Kjære-andås      & 19 & Kristiansand & 983975240 & SØRLANDET SYKEHUS HF & 991324968 & HELSE SØR-ØST RHF\\\\\n",
       "\t2 & 10010102 & Mæbø-høyfjellet  & 19 & Kristiansand & 983975240 & SØRLANDET SYKEHUS HF & 991324968 & HELSE SØR-ØST RHF\\\\\n",
       "\t3 & 10010103 & Lindebø-skålevik & 19 & Kristiansand & 983975240 & SØRLANDET SYKEHUS HF & 991324968 & HELSE SØR-ØST RHF\\\\\n",
       "\t4 & 10010201 & Andøya           & 19 & Kristiansand & 983975240 & SØRLANDET SYKEHUS HF & 991324968 & HELSE SØR-ØST RHF\\\\\n",
       "\t5 & 10010202 & Voie             & 19 & Kristiansand & 983975240 & SØRLANDET SYKEHUS HF & 991324968 & HELSE SØR-ØST RHF\\\\\n",
       "\t6 & 10010203 & Møvik            & 19 & Kristiansand & 983975240 & SØRLANDET SYKEHUS HF & 991324968 & HELSE SØR-ØST RHF\\\\\n",
       "\\end{tabular}\n"
      ],
      "text/markdown": [
       "\n",
       "A data.frame: 6 × 8\n",
       "\n",
       "| <!--/--> | GRUNNKRETSNUMMER_T1 &lt;chr&gt; | GRUNNKRETS_NAVN_T1 &lt;chr&gt; | OPPTAK_NUMMER &lt;chr&gt; | OPPTAK &lt;chr&gt; | ORGNR_HF &lt;chr&gt; | NAVN_HF &lt;chr&gt; | ORGNR_RHF &lt;chr&gt; | NAVN_RHF &lt;chr&gt; |\n",
       "|---|---|---|---|---|---|---|---|---|\n",
       "| 1 | 10010101 | Kjære-andås      | 19 | Kristiansand | 983975240 | SØRLANDET SYKEHUS HF | 991324968 | HELSE SØR-ØST RHF |\n",
       "| 2 | 10010102 | Mæbø-høyfjellet  | 19 | Kristiansand | 983975240 | SØRLANDET SYKEHUS HF | 991324968 | HELSE SØR-ØST RHF |\n",
       "| 3 | 10010103 | Lindebø-skålevik | 19 | Kristiansand | 983975240 | SØRLANDET SYKEHUS HF | 991324968 | HELSE SØR-ØST RHF |\n",
       "| 4 | 10010201 | Andøya           | 19 | Kristiansand | 983975240 | SØRLANDET SYKEHUS HF | 991324968 | HELSE SØR-ØST RHF |\n",
       "| 5 | 10010202 | Voie             | 19 | Kristiansand | 983975240 | SØRLANDET SYKEHUS HF | 991324968 | HELSE SØR-ØST RHF |\n",
       "| 6 | 10010203 | Møvik            | 19 | Kristiansand | 983975240 | SØRLANDET SYKEHUS HF | 991324968 | HELSE SØR-ØST RHF |\n",
       "\n"
      ],
      "text/plain": [
       "  GRUNNKRETSNUMMER_T1 GRUNNKRETS_NAVN_T1 OPPTAK_NUMMER OPPTAK       ORGNR_HF \n",
       "1 10010101            Kjære-andås        19            Kristiansand 983975240\n",
       "2 10010102            Mæbø-høyfjellet    19            Kristiansand 983975240\n",
       "3 10010103            Lindebø-skålevik   19            Kristiansand 983975240\n",
       "4 10010201            Andøya             19            Kristiansand 983975240\n",
       "5 10010202            Voie               19            Kristiansand 983975240\n",
       "6 10010203            Møvik              19            Kristiansand 983975240\n",
       "  NAVN_HF              ORGNR_RHF NAVN_RHF         \n",
       "1 SØRLANDET SYKEHUS HF 991324968 HELSE SØR-ØST RHF\n",
       "2 SØRLANDET SYKEHUS HF 991324968 HELSE SØR-ØST RHF\n",
       "3 SØRLANDET SYKEHUS HF 991324968 HELSE SØR-ØST RHF\n",
       "4 SØRLANDET SYKEHUS HF 991324968 HELSE SØR-ØST RHF\n",
       "5 SØRLANDET SYKEHUS HF 991324968 HELSE SØR-ØST RHF\n",
       "6 SØRLANDET SYKEHUS HF 991324968 HELSE SØR-ØST RHF"
      ]
     },
     "metadata": {},
     "output_type": "display_data"
    }
   ],
   "source": [
    "grunnkrets_KLASS_T1_2 <- grunnkrets_KLASS_T1 %>%\n",
    "dplyr::left_join(opptaksomrader_KLASS_2, by = \"GRUNNKRETSNUMMER_T1\") %>%\n",
    "dplyr::filter(!is.na(OPPTAK))\n",
    "\n",
    "nrow(grunnkrets_KLASS_T1_2)\n",
    "\n",
    "head(grunnkrets_KLASS_T1_2)\n",
    "\n",
    "# grunnkrets_KLASS_T1_2 <- grunnkrets_KLASS_T1 %>%\n",
    "# dplyr::distinct(GRUNNKRETSNUMMER_T1, GRUNNKRETS_NAVN_T1, OPPTAK)"
   ]
  },
  {
   "cell_type": "markdown",
   "id": "6742a67f-f051-4474-8e5c-6b6e3a92df6c",
   "metadata": {},
   "source": [
    "### Lagrer filen "
   ]
  },
  {
   "cell_type": "code",
   "execution_count": 301,
   "id": "e56f1e48-ef82-4abd-bb23-7abf150da01d",
   "metadata": {},
   "outputs": [],
   "source": [
    "# test <- grunnkrets_KLASS_T1_2 %>%\n",
    "#   dplyr::mutate(TOM_FORELDER = \"\") %>%\n",
    "#   # dplyr::filter(opptak %in% c(\"Stavanger\", \"Ålesund\")) %>%\n",
    "#   dplyr::select(GRUNNKRETSNUMMER_T1, GRUNNKRETS_NAVN_T1, OPPTAK_NUMMER, ORGNR_HF, NAVN_HF, OPPTAK, ORGNR_RHF, NAVN_RHF, TOM_FORELDER)\n",
    "\n",
    "# level_1 <- test %>%\n",
    "#   dplyr::select(ORGNR_RHF, TOM_FORELDER, NAVN_RHF) %>%\n",
    "#   dplyr::rename('ns1:kode' = ORGNR_RHF, \n",
    "#                 'ns1:forelder' = TOM_FORELDER, \n",
    "#                 'ns1:navn_bokmål' = NAVN_RHF) %>%\n",
    "#   dplyr::distinct()\n",
    "\n",
    "# level_2 <- test %>%\n",
    "#   dplyr::select(ORGNR_HF, ORGNR_RHF, NAVN_HF) %>%\n",
    "#   dplyr::rename('ns1:kode' = ORGNR_HF, \n",
    "#                 'ns1:forelder' = ORGNR_RHF, \n",
    "#                 'ns1:navn_bokmål' = NAVN_HF) %>%\n",
    "#   dplyr::distinct()\n",
    "\n",
    "# level_3 <- test %>%\n",
    "#   dplyr::select(OPPTAK_NUMMER, ORGNR_HF, OPPTAK) %>%\n",
    "#   dplyr::rename('ns1:kode' = OPPTAK_NUMMER, \n",
    "#                 'ns1:forelder' = ORGNR_HF, \n",
    "#                 'ns1:navn_bokmål' = OPPTAK) %>%\n",
    "#   dplyr::distinct()\n",
    "\n",
    "# level_4 <- test %>%\n",
    "#   dplyr::select(GRUNNKRETSNUMMER_T1, OPPTAK_NUMMER, GRUNNKRETS_NAVN_T1) %>%\n",
    "#   dplyr::rename('ns1:kode' = GRUNNKRETSNUMMER_T1, \n",
    "#                 'ns1:forelder' = OPPTAK_NUMMER, \n",
    "#                 'ns1:navn_bokmål' = GRUNNKRETS_NAVN_T1) %>%\n",
    "#   dplyr::distinct()\n",
    "\n",
    "# KLASS <- rbind(level_1, level_2, level_3, level_4)"
   ]
  },
  {
   "cell_type": "code",
   "execution_count": 302,
   "id": "4068dd58-f46e-4dfb-84b9-8eeb9cb1a82f",
   "metadata": {},
   "outputs": [],
   "source": [
    "# openxlsx::write.xlsx(KLASS, file = paste0(\"/ssb/bruker/rdn/opptak_\", aargang, \"2019.xlsx\"),\n",
    "#                      rowNames = FALSE,\n",
    "#                      showNA = FALSE,\n",
    "#                      overwrite=T) # T = overskriver dersom filen allerede finnes, F = gir feilmelding dersom filen finnes"
   ]
  }
 ],
 "metadata": {
  "kernelspec": {
   "display_name": "R",
   "language": "R",
   "name": "ir"
  },
  "language_info": {
   "codemirror_mode": "r",
   "file_extension": ".r",
   "mimetype": "text/x-r-source",
   "name": "R",
   "pygments_lexer": "r",
   "version": "4.2.2"
  }
 },
 "nbformat": 4,
 "nbformat_minor": 5
}
