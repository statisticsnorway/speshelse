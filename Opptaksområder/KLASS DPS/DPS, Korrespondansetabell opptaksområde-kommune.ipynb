{
 "cells": [
  {
   "cell_type": "markdown",
   "id": "4e526b35-99d9-4841-a762-c7d117c9dc4f",
   "metadata": {},
   "source": [
    "# Korrespondansetabell opptaksområde-kommune"
   ]
  },
  {
   "cell_type": "code",
   "execution_count": null,
   "id": "12683cd8-1883-4548-9406-ca3eb0208645",
   "metadata": {},
   "outputs": [],
   "source": [
    "aargang <- 2023"
   ]
  },
  {
   "cell_type": "code",
   "execution_count": null,
   "id": "b6cbf062-e0f0-4805-a1ef-8bef43f623a0",
   "metadata": {},
   "outputs": [],
   "source": [
    "options(repr.matrix.max.rows=600, repr.matrix.max.cols=2000)\n",
    "\n",
    "suppressPackageStartupMessages({ \n",
    "library(tidyverse)\n",
    "library(readxl)\n",
    "library(klassR)\n",
    "library(sf)\n",
    "library(leaflet)\n",
    "        })"
   ]
  },
  {
   "cell_type": "markdown",
   "id": "f605e699-3b9a-4dbe-92a8-89fbb9482ceb",
   "metadata": {},
   "source": [
    "### Filstier"
   ]
  },
  {
   "cell_type": "code",
   "execution_count": null,
   "id": "595338fb-b8cf-4fa6-9f2e-d09afc7bdbf9",
   "metadata": {},
   "outputs": [],
   "source": [
    "# arbeidsmappe <- \"/ssb/stamme01/fylkhels/speshelse/felles/\"\n",
    "# arbeidsmappe_kart <- paste0(arbeidsmappe, \"kart/\", aargang, \"/\")\n",
    "\n",
    "# arbeidsmappe_opptak <- paste0(arbeidsmappe, \"opptaksomrader/\", aargang, \"/\")\n",
    "\n",
    "# if (file.exists(arbeidsmappe_opptak)==FALSE) {\n",
    "#   dir.create(arbeidsmappe_opptak)\n",
    "# }"
   ]
  },
  {
   "cell_type": "markdown",
   "id": "c0752d61-be50-465a-94fa-bcef59338bdc",
   "metadata": {},
   "source": [
    "## Kodeliste for opptaksområder i spesialisthelsetjenesten (DPS)"
   ]
  },
  {
   "cell_type": "code",
   "execution_count": null,
   "id": "57d43c35-58dc-4adf-8583-a5a2b81a173a",
   "metadata": {},
   "outputs": [],
   "source": [
    "opptaksomrader_KLASS <- klassR::GetKlass(632, output_style = \"wide\", date = c(paste0(aargang, \"-01-01\"))) %>%\n",
    "dplyr::rename(GRUNNKRETSNUMMER = code4, \n",
    "             GRUNNKRETS_NAVN = name4, \n",
    "             OPPTAK_NUMMER = code3, \n",
    "             OPPTAK = name3, \n",
    "             ORGNR_HF = code2, \n",
    "             NAVN_HF = name2, \n",
    "             ORGNR_RHF = code1, \n",
    "             NAVN_RHF = name1) %>%\n",
    "dplyr::mutate(GRUNNKRETSNUMMER = str_pad(GRUNNKRETSNUMMER, width = 8, \"left\", pad = \"0\"))\n",
    "\n",
    "nrow(opptaksomrader_KLASS)"
   ]
  },
  {
   "cell_type": "code",
   "execution_count": null,
   "id": "c8613344-2be0-4d56-90cf-7909b807b1b9",
   "metadata": {},
   "outputs": [],
   "source": [
    "opptaksomrader_KLASS_grunnkrets <- opptaksomrader_KLASS %>%\n",
    "dplyr::filter(!grepl(\"postnummer\", GRUNNKRETS_NAVN))"
   ]
  },
  {
   "cell_type": "code",
   "execution_count": null,
   "id": "b404e9b2-d11c-45c4-a594-f48ab5336c5b",
   "metadata": {},
   "outputs": [],
   "source": [
    "kommune_KLASS <- klassR::GetKlass(131, date = c(paste0(aargang, \"-01-01\"))) %>%\n",
    "dplyr::filter(!code %in% c(\"9999\")) %>%\n",
    "dplyr::rename(KOMMUNENUMMER = code, \n",
    "             KOMMUNENAVN = name) %>%\n",
    "dplyr::select(KOMMUNENUMMER, KOMMUNENAVN)\n",
    "\n",
    "nrow(kommune_KLASS)"
   ]
  },
  {
   "cell_type": "markdown",
   "id": "8292677b-6ed8-468a-9f46-5bc6c98c3016",
   "metadata": {},
   "source": [
    "## Lager korrespondanse mellom opptaksområde og kommune \n",
    "\n",
    "Inneholder noen dubletter"
   ]
  },
  {
   "cell_type": "code",
   "execution_count": null,
   "id": "ba7b89eb-7ea1-48ef-8884-dc3ab17e5870",
   "metadata": {},
   "outputs": [],
   "source": [
    "opptaksomrader_KLASS_2 <- opptaksomrader_KLASS_grunnkrets %>%\n",
    "dplyr::mutate(KOMMUNENUMMER = substr(GRUNNKRETSNUMMER, 1, 4)) %>%\n",
    "dplyr::select(OPPTAK_NUMMER, OPPTAK, KOMMUNENUMMER) %>%\n",
    "dplyr::distinct() %>%\n",
    "dplyr::left_join(kommune_KLASS, by = \"KOMMUNENUMMER\") %>%\n",
    "dplyr::filter(!KOMMUNENUMMER %in% c(\"KOMMUNENUMMER\"), \n",
    "             KOMMUNENUMMER != \"2100\") \n",
    "\n",
    "# Kristiansand og Trondheim fix #\n",
    "\n",
    "kristiansand <- data.frame(OPPTAK_NUMMER = c(\"D62\", \"D63\"), \n",
    "                          OPPTAK = c(\"Solvang\", \"Strømme\"), \n",
    "                          KOMMUNENUMMER = c(\"4204\", \"4204\"), \n",
    "                          KOMMUNENAVN = c(\"Kristiansand\", \"Kristiansand\"))\n",
    "\n",
    "trondheim <- data.frame(OPPTAK_NUMMER = c(\"D33\", \"D34\"), \n",
    "                          OPPTAK = c(\"Nidaros\", \"Nidelv\"), \n",
    "                          KOMMUNENUMMER = c(\"5001\", \"5001\"), \n",
    "                          KOMMUNENAVN = c(\"Trondheim\", \"Trondheim\")) # OBS: Trondheim - Tråanten i 2023?\n",
    "\n",
    "opptaksomrader_KLASS_3 <- rbind(opptaksomrader_KLASS_2, kristiansand, trondheim)"
   ]
  },
  {
   "cell_type": "code",
   "execution_count": null,
   "id": "b10cf2e5-bd83-4127-8428-b23929c1dab9",
   "metadata": {},
   "outputs": [],
   "source": [
    "length(unique(opptaksomrader_KLASS_3$KOMMUNENUMMER)) # skal være lik antall kommuner"
   ]
  },
  {
   "cell_type": "code",
   "execution_count": null,
   "id": "429764e0-19db-48b6-ad54-88db34e46ebb",
   "metadata": {
    "tags": []
   },
   "outputs": [],
   "source": [
    "nrow(opptaksomrader_KLASS_3) # skal være høyere enn antall kommuner"
   ]
  },
  {
   "cell_type": "markdown",
   "id": "6a28bb98-d824-4d0b-8619-d63cfdfa3a28",
   "metadata": {},
   "source": [
    "OBS: endre filsti"
   ]
  },
  {
   "cell_type": "code",
   "execution_count": null,
   "id": "ab482365-bc37-4ba5-afe5-844198ab5fdf",
   "metadata": {},
   "outputs": [],
   "source": [
    "opptaksomrader_KLASS_3 <- opptaksomrader_KLASS_3 %>%\n",
    "dplyr::rename('ns1:kilde_kode' = OPPTAK_NUMMER, \n",
    "             'ns1:kilde_tittel' = OPPTAK, \n",
    "             'ns1:mål_kode' = KOMMUNENUMMER, \n",
    "             'ns1:mål_tittel' = KOMMUNENAVN)\n",
    "\n",
    "openxlsx::write.xlsx(opptaksomrader_KLASS_3, file = paste0(\"/ssb/bruker/rdn/korrespondanse_DPS_\", aargang, \".xlsx\"),\n",
    "                     rowNames = FALSE,\n",
    "                     showNA = FALSE,\n",
    "                     overwrite=T) # T = overskriver dersom filen allerede finnes, F = gir feilmelding dersom filen finnes"
   ]
  }
 ],
 "metadata": {
  "language_info": {
   "codemirror_mode": "r",
   "file_extension": ".r",
   "mimetype": "text/x-r-source",
   "name": "R"
  }
 },
 "nbformat": 4,
 "nbformat_minor": 5
}
