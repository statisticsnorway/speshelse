{
 "cells": [
  {
   "cell_type": "markdown",
   "id": "cf9c4409-1965-4db1-90a1-0eadebe358f0",
   "metadata": {},
   "source": [
    "# Opptaksområder 2023"
   ]
  },
  {
   "cell_type": "code",
   "execution_count": null,
   "id": "22c9b21e-784f-4470-be40-e50791c25114",
   "metadata": {},
   "outputs": [],
   "source": [
    "aargang <- 2023"
   ]
  },
  {
   "cell_type": "code",
   "execution_count": null,
   "id": "fb287050-78af-49d6-a0aa-3463df33e49a",
   "metadata": {},
   "outputs": [],
   "source": [
    "options(repr.matrix.max.rows=600, repr.matrix.max.cols=2000)\n",
    "sf::sf_use_s2(FALSE)\n",
    "\n",
    "suppressPackageStartupMessages({ \n",
    "library(tidyverse)\n",
    "library(readxl)\n",
    "library(klassR)\n",
    "library(sf)\n",
    "library(leaflet)\n",
    "        })\n",
    "\n",
    "source(\"/home/jovyan/fellesr/R/DAPLA_funcs.R\")"
   ]
  },
  {
   "cell_type": "markdown",
   "id": "fcbcfe3a-2b66-48e1-9cc2-94c22555016e",
   "metadata": {},
   "source": [
    " ## Kodeliste for opptaksområder i spesialisthelsetjenesten (DPS) t-1"
   ]
  },
  {
   "cell_type": "code",
   "execution_count": null,
   "id": "44c85eb3-d56c-457d-98e2-a96f1039203c",
   "metadata": {},
   "outputs": [],
   "source": [
    "opptaksomrader_KLASS <- klassR::GetKlass(632, output_style = \"wide\", date = c(paste0(aargang-1, \"-01-01\"))) %>%\n",
    "dplyr::rename(GRUNNKRETSNUMMER = code3, \n",
    "             GRUNNKRETS_NAVN = name3, \n",
    "             # OPPTAK_NUMMER = code3, \n",
    "             # OPPTAK = name3, \n",
    "             ORGNR_HF = code2, \n",
    "             NAVN_HF = name2, \n",
    "             ORGNR_RHF = code1, \n",
    "             NAVN_RHF = name1)\n",
    "\n",
    "nrow(opptaksomrader_KLASS)"
   ]
  },
  {
   "cell_type": "markdown",
   "id": "b9a727fb-1509-4942-b372-3940db1d8e70",
   "metadata": {},
   "source": [
    "### Korrespondanse mellom t og t-1 fra KLASS"
   ]
  },
  {
   "cell_type": "code",
   "execution_count": null,
   "id": "ffade7b8-9963-42f5-87bd-bc6e261b6ec8",
   "metadata": {},
   "outputs": [],
   "source": [
    "grunnkrets_KLASS <- klassR::GetKlass(1, date = c(paste0(aargang-1, \"-01-01\"), paste0(aargang, \"-01-01\")), correspond = TRUE) %>%\n",
    "dplyr::rename(GRUNNKRETSNUMMER_T1 = sourceCode, \n",
    "             GRUNNKRETSNUMMER = targetCode, \n",
    "             targetName = targetName) %>%\n",
    "dplyr::left_join(opptaksomrader_KLASS, by = c(\"GRUNNKRETSNUMMER_T1\" = \"GRUNNKRETSNUMMER\"))\n",
    "\n",
    "nrow(grunnkrets_KLASS)"
   ]
  },
  {
   "cell_type": "markdown",
   "id": "64e25ff9-a70f-4eb6-bf3e-ac02d3006369",
   "metadata": {},
   "source": [
    "## 1. Nye navn"
   ]
  },
  {
   "cell_type": "code",
   "execution_count": null,
   "id": "150629da-3d77-468a-969e-3110393be502",
   "metadata": {
    "tags": []
   },
   "outputs": [],
   "source": [
    "nytt_navn <- grunnkrets_KLASS %>%\n",
    "dplyr::filter(GRUNNKRETSNUMMER_T1 == GRUNNKRETSNUMMER) %>%\n",
    "dplyr::rename(GAMMELT_NAVN= sourceName, \n",
    "             NYTT_NAVN = targetName)\n",
    "\n",
    "nrow(nytt_navn)\n",
    "nytt_navn"
   ]
  },
  {
   "cell_type": "code",
   "execution_count": null,
   "id": "08740491-901f-41ad-9553-09c802f2ebd2",
   "metadata": {
    "tags": []
   },
   "outputs": [],
   "source": [
    "endringer <- grunnkrets_KLASS %>%\n",
    "dplyr::filter(GRUNNKRETSNUMMER_T1 !=GRUNNKRETSNUMMER )\n",
    "nrow(endringer)\n",
    "\n",
    "# SLETT\n",
    "unique(endringer$GRUNNKRETSNUMMER_T1)\n",
    "\n",
    "# LEGG TIL\n",
    "unique(endringer$GRUNNKRETSNUMMER)\n",
    "\n",
    "# endringer"
   ]
  },
  {
   "cell_type": "markdown",
   "id": "483626df-a3a8-448e-b16b-c32e5ee092fe",
   "metadata": {
    "tags": []
   },
   "source": [
    "#### Laster inn kart over opptaksområde på laveste nivå + grunnkretsene i listen for T og T1\n",
    "\n",
    "st_intersection? Sjekk at ingen av opptaksområdene bytter opptaksområde"
   ]
  },
  {
   "cell_type": "code",
   "execution_count": null,
   "id": "96066205-a800-4f04-bfc4-1ef22889d0e1",
   "metadata": {
    "tags": []
   },
   "outputs": [],
   "source": [
    "opptaksomrader_DPS_DPS_filsti <- paste0(\"ssb-prod-helse-speshelse-data-kilde/felles/Kart/\", aargang-1, \"/Opptaksområder/opptaksomrader_DPS_DPS_flate\", \"_\", aargang-1, \"/\")"
   ]
  },
  {
   "cell_type": "code",
   "execution_count": null,
   "id": "5b0684eb-d4d0-4957-815d-ee9855f16757",
   "metadata": {
    "tags": []
   },
   "outputs": [],
   "source": [
    "opptaksomrader_DPS_DPS <- open_dataset(opptaksomrader_DPS_DPS_filsti) %>%\n",
    "    sfarrow::read_sf_dataset() %>%\n",
    "sf::st_transform(crs = 4326)"
   ]
  },
  {
   "cell_type": "code",
   "execution_count": null,
   "id": "8f73b6c1-d8a3-4827-b3a4-58cebf1538d3",
   "metadata": {
    "tags": []
   },
   "outputs": [],
   "source": [
    "arbeidsmappe_kart <- paste0(\"ssb-prod-dapla-felles-data-delt/GIS/Kart/\", aargang, \"/\")\n",
    "grunnkrets_kart_filsti <- paste0(arbeidsmappe_kart, \"ABAS_grunnkrets_flate_\", aargang, \"/\")\n",
    "\n",
    "grunnkrets_kart <- open_dataset(grunnkrets_kart_filsti) %>%\n",
    "    sfarrow::read_sf_dataset() %>%\n",
    "sf::st_zm(drop = T) %>%\n",
    "sf::st_cast(\"MULTIPOLYGON\") %>%\n",
    "  sf::st_transform(crs = 4326) %>%\n",
    "  dplyr::rename(GRUNNKRETSNUMMER = GRUNNKRETS) %>%\n",
    "dplyr::filter(GRUNNKRETSNUMMER %in% unique(endringer$GRUNNKRETSNUMMER))\n",
    "\n",
    "arbeidsmappe_kart_t1 <- paste0(\"ssb-prod-dapla-felles-data-delt/GIS/Kart/\", aargang-1, \"/\")\n",
    "grunnkrets_kart_t1_filsti <- paste0(arbeidsmappe_kart_t1, \"ABAS_grunnkrets_flate_\", aargang-1, \"/\")\n",
    "\n",
    "grunnkrets_kart_t1 <- open_dataset(grunnkrets_kart_t1_filsti) %>%\n",
    "    sfarrow::read_sf_dataset() %>%\n",
    "sf::st_zm(drop = T) %>%\n",
    "sf::st_cast(\"MULTIPOLYGON\") %>%\n",
    "  sf::st_transform(crs = 4326) %>%\n",
    "  dplyr::rename(GRUNNKRETSNUMMER = GRUNNKRETS) %>%\n",
    "dplyr::filter(GRUNNKRETSNUMMER %in% unique(endringer$GRUNNKRETSNUMMER_T1))"
   ]
  },
  {
   "cell_type": "code",
   "execution_count": null,
   "id": "f2816c1b-0239-4e35-a7ad-05a053d954e8",
   "metadata": {
    "tags": []
   },
   "outputs": [],
   "source": [
    "ggplot() + \n",
    "geom_sf(data = opptaksomrader_DPS_DPS)"
   ]
  },
  {
   "cell_type": "code",
   "execution_count": null,
   "id": "c16863a1-f166-4dd4-9d4d-dfe409d619ef",
   "metadata": {
    "tags": []
   },
   "outputs": [],
   "source": [
    "test_t1 <- sf::st_intersection(grunnkrets_kart_t1, opptaksomrader_DPS_DPS) %>%\n",
    "data.frame() %>%\n",
    "dplyr::select(GRUNNKRETSNUMMER, OPPTAK) %>%\n",
    "dplyr::rename(OPPTAK_T1 = OPPTAK)"
   ]
  },
  {
   "cell_type": "code",
   "execution_count": null,
   "id": "0d3efd02-af66-445b-b3b5-82d1e2c97312",
   "metadata": {
    "tags": []
   },
   "outputs": [],
   "source": [
    "test <- sf::st_intersection(grunnkrets_kart, opptaksomrader_DPS_DPS) %>%\n",
    "data.frame() %>%\n",
    "dplyr::select(GRUNNKRETSNUMMER, OPPTAK) %>%\n",
    "dplyr::rename(OPPTAK_NY = OPPTAK)"
   ]
  },
  {
   "cell_type": "markdown",
   "id": "2cb99e17-b42b-4f5f-b67e-c40ea77b6855",
   "metadata": {
    "tags": []
   },
   "source": [
    "Dersom denne er tom så er det ingen av endringene i grunnkretser som skaper problemer :)"
   ]
  },
  {
   "cell_type": "code",
   "execution_count": null,
   "id": "4f49a133-0fa6-45f0-9f72-1a8c9760e721",
   "metadata": {
    "tags": []
   },
   "outputs": [],
   "source": [
    "endringer_2 <- endringer %>%\n",
    "dplyr::select(GRUNNKRETSNUMMER_T1, sourceName, GRUNNKRETSNUMMER, targetName) %>%\n",
    "dplyr::left_join(test_t1, by = c(\"GRUNNKRETSNUMMER_T1\" = \"GRUNNKRETSNUMMER\")) %>%\n",
    "dplyr::left_join(test, by = c(\"GRUNNKRETSNUMMER\" = \"GRUNNKRETSNUMMER\"))\n",
    "\n",
    "endringer_2 %>%\n",
    "dplyr::filter(OPPTAK_T1 != OPPTAK_NY)"
   ]
  },
  {
   "cell_type": "markdown",
   "id": "153f4dc4-cca3-43e7-a63b-3f255f4dbf03",
   "metadata": {},
   "source": [
    "## 2. Slett"
   ]
  },
  {
   "cell_type": "code",
   "execution_count": null,
   "id": "dfddc8d5-7a8b-4682-b96b-054c3aeff33e",
   "metadata": {
    "tags": []
   },
   "outputs": [],
   "source": [
    "slett <- endringer_2 %>%\n",
    "dplyr::distinct(GRUNNKRETSNUMMER_T1, sourceName, OPPTAK_T1)\n",
    "\n",
    "slett"
   ]
  },
  {
   "cell_type": "markdown",
   "id": "6a4c3ac1-d243-4d74-a140-83f7d579545f",
   "metadata": {},
   "source": [
    "## 3. Legg til"
   ]
  },
  {
   "cell_type": "code",
   "execution_count": null,
   "id": "e0f873bb-3993-4bbe-95f3-75a13341f19b",
   "metadata": {
    "tags": []
   },
   "outputs": [],
   "source": [
    "legg_til <- endringer_2 %>%\n",
    "dplyr::distinct(GRUNNKRETSNUMMER, targetName, OPPTAK_NY)\n",
    "\n",
    "legg_til"
   ]
  }
 ],
 "metadata": {
  "language_info": {
   "codemirror_mode": "r",
   "file_extension": ".r",
   "mimetype": "text/x-r-source",
   "name": "R"
  }
 },
 "nbformat": 4,
 "nbformat_minor": 5
}
