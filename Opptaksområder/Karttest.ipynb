{
 "cells": [
  {
   "cell_type": "markdown",
   "id": "fe0a2a10-0ac0-4390-92f7-ef0da3d2ac5f",
   "metadata": {},
   "source": [
    "# Karttest"
   ]
  },
  {
   "cell_type": "code",
   "execution_count": null,
   "id": "76c7b0fd-9eb9-47d2-aa36-f19587953bf0",
   "metadata": {},
   "outputs": [],
   "source": [
    "sf::sf_use_s2(FALSE)\n",
    "\n",
    "suppressPackageStartupMessages({ \n",
    "library(tidyverse)\n",
    "library(readxl)\n",
    "library(klassR)\n",
    "library(sf)\n",
    "library(leaflet)\n",
    "        })"
   ]
  },
  {
   "cell_type": "code",
   "execution_count": null,
   "id": "4710ca4f-1e13-4f78-88d2-f0bc5e3acae0",
   "metadata": {},
   "outputs": [],
   "source": [
    "aargang <- 2021\n",
    "aargang_t1 <- aargang-1"
   ]
  },
  {
   "cell_type": "code",
   "execution_count": null,
   "id": "64f0e638-e2cb-44ec-8bd4-1007d233e4ba",
   "metadata": {},
   "outputs": [],
   "source": [
    "arbeidsmappe <- \"/ssb/stamme01/fylkhels/speshelse/felles/\"\n",
    "\n",
    "arbeidsmappe_kart <- paste0(arbeidsmappe, \"kart/\", aargang, \"/\")\n",
    "arbeidsmappe_kart_t1 <- paste0(arbeidsmappe, \"kart/\", aargang_t1, \"/\")\n",
    "\n",
    "arbeidsmappe_opptak <- paste0(arbeidsmappe, \"opptaksomrader/\", aargang, \"/\")\n",
    "arbeidsmappe_opptak_t1 <- paste0(arbeidsmappe, \"opptaksomrader/\", aargang_t1, \"/\")"
   ]
  },
  {
   "cell_type": "markdown",
   "id": "c6b7dd05-45f2-49ec-b255-606f5fcfa3d6",
   "metadata": {},
   "source": [
    "## RHF"
   ]
  },
  {
   "cell_type": "code",
   "execution_count": null,
   "id": "f91d4941-9f27-44e0-a3d4-204de8334627",
   "metadata": {},
   "outputs": [],
   "source": [
    "opptaksomrade_RHF_filsti <- paste0(arbeidsmappe_opptak, \"opptaksomrader_SOM_RHF_\", aargang, \".parquet\")\n",
    "opptaksomrade_RHF_t1_filsti <- paste0(arbeidsmappe_opptak_t1, \"opptaksomrader_SOM_RHF_\", aargang_t1, \".parquet\")\n",
    "\n",
    "# # Lese inn filen som parquet med sfarrow\n",
    "opptaksomrade_RHF <- sfarrow::st_read_parquet(opptaksomrade_RHF_filsti)\n",
    "opptaksomrade_RHF_t1 <- sfarrow::st_read_parquet(opptaksomrade_RHF_t1_filsti)\n",
    "\n",
    "colnames(opptaksomrade_RHF)"
   ]
  },
  {
   "cell_type": "code",
   "execution_count": null,
   "id": "dd1e59e3-9cbb-4169-80af-08a43d5361e8",
   "metadata": {},
   "outputs": [],
   "source": [
    "unique(opptaksomrade_RHF_t1$NAVN_RHF)"
   ]
  },
  {
   "cell_type": "markdown",
   "id": "9b3377d9-f7de-4fbf-a128-e8bab8ed61ca",
   "metadata": {},
   "source": [
    "### Helse Vest"
   ]
  },
  {
   "cell_type": "code",
   "execution_count": null,
   "id": "2188aa32-67ff-4a27-b4f3-1b759ae1b4b8",
   "metadata": {},
   "outputs": [],
   "source": [
    "sf::st_crs(opptaksomrade_RHF)==sf::st_crs(opptaksomrade_RHF_t1)"
   ]
  },
  {
   "cell_type": "code",
   "execution_count": null,
   "id": "00e0af36-bc50-4229-84fd-8a08e4a66ec1",
   "metadata": {},
   "outputs": [],
   "source": [
    "opptaksomrade_RHF_1 <- opptaksomrade_RHF %>%\n",
    "dplyr::filter(NAVN_RHF == \"HELSE VEST RHF\")\n",
    "\n",
    "opptaksomrade_RHF_t1_1 <- opptaksomrade_RHF_t1 %>%\n",
    "dplyr::filter(NAVN_RHF == \"HELSE VEST RHF\")\n",
    "\n",
    "HELSE_VEST <- sf::st_difference(opptaksomrade_RHF_1, opptaksomrade_RHF_t1_1)\n",
    "\n",
    "ggplot() + \n",
    "geom_sf(data = HELSE_VEST)\n",
    "\n",
    "sf::st_area(HELSE_VEST)"
   ]
  },
  {
   "cell_type": "markdown",
   "id": "4eec6d53-ea4a-44c4-bb6f-5644f40ee462",
   "metadata": {},
   "source": [
    "### Helse Nord RHF"
   ]
  },
  {
   "cell_type": "code",
   "execution_count": null,
   "id": "6d4a54a0-826c-4e4d-8488-0ae68460294f",
   "metadata": {},
   "outputs": [],
   "source": [
    "opptaksomrade_RHF_1 <- opptaksomrade_RHF %>%\n",
    "dplyr::filter(NAVN_RHF == \"HELSE NORD RHF\")\n",
    "\n",
    "opptaksomrade_RHF_t1_1 <- opptaksomrade_RHF_t1 %>%\n",
    "dplyr::filter(NAVN_RHF == \"HELSE NORD RHF\")\n",
    "\n",
    "HELSE_NORD <- sf::st_difference(opptaksomrade_RHF_1, opptaksomrade_RHF_t1_1)\n",
    "\n",
    "ggplot() + \n",
    "geom_sf(data = HELSE_NORD)\n",
    "\n",
    "sf::st_area(HELSE_NORD)"
   ]
  },
  {
   "cell_type": "markdown",
   "id": "74262ecb-74e3-461f-b785-11d82891a008",
   "metadata": {},
   "source": [
    "### Helse Sør-Øst"
   ]
  },
  {
   "cell_type": "code",
   "execution_count": null,
   "id": "629aacea-6d03-4d55-8c83-fbcee594600a",
   "metadata": {},
   "outputs": [],
   "source": [
    "opptaksomrade_RHF_1 <- opptaksomrade_RHF %>%\n",
    "dplyr::filter(NAVN_RHF == \"HELSE SØR-ØST RHF\")\n",
    "\n",
    "opptaksomrade_RHF_t1_1 <- opptaksomrade_RHF_t1 %>%\n",
    "dplyr::filter(NAVN_RHF == \"HELSE SØR-ØST RHF\")\n",
    "\n",
    "HELSE_SOR_OST <- sf::st_difference(opptaksomrade_RHF_1, opptaksomrade_RHF_t1_1)\n",
    "\n",
    "ggplot() + \n",
    "geom_sf(data = HELSE_SOR_OST)\n",
    "\n",
    "sf::st_area(HELSE_SOR_OST)"
   ]
  },
  {
   "cell_type": "markdown",
   "id": "c95386bf-4032-456f-b5d8-6061a7ea076b",
   "metadata": {},
   "source": [
    "### Helse Midt-Norge"
   ]
  },
  {
   "cell_type": "code",
   "execution_count": null,
   "id": "a3d4ca4d-3958-47b1-a119-e2794eadd696",
   "metadata": {},
   "outputs": [],
   "source": [
    "opptaksomrade_RHF_1 <- opptaksomrade_RHF %>%\n",
    "dplyr::filter(NAVN_RHF == \"HELSE MIDT-NORGE RHF\")\n",
    "\n",
    "opptaksomrade_RHF_t1_1 <- opptaksomrade_RHF_t1 %>%\n",
    "dplyr::filter(NAVN_RHF == \"HELSE MIDT-NORGE RHF\")\n",
    "\n",
    "HELSE_MIDT <- sf::st_difference(opptaksomrade_RHF_1, opptaksomrade_RHF_t1_1)\n",
    "\n",
    "ggplot() + \n",
    "geom_sf(data = HELSE_MIDT)\n",
    "\n",
    "sf::st_area(HELSE_MIDT)"
   ]
  },
  {
   "cell_type": "markdown",
   "id": "eef1595c-b47c-4aa5-aac7-0c474fb8fe3f",
   "metadata": {},
   "source": [
    "## HF"
   ]
  },
  {
   "cell_type": "code",
   "execution_count": null,
   "id": "d9f396b1-fe3e-4b34-9b82-28a0a93341d4",
   "metadata": {},
   "outputs": [],
   "source": [
    "opptaksomrade_HF_filsti <- paste0(arbeidsmappe_opptak, \"opptaksomrader_SOM_HF_\", aargang, \".parquet\")\n",
    "opptaksomrade_HF_t1_filsti <- paste0(arbeidsmappe_opptak_t1, \"opptaksomrader_SOM_HF_\", aargang_t1, \".parquet\")\n",
    "\n",
    "# # Lese inn filen som parquet med sfarrow\n",
    "opptaksomrade_HF <- sfarrow::st_read_parquet(opptaksomrade_HF_filsti)\n",
    "opptaksomrade_HF_t1 <- sfarrow::st_read_parquet(opptaksomrade_HF_t1_filsti)"
   ]
  },
  {
   "cell_type": "code",
   "execution_count": null,
   "id": "ea79e66e-a855-42da-bdf8-afbbf750945f",
   "metadata": {},
   "outputs": [],
   "source": [
    "unique(opptaksomrade_HF_t1$NAVN_HF)"
   ]
  },
  {
   "cell_type": "code",
   "execution_count": null,
   "id": "35e3c2fd-cf96-428f-85a2-2527244df8c8",
   "metadata": {},
   "outputs": [],
   "source": [
    "HF <- \"UNIVERSITETSSYKEHUSET NORD-NORGE HF\"\n",
    "\n",
    "opptaksomrade_HF_1 <- opptaksomrade_HF %>%\n",
    "dplyr::filter(NAVN_HF == HF)\n",
    "\n",
    "opptaksomrade_HF_t1_1 <- opptaksomrade_HF_t1 %>%\n",
    "dplyr::filter(NAVN_HF == HF)\n",
    "\n",
    "HF <- sf::st_difference(opptaksomrade_HF_1, opptaksomrade_HF_t1_1)\n",
    "\n",
    "ggplot() + \n",
    "geom_sf(data = HF)\n",
    "\n",
    "sf::st_area(HF)"
   ]
  },
  {
   "cell_type": "markdown",
   "id": "c312fbde-551e-4c7d-b553-6785830187ec",
   "metadata": {},
   "source": [
    "## Lokasjon"
   ]
  },
  {
   "cell_type": "code",
   "execution_count": null,
   "id": "8715c136-f9aa-4bb2-be67-1b9325b7c1e8",
   "metadata": {},
   "outputs": [],
   "source": [
    "opptaksomrade_lokasjon_filsti <- paste0(arbeidsmappe_opptak, \"opptaksomrader_SOM_lokasjon_\", aargang, \".parquet\")\n",
    "opptaksomrade_lokasjon_t1_filsti <- paste0(arbeidsmappe_opptak_t1, \"opptaksomrader_SOM_lokasjon_\", aargang_t1, \".parquet\")\n",
    "\n",
    "# # Lese inn filen som parquet med sfarrow\n",
    "opptaksomrade_lokasjon <- sfarrow::st_read_parquet(opptaksomrade_lokasjon_filsti)\n",
    "opptaksomrade_lokasjon_t1 <- sfarrow::st_read_parquet(opptaksomrade_lokasjon_t1_filsti)"
   ]
  },
  {
   "cell_type": "code",
   "execution_count": null,
   "id": "c735a7f8-ebff-4e8f-a6a5-16cfeb1b3652",
   "metadata": {},
   "outputs": [],
   "source": [
    "unique(opptaksomrade_lokasjon$OPPTAK)"
   ]
  },
  {
   "cell_type": "code",
   "execution_count": null,
   "id": "e7e2352c-ab1c-4ed9-9e94-ee3da9a5fae2",
   "metadata": {},
   "outputs": [],
   "source": [
    "lokasjon <- \"Lillehammer\"\n",
    "\n",
    "opptaksomrade_lokasjon_1 <- opptaksomrade_lokasjon %>%\n",
    "dplyr::filter(OPPTAK == lokasjon)\n",
    "\n",
    "opptaksomrade_lokasjon_t1_1 <- opptaksomrade_lokasjon_t1 %>%\n",
    "dplyr::filter(OPPTAK == lokasjon)\n",
    "\n",
    "lokasjon <- sf::st_difference(opptaksomrade_lokasjon_1, opptaksomrade_lokasjon_t1_1)\n",
    "\n",
    "ggplot() + \n",
    "geom_sf(data = lokasjon)\n",
    "\n",
    "sf::st_area(lokasjon)"
   ]
  }
 ],
 "metadata": {
  "kernelspec": {
   "display_name": "R",
   "language": "R",
   "name": "ir"
  },
  "language_info": {
   "codemirror_mode": "r",
   "file_extension": ".r",
   "mimetype": "text/x-r-source",
   "name": "R",
   "pygments_lexer": "r",
   "version": "4.2.2"
  }
 },
 "nbformat": 4,
 "nbformat_minor": 5
}
