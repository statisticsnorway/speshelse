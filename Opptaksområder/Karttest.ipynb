{
 "cells": [
  {
   "cell_type": "markdown",
   "id": "fe0a2a10-0ac0-4390-92f7-ef0da3d2ac5f",
   "metadata": {},
   "source": [
    "# Karttest"
   ]
  },
  {
   "cell_type": "code",
   "execution_count": 1,
   "id": "76c7b0fd-9eb9-47d2-aa36-f19587953bf0",
   "metadata": {},
   "outputs": [
    {
     "name": "stdout",
     "output_type": "stream",
     "text": [
      "Spherical geometry (s2) switched off\n"
     ]
    }
   ],
   "source": [
    "sf::sf_use_s2(FALSE)\n",
    "\n",
    "suppressPackageStartupMessages({ \n",
    "library(tidyverse)\n",
    "library(readxl)\n",
    "library(klassR)\n",
    "library(sf)\n",
    "library(leaflet)\n",
    "        })"
   ]
  },
  {
   "cell_type": "code",
   "execution_count": 2,
   "id": "4710ca4f-1e13-4f78-88d2-f0bc5e3acae0",
   "metadata": {},
   "outputs": [],
   "source": [
    "aargang <- 2018\n",
    "aargang_t1 <- aargang-1"
   ]
  },
  {
   "cell_type": "code",
   "execution_count": 3,
   "id": "64f0e638-e2cb-44ec-8bd4-1007d233e4ba",
   "metadata": {},
   "outputs": [],
   "source": [
    "arbeidsmappe <- \"/ssb/stamme01/fylkhels/speshelse/felles/\"\n",
    "\n",
    "arbeidsmappe_kart <- paste0(arbeidsmappe, \"kart/\", aargang, \"/\")\n",
    "arbeidsmappe_kart_t1 <- paste0(arbeidsmappe, \"kart/\", aargang_t1, \"/\")\n",
    "\n",
    "arbeidsmappe_opptak <- paste0(arbeidsmappe, \"opptaksomrader/\", aargang, \"/\")\n",
    "arbeidsmappe_opptak_t1 <- paste0(arbeidsmappe, \"opptaksomrader/\", aargang_t1, \"/\")"
   ]
  },
  {
   "cell_type": "markdown",
   "id": "c6b7dd05-45f2-49ec-b255-606f5fcfa3d6",
   "metadata": {},
   "source": [
    "## RHF"
   ]
  },
  {
   "cell_type": "code",
   "execution_count": 4,
   "id": "f91d4941-9f27-44e0-a3d4-204de8334627",
   "metadata": {},
   "outputs": [
    {
     "data": {
      "text/html": [
       "<style>\n",
       ".list-inline {list-style: none; margin:0; padding: 0}\n",
       ".list-inline>li {display: inline-block}\n",
       ".list-inline>li:not(:last-child)::after {content: \"\\00b7\"; padding: 0 .5ex}\n",
       "</style>\n",
       "<ol class=list-inline><li>'NAVN_RHF'</li><li>'PERSONER'</li><li>'geometry'</li></ol>\n"
      ],
      "text/latex": [
       "\\begin{enumerate*}\n",
       "\\item 'NAVN\\_RHF'\n",
       "\\item 'PERSONER'\n",
       "\\item 'geometry'\n",
       "\\end{enumerate*}\n"
      ],
      "text/markdown": [
       "1. 'NAVN_RHF'\n",
       "2. 'PERSONER'\n",
       "3. 'geometry'\n",
       "\n",
       "\n"
      ],
      "text/plain": [
       "[1] \"NAVN_RHF\" \"PERSONER\" \"geometry\""
      ]
     },
     "metadata": {},
     "output_type": "display_data"
    }
   ],
   "source": [
    "opptaksomrade_RHF_filsti <- paste0(arbeidsmappe_opptak, \"opptaksomrader_SOM_RHF_\", aargang, \".parquet\")\n",
    "opptaksomrade_RHF_t1_filsti <- paste0(arbeidsmappe_opptak_t1, \"opptaksomrader_SOM_RHF_\", aargang_t1, \".parquet\")\n",
    "\n",
    "# # Lese inn filen som parquet med sfarrow\n",
    "opptaksomrade_RHF <- sfarrow::st_read_parquet(opptaksomrade_RHF_filsti)\n",
    "opptaksomrade_RHF_t1 <- sfarrow::st_read_parquet(opptaksomrade_RHF_t1_filsti)\n",
    "\n",
    "colnames(opptaksomrade_RHF)"
   ]
  },
  {
   "cell_type": "code",
   "execution_count": 5,
   "id": "dd1e59e3-9cbb-4169-80af-08a43d5361e8",
   "metadata": {},
   "outputs": [
    {
     "data": {
      "text/html": [
       "<style>\n",
       ".list-inline {list-style: none; margin:0; padding: 0}\n",
       ".list-inline>li {display: inline-block}\n",
       ".list-inline>li:not(:last-child)::after {content: \"\\00b7\"; padding: 0 .5ex}\n",
       "</style>\n",
       "<ol class=list-inline><li>'HELSE MIDT-NORGE RHF'</li><li>'HELSE NORD RHF'</li><li>'HELSE SØR-ØST RHF'</li><li>'HELSE VEST RHF'</li></ol>\n"
      ],
      "text/latex": [
       "\\begin{enumerate*}\n",
       "\\item 'HELSE MIDT-NORGE RHF'\n",
       "\\item 'HELSE NORD RHF'\n",
       "\\item 'HELSE SØR-ØST RHF'\n",
       "\\item 'HELSE VEST RHF'\n",
       "\\end{enumerate*}\n"
      ],
      "text/markdown": [
       "1. 'HELSE MIDT-NORGE RHF'\n",
       "2. 'HELSE NORD RHF'\n",
       "3. 'HELSE SØR-ØST RHF'\n",
       "4. 'HELSE VEST RHF'\n",
       "\n",
       "\n"
      ],
      "text/plain": [
       "[1] \"HELSE MIDT-NORGE RHF\" \"HELSE NORD RHF\"       \"HELSE SØR-ØST RHF\"   \n",
       "[4] \"HELSE VEST RHF\"      "
      ]
     },
     "metadata": {},
     "output_type": "display_data"
    }
   ],
   "source": [
    "unique(opptaksomrade_RHF_t1$NAVN_RHF)"
   ]
  },
  {
   "cell_type": "markdown",
   "id": "9b3377d9-f7de-4fbf-a128-e8bab8ed61ca",
   "metadata": {},
   "source": [
    "### Helse Vest"
   ]
  },
  {
   "cell_type": "code",
   "execution_count": 6,
   "id": "2188aa32-67ff-4a27-b4f3-1b759ae1b4b8",
   "metadata": {},
   "outputs": [
    {
     "data": {
      "text/html": [
       "FALSE"
      ],
      "text/latex": [
       "FALSE"
      ],
      "text/markdown": [
       "FALSE"
      ],
      "text/plain": [
       "[1] FALSE"
      ]
     },
     "metadata": {},
     "output_type": "display_data"
    }
   ],
   "source": [
    "sf::st_crs(opptaksomrade_RHF)==sf::st_crs(opptaksomrade_RHF_t1)"
   ]
  },
  {
   "cell_type": "code",
   "execution_count": 7,
   "id": "00e0af36-bc50-4229-84fd-8a08e4a66ec1",
   "metadata": {},
   "outputs": [
    {
     "ename": "ERROR",
     "evalue": "Error in geos_op2_geom(\"difference\", x, y, ...): st_crs(x) == st_crs(y) is not TRUE\n",
     "output_type": "error",
     "traceback": [
      "Error in geos_op2_geom(\"difference\", x, y, ...): st_crs(x) == st_crs(y) is not TRUE\nTraceback:\n",
      "1. sf::st_difference(opptaksomrade_RHF_1, opptaksomrade_RHF_t1_1)",
      "2. st_difference.sf(opptaksomrade_RHF_1, opptaksomrade_RHF_t1_1)",
      "3. geos_op2_df(x, y, geos_op2_geom(\"difference\", x, y, ...))",
      "4. geos_op2_geom(\"difference\", x, y, ...)",
      "5. stopifnot(st_crs(x) == st_crs(y))"
     ]
    }
   ],
   "source": [
    "opptaksomrade_RHF_1 <- opptaksomrade_RHF %>%\n",
    "dplyr::filter(NAVN_RHF == \"HELSE VEST RHF\")\n",
    "\n",
    "opptaksomrade_RHF_t1_1 <- opptaksomrade_RHF_t1 %>%\n",
    "dplyr::filter(NAVN_RHF == \"HELSE VEST RHF\")\n",
    "\n",
    "HELSE_VEST <- sf::st_difference(opptaksomrade_RHF_1, opptaksomrade_RHF_t1_1)\n",
    "\n",
    "ggplot() + \n",
    "geom_sf(data = HELSE_VEST)\n",
    "\n",
    "sf::st_area(HELSE_VEST)"
   ]
  },
  {
   "cell_type": "markdown",
   "id": "4eec6d53-ea4a-44c4-bb6f-5644f40ee462",
   "metadata": {},
   "source": [
    "### Helse Nord RHF"
   ]
  },
  {
   "cell_type": "code",
   "execution_count": null,
   "id": "6d4a54a0-826c-4e4d-8488-0ae68460294f",
   "metadata": {},
   "outputs": [],
   "source": [
    "opptaksomrade_RHF_1 <- opptaksomrade_RHF %>%\n",
    "dplyr::filter(NAVN_RHF == \"HELSE NORD RHF\")\n",
    "\n",
    "opptaksomrade_RHF_t1_1 <- opptaksomrade_RHF_t1 %>%\n",
    "dplyr::filter(NAVN_RHF == \"HELSE NORD RHF\")\n",
    "\n",
    "HELSE_NORD <- sf::st_difference(opptaksomrade_RHF_1, opptaksomrade_RHF_t1_1)\n",
    "\n",
    "ggplot() + \n",
    "geom_sf(data = HELSE_NORD)\n",
    "\n",
    "sf::st_area(HELSE_NORD)"
   ]
  },
  {
   "cell_type": "markdown",
   "id": "74262ecb-74e3-461f-b785-11d82891a008",
   "metadata": {},
   "source": [
    "### Helse Sør-Øst"
   ]
  },
  {
   "cell_type": "code",
   "execution_count": null,
   "id": "629aacea-6d03-4d55-8c83-fbcee594600a",
   "metadata": {},
   "outputs": [],
   "source": [
    "opptaksomrade_RHF_1 <- opptaksomrade_RHF %>%\n",
    "dplyr::filter(NAVN_RHF == \"HELSE SØR-ØST RHF\")\n",
    "\n",
    "opptaksomrade_RHF_t1_1 <- opptaksomrade_RHF_t1 %>%\n",
    "dplyr::filter(NAVN_RHF == \"HELSE SØR-ØST RHF\")\n",
    "\n",
    "HELSE_SOR_OST <- sf::st_difference(opptaksomrade_RHF_1, opptaksomrade_RHF_t1_1)\n",
    "\n",
    "ggplot() + \n",
    "geom_sf(data = HELSE_SOR_OST)\n",
    "\n",
    "nrow(HELSE_SOR_OST)\n",
    "sf::st_area(HELSE_SOR_OST)"
   ]
  },
  {
   "cell_type": "markdown",
   "id": "c95386bf-4032-456f-b5d8-6061a7ea076b",
   "metadata": {},
   "source": [
    "### Helse Midt-Norge"
   ]
  },
  {
   "cell_type": "code",
   "execution_count": null,
   "id": "a3d4ca4d-3958-47b1-a119-e2794eadd696",
   "metadata": {},
   "outputs": [],
   "source": [
    "opptaksomrade_RHF_1 <- opptaksomrade_RHF %>%\n",
    "dplyr::filter(NAVN_RHF == \"HELSE MIDT-NORGE RHF\")\n",
    "\n",
    "opptaksomrade_RHF_t1_1 <- opptaksomrade_RHF_t1 %>%\n",
    "dplyr::filter(NAVN_RHF == \"HELSE MIDT-NORGE RHF\")\n",
    "\n",
    "HELSE_MIDT <- sf::st_difference(opptaksomrade_RHF_1, opptaksomrade_RHF_t1_1)\n",
    "\n",
    "ggplot() + \n",
    "geom_sf(data = HELSE_MIDT)\n",
    "\n",
    "nrow(HELSE_MIDT)\n",
    "sf::st_area(HELSE_MIDT)"
   ]
  },
  {
   "cell_type": "markdown",
   "id": "eef1595c-b47c-4aa5-aac7-0c474fb8fe3f",
   "metadata": {},
   "source": [
    "## HF"
   ]
  },
  {
   "cell_type": "code",
   "execution_count": null,
   "id": "d9f396b1-fe3e-4b34-9b82-28a0a93341d4",
   "metadata": {},
   "outputs": [],
   "source": [
    "opptaksomrade_HF_filsti <- paste0(arbeidsmappe_opptak, \"opptaksomrader_SOM_HF_\", aargang, \".parquet\")\n",
    "opptaksomrade_HF_t1_filsti <- paste0(arbeidsmappe_opptak_t1, \"opptaksomrader_SOM_HF_\", aargang_t1, \".parquet\")\n",
    "\n",
    "# # Lese inn filen som parquet med sfarrow\n",
    "opptaksomrade_HF <- sfarrow::st_read_parquet(opptaksomrade_HF_filsti)\n",
    "opptaksomrade_HF_t1 <- sfarrow::st_read_parquet(opptaksomrade_HF_t1_filsti)"
   ]
  },
  {
   "cell_type": "code",
   "execution_count": null,
   "id": "ea79e66e-a855-42da-bdf8-afbbf750945f",
   "metadata": {},
   "outputs": [],
   "source": [
    "unique(opptaksomrade_HF_t1$NAVN_HF)"
   ]
  },
  {
   "cell_type": "code",
   "execution_count": null,
   "id": "35e3c2fd-cf96-428f-85a2-2527244df8c8",
   "metadata": {},
   "outputs": [],
   "source": [
    "HF <- \"UNIVERSITETSSYKEHUSET NORD-NORGE HF\"\n",
    "\n",
    "opptaksomrade_HF_1 <- opptaksomrade_HF %>%\n",
    "dplyr::filter(NAVN_HF == HF)\n",
    "\n",
    "opptaksomrade_HF_t1_1 <- opptaksomrade_HF_t1 %>%\n",
    "dplyr::filter(NAVN_HF == HF)\n",
    "\n",
    "HF <- sf::st_difference(opptaksomrade_HF_1, opptaksomrade_HF_t1_1)\n",
    "\n",
    "ggplot() + \n",
    "geom_sf(data = HF)\n",
    "\n",
    "# HF$area <- sf::st_area(HF)\n",
    "\n",
    "# HF %>%\n",
    "# data.frame()\n",
    "\n",
    "nrow(HF)"
   ]
  },
  {
   "cell_type": "markdown",
   "id": "c312fbde-551e-4c7d-b553-6785830187ec",
   "metadata": {},
   "source": [
    "## Lokasjon"
   ]
  },
  {
   "cell_type": "code",
   "execution_count": null,
   "id": "8715c136-f9aa-4bb2-be67-1b9325b7c1e8",
   "metadata": {},
   "outputs": [],
   "source": [
    "opptaksomrade_lokasjon_filsti <- paste0(arbeidsmappe_opptak, \"opptaksomrader_SOM_lokasjon_\", aargang, \".parquet\")\n",
    "opptaksomrade_lokasjon_t1_filsti <- paste0(arbeidsmappe_opptak_t1, \"opptaksomrader_SOM_lokasjon_\", aargang_t1, \".parquet\")\n",
    "\n",
    "# # Lese inn filen som parquet med sfarrow\n",
    "opptaksomrade_lokasjon <- sfarrow::st_read_parquet(opptaksomrade_lokasjon_filsti)\n",
    "opptaksomrade_lokasjon_t1 <- sfarrow::st_read_parquet(opptaksomrade_lokasjon_t1_filsti)"
   ]
  },
  {
   "cell_type": "code",
   "execution_count": null,
   "id": "c735a7f8-ebff-4e8f-a6a5-16cfeb1b3652",
   "metadata": {},
   "outputs": [],
   "source": [
    "unique(opptaksomrade_lokasjon$OPPTAK)"
   ]
  },
  {
   "cell_type": "code",
   "execution_count": null,
   "id": "e7e2352c-ab1c-4ed9-9e94-ee3da9a5fae2",
   "metadata": {},
   "outputs": [],
   "source": [
    "lokasjon <- \"Narvik\"\n",
    "\n",
    "opptaksomrade_lokasjon_1 <- opptaksomrade_lokasjon %>%\n",
    "dplyr::filter(OPPTAK == lokasjon)\n",
    "\n",
    "opptaksomrade_lokasjon_t1_1 <- opptaksomrade_lokasjon_t1 %>%\n",
    "dplyr::filter(OPPTAK == lokasjon)\n",
    "\n",
    "lokasjon <- sf::st_difference(opptaksomrade_lokasjon_1, opptaksomrade_lokasjon_t1_1)\n",
    "\n",
    "ggplot() + \n",
    "geom_sf(data = lokasjon)\n",
    "\n",
    "sf::st_area(lokasjon)"
   ]
  },
  {
   "cell_type": "code",
   "execution_count": null,
   "id": "bd6ce0b5-a0ba-492f-bec0-f86e5ec6aee7",
   "metadata": {},
   "outputs": [],
   "source": [
    "lokasjon_2 <- \"Bodø\"\n",
    "\n",
    "opptaksomrade_lokasjon_1 <- opptaksomrade_lokasjon %>%\n",
    "dplyr::filter(OPPTAK == lokasjon_2)\n",
    "\n",
    "opptaksomrade_lokasjon_t1_1 <- opptaksomrade_lokasjon_t1 %>%\n",
    "dplyr::filter(OPPTAK == lokasjon_2)\n",
    "\n",
    "lokasjon_2 <- sf::st_difference(opptaksomrade_lokasjon_1, opptaksomrade_lokasjon_t1_1)\n",
    "\n",
    "ggplot() + \n",
    "geom_sf(data = lokasjon_2)\n",
    "\n",
    "sf::st_area(lokasjon_2)"
   ]
  },
  {
   "cell_type": "markdown",
   "id": "41b8c1b2-cd67-4e6e-9ac2-5fa18bf2ec26",
   "metadata": {},
   "source": [
    "## Laster inn bereg"
   ]
  },
  {
   "cell_type": "code",
   "execution_count": null,
   "id": "f2798ee9-788a-4300-a68f-e95511678cca",
   "metadata": {},
   "outputs": [],
   "source": [
    "# bereg_filsti <- paste0(\"/ssb/stamme04/bereg/person/wk24/bosatte_koorfil_g\", aargang, \"m01d01eslep.sas7bdat\")\n",
    "\n",
    "# bosatte_koorfil <- haven::read_sas(bereg_filsti)\n",
    "\n",
    "# bosatte_koorfil <- bosatte_koorfil %>%\n",
    "#   dplyr::mutate(GRUNNKRETSNUMMER = paste0(KOMMNR, gkrets),\n",
    "#                 XY = paste0(X_KOORDINAT, \", \", Y_KOORDINAT)) %>%\n",
    "#   dplyr::mutate(ID = paste0(KOMMNR, \"-\",  # Lager ID\n",
    "#                             GATENR_GAARDSNR, \"-\",\n",
    "#                             HUSNR_BRUKSNR, \"-\",\n",
    "#                             BOKSTAV_FESTENR, \"-\",\n",
    "#                             XY)) %>%\n",
    "#   dplyr::filter(!is.na(X_KOORDINAT), # Sletter personer uten adressekoordinater\n",
    "#                 !is.na(Y_KOORDINAT))"
   ]
  },
  {
   "cell_type": "code",
   "execution_count": null,
   "id": "142b30c9-f6cf-4d74-838e-1699896536e8",
   "metadata": {},
   "outputs": [],
   "source": [
    "# opptaksomrader_KLASS <- klassR::GetKlass(629, output_style = \"wide\", date = c(paste0(aargang, \"-01-01\"))) %>%\n",
    "# dplyr::rename(GRUNNKRETSNUMMER = code4, \n",
    "#              GRUNNKRETS_NAVN = name4, \n",
    "#              OPPTAK_NUMMER = code3, \n",
    "#              OPPTAK = name3, \n",
    "#              ORGNR_HF = code2, \n",
    "#              NAVN_HF = name2, \n",
    "#              ORGNR_RHF = code1, \n",
    "#              NAVN_RHF = name1)\n",
    "\n",
    "# nrow(opptaksomrader_KLASS)"
   ]
  },
  {
   "cell_type": "code",
   "execution_count": null,
   "id": "c795c9ee-dc8a-498c-b942-b5b26d94f4f7",
   "metadata": {},
   "outputs": [],
   "source": [
    "# opptaksomrader_KLASS_2 <- opptaksomrader_KLASS %>%\n",
    "# dplyr::filter(OPPTAK %in% c(\"Bodø\", \"Narvik\"))"
   ]
  },
  {
   "cell_type": "code",
   "execution_count": null,
   "id": "97284677-7c6d-45ca-8c7b-93213d29e2be",
   "metadata": {},
   "outputs": [],
   "source": [
    "# bosatte_koorfil_2 <- bosatte_koorfil %>%\n",
    "# dplyr::filter(GRUNNKRETSNUMMER %in% unique(opptaksomrader_KLASS_2$GRUNNKRETSNUMMER))"
   ]
  },
  {
   "cell_type": "code",
   "execution_count": null,
   "id": "62ba4056-2237-4a9e-8611-44781208b10d",
   "metadata": {},
   "outputs": [],
   "source": [
    "# class(bosatte_koorfil_2)\n",
    "# nrow(bosatte_koorfil_2)"
   ]
  },
  {
   "cell_type": "code",
   "execution_count": null,
   "id": "97ddde3f-e975-43c1-9706-60c6c4172116",
   "metadata": {},
   "outputs": [],
   "source": [
    "# bosatte_koorfil_2 <- bosatte_koorfil_2 %>%\n",
    "#   dplyr::rename(X = X_KOORDINAT, \n",
    "#                 Y = Y_KOORDINAT) %>%\n",
    "#   dplyr::mutate(x = as.numeric(as.character(X)),\n",
    "#                 Y = as.numeric(as.character(Y))) %>%\n",
    "#   sf::st_as_sf(coords = c(\"Y\", \"X\"), crs = 25833) %>%\n",
    "# dplyr::select(-x)"
   ]
  },
  {
   "cell_type": "code",
   "execution_count": null,
   "id": "e8d9db80-dab6-4eb8-ade0-55573e02ad3d",
   "metadata": {},
   "outputs": [],
   "source": [
    "# class(bosatte_koorfil_2)\n",
    "# class(lokasjon_2)"
   ]
  },
  {
   "cell_type": "code",
   "execution_count": null,
   "id": "f2ddcf6b-5a8b-460c-92db-30fe2ba57ead",
   "metadata": {},
   "outputs": [],
   "source": [
    "# colnames(bosatte_koorfil_2)"
   ]
  },
  {
   "cell_type": "code",
   "execution_count": null,
   "id": "d4341075-872c-4b57-8ed2-1d18d2ca9591",
   "metadata": {},
   "outputs": [],
   "source": [
    "# lokasjon_3 <- c(\"Narvik\", \"Bodø\")\n",
    "\n",
    "# opptaksomrade_lokasjon_3 <- opptaksomrade_lokasjon %>%\n",
    "# dplyr::filter(OPPTAK %in% lokasjon_3)"
   ]
  },
  {
   "cell_type": "code",
   "execution_count": null,
   "id": "8eaee770-9070-401d-a5ec-5414bca9572e",
   "metadata": {},
   "outputs": [],
   "source": [
    "# test <- sf::st_filter(bosatte_koorfil_2, lokasjon_2) # opptaksomrade_lokasjon_3\n",
    "# nrow(test)"
   ]
  },
  {
   "cell_type": "code",
   "execution_count": null,
   "id": "1e6ba89c-de0e-40cb-aa44-6f91964653eb",
   "metadata": {},
   "outputs": [],
   "source": [
    "# ggplot() + \n",
    "# geom_sf(data = opptaksomrade_lokasjon_3) + # lokasjon_2\n",
    "# geom_sf(data = bosatte_koorfil_2) # test"
   ]
  },
  {
   "cell_type": "code",
   "execution_count": null,
   "id": "e60d48e3-34d5-4e6e-b569-6779567e4eca",
   "metadata": {},
   "outputs": [],
   "source": []
  }
 ],
 "metadata": {
  "kernelspec": {
   "display_name": "R",
   "language": "R",
   "name": "ir"
  },
  "language_info": {
   "codemirror_mode": "r",
   "file_extension": ".r",
   "mimetype": "text/x-r-source",
   "name": "R",
   "pygments_lexer": "r",
   "version": "4.2.2"
  }
 },
 "nbformat": 4,
 "nbformat_minor": 5
}
