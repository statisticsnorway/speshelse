{
 "cells": [
  {
   "cell_type": "markdown",
   "id": "cf9c4409-1965-4db1-90a1-0eadebe358f0",
   "metadata": {},
   "source": [
    "# Opptaksområder 2016\n",
    "\n",
    "OBS: lag fix for uoppgitte kommuner før den lastes opp!"
   ]
  },
  {
   "cell_type": "code",
   "execution_count": 1,
   "id": "22c9b21e-784f-4470-be40-e50791c25114",
   "metadata": {},
   "outputs": [],
   "source": [
    "aargang <- 2016"
   ]
  },
  {
   "cell_type": "code",
   "execution_count": 2,
   "id": "fb287050-78af-49d6-a0aa-3463df33e49a",
   "metadata": {},
   "outputs": [
    {
     "name": "stderr",
     "output_type": "stream",
     "text": [
      "Warning message in system(\"timedatectl\", intern = TRUE):\n",
      "“running command 'timedatectl' had status 1”\n"
     ]
    }
   ],
   "source": [
    "options(repr.matrix.max.rows=600, repr.matrix.max.cols=2000)\n",
    "\n",
    "suppressPackageStartupMessages({ \n",
    "library(tidyverse)\n",
    "library(readxl)\n",
    "library(klassR)\n",
    "library(sf)\n",
    "library(leaflet)\n",
    "        })"
   ]
  },
  {
   "cell_type": "markdown",
   "id": "55ec5182-3739-4277-939a-51a18009dd28",
   "metadata": {},
   "source": [
    "### Filstier"
   ]
  },
  {
   "cell_type": "code",
   "execution_count": 3,
   "id": "995c29bb-a167-483d-ae4a-f18636d26dc8",
   "metadata": {},
   "outputs": [],
   "source": [
    "arbeidsmappe <- \"/ssb/stamme01/fylkhels/speshelse/felles/\"\n",
    "arbeidsmappe_kart <- paste0(arbeidsmappe, \"kart/\", aargang, \"/\")\n",
    "\n",
    "arbeidsmappe_opptak <- paste0(arbeidsmappe, \"opptaksomrader/\", aargang, \"/\")\n",
    "\n",
    "if (file.exists(arbeidsmappe_opptak)==FALSE) {\n",
    "  dir.create(arbeidsmappe_opptak)\n",
    "}"
   ]
  },
  {
   "cell_type": "markdown",
   "id": "b1c0f259-2753-4797-baf7-725a6b5ffb19",
   "metadata": {},
   "source": [
    "## Laster inn kart (grunnkrets)"
   ]
  },
  {
   "cell_type": "code",
   "execution_count": 4,
   "id": "060a8be3-a8ad-46a0-8088-266c6e568fdf",
   "metadata": {},
   "outputs": [],
   "source": [
    "# start.time <- Sys.time()\n",
    "\n",
    "#   rename_geometry <- function(g, name){\n",
    "#     current = attr(g, \"sf_column\")\n",
    "#     names(g)[names(g)==current] = name\n",
    "#     sf::st_geometry(g)=name\n",
    "#     g\n",
    "#   }\n",
    "\n",
    "# # grunnkrets_kart_filsti <- paste0(arbeidsmappe_kart, \"ABAS_grunnkrets_utenhav_\", aargang, \".parquet\")\n",
    "# grunnkrets_kart_filsti <- paste0(arbeidsmappe_kart, \"ABAS_grunnkrets_flate_\", aargang, \".parquet\")\n",
    "\n",
    "# # Lese inn filen som parquet med sfarrow\n",
    "# grunnkrets_kart <- sfarrow::st_read_parquet(grunnkrets_kart_filsti) %>%\n",
    "# sf::st_zm(drop = T) %>%\n",
    "# sf::st_cast(\"MULTIPOLYGON\") %>%\n",
    "#   sf::st_transform(crs = 4326) %>%\n",
    "#   dplyr::rename(GRUNNKRETSNUMMER = GRUNNKRETS)\n",
    "\n",
    "# grunnkrets_kart <- rename_geometry(grunnkrets_kart, \"geometry\")\n",
    "# sf::st_geometry(grunnkrets_kart) <- \"geometry\"\n",
    "\n",
    "# end.time <- Sys.time()\n",
    "# time.taken <- end.time - start.time\n",
    "# time.taken"
   ]
  },
  {
   "cell_type": "code",
   "execution_count": 5,
   "id": "fb24ff5f-b7f7-4c1f-a750-ef776c77bf3a",
   "metadata": {},
   "outputs": [],
   "source": [
    "# grunnkrets_kart_test <- grunnkrets_kart %>%\n",
    "# dplyr::filter(GRUNNKRETSNUMMER %in% c(\"14440104\", \"14490113\")) %>%\n",
    "# sf::st_transform(crs = 4326)"
   ]
  },
  {
   "cell_type": "code",
   "execution_count": 6,
   "id": "259ec41b-519e-45de-8c12-567d0208fed3",
   "metadata": {},
   "outputs": [],
   "source": [
    "# T04317 <- PxWebApiData::ApiData(04317, ContentsCode = \"Personer\", \n",
    "#                                 Grunnkretser = TRUE, \n",
    "#                                 Tid = as.character(aargang+1)) [[2]] %>%\n",
    "#   dplyr::filter(!is.na(value)) %>%\n",
    "#   dplyr::rename(GRUNNKRETSNUMMER = Grunnkretser,\n",
    "#                 PERSONER = value) %>%\n",
    "#   dplyr::select(GRUNNKRETSNUMMER, PERSONER)\n",
    "\n",
    "# T04317 %>%\n",
    "# dplyr::filter(GRUNNKRETSNUMMER %in% c(\"14440108\", \"14490114\"))"
   ]
  },
  {
   "cell_type": "code",
   "execution_count": 7,
   "id": "02be94ba-90a7-483f-b21f-4a3b3a0d56fd",
   "metadata": {},
   "outputs": [],
   "source": [
    "# T04317_t1 <- PxWebApiData::ApiData(04317, ContentsCode = \"Personer\", \n",
    "#                                 Grunnkretser = TRUE, \n",
    "#                                 Tid = as.character(aargang)) [[2]] %>%\n",
    "#   dplyr::filter(!is.na(value)) %>%\n",
    "#   dplyr::rename(GRUNNKRETSNUMMER = Grunnkretser,\n",
    "#                 PERSONER = value) %>%\n",
    "#   dplyr::select(GRUNNKRETSNUMMER, PERSONER)\n",
    "\n",
    "# T04317_t1 %>%\n",
    "# dplyr::filter(GRUNNKRETSNUMMER %in% c(\"14440104\", \"14490113\"))"
   ]
  },
  {
   "cell_type": "markdown",
   "id": "fcbcfe3a-2b66-48e1-9cc2-94c22555016e",
   "metadata": {},
   "source": [
    "## Kodeliste for opptaksområder i spesialisthelsetjenesten (somatikk)"
   ]
  },
  {
   "cell_type": "code",
   "execution_count": 8,
   "id": "44c85eb3-d56c-457d-98e2-a96f1039203c",
   "metadata": {},
   "outputs": [
    {
     "data": {
      "text/html": [
       "14045"
      ],
      "text/latex": [
       "14045"
      ],
      "text/markdown": [
       "14045"
      ],
      "text/plain": [
       "[1] 14045"
      ]
     },
     "metadata": {},
     "output_type": "display_data"
    }
   ],
   "source": [
    "opptaksomrader_KLASS <- klassR::GetKlass(629, output_style = \"wide\", date = c(paste0(aargang+1, \"-01-01\"))) %>%\n",
    "dplyr::rename(GRUNNKRETSNUMMER = code4, \n",
    "             GRUNNKRETS_NAVN = name4, \n",
    "             OPPTAK_NUMMER = code3, \n",
    "             OPPTAK = name3, \n",
    "             ORGNR_HF = code2, \n",
    "             NAVN_HF = name2, \n",
    "             ORGNR_RHF = code1, \n",
    "             NAVN_RHF = name1)\n",
    "\n",
    "nrow(opptaksomrader_KLASS)"
   ]
  },
  {
   "cell_type": "markdown",
   "id": "b9a727fb-1509-4942-b372-3940db1d8e70",
   "metadata": {},
   "source": [
    "### Korrespondanse mellom t og t-1 fra KLASS"
   ]
  },
  {
   "cell_type": "code",
   "execution_count": 9,
   "id": "ffade7b8-9963-42f5-87bd-bc6e261b6ec8",
   "metadata": {},
   "outputs": [
    {
     "data": {
      "text/html": [
       "241"
      ],
      "text/latex": [
       "241"
      ],
      "text/markdown": [
       "241"
      ],
      "text/plain": [
       "[1] 241"
      ]
     },
     "metadata": {},
     "output_type": "display_data"
    }
   ],
   "source": [
    "grunnkrets_KLASS <- klassR::GetKlass(1, date = c(paste0(aargang, \"-01-01\"), paste0(aargang+1, \"-01-01\")), correspond = TRUE) %>%\n",
    "dplyr::rename(GRUNNKRETSNUMMER_T1 = sourceCode, \n",
    "             GRUNNKRETSNUMMER = targetCode, \n",
    "             targetName = targetName)\n",
    "\n",
    "# grunnkrets_KLASS <- grunnkrets_KLASS %>%\n",
    "# dplyr::filter(!GRUNNKRETSNUMMER_T1 %in% c(\"14440104\") |  !GRUNNKRETSNUMMER %in% c(\"14490114\")) # Fjerner Kjøs fra Markane\n",
    "\n",
    "nrow(grunnkrets_KLASS)"
   ]
  },
  {
   "cell_type": "markdown",
   "id": "c7ece272-ec42-40bc-b8f8-35298ea5e1db",
   "metadata": {},
   "source": [
    "OK"
   ]
  },
  {
   "cell_type": "code",
   "execution_count": 10,
   "id": "cd06e7b8-bcd1-47e6-baa7-ad8ac36f1cac",
   "metadata": {},
   "outputs": [
    {
     "data": {
      "text/html": [
       "<table class=\"dataframe\">\n",
       "<caption>A grouped_df: 2 × 4</caption>\n",
       "<thead>\n",
       "\t<tr><th scope=col>GRUNNKRETSNUMMER_T1</th><th scope=col>sourceName</th><th scope=col>GRUNNKRETSNUMMER</th><th scope=col>targetName</th></tr>\n",
       "\t<tr><th scope=col>&lt;chr&gt;</th><th scope=col>&lt;chr&gt;</th><th scope=col>&lt;chr&gt;</th><th scope=col>&lt;chr&gt;</th></tr>\n",
       "</thead>\n",
       "<tbody>\n",
       "\t<tr><td>07200103</td><td>Råstad</td><td>07040118</td><td>Vearåsen</td></tr>\n",
       "\t<tr><td>07200301</td><td>Stein </td><td>07040118</td><td>Vearåsen</td></tr>\n",
       "</tbody>\n",
       "</table>\n"
      ],
      "text/latex": [
       "A grouped\\_df: 2 × 4\n",
       "\\begin{tabular}{llll}\n",
       " GRUNNKRETSNUMMER\\_T1 & sourceName & GRUNNKRETSNUMMER & targetName\\\\\n",
       " <chr> & <chr> & <chr> & <chr>\\\\\n",
       "\\hline\n",
       "\t 07200103 & Råstad & 07040118 & Vearåsen\\\\\n",
       "\t 07200301 & Stein  & 07040118 & Vearåsen\\\\\n",
       "\\end{tabular}\n"
      ],
      "text/markdown": [
       "\n",
       "A grouped_df: 2 × 4\n",
       "\n",
       "| GRUNNKRETSNUMMER_T1 &lt;chr&gt; | sourceName &lt;chr&gt; | GRUNNKRETSNUMMER &lt;chr&gt; | targetName &lt;chr&gt; |\n",
       "|---|---|---|---|\n",
       "| 07200103 | Råstad | 07040118 | Vearåsen |\n",
       "| 07200301 | Stein  | 07040118 | Vearåsen |\n",
       "\n"
      ],
      "text/plain": [
       "  GRUNNKRETSNUMMER_T1 sourceName GRUNNKRETSNUMMER targetName\n",
       "1 07200103            Råstad     07040118         Vearåsen  \n",
       "2 07200301            Stein      07040118         Vearåsen  "
      ]
     },
     "metadata": {},
     "output_type": "display_data"
    }
   ],
   "source": [
    "grunnkrets_KLASS %>%\n",
    "group_by(GRUNNKRETSNUMMER) %>% # grunnkrets_KLASS_T1_2\n",
    "filter(n()>1)"
   ]
  },
  {
   "cell_type": "code",
   "execution_count": 11,
   "id": "1b443eb1-67e5-4c27-8965-8b27d00308aa",
   "metadata": {},
   "outputs": [
    {
     "data": {
      "text/html": [
       "<table class=\"dataframe\">\n",
       "<caption>A grouped_df: 61 × 4</caption>\n",
       "<thead>\n",
       "\t<tr><th scope=col>GRUNNKRETSNUMMER_T1</th><th scope=col>sourceName</th><th scope=col>GRUNNKRETSNUMMER</th><th scope=col>targetName</th></tr>\n",
       "\t<tr><th scope=col>&lt;chr&gt;</th><th scope=col>&lt;chr&gt;</th><th scope=col>&lt;chr&gt;</th><th scope=col>&lt;chr&gt;</th></tr>\n",
       "</thead>\n",
       "<tbody>\n",
       "\t<tr><td>03010203</td><td>Sentrum 2 /rode 3</td><td>03010212</td><td>Sentrum 2/Rode 12</td></tr>\n",
       "\t<tr><td>03010203</td><td>Sentrum 2 /rode 3</td><td>03010213</td><td>Sentrum 2/Rode 13</td></tr>\n",
       "\t<tr><td>03011802</td><td>Sandaker rode 2  </td><td>03011803</td><td>Sandaker Rode 3  </td></tr>\n",
       "\t<tr><td>03011802</td><td>Sandaker rode 2  </td><td>03011804</td><td>Sandaker Rode 4  </td></tr>\n",
       "\t<tr><td>03011905</td><td>Åsen rode 5      </td><td>03011909</td><td>Åsen Rode 9      </td></tr>\n",
       "\t<tr><td>03011905</td><td>Åsen rode 5      </td><td>03011910</td><td>Åsen Rode 10     </td></tr>\n",
       "\t<tr><td>03012501</td><td>Grønland rode 1  </td><td>03012507</td><td>Grønland rode 7  </td></tr>\n",
       "\t<tr><td>03012501</td><td>Grønland rode 1  </td><td>03012508</td><td>Grønland rode 8  </td></tr>\n",
       "\t<tr><td>03012501</td><td>Grønland rode 1  </td><td>03012509</td><td>Grønland rode 9  </td></tr>\n",
       "\t<tr><td>03012901</td><td>Loenga           </td><td>03012902</td><td>Loenga sør       </td></tr>\n",
       "\t<tr><td>03012901</td><td>Loenga           </td><td>03012903</td><td>Loenga nord      </td></tr>\n",
       "\t<tr><td>03013103</td><td>Ljabru           </td><td>03013108</td><td>Ljabru nord      </td></tr>\n",
       "\t<tr><td>03013103</td><td>Ljabru           </td><td>03013109</td><td>Ljabru sør       </td></tr>\n",
       "\t<tr><td>03013309</td><td>Bjørnåsen        </td><td>03013319</td><td>Bjørnåsen nord   </td></tr>\n",
       "\t<tr><td>03013309</td><td>Bjørnåsen        </td><td>03013320</td><td>Bjørnåsen sør    </td></tr>\n",
       "\t<tr><td>03013310</td><td>Meklenborg       </td><td>03013321</td><td>Meklenborg nord  </td></tr>\n",
       "\t<tr><td>03013310</td><td>Meklenborg       </td><td>03013322</td><td>Meklenborg sør   </td></tr>\n",
       "\t<tr><td>03013317</td><td>Rudshøgda        </td><td>03013323</td><td>Rudshøgda sør    </td></tr>\n",
       "\t<tr><td>03013317</td><td>Rudshøgda        </td><td>03013324</td><td>Rudshøgda nord   </td></tr>\n",
       "\t<tr><td>03013317</td><td>Rudshøgda        </td><td>03013325</td><td>Rudshøgda vest   </td></tr>\n",
       "\t<tr><td>03013408</td><td>Blåfjellet       </td><td>03013418</td><td>Blåfjellet vest  </td></tr>\n",
       "\t<tr><td>03013408</td><td>Blåfjellet       </td><td>03013419</td><td>Blåfjellet nord  </td></tr>\n",
       "\t<tr><td>03013408</td><td>Blåfjellet       </td><td>03013420</td><td>Blåfjellet øst   </td></tr>\n",
       "\t<tr><td>03013410</td><td>Skullerud        </td><td>03013421</td><td>Skullerud nord   </td></tr>\n",
       "\t<tr><td>03013410</td><td>Skullerud        </td><td>03013422</td><td>Skullerud øst    </td></tr>\n",
       "\t<tr><td>03013410</td><td>Skullerud        </td><td>03013423</td><td>Skullerud sør    </td></tr>\n",
       "\t<tr><td>03013501</td><td>Kværner          </td><td>03013515</td><td>Kværner nord     </td></tr>\n",
       "\t<tr><td>03013501</td><td>Kværner          </td><td>03013516</td><td>Kværner øst      </td></tr>\n",
       "\t<tr><td>03013501</td><td>Kværner          </td><td>03013517</td><td>Kværner sør      </td></tr>\n",
       "\t<tr><td>03013606</td><td>Høyenhall        </td><td>03013619</td><td>Høyenhall sør    </td></tr>\n",
       "\t<tr><td>03013606</td><td>Høyenhall        </td><td>03013620</td><td>Høyenhall nord   </td></tr>\n",
       "\t<tr><td>03013608</td><td>Eftasåsen        </td><td>03013621</td><td>Eftasåsen øst    </td></tr>\n",
       "\t<tr><td>03013608</td><td>Eftasåsen        </td><td>03013622</td><td>Eftasåsen vest   </td></tr>\n",
       "\t<tr><td>03013615</td><td>Vestre Trasop    </td><td>03013623</td><td>Vetland vest     </td></tr>\n",
       "\t<tr><td>03013615</td><td>Vestre Trasop    </td><td>03013624</td><td>Vetland øst      </td></tr>\n",
       "\t<tr><td>03014106</td><td>Refstad          </td><td>03014123</td><td>Refstad sør      </td></tr>\n",
       "\t<tr><td>03014106</td><td>Refstad          </td><td>03014124</td><td>Refstad nord     </td></tr>\n",
       "\t<tr><td>03014110</td><td>Vollebekk        </td><td>03014125</td><td>Vollebekk sør    </td></tr>\n",
       "\t<tr><td>03014110</td><td>Vollebekk        </td><td>03014126</td><td>Vollebekk nord   </td></tr>\n",
       "\t<tr><td>03014201</td><td>Ensjø            </td><td>03014211</td><td>Ensjø øst        </td></tr>\n",
       "\t<tr><td>03014201</td><td>Ensjø            </td><td>03014212</td><td>Ensjø vest       </td></tr>\n",
       "\t<tr><td>03014201</td><td>Ensjø            </td><td>03014213</td><td>Ensjø nord       </td></tr>\n",
       "\t<tr><td>03014201</td><td>Ensjø            </td><td>03014214</td><td>Ensjø sør        </td></tr>\n",
       "\t<tr><td>03014302</td><td>Løren            </td><td>03014308</td><td>Løren øst        </td></tr>\n",
       "\t<tr><td>03014302</td><td>Løren            </td><td>03014309</td><td>Løren vest       </td></tr>\n",
       "\t<tr><td>03014303</td><td>Frydenberg       </td><td>03014310</td><td>Frydenberg øst   </td></tr>\n",
       "\t<tr><td>03014303</td><td>Frydenberg       </td><td>03014311</td><td>Frydenberg nord  </td></tr>\n",
       "\t<tr><td>03014303</td><td>Frydenberg       </td><td>03014312</td><td>Frydenberg vest  </td></tr>\n",
       "\t<tr><td>03014305</td><td>Lille Tøyen      </td><td>03014313</td><td>LilleTøyen nord  </td></tr>\n",
       "\t<tr><td>03014305</td><td>Lille Tøyen      </td><td>03014314</td><td>Lille Tøyen vest </td></tr>\n",
       "\t<tr><td>03014305</td><td>Lille Tøyen      </td><td>03014315</td><td>Lille Tøyen øst  </td></tr>\n",
       "\t<tr><td>03014404</td><td>Nydalen          </td><td>03014419</td><td>Nydalen vest     </td></tr>\n",
       "\t<tr><td>03014404</td><td>Nydalen          </td><td>03014420</td><td>Nydalen øst      </td></tr>\n",
       "\t<tr><td>03015205</td><td>Mosekollen       </td><td>03015211</td><td>Mosekollen vest  </td></tr>\n",
       "\t<tr><td>03015205</td><td>Mosekollen       </td><td>03015212</td><td>Mosekollen øst   </td></tr>\n",
       "\t<tr><td>03015404</td><td>Hoff             </td><td>03015407</td><td>Hoff sør         </td></tr>\n",
       "\t<tr><td>03015404</td><td>Hoff             </td><td>03015408</td><td>Hoff nord        </td></tr>\n",
       "\t<tr><td>07200103</td><td>Råstad           </td><td>07040118</td><td>Vearåsen         </td></tr>\n",
       "\t<tr><td>07200301</td><td>Stein            </td><td>07040118</td><td>Vearåsen         </td></tr>\n",
       "\t<tr><td>07200103</td><td>Råstad           </td><td>07101503</td><td>Råstad           </td></tr>\n",
       "\t<tr><td>07200301</td><td>Stein            </td><td>07101701</td><td>Stein            </td></tr>\n",
       "</tbody>\n",
       "</table>\n"
      ],
      "text/latex": [
       "A grouped\\_df: 61 × 4\n",
       "\\begin{tabular}{llll}\n",
       " GRUNNKRETSNUMMER\\_T1 & sourceName & GRUNNKRETSNUMMER & targetName\\\\\n",
       " <chr> & <chr> & <chr> & <chr>\\\\\n",
       "\\hline\n",
       "\t 03010203 & Sentrum 2 /rode 3 & 03010212 & Sentrum 2/Rode 12\\\\\n",
       "\t 03010203 & Sentrum 2 /rode 3 & 03010213 & Sentrum 2/Rode 13\\\\\n",
       "\t 03011802 & Sandaker rode 2   & 03011803 & Sandaker Rode 3  \\\\\n",
       "\t 03011802 & Sandaker rode 2   & 03011804 & Sandaker Rode 4  \\\\\n",
       "\t 03011905 & Åsen rode 5       & 03011909 & Åsen Rode 9      \\\\\n",
       "\t 03011905 & Åsen rode 5       & 03011910 & Åsen Rode 10     \\\\\n",
       "\t 03012501 & Grønland rode 1   & 03012507 & Grønland rode 7  \\\\\n",
       "\t 03012501 & Grønland rode 1   & 03012508 & Grønland rode 8  \\\\\n",
       "\t 03012501 & Grønland rode 1   & 03012509 & Grønland rode 9  \\\\\n",
       "\t 03012901 & Loenga            & 03012902 & Loenga sør       \\\\\n",
       "\t 03012901 & Loenga            & 03012903 & Loenga nord      \\\\\n",
       "\t 03013103 & Ljabru            & 03013108 & Ljabru nord      \\\\\n",
       "\t 03013103 & Ljabru            & 03013109 & Ljabru sør       \\\\\n",
       "\t 03013309 & Bjørnåsen         & 03013319 & Bjørnåsen nord   \\\\\n",
       "\t 03013309 & Bjørnåsen         & 03013320 & Bjørnåsen sør    \\\\\n",
       "\t 03013310 & Meklenborg        & 03013321 & Meklenborg nord  \\\\\n",
       "\t 03013310 & Meklenborg        & 03013322 & Meklenborg sør   \\\\\n",
       "\t 03013317 & Rudshøgda         & 03013323 & Rudshøgda sør    \\\\\n",
       "\t 03013317 & Rudshøgda         & 03013324 & Rudshøgda nord   \\\\\n",
       "\t 03013317 & Rudshøgda         & 03013325 & Rudshøgda vest   \\\\\n",
       "\t 03013408 & Blåfjellet        & 03013418 & Blåfjellet vest  \\\\\n",
       "\t 03013408 & Blåfjellet        & 03013419 & Blåfjellet nord  \\\\\n",
       "\t 03013408 & Blåfjellet        & 03013420 & Blåfjellet øst   \\\\\n",
       "\t 03013410 & Skullerud         & 03013421 & Skullerud nord   \\\\\n",
       "\t 03013410 & Skullerud         & 03013422 & Skullerud øst    \\\\\n",
       "\t 03013410 & Skullerud         & 03013423 & Skullerud sør    \\\\\n",
       "\t 03013501 & Kværner           & 03013515 & Kværner nord     \\\\\n",
       "\t 03013501 & Kværner           & 03013516 & Kværner øst      \\\\\n",
       "\t 03013501 & Kværner           & 03013517 & Kværner sør      \\\\\n",
       "\t 03013606 & Høyenhall         & 03013619 & Høyenhall sør    \\\\\n",
       "\t 03013606 & Høyenhall         & 03013620 & Høyenhall nord   \\\\\n",
       "\t 03013608 & Eftasåsen         & 03013621 & Eftasåsen øst    \\\\\n",
       "\t 03013608 & Eftasåsen         & 03013622 & Eftasåsen vest   \\\\\n",
       "\t 03013615 & Vestre Trasop     & 03013623 & Vetland vest     \\\\\n",
       "\t 03013615 & Vestre Trasop     & 03013624 & Vetland øst      \\\\\n",
       "\t 03014106 & Refstad           & 03014123 & Refstad sør      \\\\\n",
       "\t 03014106 & Refstad           & 03014124 & Refstad nord     \\\\\n",
       "\t 03014110 & Vollebekk         & 03014125 & Vollebekk sør    \\\\\n",
       "\t 03014110 & Vollebekk         & 03014126 & Vollebekk nord   \\\\\n",
       "\t 03014201 & Ensjø             & 03014211 & Ensjø øst        \\\\\n",
       "\t 03014201 & Ensjø             & 03014212 & Ensjø vest       \\\\\n",
       "\t 03014201 & Ensjø             & 03014213 & Ensjø nord       \\\\\n",
       "\t 03014201 & Ensjø             & 03014214 & Ensjø sør        \\\\\n",
       "\t 03014302 & Løren             & 03014308 & Løren øst        \\\\\n",
       "\t 03014302 & Løren             & 03014309 & Løren vest       \\\\\n",
       "\t 03014303 & Frydenberg        & 03014310 & Frydenberg øst   \\\\\n",
       "\t 03014303 & Frydenberg        & 03014311 & Frydenberg nord  \\\\\n",
       "\t 03014303 & Frydenberg        & 03014312 & Frydenberg vest  \\\\\n",
       "\t 03014305 & Lille Tøyen       & 03014313 & LilleTøyen nord  \\\\\n",
       "\t 03014305 & Lille Tøyen       & 03014314 & Lille Tøyen vest \\\\\n",
       "\t 03014305 & Lille Tøyen       & 03014315 & Lille Tøyen øst  \\\\\n",
       "\t 03014404 & Nydalen           & 03014419 & Nydalen vest     \\\\\n",
       "\t 03014404 & Nydalen           & 03014420 & Nydalen øst      \\\\\n",
       "\t 03015205 & Mosekollen        & 03015211 & Mosekollen vest  \\\\\n",
       "\t 03015205 & Mosekollen        & 03015212 & Mosekollen øst   \\\\\n",
       "\t 03015404 & Hoff              & 03015407 & Hoff sør         \\\\\n",
       "\t 03015404 & Hoff              & 03015408 & Hoff nord        \\\\\n",
       "\t 07200103 & Råstad            & 07040118 & Vearåsen         \\\\\n",
       "\t 07200301 & Stein             & 07040118 & Vearåsen         \\\\\n",
       "\t 07200103 & Råstad            & 07101503 & Råstad           \\\\\n",
       "\t 07200301 & Stein             & 07101701 & Stein            \\\\\n",
       "\\end{tabular}\n"
      ],
      "text/markdown": [
       "\n",
       "A grouped_df: 61 × 4\n",
       "\n",
       "| GRUNNKRETSNUMMER_T1 &lt;chr&gt; | sourceName &lt;chr&gt; | GRUNNKRETSNUMMER &lt;chr&gt; | targetName &lt;chr&gt; |\n",
       "|---|---|---|---|\n",
       "| 03010203 | Sentrum 2 /rode 3 | 03010212 | Sentrum 2/Rode 12 |\n",
       "| 03010203 | Sentrum 2 /rode 3 | 03010213 | Sentrum 2/Rode 13 |\n",
       "| 03011802 | Sandaker rode 2   | 03011803 | Sandaker Rode 3   |\n",
       "| 03011802 | Sandaker rode 2   | 03011804 | Sandaker Rode 4   |\n",
       "| 03011905 | Åsen rode 5       | 03011909 | Åsen Rode 9       |\n",
       "| 03011905 | Åsen rode 5       | 03011910 | Åsen Rode 10      |\n",
       "| 03012501 | Grønland rode 1   | 03012507 | Grønland rode 7   |\n",
       "| 03012501 | Grønland rode 1   | 03012508 | Grønland rode 8   |\n",
       "| 03012501 | Grønland rode 1   | 03012509 | Grønland rode 9   |\n",
       "| 03012901 | Loenga            | 03012902 | Loenga sør        |\n",
       "| 03012901 | Loenga            | 03012903 | Loenga nord       |\n",
       "| 03013103 | Ljabru            | 03013108 | Ljabru nord       |\n",
       "| 03013103 | Ljabru            | 03013109 | Ljabru sør        |\n",
       "| 03013309 | Bjørnåsen         | 03013319 | Bjørnåsen nord    |\n",
       "| 03013309 | Bjørnåsen         | 03013320 | Bjørnåsen sør     |\n",
       "| 03013310 | Meklenborg        | 03013321 | Meklenborg nord   |\n",
       "| 03013310 | Meklenborg        | 03013322 | Meklenborg sør    |\n",
       "| 03013317 | Rudshøgda         | 03013323 | Rudshøgda sør     |\n",
       "| 03013317 | Rudshøgda         | 03013324 | Rudshøgda nord    |\n",
       "| 03013317 | Rudshøgda         | 03013325 | Rudshøgda vest    |\n",
       "| 03013408 | Blåfjellet        | 03013418 | Blåfjellet vest   |\n",
       "| 03013408 | Blåfjellet        | 03013419 | Blåfjellet nord   |\n",
       "| 03013408 | Blåfjellet        | 03013420 | Blåfjellet øst    |\n",
       "| 03013410 | Skullerud         | 03013421 | Skullerud nord    |\n",
       "| 03013410 | Skullerud         | 03013422 | Skullerud øst     |\n",
       "| 03013410 | Skullerud         | 03013423 | Skullerud sør     |\n",
       "| 03013501 | Kværner           | 03013515 | Kværner nord      |\n",
       "| 03013501 | Kværner           | 03013516 | Kværner øst       |\n",
       "| 03013501 | Kværner           | 03013517 | Kværner sør       |\n",
       "| 03013606 | Høyenhall         | 03013619 | Høyenhall sør     |\n",
       "| 03013606 | Høyenhall         | 03013620 | Høyenhall nord    |\n",
       "| 03013608 | Eftasåsen         | 03013621 | Eftasåsen øst     |\n",
       "| 03013608 | Eftasåsen         | 03013622 | Eftasåsen vest    |\n",
       "| 03013615 | Vestre Trasop     | 03013623 | Vetland vest      |\n",
       "| 03013615 | Vestre Trasop     | 03013624 | Vetland øst       |\n",
       "| 03014106 | Refstad           | 03014123 | Refstad sør       |\n",
       "| 03014106 | Refstad           | 03014124 | Refstad nord      |\n",
       "| 03014110 | Vollebekk         | 03014125 | Vollebekk sør     |\n",
       "| 03014110 | Vollebekk         | 03014126 | Vollebekk nord    |\n",
       "| 03014201 | Ensjø             | 03014211 | Ensjø øst         |\n",
       "| 03014201 | Ensjø             | 03014212 | Ensjø vest        |\n",
       "| 03014201 | Ensjø             | 03014213 | Ensjø nord        |\n",
       "| 03014201 | Ensjø             | 03014214 | Ensjø sør         |\n",
       "| 03014302 | Løren             | 03014308 | Løren øst         |\n",
       "| 03014302 | Løren             | 03014309 | Løren vest        |\n",
       "| 03014303 | Frydenberg        | 03014310 | Frydenberg øst    |\n",
       "| 03014303 | Frydenberg        | 03014311 | Frydenberg nord   |\n",
       "| 03014303 | Frydenberg        | 03014312 | Frydenberg vest   |\n",
       "| 03014305 | Lille Tøyen       | 03014313 | LilleTøyen nord   |\n",
       "| 03014305 | Lille Tøyen       | 03014314 | Lille Tøyen vest  |\n",
       "| 03014305 | Lille Tøyen       | 03014315 | Lille Tøyen øst   |\n",
       "| 03014404 | Nydalen           | 03014419 | Nydalen vest      |\n",
       "| 03014404 | Nydalen           | 03014420 | Nydalen øst       |\n",
       "| 03015205 | Mosekollen        | 03015211 | Mosekollen vest   |\n",
       "| 03015205 | Mosekollen        | 03015212 | Mosekollen øst    |\n",
       "| 03015404 | Hoff              | 03015407 | Hoff sør          |\n",
       "| 03015404 | Hoff              | 03015408 | Hoff nord         |\n",
       "| 07200103 | Råstad            | 07040118 | Vearåsen          |\n",
       "| 07200301 | Stein             | 07040118 | Vearåsen          |\n",
       "| 07200103 | Råstad            | 07101503 | Råstad            |\n",
       "| 07200301 | Stein             | 07101701 | Stein             |\n",
       "\n"
      ],
      "text/plain": [
       "   GRUNNKRETSNUMMER_T1 sourceName        GRUNNKRETSNUMMER targetName       \n",
       "1  03010203            Sentrum 2 /rode 3 03010212         Sentrum 2/Rode 12\n",
       "2  03010203            Sentrum 2 /rode 3 03010213         Sentrum 2/Rode 13\n",
       "3  03011802            Sandaker rode 2   03011803         Sandaker Rode 3  \n",
       "4  03011802            Sandaker rode 2   03011804         Sandaker Rode 4  \n",
       "5  03011905            Åsen rode 5       03011909         Åsen Rode 9      \n",
       "6  03011905            Åsen rode 5       03011910         Åsen Rode 10     \n",
       "7  03012501            Grønland rode 1   03012507         Grønland rode 7  \n",
       "8  03012501            Grønland rode 1   03012508         Grønland rode 8  \n",
       "9  03012501            Grønland rode 1   03012509         Grønland rode 9  \n",
       "10 03012901            Loenga            03012902         Loenga sør       \n",
       "11 03012901            Loenga            03012903         Loenga nord      \n",
       "12 03013103            Ljabru            03013108         Ljabru nord      \n",
       "13 03013103            Ljabru            03013109         Ljabru sør       \n",
       "14 03013309            Bjørnåsen         03013319         Bjørnåsen nord   \n",
       "15 03013309            Bjørnåsen         03013320         Bjørnåsen sør    \n",
       "16 03013310            Meklenborg        03013321         Meklenborg nord  \n",
       "17 03013310            Meklenborg        03013322         Meklenborg sør   \n",
       "18 03013317            Rudshøgda         03013323         Rudshøgda sør    \n",
       "19 03013317            Rudshøgda         03013324         Rudshøgda nord   \n",
       "20 03013317            Rudshøgda         03013325         Rudshøgda vest   \n",
       "21 03013408            Blåfjellet        03013418         Blåfjellet vest  \n",
       "22 03013408            Blåfjellet        03013419         Blåfjellet nord  \n",
       "23 03013408            Blåfjellet        03013420         Blåfjellet øst   \n",
       "24 03013410            Skullerud         03013421         Skullerud nord   \n",
       "25 03013410            Skullerud         03013422         Skullerud øst    \n",
       "26 03013410            Skullerud         03013423         Skullerud sør    \n",
       "27 03013501            Kværner           03013515         Kværner nord     \n",
       "28 03013501            Kværner           03013516         Kværner øst      \n",
       "29 03013501            Kværner           03013517         Kværner sør      \n",
       "30 03013606            Høyenhall         03013619         Høyenhall sør    \n",
       "31 03013606            Høyenhall         03013620         Høyenhall nord   \n",
       "32 03013608            Eftasåsen         03013621         Eftasåsen øst    \n",
       "33 03013608            Eftasåsen         03013622         Eftasåsen vest   \n",
       "34 03013615            Vestre Trasop     03013623         Vetland vest     \n",
       "35 03013615            Vestre Trasop     03013624         Vetland øst      \n",
       "36 03014106            Refstad           03014123         Refstad sør      \n",
       "37 03014106            Refstad           03014124         Refstad nord     \n",
       "38 03014110            Vollebekk         03014125         Vollebekk sør    \n",
       "39 03014110            Vollebekk         03014126         Vollebekk nord   \n",
       "40 03014201            Ensjø             03014211         Ensjø øst        \n",
       "41 03014201            Ensjø             03014212         Ensjø vest       \n",
       "42 03014201            Ensjø             03014213         Ensjø nord       \n",
       "43 03014201            Ensjø             03014214         Ensjø sør        \n",
       "44 03014302            Løren             03014308         Løren øst        \n",
       "45 03014302            Løren             03014309         Løren vest       \n",
       "46 03014303            Frydenberg        03014310         Frydenberg øst   \n",
       "47 03014303            Frydenberg        03014311         Frydenberg nord  \n",
       "48 03014303            Frydenberg        03014312         Frydenberg vest  \n",
       "49 03014305            Lille Tøyen       03014313         LilleTøyen nord  \n",
       "50 03014305            Lille Tøyen       03014314         Lille Tøyen vest \n",
       "51 03014305            Lille Tøyen       03014315         Lille Tøyen øst  \n",
       "52 03014404            Nydalen           03014419         Nydalen vest     \n",
       "53 03014404            Nydalen           03014420         Nydalen øst      \n",
       "54 03015205            Mosekollen        03015211         Mosekollen vest  \n",
       "55 03015205            Mosekollen        03015212         Mosekollen øst   \n",
       "56 03015404            Hoff              03015407         Hoff sør         \n",
       "57 03015404            Hoff              03015408         Hoff nord        \n",
       "58 07200103            Råstad            07040118         Vearåsen         \n",
       "59 07200301            Stein             07040118         Vearåsen         \n",
       "60 07200103            Råstad            07101503         Råstad           \n",
       "61 07200301            Stein             07101701         Stein            "
      ]
     },
     "metadata": {},
     "output_type": "display_data"
    }
   ],
   "source": [
    "grunnkrets_KLASS %>%\n",
    "group_by(GRUNNKRETSNUMMER_T1) %>% # grunnkrets_KLASS_T1_2\n",
    "filter(n()>1)"
   ]
  },
  {
   "cell_type": "markdown",
   "id": "22ba0a28-2d9b-482b-aa11-e6a7c23aa7cc",
   "metadata": {},
   "source": [
    "### Merger opptaksområder med KLASS (t-1)"
   ]
  },
  {
   "cell_type": "code",
   "execution_count": 12,
   "id": "d7bd8901-c0ca-4bdf-a403-8397be13a069",
   "metadata": {},
   "outputs": [
    {
     "data": {
      "text/html": [
       "14011"
      ],
      "text/latex": [
       "14011"
      ],
      "text/markdown": [
       "14011"
      ],
      "text/plain": [
       "[1] 14011"
      ]
     },
     "metadata": {},
     "output_type": "display_data"
    }
   ],
   "source": [
    "opptaksomrader_KLASS_2 <- opptaksomrader_KLASS %>%\n",
    "dplyr::left_join(grunnkrets_KLASS, by = \"GRUNNKRETSNUMMER\") %>%\n",
    "dplyr::mutate(GRUNNKRETSNUMMER_T1 = case_when(\n",
    "is.na(GRUNNKRETSNUMMER_T1) ~ GRUNNKRETSNUMMER, \n",
    "    TRUE ~ GRUNNKRETSNUMMER_T1\n",
    ")) %>%\n",
    "dplyr::select(GRUNNKRETSNUMMER, GRUNNKRETSNUMMER_T1, GRUNNKRETS_NAVN, OPPTAK_NUMMER, OPPTAK, ORGNR_HF, NAVN_HF, ORGNR_RHF, NAVN_RHF) %>%\n",
    "dplyr::distinct(GRUNNKRETSNUMMER_T1, OPPTAK_NUMMER, OPPTAK, ORGNR_HF, NAVN_HF, ORGNR_RHF, NAVN_RHF)\n",
    "\n",
    "nrow(opptaksomrader_KLASS_2)"
   ]
  },
  {
   "cell_type": "code",
   "execution_count": 13,
   "id": "8d070b96-ef8d-40c3-a85b-433acda101d1",
   "metadata": {},
   "outputs": [],
   "source": [
    "# opptaksomrader_KLASS_2 %>%\n",
    "# dplyr::filter(GRUNNKRETSNUMMER_T1 == \"18500109\")"
   ]
  },
  {
   "cell_type": "markdown",
   "id": "c9ae84b0-5a87-4c5d-953e-b3776ab7c290",
   "metadata": {},
   "source": [
    "### Laster inn KLASS (t-1)"
   ]
  },
  {
   "cell_type": "code",
   "execution_count": 14,
   "id": "4760123d-552a-4a51-bd37-94721867cfa2",
   "metadata": {},
   "outputs": [
    {
     "data": {
      "text/html": [
       "14012"
      ],
      "text/latex": [
       "14012"
      ],
      "text/markdown": [
       "14012"
      ],
      "text/plain": [
       "[1] 14012"
      ]
     },
     "metadata": {},
     "output_type": "display_data"
    },
    {
     "data": {
      "text/html": [
       "14011"
      ],
      "text/latex": [
       "14011"
      ],
      "text/markdown": [
       "14011"
      ],
      "text/plain": [
       "[1] 14011"
      ]
     },
     "metadata": {},
     "output_type": "display_data"
    }
   ],
   "source": [
    "grunnkrets_KLASS_T1 <- klassR::GetKlass(1, output_style = \"wide\", date = c(paste0(aargang, \"-01-01\"))) %>%\n",
    "dplyr::rename(GRUNNKRETSNUMMER_T1 = code2, \n",
    "             GRUNNKRETS_NAVN_T1 = name2) %>%\n",
    "dplyr::select(GRUNNKRETSNUMMER_T1, GRUNNKRETS_NAVN_T1) \n",
    "\n",
    "nrow(grunnkrets_KLASS_T1)\n",
    "nrow(opptaksomrader_KLASS_2)"
   ]
  },
  {
   "cell_type": "code",
   "execution_count": 15,
   "id": "79e53b5c-6f75-4b3d-9b5d-341ec06b2565",
   "metadata": {},
   "outputs": [],
   "source": [
    "# opptaksomrader_KLASS_2 %>%\n",
    "# group_by(GRUNNKRETSNUMMER_T1) %>% # grunnkrets_KLASS_T1_2\n",
    "# filter(n()>1)"
   ]
  },
  {
   "cell_type": "code",
   "execution_count": 16,
   "id": "661c2eb9-8da9-4564-8d44-f74856aa7fbd",
   "metadata": {},
   "outputs": [
    {
     "data": {
      "text/html": [
       "14012"
      ],
      "text/latex": [
       "14012"
      ],
      "text/markdown": [
       "14012"
      ],
      "text/plain": [
       "[1] 14012"
      ]
     },
     "metadata": {},
     "output_type": "display_data"
    },
    {
     "data": {
      "text/html": [
       "14011"
      ],
      "text/latex": [
       "14011"
      ],
      "text/markdown": [
       "14011"
      ],
      "text/plain": [
       "[1] 14011"
      ]
     },
     "metadata": {},
     "output_type": "display_data"
    }
   ],
   "source": [
    "nrow(grunnkrets_KLASS_T1)\n",
    "\n",
    "grunnkrets_KLASS_T1_2 <- grunnkrets_KLASS_T1 %>%\n",
    "dplyr::left_join(opptaksomrader_KLASS_2, by = \"GRUNNKRETSNUMMER_T1\") %>%\n",
    "dplyr::filter(!is.na(OPPTAK))\n",
    "\n",
    "nrow(grunnkrets_KLASS_T1_2)\n",
    "\n",
    "# head(grunnkrets_KLASS_T1_2)\n",
    "\n",
    "# grunnkrets_KLASS_T1_2 <- grunnkrets_KLASS_T1 %>%\n",
    "# dplyr::distinct(GRUNNKRETSNUMMER_T1, GRUNNKRETS_NAVN_T1, OPPTAK)"
   ]
  },
  {
   "cell_type": "code",
   "execution_count": 17,
   "id": "fc76da29-d086-4d97-b08f-f1238ad06874",
   "metadata": {},
   "outputs": [
    {
     "data": {
      "text/html": [
       "<table class=\"dataframe\">\n",
       "<caption>A grouped_df: 0 × 8</caption>\n",
       "<thead>\n",
       "\t<tr><th scope=col>GRUNNKRETSNUMMER_T1</th><th scope=col>GRUNNKRETS_NAVN_T1</th><th scope=col>OPPTAK_NUMMER</th><th scope=col>OPPTAK</th><th scope=col>ORGNR_HF</th><th scope=col>NAVN_HF</th><th scope=col>ORGNR_RHF</th><th scope=col>NAVN_RHF</th></tr>\n",
       "\t<tr><th scope=col>&lt;chr&gt;</th><th scope=col>&lt;chr&gt;</th><th scope=col>&lt;chr&gt;</th><th scope=col>&lt;chr&gt;</th><th scope=col>&lt;chr&gt;</th><th scope=col>&lt;chr&gt;</th><th scope=col>&lt;chr&gt;</th><th scope=col>&lt;chr&gt;</th></tr>\n",
       "</thead>\n",
       "<tbody>\n",
       "</tbody>\n",
       "</table>\n"
      ],
      "text/latex": [
       "A grouped\\_df: 0 × 8\n",
       "\\begin{tabular}{llllllll}\n",
       " GRUNNKRETSNUMMER\\_T1 & GRUNNKRETS\\_NAVN\\_T1 & OPPTAK\\_NUMMER & OPPTAK & ORGNR\\_HF & NAVN\\_HF & ORGNR\\_RHF & NAVN\\_RHF\\\\\n",
       " <chr> & <chr> & <chr> & <chr> & <chr> & <chr> & <chr> & <chr>\\\\\n",
       "\\hline\n",
       "\\end{tabular}\n"
      ],
      "text/markdown": [
       "\n",
       "A grouped_df: 0 × 8\n",
       "\n",
       "| GRUNNKRETSNUMMER_T1 &lt;chr&gt; | GRUNNKRETS_NAVN_T1 &lt;chr&gt; | OPPTAK_NUMMER &lt;chr&gt; | OPPTAK &lt;chr&gt; | ORGNR_HF &lt;chr&gt; | NAVN_HF &lt;chr&gt; | ORGNR_RHF &lt;chr&gt; | NAVN_RHF &lt;chr&gt; |\n",
       "|---|---|---|---|---|---|---|---|\n",
       "\n"
      ],
      "text/plain": [
       "     GRUNNKRETSNUMMER_T1 GRUNNKRETS_NAVN_T1 OPPTAK_NUMMER OPPTAK ORGNR_HF\n",
       "     NAVN_HF ORGNR_RHF NAVN_RHF"
      ]
     },
     "metadata": {},
     "output_type": "display_data"
    }
   ],
   "source": [
    "grunnkrets_KLASS_T1_2 %>%\n",
    "group_by(GRUNNKRETSNUMMER_T1) %>% # grunnkrets_KLASS_T1_2\n",
    "filter(n()>1)"
   ]
  },
  {
   "cell_type": "code",
   "execution_count": 18,
   "id": "11ee1749-3780-4c62-ad02-89b725e98e66",
   "metadata": {},
   "outputs": [
    {
     "data": {
      "text/html": [
       "<table class=\"dataframe\">\n",
       "<caption>A data.frame: 1 × 8</caption>\n",
       "<thead>\n",
       "\t<tr><th scope=col>GRUNNKRETSNUMMER_T1</th><th scope=col>GRUNNKRETS_NAVN_T1</th><th scope=col>OPPTAK_NUMMER</th><th scope=col>OPPTAK</th><th scope=col>ORGNR_HF</th><th scope=col>NAVN_HF</th><th scope=col>ORGNR_RHF</th><th scope=col>NAVN_RHF</th></tr>\n",
       "\t<tr><th scope=col>&lt;chr&gt;</th><th scope=col>&lt;chr&gt;</th><th scope=col>&lt;chr&gt;</th><th scope=col>&lt;chr&gt;</th><th scope=col>&lt;chr&gt;</th><th scope=col>&lt;chr&gt;</th><th scope=col>&lt;chr&gt;</th><th scope=col>&lt;chr&gt;</th></tr>\n",
       "</thead>\n",
       "<tbody>\n",
       "\t<tr><td>99999999</td><td>Uoppgitt</td><td>NA</td><td>NA</td><td>NA</td><td>NA</td><td>NA</td><td>NA</td></tr>\n",
       "</tbody>\n",
       "</table>\n"
      ],
      "text/latex": [
       "A data.frame: 1 × 8\n",
       "\\begin{tabular}{llllllll}\n",
       " GRUNNKRETSNUMMER\\_T1 & GRUNNKRETS\\_NAVN\\_T1 & OPPTAK\\_NUMMER & OPPTAK & ORGNR\\_HF & NAVN\\_HF & ORGNR\\_RHF & NAVN\\_RHF\\\\\n",
       " <chr> & <chr> & <chr> & <chr> & <chr> & <chr> & <chr> & <chr>\\\\\n",
       "\\hline\n",
       "\t 99999999 & Uoppgitt & NA & NA & NA & NA & NA & NA\\\\\n",
       "\\end{tabular}\n"
      ],
      "text/markdown": [
       "\n",
       "A data.frame: 1 × 8\n",
       "\n",
       "| GRUNNKRETSNUMMER_T1 &lt;chr&gt; | GRUNNKRETS_NAVN_T1 &lt;chr&gt; | OPPTAK_NUMMER &lt;chr&gt; | OPPTAK &lt;chr&gt; | ORGNR_HF &lt;chr&gt; | NAVN_HF &lt;chr&gt; | ORGNR_RHF &lt;chr&gt; | NAVN_RHF &lt;chr&gt; |\n",
       "|---|---|---|---|---|---|---|---|\n",
       "| 99999999 | Uoppgitt | NA | NA | NA | NA | NA | NA |\n",
       "\n"
      ],
      "text/plain": [
       "  GRUNNKRETSNUMMER_T1 GRUNNKRETS_NAVN_T1 OPPTAK_NUMMER OPPTAK ORGNR_HF NAVN_HF\n",
       "1 99999999            Uoppgitt           NA            NA     NA       NA     \n",
       "  ORGNR_RHF NAVN_RHF\n",
       "1 NA        NA      "
      ]
     },
     "metadata": {},
     "output_type": "display_data"
    }
   ],
   "source": [
    "grunnkrets_KLASS_T1_3 <- grunnkrets_KLASS_T1 %>%\n",
    "dplyr::left_join(opptaksomrader_KLASS_2, by = \"GRUNNKRETSNUMMER_T1\") %>%\n",
    "dplyr::filter(is.na(OPPTAK))\n",
    "\n",
    "grunnkrets_KLASS_T1_3"
   ]
  },
  {
   "cell_type": "markdown",
   "id": "446d6a34-f18c-4ddf-9636-2b76dc563d0b",
   "metadata": {},
   "source": [
    "## Laster inn tabell 04317"
   ]
  },
  {
   "cell_type": "code",
   "execution_count": 19,
   "id": "884b96ea-c159-4456-abe6-2b4ee5ab18a1",
   "metadata": {},
   "outputs": [],
   "source": [
    "T04317 <- PxWebApiData::ApiData(04317, ContentsCode = \"Personer\", \n",
    "                                Grunnkretser = TRUE, \n",
    "                                Tid = as.character(aargang)) [[2]] %>%\n",
    "  dplyr::filter(!is.na(value)) %>%\n",
    "  dplyr::rename(GRUNNKRETSNUMMER = Grunnkretser,\n",
    "                PERSONER = value) %>%\n",
    "  dplyr::select(GRUNNKRETSNUMMER, PERSONER)"
   ]
  },
  {
   "cell_type": "code",
   "execution_count": 20,
   "id": "e45f9075-1f4d-4a28-9d35-84db3137b2a1",
   "metadata": {},
   "outputs": [
    {
     "data": {
      "text/html": [
       "<style>\n",
       ".list-inline {list-style: none; margin:0; padding: 0}\n",
       ".list-inline>li {display: inline-block}\n",
       ".list-inline>li:not(:last-child)::after {content: \"\\00b7\"; padding: 0 .5ex}\n",
       "</style>\n",
       "<ol class=list-inline><li>'GRUNNKRETSNUMMER'</li><li>'PERSONER'</li></ol>\n"
      ],
      "text/latex": [
       "\\begin{enumerate*}\n",
       "\\item 'GRUNNKRETSNUMMER'\n",
       "\\item 'PERSONER'\n",
       "\\end{enumerate*}\n"
      ],
      "text/markdown": [
       "1. 'GRUNNKRETSNUMMER'\n",
       "2. 'PERSONER'\n",
       "\n",
       "\n"
      ],
      "text/plain": [
       "[1] \"GRUNNKRETSNUMMER\" \"PERSONER\"        "
      ]
     },
     "metadata": {},
     "output_type": "display_data"
    }
   ],
   "source": [
    "colnames(T04317)"
   ]
  },
  {
   "cell_type": "markdown",
   "id": "41e3a773-d6ee-4894-9885-7e1a39c2f51d",
   "metadata": {},
   "source": [
    "# OBS: Legg til opptaksområde for disse!"
   ]
  },
  {
   "cell_type": "code",
   "execution_count": 21,
   "id": "ab65155a-35de-4ea6-a1f5-ad2bfaeaa68d",
   "metadata": {},
   "outputs": [
    {
     "data": {
      "text/html": [
       "<style>\n",
       ".list-inline {list-style: none; margin:0; padding: 0}\n",
       ".list-inline>li {display: inline-block}\n",
       ".list-inline>li:not(:last-child)::after {content: \"\\00b7\"; padding: 0 .5ex}\n",
       "</style>\n",
       "<ol class=list-inline><li>'GRUNNKRETSNUMMER_T1'</li><li>'GRUNNKRETS_NAVN_T1'</li><li>'OPPTAK_NUMMER'</li><li>'OPPTAK'</li><li>'ORGNR_HF'</li><li>'NAVN_HF'</li><li>'ORGNR_RHF'</li><li>'NAVN_RHF'</li></ol>\n"
      ],
      "text/latex": [
       "\\begin{enumerate*}\n",
       "\\item 'GRUNNKRETSNUMMER\\_T1'\n",
       "\\item 'GRUNNKRETS\\_NAVN\\_T1'\n",
       "\\item 'OPPTAK\\_NUMMER'\n",
       "\\item 'OPPTAK'\n",
       "\\item 'ORGNR\\_HF'\n",
       "\\item 'NAVN\\_HF'\n",
       "\\item 'ORGNR\\_RHF'\n",
       "\\item 'NAVN\\_RHF'\n",
       "\\end{enumerate*}\n"
      ],
      "text/markdown": [
       "1. 'GRUNNKRETSNUMMER_T1'\n",
       "2. 'GRUNNKRETS_NAVN_T1'\n",
       "3. 'OPPTAK_NUMMER'\n",
       "4. 'OPPTAK'\n",
       "5. 'ORGNR_HF'\n",
       "6. 'NAVN_HF'\n",
       "7. 'ORGNR_RHF'\n",
       "8. 'NAVN_RHF'\n",
       "\n",
       "\n"
      ],
      "text/plain": [
       "[1] \"GRUNNKRETSNUMMER_T1\" \"GRUNNKRETS_NAVN_T1\"  \"OPPTAK_NUMMER\"      \n",
       "[4] \"OPPTAK\"              \"ORGNR_HF\"            \"NAVN_HF\"            \n",
       "[7] \"ORGNR_RHF\"           \"NAVN_RHF\"           "
      ]
     },
     "metadata": {},
     "output_type": "display_data"
    }
   ],
   "source": [
    "colnames(grunnkrets_KLASS_T1_2)"
   ]
  },
  {
   "cell_type": "code",
   "execution_count": 22,
   "id": "19ec872a-2e1a-4cc6-92bb-ab7cc8f5e61c",
   "metadata": {},
   "outputs": [],
   "source": [
    "hovedopptak_per_kommune <- grunnkrets_KLASS_T1_2 %>%\n",
    "# dplyr::filter(substr(GRUNNKRETSNUMMER_T1, 1, 4) == \"0101\") %>%\n",
    "dplyr::mutate(KOMMUNENUMMER = substr(GRUNNKRETSNUMMER_T1, 1, 4)) %>%\n",
    "dplyr::group_by(KOMMUNENUMMER, OPPTAK_NUMMER, OPPTAK, ORGNR_HF, NAVN_HF, ORGNR_RHF, NAVN_RHF) %>%\n",
    "tally() %>%\n",
    "dplyr::group_by(KOMMUNENUMMER) %>%\n",
    "# dplyr::filter(n()>1)\n",
    "dplyr::slice(which.max(n))"
   ]
  },
  {
   "cell_type": "code",
   "execution_count": 23,
   "id": "112ade01-d913-449c-94a5-5a47087a879c",
   "metadata": {},
   "outputs": [],
   "source": [
    "grunnkrets_KLASS_T1_4 <- grunnkrets_KLASS_T1_2 %>%\n",
    "dplyr::full_join(T04317, by = c(\"GRUNNKRETSNUMMER_T1\" = \"GRUNNKRETSNUMMER\")) %>%\n",
    "dplyr::mutate(PERSONER = tidyr::replace_na(PERSONER, 0))\n",
    "\n",
    "# grunnkrets_KLASS_T1_4 %>%\n",
    "# dplyr::filter(is.na(OPPTAK), \n",
    "#              substr(GRUNNKRETSNUMMER_T1, 5, 8) != \"9999\")\n",
    "\n",
    "grunnkrets_KLASS_T1_4 <- grunnkrets_KLASS_T1_4 %>%\n",
    "dplyr::filter(is.na(OPPTAK)) %>%\n",
    "dplyr::mutate(KOMMUNENUMMER = substr(GRUNNKRETSNUMMER_T1, 1, 4)) %>%\n",
    "dplyr::select(GRUNNKRETSNUMMER_T1, KOMMUNENUMMER) %>%\n",
    "dplyr::left_join(hovedopptak_per_kommune, by = c(\"KOMMUNENUMMER\" = \"KOMMUNENUMMER\")) %>%\n",
    "dplyr::select(-KOMMUNENUMMER, -n) %>%\n",
    "dplyr::mutate(GRUNNKRETS_NAVN_T1 = \"Uoppgitt grunnkrets\")\n",
    "\n",
    "# # Sjekker om antall personer stemmer med tabell 04317\n",
    "# sum(T04317$PERSONER)-sum(grunnkrets_KLASS_T1_4$PERSONER)"
   ]
  },
  {
   "cell_type": "code",
   "execution_count": 24,
   "id": "88aeeeb8-c025-4b85-b474-5de5588c46bc",
   "metadata": {},
   "outputs": [
    {
     "data": {
      "text/html": [
       "<table class=\"dataframe\">\n",
       "<caption>A data.frame: 6 × 8</caption>\n",
       "<thead>\n",
       "\t<tr><th></th><th scope=col>GRUNNKRETSNUMMER_T1</th><th scope=col>OPPTAK_NUMMER</th><th scope=col>OPPTAK</th><th scope=col>ORGNR_HF</th><th scope=col>NAVN_HF</th><th scope=col>ORGNR_RHF</th><th scope=col>NAVN_RHF</th><th scope=col>GRUNNKRETS_NAVN_T1</th></tr>\n",
       "\t<tr><th></th><th scope=col>&lt;chr&gt;</th><th scope=col>&lt;chr&gt;</th><th scope=col>&lt;chr&gt;</th><th scope=col>&lt;chr&gt;</th><th scope=col>&lt;chr&gt;</th><th scope=col>&lt;chr&gt;</th><th scope=col>&lt;chr&gt;</th><th scope=col>&lt;chr&gt;</th></tr>\n",
       "</thead>\n",
       "<tbody>\n",
       "\t<tr><th scope=row>1</th><td>01019999</td><td>48</td><td>Østfold</td><td>983971768</td><td>SYKEHUSET ØSTFOLD HF</td><td>991324968</td><td>HELSE SØR-ØST RHF</td><td>Uoppgitt grunnkrets</td></tr>\n",
       "\t<tr><th scope=row>2</th><td>01049999</td><td>48</td><td>Østfold</td><td>983971768</td><td>SYKEHUSET ØSTFOLD HF</td><td>991324968</td><td>HELSE SØR-ØST RHF</td><td>Uoppgitt grunnkrets</td></tr>\n",
       "\t<tr><th scope=row>3</th><td>01059999</td><td>48</td><td>Østfold</td><td>983971768</td><td>SYKEHUSET ØSTFOLD HF</td><td>991324968</td><td>HELSE SØR-ØST RHF</td><td>Uoppgitt grunnkrets</td></tr>\n",
       "\t<tr><th scope=row>4</th><td>01069999</td><td>48</td><td>Østfold</td><td>983971768</td><td>SYKEHUSET ØSTFOLD HF</td><td>991324968</td><td>HELSE SØR-ØST RHF</td><td>Uoppgitt grunnkrets</td></tr>\n",
       "\t<tr><th scope=row>5</th><td>01119999</td><td>48</td><td>Østfold</td><td>983971768</td><td>SYKEHUSET ØSTFOLD HF</td><td>991324968</td><td>HELSE SØR-ØST RHF</td><td>Uoppgitt grunnkrets</td></tr>\n",
       "\t<tr><th scope=row>6</th><td>01199999</td><td>48</td><td>Østfold</td><td>983971768</td><td>SYKEHUSET ØSTFOLD HF</td><td>991324968</td><td>HELSE SØR-ØST RHF</td><td>Uoppgitt grunnkrets</td></tr>\n",
       "</tbody>\n",
       "</table>\n"
      ],
      "text/latex": [
       "A data.frame: 6 × 8\n",
       "\\begin{tabular}{r|llllllll}\n",
       "  & GRUNNKRETSNUMMER\\_T1 & OPPTAK\\_NUMMER & OPPTAK & ORGNR\\_HF & NAVN\\_HF & ORGNR\\_RHF & NAVN\\_RHF & GRUNNKRETS\\_NAVN\\_T1\\\\\n",
       "  & <chr> & <chr> & <chr> & <chr> & <chr> & <chr> & <chr> & <chr>\\\\\n",
       "\\hline\n",
       "\t1 & 01019999 & 48 & Østfold & 983971768 & SYKEHUSET ØSTFOLD HF & 991324968 & HELSE SØR-ØST RHF & Uoppgitt grunnkrets\\\\\n",
       "\t2 & 01049999 & 48 & Østfold & 983971768 & SYKEHUSET ØSTFOLD HF & 991324968 & HELSE SØR-ØST RHF & Uoppgitt grunnkrets\\\\\n",
       "\t3 & 01059999 & 48 & Østfold & 983971768 & SYKEHUSET ØSTFOLD HF & 991324968 & HELSE SØR-ØST RHF & Uoppgitt grunnkrets\\\\\n",
       "\t4 & 01069999 & 48 & Østfold & 983971768 & SYKEHUSET ØSTFOLD HF & 991324968 & HELSE SØR-ØST RHF & Uoppgitt grunnkrets\\\\\n",
       "\t5 & 01119999 & 48 & Østfold & 983971768 & SYKEHUSET ØSTFOLD HF & 991324968 & HELSE SØR-ØST RHF & Uoppgitt grunnkrets\\\\\n",
       "\t6 & 01199999 & 48 & Østfold & 983971768 & SYKEHUSET ØSTFOLD HF & 991324968 & HELSE SØR-ØST RHF & Uoppgitt grunnkrets\\\\\n",
       "\\end{tabular}\n"
      ],
      "text/markdown": [
       "\n",
       "A data.frame: 6 × 8\n",
       "\n",
       "| <!--/--> | GRUNNKRETSNUMMER_T1 &lt;chr&gt; | OPPTAK_NUMMER &lt;chr&gt; | OPPTAK &lt;chr&gt; | ORGNR_HF &lt;chr&gt; | NAVN_HF &lt;chr&gt; | ORGNR_RHF &lt;chr&gt; | NAVN_RHF &lt;chr&gt; | GRUNNKRETS_NAVN_T1 &lt;chr&gt; |\n",
       "|---|---|---|---|---|---|---|---|---|\n",
       "| 1 | 01019999 | 48 | Østfold | 983971768 | SYKEHUSET ØSTFOLD HF | 991324968 | HELSE SØR-ØST RHF | Uoppgitt grunnkrets |\n",
       "| 2 | 01049999 | 48 | Østfold | 983971768 | SYKEHUSET ØSTFOLD HF | 991324968 | HELSE SØR-ØST RHF | Uoppgitt grunnkrets |\n",
       "| 3 | 01059999 | 48 | Østfold | 983971768 | SYKEHUSET ØSTFOLD HF | 991324968 | HELSE SØR-ØST RHF | Uoppgitt grunnkrets |\n",
       "| 4 | 01069999 | 48 | Østfold | 983971768 | SYKEHUSET ØSTFOLD HF | 991324968 | HELSE SØR-ØST RHF | Uoppgitt grunnkrets |\n",
       "| 5 | 01119999 | 48 | Østfold | 983971768 | SYKEHUSET ØSTFOLD HF | 991324968 | HELSE SØR-ØST RHF | Uoppgitt grunnkrets |\n",
       "| 6 | 01199999 | 48 | Østfold | 983971768 | SYKEHUSET ØSTFOLD HF | 991324968 | HELSE SØR-ØST RHF | Uoppgitt grunnkrets |\n",
       "\n"
      ],
      "text/plain": [
       "  GRUNNKRETSNUMMER_T1 OPPTAK_NUMMER OPPTAK  ORGNR_HF  NAVN_HF             \n",
       "1 01019999            48            Østfold 983971768 SYKEHUSET ØSTFOLD HF\n",
       "2 01049999            48            Østfold 983971768 SYKEHUSET ØSTFOLD HF\n",
       "3 01059999            48            Østfold 983971768 SYKEHUSET ØSTFOLD HF\n",
       "4 01069999            48            Østfold 983971768 SYKEHUSET ØSTFOLD HF\n",
       "5 01119999            48            Østfold 983971768 SYKEHUSET ØSTFOLD HF\n",
       "6 01199999            48            Østfold 983971768 SYKEHUSET ØSTFOLD HF\n",
       "  ORGNR_RHF NAVN_RHF          GRUNNKRETS_NAVN_T1 \n",
       "1 991324968 HELSE SØR-ØST RHF Uoppgitt grunnkrets\n",
       "2 991324968 HELSE SØR-ØST RHF Uoppgitt grunnkrets\n",
       "3 991324968 HELSE SØR-ØST RHF Uoppgitt grunnkrets\n",
       "4 991324968 HELSE SØR-ØST RHF Uoppgitt grunnkrets\n",
       "5 991324968 HELSE SØR-ØST RHF Uoppgitt grunnkrets\n",
       "6 991324968 HELSE SØR-ØST RHF Uoppgitt grunnkrets"
      ]
     },
     "metadata": {},
     "output_type": "display_data"
    }
   ],
   "source": [
    "head(grunnkrets_KLASS_T1_4)"
   ]
  },
  {
   "cell_type": "code",
   "execution_count": 25,
   "id": "fef7c1d9-9a3d-45db-b819-c799ff0397b0",
   "metadata": {},
   "outputs": [
    {
     "data": {
      "text/html": [
       "<table class=\"dataframe\">\n",
       "<caption>A data.frame: 6 × 8</caption>\n",
       "<thead>\n",
       "\t<tr><th></th><th scope=col>GRUNNKRETSNUMMER_T1</th><th scope=col>GRUNNKRETS_NAVN_T1</th><th scope=col>OPPTAK_NUMMER</th><th scope=col>OPPTAK</th><th scope=col>ORGNR_HF</th><th scope=col>NAVN_HF</th><th scope=col>ORGNR_RHF</th><th scope=col>NAVN_RHF</th></tr>\n",
       "\t<tr><th></th><th scope=col>&lt;chr&gt;</th><th scope=col>&lt;chr&gt;</th><th scope=col>&lt;chr&gt;</th><th scope=col>&lt;chr&gt;</th><th scope=col>&lt;chr&gt;</th><th scope=col>&lt;chr&gt;</th><th scope=col>&lt;chr&gt;</th><th scope=col>&lt;chr&gt;</th></tr>\n",
       "</thead>\n",
       "<tbody>\n",
       "\t<tr><th scope=row>1</th><td>01010102</td><td>Båstadlund  </td><td>48</td><td>Østfold</td><td>983971768</td><td>SYKEHUSET ØSTFOLD HF</td><td>991324968</td><td>HELSE SØR-ØST RHF</td></tr>\n",
       "\t<tr><th scope=row>2</th><td>01010103</td><td>Låby        </td><td>48</td><td>Østfold</td><td>983971768</td><td>SYKEHUSET ØSTFOLD HF</td><td>991324968</td><td>HELSE SØR-ØST RHF</td></tr>\n",
       "\t<tr><th scope=row>3</th><td>01010104</td><td>Stangeløkka </td><td>48</td><td>Østfold</td><td>983971768</td><td>SYKEHUSET ØSTFOLD HF</td><td>991324968</td><td>HELSE SØR-ØST RHF</td></tr>\n",
       "\t<tr><th scope=row>4</th><td>01010105</td><td>Refne/Banken</td><td>48</td><td>Østfold</td><td>983971768</td><td>SYKEHUSET ØSTFOLD HF</td><td>991324968</td><td>HELSE SØR-ØST RHF</td></tr>\n",
       "\t<tr><th scope=row>5</th><td>01010107</td><td>Remmen      </td><td>48</td><td>Østfold</td><td>983971768</td><td>SYKEHUSET ØSTFOLD HF</td><td>991324968</td><td>HELSE SØR-ØST RHF</td></tr>\n",
       "\t<tr><th scope=row>6</th><td>01010108</td><td>Refne       </td><td>48</td><td>Østfold</td><td>983971768</td><td>SYKEHUSET ØSTFOLD HF</td><td>991324968</td><td>HELSE SØR-ØST RHF</td></tr>\n",
       "</tbody>\n",
       "</table>\n"
      ],
      "text/latex": [
       "A data.frame: 6 × 8\n",
       "\\begin{tabular}{r|llllllll}\n",
       "  & GRUNNKRETSNUMMER\\_T1 & GRUNNKRETS\\_NAVN\\_T1 & OPPTAK\\_NUMMER & OPPTAK & ORGNR\\_HF & NAVN\\_HF & ORGNR\\_RHF & NAVN\\_RHF\\\\\n",
       "  & <chr> & <chr> & <chr> & <chr> & <chr> & <chr> & <chr> & <chr>\\\\\n",
       "\\hline\n",
       "\t1 & 01010102 & Båstadlund   & 48 & Østfold & 983971768 & SYKEHUSET ØSTFOLD HF & 991324968 & HELSE SØR-ØST RHF\\\\\n",
       "\t2 & 01010103 & Låby         & 48 & Østfold & 983971768 & SYKEHUSET ØSTFOLD HF & 991324968 & HELSE SØR-ØST RHF\\\\\n",
       "\t3 & 01010104 & Stangeløkka  & 48 & Østfold & 983971768 & SYKEHUSET ØSTFOLD HF & 991324968 & HELSE SØR-ØST RHF\\\\\n",
       "\t4 & 01010105 & Refne/Banken & 48 & Østfold & 983971768 & SYKEHUSET ØSTFOLD HF & 991324968 & HELSE SØR-ØST RHF\\\\\n",
       "\t5 & 01010107 & Remmen       & 48 & Østfold & 983971768 & SYKEHUSET ØSTFOLD HF & 991324968 & HELSE SØR-ØST RHF\\\\\n",
       "\t6 & 01010108 & Refne        & 48 & Østfold & 983971768 & SYKEHUSET ØSTFOLD HF & 991324968 & HELSE SØR-ØST RHF\\\\\n",
       "\\end{tabular}\n"
      ],
      "text/markdown": [
       "\n",
       "A data.frame: 6 × 8\n",
       "\n",
       "| <!--/--> | GRUNNKRETSNUMMER_T1 &lt;chr&gt; | GRUNNKRETS_NAVN_T1 &lt;chr&gt; | OPPTAK_NUMMER &lt;chr&gt; | OPPTAK &lt;chr&gt; | ORGNR_HF &lt;chr&gt; | NAVN_HF &lt;chr&gt; | ORGNR_RHF &lt;chr&gt; | NAVN_RHF &lt;chr&gt; |\n",
       "|---|---|---|---|---|---|---|---|---|\n",
       "| 1 | 01010102 | Båstadlund   | 48 | Østfold | 983971768 | SYKEHUSET ØSTFOLD HF | 991324968 | HELSE SØR-ØST RHF |\n",
       "| 2 | 01010103 | Låby         | 48 | Østfold | 983971768 | SYKEHUSET ØSTFOLD HF | 991324968 | HELSE SØR-ØST RHF |\n",
       "| 3 | 01010104 | Stangeløkka  | 48 | Østfold | 983971768 | SYKEHUSET ØSTFOLD HF | 991324968 | HELSE SØR-ØST RHF |\n",
       "| 4 | 01010105 | Refne/Banken | 48 | Østfold | 983971768 | SYKEHUSET ØSTFOLD HF | 991324968 | HELSE SØR-ØST RHF |\n",
       "| 5 | 01010107 | Remmen       | 48 | Østfold | 983971768 | SYKEHUSET ØSTFOLD HF | 991324968 | HELSE SØR-ØST RHF |\n",
       "| 6 | 01010108 | Refne        | 48 | Østfold | 983971768 | SYKEHUSET ØSTFOLD HF | 991324968 | HELSE SØR-ØST RHF |\n",
       "\n"
      ],
      "text/plain": [
       "  GRUNNKRETSNUMMER_T1 GRUNNKRETS_NAVN_T1 OPPTAK_NUMMER OPPTAK  ORGNR_HF \n",
       "1 01010102            Båstadlund         48            Østfold 983971768\n",
       "2 01010103            Låby               48            Østfold 983971768\n",
       "3 01010104            Stangeløkka        48            Østfold 983971768\n",
       "4 01010105            Refne/Banken       48            Østfold 983971768\n",
       "5 01010107            Remmen             48            Østfold 983971768\n",
       "6 01010108            Refne              48            Østfold 983971768\n",
       "  NAVN_HF              ORGNR_RHF NAVN_RHF         \n",
       "1 SYKEHUSET ØSTFOLD HF 991324968 HELSE SØR-ØST RHF\n",
       "2 SYKEHUSET ØSTFOLD HF 991324968 HELSE SØR-ØST RHF\n",
       "3 SYKEHUSET ØSTFOLD HF 991324968 HELSE SØR-ØST RHF\n",
       "4 SYKEHUSET ØSTFOLD HF 991324968 HELSE SØR-ØST RHF\n",
       "5 SYKEHUSET ØSTFOLD HF 991324968 HELSE SØR-ØST RHF\n",
       "6 SYKEHUSET ØSTFOLD HF 991324968 HELSE SØR-ØST RHF"
      ]
     },
     "metadata": {},
     "output_type": "display_data"
    }
   ],
   "source": [
    "head(grunnkrets_KLASS_T1_2)"
   ]
  },
  {
   "cell_type": "code",
   "execution_count": 26,
   "id": "ca3d79f3-8030-4b38-aa81-220239e4ad75",
   "metadata": {},
   "outputs": [],
   "source": [
    "grunnkrets_KLASS_T1_2 <- rbind(grunnkrets_KLASS_T1_2, grunnkrets_KLASS_T1_4)"
   ]
  },
  {
   "cell_type": "code",
   "execution_count": 27,
   "id": "6b516376-8b8b-464c-8d4d-1da534b8dda2",
   "metadata": {},
   "outputs": [
    {
     "data": {
      "text/html": [
       "0"
      ],
      "text/latex": [
       "0"
      ],
      "text/markdown": [
       "0"
      ],
      "text/plain": [
       "[1] 0"
      ]
     },
     "metadata": {},
     "output_type": "display_data"
    }
   ],
   "source": [
    "grunnkrets_KLASS_T1_5 <- grunnkrets_KLASS_T1_2 %>%\n",
    "dplyr::full_join(T04317, by = c(\"GRUNNKRETSNUMMER_T1\" = \"GRUNNKRETSNUMMER\")) %>%\n",
    "dplyr::mutate(PERSONER = tidyr::replace_na(PERSONER, 0))\n",
    "\n",
    "sum(grunnkrets_KLASS_T1_5$PERSONER)-sum(T04317$PERSONER)"
   ]
  },
  {
   "cell_type": "markdown",
   "id": "6742a67f-f051-4474-8e5c-6b6e3a92df6c",
   "metadata": {},
   "source": [
    "### Lagrer filen "
   ]
  },
  {
   "cell_type": "code",
   "execution_count": 31,
   "id": "e56f1e48-ef82-4abd-bb23-7abf150da01d",
   "metadata": {},
   "outputs": [],
   "source": [
    "test <- grunnkrets_KLASS_T1_2 %>%\n",
    "  dplyr::mutate(TOM_FORELDER = \"\") %>%\n",
    "  dplyr::select(GRUNNKRETSNUMMER_T1, GRUNNKRETS_NAVN_T1, OPPTAK_NUMMER, ORGNR_HF, NAVN_HF, OPPTAK, ORGNR_RHF, NAVN_RHF, TOM_FORELDER)\n",
    "\n",
    "level_1 <- test %>%\n",
    "  dplyr::select(ORGNR_RHF, TOM_FORELDER, NAVN_RHF) %>%\n",
    "  dplyr::rename('ns1:kode' = ORGNR_RHF, \n",
    "                'ns1:forelder' = TOM_FORELDER, \n",
    "                'ns1:navn_bokmål' = NAVN_RHF) %>%\n",
    "  dplyr::distinct()\n",
    "\n",
    "level_2 <- test %>%\n",
    "  dplyr::select(ORGNR_HF, ORGNR_RHF, NAVN_HF) %>%\n",
    "  dplyr::rename('ns1:kode' = ORGNR_HF, \n",
    "                'ns1:forelder' = ORGNR_RHF, \n",
    "                'ns1:navn_bokmål' = NAVN_HF) %>%\n",
    "  dplyr::distinct()\n",
    "\n",
    "level_3 <- test %>%\n",
    "  dplyr::select(OPPTAK_NUMMER, ORGNR_HF, OPPTAK) %>%\n",
    "  dplyr::rename('ns1:kode' = OPPTAK_NUMMER, \n",
    "                'ns1:forelder' = ORGNR_HF, \n",
    "                'ns1:navn_bokmål' = OPPTAK) %>%\n",
    "  dplyr::distinct()\n",
    "\n",
    "level_4 <- test %>%\n",
    "  dplyr::select(GRUNNKRETSNUMMER_T1, OPPTAK_NUMMER, GRUNNKRETS_NAVN_T1) %>%\n",
    "  dplyr::rename('ns1:kode' = GRUNNKRETSNUMMER_T1, \n",
    "                'ns1:forelder' = OPPTAK_NUMMER, \n",
    "                'ns1:navn_bokmål' = GRUNNKRETS_NAVN_T1) %>%\n",
    "  dplyr::distinct()\n",
    "\n",
    "KLASS <- rbind(level_1, level_2, level_3, level_4) %>%\n",
    "dplyr::select('ns1:kode', 'ns1:navn_bokmål', 'ns1:forelder')"
   ]
  },
  {
   "cell_type": "code",
   "execution_count": 33,
   "id": "4068dd58-f46e-4dfb-84b9-8eeb9cb1a82f",
   "metadata": {},
   "outputs": [],
   "source": [
    "openxlsx::write.xlsx(KLASS, file = paste0(\"/ssb/bruker/rdn/opptak_\", aargang, \".xlsx\"),\n",
    "                     rowNames = FALSE,\n",
    "                     showNA = FALSE,\n",
    "                     overwrite=T) # T = overskriver dersom filen allerede finnes, F = gir feilmelding dersom filen finnes"
   ]
  },
  {
   "cell_type": "code",
   "execution_count": null,
   "id": "046797fb-f1c9-4498-aff4-1955e24665e2",
   "metadata": {},
   "outputs": [],
   "source": []
  }
 ],
 "metadata": {
  "kernelspec": {
   "display_name": "R",
   "language": "R",
   "name": "ir"
  },
  "language_info": {
   "codemirror_mode": "r",
   "file_extension": ".r",
   "mimetype": "text/x-r-source",
   "name": "R",
   "pygments_lexer": "r",
   "version": "4.2.2"
  }
 },
 "nbformat": 4,
 "nbformat_minor": 5
}
