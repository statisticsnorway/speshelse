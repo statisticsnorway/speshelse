{
 "cells": [
  {
   "cell_type": "markdown",
   "id": "cf9c4409-1965-4db1-90a1-0eadebe358f0",
   "metadata": {},
   "source": [
    "# Opptaksområder 2017"
   ]
  },
  {
   "cell_type": "code",
   "execution_count": 1,
   "id": "22c9b21e-784f-4470-be40-e50791c25114",
   "metadata": {},
   "outputs": [],
   "source": [
    "aargang <- 2017"
   ]
  },
  {
   "cell_type": "code",
   "execution_count": 2,
   "id": "fb287050-78af-49d6-a0aa-3463df33e49a",
   "metadata": {},
   "outputs": [],
   "source": [
    "options(repr.matrix.max.rows=600, repr.matrix.max.cols=2000)\n",
    "\n",
    "suppressPackageStartupMessages({ \n",
    "library(tidyverse)\n",
    "library(readxl)\n",
    "library(klassR)\n",
    "library(sf)\n",
    "library(leaflet)\n",
    "        })"
   ]
  },
  {
   "cell_type": "markdown",
   "id": "55ec5182-3739-4277-939a-51a18009dd28",
   "metadata": {},
   "source": [
    "### Filstier"
   ]
  },
  {
   "cell_type": "code",
   "execution_count": 3,
   "id": "995c29bb-a167-483d-ae4a-f18636d26dc8",
   "metadata": {},
   "outputs": [],
   "source": [
    "arbeidsmappe <- \"/ssb/stamme01/fylkhels/speshelse/felles/\"\n",
    "arbeidsmappe_kart <- paste0(arbeidsmappe, \"kart/\", aargang, \"/\")\n",
    "\n",
    "arbeidsmappe_opptak <- paste0(arbeidsmappe, \"opptaksomrader/\", aargang, \"/\")\n",
    "\n",
    "if (file.exists(arbeidsmappe_opptak)==FALSE) {\n",
    "  dir.create(arbeidsmappe_opptak)\n",
    "}"
   ]
  },
  {
   "cell_type": "markdown",
   "id": "b1c0f259-2753-4797-baf7-725a6b5ffb19",
   "metadata": {},
   "source": [
    "## Laster inn kart (grunnkrets)"
   ]
  },
  {
   "cell_type": "code",
   "execution_count": 4,
   "id": "060a8be3-a8ad-46a0-8088-266c6e568fdf",
   "metadata": {},
   "outputs": [
    {
     "data": {
      "text/plain": [
       "Time difference of 5.61862 secs"
      ]
     },
     "metadata": {},
     "output_type": "display_data"
    }
   ],
   "source": [
    "start.time <- Sys.time()\n",
    "\n",
    "  rename_geometry <- function(g, name){\n",
    "    current = attr(g, \"sf_column\")\n",
    "    names(g)[names(g)==current] = name\n",
    "    sf::st_geometry(g)=name\n",
    "    g\n",
    "  }\n",
    "\n",
    "# grunnkrets_kart_filsti <- paste0(arbeidsmappe_kart, \"ABAS_grunnkrets_utenhav_\", aargang, \".parquet\")\n",
    "grunnkrets_kart_filsti <- paste0(arbeidsmappe_kart, \"ABAS_grunnkrets_flate_\", aargang, \".parquet\")\n",
    "\n",
    "# Lese inn filen som parquet med sfarrow\n",
    "grunnkrets_kart <- sfarrow::st_read_parquet(grunnkrets_kart_filsti) %>%\n",
    "sf::st_zm(drop = T) %>%\n",
    "sf::st_cast(\"MULTIPOLYGON\") %>%\n",
    "  sf::st_transform(crs = 4326) %>%\n",
    "  dplyr::rename(GRUNNKRETSNUMMER = GRUNNKRETS)\n",
    "\n",
    "grunnkrets_kart <- rename_geometry(grunnkrets_kart, \"geometry\")\n",
    "sf::st_geometry(grunnkrets_kart) <- \"geometry\"\n",
    "\n",
    "end.time <- Sys.time()\n",
    "time.taken <- end.time - start.time\n",
    "time.taken"
   ]
  },
  {
   "cell_type": "code",
   "execution_count": 5,
   "id": "fb24ff5f-b7f7-4c1f-a750-ef776c77bf3a",
   "metadata": {},
   "outputs": [],
   "source": [
    "# grunnkrets_kart_test <- grunnkrets_kart %>%\n",
    "# dplyr::filter(GRUNNKRETSNUMMER %in% c(\"14440104\", \"14490113\")) %>%\n",
    "# sf::st_transform(crs = 4326)"
   ]
  },
  {
   "cell_type": "code",
   "execution_count": 6,
   "id": "259ec41b-519e-45de-8c12-567d0208fed3",
   "metadata": {},
   "outputs": [],
   "source": [
    "# T04317 <- PxWebApiData::ApiData(04317, ContentsCode = \"Personer\", \n",
    "#                                 Grunnkretser = TRUE, \n",
    "#                                 Tid = as.character(aargang+1)) [[2]] %>%\n",
    "#   dplyr::filter(!is.na(value)) %>%\n",
    "#   dplyr::rename(GRUNNKRETSNUMMER = Grunnkretser,\n",
    "#                 PERSONER = value) %>%\n",
    "#   dplyr::select(GRUNNKRETSNUMMER, PERSONER)\n",
    "\n",
    "# T04317 %>%\n",
    "# dplyr::filter(GRUNNKRETSNUMMER %in% c(\"14440108\", \"14490114\"))"
   ]
  },
  {
   "cell_type": "code",
   "execution_count": 7,
   "id": "02be94ba-90a7-483f-b21f-4a3b3a0d56fd",
   "metadata": {},
   "outputs": [],
   "source": [
    "# T04317_t1 <- PxWebApiData::ApiData(04317, ContentsCode = \"Personer\", \n",
    "#                                 Grunnkretser = TRUE, \n",
    "#                                 Tid = as.character(aargang)) [[2]] %>%\n",
    "#   dplyr::filter(!is.na(value)) %>%\n",
    "#   dplyr::rename(GRUNNKRETSNUMMER = Grunnkretser,\n",
    "#                 PERSONER = value) %>%\n",
    "#   dplyr::select(GRUNNKRETSNUMMER, PERSONER)\n",
    "\n",
    "# T04317_t1 %>%\n",
    "# dplyr::filter(GRUNNKRETSNUMMER %in% c(\"14440104\", \"14490113\"))"
   ]
  },
  {
   "cell_type": "markdown",
   "id": "fcbcfe3a-2b66-48e1-9cc2-94c22555016e",
   "metadata": {},
   "source": [
    "## Kodeliste for opptaksområder i spesialisthelsetjenesten (somatikk)"
   ]
  },
  {
   "cell_type": "code",
   "execution_count": 5,
   "id": "44c85eb3-d56c-457d-98e2-a96f1039203c",
   "metadata": {},
   "outputs": [
    {
     "data": {
      "text/html": [
       "14053"
      ],
      "text/latex": [
       "14053"
      ],
      "text/markdown": [
       "14053"
      ],
      "text/plain": [
       "[1] 14053"
      ]
     },
     "metadata": {},
     "output_type": "display_data"
    }
   ],
   "source": [
    "opptaksomrader_KLASS <- klassR::GetKlass(629, output_style = \"wide\", date = c(paste0(aargang+1, \"-01-01\"))) %>%\n",
    "dplyr::rename(GRUNNKRETSNUMMER = code4, \n",
    "             GRUNNKRETS_NAVN = name4, \n",
    "             OPPTAK_NUMMER = code3, \n",
    "             OPPTAK = name3, \n",
    "             ORGNR_HF = code2, \n",
    "             NAVN_HF = name2, \n",
    "             ORGNR_RHF = code1, \n",
    "             NAVN_RHF = name1)\n",
    "\n",
    "nrow(opptaksomrader_KLASS)"
   ]
  },
  {
   "cell_type": "markdown",
   "id": "b9a727fb-1509-4942-b372-3940db1d8e70",
   "metadata": {},
   "source": [
    "### Korrespondanse mellom t og t-1 fra KLASS"
   ]
  },
  {
   "cell_type": "code",
   "execution_count": 8,
   "id": "ffade7b8-9963-42f5-87bd-bc6e261b6ec8",
   "metadata": {},
   "outputs": [
    {
     "data": {
      "text/html": [
       "1900"
      ],
      "text/latex": [
       "1900"
      ],
      "text/markdown": [
       "1900"
      ],
      "text/plain": [
       "[1] 1900"
      ]
     },
     "metadata": {},
     "output_type": "display_data"
    }
   ],
   "source": [
    "grunnkrets_KLASS <- klassR::GetKlass(1, date = c(paste0(aargang, \"-01-01\"), paste0(aargang+1, \"-01-01\")), correspond = TRUE) %>%\n",
    "dplyr::rename(GRUNNKRETSNUMMER_T1 = sourceCode, \n",
    "             GRUNNKRETSNUMMER = targetCode, \n",
    "             targetName = targetName)\n",
    "\n",
    "# grunnkrets_KLASS <- grunnkrets_KLASS %>%\n",
    "# dplyr::filter(!GRUNNKRETSNUMMER_T1 %in% c(\"14440104\") |  !GRUNNKRETSNUMMER %in% c(\"14490114\")) # Fjerner Kjøs fra Markane\n",
    "\n",
    "nrow(grunnkrets_KLASS)"
   ]
  },
  {
   "cell_type": "markdown",
   "id": "c7ece272-ec42-40bc-b8f8-35298ea5e1db",
   "metadata": {},
   "source": [
    "OK"
   ]
  },
  {
   "cell_type": "code",
   "execution_count": 9,
   "id": "cd06e7b8-bcd1-47e6-baa7-ad8ac36f1cac",
   "metadata": {},
   "outputs": [
    {
     "data": {
      "text/html": [
       "<table class=\"dataframe\">\n",
       "<caption>A grouped_df: 0 × 4</caption>\n",
       "<thead>\n",
       "\t<tr><th scope=col>GRUNNKRETSNUMMER_T1</th><th scope=col>sourceName</th><th scope=col>GRUNNKRETSNUMMER</th><th scope=col>targetName</th></tr>\n",
       "\t<tr><th scope=col>&lt;chr&gt;</th><th scope=col>&lt;chr&gt;</th><th scope=col>&lt;chr&gt;</th><th scope=col>&lt;chr&gt;</th></tr>\n",
       "</thead>\n",
       "<tbody>\n",
       "</tbody>\n",
       "</table>\n"
      ],
      "text/latex": [
       "A grouped\\_df: 0 × 4\n",
       "\\begin{tabular}{llll}\n",
       " GRUNNKRETSNUMMER\\_T1 & sourceName & GRUNNKRETSNUMMER & targetName\\\\\n",
       " <chr> & <chr> & <chr> & <chr>\\\\\n",
       "\\hline\n",
       "\\end{tabular}\n"
      ],
      "text/markdown": [
       "\n",
       "A grouped_df: 0 × 4\n",
       "\n",
       "| GRUNNKRETSNUMMER_T1 &lt;chr&gt; | sourceName &lt;chr&gt; | GRUNNKRETSNUMMER &lt;chr&gt; | targetName &lt;chr&gt; |\n",
       "|---|---|---|---|\n",
       "\n"
      ],
      "text/plain": [
       "     GRUNNKRETSNUMMER_T1 sourceName GRUNNKRETSNUMMER targetName"
      ]
     },
     "metadata": {},
     "output_type": "display_data"
    }
   ],
   "source": [
    "grunnkrets_KLASS %>%\n",
    "group_by(GRUNNKRETSNUMMER) %>% # grunnkrets_KLASS_T1_2\n",
    "filter(n()>1)"
   ]
  },
  {
   "cell_type": "code",
   "execution_count": 10,
   "id": "1b443eb1-67e5-4c27-8965-8b27d00308aa",
   "metadata": {},
   "outputs": [
    {
     "data": {
      "text/html": [
       "<table class=\"dataframe\">\n",
       "<caption>A grouped_df: 15 × 4</caption>\n",
       "<thead>\n",
       "\t<tr><th scope=col>GRUNNKRETSNUMMER_T1</th><th scope=col>sourceName</th><th scope=col>GRUNNKRETSNUMMER</th><th scope=col>targetName</th></tr>\n",
       "\t<tr><th scope=col>&lt;chr&gt;</th><th scope=col>&lt;chr&gt;</th><th scope=col>&lt;chr&gt;</th><th scope=col>&lt;chr&gt;</th></tr>\n",
       "</thead>\n",
       "<tbody>\n",
       "\t<tr><td>02350107</td><td>Kløfta øst      </td><td>02350112</td><td>Kløfta øst            </td></tr>\n",
       "\t<tr><td>02350107</td><td>Kløfta øst      </td><td>02350113</td><td>Ullersmo              </td></tr>\n",
       "\t<tr><td>02350202</td><td>Allergodt       </td><td>02350214</td><td>Allergodt             </td></tr>\n",
       "\t<tr><td>02350202</td><td>Allergodt       </td><td>02350215</td><td>Langelandsfjellet nord</td></tr>\n",
       "\t<tr><td>02350202</td><td>Allergodt       </td><td>02350216</td><td>Langelandsfjellet sør </td></tr>\n",
       "\t<tr><td>02350203</td><td>Jessheim øst    </td><td>02350217</td><td>Jessheim øst          </td></tr>\n",
       "\t<tr><td>02350203</td><td>Jessheim øst    </td><td>02350218</td><td>Gamlebyen             </td></tr>\n",
       "\t<tr><td>02350205</td><td>Jessheim sentrum</td><td>02350219</td><td>Jessheim sentrum nord </td></tr>\n",
       "\t<tr><td>02350205</td><td>Jessheim sentrum</td><td>02350220</td><td>Jessheim sentrum syd  </td></tr>\n",
       "\t<tr><td>02350207</td><td>Gjestadhagen    </td><td>02350221</td><td>Gjestadhagen          </td></tr>\n",
       "\t<tr><td>02350207</td><td>Gjestadhagen    </td><td>02350222</td><td>Gjestad               </td></tr>\n",
       "\t<tr><td>02350301</td><td>Ullensaker      </td><td>02350306</td><td>Skogmo øst            </td></tr>\n",
       "\t<tr><td>02350301</td><td>Ullensaker      </td><td>02350307</td><td>Ullensaker            </td></tr>\n",
       "\t<tr><td>02350801</td><td>Gystad          </td><td>02350806</td><td>Gystadmarka           </td></tr>\n",
       "\t<tr><td>02350801</td><td>Gystad          </td><td>02350807</td><td>Gystad                </td></tr>\n",
       "</tbody>\n",
       "</table>\n"
      ],
      "text/latex": [
       "A grouped\\_df: 15 × 4\n",
       "\\begin{tabular}{llll}\n",
       " GRUNNKRETSNUMMER\\_T1 & sourceName & GRUNNKRETSNUMMER & targetName\\\\\n",
       " <chr> & <chr> & <chr> & <chr>\\\\\n",
       "\\hline\n",
       "\t 02350107 & Kløfta øst       & 02350112 & Kløfta øst            \\\\\n",
       "\t 02350107 & Kløfta øst       & 02350113 & Ullersmo              \\\\\n",
       "\t 02350202 & Allergodt        & 02350214 & Allergodt             \\\\\n",
       "\t 02350202 & Allergodt        & 02350215 & Langelandsfjellet nord\\\\\n",
       "\t 02350202 & Allergodt        & 02350216 & Langelandsfjellet sør \\\\\n",
       "\t 02350203 & Jessheim øst     & 02350217 & Jessheim øst          \\\\\n",
       "\t 02350203 & Jessheim øst     & 02350218 & Gamlebyen             \\\\\n",
       "\t 02350205 & Jessheim sentrum & 02350219 & Jessheim sentrum nord \\\\\n",
       "\t 02350205 & Jessheim sentrum & 02350220 & Jessheim sentrum syd  \\\\\n",
       "\t 02350207 & Gjestadhagen     & 02350221 & Gjestadhagen          \\\\\n",
       "\t 02350207 & Gjestadhagen     & 02350222 & Gjestad               \\\\\n",
       "\t 02350301 & Ullensaker       & 02350306 & Skogmo øst            \\\\\n",
       "\t 02350301 & Ullensaker       & 02350307 & Ullensaker            \\\\\n",
       "\t 02350801 & Gystad           & 02350806 & Gystadmarka           \\\\\n",
       "\t 02350801 & Gystad           & 02350807 & Gystad                \\\\\n",
       "\\end{tabular}\n"
      ],
      "text/markdown": [
       "\n",
       "A grouped_df: 15 × 4\n",
       "\n",
       "| GRUNNKRETSNUMMER_T1 &lt;chr&gt; | sourceName &lt;chr&gt; | GRUNNKRETSNUMMER &lt;chr&gt; | targetName &lt;chr&gt; |\n",
       "|---|---|---|---|\n",
       "| 02350107 | Kløfta øst       | 02350112 | Kløfta øst             |\n",
       "| 02350107 | Kløfta øst       | 02350113 | Ullersmo               |\n",
       "| 02350202 | Allergodt        | 02350214 | Allergodt              |\n",
       "| 02350202 | Allergodt        | 02350215 | Langelandsfjellet nord |\n",
       "| 02350202 | Allergodt        | 02350216 | Langelandsfjellet sør  |\n",
       "| 02350203 | Jessheim øst     | 02350217 | Jessheim øst           |\n",
       "| 02350203 | Jessheim øst     | 02350218 | Gamlebyen              |\n",
       "| 02350205 | Jessheim sentrum | 02350219 | Jessheim sentrum nord  |\n",
       "| 02350205 | Jessheim sentrum | 02350220 | Jessheim sentrum syd   |\n",
       "| 02350207 | Gjestadhagen     | 02350221 | Gjestadhagen           |\n",
       "| 02350207 | Gjestadhagen     | 02350222 | Gjestad                |\n",
       "| 02350301 | Ullensaker       | 02350306 | Skogmo øst             |\n",
       "| 02350301 | Ullensaker       | 02350307 | Ullensaker             |\n",
       "| 02350801 | Gystad           | 02350806 | Gystadmarka            |\n",
       "| 02350801 | Gystad           | 02350807 | Gystad                 |\n",
       "\n"
      ],
      "text/plain": [
       "   GRUNNKRETSNUMMER_T1 sourceName       GRUNNKRETSNUMMER targetName            \n",
       "1  02350107            Kløfta øst       02350112         Kløfta øst            \n",
       "2  02350107            Kløfta øst       02350113         Ullersmo              \n",
       "3  02350202            Allergodt        02350214         Allergodt             \n",
       "4  02350202            Allergodt        02350215         Langelandsfjellet nord\n",
       "5  02350202            Allergodt        02350216         Langelandsfjellet sør \n",
       "6  02350203            Jessheim øst     02350217         Jessheim øst          \n",
       "7  02350203            Jessheim øst     02350218         Gamlebyen             \n",
       "8  02350205            Jessheim sentrum 02350219         Jessheim sentrum nord \n",
       "9  02350205            Jessheim sentrum 02350220         Jessheim sentrum syd  \n",
       "10 02350207            Gjestadhagen     02350221         Gjestadhagen          \n",
       "11 02350207            Gjestadhagen     02350222         Gjestad               \n",
       "12 02350301            Ullensaker       02350306         Skogmo øst            \n",
       "13 02350301            Ullensaker       02350307         Ullensaker            \n",
       "14 02350801            Gystad           02350806         Gystadmarka           \n",
       "15 02350801            Gystad           02350807         Gystad                "
      ]
     },
     "metadata": {},
     "output_type": "display_data"
    }
   ],
   "source": [
    "grunnkrets_KLASS %>%\n",
    "group_by(GRUNNKRETSNUMMER_T1) %>% # grunnkrets_KLASS_T1_2\n",
    "filter(n()>1)"
   ]
  },
  {
   "cell_type": "markdown",
   "id": "22ba0a28-2d9b-482b-aa11-e6a7c23aa7cc",
   "metadata": {},
   "source": [
    "### Merger opptaksområder med KLASS (t-1)"
   ]
  },
  {
   "cell_type": "code",
   "execution_count": 11,
   "id": "d7bd8901-c0ca-4bdf-a403-8397be13a069",
   "metadata": {},
   "outputs": [
    {
     "data": {
      "text/html": [
       "14045"
      ],
      "text/latex": [
       "14045"
      ],
      "text/markdown": [
       "14045"
      ],
      "text/plain": [
       "[1] 14045"
      ]
     },
     "metadata": {},
     "output_type": "display_data"
    }
   ],
   "source": [
    "opptaksomrader_KLASS_2 <- opptaksomrader_KLASS %>%\n",
    "dplyr::left_join(grunnkrets_KLASS, by = \"GRUNNKRETSNUMMER\") %>%\n",
    "dplyr::mutate(GRUNNKRETSNUMMER_T1 = case_when(\n",
    "is.na(GRUNNKRETSNUMMER_T1) ~ GRUNNKRETSNUMMER, \n",
    "    TRUE ~ GRUNNKRETSNUMMER_T1\n",
    ")) %>%\n",
    "dplyr::select(GRUNNKRETSNUMMER, GRUNNKRETSNUMMER_T1, GRUNNKRETS_NAVN, OPPTAK_NUMMER, OPPTAK, ORGNR_HF, NAVN_HF, ORGNR_RHF, NAVN_RHF) %>%\n",
    "dplyr::distinct(GRUNNKRETSNUMMER_T1, OPPTAK_NUMMER, OPPTAK, ORGNR_HF, NAVN_HF, ORGNR_RHF, NAVN_RHF)\n",
    "\n",
    "nrow(opptaksomrader_KLASS_2)"
   ]
  },
  {
   "cell_type": "code",
   "execution_count": 12,
   "id": "8d070b96-ef8d-40c3-a85b-433acda101d1",
   "metadata": {},
   "outputs": [],
   "source": [
    "# opptaksomrader_KLASS_2 %>%\n",
    "# dplyr::filter(GRUNNKRETSNUMMER_T1 == \"18500109\")"
   ]
  },
  {
   "cell_type": "markdown",
   "id": "c9ae84b0-5a87-4c5d-953e-b3776ab7c290",
   "metadata": {},
   "source": [
    "### Laster inn KLASS (t-1)"
   ]
  },
  {
   "cell_type": "code",
   "execution_count": 13,
   "id": "4760123d-552a-4a51-bd37-94721867cfa2",
   "metadata": {},
   "outputs": [
    {
     "data": {
      "text/html": [
       "14046"
      ],
      "text/latex": [
       "14046"
      ],
      "text/markdown": [
       "14046"
      ],
      "text/plain": [
       "[1] 14046"
      ]
     },
     "metadata": {},
     "output_type": "display_data"
    },
    {
     "data": {
      "text/html": [
       "14045"
      ],
      "text/latex": [
       "14045"
      ],
      "text/markdown": [
       "14045"
      ],
      "text/plain": [
       "[1] 14045"
      ]
     },
     "metadata": {},
     "output_type": "display_data"
    }
   ],
   "source": [
    "grunnkrets_KLASS_T1 <- klassR::GetKlass(1, output_style = \"wide\", date = c(paste0(aargang, \"-01-01\"))) %>%\n",
    "dplyr::rename(GRUNNKRETSNUMMER_T1 = code2, \n",
    "             GRUNNKRETS_NAVN_T1 = name2) %>%\n",
    "dplyr::select(GRUNNKRETSNUMMER_T1, GRUNNKRETS_NAVN_T1) \n",
    "\n",
    "nrow(grunnkrets_KLASS_T1)\n",
    "nrow(opptaksomrader_KLASS_2)"
   ]
  },
  {
   "cell_type": "code",
   "execution_count": 14,
   "id": "79e53b5c-6f75-4b3d-9b5d-341ec06b2565",
   "metadata": {},
   "outputs": [],
   "source": [
    "# opptaksomrader_KLASS_2 %>%\n",
    "# group_by(GRUNNKRETSNUMMER_T1) %>% # grunnkrets_KLASS_T1_2\n",
    "# filter(n()>1)"
   ]
  },
  {
   "cell_type": "code",
   "execution_count": 15,
   "id": "661c2eb9-8da9-4564-8d44-f74856aa7fbd",
   "metadata": {},
   "outputs": [
    {
     "data": {
      "text/html": [
       "14046"
      ],
      "text/latex": [
       "14046"
      ],
      "text/markdown": [
       "14046"
      ],
      "text/plain": [
       "[1] 14046"
      ]
     },
     "metadata": {},
     "output_type": "display_data"
    },
    {
     "data": {
      "text/html": [
       "14045"
      ],
      "text/latex": [
       "14045"
      ],
      "text/markdown": [
       "14045"
      ],
      "text/plain": [
       "[1] 14045"
      ]
     },
     "metadata": {},
     "output_type": "display_data"
    }
   ],
   "source": [
    "nrow(grunnkrets_KLASS_T1)\n",
    "\n",
    "grunnkrets_KLASS_T1_2 <- grunnkrets_KLASS_T1 %>%\n",
    "dplyr::left_join(opptaksomrader_KLASS_2, by = \"GRUNNKRETSNUMMER_T1\") %>%\n",
    "dplyr::filter(!is.na(OPPTAK))\n",
    "\n",
    "nrow(grunnkrets_KLASS_T1_2)\n",
    "\n",
    "# head(grunnkrets_KLASS_T1_2)\n",
    "\n",
    "# grunnkrets_KLASS_T1_2 <- grunnkrets_KLASS_T1 %>%\n",
    "# dplyr::distinct(GRUNNKRETSNUMMER_T1, GRUNNKRETS_NAVN_T1, OPPTAK)"
   ]
  },
  {
   "cell_type": "code",
   "execution_count": 20,
   "id": "fc76da29-d086-4d97-b08f-f1238ad06874",
   "metadata": {},
   "outputs": [
    {
     "data": {
      "text/html": [
       "<table class=\"dataframe\">\n",
       "<caption>A grouped_df: 0 × 8</caption>\n",
       "<thead>\n",
       "\t<tr><th scope=col>GRUNNKRETSNUMMER_T1</th><th scope=col>GRUNNKRETS_NAVN_T1</th><th scope=col>OPPTAK_NUMMER</th><th scope=col>OPPTAK</th><th scope=col>ORGNR_HF</th><th scope=col>NAVN_HF</th><th scope=col>ORGNR_RHF</th><th scope=col>NAVN_RHF</th></tr>\n",
       "\t<tr><th scope=col>&lt;chr&gt;</th><th scope=col>&lt;chr&gt;</th><th scope=col>&lt;chr&gt;</th><th scope=col>&lt;chr&gt;</th><th scope=col>&lt;chr&gt;</th><th scope=col>&lt;chr&gt;</th><th scope=col>&lt;chr&gt;</th><th scope=col>&lt;chr&gt;</th></tr>\n",
       "</thead>\n",
       "<tbody>\n",
       "</tbody>\n",
       "</table>\n"
      ],
      "text/latex": [
       "A grouped\\_df: 0 × 8\n",
       "\\begin{tabular}{llllllll}\n",
       " GRUNNKRETSNUMMER\\_T1 & GRUNNKRETS\\_NAVN\\_T1 & OPPTAK\\_NUMMER & OPPTAK & ORGNR\\_HF & NAVN\\_HF & ORGNR\\_RHF & NAVN\\_RHF\\\\\n",
       " <chr> & <chr> & <chr> & <chr> & <chr> & <chr> & <chr> & <chr>\\\\\n",
       "\\hline\n",
       "\\end{tabular}\n"
      ],
      "text/markdown": [
       "\n",
       "A grouped_df: 0 × 8\n",
       "\n",
       "| GRUNNKRETSNUMMER_T1 &lt;chr&gt; | GRUNNKRETS_NAVN_T1 &lt;chr&gt; | OPPTAK_NUMMER &lt;chr&gt; | OPPTAK &lt;chr&gt; | ORGNR_HF &lt;chr&gt; | NAVN_HF &lt;chr&gt; | ORGNR_RHF &lt;chr&gt; | NAVN_RHF &lt;chr&gt; |\n",
       "|---|---|---|---|---|---|---|---|\n",
       "\n"
      ],
      "text/plain": [
       "     GRUNNKRETSNUMMER_T1 GRUNNKRETS_NAVN_T1 OPPTAK_NUMMER OPPTAK ORGNR_HF\n",
       "     NAVN_HF ORGNR_RHF NAVN_RHF"
      ]
     },
     "metadata": {},
     "output_type": "display_data"
    }
   ],
   "source": [
    "grunnkrets_KLASS_T1_2 %>%\n",
    "group_by(GRUNNKRETSNUMMER_T1) %>% # grunnkrets_KLASS_T1_2\n",
    "filter(n()>1)"
   ]
  },
  {
   "cell_type": "code",
   "execution_count": 22,
   "id": "fef7c1d9-9a3d-45db-b819-c799ff0397b0",
   "metadata": {},
   "outputs": [],
   "source": [
    "# grunnkrets_KLASS_T1_2"
   ]
  },
  {
   "cell_type": "markdown",
   "id": "6742a67f-f051-4474-8e5c-6b6e3a92df6c",
   "metadata": {},
   "source": [
    "### Lagrer filen "
   ]
  },
  {
   "cell_type": "code",
   "execution_count": 23,
   "id": "e56f1e48-ef82-4abd-bb23-7abf150da01d",
   "metadata": {},
   "outputs": [],
   "source": [
    "test <- grunnkrets_KLASS_T1_2 %>%\n",
    "  dplyr::mutate(TOM_FORELDER = \"\") %>%\n",
    "  dplyr::select(GRUNNKRETSNUMMER_T1, GRUNNKRETS_NAVN_T1, OPPTAK_NUMMER, ORGNR_HF, NAVN_HF, OPPTAK, ORGNR_RHF, NAVN_RHF, TOM_FORELDER)\n",
    "\n",
    "level_1 <- test %>%\n",
    "  dplyr::select(ORGNR_RHF, TOM_FORELDER, NAVN_RHF) %>%\n",
    "  dplyr::rename('ns1:kode' = ORGNR_RHF, \n",
    "                'ns1:forelder' = TOM_FORELDER, \n",
    "                'ns1:navn_bokmål' = NAVN_RHF) %>%\n",
    "  dplyr::distinct()\n",
    "\n",
    "level_2 <- test %>%\n",
    "  dplyr::select(ORGNR_HF, ORGNR_RHF, NAVN_HF) %>%\n",
    "  dplyr::rename('ns1:kode' = ORGNR_HF, \n",
    "                'ns1:forelder' = ORGNR_RHF, \n",
    "                'ns1:navn_bokmål' = NAVN_HF) %>%\n",
    "  dplyr::distinct()\n",
    "\n",
    "level_3 <- test %>%\n",
    "  dplyr::select(OPPTAK_NUMMER, ORGNR_HF, OPPTAK) %>%\n",
    "  dplyr::rename('ns1:kode' = OPPTAK_NUMMER, \n",
    "                'ns1:forelder' = ORGNR_HF, \n",
    "                'ns1:navn_bokmål' = OPPTAK) %>%\n",
    "  dplyr::distinct()\n",
    "\n",
    "level_4 <- test %>%\n",
    "  dplyr::select(GRUNNKRETSNUMMER_T1, OPPTAK_NUMMER, GRUNNKRETS_NAVN_T1) %>%\n",
    "  dplyr::rename('ns1:kode' = GRUNNKRETSNUMMER_T1, \n",
    "                'ns1:forelder' = OPPTAK_NUMMER, \n",
    "                'ns1:navn_bokmål' = GRUNNKRETS_NAVN_T1) %>%\n",
    "  dplyr::distinct()\n",
    "\n",
    "KLASS <- rbind(level_1, level_2, level_3, level_4)"
   ]
  },
  {
   "cell_type": "code",
   "execution_count": 24,
   "id": "4068dd58-f46e-4dfb-84b9-8eeb9cb1a82f",
   "metadata": {},
   "outputs": [],
   "source": [
    "openxlsx::write.xlsx(KLASS, file = paste0(\"/ssb/bruker/rdn/opptak_\", aargang, \".xlsx\"),\n",
    "                     rowNames = FALSE,\n",
    "                     showNA = FALSE,\n",
    "                     overwrite=T) # T = overskriver dersom filen allerede finnes, F = gir feilmelding dersom filen finnes"
   ]
  }
 ],
 "metadata": {
  "kernelspec": {
   "display_name": "R",
   "language": "R",
   "name": "ir"
  },
  "language_info": {
   "codemirror_mode": "r",
   "file_extension": ".r",
   "mimetype": "text/x-r-source",
   "name": "R",
   "pygments_lexer": "r",
   "version": "4.2.2"
  }
 },
 "nbformat": 4,
 "nbformat_minor": 5
}
