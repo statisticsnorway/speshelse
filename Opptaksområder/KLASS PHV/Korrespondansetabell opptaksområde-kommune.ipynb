{
 "cells": [
  {
   "cell_type": "markdown",
   "id": "4e526b35-99d9-4841-a762-c7d117c9dc4f",
   "metadata": {},
   "source": [
    "# Korrespondansetabell opptaksområde-kommune"
   ]
  },
  {
   "cell_type": "code",
   "execution_count": 1,
   "id": "12683cd8-1883-4548-9406-ca3eb0208645",
   "metadata": {},
   "outputs": [],
   "source": [
    "aargang <- 2021"
   ]
  },
  {
   "cell_type": "code",
   "execution_count": 2,
   "id": "b6cbf062-e0f0-4805-a1ef-8bef43f623a0",
   "metadata": {},
   "outputs": [],
   "source": [
    "options(repr.matrix.max.rows=600, repr.matrix.max.cols=2000)\n",
    "\n",
    "suppressPackageStartupMessages({ \n",
    "library(tidyverse)\n",
    "library(readxl)\n",
    "library(klassR)\n",
    "library(sf)\n",
    "library(leaflet)\n",
    "        })"
   ]
  },
  {
   "cell_type": "markdown",
   "id": "c0752d61-be50-465a-94fa-bcef59338bdc",
   "metadata": {},
   "source": [
    "## Kodeliste for opptaksområder i spesialisthelsetjenesten (somatikk)"
   ]
  },
  {
   "cell_type": "code",
   "execution_count": 3,
   "id": "57d43c35-58dc-4adf-8583-a5a2b81a173a",
   "metadata": {},
   "outputs": [
    {
     "data": {
      "text/html": [
       "14452"
      ],
      "text/latex": [
       "14452"
      ],
      "text/markdown": [
       "14452"
      ],
      "text/plain": [
       "[1] 14452"
      ]
     },
     "metadata": {},
     "output_type": "display_data"
    }
   ],
   "source": [
    "opptaksomrader_KLASS <- klassR::GetKlass(630, output_style = \"wide\", date = c(paste0(aargang, \"-01-01\"))) %>%\n",
    "dplyr::rename(GRUNNKRETSNUMMER = code3, \n",
    "             GRUNNKRETS_NAVN = name3,\n",
    "              ORGNR_HF = code2, \n",
    "             NAVN_HF = name2, \n",
    "             ORGNR_RHF = code1, \n",
    "             NAVN_RHF = name1) %>%\n",
    "dplyr::mutate(GRUNNKRETSNUMMER = str_pad(GRUNNKRETSNUMMER, width = 8, \"left\", pad = \"0\"))\n",
    "\n",
    "nrow(opptaksomrader_KLASS)"
   ]
  },
  {
   "cell_type": "code",
   "execution_count": 4,
   "id": "b404e9b2-d11c-45c4-a594-f48ab5336c5b",
   "metadata": {},
   "outputs": [
    {
     "data": {
      "text/html": [
       "356"
      ],
      "text/latex": [
       "356"
      ],
      "text/markdown": [
       "356"
      ],
      "text/plain": [
       "[1] 356"
      ]
     },
     "metadata": {},
     "output_type": "display_data"
    }
   ],
   "source": [
    "kommune_KLASS <- klassR::GetKlass(131, date = c(paste0(aargang, \"-01-01\"))) %>%\n",
    "dplyr::filter(!code %in% c(\"9999\")) %>%\n",
    "dplyr::rename(KOMMUNENUMMER = code, \n",
    "             KOMMUNENAVN = name) %>%\n",
    "dplyr::select(KOMMUNENUMMER, KOMMUNENAVN)\n",
    "\n",
    "nrow(kommune_KLASS)"
   ]
  },
  {
   "cell_type": "markdown",
   "id": "8292677b-6ed8-468a-9f46-5bc6c98c3016",
   "metadata": {},
   "source": [
    "## Lager korrespondanse mellom opptaksområde og kommune \n",
    "\n",
    "Inneholder noen dubletter"
   ]
  },
  {
   "cell_type": "code",
   "execution_count": 5,
   "id": "ba7b89eb-7ea1-48ef-8884-dc3ab17e5870",
   "metadata": {},
   "outputs": [],
   "source": [
    "opptaksomrader_KLASS_2 <- opptaksomrader_KLASS %>%\n",
    "dplyr::mutate(KOMMUNENUMMER = substr(GRUNNKRETSNUMMER, 1, 4)) %>%\n",
    "dplyr::select(ORGNR_HF, NAVN_HF, KOMMUNENUMMER) %>%\n",
    "dplyr::distinct() %>%\n",
    "dplyr::left_join(kommune_KLASS, by = \"KOMMUNENUMMER\") %>%\n",
    "dplyr::filter(!KOMMUNENUMMER %in% c(\"KOMMUNENUMMER\"), \n",
    "             KOMMUNENUMMER != \"2100\") "
   ]
  },
  {
   "cell_type": "code",
   "execution_count": 6,
   "id": "7e87fb5b-8c07-4cdf-9dcc-4872e9561799",
   "metadata": {},
   "outputs": [
    {
     "data": {
      "text/html": [
       "<table class=\"dataframe\">\n",
       "<caption>A grouped_df: 6 × 4</caption>\n",
       "<thead>\n",
       "\t<tr><th scope=col>ORGNR_HF</th><th scope=col>NAVN_HF</th><th scope=col>KOMMUNENUMMER</th><th scope=col>KOMMUNENAVN</th></tr>\n",
       "\t<tr><th scope=col>&lt;chr&gt;</th><th scope=col>&lt;chr&gt;</th><th scope=col>&lt;chr&gt;</th><th scope=col>&lt;chr&gt;</th></tr>\n",
       "</thead>\n",
       "<tbody>\n",
       "\t<tr><td>993467049</td><td>OSLO UNIVERSITETSSYKEHUS HF     </td><td>0301</td><td>Oslo       </td></tr>\n",
       "\t<tr><td>965985166</td><td>LOVISENBERG DIAKONALE SYKEHUS AS</td><td>0301</td><td>Oslo       </td></tr>\n",
       "\t<tr><td>982791952</td><td>DIAKONHJEMMET SYKEHUS AS        </td><td>0301</td><td>Oslo       </td></tr>\n",
       "\t<tr><td>983971636</td><td>AKERSHUS UNIVERSITETSSYKEHUS HF </td><td>0301</td><td>Oslo       </td></tr>\n",
       "\t<tr><td>983975259</td><td>SYKEHUSET I VESTFOLD HF         </td><td>3802</td><td>Holmestrand</td></tr>\n",
       "\t<tr><td>894166762</td><td>VESTRE VIKEN HF                 </td><td>3802</td><td>Holmestrand</td></tr>\n",
       "</tbody>\n",
       "</table>\n"
      ],
      "text/latex": [
       "A grouped\\_df: 6 × 4\n",
       "\\begin{tabular}{llll}\n",
       " ORGNR\\_HF & NAVN\\_HF & KOMMUNENUMMER & KOMMUNENAVN\\\\\n",
       " <chr> & <chr> & <chr> & <chr>\\\\\n",
       "\\hline\n",
       "\t 993467049 & OSLO UNIVERSITETSSYKEHUS HF      & 0301 & Oslo       \\\\\n",
       "\t 965985166 & LOVISENBERG DIAKONALE SYKEHUS AS & 0301 & Oslo       \\\\\n",
       "\t 982791952 & DIAKONHJEMMET SYKEHUS AS         & 0301 & Oslo       \\\\\n",
       "\t 983971636 & AKERSHUS UNIVERSITETSSYKEHUS HF  & 0301 & Oslo       \\\\\n",
       "\t 983975259 & SYKEHUSET I VESTFOLD HF          & 3802 & Holmestrand\\\\\n",
       "\t 894166762 & VESTRE VIKEN HF                  & 3802 & Holmestrand\\\\\n",
       "\\end{tabular}\n"
      ],
      "text/markdown": [
       "\n",
       "A grouped_df: 6 × 4\n",
       "\n",
       "| ORGNR_HF &lt;chr&gt; | NAVN_HF &lt;chr&gt; | KOMMUNENUMMER &lt;chr&gt; | KOMMUNENAVN &lt;chr&gt; |\n",
       "|---|---|---|---|\n",
       "| 993467049 | OSLO UNIVERSITETSSYKEHUS HF      | 0301 | Oslo        |\n",
       "| 965985166 | LOVISENBERG DIAKONALE SYKEHUS AS | 0301 | Oslo        |\n",
       "| 982791952 | DIAKONHJEMMET SYKEHUS AS         | 0301 | Oslo        |\n",
       "| 983971636 | AKERSHUS UNIVERSITETSSYKEHUS HF  | 0301 | Oslo        |\n",
       "| 983975259 | SYKEHUSET I VESTFOLD HF          | 3802 | Holmestrand |\n",
       "| 894166762 | VESTRE VIKEN HF                  | 3802 | Holmestrand |\n",
       "\n"
      ],
      "text/plain": [
       "  ORGNR_HF  NAVN_HF                          KOMMUNENUMMER KOMMUNENAVN\n",
       "1 993467049 OSLO UNIVERSITETSSYKEHUS HF      0301          Oslo       \n",
       "2 965985166 LOVISENBERG DIAKONALE SYKEHUS AS 0301          Oslo       \n",
       "3 982791952 DIAKONHJEMMET SYKEHUS AS         0301          Oslo       \n",
       "4 983971636 AKERSHUS UNIVERSITETSSYKEHUS HF  0301          Oslo       \n",
       "5 983975259 SYKEHUSET I VESTFOLD HF          3802          Holmestrand\n",
       "6 894166762 VESTRE VIKEN HF                  3802          Holmestrand"
      ]
     },
     "metadata": {},
     "output_type": "display_data"
    }
   ],
   "source": [
    "opptaksomrader_KLASS_2 %>%\n",
    "dplyr::group_by(KOMMUNENUMMER) %>%\n",
    "dplyr::filter(n()>1)"
   ]
  },
  {
   "cell_type": "code",
   "execution_count": 7,
   "id": "ab482365-bc37-4ba5-afe5-844198ab5fdf",
   "metadata": {},
   "outputs": [],
   "source": [
    "opptaksomrader_KLASS_2 <- opptaksomrader_KLASS_2 %>%\n",
    "dplyr::rename('ns1:kilde_kode' = ORGNR_HF, \n",
    "             'ns1:kilde_tittel' = NAVN_HF, \n",
    "             'ns1:mål_kode' = KOMMUNENUMMER, \n",
    "             'ns1:mål_tittel' = KOMMUNENAVN)\n",
    "\n",
    "openxlsx::write.xlsx(opptaksomrader_KLASS_2, file = paste0(\"/ssb/bruker/rdn/korrespondanse_PHV_\", aargang, \".xlsx\"),\n",
    "                     rowNames = FALSE,\n",
    "                     showNA = FALSE,\n",
    "                     overwrite=T) # T = overskriver dersom filen allerede finnes, F = gir feilmelding dersom filen finnes"
   ]
  }
 ],
 "metadata": {
  "kernelspec": {
   "display_name": "R",
   "language": "R",
   "name": "ir"
  },
  "language_info": {
   "codemirror_mode": "r",
   "file_extension": ".r",
   "mimetype": "text/x-r-source",
   "name": "R",
   "pygments_lexer": "r",
   "version": "4.2.2"
  }
 },
 "nbformat": 4,
 "nbformat_minor": 5
}
