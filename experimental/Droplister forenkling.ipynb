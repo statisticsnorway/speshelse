{
 "cells": [
  {
   "cell_type": "markdown",
   "id": "56b6b295-ab27-405a-ad66-802759ea77f8",
   "metadata": {},
   "source": [
    "#### Næringskoder knyttet til institusjonstype\n",
    "\n",
    "```sysskostra_2 <- sysskostra_2 %>%  dplyr::mutate(tjeneste = case_when(    virk_nace1_sn07 %in% c(\"86.101\", \"86.102\", \"86.103\", \"86.107\", \"86.212\", \"86.221\", \"86.904\", \"86.906\", \"86.909\") ~ \"SOMA\",    virk_nace1_sn07 %in% c(\"86.104\", \"86.223\") ~ \"PSYK_V\",    virk_nace1_sn07 %in% c(\"86.105\", \"86.224\") ~ \"PSYK_B\",    virk_nace1_sn07 %in% c(\"86.106\", \"86.225\") ~ \"RUSI\",    virk_nace1_sn07 == \"86.907\" ~ \"AMBU\",    TRUE ~ \"Resten\"))```"
   ]
  },
  {
   "cell_type": "markdown",
   "id": "f4efb993-578c-4044-a712-c2f0e7c27983",
   "metadata": {
    "toc-hr-collapsed": true
   },
   "source": [
    "# Setup"
   ]
  },
  {
   "cell_type": "markdown",
   "id": "a6fd000f-26de-40a3-ae9e-b50c5ce1c399",
   "metadata": {},
   "source": [
    "### Forfatter(e)\n",
    "1. Magne Furuholmen Myhren (høsten 2022). Basert på en rekke sas-filer, tidligere drop-lister og spesifikk kompetanse fra kollegaer"
   ]
  },
  {
   "cell_type": "markdown",
   "id": "77d9ffae-1b46-4a68-9c71-2b873029668c",
   "metadata": {},
   "source": [
    "## Velger årgang og delregister\n",
    "Legger også til filsti til rådata fra NPR og avtalsespesialister"
   ]
  },
  {
   "cell_type": "code",
   "execution_count": null,
   "id": "136506ea-99c2-4429-b794-ae5551fb5b9c",
   "metadata": {},
   "outputs": [],
   "source": [
    "aargang = 2022\n",
    "aar_for = aargang - 1 # året før\n",
    "\n",
    "lagre_filer = False   # sett til True, hvis du vil lagre droplistene\n",
    "sti_til_lagring = \"\"  # eventell sti til lagringsmappe. \n",
    "                      # Lagres i denne mappen hvis tom"
   ]
  },
  {
   "cell_type": "markdown",
   "id": "12272fa6-45a5-4ea1-bdf2-67f5da1f82e3",
   "metadata": {},
   "source": [
    "## Importerer pakker og setter innstillinger"
   ]
  },
  {
   "cell_type": "code",
   "execution_count": null,
   "id": "2c7c9057-f6f3-47cb-9cb3-34e9327fbda4",
   "metadata": {},
   "outputs": [],
   "source": [
    "import numpy as np\n",
    "import pandas as pd\n",
    "import cx_Oracle\n",
    "import getpass\n",
    "import os\n",
    "import matplotlib.pyplot as plt\n",
    "import requests\n",
    "from pandas.io.json import json_normalize #package for flattening json in pandas df\n",
    "\n",
    "# Fjerner begrensning på antall rader og kolonner som vises av gangen\n",
    "pd.set_option(\"display.max_columns\", None)\n",
    "pd.set_option('display.max_rows', 300)\n",
    "pd.set_option('display.max_colwidth', None)\n",
    "\n",
    "# Unngå standardform i output\n",
    "pd.set_option('display.float_format', lambda x: '%.0f' % x)"
   ]
  },
  {
   "cell_type": "markdown",
   "id": "362eb2c2-fa51-42f2-be5e-e2c5d8c52f2d",
   "metadata": {},
   "source": [
    "## Tilgang oracle"
   ]
  },
  {
   "cell_type": "code",
   "execution_count": null,
   "id": "cf68b758-87ab-499a-bc60-8bb5ecc22c5f",
   "metadata": {
    "tags": []
   },
   "outputs": [],
   "source": [
    "conn = cx_Oracle.connect(getpass.getuser()+\"/\"+getpass.getpass(prompt='Oracle-passord: ')+\"@DB1P\")"
   ]
  },
  {
   "cell_type": "markdown",
   "id": "2ac5382b-3980-4e78-87db-2af29bec2305",
   "metadata": {},
   "source": [
    "# Henter data"
   ]
  },
  {
   "cell_type": "markdown",
   "id": "045d671d-2072-4610-b77e-64c2536812bd",
   "metadata": {
    "toc-hr-collapsed": true
   },
   "source": [
    "##  fra KLASS"
   ]
  },
  {
   "cell_type": "markdown",
   "id": "d1a03c74-b5eb-494b-938a-3db005883a3f",
   "metadata": {},
   "source": [
    "### Offentlige helseforetak"
   ]
  },
  {
   "cell_type": "code",
   "execution_count": null,
   "id": "fb27a738-c781-4448-9f34-d1b670f465f4",
   "metadata": {},
   "outputs": [],
   "source": [
    "## Klass for å finne skjemanavn i dynarev\n",
    "# URL = f'http://data.ssb.no/api/klass/v1/classifications/610/codes.json?from={aargang}-01-01&includeFuture=True'\n",
    "# r = requests.get(url = URL)\n",
    "# skjemanavn_klass = pd.read_json(r.text)\n",
    "# skjemanavn_klass = pd.json_normalize(skjemanavn_klass['codes'])\n",
    "\n",
    "# skjemanavnSOM = skjemanavn_klass.query('level==\"2\" and parentCode == \"SOM\"')[['code','name', 'parentCode']]\n",
    "# skjemanavnSOM"
   ]
  },
  {
   "cell_type": "code",
   "execution_count": null,
   "id": "36d704d1-4504-4649-8c3a-a65ee451a09f",
   "metadata": {},
   "outputs": [],
   "source": [
    "URL = f'http://data.ssb.no/api/klass/v1/classifications/603/codes.json?from={aargang}-01-01&includeFuture=True'\n",
    "r = requests.get(url = URL)\n",
    "offhelse_df = pd.read_json(r.text)\n",
    "offhelse_df = pd.json_normalize(offhelse_df['codes'])\n",
    "\n",
    "RHF_kode_klass = offhelse_df.query('level==\"1\"')[['code','name']]\n",
    "RHF_kode_klass = RHF_kode_klass.rename(columns = {'code':'HELSEREGION', 'name': 'RHF'})\n",
    "\n",
    "lvl2 = offhelse_df.query(\"level == '2'\")\n",
    "RHF_kode_klass = pd.merge(RHF_kode_klass, lvl2, how=\"left\", left_on=\"HELSEREGION\", right_on=\"parentCode\")\n",
    "RHF_kode_klass = RHF_kode_klass.rename(columns = {'code': 'ORGNR_FORETAK'})\n",
    "RHF_kode_klass = RHF_kode_klass[['HELSEREGION', 'RHF', 'ORGNR_FORETAK']]\n",
    "\n",
    "lvl2 = offhelse_df.query(\"level == '2'\")\n",
    "lvl3 = offhelse_df.query(\"level == '3'\")\n",
    "lvl2 = lvl2[['code', 'parentCode', 'name']]\n",
    "lvl3 = lvl3[['code', 'parentCode', 'name']]\n",
    "\n",
    "lvl2 = lvl2.rename(columns = {'parentCode':'HELSEREGION', 'name': 'RHF'})\n",
    "lvl3 = lvl3.rename(columns = {'code':'ORGNR_FORETAK', 'name': 'NAVN_KLASS'})"
   ]
  },
  {
   "cell_type": "code",
   "execution_count": null,
   "id": "2f3debde-b109-4ad9-9a3d-b724b661b861",
   "metadata": {},
   "outputs": [],
   "source": [
    "HF = pd.merge(lvl3, lvl2, how=\"left\", left_on=\"parentCode\", right_on=\"code\")\n",
    "HF = HF[['ORGNR_FORETAK', 'NAVN_KLASS', 'HELSEREGION', 'RHF']]\n",
    "\n",
    "RHF_kode_klass['RHF'] = RHF_kode_klass['RHF'] + \" RHF\"\n",
    "RHF_kode_klass['NAVN_KLASS'] = RHF_kode_klass['RHF']"
   ]
  },
  {
   "cell_type": "markdown",
   "id": "28467052-9d53-492f-89a2-f7fba1f68c1c",
   "metadata": {
    "toc-hr-collapsed": true
   },
   "source": [
    "### Private helseinstitusjoner med oppdrags- og bestillerdokument"
   ]
  },
  {
   "cell_type": "code",
   "execution_count": null,
   "id": "42d7c606-f9fa-47c3-a73c-ea0434b1e155",
   "metadata": {},
   "outputs": [],
   "source": [
    "URL = f'http://data.ssb.no/api/klass/v1/classifications/604/codes.json?from={aargang}-01-01&includeFuture=True'\n",
    "r = requests.get(url = URL)\n",
    "privhelse_df = pd.read_json(r.text)\n",
    "privhelse_df = pd.json_normalize(privhelse_df['codes'])\n",
    "\n",
    "temp = privhelse_df.query(\"level == '2'\")\n",
    "temp = temp[['code', 'parentCode', 'name']]\n",
    "temp = temp.rename(columns = {'code':'ORGNR_FORETAK','parentCode':'HELSEREGION', 'name': 'NAVN_KLASS'})\n",
    "temp = pd.merge(temp, RHF_kode_klass, how=\"left\")\n",
    "\n",
    "rapporteringsenheter = pd.concat([HF,temp])\n",
    "rapporteringsenheter = pd.concat([rapporteringsenheter,RHF_kode_klass])"
   ]
  },
  {
   "cell_type": "markdown",
   "id": "6f5c3227-bbfe-40a8-8ff8-6e7aaa218436",
   "metadata": {},
   "source": [
    "### Regionale og felleseide støtteforetak i spesialisthelsetjenesten"
   ]
  },
  {
   "cell_type": "code",
   "execution_count": null,
   "id": "61ebb77f-fcc3-4e1b-a23f-cb2a07b52f43",
   "metadata": {},
   "outputs": [],
   "source": [
    "URL = f'http://data.ssb.no/api/klass/v1/classifications/605/codes.json?from={aargang}-01-01&includeFuture=True'\n",
    "r = requests.get(url = URL)\n",
    "regfel_df = pd.read_json(r.text)\n",
    "regfel_df = pd.json_normalize(regfel_df['codes'])\n",
    "\n",
    "lvl2o = regfel_df.query(\"level == '2' & parentCode != '99'\")\n",
    "lvl3o = regfel_df.query(\"level == '3'\")\n",
    "lvl2o = lvl2o[['code', 'parentCode', 'name']]\n",
    "lvl3o = lvl3o[['code', 'parentCode', 'name']]\n",
    "lvl2o = lvl2o.rename(columns = {'parentCode':'HELSEREGION',\n",
    "                                'name': 'RHF'})\n",
    "lvl3o = lvl3o.rename(columns = {'code': 'ORGNR_FORETAK',\n",
    "                                'name': 'NAVN_KLASS'})\n",
    "\n",
    "temp = pd.merge(lvl3o, lvl2o, how=\"left\", left_on=\"parentCode\", right_on=\"code\")\n",
    "temp = temp[['ORGNR_FORETAK', 'NAVN_KLASS', 'HELSEREGION', 'RHF']]\n",
    "\n",
    "rapporteringsenheter = pd.concat([rapporteringsenheter,temp])\n",
    "\n",
    "temp = regfel_df.query(\"level == '2' & parentCode == '99'\")\n",
    "temp = temp.rename(columns = {'code':'ORGNR_FORETAK', 'name': 'NAVN_KLASS', 'parentCode': 'HELSEREGION'})\n",
    "temp['RHF'] = \"FELLESEIDE STØTTEFORETAK\"\n",
    "temp = temp[['ORGNR_FORETAK', 'NAVN_KLASS', 'HELSEREGION', 'RHF']]"
   ]
  },
  {
   "cell_type": "code",
   "execution_count": null,
   "id": "1b4fe229-4539-4f30-a477-221c3d192163",
   "metadata": {},
   "outputs": [],
   "source": [
    "rapporteringsenheter = pd.concat([rapporteringsenheter,temp])"
   ]
  },
  {
   "cell_type": "markdown",
   "id": "fd1778ff-bd9a-436a-b367-c2b14a8ca0e0",
   "metadata": {},
   "source": [
    "### Limer sammen all data fra KLASS"
   ]
  },
  {
   "cell_type": "code",
   "execution_count": null,
   "id": "7d9eeadf-77c4-447c-8dc6-d1074bd67eea",
   "metadata": {},
   "outputs": [],
   "source": [
    "alle_foretak_virk = pd.concat([offhelse_df, privhelse_df, regfel_df])\n",
    "alle_foretak_virk = alle_foretak_virk[[\"code\", \"parentCode\", \"level\", \"name\"]]\n",
    "alle_foretak_virk.info()"
   ]
  },
  {
   "cell_type": "markdown",
   "id": "6f4b1bd9-5f37-4928-b0d5-3acf44f334bc",
   "metadata": {},
   "source": [
    "## VOF: liste over alle helseforetak"
   ]
  },
  {
   "cell_type": "code",
   "execution_count": null,
   "id": "6fcb955a-2c1a-47d6-862c-64a44577fa87",
   "metadata": {},
   "outputs": [],
   "source": [
    "rapporteringsenheter_uten_RHF = rapporteringsenheter.query('~NAVN_KLASS.str.endswith(\"RHF\")',engine=\"python\")"
   ]
  },
  {
   "cell_type": "code",
   "execution_count": null,
   "id": "ed93eee0-3156-40e4-b70e-cecd1fc6bb16",
   "metadata": {},
   "outputs": [],
   "source": [
    "r_orgnr = rapporteringsenheter_uten_RHF.ORGNR_FORETAK.to_numpy()"
   ]
  },
  {
   "cell_type": "code",
   "execution_count": null,
   "id": "933ac334-3018-47ac-8f90-025b9f06b337",
   "metadata": {},
   "outputs": [],
   "source": [
    "def lag_sql_str(arr):\n",
    "    s = \"(\"\n",
    "    for nr in arr:\n",
    "        s += \"'\" + str(nr) + \"',\"\n",
    "    s = s[:-1] + \")\"\n",
    "    return s\n",
    "\n",
    "sql_str = lag_sql_str(r_orgnr)\n",
    "\n",
    "sporring_for = f\"\"\"\n",
    "    SELECT FORETAKS_NR, ORGNR, NAVN\n",
    "    FROM DSBBASE.SSB_FORETAK\n",
    "    WHERE STATUSKODE = 'B' AND ORGNR IN {sql_str}\n",
    "\"\"\"\n",
    "vof_for = pd.read_sql_query(sporring_for, conn)\n",
    "\n",
    "fornummer = pd.Series(vof_for['FORETAKS_NR']).array\n",
    "sql_str = lag_sql_str(fornummer)\n",
    "\n",
    "sporring_bed = f\"\"\"\n",
    "    SELECT FORETAKS_NR, ORGNR, NAVN, KARAKTERISTIKK, SN07_1, SB_TYPE\n",
    "    FROM DSBBASE.SSB_BEDRIFT\n",
    "    WHERE STATUSKODE = 'B' AND FORETAKS_NR IN {sql_str}\n",
    "\"\"\"\n",
    "vof_bdr = pd.read_sql_query(sporring_bed, conn)\n",
    "\n"
   ]
  },
  {
   "cell_type": "code",
   "execution_count": null,
   "id": "d8b1112b-33d2-4adb-965d-83c2978bc59b",
   "metadata": {},
   "outputs": [],
   "source": [
    "# Henter organisasjons- og foretaksnummer fra Virksomhets- og \n",
    "# foretaksregisteret (VoF) og samler disse i én tabell kalt vof\n",
    "\n",
    "vof_for = vof_for.rename(columns = {'NAVN':'NAVN_FORETAK'})\n",
    "vof_for = vof_for.rename(columns = {'ORGNR':'ORGNR_FORETAK'})\n",
    "\n",
    "vof_bdr = vof_bdr.rename(columns = {'ORGNR':'ORGNR_BEDRIFT'})\n",
    "vof_bdr['KARAKTERISTIKK'] = vof_bdr['KARAKTERISTIKK'].fillna(\"\")\n",
    "vof_bdr['NAVN_BEDRIFT'] = vof_bdr['NAVN'] + \" \" + vof_bdr['KARAKTERISTIKK']\n",
    "\n",
    "vof_bdr=vof_bdr.drop(columns=['NAVN', 'KARAKTERISTIKK'])\n",
    "\n",
    "vof = pd.merge(vof_bdr,vof_for, how='left', on='FORETAKS_NR')\n",
    "vof = vof.drop(columns=['FORETAKS_NR'])\n",
    "\n",
    "rapporteringsenheter['ORGNR_FORETAK'] = rapporteringsenheter['ORGNR_FORETAK'].apply(str)\n",
    "rapporteringsenheter_vof = pd.merge(vof,rapporteringsenheter, how='left', on='ORGNR_FORETAK')"
   ]
  },
  {
   "cell_type": "code",
   "execution_count": null,
   "id": "01372678-fcb2-404a-a2be-827653089de9",
   "metadata": {},
   "outputs": [],
   "source": [
    "rapporteringsenheter_vof.info()"
   ]
  },
  {
   "cell_type": "markdown",
   "id": "74477c0c-1b6e-463b-9944-694d3840f6b8",
   "metadata": {
    "tags": []
   },
   "source": [
    "## Dynarev"
   ]
  },
  {
   "cell_type": "markdown",
   "id": "5085f190-fdc2-4a48-a01d-c147fb688e26",
   "metadata": {},
   "source": [
    "Henter skjemadata fra året før ```aargang``` for å finne antall døgnplasser i fjor."
   ]
  },
  {
   "cell_type": "code",
   "execution_count": null,
   "id": "0c8937f6-ae92-49ba-b29c-19d0088b1968",
   "metadata": {
    "tags": []
   },
   "outputs": [],
   "source": [
    "sporring = f\"\"\"\n",
    "    SELECT *\n",
    "    FROM DSBBASE.DLR_ENHET_I_DELREG\n",
    "    WHERE DELREG_NR IN ('24{str(aargang)[-2:]}')\n",
    "\"\"\"\n",
    "SFU_data = pd.read_sql_query(sporring, conn)\n",
    "print(f\"Rader:    {SFU_data.shape[0]}\\nKolonner: {SFU_data.shape[1]}\")\n",
    "SFU_data.info()\n"
   ]
  },
  {
   "cell_type": "markdown",
   "id": "42aa14aa-bce1-48ce-a9fd-6b17e88f217a",
   "metadata": {},
   "source": [
    " ### SKJEMA38O\n",
    " "
   ]
  },
  {
   "cell_type": "code",
   "execution_count": null,
   "id": "542b4800-0ad4-4707-915b-0c045160ccd9",
   "metadata": {},
   "outputs": [],
   "source": [
    "sporring = f\"\"\"\n",
    "    SELECT *\n",
    "    FROM DYNAREV.VW_SKJEMA_DATA\n",
    "    WHERE DELREG_NR IN (24{str(aar_for)[-2:]}) AND SKJEMA IN ('HELSE38O') AND AKTIV = '1'\n",
    "\"\"\"\n",
    "skjemadata38O = pd.read_sql_query(sporring, conn)\n",
    "skjemadata38O = skjemadata38O[['SKJEMA','ENHETS_ID', 'FELT_ID', 'FELT_VERDI']]\n",
    "skjemadata38O = skjemadata38O.pivot(index=['ENHETS_ID','SKJEMA'], columns='FELT_ID', values='FELT_VERDI')\n"
   ]
  },
  {
   "cell_type": "markdown",
   "id": "9d1bb343-f6b9-4ad8-8eaf-827eb2ece2d5",
   "metadata": {},
   "source": [
    " ### SKJEMA38P\n",
    " "
   ]
  },
  {
   "cell_type": "code",
   "execution_count": null,
   "id": "300fa18f-79ea-4685-ba86-540570ec6722",
   "metadata": {},
   "outputs": [],
   "source": [
    "sporring = f\"\"\"\n",
    "    SELECT *\n",
    "    FROM DYNAREV.VW_SKJEMA_DATA\n",
    "    WHERE DELREG_NR IN ('24{str(aar_for)[-2:]}', '19377{str(aar_for)[-2:]}') AND SKJEMA IN ('HELSE38P') AND AKTIV = '1'\n",
    "\"\"\"\n",
    "skjemadata38P = pd.read_sql_query(sporring, conn)\n",
    "skjemadata38P = skjemadata38P[['SKJEMA','ENHETS_ID', 'FELT_ID', 'FELT_VERDI']]\n",
    "skjemadata38P = skjemadata38P.pivot(index=['ENHETS_ID','SKJEMA'], columns='FELT_ID', values='FELT_VERDI')\n"
   ]
  },
  {
   "cell_type": "markdown",
   "id": "8a7f10ba-e944-4cc3-a6e5-f50010199d19",
   "metadata": {},
   "source": [
    " ### SKJEMA39\n",
    " "
   ]
  },
  {
   "cell_type": "code",
   "execution_count": null,
   "id": "b387edbb-61b0-48bd-a3db-c218a250249a",
   "metadata": {
    "tags": []
   },
   "outputs": [],
   "source": [
    "sporring = f\"\"\"\n",
    "    SELECT *\n",
    "    FROM DYNAREV.VW_SKJEMA_DATA\n",
    "    WHERE DELREG_NR IN ('24{str(aar_for)[-2:]}', '19377{str(aar_for)[-2:]}') AND SKJEMA IN ('HELSE39') AND AKTIV = '1'\n",
    "\"\"\"\n",
    "skjemadata39 = pd.read_sql_query(sporring, conn)\n",
    "skjemadata39 = skjemadata39[['SKJEMA','ENHETS_ID', 'FELT_ID', 'FELT_VERDI']]\n",
    "skjemadata39 = skjemadata39.pivot(index=['ENHETS_ID','SKJEMA'], columns='FELT_ID', values='FELT_VERDI')\n"
   ]
  },
  {
   "cell_type": "markdown",
   "id": "25a8b0ed-87db-4e51-9475-bf31787e88d4",
   "metadata": {},
   "source": [
    " ### SKJEMA40\n",
    " "
   ]
  },
  {
   "cell_type": "code",
   "execution_count": null,
   "id": "9ed60063-aa4e-4a3f-af2f-c871a50d5122",
   "metadata": {
    "tags": []
   },
   "outputs": [],
   "source": [
    "sporring = f\"\"\"\n",
    "    SELECT *\n",
    "    FROM DYNAREV.VW_SKJEMA_DATA\n",
    "    WHERE DELREG_NR IN ('24{str(aar_for)[-2:]}', '19377{str(aar_for)[-2:]}') AND SKJEMA IN ('HELSE40') AND AKTIV = '1'\n",
    "\"\"\"\n",
    "skjemadata40 = pd.read_sql_query(sporring, conn)\n",
    "skjemadata40 = skjemadata40[['SKJEMA','ENHETS_ID', 'FELT_ID', 'FELT_VERDI']]\n",
    "skjemadata40 = skjemadata40.pivot(index=['ENHETS_ID','SKJEMA'], columns='FELT_ID', values='FELT_VERDI')\n"
   ]
  },
  {
   "cell_type": "markdown",
   "id": "c6023238-9d34-4fdf-af37-6a4715291773",
   "metadata": {},
   "source": [
    " ### SKJEMA41\n",
    " "
   ]
  },
  {
   "cell_type": "code",
   "execution_count": null,
   "id": "e07b7c60-838b-423d-b5e4-0f4bdf408f9e",
   "metadata": {},
   "outputs": [],
   "source": [
    "sporring = f\"\"\"\n",
    "    SELECT *\n",
    "    FROM DYNAREV.VW_SKJEMA_DATA\n",
    "    WHERE DELREG_NR IN ('24{str(aar_for)[-2:]}', '19377{str(aar_for)[-2:]}') AND SKJEMA IN ('HELSE41') AND AKTIV = '1'\n",
    "\"\"\"\n",
    "skjemadata41 = pd.read_sql_query(sporring, conn)\n",
    "skjemadata41 = skjemadata41[['SKJEMA','ENHETS_ID', 'FELT_ID', 'FELT_VERDI']]\n",
    "skjemadata41 = skjemadata41.pivot(index=['ENHETS_ID','SKJEMA'], columns='FELT_ID', values='FELT_VERDI')"
   ]
  },
  {
   "cell_type": "markdown",
   "id": "014e259b-e2f2-43d4-912b-5c794c4f7ebb",
   "metadata": {},
   "source": [
    " ### SKJEMA44O\n",
    " "
   ]
  },
  {
   "cell_type": "code",
   "execution_count": null,
   "id": "af6d5ea9-f419-4784-8c90-6d775d10e0d1",
   "metadata": {
    "tags": []
   },
   "outputs": [],
   "source": [
    "sporring = f\"\"\"\n",
    "    SELECT *\n",
    "    FROM DYNAREV.VW_SKJEMA_DATA\n",
    "    WHERE DELREG_NR IN ('24{str(aar_for)[-2:]}', '19377{str(aar_for)[-2:]}') AND SKJEMA IN ('HELSE44O') AND AKTIV = '1'\n",
    "\"\"\"\n",
    "skjemadata44O = pd.read_sql_query(sporring, conn)\n",
    "skjemadata44O = skjemadata44O[['SKJEMA','ENHETS_ID', 'FELT_ID', 'FELT_VERDI']]\n",
    "skjemadata44O = skjemadata44O.pivot(index=['ENHETS_ID','SKJEMA'], columns='FELT_ID', values='FELT_VERDI')\n"
   ]
  },
  {
   "cell_type": "markdown",
   "id": "f9259a6a-aca7-4a5f-a48f-c1e8b7056e46",
   "metadata": {},
   "source": [
    " ### SKJEMA44P\n",
    " "
   ]
  },
  {
   "cell_type": "code",
   "execution_count": null,
   "id": "e0c24369-e20d-432d-b1cd-8da9387cd703",
   "metadata": {
    "tags": []
   },
   "outputs": [],
   "source": [
    "sporring = f\"\"\"\n",
    "    SELECT *\n",
    "    FROM DYNAREV.VW_SKJEMA_DATA\n",
    "    WHERE DELREG_NR IN ('24{str(aar_for)[-2:]}', '19377{str(aar_for)[-2:]}') AND SKJEMA IN ('HELSE44P') AND AKTIV = '1'\n",
    "\"\"\"\n",
    "skjemadata44P = pd.read_sql_query(sporring, conn)\n",
    "skjemadata44P = skjemadata44P[['SKJEMA','ENHETS_ID', 'FELT_ID', 'FELT_VERDI']]\n",
    "skjemadata44P = skjemadata44P.pivot(index=['ENHETS_ID','SKJEMA'], columns='FELT_ID', values='FELT_VERDI')\n"
   ]
  },
  {
   "cell_type": "markdown",
   "id": "a29b807a-8b14-49a6-8b89-15273df71fc1",
   "metadata": {},
   "source": [
    " ### SKJEMA45O\n",
    " "
   ]
  },
  {
   "cell_type": "code",
   "execution_count": null,
   "id": "b6e80d6f-0719-4563-a50e-c53521d2341e",
   "metadata": {
    "tags": []
   },
   "outputs": [],
   "source": [
    "sporring = f\"\"\"\n",
    "    SELECT *\n",
    "    FROM DYNAREV.VW_SKJEMA_DATA\n",
    "    WHERE DELREG_NR IN ('24{str(aar_for)[-2:]}', '19377{str(aar_for)[-2:]}') AND SKJEMA IN ('HELSE45O') AND AKTIV = '1'\n",
    "\"\"\"\n",
    "skjemadata45O = pd.read_sql_query(sporring, conn)\n",
    "skjemadata45O = skjemadata45O[['SKJEMA','ENHETS_ID', 'FELT_ID', 'FELT_VERDI']]\n",
    "skjemadata45O = skjemadata45O.pivot(index=['ENHETS_ID','SKJEMA'], columns='FELT_ID', values='FELT_VERDI')\n"
   ]
  },
  {
   "cell_type": "markdown",
   "id": "ffe5c8ac-024f-4e95-83c3-b7f6bc358bd1",
   "metadata": {},
   "source": [
    " ### SKJEMA45P\n",
    " "
   ]
  },
  {
   "cell_type": "code",
   "execution_count": null,
   "id": "6e21df28-ce7a-498a-a037-5a13e77c4909",
   "metadata": {
    "tags": []
   },
   "outputs": [],
   "source": [
    "sporring = f\"\"\"\n",
    "    SELECT *\n",
    "    FROM DYNAREV.VW_SKJEMA_DATA\n",
    "    WHERE DELREG_NR IN ('24{str(aar_for)[-2:]}', '19377{str(aar_for)[-2:]}') AND SKJEMA IN ('HELSE45P') AND AKTIV = '1'\n",
    "\"\"\"\n",
    "skjemadata45P = pd.read_sql_query(sporring, conn)\n",
    "skjemadata45P = skjemadata45P[['SKJEMA','ENHETS_ID', 'FELT_ID', 'FELT_VERDI']]\n",
    "skjemadata45P = skjemadata45P.pivot(index=['ENHETS_ID','SKJEMA'], columns='FELT_ID', values='FELT_VERDI')\n"
   ]
  },
  {
   "cell_type": "markdown",
   "id": "5bb148b2-090e-4e4d-b01e-62483e591fe6",
   "metadata": {},
   "source": [
    " ### NBNBNBNB! SKJEMA46O\n",
    " "
   ]
  },
  {
   "cell_type": "code",
   "execution_count": null,
   "id": "9b8247c2-2e7d-4323-ba34-a832c55cb863",
   "metadata": {
    "tags": []
   },
   "outputs": [],
   "source": [
    "sporring = f\"\"\"\n",
    "    SELECT *\n",
    "    FROM DYNAREV.VW_SKJEMA_DATA\n",
    "    WHERE DELREG_NR IN ('24{str(aar_for)[-2:]}', '19377{str(aar_for)[-2:]}') AND SKJEMA IN ('46O') AND AKTIV = '1'\n",
    "\"\"\"\n",
    "skjemadata46O = pd.read_sql_query(sporring, conn)\n",
    "skjemadata46O = skjemadata46O[['SKJEMA','ENHETS_ID', 'FELT_ID', 'FELT_VERDI']]\n",
    "skjemadata46O = skjemadata46O.pivot(index=['ENHETS_ID','SKJEMA'], columns='FELT_ID', values='FELT_VERDI')\n"
   ]
  },
  {
   "cell_type": "markdown",
   "id": "74f5d8ad-690b-4a43-9bc4-a721aeb02dc7",
   "metadata": {},
   "source": [
    " ### SKJEMA46P\n",
    " "
   ]
  },
  {
   "cell_type": "code",
   "execution_count": null,
   "id": "e62bbaa6-7a6d-4664-b794-30c6a945c84f",
   "metadata": {
    "tags": []
   },
   "outputs": [],
   "source": [
    "sporring = f\"\"\"\n",
    "    SELECT *\n",
    "    FROM DYNAREV.VW_SKJEMA_DATA\n",
    "    WHERE DELREG_NR IN ('24{str(aar_for)[-2:]}', '19377{str(aar_for)[-2:]}') AND SKJEMA IN ('46O') AND AKTIV = '1'\n",
    "\"\"\"\n",
    "skjemadata46P = pd.read_sql_query(sporring, conn)\n",
    "skjemadata46P = skjemadata46P[['SKJEMA','ENHETS_ID', 'FELT_ID', 'FELT_VERDI']]\n",
    "skjemadata46P = skjemadata46P.pivot(index=['ENHETS_ID','SKJEMA'], columns='FELT_ID', values='FELT_VERDI')\n"
   ]
  },
  {
   "cell_type": "markdown",
   "id": "786bf45b-bab6-4197-8eba-c35a61bb295a",
   "metadata": {},
   "source": [
    " ### SKJEMA47\n",
    " "
   ]
  },
  {
   "cell_type": "code",
   "execution_count": null,
   "id": "441b4581-55e4-48e1-b370-a599caf0be85",
   "metadata": {
    "tags": []
   },
   "outputs": [],
   "source": [
    "sporring = f\"\"\"\n",
    "    SELECT *\n",
    "    FROM DYNAREV.VW_SKJEMA_DATA\n",
    "    WHERE DELREG_NR IN ('24{str(aar_for)[-2:]}', '19377{str(aar_for)[-2:]}') AND SKJEMA IN ('HELSE47') AND AKTIV = '1'\n",
    "\"\"\"\n",
    "skjemadata47 = pd.read_sql_query(sporring, conn)\n",
    "skjemadata47 = skjemadata47[['SKJEMA','ENHETS_ID', 'FELT_ID', 'FELT_VERDI']]\n",
    "skjemadata47 = skjemadata47.pivot(index=['ENHETS_ID','SKJEMA'], columns='FELT_ID', values='FELT_VERDI')\n"
   ]
  },
  {
   "cell_type": "markdown",
   "id": "957534d9-f5b6-475d-8acd-e87eb4691f7e",
   "metadata": {},
   "source": [
    " ### SKJEMA48"
   ]
  },
  {
   "cell_type": "code",
   "execution_count": null,
   "id": "54939aa1-19ab-4686-acac-4d4eee98b9cf",
   "metadata": {
    "tags": []
   },
   "outputs": [],
   "source": [
    "sporring = f\"\"\"\n",
    "    SELECT *\n",
    "    FROM DYNAREV.VW_SKJEMA_DATA\n",
    "    WHERE DELREG_NR IN ('24{str(aar_for)[-2:]}', '19377{str(aar_for)[-2:]}') AND SKJEMA IN ('HELSE48') AND AKTIV = '1'\n",
    "\"\"\"\n",
    "skjemadata48 = pd.read_sql_query(sporring, conn)\n",
    "skjemadata48 = skjemadata48[['SKJEMA','ENHETS_ID', 'FELT_ID', 'FELT_VERDI']]\n",
    "skjemadata48 = skjemadata48.pivot(index=['ENHETS_ID','SKJEMA'], columns='FELT_ID', values='FELT_VERDI')\n"
   ]
  },
  {
   "cell_type": "markdown",
   "id": "6e10bd48-22f6-4b28-b2ce-c62c2bbdbe75",
   "metadata": {
    "tags": []
   },
   "source": [
    "# Setter sammen master-SFU-fil med all nødvendig informasjon"
   ]
  },
  {
   "cell_type": "markdown",
   "id": "112b1449-662d-4348-85fc-bad1a29e2e16",
   "metadata": {},
   "source": [
    "SFU: orgnummer, orgnummer_foretak, foretaksnavn, helseregionnavn, helseregionsnummer\n",
    "\"alle virksomhetene til speshelse ligger i 2421\"\n"
   ]
  },
  {
   "cell_type": "code",
   "execution_count": null,
   "id": "76df7041-d931-4215-b58c-cbe0363377be",
   "metadata": {},
   "outputs": [],
   "source": [
    "SFUklass = pd.merge(SFU_data, rapporteringsenheter, how=\"left\", on=\"ORGNR_FORETAK\")\n",
    "\n",
    "SFUklass['HELSEREGION'] = SFUklass['HELSEREGION'].fillna(\"06\")\n",
    "\n",
    "SFUklass['SKJEMA_TYPE'] = SFUklass['SKJEMA_TYPE'].apply(lambda x: str(x).split(\" \"))\n",
    "SFUklass[['NAVN1', 'NAVN2', 'NAVN3', 'NAVN4', 'NAVN5']] = SFUklass[['NAVN1', 'NAVN2', 'NAVN3', 'NAVN4', 'NAVN5']].fillna(\"\")"
   ]
  },
  {
   "cell_type": "code",
   "execution_count": null,
   "id": "c19e66dc-8a66-48e6-8016-9a781c617be4",
   "metadata": {},
   "outputs": [],
   "source": [
    "# Slår sammen alle navnekolonnene til en adskilt med ett mellomrom\n",
    "SFUklass['NAVN'] = SFUklass['NAVN1'] + \" \" +\\\n",
    "                        SFUklass['NAVN2'] + \" \" +\\\n",
    "                        SFUklass['NAVN3'] + \" \" +\\\n",
    "                        SFUklass['NAVN4'] + \" \" +\\\n",
    "                        SFUklass['NAVN5']\n",
    "SFUklass['NAVN'] = SFUklass['NAVN'].apply(lambda x: ' '.join(x.split()))"
   ]
  },
  {
   "cell_type": "markdown",
   "id": "261715f4-8818-409e-9c25-fdf7e10d9d70",
   "metadata": {},
   "source": [
    "# Lager droplister\n",
    "Sortert etter hva slags dropliste som skal lages."
   ]
  },
  {
   "cell_type": "code",
   "execution_count": null,
   "id": "7814708d-865c-4a18-927e-53c52d5992d6",
   "metadata": {},
   "outputs": [],
   "source": [
    "skjemaer_til_droplister = [\"skj41\", \"skj0X\", \"skj0Y\", \"skj38O\", \"skj38P\", \"skj39\", \"skj40\",\n",
    "                           \"skj44O\", \"skj44P\", \"skj45O\", \"skj45P\", \"skj46O\",\n",
    "                           \"skj46P\", \"skj47\", \"skj48\"]\n",
    "\n",
    "# kolvis er spesielle kolonner som tas ut av en større tabell\n",
    "kolvis = ['NAVN1', \"NAVN\", \"ORGNR\", \"ORGNR_FORETAK\", \"HELSEREGION\", \"RHF\"]"
   ]
  },
  {
   "cell_type": "code",
   "execution_count": null,
   "id": "5d114970-c8e0-497a-9a55-606e45676c75",
   "metadata": {},
   "outputs": [],
   "source": [
    "# nyttig funksjon som returnerer en tabell med alle rader som inneholder et gitt skjema\n",
    "# eks: \n",
    "# tabell_som_inneholder_skjema(SFUklass, 'SKJEMA_TYPE', \"0X\")\n",
    "\n",
    "def tabell_som_inneholder_skjema(df, kol, skjemanavn):\n",
    "    ant = df.shape[0]\n",
    "    rader_med_skjemanavn = []\n",
    "    for i in range(ant):\n",
    "        if skjemanavn in df[kol].iloc[i]:\n",
    "            rader_med_skjemanavn.append(i)\n",
    "    return df.iloc[rader_med_skjemanavn]\n"
   ]
  },
  {
   "cell_type": "markdown",
   "id": "10f395c0-2ccf-40a1-befb-364ec8676a76",
   "metadata": {},
   "source": [
    "## Skjemaer som hentes rett fra klass og SFU"
   ]
  },
  {
   "cell_type": "markdown",
   "id": "7b438ace-3c9c-4fc4-87f3-7b5c6b80990d",
   "metadata": {},
   "source": [
    "### 0X (Resultatregnskap for RHF og HF)"
   ]
  },
  {
   "cell_type": "code",
   "execution_count": null,
   "id": "c2b9e18e-312b-4c2a-b606-db46655d0193",
   "metadata": {},
   "outputs": [],
   "source": [
    "# kolonner som skal være med i dropdownlisten:\n",
    "kolonner = [\"USERID\", \"REGION_NR\", \"REGION_NAVN\", \"FORETAK_ORGNR\", \"FORETAK_NAVN\"]\n",
    "\n",
    "skj0X = tabell_som_inneholder_skjema(SFUklass, 'SKJEMA_TYPE', \"0X\")[kolvis]\n",
    "skj0X = skj0X.rename(columns = {'NAVN1':'FORETAK_NAVN', 'ORGNR':'USERID', 'HELSEREGION':'REGION_NR', 'RHF':'REGION_NAVN',})\n",
    "skj0X['FORETAK_ORGNR'] = skj0X['USERID']\n",
    "\n",
    "skj0X = skj0X[kolonner].sort_values('REGION_NR')"
   ]
  },
  {
   "cell_type": "markdown",
   "id": "2617e4ff-062e-4333-b879-c8c26626e97b",
   "metadata": {},
   "source": [
    "### 0Y (Balanseregnskap for RHF og HF)"
   ]
  },
  {
   "cell_type": "code",
   "execution_count": null,
   "id": "56db7bf6-acc7-46f5-9f0b-82c965f8b96e",
   "metadata": {},
   "outputs": [],
   "source": [
    "# kolonner som skal være med i dropdownlisten:\n",
    "kolonner = [\"USERID\", \"REGION_NR\", \"REGION_NAVN\", \"FORETAK_ORGNR\", \"FORETAK_NAVN\"]\n",
    "\n",
    "skj0Y = tabell_som_inneholder_skjema(SFUklass, 'SKJEMA_TYPE', \"0Y\")[kolvis]\n",
    "skj0Y = skj0Y.rename(columns = {'NAVN1':'FORETAK_NAVN', 'ORGNR':'USERID', 'HELSEREGION':'REGION_NR', 'RHF':'REGION_NAVN',})\n",
    "skj0Y['FORETAK_ORGNR'] = skj0Y['USERID']\n",
    "\n",
    "skj0Y = skj0Y[kolonner].sort_values('REGION_NR')"
   ]
  },
  {
   "cell_type": "markdown",
   "id": "cbc5865c-396f-4dac-9150-81a17d3c95d2",
   "metadata": {},
   "source": [
    "### skj40 (Kontantstrømoppstilling)"
   ]
  },
  {
   "cell_type": "code",
   "execution_count": null,
   "id": "3f02c759-c27c-4b72-8866-b734be67c7b0",
   "metadata": {},
   "outputs": [],
   "source": [
    "# kolonner som skal være med i dropdownlisten:\n",
    "kolonner = [\"USERID\", \"REGION_NR\", \"REGION_NAVN\", \"FORETAK_ORGNR\", \"FORETAK_NAVN\"]\n",
    "\n",
    "skj40 = tabell_som_inneholder_skjema(SFUklass, 'SKJEMA_TYPE', \"0Y\")[kolvis]\n",
    "skj40 = skj40.rename(columns = {'NAVN1':'FORETAK_NAVN', 'ORGNR':'USERID', 'HELSEREGION':'REGION_NR', 'RHF':'REGION_NAVN',})\n",
    "skj40['FORETAK_ORGNR'] = skj40['USERID']\n",
    "\n",
    "skj40 = skj40[kolonner].sort_values('REGION_NR')"
   ]
  },
  {
   "cell_type": "markdown",
   "id": "23c7b90a-10f8-477b-9272-30bbf419c62c",
   "metadata": {},
   "source": [
    "### skj41 (Private spesialister med driftsavtale)"
   ]
  },
  {
   "cell_type": "code",
   "execution_count": null,
   "id": "11b7e7ec-7b40-4942-ab90-e62b31c8cd08",
   "metadata": {},
   "outputs": [],
   "source": [
    "skj41 = RHF_kode_klass.copy()\n",
    "kolonner = [\"USERID\", \"REGION_NR\", \"REGION_NAVN\", \"FORETAK_ORGNR\", \"FORETAK_NAVN\"]\n",
    "\n",
    "skj41 = skj41.rename(columns = {'HELSEREGION': 'REGION_NR', 'RHF': 'REGION_NAVN', 'ORGNR_FORETAK': 'FORETAK_ORGNR'})\n",
    "skj41['USERID'] = skj41['FORETAK_ORGNR']\n",
    "skj41['FORETAK_NAVN'] = skj41['REGION_NAVN']\n",
    "skj41 = skj41[kolonner]"
   ]
  },
  {
   "cell_type": "markdown",
   "id": "fdb22396-1c63-4d89-aabb-5670dfa91135",
   "metadata": {},
   "source": [
    "### skj48 (Praksiskonsulentordningen)"
   ]
  },
  {
   "cell_type": "code",
   "execution_count": null,
   "id": "112a31fa-f437-4979-ae99-9d4ff995d4b0",
   "metadata": {},
   "outputs": [],
   "source": [
    "onskede_kolonner = [\"USERID\", \"REGION_NR\", \"REGION_NAVN\", \"FORETAK_ORGNR\", \"FORETAK_NAVN\"]\n",
    "skj48 = tabell_som_inneholder_skjema(SFUklass, 'SKJEMA_TYPE', \"48\").copy()\n",
    "skj48 = skj48[[\"NAVN_KLASS\", \"ORGNR_FORETAK\", \"HELSEREGION\"]]\n",
    "\n",
    "skj48 = pd.merge(skj48, RHF_kode_klass[['HELSEREGION', 'RHF']], how=\"left\", on=\"HELSEREGION\")\n",
    "\n",
    "skj48 = pd.concat([skj48, HF])\n",
    "\n",
    "skj48 = skj48.rename(columns={\"NAVN_KLASS\": \"FORETAK_NAVN\",\n",
    "                              \"ORGNR_FORETAK\": \"FORETAK_ORGNR\",\n",
    "                              \"HELSEREGION\": \"REGION_NR\",\n",
    "                              \"RHF\": \"REGION_NAVN\"})\n",
    "\n",
    "skj48['USERID'] = skj48['FORETAK_ORGNR']\n",
    "\n",
    "skj48 = skj48[onskede_kolonner] \\\n",
    "    .sort_values(\"REGION_NR\") \\\n",
    "    .reset_index(drop=True)"
   ]
  },
  {
   "cell_type": "markdown",
   "id": "0f0f65fb-028f-4a2f-89c6-e0e3a9cc4878",
   "metadata": {},
   "source": [
    "## Skjemaer til offentlige foretak\n",
    "Inneholder et visst antall kolonner med virksomheters navn og orgnr."
   ]
  },
  {
   "cell_type": "code",
   "execution_count": null,
   "id": "b91d0306-f4da-4eb1-acd0-b377284b603e",
   "metadata": {},
   "outputs": [],
   "source": [
    "def lag_navn_orgnr_kolonnenavn(ant_kolonner):\n",
    "    nvn, org = [], []\n",
    "    for i in range(1,ant_kolonner+1):\n",
    "        nvn.append(f'NAVN_VIRK{i}')\n",
    "        org.append(f'ORGNR_VIRK{i}')\n",
    "    return nvn, org\n",
    "\n",
    "def lag_navn_orgnr_kolonner(fvdf, ant_kolonner):\n",
    "\n",
    "    foretak_rader = fvdf.ORGNR_FORETAK.value_counts().index.to_numpy()              # tar ut unike foretaksnummer i en liste\n",
    "\n",
    "    foretak_org_df = -1\n",
    "    for nr in foretak_rader:                                                        # blar gjennom listen og lager kolonner til hvert foretak\n",
    "        orgnr_df = fvdf.query(f'ORGNR_FORETAK  == \"{nr}\"')['ORGNR']\n",
    "        navn_df = fvdf.query(f'ORGNR_FORETAK  == \"{nr}\"')['NAVN']\n",
    "\n",
    "        ant_virksomheter = orgnr_df.shape[0]\n",
    "        tom_df = pd.Series(np.nan, index=range(ant_kolonner-ant_virksomheter))\n",
    "        orgnr_df = pd.concat([orgnr_df, tom_df], axis=0)\n",
    "        orgnr_df.index = orgnr_virk\n",
    "\n",
    "        ant_navn = navn_df.shape[0]\n",
    "        tom_df = pd.Series(np.nan, index=range(ant_kolonner-ant_navn))\n",
    "        navn_df = pd.concat([navn_df, tom_df], axis=0)\n",
    "        navn_df.index = navn_virk\n",
    "\n",
    "        foretak_df = pd.concat([orgnr_df, navn_df], axis=0)\n",
    "        foretak_df['ORGNR_FORETAK'] = nr\n",
    "\n",
    "        if type(foretak_org_df) == int:                                             # limer sammen hvert foretak med nye kolonner til en stor tabell\n",
    "            foretak_org_df = foretak_df\n",
    "        else:\n",
    "            foretak_org_df = pd.concat([foretak_org_df, foretak_df], axis = 1)\n",
    "    return foretak_org_df.transpose()"
   ]
  },
  {
   "cell_type": "markdown",
   "id": "bf631d51-aceb-4a30-8098-edf2d449a6b7",
   "metadata": {
    "toc-hr-collapsed": true
   },
   "source": [
    "### skj38O (TSB for offentlige helseforetak)"
   ]
  },
  {
   "cell_type": "markdown",
   "id": "7ad72976-aa9c-4f56-a2f4-0f6546290fc4",
   "metadata": {},
   "source": [
    "Alle offentlige helseforetak foruten ```SUNNAAS```. Bruker ```HF```-tabellen laget i kapittel 2.1.1"
   ]
  },
  {
   "cell_type": "markdown",
   "id": "29416525-4dcc-4c27-a193-d457334e6f0a",
   "metadata": {},
   "source": [
    "OBS: Nye enheter 2022"
   ]
  },
  {
   "cell_type": "code",
   "execution_count": null,
   "id": "a47a8e3d-d010-4bee-ada0-321b7cd4603c",
   "metadata": {
    "tags": []
   },
   "outputs": [],
   "source": [
    "# Henter døgnplasser fra foregående år\n",
    "d_plass_fjor = (skjemadata38O[['FORETAKETS_ORGNR','DGN_DGN']].reset_index().copy()\n",
    "                [['FORETAKETS_ORGNR','DGN_DGN']]\n",
    "                .rename(columns={'DGN_DGN': 'D_PLAS_FJOR'}))"
   ]
  },
  {
   "cell_type": "code",
   "execution_count": null,
   "id": "8606ad88-c436-43f0-8f26-6626132422b6",
   "metadata": {
    "tags": []
   },
   "outputs": [],
   "source": [
    "skj38O = HF.query('ORGNR_FORETAK != \"883971752\"').copy()                           # Tar ut SUNNAAS"
   ]
  },
  {
   "cell_type": "code",
   "execution_count": null,
   "id": "ce218427-2e5b-4e2f-ae9d-3008467dedf8",
   "metadata": {},
   "outputs": [],
   "source": [
    "# Lager kolonneoverskrifter i tråd med tidligere droplister:\n",
    "navn_virk, orgnr_virk = lag_navn_orgnr_kolonnenavn(20)\n",
    "\n",
    "onskede_kolonner = [\"USERID\", \"HELSEREGION\", \"HELSEREGION_NAVN\", \"FORETAKETS_ORGNR\", \"FORETAKETS_NAVN\", \"D_PLAS_FJOR\"] + orgnr_virk + navn_virk"
   ]
  },
  {
   "cell_type": "markdown",
   "id": "765b8c98-39d6-4026-bd0e-89f760733371",
   "metadata": {},
   "source": [
    "Henter data fra SFU med næringskode (\"86.106\") og statuskode (\"B\")\n",
    "Næringskode i kolonne SN07_1"
   ]
  },
  {
   "cell_type": "code",
   "execution_count": null,
   "id": "4166b696-ed29-48ed-af8b-95ab681e1754",
   "metadata": {},
   "outputs": [],
   "source": [
    "skj38O['tmp_bool'] = True"
   ]
  },
  {
   "cell_type": "code",
   "execution_count": null,
   "id": "05ddf47e-90f7-4cfe-96d6-796fedb0d434",
   "metadata": {},
   "outputs": [],
   "source": [
    "finne_virksomheter_df = pd.merge(SFUklass, skj38O, how=\"left\", on=[\"ORGNR_FORETAK\", \"RHF\", \"NAVN_KLASS\", \"HELSEREGION\"])\n",
    "finne_virksomheter_df = finne_virksomheter_df.query('tmp_bool == True and SN07_1 == \"86.106\" and STATUS == \"B\"')\n",
    "finne_virksomheter_df = finne_virksomheter_df[['ORGNR','ORGNR_FORETAK','NAVN']]"
   ]
  },
  {
   "cell_type": "code",
   "execution_count": null,
   "id": "2e0b083e-bef0-424a-933b-fa9c672e65ce",
   "metadata": {
    "tags": []
   },
   "outputs": [],
   "source": [
    "undervirksomheter_navn_og_kolonner = lag_navn_orgnr_kolonner(finne_virksomheter_df, 20)"
   ]
  },
  {
   "cell_type": "code",
   "execution_count": null,
   "id": "5c0eced1-282d-4020-8c03-b4fb1304fb17",
   "metadata": {},
   "outputs": [],
   "source": [
    "skj38O = pd.merge(skj38O, undervirksomheter_navn_og_kolonner, how=\"left\", on=\"ORGNR_FORETAK\")"
   ]
  },
  {
   "cell_type": "code",
   "execution_count": null,
   "id": "4fa8c823-b2c0-4c2a-a0c1-42bd637be9c2",
   "metadata": {},
   "outputs": [],
   "source": [
    "skj38O['USERID'] = skj38O['ORGNR_FORETAK']\n",
    "skj38O = skj38O.rename(columns={\"ORGNR_FORETAK\": \"FORETAKETS_ORGNR\",\n",
    "                                \"NAVN_KLASS\": \"FORETAKETS_NAVN\",\n",
    "                                \"RHF\": \"HELSEREGION_NAVN\"})"
   ]
  },
  {
   "cell_type": "code",
   "execution_count": null,
   "id": "4739b4b2-cb6b-41d6-b78d-09e5f655c5a9",
   "metadata": {
    "tags": []
   },
   "outputs": [],
   "source": [
    "skj38O = pd.merge(skj38O, d_plass_fjor, how=\"left\", on=\"FORETAKETS_ORGNR\")"
   ]
  },
  {
   "cell_type": "code",
   "execution_count": null,
   "id": "e5eabc70-0c25-43ae-9af6-95541d153ca0",
   "metadata": {},
   "outputs": [],
   "source": [
    "skj38O = skj38O[onskede_kolonner]"
   ]
  },
  {
   "cell_type": "markdown",
   "id": "e83aee65-ac56-4130-a448-76c495c86d1f",
   "metadata": {},
   "source": [
    "### skj44O (Psykisk helsevern for voksne PHFV)"
   ]
  },
  {
   "cell_type": "markdown",
   "id": "04ea3929-f0c8-40a1-bef3-faa3d4a59d4e",
   "metadata": {},
   "source": [
    "OBS: Nye enheter 2022"
   ]
  },
  {
   "cell_type": "markdown",
   "id": "497e6dd0-3653-4ca4-aec2-2831f62c13c5",
   "metadata": {},
   "source": [
    "Alle offentlige helseforetak foruten ```SUNNAAS```. Bruker ```HF```-tabellen laget i kapittel 2.1.1"
   ]
  },
  {
   "cell_type": "code",
   "execution_count": null,
   "id": "cc713fa0-bbc6-4405-a520-f44cbc548f18",
   "metadata": {
    "tags": []
   },
   "outputs": [],
   "source": [
    "# Henter døgnplasser fra foregående år\n",
    "d_plass_fjor = (skjemadata44O[['FORETAKETS_ORGNR','D_PLAS_T']].reset_index().copy()\n",
    "                [['FORETAKETS_ORGNR','D_PLAS_T']]\n",
    "                .rename(columns={'D_PLAS_T': 'D_PLAS_FJOR'}))"
   ]
  },
  {
   "cell_type": "code",
   "execution_count": null,
   "id": "987d9556-70be-4dbc-9fd3-7cc0ab234798",
   "metadata": {
    "tags": []
   },
   "outputs": [],
   "source": [
    "skj44O = HF.query('ORGNR_FORETAK != \"883971752\"').copy()                    # Tar ut SUNNAAS"
   ]
  },
  {
   "cell_type": "code",
   "execution_count": null,
   "id": "83e33fe5-2836-4b19-90d1-7f8fce581750",
   "metadata": {},
   "outputs": [],
   "source": [
    "# Lager kolonneoverskrifter i tråd med tidligere .csv-filer:\n",
    "navn_virk, orgnr_virk = lag_navn_orgnr_kolonnenavn(20)\n",
    "\n",
    "onskede_kolonner = [\"USERID\", \"HELSEREGION\", \"HELSEREGION_NAVN\", \"FORETAKETS_ORGNR\", \"FORETAKETS_NAVN\", \"D_PLAS_FJOR\"] + orgnr_virk + navn_virk"
   ]
  },
  {
   "cell_type": "markdown",
   "id": "4fc588de-70be-4e8d-a970-cc9821b28010",
   "metadata": {},
   "source": [
    "Henter data fra SFU med næringskode (\"86.104\") og statuskode (\"B\"). Finner næringskoden i kolonne ```SN07_1```"
   ]
  },
  {
   "cell_type": "code",
   "execution_count": null,
   "id": "fd0e2889-ae91-4817-83ae-a0ca32d5fa8f",
   "metadata": {},
   "outputs": [],
   "source": [
    "skj44O['tmp_bool'] = True"
   ]
  },
  {
   "cell_type": "code",
   "execution_count": null,
   "id": "e350107e-ddec-45a9-a293-efb2534c013e",
   "metadata": {},
   "outputs": [],
   "source": [
    "finne_virksomheter_df = pd.merge(SFUklass, skj44O, how=\"left\", on=[\"ORGNR_FORETAK\", \"RHF\", \"NAVN_KLASS\", \"HELSEREGION\"])\n",
    "finne_virksomheter_df = finne_virksomheter_df.query('tmp_bool == True and SN07_1 == \"86.104\" and STATUS == \"B\"')\n",
    "finne_virksomheter_df = finne_virksomheter_df[['ORGNR','ORGNR_FORETAK','NAVN']]"
   ]
  },
  {
   "cell_type": "code",
   "execution_count": null,
   "id": "f77a89a4-3538-4420-9d47-80846c9ff2bf",
   "metadata": {
    "tags": []
   },
   "outputs": [],
   "source": [
    "undervirksomheter_navn_og_kolonner = lag_navn_orgnr_kolonner(finne_virksomheter_df, 20)"
   ]
  },
  {
   "cell_type": "code",
   "execution_count": null,
   "id": "0c95929c-e123-4912-bef4-232da84ca70e",
   "metadata": {},
   "outputs": [],
   "source": [
    "skj44O.columns"
   ]
  },
  {
   "cell_type": "code",
   "execution_count": null,
   "id": "5e4d0f47-4c5e-46c4-a47d-5fb87e2be640",
   "metadata": {},
   "outputs": [],
   "source": [
    "skj44O = pd.merge(skj44O, undervirksomheter_navn_og_kolonner, how=\"left\", on=\"ORGNR_FORETAK\")"
   ]
  },
  {
   "cell_type": "code",
   "execution_count": null,
   "id": "f8597a84-3630-4dfd-9573-c4f88427793f",
   "metadata": {},
   "outputs": [],
   "source": [
    "skj44O['USERID'] = skj44O['ORGNR_FORETAK']\n",
    "skj44O['USERID'] = skj44O['ORGNR_FORETAK']\n",
    "skj44O = skj44O.rename(columns={\"ORGNR_FORETAK\": \"FORETAKETS_ORGNR\",\n",
    "                                \"NAVN_KLASS\": \"FORETAKETS_NAVN\",\n",
    "                                \"RHF\": \"HELSEREGION_NAVN\"})"
   ]
  },
  {
   "cell_type": "code",
   "execution_count": null,
   "id": "b79e0218-ee48-4955-b22f-9345d7f1fdb1",
   "metadata": {
    "tags": []
   },
   "outputs": [],
   "source": [
    "skj44O = pd.merge(skj44O, d_plass_fjor, how=\"left\", on=\"FORETAKETS_ORGNR\")"
   ]
  },
  {
   "cell_type": "code",
   "execution_count": null,
   "id": "6768a986-1197-4725-953b-7bf1f871315e",
   "metadata": {},
   "outputs": [],
   "source": [
    "skj44O = skj44O[onskede_kolonner]"
   ]
  },
  {
   "cell_type": "markdown",
   "id": "d63f4720-e37f-4aa0-8748-77c91a6c97bc",
   "metadata": {},
   "source": [
    "### skj45O (Psykisk helsevern for barn og unge (PHBU/BUP), offentlige helseforetak)"
   ]
  },
  {
   "cell_type": "code",
   "execution_count": null,
   "id": "64de57b9-b3d9-4d28-8076-5dac45659035",
   "metadata": {
    "tags": []
   },
   "outputs": [],
   "source": [
    "# Henter døgnplasser fra foregående år\n",
    "d_plass_fjor = (skjemadata45O[['FORETAKETS_ORGNR','D_PLAS_T']].reset_index().copy()\n",
    "                [['FORETAKETS_ORGNR','D_PLAS_T']]\n",
    "                .rename(columns={'D_PLAS_T': 'D_PLAS_FJOR'}))"
   ]
  },
  {
   "cell_type": "code",
   "execution_count": null,
   "id": "c5bad575-b917-44bf-ab2a-88c54733b20f",
   "metadata": {
    "tags": []
   },
   "outputs": [],
   "source": [
    "skj45O = HF.query('ORGNR_FORETAK != \"883971752\"').copy()                    # Tar ut SUNNAAS"
   ]
  },
  {
   "cell_type": "code",
   "execution_count": null,
   "id": "677c91f3-b27d-4663-840b-1914428c289e",
   "metadata": {},
   "outputs": [],
   "source": [
    "# Lager kolonneoverskrifter i tråd med tidligere .csv-filer:\n",
    "navn_virk, orgnr_virk = lag_navn_orgnr_kolonnenavn(20)\n",
    "\n",
    "onskede_kolonner = [\"USERID\", \"HELSEREGION\", \"HELSEREGION_NAVN\", \"FORETAKETS_ORGNR\", \"FORETAKETS_NAVN\", \"D_PLAS_FJOR\"] + orgnr_virk + navn_virk"
   ]
  },
  {
   "cell_type": "markdown",
   "id": "ccc608e4-672d-4c80-98bc-b03a22db24ee",
   "metadata": {},
   "source": [
    "Henter data fra SFU med næringskode (\"86.105\") og statuskode (\"B\"). Finner næringskoden i kolonne ```SN07_1```"
   ]
  },
  {
   "cell_type": "code",
   "execution_count": null,
   "id": "9954976e-daf2-4e0a-8a8d-58dae8c40377",
   "metadata": {},
   "outputs": [],
   "source": [
    "skj45O['tmp_bool'] = True"
   ]
  },
  {
   "cell_type": "code",
   "execution_count": null,
   "id": "abfae504-6f2a-4239-ba91-52c38f0e107a",
   "metadata": {},
   "outputs": [],
   "source": [
    "finne_virksomheter_df = pd.merge(SFUklass, skj45O, how=\"left\", on=[\"ORGNR_FORETAK\", \"RHF\", \"NAVN_KLASS\", \"HELSEREGION\"])\n",
    "finne_virksomheter_df = finne_virksomheter_df.query('tmp_bool == True and SN07_1 == \"86.105\" and STATUS == \"B\"')\n",
    "finne_virksomheter_df = finne_virksomheter_df[['ORGNR','ORGNR_FORETAK','NAVN']]"
   ]
  },
  {
   "cell_type": "code",
   "execution_count": null,
   "id": "ab944efd-e6ae-483d-936a-01b1f33b777e",
   "metadata": {
    "tags": []
   },
   "outputs": [],
   "source": [
    "undervirksomheter_navn_og_kolonner = lag_navn_orgnr_kolonner(finne_virksomheter_df, 20)"
   ]
  },
  {
   "cell_type": "code",
   "execution_count": null,
   "id": "c5f4652d-9777-408c-a681-155a5f03a9c7",
   "metadata": {},
   "outputs": [],
   "source": [
    "skj45O = pd.merge(skj45O, undervirksomheter_navn_og_kolonner, how=\"left\", on=\"ORGNR_FORETAK\")"
   ]
  },
  {
   "cell_type": "code",
   "execution_count": null,
   "id": "a35204a6-3f28-4f1b-9c7c-8b7c5bb20f82",
   "metadata": {},
   "outputs": [],
   "source": [
    "skj45O['USERID'] = skj45O['ORGNR_FORETAK']\n",
    "skj45O['USERID'] = skj45O['ORGNR_FORETAK']\n",
    "skj45O = skj45O.rename(columns={\"ORGNR_FORETAK\": \"FORETAKETS_ORGNR\",\n",
    "                                \"NAVN_KLASS\": \"FORETAKETS_NAVN\",\n",
    "                                \"RHF\": \"HELSEREGION_NAVN\"})"
   ]
  },
  {
   "cell_type": "code",
   "execution_count": null,
   "id": "36d57341-6ace-4049-904a-18cb88565b70",
   "metadata": {
    "tags": []
   },
   "outputs": [],
   "source": [
    "skj45O = pd.merge(skj45O, d_plass_fjor, how=\"left\", on=\"FORETAKETS_ORGNR\")"
   ]
  },
  {
   "cell_type": "code",
   "execution_count": null,
   "id": "e32dc703-1197-47bd-bd00-f1370cbf8fa0",
   "metadata": {},
   "outputs": [],
   "source": [
    "skj45O = skj45O[onskede_kolonner]"
   ]
  },
  {
   "cell_type": "markdown",
   "id": "f17c46a7-c776-402b-b7f8-927a7a605b1b",
   "metadata": {},
   "source": [
    "### skj46O (Somatiske sykehus, offentlige helseforetak)\n",
    "```SUNNAAS``` skal være med her\n",
    "\n",
    "NB. Antall avsatte kolonner til undervirksomheter er 24."
   ]
  },
  {
   "cell_type": "code",
   "execution_count": null,
   "id": "55fe8860-9be0-43d1-bcf6-ffdff7575d54",
   "metadata": {
    "tags": []
   },
   "outputs": [],
   "source": [
    "# Henter døgnplasser fra foregående år\n",
    "d_plass_fjor = (skjemadata46O[['ORGNR_VIRK1','SEN_HT', 'SDGN_HT']].reset_index().copy()\n",
    "                [['ORGNR_VIRK1','SEN_HT', 'SDGN_HT']]\n",
    "                .rename(columns={'SEN_HT': 'SEN_HT_FJOR',\n",
    "                                 'SDGN_HT': 'SDGN_HT_FJOR',\n",
    "                                 'ORGNR_VIRK1': 'FINST_ORGNR'}))"
   ]
  },
  {
   "cell_type": "code",
   "execution_count": null,
   "id": "a50d43ab-dd22-4b8e-abd7-a9f1969bc210",
   "metadata": {
    "tags": []
   },
   "outputs": [],
   "source": [
    "skj46O = HF.copy()"
   ]
  },
  {
   "cell_type": "code",
   "execution_count": null,
   "id": "84fea2e1-60bd-4806-a7b9-af84913d4410",
   "metadata": {},
   "outputs": [],
   "source": [
    "# Lager kolonneoverskrifter i tråd med tidligere .csv-filer:\n",
    "navn_virk, orgnr_virk = lag_navn_orgnr_kolonnenavn(24)\n",
    "\n",
    "onskede_kolonner = [\"USERID\", \"HELSEREGION\", \"HELSEREGION_NAVN\", \"FORETAKETS_ORGNR\", \"FORETAKETS_NAVN\", 'SEN_HT_FJOR', 'SDGN_HT_FJOR'] + orgnr_virk + navn_virk"
   ]
  },
  {
   "cell_type": "markdown",
   "id": "fbc4aeb6-32d9-47da-b381-c203b81b40d1",
   "metadata": {},
   "source": [
    "Henter data fra SFU med næringskoder (\"86.101\") (\"86.102\") (\"86.103\") (\"86.107\"). Finner næringskoden i kolonne ```SN07_1```"
   ]
  },
  {
   "cell_type": "code",
   "execution_count": null,
   "id": "0ce15e2e-3c1f-4a65-9dc6-6203ca325c95",
   "metadata": {},
   "outputs": [],
   "source": [
    "skj46O['tmp_bool'] = True"
   ]
  },
  {
   "cell_type": "code",
   "execution_count": null,
   "id": "39a7c48b-e0dc-4ec8-a456-3c32d14df87c",
   "metadata": {},
   "outputs": [],
   "source": [
    "finne_virksomheter_df = pd.merge(SFUklass, skj46O, how=\"left\", on=[\"ORGNR_FORETAK\", \"RHF\", \"NAVN_KLASS\", \"HELSEREGION\"])\n",
    "finne_virksomheter_df = finne_virksomheter_df.query('tmp_bool == True and SN07_1 in [\"86.101\", \"86.102\", \"86.103\",\"86.107\",]')\n",
    "\n",
    "finne_virksomheter_df = finne_virksomheter_df[['ORGNR','ORGNR_FORETAK','NAVN', 'NAVN_KLASS']]\n",
    "\n",
    "finne_virksomheter_df = pd.merge(finne_virksomheter_df, d_plass_fjor, how=\"left\", left_on=\"ORGNR\", right_on=\"FINST_ORGNR\")"
   ]
  },
  {
   "cell_type": "code",
   "execution_count": null,
   "id": "db0d4a88-233a-4388-9a91-d344344b2721",
   "metadata": {
    "tags": []
   },
   "outputs": [],
   "source": [
    "finne_virksomheter_df['SEN_HT_FJOR'] = pd.to_numeric(finne_virksomheter_df['SEN_HT_FJOR'])\n",
    "finne_virksomheter_df['SDGN_HT_FJOR'] = pd.to_numeric(finne_virksomheter_df['SDGN_HT_FJOR'])"
   ]
  },
  {
   "cell_type": "code",
   "execution_count": null,
   "id": "6e0e7891-6179-4e9e-b1d6-400f433e49fd",
   "metadata": {
    "tags": []
   },
   "outputs": [],
   "source": [
    "finne_virksomheter_df = finne_virksomheter_df.groupby([\"ORGNR_FORETAK\", \"NAVN_KLASS\"]).sum().reset_index()"
   ]
  },
  {
   "cell_type": "code",
   "execution_count": null,
   "id": "1beda077-a6b3-4f43-b214-beab850db207",
   "metadata": {},
   "outputs": [],
   "source": [
    "foretak_rader = finne_virksomheter_df.ORGNR_FORETAK.value_counts().index.to_numpy()"
   ]
  },
  {
   "cell_type": "code",
   "execution_count": null,
   "id": "8f997f8e-b88f-4485-b21c-e4d1cda23def",
   "metadata": {},
   "outputs": [],
   "source": [
    "finne_virksomheter_df2 = pd.merge(SFUklass, skj46O, how=\"left\", on=[\"ORGNR_FORETAK\", \"RHF\", \"NAVN_KLASS\", \"HELSEREGION\"])\n",
    "finne_virksomheter_df2 = finne_virksomheter_df2.query('tmp_bool == True and SN07_1 in [\"86.101\", \"86.102\", \"86.103\",\"86.107\",]')\n",
    "\n",
    "finne_virksomheter_df2 = finne_virksomheter_df2[['ORGNR','ORGNR_FORETAK','NAVN', 'NAVN_KLASS']]"
   ]
  },
  {
   "cell_type": "code",
   "execution_count": null,
   "id": "abe608d2-6644-43b5-bf20-1308fe26a1e9",
   "metadata": {
    "tags": []
   },
   "outputs": [],
   "source": [
    "foretak_org_df = -1\n",
    "for nr in foretak_rader:\n",
    "    orgnr_df = finne_virksomheter_df2.query(f'ORGNR_FORETAK  == \"{nr}\" and ORGNR != \"{nr}\"')['ORGNR']\n",
    "    navn_df = finne_virksomheter_df2.query(f'ORGNR_FORETAK  == \"{nr}\" and ORGNR != \"{nr}\"')['NAVN']\n",
    "\n",
    "    ant = orgnr_df.shape[0]\n",
    "    tom_df = pd.Series(np.nan, index=range(24-ant))\n",
    "    orgnr_df = pd.concat([orgnr_df, tom_df], axis=0)\n",
    "    orgnr_df.index = orgnr_virk\n",
    "\n",
    "    ant = navn_df.shape[0]\n",
    "    tom_df = pd.Series(np.nan, index=range(24-ant))\n",
    "    navn_df = pd.concat([navn_df, tom_df], axis=0)\n",
    "    navn_df.index = navn_virk\n",
    "\n",
    "    foretak_df = pd.concat([orgnr_df, navn_df], axis=0)\n",
    "    foretak_df['ORGNR_FORETAK'] = nr\n",
    "    \n",
    "    if type(foretak_org_df) == int:\n",
    "        foretak_org_df = foretak_df\n",
    "    else:\n",
    "        foretak_org_df = pd.concat([foretak_org_df, foretak_df], axis = 1)\n",
    "foretak_org_df = foretak_org_df.transpose()"
   ]
  },
  {
   "cell_type": "code",
   "execution_count": null,
   "id": "9295e251-6972-44ec-b45e-651c73bb60c5",
   "metadata": {},
   "outputs": [],
   "source": [
    "finne_virksomheter_df = finne_virksomheter_df.rename(columns={\"NAVN_KLASS\": \"FORETAKETS_NAVN\"})"
   ]
  },
  {
   "cell_type": "code",
   "execution_count": null,
   "id": "dda08675-8487-438d-bf9f-e3c19a76ed0b",
   "metadata": {},
   "outputs": [],
   "source": [
    "skj46O = pd.merge(skj46O, foretak_org_df, how=\"left\", on=\"ORGNR_FORETAK\")"
   ]
  },
  {
   "cell_type": "code",
   "execution_count": null,
   "id": "f0876318-6e9b-483f-9a6c-32673e724b06",
   "metadata": {},
   "outputs": [],
   "source": [
    "skj46O = pd.merge(skj46O, finne_virksomheter_df, how=\"left\", on=\"ORGNR_FORETAK\")"
   ]
  },
  {
   "cell_type": "code",
   "execution_count": null,
   "id": "e0437645-7e9a-428c-beee-5e641d696b69",
   "metadata": {},
   "outputs": [],
   "source": [
    "skj46O['USERID'] = skj46O['ORGNR_FORETAK']\n",
    "skj46O['USERID'] = skj46O['ORGNR_FORETAK']\n",
    "skj46O = skj46O.rename(columns={\"ORGNR_FORETAK\": \"FORETAKETS_ORGNR\",\n",
    "                                \"NAVN_KLASS\": \"FORETAKETS_NAVN\",\n",
    "                                \"RHF\": \"HELSEREGION_NAVN\"})"
   ]
  },
  {
   "cell_type": "code",
   "execution_count": null,
   "id": "ce6730b9-5dc5-4c23-ba3b-c1d64257d239",
   "metadata": {
    "tags": []
   },
   "outputs": [],
   "source": [
    "skj46O = skj46O[onskede_kolonner]"
   ]
  },
  {
   "cell_type": "markdown",
   "id": "5975c829-4831-4d83-a5d3-5c1d9cf6a6bd",
   "metadata": {},
   "source": [
    "## Skjemaer til private foretak og deres underinstitusjoner\n",
    "Droplisten inneholder kolonne med rapporteringspliktige underinstitusjoner i en kolonne atskilt med \\n"
   ]
  },
  {
   "cell_type": "markdown",
   "id": "a13b9f20-0e89-4398-aca2-fc32fdd5d6ad",
   "metadata": {},
   "source": [
    "### skj38P (TSB for private helseforetak)"
   ]
  },
  {
   "cell_type": "markdown",
   "id": "fef3f4ce-cd1b-4566-9848-35ccee23378e",
   "metadata": {},
   "source": [
    "Henter inn alle rader i SFU som har skjematype 381. Variabelen ```H_VAR1_A```  sier hvilket orgnummer foretaket rapporterer til. Koden under bruker denne til å variabelen til å plassere rapporteringsenhetene først, og alle deres underinstitusjoner i variabelen ```INSTLIST```. \n",
    "\n",
    "For at filen skal ha riktig format, skal det tilsammen være 13 institusjoner per foretak i ```INSTLIST```. Fyller automatisk ut linjeskift ```\\n``` slik at antallet blir 13."
   ]
  },
  {
   "cell_type": "code",
   "execution_count": null,
   "id": "9da521e4-151c-4154-a942-dbff593cee91",
   "metadata": {},
   "outputs": [],
   "source": [
    "# kolonner som skal være med i dropdownlisten:\n",
    "kolonner = ['USERID',\n",
    "            'REGION_NR',\n",
    "            'REGION_NAVN',\n",
    "            'FORETAK_ORGNR',\n",
    "            'FORETAK_NAVN',\n",
    "            'FINST_ORGNR',\n",
    "            'FINST_NAVN',\n",
    "            'INSTLIST']\n",
    "\n",
    "# Kolonner med hjelpevariabler\n",
    "hvar_kolonner = [\"H_VAR1_N\",\"H_VAR2_N\",\"H_VAR3_N\",\"H_VAR1_A\",\"H_VAR2_A\",\"H_VAR3_A\"]\n",
    "\n",
    "skj38P = tabell_som_inneholder_skjema(SFUklass, 'SKJEMA_TYPE', \"381\").copy()\n",
    "skj38P = skj38P.rename(columns = {\"ORGNR_FORETAK\": \"FORETAK_ORGNR\",\n",
    "                                   \"NAVN\": \"FINST_NAVN\",\n",
    "                                   'ORGNR':'FINST_ORGNR',\n",
    "                                   'HELSEREGION':'REGION_NR',\n",
    "                                   'RHF':'REGION_NAVN'})\n",
    "\n",
    "# USERID er alltid foretaksnummer\n",
    "skj38P['USERID'] = skj38P['FORETAK_ORGNR']\n",
    "\n",
    "# Lager omrisset av endelig tabell ved å plukke ut relevante kolonner\n",
    "skj38P = skj38P[[\"USERID\", \"REGION_NR\", \"REGION_NAVN\", \"FORETAK_ORGNR\", \"FINST_NAVN\", \"NAVN1\", \"NAVN2\",\"NAVN3\",\"NAVN4\",\"FINST_ORGNR\"] +\n",
    "                hvar_kolonner +\n",
    "                [\"SN07_1\", \"SN07_2\", \"SN07_3\"]]\n"
   ]
  },
  {
   "cell_type": "code",
   "execution_count": null,
   "id": "3b05317d-dd89-474d-bfa5-9a2aea2b5b63",
   "metadata": {},
   "outputs": [],
   "source": [
    "# Importerer riktig regionnummer fra KLASS og gir foretak som ikke er offentlige betegnelsen \"PRIVATE INSTITUSJONER\"\n",
    "skj38P = pd.merge(skj38P, RHF_kode_klass[[\"HELSEREGION\", \"RHF\"]], how=\"left\" , left_on=\"REGION_NR\", right_on=\"HELSEREGION\")\n",
    "\n",
    "skj38P['REGION_NAVN'] = skj38P['RHF']\n",
    "skj38P.REGION_NAVN = skj38P.REGION_NAVN.fillna(\"PRIVATE INSTITUSJONER\")"
   ]
  },
  {
   "cell_type": "code",
   "execution_count": null,
   "id": "c23ca0d6-0df0-4882-abdb-0ec7d106b716",
   "metadata": {},
   "outputs": [],
   "source": [
    "# Henter foretaksnavn til virksomhetene fra SFU\n",
    "foretaksnr38p = skj38P.FORETAK_ORGNR.unique()\n",
    "foretaksnr38p = pd.DataFrame(foretaksnr38p)\n",
    "foretaksnr38p.columns = [\"ORGNR_FORETAK\"]\n",
    "\n",
    "finn_foretaksnavn = pd.merge(foretaksnr38p, SFUklass[[\"ORGNR\", \"NAVN\"]], how=\"left\", left_on=\"ORGNR_FORETAK\", right_on=\"ORGNR\")\n",
    "finn_foretaksnavn = finn_foretaksnavn[[\"ORGNR_FORETAK\", \"NAVN\"]]\n",
    "finn_foretaksnavn = finn_foretaksnavn.rename(columns={\"NAVN\": \"FORETAK_NAVN\", \n",
    "                                                      \"ORGNR_FORETAK\": \"FORETAK_ORGNR\"})\n",
    "\n",
    "skj38P = pd.merge(skj38P, finn_foretaksnavn, how=\"left\", on=\"FORETAK_ORGNR\")"
   ]
  },
  {
   "cell_type": "code",
   "execution_count": null,
   "id": "c6db3c9a-a5ca-41a0-bb4c-2a886bb727b5",
   "metadata": {},
   "outputs": [],
   "source": [
    "skj38P = skj38P[[\"USERID\", \"REGION_NR\", \"REGION_NAVN\", \"FORETAK_ORGNR\", \"FORETAK_NAVN\", \"FINST_NAVN\",\"FINST_ORGNR\"] +\n",
    "                ['H_VAR1_A'] +\n",
    "                [\"SN07_1\"]]"
   ]
  },
  {
   "cell_type": "code",
   "execution_count": null,
   "id": "27fb6196-22dd-415d-a555-9c54e8fa9ac2",
   "metadata": {},
   "outputs": [],
   "source": [
    "# lager kolonnen INSTLIST med riktig antall \\n for at det skal passe med skjema. \n",
    "# Passer på at rapporteringsenhet kommer først i listen. (Enhet som har H_VAR1_A lik orgnummer)\n",
    "\n",
    "finst_orgnr38p = pd.DataFrame(skj38P['FINST_ORGNR'])\n",
    "\n",
    "df_til_instlist1 = pd.merge(SFUklass, finst_orgnr38p, left_on=\"H_VAR1_A\", right_on=\"FINST_ORGNR\")\n",
    "df_til_instlist1['rapporterer_til_annen_virksomhet'] = (df_til_instlist1.ORGNR != df_til_instlist1.H_VAR1_A)\n",
    "df_til_instlist1 = df_til_instlist1[['NAVN', 'ORGNR', \"FINST_ORGNR\", 'rapporterer_til_annen_virksomhet']]\n",
    "df_til_instlist1['orgnr_navn'] = df_til_instlist1['ORGNR'] + \" - \" + df_til_instlist1['NAVN']\n",
    "\n",
    "df_til_instlist2 = df_til_instlist1.query('~rapporterer_til_annen_virksomhet')[['ORGNR', 'orgnr_navn']]\n",
    "df_til_instlist3 = df_til_instlist1.query('rapporterer_til_annen_virksomhet')[[\"FINST_ORGNR\", 'orgnr_navn']]\n"
   ]
  },
  {
   "cell_type": "code",
   "execution_count": null,
   "id": "01f9606e-094d-498e-a9ca-7c993552bf98",
   "metadata": {},
   "outputs": [],
   "source": [
    "# mellomsteg for å legge institusjonene horisontalt ved siden av rapporteringsnummeret\n",
    "# itererer over alle unike rapporteringsnummer\n",
    "tmpdf = -1\n",
    "for finst_orgnr in df_til_instlist2.ORGNR.unique():\n",
    "    instliste = \"\\\\n\".join(df_til_instlist3.query(f'FINST_ORGNR==\"{finst_orgnr}\"').orgnr_navn)\n",
    "    if len(instliste) > 0:\n",
    "        if type(tmpdf) == int:\n",
    "            tmpdf = pd.DataFrame([finst_orgnr, instliste])\n",
    "        else:\n",
    "            nytt_tillegg = pd.DataFrame([finst_orgnr, instliste])\n",
    "            tmpdf = pd.concat([tmpdf, nytt_tillegg], axis=1)\n",
    "\n",
    "tmpdf = tmpdf.transpose()\n",
    "tmpdf.columns = ['FINST_ORGNR', 'INSTLISTE_HALE']"
   ]
  },
  {
   "cell_type": "code",
   "execution_count": null,
   "id": "aae7b31b-c072-4b1c-a38a-9a851aecbdc2",
   "metadata": {},
   "outputs": [],
   "source": [
    "df_til_instlist2 = df_til_instlist2.rename(columns={'ORGNR': 'FINST_ORGNR'})"
   ]
  },
  {
   "cell_type": "code",
   "execution_count": null,
   "id": "94f1bad6-9688-4cd8-8610-fd899842b19f",
   "metadata": {
    "tags": []
   },
   "outputs": [],
   "source": [
    "skj38P = pd.merge(skj38P, df_til_instlist2, how=\"left\", on=\"FINST_ORGNR\")\n",
    "skj38P = pd.merge(skj38P, tmpdf, how=\"left\", on=\"FINST_ORGNR\")\n",
    "skj38P['INSTLISTE_HALE'] = skj38P['INSTLISTE_HALE'].fillna(\"\\\\n\\\\n\\\\n\\\\n\\\\n\\\\n\\\\n\\\\n\\\\n\\\\n\\\\n\")\n",
    "skj38P['antall_n_mangler'] = skj38P['INSTLISTE_HALE'].apply(lambda x: 11-x.count(\"\\\\n\"))\n",
    "skj38P['INSTLIST'] = skj38P.apply(lambda x: x.orgnr_navn + \\\n",
    "                                            \"\\\\n\" + \\\n",
    "                                            x.INSTLISTE_HALE + \\\n",
    "                                            x.antall_n_mangler * (\"\\\\n\"),\n",
    "                                  axis=1)"
   ]
  },
  {
   "cell_type": "markdown",
   "id": "4c8e27f0-92d6-4e3d-8e3d-1c6713bf85ae",
   "metadata": {
    "tags": []
   },
   "source": [
    "### skj39 (Resultatregnskap for private helseforetak)"
   ]
  },
  {
   "cell_type": "markdown",
   "id": "e7aa3a9e-f35d-48c8-880b-b5d45f7728df",
   "metadata": {},
   "source": [
    "Lages på nesten samme måte som skjema 38P, med unntak av at man henter ut SKJEMA_TYPE 39 fra SFU og legger til kolonnen ```INSTTYPE``` med institusjonstype hentet fra hjelpevariabelen ```SN07_1```."
   ]
  },
  {
   "cell_type": "code",
   "execution_count": null,
   "id": "5d8ba423-e4ee-415b-b500-cbfcd8910b3c",
   "metadata": {},
   "outputs": [],
   "source": [
    "# kolonner som skal være med i dropdownlisten:\n",
    "kolonner = ['USERID',\n",
    "            'REGION_NR',\n",
    "            'REGION_NAVN',\n",
    "            'FORETAK_ORGNR',\n",
    "            'FORETAK_NAVN',\n",
    "            'FINST_ORGNR',\n",
    "            'FINST_NAVN',\n",
    "            'INSTTYPE',\n",
    "            'INSTLIST']\n",
    "\n",
    "skj39 = tabell_som_inneholder_skjema(SFUklass, 'SKJEMA_TYPE', \"39\").copy()\n",
    "skj39 = skj39.rename(columns = {\"ORGNR_FORETAK\": \"FORETAK_ORGNR\",\n",
    "                                   \"NAVN\": \"FINST_NAVN\",\n",
    "                                   'ORGNR':'FINST_ORGNR',\n",
    "                                   'HELSEREGION':'REGION_NR',\n",
    "                                   'RHF':'REGION_NAVN'})\n",
    "\n",
    "# USERID er alltid foretaksnummer\n",
    "skj39['USERID'] = skj39['FORETAK_ORGNR']\n",
    "\n",
    "# Lager omrisset av endelig tabell ved å plukke ut relevante kolonner\n",
    "skj39 = skj39[[\"USERID\", \"REGION_NR\", \"REGION_NAVN\", \"FORETAK_ORGNR\", \"FINST_NAVN\", \"NAVN1\", \"NAVN2\",\"NAVN3\",\"NAVN4\",\"FINST_ORGNR\"] +\n",
    "                hvar_kolonner +\n",
    "                [\"SN07_1\", \"SN07_2\", \"SN07_3\"]]\n"
   ]
  },
  {
   "cell_type": "code",
   "execution_count": null,
   "id": "553c9d28-70bd-48ac-a7f8-89c43d0f2c0c",
   "metadata": {},
   "outputs": [],
   "source": [
    "# Importerer riktig regionnummer fra KLASS og gir foretak som ikke er offentlige betegnelsen \"PRIVATE INSTITUSJONER\"\n",
    "skj39 = pd.merge(skj39, RHF_kode_klass[[\"HELSEREGION\", \"RHF\"]], how=\"left\" , left_on=\"REGION_NR\", right_on=\"HELSEREGION\")\n",
    "\n",
    "skj39['REGION_NAVN'] = skj39['RHF']\n",
    "skj39.REGION_NAVN = skj39.REGION_NAVN.fillna(\"PRIVATE INSTITUSJONER\")"
   ]
  },
  {
   "cell_type": "code",
   "execution_count": null,
   "id": "538c1e6b-4f0e-4325-9bd7-3ea145024453",
   "metadata": {},
   "outputs": [],
   "source": [
    "# Henter foretaksnavn til virksomhetene fra SFU\n",
    "foretaksnr39 = skj39.FORETAK_ORGNR.unique()\n",
    "foretaksnr39 = pd.DataFrame(foretaksnr39)\n",
    "foretaksnr39.columns = [\"ORGNR_FORETAK\"]\n",
    "\n",
    "finn_foretaksnavn = pd.merge(foretaksnr39, SFUklass[[\"ORGNR\", \"NAVN\"]], how=\"left\", left_on=\"ORGNR_FORETAK\", right_on=\"ORGNR\")\n",
    "finn_foretaksnavn = finn_foretaksnavn[[\"ORGNR_FORETAK\", \"NAVN\"]]\n",
    "finn_foretaksnavn = finn_foretaksnavn.rename(columns={\"NAVN\": \"FORETAK_NAVN\", \n",
    "                                                      \"ORGNR_FORETAK\": \"FORETAK_ORGNR\"})\n",
    "\n",
    "skj39 = pd.merge(skj39, finn_foretaksnavn, how=\"left\", on=\"FORETAK_ORGNR\")"
   ]
  },
  {
   "cell_type": "code",
   "execution_count": null,
   "id": "67cf486a-0d3d-4362-af38-25720e683e6d",
   "metadata": {},
   "outputs": [],
   "source": [
    "skj39 = skj39[[\"USERID\", \"NAVN1\", \"REGION_NR\", \"REGION_NAVN\", \"FORETAK_ORGNR\", \"FORETAK_NAVN\", \"FINST_NAVN\",\"FINST_ORGNR\"] +\n",
    "                ['H_VAR2_N'] +\n",
    "                [\"SN07_1\"]]\n"
   ]
  },
  {
   "cell_type": "code",
   "execution_count": null,
   "id": "2f28a795-ffa5-4920-9933-09c8d0b0a51e",
   "metadata": {},
   "outputs": [],
   "source": [
    "# lager kolonnen INSTLIST med riktig antall \\n for at det skal passe med skjema. \n",
    "# Passer på at rapporteringsenhet kommer først i listen. (Enhet med H_VAR1_A lik orgnummer)\n",
    "\n",
    "finst_orgnr39 = pd.DataFrame(skj39['FINST_ORGNR'])\n",
    "\n",
    "df_til_instlist1 = pd.merge(SFUklass, finst_orgnr39, left_on=\"H_VAR1_A\", right_on=\"FINST_ORGNR\")\n",
    "df_til_instlist1['rapporterer_til_annen_virksomhet'] = (df_til_instlist1.ORGNR != df_til_instlist1.H_VAR1_A)\n",
    "df_til_instlist1 = df_til_instlist1[['NAVN', 'ORGNR', \"FINST_ORGNR\", 'rapporterer_til_annen_virksomhet']]\n",
    "df_til_instlist1['orgnr_navn'] = df_til_instlist1['ORGNR'] + \" - \" + df_til_instlist1['NAVN']\n",
    "\n",
    "df_til_instlist2 = df_til_instlist1.query('~rapporterer_til_annen_virksomhet')[['ORGNR', 'orgnr_navn']]\n",
    "df_til_instlist3 = df_til_instlist1.query('rapporterer_til_annen_virksomhet')[[\"FINST_ORGNR\", 'orgnr_navn']]\n"
   ]
  },
  {
   "cell_type": "code",
   "execution_count": null,
   "id": "f7b902a8-98ce-43b2-8d06-5237493412fe",
   "metadata": {},
   "outputs": [],
   "source": [
    "# mellomsteg for å legge institusjonene horisontalt ved siden av rapporteringsnummeret\n",
    "tmpdf = -1\n",
    "for finst_orgnr in df_til_instlist2.ORGNR.unique():\n",
    "    instliste = \"\\\\n\".join(df_til_instlist3.query(f'FINST_ORGNR==\"{finst_orgnr}\"').orgnr_navn)\n",
    "    if len(instliste) > 0:\n",
    "        if type(tmpdf) == int:\n",
    "            tmpdf = pd.DataFrame([finst_orgnr, instliste])\n",
    "        else:\n",
    "            nytt_tillegg = pd.DataFrame([finst_orgnr, instliste])\n",
    "            tmpdf = pd.concat([tmpdf, nytt_tillegg], axis=1)\n",
    "\n",
    "tmpdf = tmpdf.transpose()\n",
    "tmpdf.columns = ['FINST_ORGNR', 'INSTLISTE_HALE']"
   ]
  },
  {
   "cell_type": "code",
   "execution_count": null,
   "id": "0106ea9f-90df-4879-80fd-67a078b725d6",
   "metadata": {},
   "outputs": [],
   "source": [
    "df_til_instlist2 = df_til_instlist2.rename(columns={'ORGNR': 'FINST_ORGNR'})"
   ]
  },
  {
   "cell_type": "code",
   "execution_count": null,
   "id": "37e5c0df-6915-4290-b80e-b47a4f1fc796",
   "metadata": {
    "tags": []
   },
   "outputs": [],
   "source": [
    "skj39 = pd.merge(skj39, df_til_instlist2, how=\"left\", on=\"FINST_ORGNR\")\n",
    "skj39 = pd.merge(skj39, tmpdf, how=\"left\", on=\"FINST_ORGNR\")\n",
    "skj39['INSTLISTE_HALE'] = skj39['INSTLISTE_HALE'].fillna(\"\\\\n\\\\n\\\\n\\\\n\\\\n\\\\n\\\\n\\\\n\\\\n\\\\n\\\\n\")\n",
    "skj39['antall_n_mangler'] = skj39['INSTLISTE_HALE'].apply(lambda x: 11-x.count(\"\\\\n\"))\n",
    "skj39['INSTLIST'] = skj39.apply(lambda x: x.orgnr_navn + \\\n",
    "                                            \"\\\\n\" + \\\n",
    "                                            x.INSTLISTE_HALE + \\\n",
    "                                            x.antall_n_mangler * (\"\\\\n\"),\n",
    "                                  axis=1)"
   ]
  },
  {
   "cell_type": "code",
   "execution_count": null,
   "id": "796ba384-ab8c-4d08-b5e5-7c6c4c810d14",
   "metadata": {},
   "outputs": [],
   "source": [
    "institusjonstype = {\n",
    "    451: 'Psykisk helsevern for barn og unge',\n",
    "    461: 'Somatiske sykehus',\n",
    "    381: 'Rusmiddelinstitusjoner',\n",
    "    441: 'Psykisk helsevern for voksne',\n",
    "    47:  'Somatiske rehab.-og opptr.inst.'\n",
    "}\n",
    "\n",
    "skj39 = skj39.rename(columns={'H_VAR2_N': 'INSTTYPE'})\n",
    "skj39['INSTTYPE'] = skj39['INSTTYPE'].map(institusjonstype)"
   ]
  },
  {
   "cell_type": "code",
   "execution_count": null,
   "id": "c25b3fad-2b91-4282-8a06-51c830408764",
   "metadata": {},
   "outputs": [],
   "source": [
    "# Hvis FORETAK_NAVN er tom, bruk NAVN1 fra SFU:\n",
    "skj39.loc[skj39['FORETAK_NAVN'].isnull(),'FORETAK_NAVN'] = skj39['NAVN1']"
   ]
  },
  {
   "cell_type": "code",
   "execution_count": null,
   "id": "864ec59f-e117-457e-a7c1-f97de9f8a546",
   "metadata": {},
   "outputs": [],
   "source": [
    "# Tar kun vare på de kolonnene jeg spesifiserte i begynnelsen\n",
    "skj39 = skj39[kolonner]"
   ]
  },
  {
   "cell_type": "markdown",
   "id": "c19ec2ab-6fd9-4460-bb55-1df02ea47ea7",
   "metadata": {},
   "source": [
    "### skj44P (Psykisk helsevern for voksne (PHFV), private helseforetak)"
   ]
  },
  {
   "cell_type": "code",
   "execution_count": null,
   "id": "45c98499-57bb-499b-b3af-75cf327e0410",
   "metadata": {
    "tags": []
   },
   "outputs": [],
   "source": [
    "# Henter døgnplasser fra foregående år\n",
    "d_plass_fjor = (skjemadata44P[['FINST_ORGNR','D_PLAS_T']].reset_index().copy()\n",
    "                [['FINST_ORGNR','D_PLAS_T']]\n",
    "                .rename(columns={'D_PLAS_T': 'D_PLAS_FJOR'}))"
   ]
  },
  {
   "cell_type": "code",
   "execution_count": null,
   "id": "ab2b6063-3a56-40b7-851c-7d3240d50217",
   "metadata": {},
   "outputs": [],
   "source": [
    "# kolonner som skal være med i dropdownlisten:\n",
    "kolonner = ['USERID',\n",
    "            'REGION_NR',\n",
    "            'REGION_NAVN',\n",
    "            'FORETAK_ORGNR',\n",
    "            'FORETAK_NAVN',\n",
    "            'FINST_ORGNR',\n",
    "            'FINST_NAVN',\n",
    "            'INSTLIST',\n",
    "            'D_PLAS_FJOR']\n",
    "\n",
    "skj44P = tabell_som_inneholder_skjema(SFUklass, 'SKJEMA_TYPE', \"441\").copy()\n",
    "skj44P = skj44P.rename(columns = {\"ORGNR_FORETAK\": \"FORETAK_ORGNR\",\n",
    "                                   \"NAVN\": \"FINST_NAVN\",\n",
    "                                   'ORGNR':'FINST_ORGNR',\n",
    "                                   'HELSEREGION':'REGION_NR',\n",
    "                                   'RHF':'REGION_NAVN'})\n",
    "\n",
    "# USERID er alltid foretaksnummer\n",
    "skj44P['USERID'] = skj44P['FORETAK_ORGNR']\n",
    "\n",
    "# Lager omrisset av endelig tabell ved å plukke ut relevante kolonner\n",
    "skj44P = skj44P[[\"USERID\", \"REGION_NR\", \"REGION_NAVN\", \"FORETAK_ORGNR\", \"FINST_NAVN\", \"FINST_ORGNR\"] +\n",
    "                hvar_kolonner +\n",
    "                [\"SN07_1\", \"SN07_2\", \"SN07_3\"]]\n"
   ]
  },
  {
   "cell_type": "code",
   "execution_count": null,
   "id": "5c188c90-7620-4789-951e-9ecc4ad0cda1",
   "metadata": {},
   "outputs": [],
   "source": [
    "# Importerer riktig regionnummer fra KLASS og gir foretak som ikke er offentlige betegnelsen \"PRIVATE INSTITUSJONER\"\n",
    "skj44P = pd.merge(skj44P, RHF_kode_klass[[\"HELSEREGION\", \"RHF\"]], how=\"left\" , left_on=\"REGION_NR\", right_on=\"HELSEREGION\")\n",
    "\n",
    "skj44P['REGION_NAVN'] = skj44P['RHF']\n",
    "skj44P.REGION_NAVN = skj44P.REGION_NAVN.fillna(\"PRIVATE INSTITUSJONER\")"
   ]
  },
  {
   "cell_type": "code",
   "execution_count": null,
   "id": "20b52d04-c64c-44c9-bc0a-45871a87630c",
   "metadata": {},
   "outputs": [],
   "source": [
    "# Henter foretaksnavn til virksomhetene fra SFU\n",
    "foretaksnr44P = skj44P.FORETAK_ORGNR.unique()\n",
    "foretaksnr44P = pd.DataFrame(foretaksnr44P)\n",
    "foretaksnr44P.columns = [\"ORGNR_FORETAK\"]\n",
    "\n",
    "finn_foretaksnavn = pd.merge(foretaksnr44P, SFUklass[[\"ORGNR\", \"NAVN\"]], how=\"left\", left_on=\"ORGNR_FORETAK\", right_on=\"ORGNR\")\n",
    "finn_foretaksnavn = finn_foretaksnavn[[\"ORGNR_FORETAK\", \"NAVN\"]]\n",
    "finn_foretaksnavn = finn_foretaksnavn.rename(columns={\"NAVN\": \"FORETAK_NAVN\", \n",
    "                                                      \"ORGNR_FORETAK\": \"FORETAK_ORGNR\"})\n",
    "\n",
    "skj44P = pd.merge(skj44P, finn_foretaksnavn, how=\"left\", on=\"FORETAK_ORGNR\")"
   ]
  },
  {
   "cell_type": "code",
   "execution_count": null,
   "id": "9d3fb2c9-4612-4414-8b31-d9e3c2679fd4",
   "metadata": {},
   "outputs": [],
   "source": [
    "skj44P = skj44P[[\"USERID\", \"REGION_NR\", \"REGION_NAVN\", \"FORETAK_ORGNR\", \"FORETAK_NAVN\", \"FINST_NAVN\",\"FINST_ORGNR\"] +\n",
    "                ['H_VAR2_N'] +\n",
    "                [\"SN07_1\"]]\n"
   ]
  },
  {
   "cell_type": "code",
   "execution_count": null,
   "id": "c0a09a22-9e22-4889-b0c4-9188599675a1",
   "metadata": {},
   "outputs": [],
   "source": [
    "# lager kolonnen INSTLIST med riktig antall \\n for at det skal passe med skjema. \n",
    "# Passer på at rapporteringsenhet kommer først i listen. (Enhet med H_VAR1_A lik orgnummer)\n",
    "\n",
    "finst_orgnr44P = pd.DataFrame(skj44P['FINST_ORGNR'])\n",
    "\n",
    "df_til_instlist1 = pd.merge(SFUklass, finst_orgnr44P, left_on=\"H_VAR1_A\", right_on=\"FINST_ORGNR\")\n",
    "df_til_instlist1['rapporterer_til_annen_virksomhet'] = (df_til_instlist1.ORGNR != df_til_instlist1.H_VAR1_A)\n",
    "df_til_instlist1 = df_til_instlist1[['NAVN', 'ORGNR', \"FINST_ORGNR\", 'rapporterer_til_annen_virksomhet']]\n",
    "df_til_instlist1['orgnr_navn'] = df_til_instlist1['ORGNR'] + \" - \" + df_til_instlist1['NAVN']\n",
    "\n",
    "df_til_instlist2 = df_til_instlist1.query('~rapporterer_til_annen_virksomhet')[['ORGNR', 'orgnr_navn']]\n",
    "df_til_instlist3 = df_til_instlist1.query('rapporterer_til_annen_virksomhet')[[\"FINST_ORGNR\", 'orgnr_navn']]\n"
   ]
  },
  {
   "cell_type": "code",
   "execution_count": null,
   "id": "11371cd0-83a6-454f-b95a-d0f9e49dd042",
   "metadata": {},
   "outputs": [],
   "source": [
    "# mellomsteg for å legge institusjonene horisontalt ved siden av rapporteringsnummeret\n",
    "tmpdf = -1\n",
    "for finst_orgnr in df_til_instlist2.ORGNR.unique():\n",
    "    instliste = \"\\\\n\".join(df_til_instlist3.query(f'FINST_ORGNR==\"{finst_orgnr}\"').orgnr_navn)\n",
    "    if len(instliste) > 0:\n",
    "        if type(tmpdf) == int:\n",
    "            tmpdf = pd.DataFrame([finst_orgnr, instliste])\n",
    "        else:\n",
    "            nytt_tillegg = pd.DataFrame([finst_orgnr, instliste])\n",
    "            tmpdf = pd.concat([tmpdf, nytt_tillegg], axis=1)\n",
    "\n",
    "tmpdf = tmpdf.transpose()\n",
    "tmpdf.columns = ['FINST_ORGNR', 'INSTLISTE_HALE']"
   ]
  },
  {
   "cell_type": "code",
   "execution_count": null,
   "id": "f6430f41-b9c0-45b5-96c1-f07d2082d583",
   "metadata": {},
   "outputs": [],
   "source": [
    "df_til_instlist2 = df_til_instlist2.rename(columns={'ORGNR': 'FINST_ORGNR'})"
   ]
  },
  {
   "cell_type": "code",
   "execution_count": null,
   "id": "ceb0802f-fc55-4ea8-b60f-033eeedb31b2",
   "metadata": {
    "tags": []
   },
   "outputs": [],
   "source": [
    "skj44P = pd.merge(skj44P, df_til_instlist2, how=\"left\", on=\"FINST_ORGNR\")\n",
    "skj44P = pd.merge(skj44P, tmpdf, how=\"left\", on=\"FINST_ORGNR\")\n",
    "skj44P['INSTLISTE_HALE'] = skj44P['INSTLISTE_HALE'].fillna(\"\\\\n\\\\n\\\\n\\\\n\\\\n\\\\n\\\\n\\\\n\\\\n\\\\n\\\\n\")\n",
    "skj44P['antall_n_mangler'] = skj44P['INSTLISTE_HALE'].apply(lambda x: 11-x.count(\"\\\\n\"))\n",
    "skj44P['INSTLIST'] = skj44P.apply(lambda x: x.orgnr_navn + \\\n",
    "                                            \"\\\\n\" + \\\n",
    "                                            x.INSTLISTE_HALE + \\\n",
    "                                            x.antall_n_mangler * (\"\\\\n\"),\n",
    "                                  axis=1)"
   ]
  },
  {
   "cell_type": "code",
   "execution_count": null,
   "id": "412794aa-cdc3-4cfb-8f42-9ca67474e8c7",
   "metadata": {},
   "outputs": [],
   "source": [
    "skj44P = pd.merge(skj44P, d_plass_fjor, how=\"left\", on=\"FINST_ORGNR\")"
   ]
  },
  {
   "cell_type": "code",
   "execution_count": null,
   "id": "ba5a6989-7093-4a3a-a5ea-248e6705788f",
   "metadata": {},
   "outputs": [],
   "source": [
    "# Tar kun vare på de kolonnene jeg spesifiserte i begynnelsen \n",
    "skj44P = skj44P[kolonner]"
   ]
  },
  {
   "cell_type": "markdown",
   "id": "01a3d06b-f2ce-4c11-90c7-61fe1743beaa",
   "metadata": {},
   "source": [
    "### skj45P (Psykisk helsevern for barn og unge (PHBU/BUP), private helseforetak)"
   ]
  },
  {
   "cell_type": "code",
   "execution_count": null,
   "id": "90205100-b583-4e46-a2ec-eab5db7edadf",
   "metadata": {
    "tags": []
   },
   "outputs": [],
   "source": [
    "# Henter døgnplasser fra foregående år\n",
    "d_plass_fjor = (skjemadata45P[['FINST_ORGNR','D_PLAS_T']].reset_index().copy()\n",
    "                [['FINST_ORGNR','D_PLAS_T']]\n",
    "                .rename(columns={'D_PLAS_T': 'D_PLAS_FJOR'}))"
   ]
  },
  {
   "cell_type": "code",
   "execution_count": null,
   "id": "973d9d1a-f939-4cd6-bd06-95e3bc889398",
   "metadata": {},
   "outputs": [],
   "source": [
    "# kolonner som skal være med i dropdownlisten:\n",
    "kolonner = \"USERID\tREGION_NR\tREGION_NAVN\tFORETAK_ORGNR\tFORETAK_NAVN\tFINST_ORGNR\tFINST_NAVN\tINSTLIST\tD_PLAS_FJOR\".split(\"\t\")\n",
    "\n",
    "skj45P = tabell_som_inneholder_skjema(SFUklass, 'SKJEMA_TYPE', \"451\").copy()\n",
    "skj45P = skj45P.rename(columns = {\"ORGNR_FORETAK\": \"FORETAK_ORGNR\",\n",
    "                                   \"NAVN\": \"FINST_NAVN\",\n",
    "                                   'ORGNR':'FINST_ORGNR',\n",
    "                                   'HELSEREGION':'REGION_NR',\n",
    "                                   'RHF':'REGION_NAVN'})\n",
    "\n",
    "# USERID er alltid foretaksnummer\n",
    "skj45P['USERID'] = skj45P['FORETAK_ORGNR']\n",
    "\n",
    "# Lager omrisset av endelig tabell ved å plukke ut relevante kolonner\n",
    "skj45P = skj45P[[\"USERID\", \"REGION_NR\", \"REGION_NAVN\", \"FORETAK_ORGNR\", \"FINST_NAVN\", \"FINST_ORGNR\"] +\n",
    "                hvar_kolonner +\n",
    "                [\"SN07_1\", \"SN07_2\", \"SN07_3\"]]\n"
   ]
  },
  {
   "cell_type": "code",
   "execution_count": null,
   "id": "a44dfa94-0b81-4e56-acbd-82ad04c4fccf",
   "metadata": {},
   "outputs": [],
   "source": [
    "# Importerer riktig regionnummer fra KLASS og gir foretak som ikke er offentlige betegnelsen \"PRIVATE INSTITUSJONER\"\n",
    "skj45P = pd.merge(skj45P, RHF_kode_klass[[\"HELSEREGION\", \"RHF\"]], how=\"left\" , left_on=\"REGION_NR\", right_on=\"HELSEREGION\")\n",
    "\n",
    "skj45P['REGION_NAVN'] = skj45P['RHF']\n",
    "skj45P.REGION_NAVN = skj45P.REGION_NAVN.fillna(\"PRIVATE INSTITUSJONER\")"
   ]
  },
  {
   "cell_type": "code",
   "execution_count": null,
   "id": "550661e5-7be8-41b4-80ca-f84bda1036f7",
   "metadata": {},
   "outputs": [],
   "source": [
    "# Henter foretaksnavn til virksomhetene fra SFU\n",
    "foretaksnr45P = skj45P.FORETAK_ORGNR.unique()\n",
    "foretaksnr45P = pd.DataFrame(foretaksnr45P)\n",
    "foretaksnr45P.columns = [\"ORGNR_FORETAK\"]\n",
    "\n",
    "finn_foretaksnavn = pd.merge(foretaksnr45P, SFUklass[[\"ORGNR\", \"NAVN\"]], how=\"left\", left_on=\"ORGNR_FORETAK\", right_on=\"ORGNR\")\n",
    "finn_foretaksnavn = finn_foretaksnavn[[\"ORGNR_FORETAK\", \"NAVN\"]]\n",
    "finn_foretaksnavn = finn_foretaksnavn.rename(columns={\"NAVN\": \"FORETAK_NAVN\", \n",
    "                                                      \"ORGNR_FORETAK\": \"FORETAK_ORGNR\"})\n",
    "\n",
    "skj45P = pd.merge(skj45P, finn_foretaksnavn, how=\"left\", on=\"FORETAK_ORGNR\")"
   ]
  },
  {
   "cell_type": "code",
   "execution_count": null,
   "id": "cc0ed9c5-960a-4b5f-ac25-fdc80280e222",
   "metadata": {},
   "outputs": [],
   "source": [
    "skj45P = skj45P[[\"USERID\", \"REGION_NR\", \"REGION_NAVN\", \"FORETAK_ORGNR\", \"FORETAK_NAVN\", \"FINST_NAVN\",\"FINST_ORGNR\"] +\n",
    "                ['H_VAR2_N'] +\n",
    "                [\"SN07_1\"]]\n"
   ]
  },
  {
   "cell_type": "code",
   "execution_count": null,
   "id": "979f0ae2-45db-498f-a5e4-337b3f7e6e61",
   "metadata": {},
   "outputs": [],
   "source": [
    "# lager kolonnen INSTLIST med riktig antall \\n for at det skal passe med skjema. \n",
    "# Passer på at rapporteringsenhet kommer først i listen. (Enhet med H_VAR1_A lik orgnummer)\n",
    "\n",
    "finst_orgnr45P = pd.DataFrame(skj45P['FINST_ORGNR'])\n",
    "\n",
    "df_til_instlist1 = pd.merge(SFUklass, finst_orgnr45P, left_on=\"H_VAR1_A\", right_on=\"FINST_ORGNR\")\n",
    "df_til_instlist1['rapporterer_til_annen_virksomhet'] = (df_til_instlist1.ORGNR != df_til_instlist1.H_VAR1_A)\n",
    "df_til_instlist1 = df_til_instlist1[['NAVN', 'ORGNR', \"FINST_ORGNR\", 'rapporterer_til_annen_virksomhet']]\n",
    "df_til_instlist1['orgnr_navn'] = df_til_instlist1['ORGNR'] + \" - \" + df_til_instlist1['NAVN']\n",
    "\n",
    "df_til_instlist2 = df_til_instlist1.query('~rapporterer_til_annen_virksomhet')[['ORGNR', 'orgnr_navn']]\n",
    "df_til_instlist3 = df_til_instlist1.query('rapporterer_til_annen_virksomhet')[[\"FINST_ORGNR\", 'orgnr_navn']]\n"
   ]
  },
  {
   "cell_type": "code",
   "execution_count": null,
   "id": "1d0b3bbd-ddd1-47c5-b2e0-76b99f36351d",
   "metadata": {},
   "outputs": [],
   "source": [
    "# mellomsteg for å legge institusjonene horisontalt ved siden av rapporteringsnummeret\n",
    "tmpdf = -1\n",
    "for finst_orgnr in df_til_instlist2.ORGNR.unique():\n",
    "    instliste = \"\\\\n\".join(df_til_instlist3.query(f'FINST_ORGNR==\"{finst_orgnr}\"').orgnr_navn)\n",
    "    if len(instliste) > 0:\n",
    "        if type(tmpdf) == int:\n",
    "            tmpdf = pd.DataFrame([finst_orgnr, instliste])\n",
    "        else:\n",
    "            nytt_tillegg = pd.DataFrame([finst_orgnr, instliste])\n",
    "            tmpdf = pd.concat([tmpdf, nytt_tillegg], axis=1)\n",
    "\n",
    "if type(tmpdf) != int:\n",
    "    tmpdf = tmpdf.transpose()\n",
    "    tmpdf.columns = ['FINST_ORGNR', 'INSTLISTE_HALE']"
   ]
  },
  {
   "cell_type": "code",
   "execution_count": null,
   "id": "77a1c9e1-9dd6-460d-91d7-4e015a9a6a46",
   "metadata": {},
   "outputs": [],
   "source": [
    "df_til_instlist2 = df_til_instlist2.rename(columns={'ORGNR': 'FINST_ORGNR'})"
   ]
  },
  {
   "cell_type": "code",
   "execution_count": null,
   "id": "4c581b81-596a-481d-ad40-4b1b46f35069",
   "metadata": {
    "tags": []
   },
   "outputs": [],
   "source": [
    "skj45P = pd.merge(skj45P, df_til_instlist2, how=\"left\", on=\"FINST_ORGNR\")\n",
    "if type(tmpdf) != int:\n",
    "    skj45P = pd.merge(skj45P, tmpdf, how=\"left\", on=\"FINST_ORGNR\")\n",
    "    skj45P['INSTLISTE_HALE'] = skj45P['INSTLISTE_HALE'].fillna(\"\\\\n\\\\n\\\\n\\\\n\\\\n\\\\n\\\\n\\\\n\\\\n\\\\n\\\\n\")\n",
    "else:\n",
    "    skj45P['INSTLISTE_HALE'] = \"\\\\n\\\\n\\\\n\\\\n\\\\n\\\\n\\\\n\\\\n\\\\n\\\\n\\\\n\"\n",
    "\n",
    "skj45P['antall_n_mangler'] = skj45P['INSTLISTE_HALE'].apply(lambda x: 11-x.count(\"\\\\n\"))\n",
    "skj45P['INSTLIST'] = skj45P.apply(lambda x: x.orgnr_navn + \\\n",
    "                                            \"\\\\n\" + \\\n",
    "                                            x.INSTLISTE_HALE + \\\n",
    "                                            x.antall_n_mangler * (\"\\\\n\"),\n",
    "                                  axis=1)"
   ]
  },
  {
   "cell_type": "code",
   "execution_count": null,
   "id": "f14e28fb-bf4d-4e93-b1c6-bc9e48650c39",
   "metadata": {},
   "outputs": [],
   "source": [
    "skj45P = pd.merge(skj45P, d_plass_fjor, how=\"left\", on=\"FINST_ORGNR\")"
   ]
  },
  {
   "cell_type": "code",
   "execution_count": null,
   "id": "ef885b58-cf4a-43a4-b1ea-092246e5fb94",
   "metadata": {
    "tags": []
   },
   "outputs": [],
   "source": [
    "# Tar kun vare på de kolonnene jeg spesifiserte i begynnelsen \n",
    "skj45P = skj45P[kolonner]"
   ]
  },
  {
   "cell_type": "markdown",
   "id": "da0a2492-3548-46c6-a4dd-bc17fa6fce67",
   "metadata": {},
   "source": [
    "### skj46P (Somatiske sykehus, private helseforetak)"
   ]
  },
  {
   "cell_type": "code",
   "execution_count": null,
   "id": "595a5c55-87de-45cc-ac5a-68856e63f223",
   "metadata": {
    "tags": []
   },
   "outputs": [],
   "source": [
    "# Henter døgnplasser fra foregående år\n",
    "d_plass_fjor = (skjemadata46P[['ORGNR_VIRK1','SEN_HT', 'SDGN_HT']].reset_index().copy()\n",
    "                [['ORGNR_VIRK1','SEN_HT', 'SDGN_HT']]\n",
    "                .rename(columns={'SEN_HT': 'SEN_HT_FJOR',\n",
    "                                 'SDGN_HT': 'SDGN_HT_FJOR',\n",
    "                                 'ORGNR_VIRK1': 'FINST_ORGNR'}))"
   ]
  },
  {
   "cell_type": "code",
   "execution_count": null,
   "id": "945afad8-acbd-4f22-bc64-b6dd066a83c2",
   "metadata": {},
   "outputs": [],
   "source": [
    "# kolonner som skal være med i dropdownlisten:\n",
    "kolonner = ['USERID',\n",
    "            'REGION_NR',\n",
    "            'REGION_NAVN',\n",
    "            'FORETAK_ORGNR',\n",
    "            'FORETAK_NAVN',\n",
    "            'FINST_ORGNR',\n",
    "            'FINST_NAVN',\n",
    "            'INSTLIST',\n",
    "            'SEN_HT_FJOR',\n",
    "            'SDGN_HT_FJOR']\n",
    "\n",
    "skj46P = tabell_som_inneholder_skjema(SFUklass, 'SKJEMA_TYPE', \"461\").copy()\n",
    "skj46P = skj46P.rename(columns = {\"ORGNR_FORETAK\": \"FORETAK_ORGNR\",\n",
    "                                   \"NAVN\": \"FINST_NAVN\",\n",
    "                                   'ORGNR':'FINST_ORGNR',\n",
    "                                   'HELSEREGION':'REGION_NR',\n",
    "                                   'RHF':'REGION_NAVN'})\n",
    "\n",
    "# USERID er alltid foretaksnummer\n",
    "skj46P['USERID'] = skj46P['FORETAK_ORGNR']\n",
    "\n",
    "# Lager omrisset av endelig tabell ved å plukke ut relevante kolonner\n",
    "skj46P = skj46P[[\"USERID\", \"REGION_NR\", \"REGION_NAVN\", \"FORETAK_ORGNR\", \"FINST_NAVN\", \"FINST_ORGNR\", \"NAVN1\"] +\n",
    "                hvar_kolonner +\n",
    "                [\"SN07_1\", \"SN07_2\", \"SN07_3\"]]\n"
   ]
  },
  {
   "cell_type": "code",
   "execution_count": null,
   "id": "3da07b0b-464c-4db2-98f8-46503b06d582",
   "metadata": {},
   "outputs": [],
   "source": [
    "# Importerer riktig regionnummer fra KLASS og gir foretak som ikke er offentlige betegnelsen \"PRIVATE INSTITUSJONER\"\n",
    "skj46P = pd.merge(skj46P, RHF_kode_klass[[\"HELSEREGION\", \"RHF\"]], how=\"left\" , left_on=\"REGION_NR\", right_on=\"HELSEREGION\")\n",
    "\n",
    "skj46P['REGION_NAVN'] = skj46P['RHF']\n",
    "skj46P.REGION_NAVN = skj46P.REGION_NAVN.fillna(\"PRIVATE INSTITUSJONER\")"
   ]
  },
  {
   "cell_type": "code",
   "execution_count": null,
   "id": "d808dcdd-9b67-4d9e-bd80-3f9e5a704baf",
   "metadata": {},
   "outputs": [],
   "source": [
    "# Henter foretaksnavn til virksomhetene fra SFU\n",
    "foretaksnr46P = skj46P.FORETAK_ORGNR.unique()\n",
    "foretaksnr46P = pd.DataFrame(foretaksnr46P)\n",
    "foretaksnr46P.columns = [\"ORGNR_FORETAK\"]\n",
    "\n",
    "finn_foretaksnavn = pd.merge(foretaksnr46P, SFUklass[[\"ORGNR\", \"NAVN\"]], how=\"left\", left_on=\"ORGNR_FORETAK\", right_on=\"ORGNR\")\n",
    "finn_foretaksnavn = finn_foretaksnavn[[\"ORGNR_FORETAK\", \"NAVN\"]]\n",
    "finn_foretaksnavn = finn_foretaksnavn.rename(columns={\"NAVN\": \"FORETAK_NAVN\", \n",
    "                                                      \"ORGNR_FORETAK\": \"FORETAK_ORGNR\"})\n",
    "\n",
    "skj46P = pd.merge(skj46P, finn_foretaksnavn, how=\"left\", on=\"FORETAK_ORGNR\")"
   ]
  },
  {
   "cell_type": "code",
   "execution_count": null,
   "id": "067c8e3b-748b-4aee-a42a-02a5379c68df",
   "metadata": {},
   "outputs": [],
   "source": [
    "skj46P = skj46P[[\"USERID\", \"REGION_NR\", \"REGION_NAVN\", \"FORETAK_ORGNR\", \"FORETAK_NAVN\", \"NAVN1\", \"FINST_NAVN\",\"FINST_ORGNR\"] +\n",
    "                ['H_VAR2_N'] +\n",
    "                [\"SN07_1\"]]\n"
   ]
  },
  {
   "cell_type": "code",
   "execution_count": null,
   "id": "f6b30195-a28c-4592-8495-bcea6e57603e",
   "metadata": {},
   "outputs": [],
   "source": [
    "# lager kolonnen INSTLIST med riktig antall \\n for at det skal passe med skjema. \n",
    "# Passer på at rapporteringsenhet kommer først i listen. (Enhet med H_VAR1_A lik orgnummer)\n",
    "\n",
    "finst_orgnr46P = pd.DataFrame(skj46P['FINST_ORGNR'])\n",
    "\n",
    "df_til_instlist1 = pd.merge(SFUklass, finst_orgnr46P, left_on=\"H_VAR1_A\", right_on=\"FINST_ORGNR\")\n",
    "df_til_instlist1['rapporterer_til_annen_virksomhet'] = (df_til_instlist1.ORGNR != df_til_instlist1.H_VAR1_A)\n",
    "df_til_instlist1 = df_til_instlist1[['NAVN', 'ORGNR', \"FINST_ORGNR\", 'rapporterer_til_annen_virksomhet']]\n",
    "df_til_instlist1['orgnr_navn'] = df_til_instlist1['ORGNR'] + \" - \" + df_til_instlist1['NAVN']\n",
    "\n",
    "df_til_instlist2 = df_til_instlist1.query('~rapporterer_til_annen_virksomhet')[['ORGNR', 'orgnr_navn']]\n",
    "df_til_instlist3 = df_til_instlist1.query('rapporterer_til_annen_virksomhet')[[\"FINST_ORGNR\", 'orgnr_navn']]\n"
   ]
  },
  {
   "cell_type": "code",
   "execution_count": null,
   "id": "b7415b92-d3e5-414c-a4c7-76144864c5e2",
   "metadata": {},
   "outputs": [],
   "source": [
    "# mellomsteg for å legge institusjonene horisontalt ved siden av rapporteringsnummeret\n",
    "tmpdf = -1\n",
    "for finst_orgnr in df_til_instlist2.ORGNR.unique():\n",
    "    instliste = \"\\\\n\".join(df_til_instlist3.query(f'FINST_ORGNR==\"{finst_orgnr}\"').orgnr_navn)\n",
    "    if len(instliste) > 0:\n",
    "        if type(tmpdf) == int:\n",
    "            tmpdf = pd.DataFrame([finst_orgnr, instliste])\n",
    "        else:\n",
    "            nytt_tillegg = pd.DataFrame([finst_orgnr, instliste])\n",
    "            tmpdf = pd.concat([tmpdf, nytt_tillegg], axis=1)\n",
    "\n",
    "tmpdf = tmpdf.transpose()\n",
    "tmpdf.columns = ['FINST_ORGNR', 'INSTLISTE_HALE']"
   ]
  },
  {
   "cell_type": "code",
   "execution_count": null,
   "id": "4f56b657-143b-44b8-961b-fea4f1085fbf",
   "metadata": {},
   "outputs": [],
   "source": [
    "df_til_instlist2 = df_til_instlist2.rename(columns={'ORGNR': 'FINST_ORGNR'})"
   ]
  },
  {
   "cell_type": "code",
   "execution_count": null,
   "id": "fb3fb0ce-127d-49a8-966c-7ab30c60c20f",
   "metadata": {
    "tags": []
   },
   "outputs": [],
   "source": [
    "skj46P = pd.merge(skj46P, df_til_instlist2, how=\"left\", on=\"FINST_ORGNR\")\n",
    "skj46P = pd.merge(skj46P, tmpdf, how=\"left\", on=\"FINST_ORGNR\")\n",
    "skj46P['INSTLISTE_HALE'] = skj46P['INSTLISTE_HALE'].fillna(\"\\\\n\\\\n\\\\n\\\\n\\\\n\\\\n\\\\n\\\\n\\\\n\\\\n\\\\n\")\n",
    "skj46P['antall_n_mangler'] = skj46P['INSTLISTE_HALE'].apply(lambda x: 11-x.count(\"\\\\n\"))\n",
    "skj46P['INSTLIST'] = skj46P.apply(lambda x: x.orgnr_navn + \\\n",
    "                                            \"\\\\n\" + \\\n",
    "                                            x.INSTLISTE_HALE + \\\n",
    "                                            x.antall_n_mangler * (\"\\\\n\"),\n",
    "                                  axis=1)"
   ]
  },
  {
   "cell_type": "code",
   "execution_count": null,
   "id": "db24e761-9ad5-4fc5-9cfe-cbd1075459a7",
   "metadata": {},
   "outputs": [],
   "source": [
    "skj46P = pd.merge(skj46P, d_plass_fjor, how=\"left\", on=\"FINST_ORGNR\")"
   ]
  },
  {
   "cell_type": "code",
   "execution_count": null,
   "id": "e9c956a4-34bd-4c67-b8c4-fffc3eea6065",
   "metadata": {},
   "outputs": [],
   "source": [
    "skj46P.loc[skj46P.FORETAK_NAVN.isnull(), 'FORETAK_NAVN'] = skj46P.NAVN1"
   ]
  },
  {
   "cell_type": "code",
   "execution_count": null,
   "id": "e74a8d62-fbcb-4928-8f99-01cbd56e4637",
   "metadata": {},
   "outputs": [],
   "source": [
    "# Tar kun vare på de kolonnene jeg spesifiserte i begynnelsen \n",
    "skj46P = skj46P[kolonner]"
   ]
  },
  {
   "cell_type": "markdown",
   "id": "c429402b-53c3-46e0-adfa-8bf73dedbf7f",
   "metadata": {},
   "source": [
    "### skj47 (Somatiske institusjoner)"
   ]
  },
  {
   "cell_type": "code",
   "execution_count": null,
   "id": "c5c12ba8-5ed8-4dbf-a160-654e994dce8d",
   "metadata": {
    "tags": []
   },
   "outputs": [],
   "source": [
    "# Henter døgnplasser fra foregående år\n",
    "d_plass_fjor = (skjemadata47[['FINST_ORGNR','D_HELD', 'SDGN_SUM']].reset_index().copy()\n",
    "                [['FINST_ORGNR','D_HELD', 'SDGN_SUM']]\n",
    "                .rename(columns={'D_HELD': 'D_HELD_IFJOR',\n",
    "                                 'SDGN_SUM': 'SDGN_SUM_IFJOR'}))"
   ]
  },
  {
   "cell_type": "code",
   "execution_count": null,
   "id": "849b1775-248b-4c20-a378-c81ba925ec0d",
   "metadata": {},
   "outputs": [],
   "source": [
    "# kolonner som skal være med i dropdownlisten:\n",
    "kolonner = ['USERID',\n",
    "            'REGION_NR',\n",
    "            'REGION_NAVN',\n",
    "            'FORETAK_ORGNR',\n",
    "            'FORETAK_NAVN',\n",
    "            'FINST_ORGNR',\n",
    "            'FINST_NAVN',\n",
    "            'INSTLIST',\n",
    "            'D_HELD_IFJOR',\n",
    "            'SDGN_SUM_IFJOR']\n",
    "\n",
    "skj47 = tabell_som_inneholder_skjema(SFUklass, 'SKJEMA_TYPE', \"47\").copy()\n",
    "skj47 = skj47.rename(columns = {\"ORGNR_FORETAK\": \"FORETAK_ORGNR\",\n",
    "                                   \"NAVN\": \"FINST_NAVN\",\n",
    "                                   'ORGNR':'FINST_ORGNR',\n",
    "                                   'HELSEREGION':'REGION_NR',\n",
    "                                   'RHF':'REGION_NAVN'})\n",
    "\n",
    "# USERID er alltid foretaksnummer\n",
    "skj47['USERID'] = skj47['FORETAK_ORGNR']\n",
    "\n",
    "# Lager omrisset av endelig tabell ved å plukke ut relevante kolonner\n",
    "skj47 = skj47[[\"USERID\", \"REGION_NR\", \"REGION_NAVN\", \"FORETAK_ORGNR\", \"FINST_NAVN\", \"NAVN1\", \"FINST_ORGNR\"] +\n",
    "                hvar_kolonner +\n",
    "                [\"SN07_1\", \"SN07_2\", \"SN07_3\"]]\n"
   ]
  },
  {
   "cell_type": "code",
   "execution_count": null,
   "id": "37d75c90-9229-477e-81eb-208b76d2c7cf",
   "metadata": {},
   "outputs": [],
   "source": [
    "# Importerer riktig regionnummer fra KLASS og gir foretak som ikke er offentlige betegnelsen \"PRIVATE INSTITUSJONER\"\n",
    "skj47 = pd.merge(skj47, RHF_kode_klass[[\"HELSEREGION\", \"RHF\"]], how=\"left\" , left_on=\"REGION_NR\", right_on=\"HELSEREGION\")\n",
    "\n",
    "skj47['REGION_NAVN'] = skj47['RHF']\n",
    "skj47.REGION_NAVN = skj47.REGION_NAVN.fillna(\"PRIVATE INSTITUSJONER\")"
   ]
  },
  {
   "cell_type": "code",
   "execution_count": null,
   "id": "48724db7-f4e9-49e2-8b61-6e449b9b3b45",
   "metadata": {},
   "outputs": [],
   "source": [
    "# Henter foretaksnavn til virksomhetene fra SFU\n",
    "foretaksnr47 = skj47.FORETAK_ORGNR.unique()\n",
    "foretaksnr47 = pd.DataFrame(foretaksnr47)\n",
    "foretaksnr47.columns = [\"ORGNR_FORETAK\"]\n",
    "\n",
    "finn_foretaksnavn = pd.merge(foretaksnr47, SFUklass[[\"ORGNR\", \"NAVN\"]], how=\"left\", left_on=\"ORGNR_FORETAK\", right_on=\"ORGNR\")\n",
    "finn_foretaksnavn = finn_foretaksnavn[[\"ORGNR_FORETAK\", \"NAVN\"]]\n",
    "finn_foretaksnavn = finn_foretaksnavn.rename(columns={\"NAVN\": \"FORETAK_NAVN\", \n",
    "                                                      \"ORGNR_FORETAK\": \"FORETAK_ORGNR\"})\n",
    "\n",
    "skj47 = pd.merge(skj47, finn_foretaksnavn, how=\"left\", on=\"FORETAK_ORGNR\")"
   ]
  },
  {
   "cell_type": "code",
   "execution_count": null,
   "id": "84eaeea8-c939-4a9e-8c61-63dac3e35b93",
   "metadata": {},
   "outputs": [],
   "source": [
    "skj47 = skj47[[\"USERID\", \"REGION_NR\", \"REGION_NAVN\", \"NAVN1\", \"FORETAK_ORGNR\", \"FORETAK_NAVN\", \"FINST_NAVN\",\"FINST_ORGNR\"] +\n",
    "                ['H_VAR2_N'] +\n",
    "                [\"SN07_1\"]]\n"
   ]
  },
  {
   "cell_type": "code",
   "execution_count": null,
   "id": "26f9504f-065a-493d-aa1d-46985bab2b7f",
   "metadata": {},
   "outputs": [],
   "source": [
    "# lager kolonnen INSTLIST med riktig antall \\n for at det skal passe med skjema. \n",
    "# Passer på at rapporteringsenhet kommer først i listen. (Enhet med H_VAR1_A lik orgnummer)\n",
    "\n",
    "finst_orgnr47 = pd.DataFrame(skj47['FINST_ORGNR'])\n",
    "\n",
    "df_til_instlist1 = pd.merge(SFUklass, finst_orgnr47, left_on=\"H_VAR1_A\", right_on=\"FINST_ORGNR\")\n",
    "df_til_instlist1['rapporterer_til_annen_virksomhet'] = (df_til_instlist1.ORGNR != df_til_instlist1.H_VAR1_A)\n",
    "df_til_instlist1 = df_til_instlist1[['NAVN', 'ORGNR', \"FINST_ORGNR\", 'rapporterer_til_annen_virksomhet']]\n",
    "df_til_instlist1['orgnr_navn'] = df_til_instlist1['ORGNR'] + \" - \" + df_til_instlist1['NAVN']\n",
    "\n",
    "df_til_instlist2 = df_til_instlist1.query('~rapporterer_til_annen_virksomhet')[['ORGNR', 'orgnr_navn']]\n",
    "df_til_instlist3 = df_til_instlist1.query('rapporterer_til_annen_virksomhet')[[\"FINST_ORGNR\", 'orgnr_navn']]\n"
   ]
  },
  {
   "cell_type": "code",
   "execution_count": null,
   "id": "c00258ba-39a9-480d-9ba2-d7ec51d04bc3",
   "metadata": {},
   "outputs": [],
   "source": [
    "# mellomsteg for å legge institusjonene horisontalt ved siden av rapporteringsnummeret\n",
    "tmpdf = -1\n",
    "for finst_orgnr in df_til_instlist2.ORGNR.unique():\n",
    "    instliste = \"\\\\n\".join(df_til_instlist3.query(f'FINST_ORGNR==\"{finst_orgnr}\"').orgnr_navn)\n",
    "    if len(instliste) > 0:\n",
    "        if type(tmpdf) == int:\n",
    "            tmpdf = pd.DataFrame([finst_orgnr, instliste])\n",
    "        else:\n",
    "            nytt_tillegg = pd.DataFrame([finst_orgnr, instliste])\n",
    "            tmpdf = pd.concat([tmpdf, nytt_tillegg], axis=1)\n",
    "\n",
    "tmpdf = tmpdf.transpose()\n",
    "tmpdf.columns = ['FINST_ORGNR', 'INSTLISTE_HALE']"
   ]
  },
  {
   "cell_type": "code",
   "execution_count": null,
   "id": "cf52700a-0653-4445-b5c0-6a3b2c29c4e7",
   "metadata": {},
   "outputs": [],
   "source": [
    "df_til_instlist2 = df_til_instlist2.rename(columns={'ORGNR': 'FINST_ORGNR'})"
   ]
  },
  {
   "cell_type": "code",
   "execution_count": null,
   "id": "6f5bbac4-67ea-42bf-9472-409b43116b70",
   "metadata": {
    "tags": []
   },
   "outputs": [],
   "source": [
    "skj47 = pd.merge(skj47, df_til_instlist2, how=\"left\", on=\"FINST_ORGNR\")\n",
    "skj47 = pd.merge(skj47, tmpdf, how=\"left\", on=\"FINST_ORGNR\")\n",
    "skj47['INSTLISTE_HALE'] = skj47['INSTLISTE_HALE'].fillna(\"\\\\n\\\\n\\\\n\\\\n\\\\n\\\\n\\\\n\\\\n\\\\n\\\\n\\\\n\")\n",
    "skj47['antall_n_mangler'] = skj47['INSTLISTE_HALE'].apply(lambda x: 11-x.count(\"\\\\n\"))\n",
    "skj47['INSTLIST'] = skj47.apply(lambda x: x.orgnr_navn + \\\n",
    "                                            \"\\\\n\" + \\\n",
    "                                            x.INSTLISTE_HALE + \\\n",
    "                                            x.antall_n_mangler * (\"\\\\n\"),\n",
    "                                  axis=1)"
   ]
  },
  {
   "cell_type": "code",
   "execution_count": null,
   "id": "f1942d34-51af-4d7e-8a57-0dbae50c9a13",
   "metadata": {},
   "outputs": [],
   "source": [
    "skj47 = pd.merge(skj47, d_plass_fjor, how=\"left\", on=\"FINST_ORGNR\")"
   ]
  },
  {
   "cell_type": "code",
   "execution_count": null,
   "id": "124ce545-1423-4a27-a23f-c477d119c68c",
   "metadata": {},
   "outputs": [],
   "source": [
    "# Hvis FORETAK_NAVN er tom, bruk NAVN1 fra SFU:\n",
    "skj47.loc[skj47['FORETAK_NAVN'].isnull(),'FORETAK_NAVN'] = skj47['NAVN1']"
   ]
  },
  {
   "cell_type": "code",
   "execution_count": null,
   "id": "0a84d158-c90a-47db-8e2e-fb44dc826d06",
   "metadata": {},
   "outputs": [],
   "source": [
    "# Tar kun vare på de kolonnene jeg spesifiserte i begynnelsen\n",
    "skj47 = skj47[kolonner]"
   ]
  },
  {
   "cell_type": "markdown",
   "id": "efdc8242-0b80-4228-8101-8307efe01cef",
   "metadata": {},
   "source": [
    "# Eksportering til .csv-filer og rapport"
   ]
  },
  {
   "cell_type": "code",
   "execution_count": null,
   "id": "16c06fbf-c805-454c-b621-45198ff8db58",
   "metadata": {},
   "outputs": [],
   "source": [
    "def rapport(skj):\n",
    "    rader = eval(skj).shape[0]\n",
    "    rader_med_missing = rader - eval(skj).dropna().shape[0]\n",
    "    skl = 40 * \"-\"\n",
    "    s = f\"{skl}\\n{skj}\\nRader: {rader} \\t Rader med missing: {rader_med_missing}\"\n",
    "    return s\n",
    "\n",
    "def lagre_dropliste_csv(skj):\n",
    "    filnavn = \"Dropliste_\" + skj + \"_\" + str(aargang) + \".csv\"\n",
    "    eval(skj).to_csv(sti_til_lagring + filnavn, sep=\";\", encoding='latin1', index=False)"
   ]
  },
  {
   "cell_type": "code",
   "execution_count": null,
   "id": "9da4a43c-3fde-4d2a-856c-7817cdf413fc",
   "metadata": {},
   "outputs": [],
   "source": [
    "for x in skjemaer_til_droplister:\n",
    "    print(rapport(x))"
   ]
  },
  {
   "cell_type": "code",
   "execution_count": null,
   "id": "e7eb4bc4-f904-4f4d-8162-53569e0310e4",
   "metadata": {},
   "outputs": [],
   "source": [
    "if lagre_filer == True:\n",
    "    for x in skjemaer_til_droplister:\n",
    "        lagre_dropliste_csv(x)"
   ]
  }
 ],
 "metadata": {
  "kernelspec": {
   "display_name": "Python 3",
   "language": "python",
   "name": "python3-new"
  },
  "language_info": {
   "codemirror_mode": {
    "name": "ipython",
    "version": 3
   },
   "file_extension": ".py",
   "mimetype": "text/x-python",
   "name": "python",
   "nbconvert_exporter": "python",
   "pygments_lexer": "ipython3",
   "version": "3.8.8"
  }
 },
 "nbformat": 4,
 "nbformat_minor": 5
}
