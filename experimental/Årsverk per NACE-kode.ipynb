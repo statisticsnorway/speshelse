{
 "cells": [
  {
   "cell_type": "markdown",
   "id": "6665874c-ebc2-4f7e-bdb7-e9c671a47915",
   "metadata": {},
   "source": [
    "# Introduksjon"
   ]
  },
  {
   "cell_type": "markdown",
   "id": "a6fd000f-26de-40a3-ae9e-b50c5ce1c399",
   "metadata": {},
   "source": [
    "## Forfatter(e)\n",
    "1. Magne Furuholmen Myhren"
   ]
  },
  {
   "cell_type": "markdown",
   "id": "0fb98653-5422-4f90-9a9d-e2ac1c4e26aa",
   "metadata": {},
   "source": [
    "## Bestilling\n",
    "\n",
    "Epost fra Terje Landsem, K 425 Seksjon for energi, miljø- og transport \n",
    "\n",
    "```\n",
    "Hei igjen,\n",
    "\n",
    "Skulle hatt noe data på årsverk for helsetjenester, (årsverk for nace: 86.101, 86.102 og 86.906) til statistikken over farlig avfall vi jobber med. Det er tilsvarende tall for som for 2020, for 2021-årgangen vi behøver for farlig avfall. Helst så fort som mulig 😊\n",
    "\n",
    "Mvh Terje Landsem\n",
    "```\n"
   ]
  },
  {
   "cell_type": "markdown",
   "id": "94d9bcba-6c03-4119-b041-1b2ee334ccd5",
   "metadata": {
    "toc-hr-collapsed": true
   },
   "source": [
    "# Setup"
   ]
  },
  {
   "cell_type": "markdown",
   "id": "77d9ffae-1b46-4a68-9c71-2b873029668c",
   "metadata": {},
   "source": [
    "## Velger årgang"
   ]
  },
  {
   "cell_type": "code",
   "execution_count": null,
   "id": "136506ea-99c2-4429-b794-ae5551fb5b9c",
   "metadata": {},
   "outputs": [],
   "source": [
    "aargang = 2021\n",
    "\n",
    "# Næringskoder som skal med\n",
    "naring = [\"86.101\", \"86.102\", \"86.906\"]\n",
    "\n",
    "# Kolonner fra sysskostra\n",
    "cols = [\"VIRK_ID_SSB\", \"VIRK_NAVN\", \"FRTK_ID_SSB\", \"FRTK_NAVN\", \"VIRK_NACE1_SN07\", \"ARB_AARSVERK\", \"PERS_LANGEFRA_ANDEL\", \"VIRK_HO_MERKE\"]"
   ]
  },
  {
   "cell_type": "markdown",
   "id": "12272fa6-45a5-4ea1-bdf2-67f5da1f82e3",
   "metadata": {},
   "source": [
    "## Importerer pakker og setter innstillinger"
   ]
  },
  {
   "cell_type": "code",
   "execution_count": null,
   "id": "2c7c9057-f6f3-47cb-9cb3-34e9327fbda4",
   "metadata": {},
   "outputs": [],
   "source": [
    "import numpy as np\n",
    "import pandas as pd\n",
    "\n",
    "# Fjerner begrensning på antall rader og kolonner som vises av gangen\n",
    "pd.set_option(\"display.max_columns\", None)\n",
    "pd.set_option('display.max_rows', 300)\n",
    "pd.set_option('display.max_colwidth', None)\n",
    "\n",
    "# Unngå standardform i output\n",
    "pd.set_option('display.float_format', lambda x: '%.5f' % x)"
   ]
  },
  {
   "cell_type": "markdown",
   "id": "d67b3eb9-cdc6-41cc-9e92-a18e5b52444b",
   "metadata": {},
   "source": [
    "## Laster inn personell rådata for personelldata (sysskostra)"
   ]
  },
  {
   "cell_type": "code",
   "execution_count": null,
   "id": "7ddc133b-1800-4e92-8d0f-d71ceff398e0",
   "metadata": {},
   "outputs": [],
   "source": [
    "sti = f\"/ssb/stamme01/helsep/wk24/g{str(aargang)}_sysskostra.parquet\"\n",
    "df = pd.read_parquet(sti)"
   ]
  },
  {
   "cell_type": "markdown",
   "id": "2ac5382b-3980-4e78-87db-2af29bec2305",
   "metadata": {},
   "source": [
    "# Virksomheter markert med SPES(helse)"
   ]
  },
  {
   "cell_type": "code",
   "execution_count": null,
   "id": "1b7148ac-9acd-4e73-bbb0-02c669b57cfc",
   "metadata": {},
   "outputs": [],
   "source": [
    "df1 = df[cols].copy()\n",
    "\n",
    "# Formel for å regne ut årsverk. (Trekker fra langtidsfravær)\n",
    "df1['ARSVERK_EKSKL'] = df1['ARB_AARSVERK']-(df1['ARB_AARSVERK']*df1['PERS_LANGEFRA_ANDEL'])"
   ]
  },
  {
   "cell_type": "code",
   "execution_count": null,
   "id": "3c4f456b-d03f-4072-b4a4-4de0a5b363fd",
   "metadata": {},
   "outputs": [],
   "source": [
    "df1 = df1.loc[df1['VIRK_NACE1_SN07'].isin(naring)]\n",
    "df1 = df1.loc[df1['VIRK_HO_MERKE'].isin([\"SPES\"])]"
   ]
  },
  {
   "cell_type": "code",
   "execution_count": null,
   "id": "a9fac874-8196-47f6-9a3b-96ca5de2e4f1",
   "metadata": {},
   "outputs": [],
   "source": [
    "df1 = df1.drop(columns=['ARB_AARSVERK','PERS_LANGEFRA_ANDEL'])\n",
    "\n",
    "virk_i_delreg = df1.groupby(['VIRK_ID_SSB','VIRK_NAVN','FRTK_ID_SSB','FRTK_NAVN','VIRK_NACE1_SN07']).sum()\n",
    "virk_i_delreg = virk_i_delreg.reset_index()\n",
    "\n",
    "virk_i_delreg = virk_i_delreg.rename(columns = {'ARSVERK_EKSKL': 'SUM_ARSVERK_EKSKL'})\n",
    "virk_i_delreg['SUM_ARSVERK_EKSKL'] = virk_i_delreg['SUM_ARSVERK_EKSKL'].astype(str).apply(lambda x: x.replace(\".\", \",\"))"
   ]
  },
  {
   "cell_type": "code",
   "execution_count": null,
   "id": "1a575cfc-bf34-4768-a228-2b08ea524f00",
   "metadata": {},
   "outputs": [],
   "source": [
    "virk_i_delreg.head(5)"
   ]
  },
  {
   "cell_type": "code",
   "execution_count": null,
   "id": "e756707f-78d5-45f6-a2b8-fa1b3489fa4b",
   "metadata": {},
   "outputs": [],
   "source": [
    "virk_i_delreg.shape"
   ]
  },
  {
   "cell_type": "markdown",
   "id": "fe88078e-a116-49ef-b49a-5169f8cb6c5e",
   "metadata": {},
   "source": [
    "# Virksomheter ikke markert med SPES(helse)"
   ]
  },
  {
   "cell_type": "code",
   "execution_count": null,
   "id": "02709de4-6861-4964-9e91-7205f1042ef6",
   "metadata": {},
   "outputs": [],
   "source": [
    "df1 = df[cols].copy()\n",
    "\n",
    "# Formel for å regne ut årsverk. (Trekker fra langtidsfravær)\n",
    "df1['ARSVERK_EKSKL'] = df1['ARB_AARSVERK']-(df1['ARB_AARSVERK']*df1['PERS_LANGEFRA_ANDEL'])"
   ]
  },
  {
   "cell_type": "code",
   "execution_count": null,
   "id": "cbfe4c42-34ac-4868-a899-1060ed72112b",
   "metadata": {},
   "outputs": [],
   "source": [
    "df1 = df1.loc[df1['VIRK_NACE1_SN07'].isin(naring)]\n",
    "df1 = df1.loc[~df1['VIRK_HO_MERKE'].isin([\"SPES\"])]"
   ]
  },
  {
   "cell_type": "code",
   "execution_count": null,
   "id": "dffe1822-678f-40c3-9a11-c1ca762f35c3",
   "metadata": {},
   "outputs": [],
   "source": [
    "df1 = df1.drop(columns=['ARB_AARSVERK','PERS_LANGEFRA_ANDEL'])\n",
    "\n",
    "virk_ikke_i_delreg = df1.groupby(['VIRK_ID_SSB','VIRK_NAVN','FRTK_ID_SSB','FRTK_NAVN','VIRK_NACE1_SN07']).sum()\n",
    "virk_ikke_i_delreg = virk_ikke_i_delreg.reset_index()\n",
    "\n",
    "virk_ikke_i_delreg = virk_ikke_i_delreg.rename(columns = {'ARSVERK_EKSKL': 'SUM_ARSVERK_EKSKL'})\n",
    "virk_ikke_i_delreg['SUM_ARSVERK_EKSKL'] = virk_ikke_i_delreg['SUM_ARSVERK_EKSKL'].astype(str).apply(lambda x: x.replace(\".\", \",\"))"
   ]
  },
  {
   "cell_type": "code",
   "execution_count": null,
   "id": "c1c638ca-67fa-4bee-91eb-57c7fce06230",
   "metadata": {},
   "outputs": [],
   "source": [
    "virk_ikke_i_delreg.head(5)"
   ]
  },
  {
   "cell_type": "code",
   "execution_count": null,
   "id": "d319f32c-2da2-4fea-b573-0857485a999b",
   "metadata": {},
   "outputs": [],
   "source": [
    "virk_ikke_i_delreg.shape"
   ]
  },
  {
   "cell_type": "markdown",
   "id": "efdc8242-0b80-4228-8101-8307efe01cef",
   "metadata": {},
   "source": [
    "# Eksportering til .csv-filer og lagring\n",
    "Filene lagres i samme mappe som dette .ipynb-dokumentet"
   ]
  },
  {
   "cell_type": "code",
   "execution_count": null,
   "id": "16c06fbf-c805-454c-b621-45198ff8db58",
   "metadata": {},
   "outputs": [],
   "source": [
    "def lagre_fil(skj):\n",
    "    dato_idag = pd.Timestamp(\"today\").strftime(\"%d%m%y\")\n",
    "    filnavn = \"aarsverk_etter_nace_\" + skj + \"_\" + str(aargang) + \"_\" + dato_idag + \".csv\"\n",
    "    eval(skj).to_csv(filnavn, sep=\";\", encoding='latin1', index=False)\n",
    "    print(filnavn, \" lagret\")"
   ]
  },
  {
   "cell_type": "code",
   "execution_count": null,
   "id": "e5110875-599c-438b-b6f5-912ae6176418",
   "metadata": {},
   "outputs": [],
   "source": [
    "lagre_fil(\"virk_i_delreg\")\n",
    "lagre_fil(\"virk_ikke_i_delreg\")"
   ]
  },
  {
   "cell_type": "code",
   "execution_count": null,
   "id": "552819d3-7ed5-40b0-96ce-1541e0e0e428",
   "metadata": {},
   "outputs": [],
   "source": []
  }
 ],
 "metadata": {
  "kernelspec": {
   "display_name": "Python 3",
   "language": "python",
   "name": "python3-new"
  },
  "language_info": {
   "codemirror_mode": {
    "name": "ipython",
    "version": 3
   },
   "file_extension": ".py",
   "mimetype": "text/x-python",
   "name": "python",
   "nbconvert_exporter": "python",
   "pygments_lexer": "ipython3",
   "version": "3.8.8"
  },
  "toc-autonumbering": true
 },
 "nbformat": 4,
 "nbformat_minor": 5
}
