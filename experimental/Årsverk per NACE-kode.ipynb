{
 "cells": [
  {
   "cell_type": "markdown",
   "id": "6665874c-ebc2-4f7e-bdb7-e9c671a47915",
   "metadata": {},
   "source": [
    "# Introduksjon"
   ]
  },
  {
   "cell_type": "markdown",
   "id": "a6fd000f-26de-40a3-ae9e-b50c5ce1c399",
   "metadata": {},
   "source": [
    "## Forfatter(e)\n",
    "1. Magne Furuholmen Myhren"
   ]
  },
  {
   "cell_type": "markdown",
   "id": "0fb98653-5422-4f90-9a9d-e2ac1c4e26aa",
   "metadata": {},
   "source": [
    "## Bestilling\n",
    "\n",
    "Hei igjen,\n",
    "Er tilsvarende tall for som for 2020, for 2021-årgangen vi behøver for farlig avfall. Helst så fort som mulig 😊\n",
    "Mvh Terje Landsem\n"
   ]
  },
  {
   "cell_type": "markdown",
   "id": "94d9bcba-6c03-4119-b041-1b2ee334ccd5",
   "metadata": {
    "toc-hr-collapsed": true
   },
   "source": [
    "# Setup"
   ]
  },
  {
   "cell_type": "markdown",
   "id": "77d9ffae-1b46-4a68-9c71-2b873029668c",
   "metadata": {},
   "source": [
    "## Velger årgang og delregister\n",
    "Legger også til filsti til rådata fra NPR og avtalsespesialister"
   ]
  },
  {
   "cell_type": "code",
   "execution_count": null,
   "id": "136506ea-99c2-4429-b794-ae5551fb5b9c",
   "metadata": {},
   "outputs": [],
   "source": [
    "aargang = 2020\n",
    "siste_to_siffer_aargang = str(aargang)[-2:]\n",
    "\n",
    "aar_for = aargang - 1                          # året før\n",
    "siste_to_siffer_aar_for = str(aar_for)[-2:]\n",
    "\n",
    "lagre_filer = False                            # sett til True, hvis du vil lagre droplistene\n",
    "sti_til_lagring = \"\"                           # eventell sti til lagringsmappe. \n",
    "                                               # Lagres i denne mappen hvis tom"
   ]
  },
  {
   "cell_type": "markdown",
   "id": "12272fa6-45a5-4ea1-bdf2-67f5da1f82e3",
   "metadata": {},
   "source": [
    "## Importerer pakker og setter innstillinger"
   ]
  },
  {
   "cell_type": "code",
   "execution_count": null,
   "id": "2c7c9057-f6f3-47cb-9cb3-34e9327fbda4",
   "metadata": {},
   "outputs": [],
   "source": [
    "import numpy as np\n",
    "import pandas as pd\n",
    "import cx_Oracle\n",
    "import getpass\n",
    "import os\n",
    "import matplotlib.pyplot as plt\n",
    "import requests\n",
    "from pandas.io.json import json_normalize #package for flattening json in pandas df\n",
    "\n",
    "# Fjerner begrensning på antall rader og kolonner som vises av gangen\n",
    "pd.set_option(\"display.max_columns\", None)\n",
    "pd.set_option('display.max_rows', 300)\n",
    "pd.set_option('display.max_colwidth', None)\n",
    "\n",
    "# Unngå standardform i output\n",
    "pd.set_option('display.float_format', lambda x: '%.5f' % x)"
   ]
  },
  {
   "cell_type": "markdown",
   "id": "362eb2c2-fa51-42f2-be5e-e2c5d8c52f2d",
   "metadata": {},
   "source": [
    "## Tilgang oracle"
   ]
  },
  {
   "cell_type": "code",
   "execution_count": null,
   "id": "cf68b758-87ab-499a-bc60-8bb5ecc22c5f",
   "metadata": {
    "tags": []
   },
   "outputs": [],
   "source": [
    "conn = cx_Oracle.connect(getpass.getuser()+\"/\"+getpass.getpass(prompt='Oracle-passord: ')+\"@DB1P\")"
   ]
  },
  {
   "cell_type": "markdown",
   "id": "2ac5382b-3980-4e78-87db-2af29bec2305",
   "metadata": {},
   "source": [
    "# Virksomheter markert med SPES(helse)"
   ]
  },
  {
   "cell_type": "code",
   "execution_count": null,
   "id": "7ddc133b-1800-4e92-8d0f-d71ceff398e0",
   "metadata": {},
   "outputs": [],
   "source": [
    "sti = f\"/ssb/stamme01/helsep/wk24/g{str(aargang)}_sysskostra.parquet\"\n",
    "df = pd.read_parquet(sti)"
   ]
  },
  {
   "cell_type": "code",
   "execution_count": null,
   "id": "0c8016a2-5bfe-4c7c-8581-372fa36ca844",
   "metadata": {},
   "outputs": [],
   "source": [
    "cols = \"VIRK_ID_SSB, VIRK_NAVN, FRTK_ID_SSB, FRTK_NAVN, VIRK_NACE1_SN07, ARB_AARSVERK, PERS_LANGEFRA_ANDEL, VIRK_HO_MERKE\".split(\", \")\n",
    "df1 = df[cols].copy()\n",
    "\n",
    "df1['ARSVERK_EKSKL'] = df['ARB_AARSVERK']-(df['ARB_AARSVERK']*df['PERS_LANGEFRA_ANDEL'])\n",
    "\n",
    "naring = [\"86.102\", \"86.906\", \"86.101\"]\n",
    "df1 = df1.loc[df1['VIRK_NACE1_SN07'].isin(naring)]\n",
    "\n",
    "df1 = df1.loc[df1['VIRK_HO_MERKE'].isin([\"SPES\"])]"
   ]
  },
  {
   "cell_type": "code",
   "execution_count": null,
   "id": "4ed11ebe-b736-40a5-9594-3fa8f1700f5b",
   "metadata": {},
   "outputs": [],
   "source": [
    "sumert = df1.groupby('VIRK_NACE1_SN07').sum()\n",
    "\n",
    "s1 = \"86.101,86.102,86.906\".split(\",\")\n",
    "s2 = \"351.8542,54.4438,1132.1657\".split(\",\")\n",
    "s3 = \"69019.97544,2371.582708,8281.057277\".split(\",\")"
   ]
  },
  {
   "cell_type": "code",
   "execution_count": null,
   "id": "954c76cf-341e-4cb2-8b2b-c90894731c54",
   "metadata": {},
   "outputs": [],
   "source": [
    "res = pd.DataFrame([s1,s2,s3]).T\n",
    "res.columns=[\"VIRK_NACE1_SN07\",\"virk_utenfor_delreg\", \"virk_i_delreg\"]\n",
    "res.virk_utenfor_delreg = pd.to_numeric(res.virk_utenfor_delreg, errors='coerce')\n",
    "res.virk_i_delreg = pd.to_numeric(res.virk_i_delreg, errors='coerce')"
   ]
  },
  {
   "cell_type": "code",
   "execution_count": null,
   "id": "1019eb7c-37a4-4e7e-b6f0-a4152c44b1f1",
   "metadata": {},
   "outputs": [],
   "source": [
    "sumert = pd.merge(sumert,res,on=\"VIRK_NACE1_SN07\")\n",
    "\n",
    "sumert['diff'] = sumert.ARSVERK_EKSKL - sumert.virk_i_delreg\n",
    "sumert"
   ]
  },
  {
   "cell_type": "code",
   "execution_count": null,
   "id": "a9fac874-8196-47f6-9a3b-96ca5de2e4f1",
   "metadata": {},
   "outputs": [],
   "source": [
    "df1 = df1.drop(columns=['ARB_AARSVERK','PERS_LANGEFRA_ANDEL'])\n",
    "\n",
    "virk_i_delreg_df = df1.groupby(['VIRK_ID_SSB','VIRK_NAVN','FRTK_ID_SSB','FRTK_NAVN','VIRK_NACE1_SN07']).sum()\n",
    "\n",
    "virk_i_delreg_df = virk_i_delreg_df.reset_index()\n",
    "\n",
    "\n",
    "virk_i_delreg_df.columns = [\"ORGNR\", \"VIRK_NAVN\", \"ORGNR_FORETAK_SYSK\", \"FRTK_NAVN\", \"naceny\", \"sum_aarsverk_ekskl\"]\n",
    "\n",
    "virk_i_delreg_df['sum_aarsverk_ekskl'] = virk_i_delreg_df['sum_aarsverk_ekskl'].astype(str)\n",
    "\n",
    "virk_i_delreg_df['sum_aarsverk_ekskl'] = virk_i_delreg_df['sum_aarsverk_ekskl'].apply(lambda x: x.replace(\".\", \",\"))"
   ]
  },
  {
   "cell_type": "code",
   "execution_count": null,
   "id": "e756707f-78d5-45f6-a2b8-fa1b3489fa4b",
   "metadata": {},
   "outputs": [],
   "source": []
  },
  {
   "cell_type": "markdown",
   "id": "fe88078e-a116-49ef-b49a-5169f8cb6c5e",
   "metadata": {},
   "source": [
    "# Virksomheter ikke markert med SPES(helse)"
   ]
  },
  {
   "cell_type": "code",
   "execution_count": null,
   "id": "61511f6d-f1fb-4688-9c54-f2d6a76e3a83",
   "metadata": {},
   "outputs": [],
   "source": [
    "sti = f\"/ssb/stamme01/helsep/wk24/g{str(aargang)}_sysskostra.parquet\"\n",
    "df = pd.read_parquet(sti)"
   ]
  },
  {
   "cell_type": "code",
   "execution_count": null,
   "id": "ee714cba-ffbb-4527-a09c-8a4154a8cd7d",
   "metadata": {},
   "outputs": [],
   "source": [
    "cols = \"VIRK_ID_SSB, VIRK_NAVN, FRTK_ID_SSB, FRTK_NAVN, VIRK_NACE1_SN07, ARB_AARSVERK, PERS_LANGEFRA_ANDEL, VIRK_HO_MERKE\".split(\", \")\n",
    "df1 = df[cols].copy()\n",
    "\n",
    "df1['ARSVERK_EKSKL'] = df['ARB_AARSVERK']-(df['ARB_AARSVERK']*df['PERS_LANGEFRA_ANDEL'])\n",
    "\n",
    "naring = [\"86.102\", \"86.906\", \"86.101\"]\n",
    "df1 = df1.loc[df1['VIRK_NACE1_SN07'].isin(naring)]\n",
    "\n",
    "df1 = df1.loc[~df1['VIRK_HO_MERKE'].isin([\"SPES\"])]"
   ]
  },
  {
   "cell_type": "code",
   "execution_count": null,
   "id": "d316f455-744f-4705-9cde-ada596822a84",
   "metadata": {},
   "outputs": [],
   "source": [
    "sumert = df1.groupby('VIRK_NACE1_SN07').sum()\n",
    "\n",
    "s1 = \"86.101,86.102,86.906\".split(\",\")\n",
    "s2 = \"351.8542,54.4438,1132.1657\".split(\",\")\n",
    "s3 = \"69019.97544,2371.582708,8281.057277\".split(\",\")"
   ]
  },
  {
   "cell_type": "code",
   "execution_count": null,
   "id": "aaeb2d52-536d-4674-940d-ac110f0a8b2d",
   "metadata": {},
   "outputs": [],
   "source": [
    "res = pd.DataFrame([s1,s2,s3]).T\n",
    "res.columns=[\"VIRK_NACE1_SN07\",\"virk_utenfor_delreg\", \"virk_i_delreg\"]\n",
    "res.virk_utenfor_delreg = pd.to_numeric(res.virk_utenfor_delreg, errors='coerce')\n",
    "res.virk_i_delreg = pd.to_numeric(res.virk_i_delreg, errors='coerce')"
   ]
  },
  {
   "cell_type": "code",
   "execution_count": null,
   "id": "75f33fdf-4cd5-43cb-be33-c29453ada8b9",
   "metadata": {},
   "outputs": [],
   "source": [
    "sumert = pd.merge(sumert,res,on=\"VIRK_NACE1_SN07\")\n",
    "\n",
    "sumert['diff'] = sumert.ARSVERK_EKSKL - sumert.virk_utenfor_delreg\n",
    "sumert[['ARSVERK_EKSKL', 'virk_utenfor_delreg','diff']]"
   ]
  },
  {
   "cell_type": "code",
   "execution_count": null,
   "id": "dffe1822-678f-40c3-9a11-c1ca762f35c3",
   "metadata": {},
   "outputs": [],
   "source": [
    "df1 = df1.drop(columns=['ARB_AARSVERK','PERS_LANGEFRA_ANDEL'])\n",
    "\n",
    "virk_ikke_i_delreg_df = df1.groupby(['VIRK_ID_SSB','VIRK_NAVN','FRTK_ID_SSB','FRTK_NAVN','VIRK_NACE1_SN07']).sum()\n",
    "\n",
    "virk_ikke_i_delreg_df = virk_ikke_i_delreg_df.reset_index()\n",
    "\n",
    "\n",
    "virk_ikke_i_delreg_df.columns = [\"ORGNR\", \"VIRK_NAVN\", \"ORGNR_FORETAK_SYSK\", \"FRTK_NAVN\", \"naceny\", \"sum_aarsverk_ekskl\"]\n",
    "\n",
    "virk_ikke_i_delreg_df['sum_aarsverk_ekskl'] = virk_ikke_i_delreg_df['sum_aarsverk_ekskl'].astype(str)\n",
    "\n",
    "virk_ikke_i_delreg_df['sum_aarsverk_ekskl'] = virk_ikke_i_delreg_df['sum_aarsverk_ekskl'].apply(lambda x: x.replace(\".\", \",\"))"
   ]
  },
  {
   "cell_type": "code",
   "execution_count": null,
   "id": "c1c638ca-67fa-4bee-91eb-57c7fce06230",
   "metadata": {},
   "outputs": [],
   "source": [
    "virk_ikke_i_delreg_df"
   ]
  },
  {
   "cell_type": "markdown",
   "id": "efdc8242-0b80-4228-8101-8307efe01cef",
   "metadata": {},
   "source": [
    "# Eksportering til .csv-filer og rapport"
   ]
  },
  {
   "cell_type": "code",
   "execution_count": null,
   "id": "16c06fbf-c805-454c-b621-45198ff8db58",
   "metadata": {},
   "outputs": [],
   "source": [
    "# def rapport(skj):\n",
    "#     rader = eval(skj).shape[0]\n",
    "#     kolonner = eval(skj).shape[1]\n",
    "#     rader_med_missing = rader - eval(skj).dropna().shape[0]\n",
    "#     skl = 100 * \"-\"\n",
    "#     s = f\"{skl}\\n{skj}\\t Rader: {rader} \\t Kolonner: {kolonner} \\t Rader som inneholder minst en missing value: {rader_med_missing} \"\n",
    "#     return s\n",
    "\n",
    "# def lagre_dropliste_csv(skj):\n",
    "#     dato_idag = pd.Timestamp(\"today\").strftime(\"%d%m%y\")\n",
    "#     filnavn = \"Dropliste_\" + skj + \"_\" + str(aargang) + \"_\" + dato_idag + \".csv\"\n",
    "#     eval(skj).to_csv(sti_til_lagring + filnavn, sep=\";\", encoding='latin1', index=False)\n",
    "#     print(filnavn, \" lagret\")"
   ]
  },
  {
   "cell_type": "code",
   "execution_count": null,
   "id": "9da4a43c-3fde-4d2a-856c-7817cdf413fc",
   "metadata": {},
   "outputs": [],
   "source": [
    "# for x in skjemaer_til_droplister:\n",
    "#     print(rapport(x))"
   ]
  },
  {
   "cell_type": "code",
   "execution_count": null,
   "id": "e7eb4bc4-f904-4f4d-8162-53569e0310e4",
   "metadata": {},
   "outputs": [],
   "source": [
    "# if lagre_filer:\n",
    "#     for x in skjemaer_til_droplister:\n",
    "#         lagre_dropliste_csv(x)"
   ]
  }
 ],
 "metadata": {
  "kernelspec": {
   "display_name": "Python 3",
   "language": "python",
   "name": "python3-new"
  },
  "language_info": {
   "codemirror_mode": {
    "name": "ipython",
    "version": 3
   },
   "file_extension": ".py",
   "mimetype": "text/x-python",
   "name": "python",
   "nbconvert_exporter": "python",
   "pygments_lexer": "ipython3",
   "version": "3.8.8"
  },
  "toc-autonumbering": true
 },
 "nbformat": 4,
 "nbformat_minor": 5
}
